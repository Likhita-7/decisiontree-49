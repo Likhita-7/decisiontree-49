{
  "nbformat": 4,
  "nbformat_minor": 0,
  "metadata": {
    "colab": {
      "provenance": [],
      "authorship_tag": "ABX9TyOJAoZ0eFgGD5Ab04WxfAqM",
      "include_colab_link": true
    },
    "kernelspec": {
      "name": "python3",
      "display_name": "Python 3"
    },
    "language_info": {
      "name": "python"
    }
  },
  "cells": [
    {
      "cell_type": "markdown",
      "metadata": {
        "id": "view-in-github",
        "colab_type": "text"
      },
      "source": [
        "<a href=\"https://colab.research.google.com/github/Likhita-7/decisiontree-49/blob/main/Decisiontree.ipynb\" target=\"_parent\"><img src=\"https://colab.research.google.com/assets/colab-badge.svg\" alt=\"Open In Colab\"/></a>"
      ]
    },
    {
      "cell_type": "code",
      "execution_count": 18,
      "metadata": {
        "id": "WOKCxSMVEscB"
      },
      "outputs": [],
      "source": [
        "import numpy as np\n",
        "import pandas as pd\n",
        "import matplotlib.pyplot as mtp\n",
        "from math import*\n",
        "import copy\n",
        "from graphviz import Digraph\n",
        "import random"
      ]
    },
    {
      "cell_type": "code",
      "source": [
        "datasets={'balance':['https://raw.githubusercontent.com/Likhita-7/decisiontree-49/main/balance-scale.csv','Class'],'iris':['https://raw.githubusercontent.com/Likhita-7/decisiontree-49/main/Iris.csv','Species'],'lymphography':['https://raw.githubusercontent.com/Likhita-7/decisiontree-49/main/lymph.csv','class'],'balloons':['https://raw.githubusercontent.com/Likhita-7/decisiontree-49/main/adult%2Bstretch.data.csv','inflated'],'house':['https://raw.githubusercontent.com/Likhita-7/decisiontree-49/main/house-votes-84.data.csv','republican']}\n"
      ],
      "metadata": {
        "id": "54mYP93rEyIB"
      },
      "execution_count": 139,
      "outputs": []
    },
    {
      "cell_type": "markdown",
      "source": [
        "**Implementation of Train Test Split Function**"
      ],
      "metadata": {
        "id": "MLRDhGSmE_2J"
      }
    },
    {
      "cell_type": "code",
      "source": [
        "def train_test_split(df,test_size):\n",
        "  df=df.sample(frac = 1)\n",
        "  n=len(df)\n",
        "  no_test_rows=int(n*test_size)\n",
        "  l=list(random.sample(list(range(n)), no_test_rows))\n",
        "  test=df.iloc[l]\n",
        "  train=df.drop(l,axis=0)\n",
        "  return train.sample(frac = 1),test.sample(frac = 1)"
      ],
      "metadata": {
        "id": "CtifhoafEztS"
      },
      "execution_count": 20,
      "outputs": []
    },
    {
      "cell_type": "markdown",
      "source": [
        "**Implementation of Accuracy Function**"
      ],
      "metadata": {
        "id": "vWIbuPeEFHO7"
      }
    },
    {
      "cell_type": "code",
      "source": [
        "def accuracy_score(y_true, y_pred):\n",
        "  total_count=len(y_true)\n",
        "  correct_prediction_count=0\n",
        "  for i in range(total_count):\n",
        "    if y_true[i]==y_pred[i]:\n",
        "      correct_prediction_count+=1\n",
        "  return (correct_prediction_count/total_count)*100"
      ],
      "metadata": {
        "id": "q32PLsvfE5QS"
      },
      "execution_count": 21,
      "outputs": []
    },
    {
      "cell_type": "markdown",
      "source": [
        "**Implementation of Decision Tree Algorithm**"
      ],
      "metadata": {
        "id": "2OgsKXnLFN8J"
      }
    },
    {
      "cell_type": "code",
      "source": [
        "class DecisionTree():\n",
        "  \n",
        "  ## Class Member Functions ##\n",
        "\n",
        "  def entropy_help(p):\n",
        "    return -p*log(p,2)\n",
        "  \n",
        "  def getEntropy(df,target_name):  \n",
        "    n=df.count()[0]\n",
        "    target_counts=df[target_name].value_counts().to_dict()\n",
        "    s=0\n",
        "    for p in target_counts.values():\n",
        "      if p/n==1 or p/n==0:\n",
        "        return 0\n",
        "      s+=DecisionTree.entropy_help(p/n)\n",
        "    # print(s)\n",
        "    return s\n",
        "  \n",
        "  def getProbability(df,column,value):\n",
        "    return df[df[column]==value].count()[0]/df.count()[0]\n",
        "  \n",
        "  def informationGain(df,target_name,col):\n",
        "    # print(\"Entropy of \",col,DecisionTree.getEntropy(df,target_name))\n",
        "    total_entropy=DecisionTree.getEntropy(df,target_name)\n",
        "    col_vals_count=df[col].value_counts().to_dict()\n",
        "    sum=0\n",
        "    for value in col_vals_count:\n",
        "      n=col_vals_count[value]\n",
        "      # print(\"Entropy of \",col,value,DecisionTree.getEntropy(df[df[col]==value],target_name))\n",
        "      sum+=(DecisionTree.getEntropy(df[df[col]==value],target_name)*DecisionTree.getProbability(df,col,value))\n",
        "    # print(\"IG: \",target_name,col,total_entropy-sum)\n",
        "    return total_entropy-sum\n",
        "\n",
        "  ## Class Data Members ##\n",
        "\n",
        "  split_functions={'IG':informationGain}\n",
        "  \n",
        "  ## Countructor ##\n",
        "  def __init__(self,df,target_name,split_function=\"IG\",level=-1,leaf_nodes=-1):\n",
        "    self.tree=self.Tree()\n",
        "    self.df=df\n",
        "    self.target_name=target_name\n",
        "    self.cols=list(self.df.columns)\n",
        "    self.cols.remove(self.target_name)\n",
        "    self.cnt=0\n",
        "    self.gnodes=[]\n",
        "    self.level=level\n",
        "    self.leaf_nodes=leaf_nodes\n",
        "    self.rules=[]\n",
        "    self.output_classes=self.df[self.target_name].unique()\n",
        "    if split_function in DecisionTree.split_functions:\n",
        "      self.split_function=DecisionTree.split_functions[split_function]\n",
        "    else:\n",
        "      raise Exception(\"Split function not found\")\n",
        "\n",
        "  ## Instance Methods ##\n",
        "\n",
        "  def getGraph(self):\n",
        "    return self.tree.g\n",
        "\n",
        "  def find_leaf(self,df):\n",
        "    counts=df[self.target_name].value_counts().to_dict()\n",
        "    return max(zip(counts.values(), counts.keys()))[1]\n",
        "    \n",
        "      # unique_vals=list(df[self.target_name].unique())\n",
        "      # for val in unique_vals:      \n",
        "      #   if df[df[self.target_name]==val].count()[0]==df.count()[0]:\n",
        "      #     return val\n",
        "\n",
        "  def construct(self):\n",
        "    maxig=[-1,\"\"]\n",
        "    for i in self.cols:\n",
        "      etemp=self.split_function(df,self.target_name,i)\n",
        "      maxig=maxig if maxig[0]>etemp else [etemp,i]\n",
        "    root=self.Node(maxig[1],maxig[0],0)\n",
        "    self.tree.insert_root(root)\n",
        "    c=copy.deepcopy(self.cols)\n",
        "    c.remove(root.name)\n",
        "    root.gname=str(root)\n",
        "    self.gnodes.append(root)\n",
        "    self.tree.g.node(str(root),str(root))\n",
        "    self.construct_help(df,c,root)\n",
        "\n",
        "  def construct_help(self,df,cols,parent):\n",
        "    if not parent.name:\n",
        "      return\n",
        "    vals=list(df[parent.name].unique())\n",
        "    dftemp=df\n",
        "\n",
        "    for k in vals:\n",
        "      if self.leaf_nodes!=-1 and self.tree.no_leafs>=self.leaf_nodes:\n",
        "        return\n",
        "      df=dftemp\n",
        "      df=df[df[parent.name]==k]\n",
        "      e=DecisionTree.getEntropy(df,self.target_name)\n",
        "\n",
        "      if e==0 or parent.level==self.level-1:\n",
        "        value=self.find_leaf(df)\n",
        "        node=self.Node(value,1,parent.level+1)\n",
        "        node.gname=str(value)\n",
        "        parent.insert_child(node)\n",
        "        parent.insert_edge(k)\n",
        "        self.tree.no_leafs+=1\n",
        "        name=value\n",
        "        if not isinstance(value, str):\n",
        "          name='class'\n",
        "        self.tree.g.node(name+str(self.cnt),str(value))\n",
        "        self.tree.g.edge(str(parent.gname),name+str(self.cnt),label=str(k))\n",
        "        \n",
        "        self.cnt+=1\n",
        "        continue\n",
        "      maxig=[-1,\"\"]\n",
        "      for i in cols:\n",
        "        etemp=self.split_function(df,self.target_name,i)\n",
        "        maxig=maxig if maxig[0]>etemp else [etemp,i]\n",
        "      node=self.Node(maxig[1],maxig[0],parent.level+1)\n",
        "      node.gname=str(node.name)\n",
        "      c=copy.deepcopy(cols)\n",
        "      if node.name in c:\n",
        "        c.remove(node.name)\n",
        "      name=str(node)\n",
        "\n",
        "      # checking if node name already exist in graphviz code\n",
        "      \n",
        "      if name in self.gnodes:\n",
        "        name+=str(self.cnt)\n",
        "        self.cnt+=1\n",
        "      else:\n",
        "        self.gnodes.append(name)\n",
        "      node.gname=name\n",
        "\n",
        "      parent.insert_child(node)\n",
        "      parent.insert_edge(k)\n",
        "\n",
        "      self.tree.g.node(name,str(node))\n",
        "      self.tree.g.edge(str(parent.gname),name,label=str(k))\n",
        "      \n",
        "      self.construct_help(df[df[parent.name]==k],c,node)\n",
        "      \n",
        "  def predict(self,instances,trace=False):\n",
        "    node=self.tree.root\n",
        "    op=[]\n",
        "    if isinstance(instances,dict):\n",
        "      return self.predict_help(node,instances,trace,\"\")\n",
        "    if isinstance(instances,list):\n",
        "      \n",
        "      for instance in instances:\n",
        "        op.append(self.predict_help(node,instance,trace,\"\"))\n",
        "    else:\n",
        "      n=len(instances)\n",
        "      for i in range(n):\n",
        "        instance=instances.iloc[i].to_dict()\n",
        "        op.append(self.predict_help(node,instance,trace,\"\"))\n",
        "    return op\n",
        "\n",
        "  def predict_help(self,node,instance,trace,path):\n",
        "    if node.name in self.output_classes:\n",
        "      if trace:\n",
        "        print(path+str(node))\n",
        "      return node.name\n",
        "    value=instance[node.name]\n",
        "    try:\n",
        "      path+=str(node)+\" ( \"+str(value)+\" ) -> \"\n",
        "      ind=node.edges.index(value)\n",
        "      return self.predict_help(node.childs[ind],instance,trace,path)\n",
        "    except Exception as e:\n",
        "      return \"Not valid instance, path: \"+path\n",
        "  def get_rules(self):\n",
        "    node=self.tree.root\n",
        "    self.rules_help(node,str(node.name)+\" -> \")\n",
        "    return self.rules\n",
        "\n",
        "  def rules_help(self,node,path):\n",
        "    for n,e in zip(node.childs,node.edges):\n",
        "      if n.name in self.output_classes:\n",
        "        self.rules.append(\"{} ( {} ) {}\".format(path,str(e),str(n.name)))\n",
        "      self.rules_help(n,\"{} ( {} ) {} -> \".format(path,str(e),str(n.name)))\n",
        "  \n",
        "  ## Inner classes ##\n",
        "  class Node:\n",
        "    ## Countructor ##\n",
        "    def __init__(self,name,ig,level):\n",
        "      self.name=name\n",
        "      self.ig=ig\n",
        "      self.childs=[]\n",
        "      self.edges=[]\n",
        "      self.gname=''\n",
        "      self.level=level\n",
        "\n",
        "    ## Instance Methods ##\n",
        "\n",
        "    def insert_child(self,node):\n",
        "      self.childs.append(node)\n",
        "\n",
        "    def insert_edge(self,edge):\n",
        "      self.edges.append(edge)\n",
        "\n",
        "    def printn(self,edge=\"\"):\n",
        "      # if self.childs:\n",
        "      dashes=\"|\"+\"-\"*(self.level*5)\n",
        "      value=\"( \"+str(edge)+\") \"+str(self.gname) if edge else str(self.gname)\n",
        "      # print(\" \"*(self.level*2+1),''.join(['-']*31))\n",
        "      # print(dashes,'|{:^15} - level - {:^2} | '.format(self.gname,self.level),list(zip(self.edges,list(map(lambda x:x.gname,self.childs)))))\n",
        "      # print(\" \"*(self.level*2+1),''.join(['-']*31))\n",
        "      print(dashes,value)\n",
        "\n",
        "    def __str__(self):\n",
        "      return str(self.name)\n",
        "\n",
        "  class Tree:\n",
        "\n",
        "    ## Countructor ##\n",
        "    def __init__(self):\n",
        "      self.root=None\n",
        "      self.g=Digraph(encoding='utf-8')\n",
        "      self.no_leafs=0\n",
        "\n",
        "    ## Instance Methods ##\n",
        "\n",
        "    def insert_root(self,node):\n",
        "      self.root=node\n",
        "\n",
        "    def printt(self):\n",
        "      self.print_help(self.root,\"\")\n",
        "\n",
        "    def print_help(self,node,edge):\n",
        "      if node:\n",
        "        node.printn(edge)\n",
        "        # print(\"(\",edge,\")\")\n",
        "      for i in range(len(node.childs)):\n",
        "        self.print_help(node.childs[i],node.edges[i])"
      ],
      "metadata": {
        "id": "dbT7yqlsFPvU"
      },
      "execution_count": 22,
      "outputs": []
    },
    {
      "cell_type": "markdown",
      "source": [
        "**BALANCE DATASET**"
      ],
      "metadata": {
        "id": "y8C-qGzzFYE4"
      }
    },
    {
      "cell_type": "code",
      "source": [
        "dataset='balance'\n",
        "split_func='IG'"
      ],
      "metadata": {
        "id": "0hURiZ2jFTTO"
      },
      "execution_count": 23,
      "outputs": []
    },
    {
      "cell_type": "code",
      "source": [
        "dataset_url,target_name=datasets[dataset]\n",
        "data=pd.read_csv(dataset_url)\n",
        "data=data.applymap(lambda x: x.strip() if isinstance(x, str) else x)"
      ],
      "metadata": {
        "id": "oNT3nXEYFh0L"
      },
      "execution_count": 25,
      "outputs": []
    },
    {
      "cell_type": "code",
      "source": [
        "data"
      ],
      "metadata": {
        "colab": {
          "base_uri": "https://localhost:8080/",
          "height": 419
        },
        "id": "B7sNii4XIT61",
        "outputId": "00ba1ebd-4163-4e0d-d697-74ee2327fac3"
      },
      "execution_count": 26,
      "outputs": [
        {
          "output_type": "execute_result",
          "data": {
            "text/plain": [
              "    Class  L-Weight  L-Distance  R-Weight  R-Distance\n",
              "0       B         1           1         1           1\n",
              "1       R         1           1         1           2\n",
              "2       R         1           1         1           3\n",
              "3       R         1           1         1           4\n",
              "4       R         1           1         1           5\n",
              "..    ...       ...         ...       ...         ...\n",
              "620     L         5           5         5           1\n",
              "621     L         5           5         5           2\n",
              "622     L         5           5         5           3\n",
              "623     L         5           5         5           4\n",
              "624     B         5           5         5           5\n",
              "\n",
              "[625 rows x 5 columns]"
            ],
            "text/html": [
              "\n",
              "  <div id=\"df-d9e6a0b1-b9fb-493e-b2cc-9965d78b1b5c\">\n",
              "    <div class=\"colab-df-container\">\n",
              "      <div>\n",
              "<style scoped>\n",
              "    .dataframe tbody tr th:only-of-type {\n",
              "        vertical-align: middle;\n",
              "    }\n",
              "\n",
              "    .dataframe tbody tr th {\n",
              "        vertical-align: top;\n",
              "    }\n",
              "\n",
              "    .dataframe thead th {\n",
              "        text-align: right;\n",
              "    }\n",
              "</style>\n",
              "<table border=\"1\" class=\"dataframe\">\n",
              "  <thead>\n",
              "    <tr style=\"text-align: right;\">\n",
              "      <th></th>\n",
              "      <th>Class</th>\n",
              "      <th>L-Weight</th>\n",
              "      <th>L-Distance</th>\n",
              "      <th>R-Weight</th>\n",
              "      <th>R-Distance</th>\n",
              "    </tr>\n",
              "  </thead>\n",
              "  <tbody>\n",
              "    <tr>\n",
              "      <th>0</th>\n",
              "      <td>B</td>\n",
              "      <td>1</td>\n",
              "      <td>1</td>\n",
              "      <td>1</td>\n",
              "      <td>1</td>\n",
              "    </tr>\n",
              "    <tr>\n",
              "      <th>1</th>\n",
              "      <td>R</td>\n",
              "      <td>1</td>\n",
              "      <td>1</td>\n",
              "      <td>1</td>\n",
              "      <td>2</td>\n",
              "    </tr>\n",
              "    <tr>\n",
              "      <th>2</th>\n",
              "      <td>R</td>\n",
              "      <td>1</td>\n",
              "      <td>1</td>\n",
              "      <td>1</td>\n",
              "      <td>3</td>\n",
              "    </tr>\n",
              "    <tr>\n",
              "      <th>3</th>\n",
              "      <td>R</td>\n",
              "      <td>1</td>\n",
              "      <td>1</td>\n",
              "      <td>1</td>\n",
              "      <td>4</td>\n",
              "    </tr>\n",
              "    <tr>\n",
              "      <th>4</th>\n",
              "      <td>R</td>\n",
              "      <td>1</td>\n",
              "      <td>1</td>\n",
              "      <td>1</td>\n",
              "      <td>5</td>\n",
              "    </tr>\n",
              "    <tr>\n",
              "      <th>...</th>\n",
              "      <td>...</td>\n",
              "      <td>...</td>\n",
              "      <td>...</td>\n",
              "      <td>...</td>\n",
              "      <td>...</td>\n",
              "    </tr>\n",
              "    <tr>\n",
              "      <th>620</th>\n",
              "      <td>L</td>\n",
              "      <td>5</td>\n",
              "      <td>5</td>\n",
              "      <td>5</td>\n",
              "      <td>1</td>\n",
              "    </tr>\n",
              "    <tr>\n",
              "      <th>621</th>\n",
              "      <td>L</td>\n",
              "      <td>5</td>\n",
              "      <td>5</td>\n",
              "      <td>5</td>\n",
              "      <td>2</td>\n",
              "    </tr>\n",
              "    <tr>\n",
              "      <th>622</th>\n",
              "      <td>L</td>\n",
              "      <td>5</td>\n",
              "      <td>5</td>\n",
              "      <td>5</td>\n",
              "      <td>3</td>\n",
              "    </tr>\n",
              "    <tr>\n",
              "      <th>623</th>\n",
              "      <td>L</td>\n",
              "      <td>5</td>\n",
              "      <td>5</td>\n",
              "      <td>5</td>\n",
              "      <td>4</td>\n",
              "    </tr>\n",
              "    <tr>\n",
              "      <th>624</th>\n",
              "      <td>B</td>\n",
              "      <td>5</td>\n",
              "      <td>5</td>\n",
              "      <td>5</td>\n",
              "      <td>5</td>\n",
              "    </tr>\n",
              "  </tbody>\n",
              "</table>\n",
              "<p>625 rows × 5 columns</p>\n",
              "</div>\n",
              "      <button class=\"colab-df-convert\" onclick=\"convertToInteractive('df-d9e6a0b1-b9fb-493e-b2cc-9965d78b1b5c')\"\n",
              "              title=\"Convert this dataframe to an interactive table.\"\n",
              "              style=\"display:none;\">\n",
              "        \n",
              "  <svg xmlns=\"http://www.w3.org/2000/svg\" height=\"24px\"viewBox=\"0 0 24 24\"\n",
              "       width=\"24px\">\n",
              "    <path d=\"M0 0h24v24H0V0z\" fill=\"none\"/>\n",
              "    <path d=\"M18.56 5.44l.94 2.06.94-2.06 2.06-.94-2.06-.94-.94-2.06-.94 2.06-2.06.94zm-11 1L8.5 8.5l.94-2.06 2.06-.94-2.06-.94L8.5 2.5l-.94 2.06-2.06.94zm10 10l.94 2.06.94-2.06 2.06-.94-2.06-.94-.94-2.06-.94 2.06-2.06.94z\"/><path d=\"M17.41 7.96l-1.37-1.37c-.4-.4-.92-.59-1.43-.59-.52 0-1.04.2-1.43.59L10.3 9.45l-7.72 7.72c-.78.78-.78 2.05 0 2.83L4 21.41c.39.39.9.59 1.41.59.51 0 1.02-.2 1.41-.59l7.78-7.78 2.81-2.81c.8-.78.8-2.07 0-2.86zM5.41 20L4 18.59l7.72-7.72 1.47 1.35L5.41 20z\"/>\n",
              "  </svg>\n",
              "      </button>\n",
              "      \n",
              "  <style>\n",
              "    .colab-df-container {\n",
              "      display:flex;\n",
              "      flex-wrap:wrap;\n",
              "      gap: 12px;\n",
              "    }\n",
              "\n",
              "    .colab-df-convert {\n",
              "      background-color: #E8F0FE;\n",
              "      border: none;\n",
              "      border-radius: 50%;\n",
              "      cursor: pointer;\n",
              "      display: none;\n",
              "      fill: #1967D2;\n",
              "      height: 32px;\n",
              "      padding: 0 0 0 0;\n",
              "      width: 32px;\n",
              "    }\n",
              "\n",
              "    .colab-df-convert:hover {\n",
              "      background-color: #E2EBFA;\n",
              "      box-shadow: 0px 1px 2px rgba(60, 64, 67, 0.3), 0px 1px 3px 1px rgba(60, 64, 67, 0.15);\n",
              "      fill: #174EA6;\n",
              "    }\n",
              "\n",
              "    [theme=dark] .colab-df-convert {\n",
              "      background-color: #3B4455;\n",
              "      fill: #D2E3FC;\n",
              "    }\n",
              "\n",
              "    [theme=dark] .colab-df-convert:hover {\n",
              "      background-color: #434B5C;\n",
              "      box-shadow: 0px 1px 3px 1px rgba(0, 0, 0, 0.15);\n",
              "      filter: drop-shadow(0px 1px 2px rgba(0, 0, 0, 0.3));\n",
              "      fill: #FFFFFF;\n",
              "    }\n",
              "  </style>\n",
              "\n",
              "      <script>\n",
              "        const buttonEl =\n",
              "          document.querySelector('#df-d9e6a0b1-b9fb-493e-b2cc-9965d78b1b5c button.colab-df-convert');\n",
              "        buttonEl.style.display =\n",
              "          google.colab.kernel.accessAllowed ? 'block' : 'none';\n",
              "\n",
              "        async function convertToInteractive(key) {\n",
              "          const element = document.querySelector('#df-d9e6a0b1-b9fb-493e-b2cc-9965d78b1b5c');\n",
              "          const dataTable =\n",
              "            await google.colab.kernel.invokeFunction('convertToInteractive',\n",
              "                                                     [key], {});\n",
              "          if (!dataTable) return;\n",
              "\n",
              "          const docLinkHtml = 'Like what you see? Visit the ' +\n",
              "            '<a target=\"_blank\" href=https://colab.research.google.com/notebooks/data_table.ipynb>data table notebook</a>'\n",
              "            + ' to learn more about interactive tables.';\n",
              "          element.innerHTML = '';\n",
              "          dataTable['output_type'] = 'display_data';\n",
              "          await google.colab.output.renderOutput(dataTable, element);\n",
              "          const docLink = document.createElement('div');\n",
              "          docLink.innerHTML = docLinkHtml;\n",
              "          element.appendChild(docLink);\n",
              "        }\n",
              "      </script>\n",
              "    </div>\n",
              "  </div>\n",
              "  "
            ]
          },
          "metadata": {},
          "execution_count": 26
        }
      ]
    },
    {
      "cell_type": "code",
      "source": [
        "data.dtypes"
      ],
      "metadata": {
        "colab": {
          "base_uri": "https://localhost:8080/"
        },
        "id": "-2ZXw14zIVYl",
        "outputId": "d15d7f30-310f-4018-f2ac-229a06be256a"
      },
      "execution_count": 27,
      "outputs": [
        {
          "output_type": "execute_result",
          "data": {
            "text/plain": [
              "Class         object\n",
              "L-Weight       int64\n",
              "L-Distance     int64\n",
              "R-Weight       int64\n",
              "R-Distance     int64\n",
              "dtype: object"
            ]
          },
          "metadata": {},
          "execution_count": 27
        }
      ]
    },
    {
      "cell_type": "code",
      "source": [
        "df,test_df=train_test_split(data,0.3)\n",
        "print(\"Size of Train Dataset: \",len(df),\"\\n\",\"Size of Test Dataset: \",len(test_df))"
      ],
      "metadata": {
        "colab": {
          "base_uri": "https://localhost:8080/"
        },
        "id": "HKh6yENcIX1-",
        "outputId": "cc176c0d-4df6-456e-9adb-e763d5cef73c"
      },
      "execution_count": 28,
      "outputs": [
        {
          "output_type": "stream",
          "name": "stdout",
          "text": [
            "Size of Train Dataset:  438 \n",
            " Size of Test Dataset:  187\n"
          ]
        }
      ]
    },
    {
      "cell_type": "code",
      "source": [
        "print(df.count())\n",
        "print(sum(df[target_name].value_counts().to_dict().values()))"
      ],
      "metadata": {
        "colab": {
          "base_uri": "https://localhost:8080/"
        },
        "id": "Soy6ZfDRId6V",
        "outputId": "7297e9b1-1251-40a7-f909-d992f602573e"
      },
      "execution_count": 29,
      "outputs": [
        {
          "output_type": "stream",
          "name": "stdout",
          "text": [
            "Class         438\n",
            "L-Weight      438\n",
            "L-Distance    438\n",
            "R-Weight      438\n",
            "R-Distance    438\n",
            "dtype: int64\n",
            "438\n"
          ]
        }
      ]
    },
    {
      "cell_type": "markdown",
      "source": [
        "**Descion Tree Training**"
      ],
      "metadata": {
        "id": "LKHrOBeVIjo-"
      }
    },
    {
      "cell_type": "code",
      "source": [
        "d=DecisionTree(data,target_name,split_function=split_func)"
      ],
      "metadata": {
        "id": "W4vVf5KRIgpG"
      },
      "execution_count": 30,
      "outputs": []
    },
    {
      "cell_type": "code",
      "source": [
        "d.construct()"
      ],
      "metadata": {
        "id": "40CC3lMGIqrr"
      },
      "execution_count": 31,
      "outputs": []
    },
    {
      "cell_type": "code",
      "source": [
        "print(d.tree.no_leafs)"
      ],
      "metadata": {
        "colab": {
          "base_uri": "https://localhost:8080/"
        },
        "id": "8coNtpJIIuLQ",
        "outputId": "0c35a243-04ea-410e-d22b-d3f7b0cc6ef5"
      },
      "execution_count": 32,
      "outputs": [
        {
          "output_type": "stream",
          "name": "stdout",
          "text": [
            "267\n"
          ]
        }
      ]
    },
    {
      "cell_type": "code",
      "source": [
        "d.get_rules()"
      ],
      "metadata": {
        "colab": {
          "base_uri": "https://localhost:8080/"
        },
        "id": "2xKEAF94Iwf2",
        "outputId": "c27d8595-4207-41d3-8ea4-e5123edb0e12"
      },
      "execution_count": 33,
      "outputs": [
        {
          "output_type": "execute_result",
          "data": {
            "text/plain": [
              "['R-Weight ->  ( 4 ) R-Distance ->  ( 1 ) L-Distance ->  ( 1 ) L-Weight ->  ( 5 ) L',\n",
              " 'R-Weight ->  ( 4 ) R-Distance ->  ( 1 ) L-Distance ->  ( 1 ) L-Weight ->  ( 4 ) B',\n",
              " 'R-Weight ->  ( 4 ) R-Distance ->  ( 1 ) L-Distance ->  ( 1 ) L-Weight ->  ( 1 ) R',\n",
              " 'R-Weight ->  ( 4 ) R-Distance ->  ( 1 ) L-Distance ->  ( 1 ) L-Weight ->  ( 3 ) R',\n",
              " 'R-Weight ->  ( 4 ) R-Distance ->  ( 1 ) L-Distance ->  ( 1 ) L-Weight ->  ( 2 ) R',\n",
              " 'R-Weight ->  ( 4 ) R-Distance ->  ( 1 ) L-Distance ->  ( 3 ) L-Weight ->  ( 5 ) L',\n",
              " 'R-Weight ->  ( 4 ) R-Distance ->  ( 1 ) L-Distance ->  ( 3 ) L-Weight ->  ( 2 ) L',\n",
              " 'R-Weight ->  ( 4 ) R-Distance ->  ( 1 ) L-Distance ->  ( 3 ) L-Weight ->  ( 1 ) R',\n",
              " 'R-Weight ->  ( 4 ) R-Distance ->  ( 1 ) L-Distance ->  ( 2 ) L-Weight ->  ( 2 ) B',\n",
              " 'R-Weight ->  ( 4 ) R-Distance ->  ( 1 ) L-Distance ->  ( 2 ) L-Weight ->  ( 3 ) L',\n",
              " 'R-Weight ->  ( 4 ) R-Distance ->  ( 1 ) L-Distance ->  ( 2 ) L-Weight ->  ( 1 ) R',\n",
              " 'R-Weight ->  ( 4 ) R-Distance ->  ( 1 ) L-Distance ->  ( 2 ) L-Weight ->  ( 5 ) L',\n",
              " 'R-Weight ->  ( 4 ) R-Distance ->  ( 1 ) L-Distance ->  ( 2 ) L-Weight ->  ( 4 ) L',\n",
              " 'R-Weight ->  ( 4 ) R-Distance ->  ( 1 ) L-Distance ->  ( 4 ) L-Weight ->  ( 3 ) L',\n",
              " 'R-Weight ->  ( 4 ) R-Distance ->  ( 1 ) L-Distance ->  ( 4 ) L-Weight ->  ( 1 ) B',\n",
              " 'R-Weight ->  ( 4 ) R-Distance ->  ( 1 ) L-Distance ->  ( 4 ) L-Weight ->  ( 4 ) L',\n",
              " 'R-Weight ->  ( 4 ) R-Distance ->  ( 1 ) L-Distance ->  ( 5 ) L',\n",
              " 'R-Weight ->  ( 4 ) R-Distance ->  ( 2 ) L-Distance ->  ( 4 ) L-Weight ->  ( 1 ) R',\n",
              " 'R-Weight ->  ( 4 ) R-Distance ->  ( 2 ) L-Distance ->  ( 4 ) L-Weight ->  ( 3 ) L',\n",
              " 'R-Weight ->  ( 4 ) R-Distance ->  ( 2 ) L-Distance ->  ( 4 ) L-Weight ->  ( 4 ) L',\n",
              " 'R-Weight ->  ( 4 ) R-Distance ->  ( 2 ) L-Distance ->  ( 5 ) L',\n",
              " 'R-Weight ->  ( 4 ) R-Distance ->  ( 2 ) L-Distance ->  ( 1 ) R',\n",
              " 'R-Weight ->  ( 4 ) R-Distance ->  ( 2 ) L-Distance ->  ( 2 ) L-Weight ->  ( 3 ) R',\n",
              " 'R-Weight ->  ( 4 ) R-Distance ->  ( 2 ) L-Distance ->  ( 2 ) L-Weight ->  ( 4 ) B',\n",
              " 'R-Weight ->  ( 4 ) R-Distance ->  ( 2 ) L-Distance ->  ( 2 ) L-Weight ->  ( 2 ) R',\n",
              " 'R-Weight ->  ( 4 ) R-Distance ->  ( 2 ) L-Distance ->  ( 3 ) L-Weight ->  ( 1 ) R',\n",
              " 'R-Weight ->  ( 4 ) R-Distance ->  ( 2 ) L-Distance ->  ( 3 ) L-Weight ->  ( 5 ) L',\n",
              " 'R-Weight ->  ( 4 ) R-Distance ->  ( 2 ) L-Distance ->  ( 3 ) L-Weight ->  ( 4 ) L',\n",
              " 'R-Weight ->  ( 4 ) R-Distance ->  ( 2 ) L-Distance ->  ( 3 ) L-Weight ->  ( 2 ) R',\n",
              " 'R-Weight ->  ( 4 ) R-Distance ->  ( 5 ) L-Weight ->  ( 1 ) R',\n",
              " 'R-Weight ->  ( 4 ) R-Distance ->  ( 5 ) L-Weight ->  ( 5 ) L-Distance ->  ( 4 ) B',\n",
              " 'R-Weight ->  ( 4 ) R-Distance ->  ( 5 ) L-Weight ->  ( 5 ) L-Distance ->  ( 1 ) R',\n",
              " 'R-Weight ->  ( 4 ) R-Distance ->  ( 5 ) L-Weight ->  ( 5 ) L-Distance ->  ( 5 ) L',\n",
              " 'R-Weight ->  ( 4 ) R-Distance ->  ( 5 ) L-Weight ->  ( 5 ) L-Distance ->  ( 2 ) R',\n",
              " 'R-Weight ->  ( 4 ) R-Distance ->  ( 5 ) L-Weight ->  ( 2 ) R',\n",
              " 'R-Weight ->  ( 4 ) R-Distance ->  ( 5 ) L-Weight ->  ( 3 ) R',\n",
              " 'R-Weight ->  ( 4 ) R-Distance ->  ( 5 ) L-Weight ->  ( 4 ) L-Distance ->  ( 4 ) R',\n",
              " 'R-Weight ->  ( 4 ) R-Distance ->  ( 5 ) L-Weight ->  ( 4 ) L-Distance ->  ( 1 ) R',\n",
              " 'R-Weight ->  ( 4 ) R-Distance ->  ( 5 ) L-Weight ->  ( 4 ) L-Distance ->  ( 3 ) R',\n",
              " 'R-Weight ->  ( 4 ) R-Distance ->  ( 5 ) L-Weight ->  ( 4 ) L-Distance ->  ( 5 ) B',\n",
              " 'R-Weight ->  ( 4 ) R-Distance ->  ( 5 ) L-Weight ->  ( 4 ) L-Distance ->  ( 2 ) R',\n",
              " 'R-Weight ->  ( 4 ) R-Distance ->  ( 3 ) L-Weight ->  ( 1 ) R',\n",
              " 'R-Weight ->  ( 4 ) R-Distance ->  ( 3 ) L-Weight ->  ( 5 ) L-Distance ->  ( 2 ) R',\n",
              " 'R-Weight ->  ( 4 ) R-Distance ->  ( 3 ) L-Weight ->  ( 5 ) L-Distance ->  ( 4 ) L',\n",
              " 'R-Weight ->  ( 4 ) R-Distance ->  ( 3 ) L-Weight ->  ( 5 ) L-Distance ->  ( 5 ) L',\n",
              " 'R-Weight ->  ( 4 ) R-Distance ->  ( 3 ) L-Weight ->  ( 5 ) L-Distance ->  ( 3 ) L',\n",
              " 'R-Weight ->  ( 4 ) R-Distance ->  ( 3 ) L-Weight ->  ( 4 ) L-Distance ->  ( 3 ) B',\n",
              " 'R-Weight ->  ( 4 ) R-Distance ->  ( 3 ) L-Weight ->  ( 4 ) L-Distance ->  ( 2 ) R',\n",
              " 'R-Weight ->  ( 4 ) R-Distance ->  ( 3 ) L-Weight ->  ( 2 ) R',\n",
              " 'R-Weight ->  ( 4 ) R-Distance ->  ( 3 ) L-Weight ->  ( 3 ) L-Distance ->  ( 2 ) R',\n",
              " 'R-Weight ->  ( 4 ) R-Distance ->  ( 3 ) L-Weight ->  ( 3 ) L-Distance ->  ( 3 ) R',\n",
              " 'R-Weight ->  ( 4 ) R-Distance ->  ( 3 ) L-Weight ->  ( 3 ) L-Distance ->  ( 1 ) R',\n",
              " 'R-Weight ->  ( 4 ) R-Distance ->  ( 3 ) L-Weight ->  ( 3 ) L-Distance ->  ( 4 ) B',\n",
              " 'R-Weight ->  ( 4 ) R-Distance ->  ( 4 ) L-Distance ->  ( 1 ) R',\n",
              " 'R-Weight ->  ( 4 ) R-Distance ->  ( 4 ) L-Distance ->  ( 2 ) R',\n",
              " 'R-Weight ->  ( 4 ) R-Distance ->  ( 4 ) L-Distance ->  ( 5 ) L-Weight ->  ( 5 ) L',\n",
              " 'R-Weight ->  ( 4 ) R-Distance ->  ( 4 ) L-Distance ->  ( 5 ) L-Weight ->  ( 4 ) L',\n",
              " 'R-Weight ->  ( 4 ) R-Distance ->  ( 4 ) L-Distance ->  ( 5 ) L-Weight ->  ( 2 ) R',\n",
              " 'R-Weight ->  ( 4 ) R-Distance ->  ( 4 ) L-Distance ->  ( 3 ) R',\n",
              " 'R-Weight ->  ( 4 ) R-Distance ->  ( 4 ) L-Distance ->  ( 4 ) L-Weight ->  ( 2 ) R',\n",
              " 'R-Weight ->  ( 4 ) R-Distance ->  ( 4 ) L-Distance ->  ( 4 ) L-Weight ->  ( 4 ) B',\n",
              " 'R-Weight ->  ( 4 ) R-Distance ->  ( 4 ) L-Distance ->  ( 4 ) L-Weight ->  ( 1 ) R',\n",
              " 'R-Weight ->  ( 2 ) L-Distance ->  ( 3 ) L-Weight ->  ( 3 ) R-Distance ->  ( 4 ) L',\n",
              " 'R-Weight ->  ( 2 ) L-Distance ->  ( 3 ) L-Weight ->  ( 3 ) R-Distance ->  ( 3 ) L',\n",
              " 'R-Weight ->  ( 2 ) L-Distance ->  ( 3 ) L-Weight ->  ( 3 ) R-Distance ->  ( 1 ) L',\n",
              " 'R-Weight ->  ( 2 ) L-Distance ->  ( 3 ) L-Weight ->  ( 3 ) R-Distance ->  ( 5 ) R',\n",
              " 'R-Weight ->  ( 2 ) L-Distance ->  ( 3 ) L-Weight ->  ( 5 ) L',\n",
              " 'R-Weight ->  ( 2 ) L-Distance ->  ( 3 ) L-Weight ->  ( 4 ) L',\n",
              " 'R-Weight ->  ( 2 ) L-Distance ->  ( 3 ) L-Weight ->  ( 2 ) R-Distance ->  ( 2 ) L',\n",
              " 'R-Weight ->  ( 2 ) L-Distance ->  ( 3 ) L-Weight ->  ( 2 ) R-Distance ->  ( 4 ) R',\n",
              " 'R-Weight ->  ( 2 ) L-Distance ->  ( 3 ) L-Weight ->  ( 2 ) R-Distance ->  ( 3 ) B',\n",
              " 'R-Weight ->  ( 2 ) L-Distance ->  ( 3 ) L-Weight ->  ( 2 ) R-Distance ->  ( 1 ) L',\n",
              " 'R-Weight ->  ( 2 ) L-Distance ->  ( 3 ) L-Weight ->  ( 2 ) R-Distance ->  ( 5 ) R',\n",
              " 'R-Weight ->  ( 2 ) L-Distance ->  ( 3 ) L-Weight ->  ( 1 ) R',\n",
              " 'R-Weight ->  ( 2 ) L-Distance ->  ( 2 ) L-Weight ->  ( 2 ) R',\n",
              " 'R-Weight ->  ( 2 ) L-Distance ->  ( 2 ) L-Weight ->  ( 5 ) R-Distance ->  ( 4 ) L',\n",
              " 'R-Weight ->  ( 2 ) L-Distance ->  ( 2 ) L-Weight ->  ( 5 ) R-Distance ->  ( 1 ) L',\n",
              " 'R-Weight ->  ( 2 ) L-Distance ->  ( 2 ) L-Weight ->  ( 5 ) R-Distance ->  ( 5 ) B',\n",
              " 'R-Weight ->  ( 2 ) L-Distance ->  ( 2 ) L-Weight ->  ( 3 ) R-Distance ->  ( 5 ) R',\n",
              " 'R-Weight ->  ( 2 ) L-Distance ->  ( 2 ) L-Weight ->  ( 3 ) R-Distance ->  ( 3 ) B',\n",
              " 'R-Weight ->  ( 2 ) L-Distance ->  ( 2 ) L-Weight ->  ( 3 ) R-Distance ->  ( 1 ) L',\n",
              " 'R-Weight ->  ( 2 ) L-Distance ->  ( 2 ) L-Weight ->  ( 3 ) R-Distance ->  ( 2 ) L',\n",
              " 'R-Weight ->  ( 2 ) L-Distance ->  ( 2 ) L-Weight ->  ( 1 ) R',\n",
              " 'R-Weight ->  ( 2 ) L-Distance ->  ( 2 ) L-Weight ->  ( 4 ) R-Distance ->  ( 1 ) L',\n",
              " 'R-Weight ->  ( 2 ) L-Distance ->  ( 2 ) L-Weight ->  ( 4 ) R-Distance ->  ( 5 ) R',\n",
              " 'R-Weight ->  ( 2 ) L-Distance ->  ( 2 ) L-Weight ->  ( 4 ) R-Distance ->  ( 2 ) L',\n",
              " 'R-Weight ->  ( 2 ) L-Distance ->  ( 1 ) R-Distance ->  ( 3 ) R',\n",
              " 'R-Weight ->  ( 2 ) L-Distance ->  ( 1 ) R-Distance ->  ( 2 ) L-Weight ->  ( 1 ) R',\n",
              " 'R-Weight ->  ( 2 ) L-Distance ->  ( 1 ) R-Distance ->  ( 2 ) L-Weight ->  ( 4 ) B',\n",
              " 'R-Weight ->  ( 2 ) L-Distance ->  ( 1 ) R-Distance ->  ( 1 ) L-Weight ->  ( 4 ) L',\n",
              " 'R-Weight ->  ( 2 ) L-Distance ->  ( 1 ) R-Distance ->  ( 1 ) L-Weight ->  ( 5 ) L',\n",
              " 'R-Weight ->  ( 2 ) L-Distance ->  ( 1 ) R-Distance ->  ( 1 ) L-Weight ->  ( 2 ) B',\n",
              " 'R-Weight ->  ( 2 ) L-Distance ->  ( 1 ) R-Distance ->  ( 1 ) L-Weight ->  ( 3 ) L',\n",
              " 'R-Weight ->  ( 2 ) L-Distance ->  ( 1 ) R-Distance ->  ( 5 ) R',\n",
              " 'R-Weight ->  ( 2 ) L-Distance ->  ( 1 ) R-Distance ->  ( 4 ) R',\n",
              " 'R-Weight ->  ( 2 ) L-Distance ->  ( 4 ) L-Weight ->  ( 5 ) L',\n",
              " 'R-Weight ->  ( 2 ) L-Distance ->  ( 4 ) L-Weight ->  ( 2 ) R-Distance ->  ( 4 ) B',\n",
              " 'R-Weight ->  ( 2 ) L-Distance ->  ( 4 ) L-Weight ->  ( 2 ) R-Distance ->  ( 3 ) L',\n",
              " 'R-Weight ->  ( 2 ) L-Distance ->  ( 4 ) L-Weight ->  ( 2 ) R-Distance ->  ( 1 ) L',\n",
              " 'R-Weight ->  ( 2 ) L-Distance ->  ( 4 ) L-Weight ->  ( 2 ) R-Distance ->  ( 5 ) R',\n",
              " 'R-Weight ->  ( 2 ) L-Distance ->  ( 4 ) L-Weight ->  ( 1 ) R-Distance ->  ( 5 ) R',\n",
              " 'R-Weight ->  ( 2 ) L-Distance ->  ( 4 ) L-Weight ->  ( 1 ) R-Distance ->  ( 2 ) B',\n",
              " 'R-Weight ->  ( 2 ) L-Distance ->  ( 4 ) L-Weight ->  ( 1 ) R-Distance ->  ( 1 ) L',\n",
              " 'R-Weight ->  ( 2 ) L-Distance ->  ( 4 ) L-Weight ->  ( 1 ) R-Distance ->  ( 4 ) R',\n",
              " 'R-Weight ->  ( 2 ) L-Distance ->  ( 4 ) L-Weight ->  ( 4 ) L',\n",
              " 'R-Weight ->  ( 2 ) L-Distance ->  ( 4 ) L-Weight ->  ( 3 ) L',\n",
              " 'R-Weight ->  ( 2 ) L-Distance ->  ( 5 ) L-Weight ->  ( 3 ) L',\n",
              " 'R-Weight ->  ( 2 ) L-Distance ->  ( 5 ) L-Weight ->  ( 2 ) L',\n",
              " 'R-Weight ->  ( 2 ) L-Distance ->  ( 5 ) L-Weight ->  ( 1 ) R-Distance ->  ( 2 ) L',\n",
              " 'R-Weight ->  ( 2 ) L-Distance ->  ( 5 ) L-Weight ->  ( 1 ) R-Distance ->  ( 1 ) L',\n",
              " 'R-Weight ->  ( 2 ) L-Distance ->  ( 5 ) L-Weight ->  ( 1 ) R-Distance ->  ( 3 ) R',\n",
              " 'R-Weight ->  ( 2 ) L-Distance ->  ( 5 ) L-Weight ->  ( 4 ) L',\n",
              " 'R-Weight ->  ( 2 ) L-Distance ->  ( 5 ) L-Weight ->  ( 5 ) L',\n",
              " 'R-Weight ->  ( 5 ) R-Distance ->  ( 2 ) L-Distance ->  ( 2 ) L-Weight ->  ( 5 ) B',\n",
              " 'R-Weight ->  ( 5 ) R-Distance ->  ( 2 ) L-Distance ->  ( 2 ) L-Weight ->  ( 3 ) R',\n",
              " 'R-Weight ->  ( 5 ) R-Distance ->  ( 2 ) L-Distance ->  ( 2 ) L-Weight ->  ( 2 ) R',\n",
              " 'R-Weight ->  ( 5 ) R-Distance ->  ( 2 ) L-Distance ->  ( 2 ) L-Weight ->  ( 1 ) R',\n",
              " 'R-Weight ->  ( 5 ) R-Distance ->  ( 2 ) L-Distance ->  ( 5 ) L-Weight ->  ( 3 ) L',\n",
              " 'R-Weight ->  ( 5 ) R-Distance ->  ( 2 ) L-Distance ->  ( 5 ) L-Weight ->  ( 2 ) B',\n",
              " 'R-Weight ->  ( 5 ) R-Distance ->  ( 2 ) L-Distance ->  ( 5 ) L-Weight ->  ( 1 ) R',\n",
              " 'R-Weight ->  ( 5 ) R-Distance ->  ( 2 ) L-Distance ->  ( 1 ) R',\n",
              " 'R-Weight ->  ( 5 ) R-Distance ->  ( 2 ) L-Distance ->  ( 4 ) L-Weight ->  ( 1 ) R',\n",
              " 'R-Weight ->  ( 5 ) R-Distance ->  ( 2 ) L-Distance ->  ( 4 ) L-Weight ->  ( 2 ) R',\n",
              " 'R-Weight ->  ( 5 ) R-Distance ->  ( 2 ) L-Distance ->  ( 4 ) L-Weight ->  ( 3 ) L',\n",
              " 'R-Weight ->  ( 5 ) R-Distance ->  ( 2 ) L-Distance ->  ( 4 ) L-Weight ->  ( 5 ) L',\n",
              " 'R-Weight ->  ( 5 ) R-Distance ->  ( 2 ) L-Distance ->  ( 4 ) L-Weight ->  ( 4 ) L',\n",
              " 'R-Weight ->  ( 5 ) R-Distance ->  ( 2 ) L-Distance ->  ( 3 ) R',\n",
              " 'R-Weight ->  ( 5 ) R-Distance ->  ( 5 ) R',\n",
              " 'R-Weight ->  ( 5 ) R-Distance ->  ( 4 ) L-Weight ->  ( 5 ) L-Distance ->  ( 1 ) R',\n",
              " 'R-Weight ->  ( 5 ) R-Distance ->  ( 4 ) L-Weight ->  ( 5 ) L-Distance ->  ( 5 ) L',\n",
              " 'R-Weight ->  ( 5 ) R-Distance ->  ( 4 ) L-Weight ->  ( 5 ) L-Distance ->  ( 2 ) R',\n",
              " 'R-Weight ->  ( 5 ) R-Distance ->  ( 4 ) L-Weight ->  ( 5 ) L-Distance ->  ( 3 ) R',\n",
              " 'R-Weight ->  ( 5 ) R-Distance ->  ( 4 ) L-Weight ->  ( 5 ) L-Distance ->  ( 4 ) B',\n",
              " 'R-Weight ->  ( 5 ) R-Distance ->  ( 4 ) L-Weight ->  ( 4 ) L-Distance ->  ( 2 ) R',\n",
              " 'R-Weight ->  ( 5 ) R-Distance ->  ( 4 ) L-Weight ->  ( 4 ) L-Distance ->  ( 5 ) B',\n",
              " 'R-Weight ->  ( 5 ) R-Distance ->  ( 4 ) L-Weight ->  ( 4 ) L-Distance ->  ( 1 ) R',\n",
              " 'R-Weight ->  ( 5 ) R-Distance ->  ( 4 ) L-Weight ->  ( 1 ) R',\n",
              " 'R-Weight ->  ( 5 ) R-Distance ->  ( 4 ) L-Weight ->  ( 3 ) R',\n",
              " 'R-Weight ->  ( 5 ) R-Distance ->  ( 4 ) L-Weight ->  ( 2 ) R',\n",
              " 'R-Weight ->  ( 5 ) R-Distance ->  ( 3 ) L-Weight ->  ( 2 ) R',\n",
              " 'R-Weight ->  ( 5 ) R-Distance ->  ( 3 ) L-Weight ->  ( 5 ) L-Distance ->  ( 5 ) L',\n",
              " 'R-Weight ->  ( 5 ) R-Distance ->  ( 3 ) L-Weight ->  ( 5 ) L-Distance ->  ( 3 ) B',\n",
              " 'R-Weight ->  ( 5 ) R-Distance ->  ( 3 ) L-Weight ->  ( 5 ) L-Distance ->  ( 4 ) L',\n",
              " 'R-Weight ->  ( 5 ) R-Distance ->  ( 3 ) L-Weight ->  ( 3 ) L-Distance ->  ( 5 ) B',\n",
              " 'R-Weight ->  ( 5 ) R-Distance ->  ( 3 ) L-Weight ->  ( 3 ) L-Distance ->  ( 2 ) R',\n",
              " 'R-Weight ->  ( 5 ) R-Distance ->  ( 3 ) L-Weight ->  ( 3 ) L-Distance ->  ( 1 ) R',\n",
              " 'R-Weight ->  ( 5 ) R-Distance ->  ( 3 ) L-Weight ->  ( 3 ) L-Distance ->  ( 4 ) R',\n",
              " 'R-Weight ->  ( 5 ) R-Distance ->  ( 3 ) L-Weight ->  ( 1 ) R',\n",
              " 'R-Weight ->  ( 5 ) R-Distance ->  ( 3 ) L-Weight ->  ( 4 ) R',\n",
              " 'R-Weight ->  ( 5 ) R-Distance ->  ( 1 ) L-Weight ->  ( 3 ) L-Distance ->  ( 1 ) R',\n",
              " 'R-Weight ->  ( 5 ) R-Distance ->  ( 1 ) L-Weight ->  ( 3 ) L-Distance ->  ( 5 ) L',\n",
              " 'R-Weight ->  ( 5 ) R-Distance ->  ( 1 ) L-Weight ->  ( 3 ) L-Distance ->  ( 3 ) L',\n",
              " 'R-Weight ->  ( 5 ) R-Distance ->  ( 1 ) L-Weight ->  ( 4 ) L',\n",
              " 'R-Weight ->  ( 5 ) R-Distance ->  ( 1 ) L-Weight ->  ( 2 ) L-Distance ->  ( 4 ) L',\n",
              " 'R-Weight ->  ( 5 ) R-Distance ->  ( 1 ) L-Weight ->  ( 2 ) L-Distance ->  ( 3 ) L',\n",
              " 'R-Weight ->  ( 5 ) R-Distance ->  ( 1 ) L-Weight ->  ( 2 ) L-Distance ->  ( 1 ) R',\n",
              " 'R-Weight ->  ( 5 ) R-Distance ->  ( 1 ) L-Weight ->  ( 2 ) L-Distance ->  ( 5 ) L',\n",
              " 'R-Weight ->  ( 5 ) R-Distance ->  ( 1 ) L-Weight ->  ( 5 ) L-Distance ->  ( 4 ) L',\n",
              " 'R-Weight ->  ( 5 ) R-Distance ->  ( 1 ) L-Weight ->  ( 5 ) L-Distance ->  ( 5 ) L',\n",
              " 'R-Weight ->  ( 5 ) R-Distance ->  ( 1 ) L-Weight ->  ( 5 ) L-Distance ->  ( 1 ) B',\n",
              " 'R-Weight ->  ( 5 ) R-Distance ->  ( 1 ) L-Weight ->  ( 5 ) L-Distance ->  ( 2 ) L',\n",
              " 'R-Weight ->  ( 5 ) R-Distance ->  ( 1 ) L-Weight ->  ( 1 ) L-Distance ->  ( 5 ) B',\n",
              " 'R-Weight ->  ( 5 ) R-Distance ->  ( 1 ) L-Weight ->  ( 1 ) L-Distance ->  ( 4 ) R',\n",
              " 'R-Weight ->  ( 5 ) R-Distance ->  ( 1 ) L-Weight ->  ( 1 ) L-Distance ->  ( 3 ) R',\n",
              " 'R-Weight ->  ( 5 ) R-Distance ->  ( 1 ) L-Weight ->  ( 1 ) L-Distance ->  ( 1 ) R',\n",
              " 'R-Weight ->  ( 5 ) R-Distance ->  ( 1 ) L-Weight ->  ( 1 ) L-Distance ->  ( 2 ) R',\n",
              " 'R-Weight ->  ( 1 ) L-Weight ->  ( 1 ) R-Distance ->  ( 2 ) L-Distance ->  ( 2 ) B',\n",
              " 'R-Weight ->  ( 1 ) L-Weight ->  ( 1 ) R-Distance ->  ( 2 ) L-Distance ->  ( 4 ) L',\n",
              " 'R-Weight ->  ( 1 ) L-Weight ->  ( 1 ) R-Distance ->  ( 2 ) L-Distance ->  ( 3 ) L',\n",
              " 'R-Weight ->  ( 1 ) L-Weight ->  ( 1 ) R-Distance ->  ( 2 ) L-Distance ->  ( 1 ) R',\n",
              " 'R-Weight ->  ( 1 ) L-Weight ->  ( 1 ) R-Distance ->  ( 3 ) L-Distance ->  ( 1 ) R',\n",
              " 'R-Weight ->  ( 1 ) L-Weight ->  ( 1 ) R-Distance ->  ( 3 ) L-Distance ->  ( 5 ) L',\n",
              " 'R-Weight ->  ( 1 ) L-Weight ->  ( 1 ) R-Distance ->  ( 3 ) L-Distance ->  ( 4 ) L',\n",
              " 'R-Weight ->  ( 1 ) L-Weight ->  ( 1 ) R-Distance ->  ( 3 ) L-Distance ->  ( 3 ) B',\n",
              " 'R-Weight ->  ( 1 ) L-Weight ->  ( 1 ) R-Distance ->  ( 1 ) L',\n",
              " 'R-Weight ->  ( 1 ) L-Weight ->  ( 1 ) R-Distance ->  ( 5 ) L-Distance ->  ( 4 ) R',\n",
              " 'R-Weight ->  ( 1 ) L-Weight ->  ( 1 ) R-Distance ->  ( 5 ) L-Distance ->  ( 3 ) R',\n",
              " 'R-Weight ->  ( 1 ) L-Weight ->  ( 1 ) R-Distance ->  ( 5 ) L-Distance ->  ( 5 ) B',\n",
              " 'R-Weight ->  ( 1 ) L-Weight ->  ( 1 ) R-Distance ->  ( 4 ) L-Distance ->  ( 5 ) L',\n",
              " 'R-Weight ->  ( 1 ) L-Weight ->  ( 1 ) R-Distance ->  ( 4 ) L-Distance ->  ( 2 ) R',\n",
              " 'R-Weight ->  ( 1 ) L-Weight ->  ( 1 ) R-Distance ->  ( 4 ) L-Distance ->  ( 1 ) R',\n",
              " 'R-Weight ->  ( 1 ) L-Weight ->  ( 1 ) R-Distance ->  ( 4 ) L-Distance ->  ( 4 ) B',\n",
              " 'R-Weight ->  ( 1 ) L-Weight ->  ( 4 ) R-Distance ->  ( 5 ) L',\n",
              " 'R-Weight ->  ( 1 ) L-Weight ->  ( 4 ) R-Distance ->  ( 2 ) L',\n",
              " 'R-Weight ->  ( 1 ) L-Weight ->  ( 4 ) R-Distance ->  ( 1 ) L',\n",
              " 'R-Weight ->  ( 1 ) L-Weight ->  ( 4 ) R-Distance ->  ( 4 ) L-Distance ->  ( 4 ) L',\n",
              " 'R-Weight ->  ( 1 ) L-Weight ->  ( 4 ) R-Distance ->  ( 4 ) L-Distance ->  ( 1 ) B',\n",
              " 'R-Weight ->  ( 1 ) L-Weight ->  ( 4 ) R-Distance ->  ( 4 ) L-Distance ->  ( 3 ) L',\n",
              " 'R-Weight ->  ( 1 ) L-Weight ->  ( 4 ) R-Distance ->  ( 4 ) L-Distance ->  ( 2 ) L',\n",
              " 'R-Weight ->  ( 1 ) L-Weight ->  ( 4 ) R-Distance ->  ( 3 ) L',\n",
              " 'R-Weight ->  ( 1 ) L-Weight ->  ( 3 ) L-Distance ->  ( 2 ) L',\n",
              " 'R-Weight ->  ( 1 ) L-Weight ->  ( 3 ) L-Distance ->  ( 1 ) R-Distance ->  ( 3 ) B',\n",
              " 'R-Weight ->  ( 1 ) L-Weight ->  ( 3 ) L-Distance ->  ( 1 ) R-Distance ->  ( 4 ) R',\n",
              " 'R-Weight ->  ( 1 ) L-Weight ->  ( 3 ) L-Distance ->  ( 1 ) R-Distance ->  ( 5 ) R',\n",
              " 'R-Weight ->  ( 1 ) L-Weight ->  ( 3 ) L-Distance ->  ( 1 ) R-Distance ->  ( 2 ) L',\n",
              " 'R-Weight ->  ( 1 ) L-Weight ->  ( 3 ) L-Distance ->  ( 4 ) L',\n",
              " 'R-Weight ->  ( 1 ) L-Weight ->  ( 3 ) L-Distance ->  ( 5 ) L',\n",
              " 'R-Weight ->  ( 1 ) L-Weight ->  ( 3 ) L-Distance ->  ( 3 ) L',\n",
              " 'R-Weight ->  ( 1 ) L-Weight ->  ( 2 ) L-Distance ->  ( 5 ) L',\n",
              " 'R-Weight ->  ( 1 ) L-Weight ->  ( 2 ) L-Distance ->  ( 3 ) L',\n",
              " 'R-Weight ->  ( 1 ) L-Weight ->  ( 2 ) L-Distance ->  ( 2 ) R-Distance ->  ( 5 ) R',\n",
              " 'R-Weight ->  ( 1 ) L-Weight ->  ( 2 ) L-Distance ->  ( 2 ) R-Distance ->  ( 3 ) L',\n",
              " 'R-Weight ->  ( 1 ) L-Weight ->  ( 2 ) L-Distance ->  ( 2 ) R-Distance ->  ( 2 ) L',\n",
              " 'R-Weight ->  ( 1 ) L-Weight ->  ( 2 ) L-Distance ->  ( 2 ) R-Distance ->  ( 4 ) B',\n",
              " 'R-Weight ->  ( 1 ) L-Weight ->  ( 2 ) L-Distance ->  ( 2 ) R-Distance ->  ( 1 ) L',\n",
              " 'R-Weight ->  ( 1 ) L-Weight ->  ( 2 ) L-Distance ->  ( 4 ) L',\n",
              " 'R-Weight ->  ( 1 ) L-Weight ->  ( 2 ) L-Distance ->  ( 1 ) R',\n",
              " 'R-Weight ->  ( 1 ) L-Weight ->  ( 5 ) R-Distance ->  ( 5 ) L-Distance ->  ( 1 ) B',\n",
              " 'R-Weight ->  ( 1 ) L-Weight ->  ( 5 ) R-Distance ->  ( 5 ) L-Distance ->  ( 5 ) L',\n",
              " 'R-Weight ->  ( 1 ) L-Weight ->  ( 5 ) R-Distance ->  ( 5 ) L-Distance ->  ( 3 ) L',\n",
              " 'R-Weight ->  ( 1 ) L-Weight ->  ( 5 ) R-Distance ->  ( 3 ) L',\n",
              " 'R-Weight ->  ( 1 ) L-Weight ->  ( 5 ) R-Distance ->  ( 2 ) L',\n",
              " 'R-Weight ->  ( 1 ) L-Weight ->  ( 5 ) R-Distance ->  ( 1 ) L',\n",
              " 'R-Weight ->  ( 1 ) L-Weight ->  ( 5 ) R-Distance ->  ( 4 ) L',\n",
              " 'R-Weight ->  ( 3 ) L-Distance ->  ( 5 ) L-Weight ->  ( 5 ) L',\n",
              " 'R-Weight ->  ( 3 ) L-Distance ->  ( 5 ) L-Weight ->  ( 3 ) R-Distance ->  ( 5 ) B',\n",
              " 'R-Weight ->  ( 3 ) L-Distance ->  ( 5 ) L-Weight ->  ( 3 ) R-Distance ->  ( 1 ) L',\n",
              " 'R-Weight ->  ( 3 ) L-Distance ->  ( 5 ) L-Weight ->  ( 3 ) R-Distance ->  ( 3 ) L',\n",
              " 'R-Weight ->  ( 3 ) L-Distance ->  ( 5 ) L-Weight ->  ( 3 ) R-Distance ->  ( 2 ) L',\n",
              " 'R-Weight ->  ( 3 ) L-Distance ->  ( 5 ) L-Weight ->  ( 2 ) L',\n",
              " 'R-Weight ->  ( 3 ) L-Distance ->  ( 5 ) L-Weight ->  ( 1 ) R-Distance ->  ( 5 ) R',\n",
              " 'R-Weight ->  ( 3 ) L-Distance ->  ( 5 ) L-Weight ->  ( 1 ) R-Distance ->  ( 1 ) L',\n",
              " 'R-Weight ->  ( 3 ) L-Distance ->  ( 5 ) L-Weight ->  ( 1 ) R-Distance ->  ( 3 ) R',\n",
              " 'R-Weight ->  ( 3 ) L-Distance ->  ( 5 ) L-Weight ->  ( 1 ) R-Distance ->  ( 2 ) R',\n",
              " 'R-Weight ->  ( 3 ) L-Distance ->  ( 5 ) L-Weight ->  ( 4 ) L',\n",
              " 'R-Weight ->  ( 3 ) L-Distance ->  ( 2 ) R-Distance ->  ( 4 ) R',\n",
              " 'R-Weight ->  ( 3 ) L-Distance ->  ( 2 ) R-Distance ->  ( 2 ) L-Weight ->  ( 2 ) R',\n",
              " 'R-Weight ->  ( 3 ) L-Distance ->  ( 2 ) R-Distance ->  ( 2 ) L-Weight ->  ( 5 ) L',\n",
              " 'R-Weight ->  ( 3 ) L-Distance ->  ( 2 ) R-Distance ->  ( 1 ) L-Weight ->  ( 2 ) L',\n",
              " 'R-Weight ->  ( 3 ) L-Distance ->  ( 2 ) R-Distance ->  ( 1 ) L-Weight ->  ( 1 ) R',\n",
              " 'R-Weight ->  ( 3 ) L-Distance ->  ( 2 ) R-Distance ->  ( 1 ) L-Weight ->  ( 4 ) L',\n",
              " 'R-Weight ->  ( 3 ) L-Distance ->  ( 2 ) R-Distance ->  ( 1 ) L-Weight ->  ( 3 ) L',\n",
              " 'R-Weight ->  ( 3 ) L-Distance ->  ( 2 ) R-Distance ->  ( 1 ) L-Weight ->  ( 5 ) L',\n",
              " 'R-Weight ->  ( 3 ) L-Distance ->  ( 2 ) R-Distance ->  ( 3 ) L-Weight ->  ( 5 ) L',\n",
              " 'R-Weight ->  ( 3 ) L-Distance ->  ( 2 ) R-Distance ->  ( 3 ) L-Weight ->  ( 1 ) R',\n",
              " 'R-Weight ->  ( 3 ) L-Distance ->  ( 2 ) R-Distance ->  ( 3 ) L-Weight ->  ( 2 ) R',\n",
              " 'R-Weight ->  ( 3 ) L-Distance ->  ( 2 ) R-Distance ->  ( 3 ) L-Weight ->  ( 3 ) R',\n",
              " 'R-Weight ->  ( 3 ) L-Distance ->  ( 2 ) R-Distance ->  ( 5 ) R',\n",
              " 'R-Weight ->  ( 3 ) L-Distance ->  ( 4 ) L-Weight ->  ( 3 ) R-Distance ->  ( 1 ) L',\n",
              " 'R-Weight ->  ( 3 ) L-Distance ->  ( 4 ) L-Weight ->  ( 3 ) R-Distance ->  ( 3 ) L',\n",
              " 'R-Weight ->  ( 3 ) L-Distance ->  ( 4 ) L-Weight ->  ( 3 ) R-Distance ->  ( 2 ) L',\n",
              " 'R-Weight ->  ( 3 ) L-Distance ->  ( 4 ) L-Weight ->  ( 3 ) R-Distance ->  ( 5 ) R',\n",
              " 'R-Weight ->  ( 3 ) L-Distance ->  ( 4 ) L-Weight ->  ( 5 ) L',\n",
              " 'R-Weight ->  ( 3 ) L-Distance ->  ( 4 ) L-Weight ->  ( 1 ) R',\n",
              " 'R-Weight ->  ( 3 ) L-Distance ->  ( 4 ) L-Weight ->  ( 4 ) L',\n",
              " 'R-Weight ->  ( 3 ) L-Distance ->  ( 4 ) L-Weight ->  ( 2 ) R-Distance ->  ( 3 ) R',\n",
              " 'R-Weight ->  ( 3 ) L-Distance ->  ( 4 ) L-Weight ->  ( 2 ) R-Distance ->  ( 1 ) L',\n",
              " 'R-Weight ->  ( 3 ) L-Distance ->  ( 4 ) L-Weight ->  ( 2 ) R-Distance ->  ( 2 ) L',\n",
              " 'R-Weight ->  ( 3 ) L-Distance ->  ( 3 ) R-Distance ->  ( 2 ) L-Weight ->  ( 3 ) L',\n",
              " 'R-Weight ->  ( 3 ) L-Distance ->  ( 3 ) R-Distance ->  ( 2 ) L-Weight ->  ( 2 ) B',\n",
              " 'R-Weight ->  ( 3 ) L-Distance ->  ( 3 ) R-Distance ->  ( 5 ) L-Weight ->  ( 2 ) R',\n",
              " 'R-Weight ->  ( 3 ) L-Distance ->  ( 3 ) R-Distance ->  ( 5 ) L-Weight ->  ( 4 ) R',\n",
              " 'R-Weight ->  ( 3 ) L-Distance ->  ( 3 ) R-Distance ->  ( 5 ) L-Weight ->  ( 5 ) B',\n",
              " 'R-Weight ->  ( 3 ) L-Distance ->  ( 3 ) R-Distance ->  ( 4 ) L-Weight ->  ( 5 ) L',\n",
              " 'R-Weight ->  ( 3 ) L-Distance ->  ( 3 ) R-Distance ->  ( 4 ) L-Weight ->  ( 2 ) R',\n",
              " 'R-Weight ->  ( 3 ) L-Distance ->  ( 3 ) R-Distance ->  ( 4 ) L-Weight ->  ( 3 ) R',\n",
              " 'R-Weight ->  ( 3 ) L-Distance ->  ( 3 ) R-Distance ->  ( 4 ) L-Weight ->  ( 4 ) B',\n",
              " 'R-Weight ->  ( 3 ) L-Distance ->  ( 3 ) R-Distance ->  ( 1 ) L',\n",
              " 'R-Weight ->  ( 3 ) L-Distance ->  ( 3 ) R-Distance ->  ( 3 ) L',\n",
              " 'R-Weight ->  ( 3 ) L-Distance ->  ( 1 ) L-Weight ->  ( 4 ) R',\n",
              " 'R-Weight ->  ( 3 ) L-Distance ->  ( 1 ) L-Weight ->  ( 1 ) R',\n",
              " 'R-Weight ->  ( 3 ) L-Distance ->  ( 1 ) L-Weight ->  ( 2 ) R',\n",
              " 'R-Weight ->  ( 3 ) L-Distance ->  ( 1 ) L-Weight ->  ( 5 ) R-Distance ->  ( 1 ) L',\n",
              " 'R-Weight ->  ( 3 ) L-Distance ->  ( 1 ) L-Weight ->  ( 5 ) R-Distance ->  ( 4 ) R',\n",
              " 'R-Weight ->  ( 3 ) L-Distance ->  ( 1 ) L-Weight ->  ( 3 ) R-Distance ->  ( 1 ) B',\n",
              " 'R-Weight ->  ( 3 ) L-Distance ->  ( 1 ) L-Weight ->  ( 3 ) R-Distance ->  ( 3 ) R',\n",
              " 'R-Weight ->  ( 3 ) L-Distance ->  ( 1 ) L-Weight ->  ( 3 ) R-Distance ->  ( 4 ) R']"
            ]
          },
          "metadata": {},
          "execution_count": 33
        }
      ]
    },
    {
      "cell_type": "code",
      "source": [
        "d.tree.printt()"
      ],
      "metadata": {
        "colab": {
          "base_uri": "https://localhost:8080/"
        },
        "id": "tTQqIuD9Izvs",
        "outputId": "199f75b2-f06e-4d85-c2d4-de3fcf44a7be"
      },
      "execution_count": 34,
      "outputs": [
        {
          "output_type": "stream",
          "name": "stdout",
          "text": [
            "| R-Weight\n",
            "|----- ( 4) R-Distance\n",
            "|---------- ( 1) L-Distance\n",
            "|--------------- ( 1) L-Weight\n",
            "|-------------------- ( 5) L\n",
            "|-------------------- ( 4) B\n",
            "|-------------------- ( 1) R\n",
            "|-------------------- ( 3) R\n",
            "|-------------------- ( 2) R\n",
            "|--------------- ( 3) L-Weight5\n",
            "|-------------------- ( 5) L\n",
            "|-------------------- ( 2) L\n",
            "|-------------------- ( 1) R\n",
            "|--------------- ( 2) L-Weight9\n",
            "|-------------------- ( 2) B\n",
            "|-------------------- ( 3) L\n",
            "|-------------------- ( 1) R\n",
            "|-------------------- ( 5) L\n",
            "|-------------------- ( 4) L\n",
            "|--------------- ( 4) L-Weight15\n",
            "|-------------------- ( 3) L\n",
            "|-------------------- ( 1) B\n",
            "|-------------------- ( 4) L\n",
            "|--------------- ( 5) L\n",
            "|---------- ( 2) L-Distance20\n",
            "|--------------- ( 4) L-Weight21\n",
            "|-------------------- ( 1) R\n",
            "|-------------------- ( 3) L\n",
            "|-------------------- ( 4) L\n",
            "|--------------- ( 5) L\n",
            "|--------------- ( 1) R\n",
            "|--------------- ( 2) L-Weight27\n",
            "|-------------------- ( 3) R\n",
            "|-------------------- ( 4) B\n",
            "|-------------------- ( 2) R\n",
            "|--------------- ( 3) L-Weight31\n",
            "|-------------------- ( 1) R\n",
            "|-------------------- ( 5) L\n",
            "|-------------------- ( 4) L\n",
            "|-------------------- ( 2) R\n",
            "|---------- ( 5) L-Weight36\n",
            "|--------------- ( 1) R\n",
            "|--------------- ( 5) L-Distance38\n",
            "|-------------------- ( 4) B\n",
            "|-------------------- ( 1) R\n",
            "|-------------------- ( 5) L\n",
            "|-------------------- ( 2) R\n",
            "|--------------- ( 2) R\n",
            "|--------------- ( 3) R\n",
            "|--------------- ( 4) L-Distance45\n",
            "|-------------------- ( 4) R\n",
            "|-------------------- ( 1) R\n",
            "|-------------------- ( 3) R\n",
            "|-------------------- ( 5) B\n",
            "|-------------------- ( 2) R\n",
            "|---------- ( 3) L-Weight51\n",
            "|--------------- ( 1) R\n",
            "|--------------- ( 5) L-Distance53\n",
            "|-------------------- ( 2) R\n",
            "|-------------------- ( 4) L\n",
            "|-------------------- ( 5) L\n",
            "|-------------------- ( 3) L\n",
            "|--------------- ( 4) L-Distance58\n",
            "|-------------------- ( 3) B\n",
            "|-------------------- ( 2) R\n",
            "|--------------- ( 2) R\n",
            "|--------------- ( 3) L-Distance62\n",
            "|-------------------- ( 2) R\n",
            "|-------------------- ( 3) R\n",
            "|-------------------- ( 1) R\n",
            "|-------------------- ( 4) B\n",
            "|---------- ( 4) L-Distance67\n",
            "|--------------- ( 1) R\n",
            "|--------------- ( 2) R\n",
            "|--------------- ( 5) L-Weight70\n",
            "|-------------------- ( 5) L\n",
            "|-------------------- ( 4) L\n",
            "|-------------------- ( 2) R\n",
            "|--------------- ( 3) R\n",
            "|--------------- ( 4) L-Weight75\n",
            "|-------------------- ( 2) R\n",
            "|-------------------- ( 4) B\n",
            "|-------------------- ( 1) R\n",
            "|----- ( 2) L-Distance79\n",
            "|---------- ( 3) L-Weight80\n",
            "|--------------- ( 3) R-Distance81\n",
            "|-------------------- ( 4) L\n",
            "|-------------------- ( 3) L\n",
            "|-------------------- ( 1) L\n",
            "|-------------------- ( 5) R\n",
            "|--------------- ( 5) L\n",
            "|--------------- ( 4) L\n",
            "|--------------- ( 2) R-Distance88\n",
            "|-------------------- ( 2) L\n",
            "|-------------------- ( 4) R\n",
            "|-------------------- ( 3) B\n",
            "|-------------------- ( 1) L\n",
            "|-------------------- ( 5) R\n",
            "|--------------- ( 1) R\n",
            "|---------- ( 2) L-Weight95\n",
            "|--------------- ( 2) R\n",
            "|--------------- ( 5) R-Distance97\n",
            "|-------------------- ( 4) L\n",
            "|-------------------- ( 1) L\n",
            "|-------------------- ( 5) B\n",
            "|--------------- ( 3) R-Distance101\n",
            "|-------------------- ( 5) R\n",
            "|-------------------- ( 3) B\n",
            "|-------------------- ( 1) L\n",
            "|-------------------- ( 2) L\n",
            "|--------------- ( 1) R\n",
            "|--------------- ( 4) R-Distance107\n",
            "|-------------------- ( 1) L\n",
            "|-------------------- ( 5) R\n",
            "|-------------------- ( 2) L\n",
            "|---------- ( 1) R-Distance111\n",
            "|--------------- ( 3) R\n",
            "|--------------- ( 2) L-Weight113\n",
            "|-------------------- ( 1) R\n",
            "|-------------------- ( 4) B\n",
            "|--------------- ( 1) L-Weight116\n",
            "|-------------------- ( 4) L\n",
            "|-------------------- ( 5) L\n",
            "|-------------------- ( 2) B\n",
            "|-------------------- ( 3) L\n",
            "|--------------- ( 5) R\n",
            "|--------------- ( 4) R\n",
            "|---------- ( 4) L-Weight123\n",
            "|--------------- ( 5) L\n",
            "|--------------- ( 2) R-Distance125\n",
            "|-------------------- ( 4) B\n",
            "|-------------------- ( 3) L\n",
            "|-------------------- ( 1) L\n",
            "|-------------------- ( 5) R\n",
            "|--------------- ( 1) R-Distance130\n",
            "|-------------------- ( 5) R\n",
            "|-------------------- ( 2) B\n",
            "|-------------------- ( 1) L\n",
            "|-------------------- ( 4) R\n",
            "|--------------- ( 4) L\n",
            "|--------------- ( 3) L\n",
            "|---------- ( 5) L-Weight137\n",
            "|--------------- ( 3) L\n",
            "|--------------- ( 2) L\n",
            "|--------------- ( 1) R-Distance140\n",
            "|-------------------- ( 2) L\n",
            "|-------------------- ( 1) L\n",
            "|-------------------- ( 3) R\n",
            "|--------------- ( 4) L\n",
            "|--------------- ( 5) L\n",
            "|----- ( 5) R-Distance146\n",
            "|---------- ( 2) L-Distance147\n",
            "|--------------- ( 2) L-Weight148\n",
            "|-------------------- ( 5) B\n",
            "|-------------------- ( 3) R\n",
            "|-------------------- ( 2) R\n",
            "|-------------------- ( 1) R\n",
            "|--------------- ( 5) L-Weight153\n",
            "|-------------------- ( 3) L\n",
            "|-------------------- ( 2) B\n",
            "|-------------------- ( 1) R\n",
            "|--------------- ( 1) R\n",
            "|--------------- ( 4) L-Weight158\n",
            "|-------------------- ( 1) R\n",
            "|-------------------- ( 2) R\n",
            "|-------------------- ( 3) L\n",
            "|-------------------- ( 5) L\n",
            "|-------------------- ( 4) L\n",
            "|--------------- ( 3) R\n",
            "|---------- ( 5) R\n",
            "|---------- ( 4) L-Weight166\n",
            "|--------------- ( 5) L-Distance167\n",
            "|-------------------- ( 1) R\n",
            "|-------------------- ( 5) L\n",
            "|-------------------- ( 2) R\n",
            "|-------------------- ( 3) R\n",
            "|-------------------- ( 4) B\n",
            "|--------------- ( 4) L-Distance173\n",
            "|-------------------- ( 2) R\n",
            "|-------------------- ( 5) B\n",
            "|-------------------- ( 1) R\n",
            "|--------------- ( 1) R\n",
            "|--------------- ( 3) R\n",
            "|--------------- ( 2) R\n",
            "|---------- ( 3) L-Weight180\n",
            "|--------------- ( 2) R\n",
            "|--------------- ( 5) L-Distance182\n",
            "|-------------------- ( 5) L\n",
            "|-------------------- ( 3) B\n",
            "|-------------------- ( 4) L\n",
            "|--------------- ( 3) L-Distance186\n",
            "|-------------------- ( 5) B\n",
            "|-------------------- ( 2) R\n",
            "|-------------------- ( 1) R\n",
            "|-------------------- ( 4) R\n",
            "|--------------- ( 1) R\n",
            "|--------------- ( 4) R\n",
            "|---------- ( 1) L-Weight193\n",
            "|--------------- ( 3) L-Distance194\n",
            "|-------------------- ( 1) R\n",
            "|-------------------- ( 5) L\n",
            "|-------------------- ( 3) L\n",
            "|--------------- ( 4) L\n",
            "|--------------- ( 2) L-Distance199\n",
            "|-------------------- ( 4) L\n",
            "|-------------------- ( 3) L\n",
            "|-------------------- ( 1) R\n",
            "|-------------------- ( 5) L\n",
            "|--------------- ( 5) L-Distance204\n",
            "|-------------------- ( 4) L\n",
            "|-------------------- ( 5) L\n",
            "|-------------------- ( 1) B\n",
            "|-------------------- ( 2) L\n",
            "|--------------- ( 1) L-Distance209\n",
            "|-------------------- ( 5) B\n",
            "|-------------------- ( 4) R\n",
            "|-------------------- ( 3) R\n",
            "|-------------------- ( 1) R\n",
            "|-------------------- ( 2) R\n",
            "|----- ( 1) L-Weight215\n",
            "|---------- ( 1) R-Distance216\n",
            "|--------------- ( 2) L-Distance217\n",
            "|-------------------- ( 2) B\n",
            "|-------------------- ( 4) L\n",
            "|-------------------- ( 3) L\n",
            "|-------------------- ( 1) R\n",
            "|--------------- ( 3) L-Distance222\n",
            "|-------------------- ( 1) R\n",
            "|-------------------- ( 5) L\n",
            "|-------------------- ( 4) L\n",
            "|-------------------- ( 3) B\n",
            "|--------------- ( 1) L\n",
            "|--------------- ( 5) L-Distance228\n",
            "|-------------------- ( 4) R\n",
            "|-------------------- ( 3) R\n",
            "|-------------------- ( 5) B\n",
            "|--------------- ( 4) L-Distance232\n",
            "|-------------------- ( 5) L\n",
            "|-------------------- ( 2) R\n",
            "|-------------------- ( 1) R\n",
            "|-------------------- ( 4) B\n",
            "|---------- ( 4) R-Distance237\n",
            "|--------------- ( 5) L\n",
            "|--------------- ( 2) L\n",
            "|--------------- ( 1) L\n",
            "|--------------- ( 4) L-Distance241\n",
            "|-------------------- ( 4) L\n",
            "|-------------------- ( 1) B\n",
            "|-------------------- ( 3) L\n",
            "|-------------------- ( 2) L\n",
            "|--------------- ( 3) L\n",
            "|---------- ( 3) L-Distance247\n",
            "|--------------- ( 2) L\n",
            "|--------------- ( 1) R-Distance249\n",
            "|-------------------- ( 3) B\n",
            "|-------------------- ( 4) R\n",
            "|-------------------- ( 5) R\n",
            "|-------------------- ( 2) L\n",
            "|--------------- ( 4) L\n",
            "|--------------- ( 5) L\n",
            "|--------------- ( 3) L\n",
            "|---------- ( 2) L-Distance257\n",
            "|--------------- ( 5) L\n",
            "|--------------- ( 3) L\n",
            "|--------------- ( 2) R-Distance260\n",
            "|-------------------- ( 5) R\n",
            "|-------------------- ( 3) L\n",
            "|-------------------- ( 2) L\n",
            "|-------------------- ( 4) B\n",
            "|-------------------- ( 1) L\n",
            "|--------------- ( 4) L\n",
            "|--------------- ( 1) R\n",
            "|---------- ( 5) R-Distance268\n",
            "|--------------- ( 5) L-Distance269\n",
            "|-------------------- ( 1) B\n",
            "|-------------------- ( 5) L\n",
            "|-------------------- ( 3) L\n",
            "|--------------- ( 3) L\n",
            "|--------------- ( 2) L\n",
            "|--------------- ( 1) L\n",
            "|--------------- ( 4) L\n",
            "|----- ( 3) L-Distance277\n",
            "|---------- ( 5) L-Weight278\n",
            "|--------------- ( 5) L\n",
            "|--------------- ( 3) R-Distance280\n",
            "|-------------------- ( 5) B\n",
            "|-------------------- ( 1) L\n",
            "|-------------------- ( 3) L\n",
            "|-------------------- ( 2) L\n",
            "|--------------- ( 2) L\n",
            "|--------------- ( 1) R-Distance286\n",
            "|-------------------- ( 5) R\n",
            "|-------------------- ( 1) L\n",
            "|-------------------- ( 3) R\n",
            "|-------------------- ( 2) R\n",
            "|--------------- ( 4) L\n",
            "|---------- ( 2) R-Distance292\n",
            "|--------------- ( 4) R\n",
            "|--------------- ( 2) L-Weight294\n",
            "|-------------------- ( 2) R\n",
            "|-------------------- ( 5) L\n",
            "|--------------- ( 1) L-Weight297\n",
            "|-------------------- ( 2) L\n",
            "|-------------------- ( 1) R\n",
            "|-------------------- ( 4) L\n",
            "|-------------------- ( 3) L\n",
            "|-------------------- ( 5) L\n",
            "|--------------- ( 3) L-Weight303\n",
            "|-------------------- ( 5) L\n",
            "|-------------------- ( 1) R\n",
            "|-------------------- ( 2) R\n",
            "|-------------------- ( 3) R\n",
            "|--------------- ( 5) R\n",
            "|---------- ( 4) L-Weight309\n",
            "|--------------- ( 3) R-Distance310\n",
            "|-------------------- ( 1) L\n",
            "|-------------------- ( 3) L\n",
            "|-------------------- ( 2) L\n",
            "|-------------------- ( 5) R\n",
            "|--------------- ( 5) L\n",
            "|--------------- ( 1) R\n",
            "|--------------- ( 4) L\n",
            "|--------------- ( 2) R-Distance318\n",
            "|-------------------- ( 3) R\n",
            "|-------------------- ( 1) L\n",
            "|-------------------- ( 2) L\n",
            "|---------- ( 3) R-Distance322\n",
            "|--------------- ( 2) L-Weight323\n",
            "|-------------------- ( 3) L\n",
            "|-------------------- ( 2) B\n",
            "|--------------- ( 5) L-Weight326\n",
            "|-------------------- ( 2) R\n",
            "|-------------------- ( 4) R\n",
            "|-------------------- ( 5) B\n",
            "|--------------- ( 4) L-Weight330\n",
            "|-------------------- ( 5) L\n",
            "|-------------------- ( 2) R\n",
            "|-------------------- ( 3) R\n",
            "|-------------------- ( 4) B\n",
            "|--------------- ( 1) L\n",
            "|--------------- ( 3) L\n",
            "|---------- ( 1) L-Weight337\n",
            "|--------------- ( 4) R\n",
            "|--------------- ( 1) R\n",
            "|--------------- ( 2) R\n",
            "|--------------- ( 5) R-Distance341\n",
            "|-------------------- ( 1) L\n",
            "|-------------------- ( 4) R\n",
            "|--------------- ( 3) R-Distance344\n",
            "|-------------------- ( 1) B\n",
            "|-------------------- ( 3) R\n",
            "|-------------------- ( 4) R\n"
          ]
        }
      ]
    },
    {
      "cell_type": "markdown",
      "source": [
        "**Graphical Representation of Decision Tree**"
      ],
      "metadata": {
        "id": "o4h1bW3TI3Fr"
      }
    },
    {
      "cell_type": "code",
      "source": [
        "f = open(\"balance.dot\", \"w\")\n",
        "f.write(str(d.getGraph()))\n",
        "f.close()"
      ],
      "metadata": {
        "id": "AYF1twRQI-U5"
      },
      "execution_count": 35,
      "outputs": []
    },
    {
      "cell_type": "code",
      "source": [
        "d.getGraph()"
      ],
      "metadata": {
        "colab": {
          "base_uri": "https://localhost:8080/",
          "height": 564
        },
        "id": "jBBo8xsGJCcS",
        "outputId": "1b52e698-f4af-433a-87cd-3614ac1d642d"
      },
      "execution_count": 36,
      "outputs": [
        {
          "output_type": "execute_result",
          "data": {
            "text/plain": [
              "<graphviz.dot.Digraph at 0x7f600556dcd0>"
            ],
            "image/svg+xml": "<?xml version=\"1.0\" encoding=\"UTF-8\" standalone=\"no\"?>\n<!DOCTYPE svg PUBLIC \"-//W3C//DTD SVG 1.1//EN\"\n \"http://www.w3.org/Graphics/SVG/1.1/DTD/svg11.dtd\">\n<!-- Generated by graphviz version 2.40.1 (20161225.0304)\n -->\n<!-- Title: %3 Pages: 1 -->\n<svg width=\"14803pt\" height=\"392pt\"\n viewBox=\"0.00 0.00 14803.00 392.00\" xmlns=\"http://www.w3.org/2000/svg\" xmlns:xlink=\"http://www.w3.org/1999/xlink\">\n<g id=\"graph0\" class=\"graph\" transform=\"scale(1 1) rotate(0) translate(4 388)\">\n<title>%3</title>\n<polygon fill=\"#ffffff\" stroke=\"transparent\" points=\"-4,4 -4,-388 14799,-388 14799,4 -4,4\"/>\n<!-- R&#45;Weight -->\n<g id=\"node1\" class=\"node\">\n<title>R&#45;Weight</title>\n<ellipse fill=\"none\" stroke=\"#000000\" cx=\"7622\" cy=\"-366\" rx=\"46.5926\" ry=\"18\"/>\n<text text-anchor=\"middle\" x=\"7622\" y=\"-362.3\" font-family=\"Times,serif\" font-size=\"14.00\" fill=\"#000000\">R&#45;Weight</text>\n</g>\n<!-- R&#45;Distance -->\n<g id=\"node2\" class=\"node\">\n<title>R&#45;Distance</title>\n<ellipse fill=\"none\" stroke=\"#000000\" cx=\"2256\" cy=\"-279\" rx=\"51.9908\" ry=\"18\"/>\n<text text-anchor=\"middle\" x=\"2256\" y=\"-275.3\" font-family=\"Times,serif\" font-size=\"14.00\" fill=\"#000000\">R&#45;Distance</text>\n</g>\n<!-- R&#45;Weight&#45;&gt;R&#45;Distance -->\n<g id=\"edge1\" class=\"edge\">\n<title>R&#45;Weight&#45;&gt;R&#45;Distance</title>\n<path fill=\"none\" stroke=\"#000000\" d=\"M7575.2034,-365.2413C7084.1965,-357.2805 2883.3972,-289.1721 2318.6884,-280.0164\"/>\n<polygon fill=\"#000000\" stroke=\"#000000\" points=\"2318.3685,-276.5108 2308.3131,-279.8482 2318.255,-283.5099 2318.3685,-276.5108\"/>\n<text text-anchor=\"middle\" x=\"5265\" y=\"-318.8\" font-family=\"Times,serif\" font-size=\"14.00\" fill=\"#000000\">4</text>\n</g>\n<!-- L&#45;Distance79 -->\n<g id=\"node84\" class=\"node\">\n<title>L&#45;Distance79</title>\n<ellipse fill=\"none\" stroke=\"#000000\" cx=\"5419\" cy=\"-279\" rx=\"51.1914\" ry=\"18\"/>\n<text text-anchor=\"middle\" x=\"5419\" y=\"-275.3\" font-family=\"Times,serif\" font-size=\"14.00\" fill=\"#000000\">L&#45;Distance</text>\n</g>\n<!-- R&#45;Weight&#45;&gt;L&#45;Distance79 -->\n<g id=\"edge83\" class=\"edge\">\n<title>R&#45;Weight&#45;&gt;L&#45;Distance79</title>\n<path fill=\"none\" stroke=\"#000000\" d=\"M7575.2238,-364.1527C7291.4914,-352.9477 5802.5069,-294.1453 5480.4583,-281.4271\"/>\n<polygon fill=\"#000000\" stroke=\"#000000\" points=\"5480.5133,-277.9266 5470.3829,-281.0292 5480.237,-284.9212 5480.5133,-277.9266\"/>\n<text text-anchor=\"middle\" x=\"6657\" y=\"-318.8\" font-family=\"Times,serif\" font-size=\"14.00\" fill=\"#000000\">2</text>\n</g>\n<!-- R&#45;Distance146 -->\n<g id=\"node151\" class=\"node\">\n<title>R&#45;Distance146</title>\n<ellipse fill=\"none\" stroke=\"#000000\" cx=\"7622\" cy=\"-279\" rx=\"51.9908\" ry=\"18\"/>\n<text text-anchor=\"middle\" x=\"7622\" y=\"-275.3\" font-family=\"Times,serif\" font-size=\"14.00\" fill=\"#000000\">R&#45;Distance</text>\n</g>\n<!-- R&#45;Weight&#45;&gt;R&#45;Distance146 -->\n<g id=\"edge150\" class=\"edge\">\n<title>R&#45;Weight&#45;&gt;R&#45;Distance146</title>\n<path fill=\"none\" stroke=\"#000000\" d=\"M7622,-347.9735C7622,-336.1918 7622,-320.5607 7622,-307.1581\"/>\n<polygon fill=\"#000000\" stroke=\"#000000\" points=\"7625.5001,-307.0033 7622,-297.0034 7618.5001,-307.0034 7625.5001,-307.0033\"/>\n<text text-anchor=\"middle\" x=\"7626\" y=\"-318.8\" font-family=\"Times,serif\" font-size=\"14.00\" fill=\"#000000\">5</text>\n</g>\n<!-- L&#45;Weight215 -->\n<g id=\"node220\" class=\"node\">\n<title>L&#45;Weight215</title>\n<ellipse fill=\"none\" stroke=\"#000000\" cx=\"10625\" cy=\"-279\" rx=\"46.2923\" ry=\"18\"/>\n<text text-anchor=\"middle\" x=\"10625\" y=\"-275.3\" font-family=\"Times,serif\" font-size=\"14.00\" fill=\"#000000\">L&#45;Weight</text>\n</g>\n<!-- R&#45;Weight&#45;&gt;L&#45;Weight215 -->\n<g id=\"edge219\" class=\"edge\">\n<title>R&#45;Weight&#45;&gt;L&#45;Weight215</title>\n<path fill=\"none\" stroke=\"#000000\" d=\"M7668.8682,-364.6422C8016.3743,-354.5746 10189.3053,-291.6225 10568.5656,-280.635\"/>\n<polygon fill=\"#000000\" stroke=\"#000000\" points=\"10568.8508,-284.1283 10578.7452,-280.34 10568.648,-277.1312 10568.8508,-284.1283\"/>\n<text text-anchor=\"middle\" x=\"9308\" y=\"-318.8\" font-family=\"Times,serif\" font-size=\"14.00\" fill=\"#000000\">1</text>\n</g>\n<!-- L&#45;Distance277 -->\n<g id=\"node282\" class=\"node\">\n<title>L&#45;Distance277</title>\n<ellipse fill=\"none\" stroke=\"#000000\" cx=\"13154\" cy=\"-279\" rx=\"51.1914\" ry=\"18\"/>\n<text text-anchor=\"middle\" x=\"13154\" y=\"-275.3\" font-family=\"Times,serif\" font-size=\"14.00\" fill=\"#000000\">L&#45;Distance</text>\n</g>\n<!-- R&#45;Weight&#45;&gt;L&#45;Distance277 -->\n<g id=\"edge281\" class=\"edge\">\n<title>R&#45;Weight&#45;&gt;L&#45;Distance277</title>\n<path fill=\"none\" stroke=\"#000000\" d=\"M7668.9901,-365.261C8170.1156,-357.38 12521.9102,-288.9407 13092.3981,-279.9688\"/>\n<polygon fill=\"#000000\" stroke=\"#000000\" points=\"13092.5349,-283.4672 13102.4786,-279.8103 13092.4248,-276.468 13092.5349,-283.4672\"/>\n<text text-anchor=\"middle\" x=\"10724\" y=\"-318.8\" font-family=\"Times,serif\" font-size=\"14.00\" fill=\"#000000\">3</text>\n</g>\n<!-- L&#45;Distance -->\n<g id=\"node3\" class=\"node\">\n<title>L&#45;Distance</title>\n<ellipse fill=\"none\" stroke=\"#000000\" cx=\"801\" cy=\"-192\" rx=\"51.1914\" ry=\"18\"/>\n<text text-anchor=\"middle\" x=\"801\" y=\"-188.3\" font-family=\"Times,serif\" font-size=\"14.00\" fill=\"#000000\">L&#45;Distance</text>\n</g>\n<!-- R&#45;Distance&#45;&gt;L&#45;Distance -->\n<g id=\"edge2\" class=\"edge\">\n<title>R&#45;Distance&#45;&gt;L&#45;Distance</title>\n<path fill=\"none\" stroke=\"#000000\" d=\"M2204.6432,-275.9292C1982.2627,-262.6322 1102.7855,-210.0449 862.1449,-195.6561\"/>\n<polygon fill=\"#000000\" stroke=\"#000000\" points=\"862.0315,-192.1431 851.8404,-195.0399 861.6137,-199.1307 862.0315,-192.1431\"/>\n<text text-anchor=\"middle\" x=\"1620\" y=\"-231.8\" font-family=\"Times,serif\" font-size=\"14.00\" fill=\"#000000\">1</text>\n</g>\n<!-- L&#45;Distance20 -->\n<g id=\"node25\" class=\"node\">\n<title>L&#45;Distance20</title>\n<ellipse fill=\"none\" stroke=\"#000000\" cx=\"1470\" cy=\"-192\" rx=\"51.1914\" ry=\"18\"/>\n<text text-anchor=\"middle\" x=\"1470\" y=\"-188.3\" font-family=\"Times,serif\" font-size=\"14.00\" fill=\"#000000\">L&#45;Distance</text>\n</g>\n<!-- R&#45;Distance&#45;&gt;L&#45;Distance20 -->\n<g id=\"edge24\" class=\"edge\">\n<title>R&#45;Distance&#45;&gt;L&#45;Distance20</title>\n<path fill=\"none\" stroke=\"#000000\" d=\"M2206.2359,-273.4918C2067.8251,-258.1715 1678.7007,-215.1005 1529.3729,-198.5718\"/>\n<polygon fill=\"#000000\" stroke=\"#000000\" points=\"1529.3668,-195.0498 1519.0424,-197.4284 1528.5967,-202.0074 1529.3668,-195.0498\"/>\n<text text-anchor=\"middle\" x=\"1915\" y=\"-231.8\" font-family=\"Times,serif\" font-size=\"14.00\" fill=\"#000000\">2</text>\n</g>\n<!-- L&#45;Weight36 -->\n<g id=\"node41\" class=\"node\">\n<title>L&#45;Weight36</title>\n<ellipse fill=\"none\" stroke=\"#000000\" cx=\"2185\" cy=\"-192\" rx=\"46.2923\" ry=\"18\"/>\n<text text-anchor=\"middle\" x=\"2185\" y=\"-188.3\" font-family=\"Times,serif\" font-size=\"14.00\" fill=\"#000000\">L&#45;Weight</text>\n</g>\n<!-- R&#45;Distance&#45;&gt;L&#45;Weight36 -->\n<g id=\"edge40\" class=\"edge\">\n<title>R&#45;Distance&#45;&gt;L&#45;Weight36</title>\n<path fill=\"none\" stroke=\"#000000\" d=\"M2241.6321,-261.3943C2231.2671,-248.6935 2217.1233,-231.3624 2205.5637,-217.1977\"/>\n<polygon fill=\"#000000\" stroke=\"#000000\" points=\"2208.1386,-214.8172 2199.1042,-209.2827 2202.7153,-219.2431 2208.1386,-214.8172\"/>\n<text text-anchor=\"middle\" x=\"2229\" y=\"-231.8\" font-family=\"Times,serif\" font-size=\"14.00\" fill=\"#000000\">5</text>\n</g>\n<!-- L&#45;Weight51 -->\n<g id=\"node56\" class=\"node\">\n<title>L&#45;Weight51</title>\n<ellipse fill=\"none\" stroke=\"#000000\" cx=\"2770\" cy=\"-192\" rx=\"46.2923\" ry=\"18\"/>\n<text text-anchor=\"middle\" x=\"2770\" y=\"-188.3\" font-family=\"Times,serif\" font-size=\"14.00\" fill=\"#000000\">L&#45;Weight</text>\n</g>\n<!-- R&#45;Distance&#45;&gt;L&#45;Weight51 -->\n<g id=\"edge55\" class=\"edge\">\n<title>R&#45;Distance&#45;&gt;L&#45;Weight51</title>\n<path fill=\"none\" stroke=\"#000000\" d=\"M2302.9767,-271.0487C2398.9354,-254.8067 2616.8559,-217.9213 2717.3892,-200.9049\"/>\n<polygon fill=\"#000000\" stroke=\"#000000\" points=\"2718.0465,-204.3436 2727.3222,-199.2237 2716.8783,-197.4417 2718.0465,-204.3436\"/>\n<text text-anchor=\"middle\" x=\"2548\" y=\"-231.8\" font-family=\"Times,serif\" font-size=\"14.00\" fill=\"#000000\">3</text>\n</g>\n<!-- L&#45;Distance67 -->\n<g id=\"node72\" class=\"node\">\n<title>L&#45;Distance67</title>\n<ellipse fill=\"none\" stroke=\"#000000\" cx=\"3278\" cy=\"-192\" rx=\"51.1914\" ry=\"18\"/>\n<text text-anchor=\"middle\" x=\"3278\" y=\"-188.3\" font-family=\"Times,serif\" font-size=\"14.00\" fill=\"#000000\">L&#45;Distance</text>\n</g>\n<!-- R&#45;Distance&#45;&gt;L&#45;Distance67 -->\n<g id=\"edge71\" class=\"edge\">\n<title>R&#45;Distance&#45;&gt;L&#45;Distance67</title>\n<path fill=\"none\" stroke=\"#000000\" d=\"M2306.6811,-274.6857C2477.746,-260.1234 3033.3907,-212.8229 3217.8588,-197.1197\"/>\n<polygon fill=\"#000000\" stroke=\"#000000\" points=\"3218.251,-200.599 3227.918,-196.2633 3217.6572,-193.6242 3218.251,-200.599\"/>\n<text text-anchor=\"middle\" x=\"2833\" y=\"-231.8\" font-family=\"Times,serif\" font-size=\"14.00\" fill=\"#000000\">4</text>\n</g>\n<!-- L&#45;Weight -->\n<g id=\"node4\" class=\"node\">\n<title>L&#45;Weight</title>\n<ellipse fill=\"none\" stroke=\"#000000\" cx=\"207\" cy=\"-105\" rx=\"46.2923\" ry=\"18\"/>\n<text text-anchor=\"middle\" x=\"207\" y=\"-101.3\" font-family=\"Times,serif\" font-size=\"14.00\" fill=\"#000000\">L&#45;Weight</text>\n</g>\n<!-- L&#45;Distance&#45;&gt;L&#45;Weight -->\n<g id=\"edge3\" class=\"edge\">\n<title>L&#45;Distance&#45;&gt;L&#45;Weight</title>\n<path fill=\"none\" stroke=\"#000000\" d=\"M753.3946,-185.0275C643.9617,-168.9994 375.1083,-129.6219 260.3351,-112.8117\"/>\n<polygon fill=\"#000000\" stroke=\"#000000\" points=\"260.7745,-109.3388 250.3728,-111.3526 259.76,-116.2649 260.7745,-109.3388\"/>\n<text text-anchor=\"middle\" x=\"544\" y=\"-144.8\" font-family=\"Times,serif\" font-size=\"14.00\" fill=\"#000000\">1</text>\n</g>\n<!-- L&#45;Weight5 -->\n<g id=\"node10\" class=\"node\">\n<title>L&#45;Weight5</title>\n<ellipse fill=\"none\" stroke=\"#000000\" cx=\"495\" cy=\"-105\" rx=\"46.2923\" ry=\"18\"/>\n<text text-anchor=\"middle\" x=\"495\" y=\"-101.3\" font-family=\"Times,serif\" font-size=\"14.00\" fill=\"#000000\">L&#45;Weight</text>\n</g>\n<!-- L&#45;Distance&#45;&gt;L&#45;Weight5 -->\n<g id=\"edge9\" class=\"edge\">\n<title>L&#45;Distance&#45;&gt;L&#45;Weight5</title>\n<path fill=\"none\" stroke=\"#000000\" d=\"M760.9958,-180.6263C704.7926,-164.6469 602.6269,-135.5998 542.5919,-118.531\"/>\n<polygon fill=\"#000000\" stroke=\"#000000\" points=\"543.1886,-115.062 532.6126,-115.6938 541.2742,-121.7952 543.1886,-115.062\"/>\n<text text-anchor=\"middle\" x=\"671\" y=\"-144.8\" font-family=\"Times,serif\" font-size=\"14.00\" fill=\"#000000\">3</text>\n</g>\n<!-- L&#45;Weight9 -->\n<g id=\"node14\" class=\"node\">\n<title>L&#45;Weight9</title>\n<ellipse fill=\"none\" stroke=\"#000000\" cx=\"760\" cy=\"-105\" rx=\"46.2923\" ry=\"18\"/>\n<text text-anchor=\"middle\" x=\"760\" y=\"-101.3\" font-family=\"Times,serif\" font-size=\"14.00\" fill=\"#000000\">L&#45;Weight</text>\n</g>\n<!-- L&#45;Distance&#45;&gt;L&#45;Weight9 -->\n<g id=\"edge13\" class=\"edge\">\n<title>L&#45;Distance&#45;&gt;L&#45;Weight9</title>\n<path fill=\"none\" stroke=\"#000000\" d=\"M792.5048,-173.9735C786.8048,-161.8784 779.1929,-145.7263 772.7681,-132.0934\"/>\n<polygon fill=\"#000000\" stroke=\"#000000\" points=\"775.7731,-130.2595 768.3441,-122.7057 769.4411,-133.2436 775.7731,-130.2595\"/>\n<text text-anchor=\"middle\" x=\"787\" y=\"-144.8\" font-family=\"Times,serif\" font-size=\"14.00\" fill=\"#000000\">2</text>\n</g>\n<!-- L&#45;Weight15 -->\n<g id=\"node20\" class=\"node\">\n<title>L&#45;Weight15</title>\n<ellipse fill=\"none\" stroke=\"#000000\" cx=\"963\" cy=\"-105\" rx=\"46.2923\" ry=\"18\"/>\n<text text-anchor=\"middle\" x=\"963\" y=\"-101.3\" font-family=\"Times,serif\" font-size=\"14.00\" fill=\"#000000\">L&#45;Weight</text>\n</g>\n<!-- L&#45;Distance&#45;&gt;L&#45;Weight15 -->\n<g id=\"edge19\" class=\"edge\">\n<title>L&#45;Distance&#45;&gt;L&#45;Weight15</title>\n<path fill=\"none\" stroke=\"#000000\" d=\"M829.2182,-176.8458C856.2122,-162.349 897.0584,-140.4131 926.5137,-124.5945\"/>\n<polygon fill=\"#000000\" stroke=\"#000000\" points=\"928.4909,-127.5055 935.6449,-119.6907 925.179,-121.3385 928.4909,-127.5055\"/>\n<text text-anchor=\"middle\" x=\"896\" y=\"-144.8\" font-family=\"Times,serif\" font-size=\"14.00\" fill=\"#000000\">4</text>\n</g>\n<!-- L19 -->\n<g id=\"node24\" class=\"node\">\n<title>L19</title>\n<ellipse fill=\"none\" stroke=\"#000000\" cx=\"1054\" cy=\"-105\" rx=\"27\" ry=\"18\"/>\n<text text-anchor=\"middle\" x=\"1054\" y=\"-101.3\" font-family=\"Times,serif\" font-size=\"14.00\" fill=\"#000000\">L</text>\n</g>\n<!-- L&#45;Distance&#45;&gt;L19 -->\n<g id=\"edge23\" class=\"edge\">\n<title>L&#45;Distance&#45;&gt;L19</title>\n<path fill=\"none\" stroke=\"#000000\" d=\"M842.064,-181.0099C886.2087,-168.7199 958.1145,-147.3196 1018,-123 1019.7966,-122.2704 1021.6267,-121.4875 1023.4619,-120.6713\"/>\n<polygon fill=\"#000000\" stroke=\"#000000\" points=\"1024.9833,-123.8237 1032.5496,-116.4073 1022.0099,-117.4866 1024.9833,-123.8237\"/>\n<text text-anchor=\"middle\" x=\"970\" y=\"-144.8\" font-family=\"Times,serif\" font-size=\"14.00\" fill=\"#000000\">5</text>\n</g>\n<!-- L0 -->\n<g id=\"node5\" class=\"node\">\n<title>L0</title>\n<ellipse fill=\"none\" stroke=\"#000000\" cx=\"27\" cy=\"-18\" rx=\"27\" ry=\"18\"/>\n<text text-anchor=\"middle\" x=\"27\" y=\"-14.3\" font-family=\"Times,serif\" font-size=\"14.00\" fill=\"#000000\">L</text>\n</g>\n<!-- L&#45;Weight&#45;&gt;L0 -->\n<g id=\"edge4\" class=\"edge\">\n<title>L&#45;Weight&#45;&gt;L0</title>\n<path fill=\"none\" stroke=\"#000000\" d=\"M177.4206,-91.0047C148.2608,-77.166 102.4641,-55.3193 63,-36 61.2584,-35.1474 59.4714,-34.2682 57.6692,-33.378\"/>\n<polygon fill=\"#000000\" stroke=\"#000000\" points=\"59.1859,-30.2235 48.6728,-28.91 56.0722,-36.4929 59.1859,-30.2235\"/>\n<text text-anchor=\"middle\" x=\"134\" y=\"-57.8\" font-family=\"Times,serif\" font-size=\"14.00\" fill=\"#000000\">5</text>\n</g>\n<!-- B1 -->\n<g id=\"node6\" class=\"node\">\n<title>B1</title>\n<ellipse fill=\"none\" stroke=\"#000000\" cx=\"99\" cy=\"-18\" rx=\"27\" ry=\"18\"/>\n<text text-anchor=\"middle\" x=\"99\" y=\"-14.3\" font-family=\"Times,serif\" font-size=\"14.00\" fill=\"#000000\">B</text>\n</g>\n<!-- L&#45;Weight&#45;&gt;B1 -->\n<g id=\"edge5\" class=\"edge\">\n<title>L&#45;Weight&#45;&gt;B1</title>\n<path fill=\"none\" stroke=\"#000000\" d=\"M186.686,-88.636C169.0147,-74.4007 143.33,-53.7103 124.3227,-38.3989\"/>\n<polygon fill=\"#000000\" stroke=\"#000000\" points=\"126.354,-35.5408 116.3708,-31.9931 121.9627,-40.9921 126.354,-35.5408\"/>\n<text text-anchor=\"middle\" x=\"164\" y=\"-57.8\" font-family=\"Times,serif\" font-size=\"14.00\" fill=\"#000000\">4</text>\n</g>\n<!-- R2 -->\n<g id=\"node7\" class=\"node\">\n<title>R2</title>\n<ellipse fill=\"none\" stroke=\"#000000\" cx=\"171\" cy=\"-18\" rx=\"27\" ry=\"18\"/>\n<text text-anchor=\"middle\" x=\"171\" y=\"-14.3\" font-family=\"Times,serif\" font-size=\"14.00\" fill=\"#000000\">R</text>\n</g>\n<!-- L&#45;Weight&#45;&gt;R2 -->\n<g id=\"edge6\" class=\"edge\">\n<title>L&#45;Weight&#45;&gt;R2</title>\n<path fill=\"none\" stroke=\"#000000\" d=\"M199.5408,-86.9735C194.5027,-74.7983 187.7637,-58.5122 182.0991,-44.8228\"/>\n<polygon fill=\"#000000\" stroke=\"#000000\" points=\"185.2617,-43.3116 178.204,-35.4097 178.7935,-45.9881 185.2617,-43.3116\"/>\n<text text-anchor=\"middle\" x=\"196\" y=\"-57.8\" font-family=\"Times,serif\" font-size=\"14.00\" fill=\"#000000\">1</text>\n</g>\n<!-- R3 -->\n<g id=\"node8\" class=\"node\">\n<title>R3</title>\n<ellipse fill=\"none\" stroke=\"#000000\" cx=\"243\" cy=\"-18\" rx=\"27\" ry=\"18\"/>\n<text text-anchor=\"middle\" x=\"243\" y=\"-14.3\" font-family=\"Times,serif\" font-size=\"14.00\" fill=\"#000000\">R</text>\n</g>\n<!-- L&#45;Weight&#45;&gt;R3 -->\n<g id=\"edge7\" class=\"edge\">\n<title>L&#45;Weight&#45;&gt;R3</title>\n<path fill=\"none\" stroke=\"#000000\" d=\"M214.4592,-86.9735C219.4973,-74.7983 226.2363,-58.5122 231.9009,-44.8228\"/>\n<polygon fill=\"#000000\" stroke=\"#000000\" points=\"235.2065,-45.9881 235.796,-35.4097 228.7383,-43.3116 235.2065,-45.9881\"/>\n<text text-anchor=\"middle\" x=\"232\" y=\"-57.8\" font-family=\"Times,serif\" font-size=\"14.00\" fill=\"#000000\">3</text>\n</g>\n<!-- R4 -->\n<g id=\"node9\" class=\"node\">\n<title>R4</title>\n<ellipse fill=\"none\" stroke=\"#000000\" cx=\"315\" cy=\"-18\" rx=\"27\" ry=\"18\"/>\n<text text-anchor=\"middle\" x=\"315\" y=\"-14.3\" font-family=\"Times,serif\" font-size=\"14.00\" fill=\"#000000\">R</text>\n</g>\n<!-- L&#45;Weight&#45;&gt;R4 -->\n<g id=\"edge8\" class=\"edge\">\n<title>L&#45;Weight&#45;&gt;R4</title>\n<path fill=\"none\" stroke=\"#000000\" d=\"M227.314,-88.636C244.9853,-74.4007 270.67,-53.7103 289.6773,-38.3989\"/>\n<polygon fill=\"#000000\" stroke=\"#000000\" points=\"292.0373,-40.9921 297.6292,-31.9931 287.646,-35.5408 292.0373,-40.9921\"/>\n<text text-anchor=\"middle\" x=\"272\" y=\"-57.8\" font-family=\"Times,serif\" font-size=\"14.00\" fill=\"#000000\">2</text>\n</g>\n<!-- L6 -->\n<g id=\"node11\" class=\"node\">\n<title>L6</title>\n<ellipse fill=\"none\" stroke=\"#000000\" cx=\"387\" cy=\"-18\" rx=\"27\" ry=\"18\"/>\n<text text-anchor=\"middle\" x=\"387\" y=\"-14.3\" font-family=\"Times,serif\" font-size=\"14.00\" fill=\"#000000\">L</text>\n</g>\n<!-- L&#45;Weight5&#45;&gt;L6 -->\n<g id=\"edge10\" class=\"edge\">\n<title>L&#45;Weight5&#45;&gt;L6</title>\n<path fill=\"none\" stroke=\"#000000\" d=\"M474.686,-88.636C457.0147,-74.4007 431.33,-53.7103 412.3227,-38.3989\"/>\n<polygon fill=\"#000000\" stroke=\"#000000\" points=\"414.354,-35.5408 404.3708,-31.9931 409.9627,-40.9921 414.354,-35.5408\"/>\n<text text-anchor=\"middle\" x=\"452\" y=\"-57.8\" font-family=\"Times,serif\" font-size=\"14.00\" fill=\"#000000\">5</text>\n</g>\n<!-- L7 -->\n<g id=\"node12\" class=\"node\">\n<title>L7</title>\n<ellipse fill=\"none\" stroke=\"#000000\" cx=\"459\" cy=\"-18\" rx=\"27\" ry=\"18\"/>\n<text text-anchor=\"middle\" x=\"459\" y=\"-14.3\" font-family=\"Times,serif\" font-size=\"14.00\" fill=\"#000000\">L</text>\n</g>\n<!-- L&#45;Weight5&#45;&gt;L7 -->\n<g id=\"edge11\" class=\"edge\">\n<title>L&#45;Weight5&#45;&gt;L7</title>\n<path fill=\"none\" stroke=\"#000000\" d=\"M487.5408,-86.9735C482.5027,-74.7983 475.7637,-58.5122 470.0991,-44.8228\"/>\n<polygon fill=\"#000000\" stroke=\"#000000\" points=\"473.2617,-43.3116 466.204,-35.4097 466.7935,-45.9881 473.2617,-43.3116\"/>\n<text text-anchor=\"middle\" x=\"484\" y=\"-57.8\" font-family=\"Times,serif\" font-size=\"14.00\" fill=\"#000000\">2</text>\n</g>\n<!-- R8 -->\n<g id=\"node13\" class=\"node\">\n<title>R8</title>\n<ellipse fill=\"none\" stroke=\"#000000\" cx=\"531\" cy=\"-18\" rx=\"27\" ry=\"18\"/>\n<text text-anchor=\"middle\" x=\"531\" y=\"-14.3\" font-family=\"Times,serif\" font-size=\"14.00\" fill=\"#000000\">R</text>\n</g>\n<!-- L&#45;Weight5&#45;&gt;R8 -->\n<g id=\"edge12\" class=\"edge\">\n<title>L&#45;Weight5&#45;&gt;R8</title>\n<path fill=\"none\" stroke=\"#000000\" d=\"M502.4592,-86.9735C507.4973,-74.7983 514.2363,-58.5122 519.9009,-44.8228\"/>\n<polygon fill=\"#000000\" stroke=\"#000000\" points=\"523.2065,-45.9881 523.796,-35.4097 516.7383,-43.3116 523.2065,-45.9881\"/>\n<text text-anchor=\"middle\" x=\"520\" y=\"-57.8\" font-family=\"Times,serif\" font-size=\"14.00\" fill=\"#000000\">1</text>\n</g>\n<!-- B10 -->\n<g id=\"node15\" class=\"node\">\n<title>B10</title>\n<ellipse fill=\"none\" stroke=\"#000000\" cx=\"603\" cy=\"-18\" rx=\"27\" ry=\"18\"/>\n<text text-anchor=\"middle\" x=\"603\" y=\"-14.3\" font-family=\"Times,serif\" font-size=\"14.00\" fill=\"#000000\">B</text>\n</g>\n<!-- L&#45;Weight9&#45;&gt;B10 -->\n<g id=\"edge14\" class=\"edge\">\n<title>L&#45;Weight9&#45;&gt;B10</title>\n<path fill=\"none\" stroke=\"#000000\" d=\"M733.3671,-90.2416C705.5794,-74.8433 662.097,-50.748 633.0867,-34.6722\"/>\n<polygon fill=\"#000000\" stroke=\"#000000\" points=\"634.6578,-31.5414 624.2145,-29.7558 631.2649,-37.6642 634.6578,-31.5414\"/>\n<text text-anchor=\"middle\" x=\"695\" y=\"-57.8\" font-family=\"Times,serif\" font-size=\"14.00\" fill=\"#000000\">2</text>\n</g>\n<!-- L11 -->\n<g id=\"node16\" class=\"node\">\n<title>L11</title>\n<ellipse fill=\"none\" stroke=\"#000000\" cx=\"675\" cy=\"-18\" rx=\"27\" ry=\"18\"/>\n<text text-anchor=\"middle\" x=\"675\" y=\"-14.3\" font-family=\"Times,serif\" font-size=\"14.00\" fill=\"#000000\">L</text>\n</g>\n<!-- L&#45;Weight9&#45;&gt;L11 -->\n<g id=\"edge15\" class=\"edge\">\n<title>L&#45;Weight9&#45;&gt;L11</title>\n<path fill=\"none\" stroke=\"#000000\" d=\"M743.2067,-87.8116C729.9402,-74.2329 711.3207,-55.1753 696.8869,-40.4019\"/>\n<polygon fill=\"#000000\" stroke=\"#000000\" points=\"699.2629,-37.8254 689.771,-33.1185 694.2559,-42.7173 699.2629,-37.8254\"/>\n<text text-anchor=\"middle\" x=\"727\" y=\"-57.8\" font-family=\"Times,serif\" font-size=\"14.00\" fill=\"#000000\">3</text>\n</g>\n<!-- R12 -->\n<g id=\"node17\" class=\"node\">\n<title>R12</title>\n<ellipse fill=\"none\" stroke=\"#000000\" cx=\"747\" cy=\"-18\" rx=\"27\" ry=\"18\"/>\n<text text-anchor=\"middle\" x=\"747\" y=\"-14.3\" font-family=\"Times,serif\" font-size=\"14.00\" fill=\"#000000\">R</text>\n</g>\n<!-- L&#45;Weight9&#45;&gt;R12 -->\n<g id=\"edge16\" class=\"edge\">\n<title>L&#45;Weight9&#45;&gt;R12</title>\n<path fill=\"none\" stroke=\"#000000\" d=\"M757.3064,-86.9735C755.5459,-75.1918 753.2102,-59.5607 751.2075,-46.1581\"/>\n<polygon fill=\"#000000\" stroke=\"#000000\" points=\"754.6297,-45.3763 749.6902,-36.0034 747.7065,-46.4108 754.6297,-45.3763\"/>\n<text text-anchor=\"middle\" x=\"759\" y=\"-57.8\" font-family=\"Times,serif\" font-size=\"14.00\" fill=\"#000000\">1</text>\n</g>\n<!-- L13 -->\n<g id=\"node18\" class=\"node\">\n<title>L13</title>\n<ellipse fill=\"none\" stroke=\"#000000\" cx=\"819\" cy=\"-18\" rx=\"27\" ry=\"18\"/>\n<text text-anchor=\"middle\" x=\"819\" y=\"-14.3\" font-family=\"Times,serif\" font-size=\"14.00\" fill=\"#000000\">L</text>\n</g>\n<!-- L&#45;Weight9&#45;&gt;L13 -->\n<g id=\"edge17\" class=\"edge\">\n<title>L&#45;Weight9&#45;&gt;L13</title>\n<path fill=\"none\" stroke=\"#000000\" d=\"M771.9395,-87.3943C780.6395,-74.5655 792.5432,-57.0126 802.2017,-42.7704\"/>\n<polygon fill=\"#000000\" stroke=\"#000000\" points=\"805.1606,-44.6432 807.8766,-34.4024 799.3671,-40.7143 805.1606,-44.6432\"/>\n<text text-anchor=\"middle\" x=\"798\" y=\"-57.8\" font-family=\"Times,serif\" font-size=\"14.00\" fill=\"#000000\">5</text>\n</g>\n<!-- L14 -->\n<g id=\"node19\" class=\"node\">\n<title>L14</title>\n<ellipse fill=\"none\" stroke=\"#000000\" cx=\"891\" cy=\"-18\" rx=\"27\" ry=\"18\"/>\n<text text-anchor=\"middle\" x=\"891\" y=\"-14.3\" font-family=\"Times,serif\" font-size=\"14.00\" fill=\"#000000\">L</text>\n</g>\n<!-- L&#45;Weight9&#45;&gt;L14 -->\n<g id=\"edge18\" class=\"edge\">\n<title>L&#45;Weight9&#45;&gt;L14</title>\n<path fill=\"none\" stroke=\"#000000\" d=\"M783.4202,-89.4461C805.7382,-74.6242 839.3594,-52.2957 863.0644,-36.5526\"/>\n<polygon fill=\"#000000\" stroke=\"#000000\" points=\"865.2259,-39.3188 871.6198,-30.8708 861.3532,-33.4875 865.2259,-39.3188\"/>\n<text text-anchor=\"middle\" x=\"838\" y=\"-57.8\" font-family=\"Times,serif\" font-size=\"14.00\" fill=\"#000000\">4</text>\n</g>\n<!-- L16 -->\n<g id=\"node21\" class=\"node\">\n<title>L16</title>\n<ellipse fill=\"none\" stroke=\"#000000\" cx=\"963\" cy=\"-18\" rx=\"27\" ry=\"18\"/>\n<text text-anchor=\"middle\" x=\"963\" y=\"-14.3\" font-family=\"Times,serif\" font-size=\"14.00\" fill=\"#000000\">L</text>\n</g>\n<!-- L&#45;Weight15&#45;&gt;L16 -->\n<g id=\"edge20\" class=\"edge\">\n<title>L&#45;Weight15&#45;&gt;L16</title>\n<path fill=\"none\" stroke=\"#000000\" d=\"M963,-86.9735C963,-75.1918 963,-59.5607 963,-46.1581\"/>\n<polygon fill=\"#000000\" stroke=\"#000000\" points=\"966.5001,-46.0033 963,-36.0034 959.5001,-46.0034 966.5001,-46.0033\"/>\n<text text-anchor=\"middle\" x=\"967\" y=\"-57.8\" font-family=\"Times,serif\" font-size=\"14.00\" fill=\"#000000\">3</text>\n</g>\n<!-- B17 -->\n<g id=\"node22\" class=\"node\">\n<title>B17</title>\n<ellipse fill=\"none\" stroke=\"#000000\" cx=\"1035\" cy=\"-18\" rx=\"27\" ry=\"18\"/>\n<text text-anchor=\"middle\" x=\"1035\" y=\"-14.3\" font-family=\"Times,serif\" font-size=\"14.00\" fill=\"#000000\">B</text>\n</g>\n<!-- L&#45;Weight15&#45;&gt;B17 -->\n<g id=\"edge21\" class=\"edge\">\n<title>L&#45;Weight15&#45;&gt;B17</title>\n<path fill=\"none\" stroke=\"#000000\" d=\"M977.2249,-87.8116C988.0506,-74.7305 1003.0845,-56.5645 1015.1027,-42.0425\"/>\n<polygon fill=\"#000000\" stroke=\"#000000\" points=\"1018.0964,-43.9148 1021.7758,-33.9793 1012.7037,-39.4518 1018.0964,-43.9148\"/>\n<text text-anchor=\"middle\" x=\"1008\" y=\"-57.8\" font-family=\"Times,serif\" font-size=\"14.00\" fill=\"#000000\">1</text>\n</g>\n<!-- L18 -->\n<g id=\"node23\" class=\"node\">\n<title>L18</title>\n<ellipse fill=\"none\" stroke=\"#000000\" cx=\"1107\" cy=\"-18\" rx=\"27\" ry=\"18\"/>\n<text text-anchor=\"middle\" x=\"1107\" y=\"-14.3\" font-family=\"Times,serif\" font-size=\"14.00\" fill=\"#000000\">L</text>\n</g>\n<!-- L&#45;Weight15&#45;&gt;L18 -->\n<g id=\"edge22\" class=\"edge\">\n<title>L&#45;Weight15&#45;&gt;L18</title>\n<path fill=\"none\" stroke=\"#000000\" d=\"M988.0829,-89.8458C1013.1672,-74.6907 1051.7085,-51.4053 1078.0703,-35.4784\"/>\n<polygon fill=\"#000000\" stroke=\"#000000\" points=\"1080.0955,-38.344 1086.8448,-30.1771 1076.4757,-32.3526 1080.0955,-38.344\"/>\n<text text-anchor=\"middle\" x=\"1048\" y=\"-57.8\" font-family=\"Times,serif\" font-size=\"14.00\" fill=\"#000000\">4</text>\n</g>\n<!-- L&#45;Weight21 -->\n<g id=\"node26\" class=\"node\">\n<title>L&#45;Weight21</title>\n<ellipse fill=\"none\" stroke=\"#000000\" cx=\"1268\" cy=\"-105\" rx=\"46.2923\" ry=\"18\"/>\n<text text-anchor=\"middle\" x=\"1268\" y=\"-101.3\" font-family=\"Times,serif\" font-size=\"14.00\" fill=\"#000000\">L&#45;Weight</text>\n</g>\n<!-- L&#45;Distance20&#45;&gt;L&#45;Weight21 -->\n<g id=\"edge25\" class=\"edge\">\n<title>L&#45;Distance20&#45;&gt;L&#45;Weight21</title>\n<path fill=\"none\" stroke=\"#000000\" d=\"M1437.5452,-178.0219C1402.3835,-162.878 1346.236,-138.6957 1308.2811,-122.3488\"/>\n<polygon fill=\"#000000\" stroke=\"#000000\" points=\"1309.6163,-119.1131 1299.0474,-118.3719 1306.8473,-125.5421 1309.6163,-119.1131\"/>\n<text text-anchor=\"middle\" x=\"1386\" y=\"-144.8\" font-family=\"Times,serif\" font-size=\"14.00\" fill=\"#000000\">4</text>\n</g>\n<!-- L25 -->\n<g id=\"node30\" class=\"node\">\n<title>L25</title>\n<ellipse fill=\"none\" stroke=\"#000000\" cx=\"1368\" cy=\"-105\" rx=\"27\" ry=\"18\"/>\n<text text-anchor=\"middle\" x=\"1368\" y=\"-101.3\" font-family=\"Times,serif\" font-size=\"14.00\" fill=\"#000000\">L</text>\n</g>\n<!-- L&#45;Distance20&#45;&gt;L25 -->\n<g id=\"edge29\" class=\"edge\">\n<title>L&#45;Distance20&#45;&gt;L25</title>\n<path fill=\"none\" stroke=\"#000000\" d=\"M1450.3334,-175.2255C1433.8671,-161.1808 1410.2859,-141.0674 1392.5771,-125.9628\"/>\n<polygon fill=\"#000000\" stroke=\"#000000\" points=\"1394.7801,-123.2417 1384.9004,-119.4151 1390.2375,-128.5675 1394.7801,-123.2417\"/>\n<text text-anchor=\"middle\" x=\"1430\" y=\"-144.8\" font-family=\"Times,serif\" font-size=\"14.00\" fill=\"#000000\">5</text>\n</g>\n<!-- R26 -->\n<g id=\"node31\" class=\"node\">\n<title>R26</title>\n<ellipse fill=\"none\" stroke=\"#000000\" cx=\"1440\" cy=\"-105\" rx=\"27\" ry=\"18\"/>\n<text text-anchor=\"middle\" x=\"1440\" y=\"-101.3\" font-family=\"Times,serif\" font-size=\"14.00\" fill=\"#000000\">R</text>\n</g>\n<!-- L&#45;Distance20&#45;&gt;R26 -->\n<g id=\"edge30\" class=\"edge\">\n<title>L&#45;Distance20&#45;&gt;R26</title>\n<path fill=\"none\" stroke=\"#000000\" d=\"M1463.784,-173.9735C1459.6537,-161.9958 1454.1516,-146.0396 1449.4797,-132.4912\"/>\n<polygon fill=\"#000000\" stroke=\"#000000\" points=\"1452.6742,-131.0184 1446.1054,-122.7057 1446.0566,-133.3004 1452.6742,-131.0184\"/>\n<text text-anchor=\"middle\" x=\"1461\" y=\"-144.8\" font-family=\"Times,serif\" font-size=\"14.00\" fill=\"#000000\">1</text>\n</g>\n<!-- L&#45;Weight27 -->\n<g id=\"node32\" class=\"node\">\n<title>L&#45;Weight27</title>\n<ellipse fill=\"none\" stroke=\"#000000\" cx=\"1531\" cy=\"-105\" rx=\"46.2923\" ry=\"18\"/>\n<text text-anchor=\"middle\" x=\"1531\" y=\"-101.3\" font-family=\"Times,serif\" font-size=\"14.00\" fill=\"#000000\">L&#45;Weight</text>\n</g>\n<!-- L&#45;Distance20&#45;&gt;L&#45;Weight27 -->\n<g id=\"edge31\" class=\"edge\">\n<title>L&#45;Distance20&#45;&gt;L&#45;Weight27</title>\n<path fill=\"none\" stroke=\"#000000\" d=\"M1482.3443,-174.3943C1491.1085,-161.8944 1503.0174,-144.9096 1512.8596,-130.8724\"/>\n<polygon fill=\"#000000\" stroke=\"#000000\" points=\"1515.7989,-132.7768 1518.6741,-122.5796 1510.0673,-128.7581 1515.7989,-132.7768\"/>\n<text text-anchor=\"middle\" x=\"1509\" y=\"-144.8\" font-family=\"Times,serif\" font-size=\"14.00\" fill=\"#000000\">2</text>\n</g>\n<!-- L&#45;Weight31 -->\n<g id=\"node36\" class=\"node\">\n<title>L&#45;Weight31</title>\n<ellipse fill=\"none\" stroke=\"#000000\" cx=\"1683\" cy=\"-105\" rx=\"46.2923\" ry=\"18\"/>\n<text text-anchor=\"middle\" x=\"1683\" y=\"-101.3\" font-family=\"Times,serif\" font-size=\"14.00\" fill=\"#000000\">L&#45;Weight</text>\n</g>\n<!-- L&#45;Distance20&#45;&gt;L&#45;Weight31 -->\n<g id=\"edge35\" class=\"edge\">\n<title>L&#45;Distance20&#45;&gt;L&#45;Weight31</title>\n<path fill=\"none\" stroke=\"#000000\" d=\"M1503.7505,-178.2146C1541.1085,-162.9557 1601.3433,-138.3527 1641.5421,-121.9335\"/>\n<polygon fill=\"#000000\" stroke=\"#000000\" points=\"1642.8676,-125.1729 1650.8017,-118.1514 1640.2207,-118.6926 1642.8676,-125.1729\"/>\n<text text-anchor=\"middle\" x=\"1594\" y=\"-144.8\" font-family=\"Times,serif\" font-size=\"14.00\" fill=\"#000000\">3</text>\n</g>\n<!-- R22 -->\n<g id=\"node27\" class=\"node\">\n<title>R22</title>\n<ellipse fill=\"none\" stroke=\"#000000\" cx=\"1179\" cy=\"-18\" rx=\"27\" ry=\"18\"/>\n<text text-anchor=\"middle\" x=\"1179\" y=\"-14.3\" font-family=\"Times,serif\" font-size=\"14.00\" fill=\"#000000\">R</text>\n</g>\n<!-- L&#45;Weight21&#45;&gt;R22 -->\n<g id=\"edge26\" class=\"edge\">\n<title>L&#45;Weight21&#45;&gt;R22</title>\n<path fill=\"none\" stroke=\"#000000\" d=\"M1250.8399,-88.2255C1236.9032,-74.602 1217.1252,-55.2685 1201.8486,-40.3351\"/>\n<polygon fill=\"#000000\" stroke=\"#000000\" points=\"1203.9226,-37.468 1194.325,-32.9806 1199.0293,-42.4737 1203.9226,-37.468\"/>\n<text text-anchor=\"middle\" x=\"1233\" y=\"-57.8\" font-family=\"Times,serif\" font-size=\"14.00\" fill=\"#000000\">1</text>\n</g>\n<!-- L23 -->\n<g id=\"node28\" class=\"node\">\n<title>L23</title>\n<ellipse fill=\"none\" stroke=\"#000000\" cx=\"1251\" cy=\"-18\" rx=\"27\" ry=\"18\"/>\n<text text-anchor=\"middle\" x=\"1251\" y=\"-14.3\" font-family=\"Times,serif\" font-size=\"14.00\" fill=\"#000000\">L</text>\n</g>\n<!-- L&#45;Weight21&#45;&gt;L23 -->\n<g id=\"edge27\" class=\"edge\">\n<title>L&#45;Weight21&#45;&gt;L23</title>\n<path fill=\"none\" stroke=\"#000000\" d=\"M1264.4776,-86.9735C1262.1754,-75.1918 1259.121,-59.5607 1256.5022,-46.1581\"/>\n<polygon fill=\"#000000\" stroke=\"#000000\" points=\"1259.8708,-45.1465 1254.5179,-36.0034 1253.0007,-46.489 1259.8708,-45.1465\"/>\n<text text-anchor=\"middle\" x=\"1265\" y=\"-57.8\" font-family=\"Times,serif\" font-size=\"14.00\" fill=\"#000000\">3</text>\n</g>\n<!-- L24 -->\n<g id=\"node29\" class=\"node\">\n<title>L24</title>\n<ellipse fill=\"none\" stroke=\"#000000\" cx=\"1323\" cy=\"-18\" rx=\"27\" ry=\"18\"/>\n<text text-anchor=\"middle\" x=\"1323\" y=\"-14.3\" font-family=\"Times,serif\" font-size=\"14.00\" fill=\"#000000\">L</text>\n</g>\n<!-- L&#45;Weight21&#45;&gt;L24 -->\n<g id=\"edge28\" class=\"edge\">\n<title>L&#45;Weight21&#45;&gt;L24</title>\n<path fill=\"none\" stroke=\"#000000\" d=\"M1279.1301,-87.3943C1287.1122,-74.768 1297.9873,-57.5655 1306.9127,-43.4473\"/>\n<polygon fill=\"#000000\" stroke=\"#000000\" points=\"1310.0611,-45.0169 1312.4463,-34.694 1304.1443,-41.2764 1310.0611,-45.0169\"/>\n<text text-anchor=\"middle\" x=\"1303\" y=\"-57.8\" font-family=\"Times,serif\" font-size=\"14.00\" fill=\"#000000\">4</text>\n</g>\n<!-- R28 -->\n<g id=\"node33\" class=\"node\">\n<title>R28</title>\n<ellipse fill=\"none\" stroke=\"#000000\" cx=\"1395\" cy=\"-18\" rx=\"27\" ry=\"18\"/>\n<text text-anchor=\"middle\" x=\"1395\" y=\"-14.3\" font-family=\"Times,serif\" font-size=\"14.00\" fill=\"#000000\">R</text>\n</g>\n<!-- L&#45;Weight27&#45;&gt;R28 -->\n<g id=\"edge32\" class=\"edge\">\n<title>L&#45;Weight27&#45;&gt;R28</title>\n<path fill=\"none\" stroke=\"#000000\" d=\"M1506.6859,-89.4461C1483.2779,-74.4719 1447.8928,-51.8358 1423.2462,-36.0693\"/>\n<polygon fill=\"#000000\" stroke=\"#000000\" points=\"1425.0038,-33.0387 1414.6938,-30.5983 1421.2316,-38.9354 1425.0038,-33.0387\"/>\n<text text-anchor=\"middle\" x=\"1476\" y=\"-57.8\" font-family=\"Times,serif\" font-size=\"14.00\" fill=\"#000000\">3</text>\n</g>\n<!-- B29 -->\n<g id=\"node34\" class=\"node\">\n<title>B29</title>\n<ellipse fill=\"none\" stroke=\"#000000\" cx=\"1467\" cy=\"-18\" rx=\"27\" ry=\"18\"/>\n<text text-anchor=\"middle\" x=\"1467\" y=\"-14.3\" font-family=\"Times,serif\" font-size=\"14.00\" fill=\"#000000\">B</text>\n</g>\n<!-- L&#45;Weight27&#45;&gt;B29 -->\n<g id=\"edge33\" class=\"edge\">\n<title>L&#45;Weight27&#45;&gt;B29</title>\n<path fill=\"none\" stroke=\"#000000\" d=\"M1518.0486,-87.3943C1508.6114,-74.5655 1495.6989,-57.0126 1485.2219,-42.7704\"/>\n<polygon fill=\"#000000\" stroke=\"#000000\" points=\"1487.8111,-40.3836 1479.0661,-34.4024 1482.1725,-44.5316 1487.8111,-40.3836\"/>\n<text text-anchor=\"middle\" x=\"1507\" y=\"-57.8\" font-family=\"Times,serif\" font-size=\"14.00\" fill=\"#000000\">4</text>\n</g>\n<!-- R30 -->\n<g id=\"node35\" class=\"node\">\n<title>R30</title>\n<ellipse fill=\"none\" stroke=\"#000000\" cx=\"1539\" cy=\"-18\" rx=\"27\" ry=\"18\"/>\n<text text-anchor=\"middle\" x=\"1539\" y=\"-14.3\" font-family=\"Times,serif\" font-size=\"14.00\" fill=\"#000000\">R</text>\n</g>\n<!-- L&#45;Weight27&#45;&gt;R30 -->\n<g id=\"edge34\" class=\"edge\">\n<title>L&#45;Weight27&#45;&gt;R30</title>\n<path fill=\"none\" stroke=\"#000000\" d=\"M1532.6576,-86.9735C1533.741,-75.1918 1535.1783,-59.5607 1536.4108,-46.1581\"/>\n<polygon fill=\"#000000\" stroke=\"#000000\" points=\"1539.914,-46.2819 1537.3445,-36.0034 1532.9435,-45.6408 1539.914,-46.2819\"/>\n<text text-anchor=\"middle\" x=\"1540\" y=\"-57.8\" font-family=\"Times,serif\" font-size=\"14.00\" fill=\"#000000\">2</text>\n</g>\n<!-- R32 -->\n<g id=\"node37\" class=\"node\">\n<title>R32</title>\n<ellipse fill=\"none\" stroke=\"#000000\" cx=\"1611\" cy=\"-18\" rx=\"27\" ry=\"18\"/>\n<text text-anchor=\"middle\" x=\"1611\" y=\"-14.3\" font-family=\"Times,serif\" font-size=\"14.00\" fill=\"#000000\">R</text>\n</g>\n<!-- L&#45;Weight31&#45;&gt;R32 -->\n<g id=\"edge36\" class=\"edge\">\n<title>L&#45;Weight31&#45;&gt;R32</title>\n<path fill=\"none\" stroke=\"#000000\" d=\"M1668.7751,-87.8116C1657.9494,-74.7305 1642.9155,-56.5645 1630.8973,-42.0425\"/>\n<polygon fill=\"#000000\" stroke=\"#000000\" points=\"1633.2963,-39.4518 1624.2242,-33.9793 1627.9036,-43.9148 1633.2963,-39.4518\"/>\n<text text-anchor=\"middle\" x=\"1656\" y=\"-57.8\" font-family=\"Times,serif\" font-size=\"14.00\" fill=\"#000000\">1</text>\n</g>\n<!-- L33 -->\n<g id=\"node38\" class=\"node\">\n<title>L33</title>\n<ellipse fill=\"none\" stroke=\"#000000\" cx=\"1683\" cy=\"-18\" rx=\"27\" ry=\"18\"/>\n<text text-anchor=\"middle\" x=\"1683\" y=\"-14.3\" font-family=\"Times,serif\" font-size=\"14.00\" fill=\"#000000\">L</text>\n</g>\n<!-- L&#45;Weight31&#45;&gt;L33 -->\n<g id=\"edge37\" class=\"edge\">\n<title>L&#45;Weight31&#45;&gt;L33</title>\n<path fill=\"none\" stroke=\"#000000\" d=\"M1683,-86.9735C1683,-75.1918 1683,-59.5607 1683,-46.1581\"/>\n<polygon fill=\"#000000\" stroke=\"#000000\" points=\"1686.5001,-46.0033 1683,-36.0034 1679.5001,-46.0034 1686.5001,-46.0033\"/>\n<text text-anchor=\"middle\" x=\"1687\" y=\"-57.8\" font-family=\"Times,serif\" font-size=\"14.00\" fill=\"#000000\">5</text>\n</g>\n<!-- L34 -->\n<g id=\"node39\" class=\"node\">\n<title>L34</title>\n<ellipse fill=\"none\" stroke=\"#000000\" cx=\"1755\" cy=\"-18\" rx=\"27\" ry=\"18\"/>\n<text text-anchor=\"middle\" x=\"1755\" y=\"-14.3\" font-family=\"Times,serif\" font-size=\"14.00\" fill=\"#000000\">L</text>\n</g>\n<!-- L&#45;Weight31&#45;&gt;L34 -->\n<g id=\"edge38\" class=\"edge\">\n<title>L&#45;Weight31&#45;&gt;L34</title>\n<path fill=\"none\" stroke=\"#000000\" d=\"M1697.2249,-87.8116C1708.0506,-74.7305 1723.0845,-56.5645 1735.1027,-42.0425\"/>\n<polygon fill=\"#000000\" stroke=\"#000000\" points=\"1738.0964,-43.9148 1741.7758,-33.9793 1732.7037,-39.4518 1738.0964,-43.9148\"/>\n<text text-anchor=\"middle\" x=\"1728\" y=\"-57.8\" font-family=\"Times,serif\" font-size=\"14.00\" fill=\"#000000\">4</text>\n</g>\n<!-- R35 -->\n<g id=\"node40\" class=\"node\">\n<title>R35</title>\n<ellipse fill=\"none\" stroke=\"#000000\" cx=\"1827\" cy=\"-18\" rx=\"27\" ry=\"18\"/>\n<text text-anchor=\"middle\" x=\"1827\" y=\"-14.3\" font-family=\"Times,serif\" font-size=\"14.00\" fill=\"#000000\">R</text>\n</g>\n<!-- L&#45;Weight31&#45;&gt;R35 -->\n<g id=\"edge39\" class=\"edge\">\n<title>L&#45;Weight31&#45;&gt;R35</title>\n<path fill=\"none\" stroke=\"#000000\" d=\"M1708.0829,-89.8458C1733.1672,-74.6907 1771.7085,-51.4053 1798.0703,-35.4784\"/>\n<polygon fill=\"#000000\" stroke=\"#000000\" points=\"1800.0955,-38.344 1806.8448,-30.1771 1796.4757,-32.3526 1800.0955,-38.344\"/>\n<text text-anchor=\"middle\" x=\"1768\" y=\"-57.8\" font-family=\"Times,serif\" font-size=\"14.00\" fill=\"#000000\">2</text>\n</g>\n<!-- R37 -->\n<g id=\"node42\" class=\"node\">\n<title>R37</title>\n<ellipse fill=\"none\" stroke=\"#000000\" cx=\"1950\" cy=\"-105\" rx=\"27\" ry=\"18\"/>\n<text text-anchor=\"middle\" x=\"1950\" y=\"-101.3\" font-family=\"Times,serif\" font-size=\"14.00\" fill=\"#000000\">R</text>\n</g>\n<!-- L&#45;Weight36&#45;&gt;R37 -->\n<g id=\"edge41\" class=\"edge\">\n<title>L&#45;Weight36&#45;&gt;R37</title>\n<path fill=\"none\" stroke=\"#000000\" d=\"M2148.5183,-180.9216C2108.1985,-168.3166 2041.6023,-146.4234 1986,-123 1984.213,-122.2472 1982.3904,-121.4461 1980.5609,-120.616\"/>\n<polygon fill=\"#000000\" stroke=\"#000000\" points=\"1982.0244,-117.4364 1971.4892,-116.3135 1979.0247,-123.7612 1982.0244,-117.4364\"/>\n<text text-anchor=\"middle\" x=\"2077\" y=\"-144.8\" font-family=\"Times,serif\" font-size=\"14.00\" fill=\"#000000\">1</text>\n</g>\n<!-- L&#45;Distance38 -->\n<g id=\"node43\" class=\"node\">\n<title>L&#45;Distance38</title>\n<ellipse fill=\"none\" stroke=\"#000000\" cx=\"2046\" cy=\"-105\" rx=\"51.1914\" ry=\"18\"/>\n<text text-anchor=\"middle\" x=\"2046\" y=\"-101.3\" font-family=\"Times,serif\" font-size=\"14.00\" fill=\"#000000\">L&#45;Distance</text>\n</g>\n<!-- L&#45;Weight36&#45;&gt;L&#45;Distance38 -->\n<g id=\"edge42\" class=\"edge\">\n<title>L&#45;Weight36&#45;&gt;L&#45;Distance38</title>\n<path fill=\"none\" stroke=\"#000000\" d=\"M2160.4696,-176.6464C2138.1185,-162.6569 2104.8929,-141.8611 2079.9873,-126.2726\"/>\n<polygon fill=\"#000000\" stroke=\"#000000\" points=\"2081.557,-123.1261 2071.2235,-120.7873 2077.8431,-129.0597 2081.557,-123.1261\"/>\n<text text-anchor=\"middle\" x=\"2128\" y=\"-144.8\" font-family=\"Times,serif\" font-size=\"14.00\" fill=\"#000000\">5</text>\n</g>\n<!-- R43 -->\n<g id=\"node48\" class=\"node\">\n<title>R43</title>\n<ellipse fill=\"none\" stroke=\"#000000\" cx=\"2154\" cy=\"-105\" rx=\"27\" ry=\"18\"/>\n<text text-anchor=\"middle\" x=\"2154\" y=\"-101.3\" font-family=\"Times,serif\" font-size=\"14.00\" fill=\"#000000\">R</text>\n</g>\n<!-- L&#45;Weight36&#45;&gt;R43 -->\n<g id=\"edge47\" class=\"edge\">\n<title>L&#45;Weight36&#45;&gt;R43</title>\n<path fill=\"none\" stroke=\"#000000\" d=\"M2178.5768,-173.9735C2174.3088,-161.9958 2168.6233,-146.0396 2163.7957,-132.4912\"/>\n<polygon fill=\"#000000\" stroke=\"#000000\" points=\"2166.9624,-130.9508 2160.3089,-122.7057 2160.3685,-133.3004 2166.9624,-130.9508\"/>\n<text text-anchor=\"middle\" x=\"2176\" y=\"-144.8\" font-family=\"Times,serif\" font-size=\"14.00\" fill=\"#000000\">2</text>\n</g>\n<!-- R44 -->\n<g id=\"node49\" class=\"node\">\n<title>R44</title>\n<ellipse fill=\"none\" stroke=\"#000000\" cx=\"2226\" cy=\"-105\" rx=\"27\" ry=\"18\"/>\n<text text-anchor=\"middle\" x=\"2226\" y=\"-101.3\" font-family=\"Times,serif\" font-size=\"14.00\" fill=\"#000000\">R</text>\n</g>\n<!-- L&#45;Weight36&#45;&gt;R44 -->\n<g id=\"edge48\" class=\"edge\">\n<title>L&#45;Weight36&#45;&gt;R44</title>\n<path fill=\"none\" stroke=\"#000000\" d=\"M2193.4952,-173.9735C2199.233,-161.7983 2206.908,-145.5122 2213.3593,-131.8228\"/>\n<polygon fill=\"#000000\" stroke=\"#000000\" points=\"2216.6984,-132.9476 2217.7954,-122.4097 2210.3664,-129.9635 2216.6984,-132.9476\"/>\n<text text-anchor=\"middle\" x=\"2212\" y=\"-144.8\" font-family=\"Times,serif\" font-size=\"14.00\" fill=\"#000000\">3</text>\n</g>\n<!-- L&#45;Distance45 -->\n<g id=\"node50\" class=\"node\">\n<title>L&#45;Distance45</title>\n<ellipse fill=\"none\" stroke=\"#000000\" cx=\"2328\" cy=\"-105\" rx=\"51.1914\" ry=\"18\"/>\n<text text-anchor=\"middle\" x=\"2328\" y=\"-101.3\" font-family=\"Times,serif\" font-size=\"14.00\" fill=\"#000000\">L&#45;Distance</text>\n</g>\n<!-- L&#45;Weight36&#45;&gt;L&#45;Distance45 -->\n<g id=\"edge49\" class=\"edge\">\n<title>L&#45;Weight36&#45;&gt;L&#45;Distance45</title>\n<path fill=\"none\" stroke=\"#000000\" d=\"M2209.9087,-176.8458C2232.9577,-162.8229 2267.448,-141.8393 2293.2116,-126.165\"/>\n<polygon fill=\"#000000\" stroke=\"#000000\" points=\"2295.2035,-129.05 2301.9275,-120.8623 2291.5652,-123.0698 2295.2035,-129.05\"/>\n<text text-anchor=\"middle\" x=\"2270\" y=\"-144.8\" font-family=\"Times,serif\" font-size=\"14.00\" fill=\"#000000\">4</text>\n</g>\n<!-- B39 -->\n<g id=\"node44\" class=\"node\">\n<title>B39</title>\n<ellipse fill=\"none\" stroke=\"#000000\" cx=\"1899\" cy=\"-18\" rx=\"27\" ry=\"18\"/>\n<text text-anchor=\"middle\" x=\"1899\" y=\"-14.3\" font-family=\"Times,serif\" font-size=\"14.00\" fill=\"#000000\">B</text>\n</g>\n<!-- L&#45;Distance38&#45;&gt;B39 -->\n<g id=\"edge43\" class=\"edge\">\n<title>L&#45;Distance38&#45;&gt;B39</title>\n<path fill=\"none\" stroke=\"#000000\" d=\"M2019.7193,-89.4461C1994.0116,-74.2313 1954.9387,-51.1066 1928.256,-35.3148\"/>\n<polygon fill=\"#000000\" stroke=\"#000000\" points=\"1929.7654,-32.1411 1919.377,-30.0598 1926.2001,-38.1651 1929.7654,-32.1411\"/>\n<text text-anchor=\"middle\" x=\"1986\" y=\"-57.8\" font-family=\"Times,serif\" font-size=\"14.00\" fill=\"#000000\">4</text>\n</g>\n<!-- R40 -->\n<g id=\"node45\" class=\"node\">\n<title>R40</title>\n<ellipse fill=\"none\" stroke=\"#000000\" cx=\"1971\" cy=\"-18\" rx=\"27\" ry=\"18\"/>\n<text text-anchor=\"middle\" x=\"1971\" y=\"-14.3\" font-family=\"Times,serif\" font-size=\"14.00\" fill=\"#000000\">R</text>\n</g>\n<!-- L&#45;Distance38&#45;&gt;R40 -->\n<g id=\"edge44\" class=\"edge\">\n<title>L&#45;Distance38&#45;&gt;R40</title>\n<path fill=\"none\" stroke=\"#000000\" d=\"M2030.8226,-87.3943C2019.4102,-74.1559 2003.661,-55.8868 1991.1867,-41.4165\"/>\n<polygon fill=\"#000000\" stroke=\"#000000\" points=\"1993.8221,-39.1132 1984.6417,-33.8244 1988.5202,-43.6838 1993.8221,-39.1132\"/>\n<text text-anchor=\"middle\" x=\"2017\" y=\"-57.8\" font-family=\"Times,serif\" font-size=\"14.00\" fill=\"#000000\">1</text>\n</g>\n<!-- L41 -->\n<g id=\"node46\" class=\"node\">\n<title>L41</title>\n<ellipse fill=\"none\" stroke=\"#000000\" cx=\"2043\" cy=\"-18\" rx=\"27\" ry=\"18\"/>\n<text text-anchor=\"middle\" x=\"2043\" y=\"-14.3\" font-family=\"Times,serif\" font-size=\"14.00\" fill=\"#000000\">L</text>\n</g>\n<!-- L&#45;Distance38&#45;&gt;L41 -->\n<g id=\"edge45\" class=\"edge\">\n<title>L&#45;Distance38&#45;&gt;L41</title>\n<path fill=\"none\" stroke=\"#000000\" d=\"M2045.3784,-86.9735C2044.9721,-75.1918 2044.4331,-59.5607 2043.971,-46.1581\"/>\n<polygon fill=\"#000000\" stroke=\"#000000\" points=\"2047.4634,-45.8768 2043.6208,-36.0034 2040.4676,-46.1181 2047.4634,-45.8768\"/>\n<text text-anchor=\"middle\" x=\"2049\" y=\"-57.8\" font-family=\"Times,serif\" font-size=\"14.00\" fill=\"#000000\">5</text>\n</g>\n<!-- R42 -->\n<g id=\"node47\" class=\"node\">\n<title>R42</title>\n<ellipse fill=\"none\" stroke=\"#000000\" cx=\"2115\" cy=\"-18\" rx=\"27\" ry=\"18\"/>\n<text text-anchor=\"middle\" x=\"2115\" y=\"-14.3\" font-family=\"Times,serif\" font-size=\"14.00\" fill=\"#000000\">R</text>\n</g>\n<!-- L&#45;Distance38&#45;&gt;R42 -->\n<g id=\"edge46\" class=\"edge\">\n<title>L&#45;Distance38&#45;&gt;R42</title>\n<path fill=\"none\" stroke=\"#000000\" d=\"M2059.9632,-87.3943C2070.2995,-74.3615 2084.5028,-56.453 2095.8914,-42.0934\"/>\n<polygon fill=\"#000000\" stroke=\"#000000\" points=\"2098.7494,-44.1224 2102.2211,-34.1125 2093.2649,-39.7726 2098.7494,-44.1224\"/>\n<text text-anchor=\"middle\" x=\"2089\" y=\"-57.8\" font-family=\"Times,serif\" font-size=\"14.00\" fill=\"#000000\">2</text>\n</g>\n<!-- R46 -->\n<g id=\"node51\" class=\"node\">\n<title>R46</title>\n<ellipse fill=\"none\" stroke=\"#000000\" cx=\"2187\" cy=\"-18\" rx=\"27\" ry=\"18\"/>\n<text text-anchor=\"middle\" x=\"2187\" y=\"-14.3\" font-family=\"Times,serif\" font-size=\"14.00\" fill=\"#000000\">R</text>\n</g>\n<!-- L&#45;Distance45&#45;&gt;R46 -->\n<g id=\"edge50\" class=\"edge\">\n<title>L&#45;Distance45&#45;&gt;R46</title>\n<path fill=\"none\" stroke=\"#000000\" d=\"M2302.466,-89.245C2278.0107,-74.1555 2241.1662,-51.4217 2215.7045,-35.7113\"/>\n<polygon fill=\"#000000\" stroke=\"#000000\" points=\"2217.2313,-32.5407 2206.883,-30.2682 2213.5555,-38.498 2217.2313,-32.5407\"/>\n<text text-anchor=\"middle\" x=\"2270\" y=\"-57.8\" font-family=\"Times,serif\" font-size=\"14.00\" fill=\"#000000\">4</text>\n</g>\n<!-- R47 -->\n<g id=\"node52\" class=\"node\">\n<title>R47</title>\n<ellipse fill=\"none\" stroke=\"#000000\" cx=\"2259\" cy=\"-18\" rx=\"27\" ry=\"18\"/>\n<text text-anchor=\"middle\" x=\"2259\" y=\"-14.3\" font-family=\"Times,serif\" font-size=\"14.00\" fill=\"#000000\">R</text>\n</g>\n<!-- L&#45;Distance45&#45;&gt;R47 -->\n<g id=\"edge51\" class=\"edge\">\n<title>L&#45;Distance45&#45;&gt;R47</title>\n<path fill=\"none\" stroke=\"#000000\" d=\"M2314.0368,-87.3943C2303.7005,-74.3615 2289.4972,-56.453 2278.1086,-42.0934\"/>\n<polygon fill=\"#000000\" stroke=\"#000000\" points=\"2280.7351,-39.7726 2271.7789,-34.1125 2275.2506,-44.1224 2280.7351,-39.7726\"/>\n<text text-anchor=\"middle\" x=\"2302\" y=\"-57.8\" font-family=\"Times,serif\" font-size=\"14.00\" fill=\"#000000\">1</text>\n</g>\n<!-- R48 -->\n<g id=\"node53\" class=\"node\">\n<title>R48</title>\n<ellipse fill=\"none\" stroke=\"#000000\" cx=\"2331\" cy=\"-18\" rx=\"27\" ry=\"18\"/>\n<text text-anchor=\"middle\" x=\"2331\" y=\"-14.3\" font-family=\"Times,serif\" font-size=\"14.00\" fill=\"#000000\">R</text>\n</g>\n<!-- L&#45;Distance45&#45;&gt;R48 -->\n<g id=\"edge52\" class=\"edge\">\n<title>L&#45;Distance45&#45;&gt;R48</title>\n<path fill=\"none\" stroke=\"#000000\" d=\"M2328.6216,-86.9735C2329.0279,-75.1918 2329.5669,-59.5607 2330.029,-46.1581\"/>\n<polygon fill=\"#000000\" stroke=\"#000000\" points=\"2333.5324,-46.1181 2330.3792,-36.0034 2326.5366,-45.8768 2333.5324,-46.1181\"/>\n<text text-anchor=\"middle\" x=\"2334\" y=\"-57.8\" font-family=\"Times,serif\" font-size=\"14.00\" fill=\"#000000\">3</text>\n</g>\n<!-- B49 -->\n<g id=\"node54\" class=\"node\">\n<title>B49</title>\n<ellipse fill=\"none\" stroke=\"#000000\" cx=\"2403\" cy=\"-18\" rx=\"27\" ry=\"18\"/>\n<text text-anchor=\"middle\" x=\"2403\" y=\"-14.3\" font-family=\"Times,serif\" font-size=\"14.00\" fill=\"#000000\">B</text>\n</g>\n<!-- L&#45;Distance45&#45;&gt;B49 -->\n<g id=\"edge53\" class=\"edge\">\n<title>L&#45;Distance45&#45;&gt;B49</title>\n<path fill=\"none\" stroke=\"#000000\" d=\"M2343.1774,-87.3943C2354.5898,-74.1559 2370.339,-55.8868 2382.8133,-41.4165\"/>\n<polygon fill=\"#000000\" stroke=\"#000000\" points=\"2385.4798,-43.6838 2389.3583,-33.8244 2380.1779,-39.1132 2385.4798,-43.6838\"/>\n<text text-anchor=\"middle\" x=\"2374\" y=\"-57.8\" font-family=\"Times,serif\" font-size=\"14.00\" fill=\"#000000\">5</text>\n</g>\n<!-- R50 -->\n<g id=\"node55\" class=\"node\">\n<title>R50</title>\n<ellipse fill=\"none\" stroke=\"#000000\" cx=\"2475\" cy=\"-18\" rx=\"27\" ry=\"18\"/>\n<text text-anchor=\"middle\" x=\"2475\" y=\"-14.3\" font-family=\"Times,serif\" font-size=\"14.00\" fill=\"#000000\">R</text>\n</g>\n<!-- L&#45;Distance45&#45;&gt;R50 -->\n<g id=\"edge54\" class=\"edge\">\n<title>L&#45;Distance45&#45;&gt;R50</title>\n<path fill=\"none\" stroke=\"#000000\" d=\"M2354.2807,-89.4461C2379.9884,-74.2313 2419.0613,-51.1066 2445.744,-35.3148\"/>\n<polygon fill=\"#000000\" stroke=\"#000000\" points=\"2447.7999,-38.1651 2454.623,-30.0598 2444.2346,-32.1411 2447.7999,-38.1651\"/>\n<text text-anchor=\"middle\" x=\"2415\" y=\"-57.8\" font-family=\"Times,serif\" font-size=\"14.00\" fill=\"#000000\">2</text>\n</g>\n<!-- R52 -->\n<g id=\"node57\" class=\"node\">\n<title>R52</title>\n<ellipse fill=\"none\" stroke=\"#000000\" cx=\"2601\" cy=\"-105\" rx=\"27\" ry=\"18\"/>\n<text text-anchor=\"middle\" x=\"2601\" y=\"-101.3\" font-family=\"Times,serif\" font-size=\"14.00\" fill=\"#000000\">R</text>\n</g>\n<!-- L&#45;Weight51&#45;&gt;R52 -->\n<g id=\"edge56\" class=\"edge\">\n<title>L&#45;Weight51&#45;&gt;R52</title>\n<path fill=\"none\" stroke=\"#000000\" d=\"M2742.0931,-177.6337C2711.6766,-161.9755 2663.1543,-136.9966 2631.6856,-120.7967\"/>\n<polygon fill=\"#000000\" stroke=\"#000000\" points=\"2632.9989,-117.5363 2622.5058,-116.071 2629.7949,-123.76 2632.9989,-117.5363\"/>\n<text text-anchor=\"middle\" x=\"2700\" y=\"-144.8\" font-family=\"Times,serif\" font-size=\"14.00\" fill=\"#000000\">1</text>\n</g>\n<!-- L&#45;Distance53 -->\n<g id=\"node58\" class=\"node\">\n<title>L&#45;Distance53</title>\n<ellipse fill=\"none\" stroke=\"#000000\" cx=\"2697\" cy=\"-105\" rx=\"51.1914\" ry=\"18\"/>\n<text text-anchor=\"middle\" x=\"2697\" y=\"-101.3\" font-family=\"Times,serif\" font-size=\"14.00\" fill=\"#000000\">L&#45;Distance</text>\n</g>\n<!-- L&#45;Weight51&#45;&gt;L&#45;Distance53 -->\n<g id=\"edge57\" class=\"edge\">\n<title>L&#45;Weight51&#45;&gt;L&#45;Distance53</title>\n<path fill=\"none\" stroke=\"#000000\" d=\"M2755.5775,-174.8116C2744.9488,-162.1444 2730.3192,-144.7092 2718.3394,-130.4319\"/>\n<polygon fill=\"#000000\" stroke=\"#000000\" points=\"2720.7514,-127.8613 2711.6424,-122.4505 2715.389,-132.3608 2720.7514,-127.8613\"/>\n<text text-anchor=\"middle\" x=\"2742\" y=\"-144.8\" font-family=\"Times,serif\" font-size=\"14.00\" fill=\"#000000\">5</text>\n</g>\n<!-- L&#45;Distance58 -->\n<g id=\"node63\" class=\"node\">\n<title>L&#45;Distance58</title>\n<ellipse fill=\"none\" stroke=\"#000000\" cx=\"2829\" cy=\"-105\" rx=\"51.1914\" ry=\"18\"/>\n<text text-anchor=\"middle\" x=\"2829\" y=\"-101.3\" font-family=\"Times,serif\" font-size=\"14.00\" fill=\"#000000\">L&#45;Distance</text>\n</g>\n<!-- L&#45;Weight51&#45;&gt;L&#45;Distance58 -->\n<g id=\"edge62\" class=\"edge\">\n<title>L&#45;Weight51&#45;&gt;L&#45;Distance58</title>\n<path fill=\"none\" stroke=\"#000000\" d=\"M2781.9395,-174.3943C2790.4164,-161.8944 2801.9349,-144.9096 2811.4544,-130.8724\"/>\n<polygon fill=\"#000000\" stroke=\"#000000\" points=\"2814.3622,-132.8204 2817.0782,-122.5796 2808.5688,-128.8915 2814.3622,-132.8204\"/>\n<text text-anchor=\"middle\" x=\"2808\" y=\"-144.8\" font-family=\"Times,serif\" font-size=\"14.00\" fill=\"#000000\">4</text>\n</g>\n<!-- R61 -->\n<g id=\"node66\" class=\"node\">\n<title>R61</title>\n<ellipse fill=\"none\" stroke=\"#000000\" cx=\"2925\" cy=\"-105\" rx=\"27\" ry=\"18\"/>\n<text text-anchor=\"middle\" x=\"2925\" y=\"-101.3\" font-family=\"Times,serif\" font-size=\"14.00\" fill=\"#000000\">R</text>\n</g>\n<!-- L&#45;Weight51&#45;&gt;R61 -->\n<g id=\"edge65\" class=\"edge\">\n<title>L&#45;Weight51&#45;&gt;R61</title>\n<path fill=\"none\" stroke=\"#000000\" d=\"M2796.6454,-177.0442C2824.1379,-161.6129 2866.9168,-137.6015 2895.4356,-121.5942\"/>\n<polygon fill=\"#000000\" stroke=\"#000000\" points=\"2897.1492,-124.6461 2904.1564,-116.6993 2893.723,-118.5419 2897.1492,-124.6461\"/>\n<text text-anchor=\"middle\" x=\"2861\" y=\"-144.8\" font-family=\"Times,serif\" font-size=\"14.00\" fill=\"#000000\">2</text>\n</g>\n<!-- L&#45;Distance62 -->\n<g id=\"node67\" class=\"node\">\n<title>L&#45;Distance62</title>\n<ellipse fill=\"none\" stroke=\"#000000\" cx=\"3051\" cy=\"-105\" rx=\"51.1914\" ry=\"18\"/>\n<text text-anchor=\"middle\" x=\"3051\" y=\"-101.3\" font-family=\"Times,serif\" font-size=\"14.00\" fill=\"#000000\">L&#45;Distance</text>\n</g>\n<!-- L&#45;Weight51&#45;&gt;L&#45;Distance62 -->\n<g id=\"edge66\" class=\"edge\">\n<title>L&#45;Weight51&#45;&gt;L&#45;Distance62</title>\n<path fill=\"none\" stroke=\"#000000\" d=\"M2806.1606,-180.8044C2856.2211,-165.3052 2946.7679,-137.2712 3002.6093,-119.9822\"/>\n<polygon fill=\"#000000\" stroke=\"#000000\" points=\"3003.7586,-123.2903 3012.2761,-116.9893 3001.6883,-116.6035 3003.7586,-123.2903\"/>\n<text text-anchor=\"middle\" x=\"2932\" y=\"-144.8\" font-family=\"Times,serif\" font-size=\"14.00\" fill=\"#000000\">3</text>\n</g>\n<!-- R54 -->\n<g id=\"node59\" class=\"node\">\n<title>R54</title>\n<ellipse fill=\"none\" stroke=\"#000000\" cx=\"2547\" cy=\"-18\" rx=\"27\" ry=\"18\"/>\n<text text-anchor=\"middle\" x=\"2547\" y=\"-14.3\" font-family=\"Times,serif\" font-size=\"14.00\" fill=\"#000000\">R</text>\n</g>\n<!-- L&#45;Distance53&#45;&gt;R54 -->\n<g id=\"edge58\" class=\"edge\">\n<title>L&#45;Distance53&#45;&gt;R54</title>\n<path fill=\"none\" stroke=\"#000000\" d=\"M2670.183,-89.4461C2643.836,-74.1649 2603.7318,-50.9045 2576.4971,-35.1083\"/>\n<polygon fill=\"#000000\" stroke=\"#000000\" points=\"2578.1992,-32.0495 2567.7928,-30.0598 2574.6871,-38.1047 2578.1992,-32.0495\"/>\n<text text-anchor=\"middle\" x=\"2635\" y=\"-57.8\" font-family=\"Times,serif\" font-size=\"14.00\" fill=\"#000000\">2</text>\n</g>\n<!-- L55 -->\n<g id=\"node60\" class=\"node\">\n<title>L55</title>\n<ellipse fill=\"none\" stroke=\"#000000\" cx=\"2619\" cy=\"-18\" rx=\"27\" ry=\"18\"/>\n<text text-anchor=\"middle\" x=\"2619\" y=\"-14.3\" font-family=\"Times,serif\" font-size=\"14.00\" fill=\"#000000\">L</text>\n</g>\n<!-- L&#45;Distance53&#45;&gt;L55 -->\n<g id=\"edge59\" class=\"edge\">\n<title>L&#45;Distance53&#45;&gt;L55</title>\n<path fill=\"none\" stroke=\"#000000\" d=\"M2681.5897,-87.8116C2669.6773,-74.5246 2653.0614,-55.9916 2639.9433,-41.3598\"/>\n<polygon fill=\"#000000\" stroke=\"#000000\" points=\"2642.3488,-38.7998 2633.0673,-33.6905 2637.1368,-43.4726 2642.3488,-38.7998\"/>\n<text text-anchor=\"middle\" x=\"2667\" y=\"-57.8\" font-family=\"Times,serif\" font-size=\"14.00\" fill=\"#000000\">4</text>\n</g>\n<!-- L56 -->\n<g id=\"node61\" class=\"node\">\n<title>L56</title>\n<ellipse fill=\"none\" stroke=\"#000000\" cx=\"2691\" cy=\"-18\" rx=\"27\" ry=\"18\"/>\n<text text-anchor=\"middle\" x=\"2691\" y=\"-14.3\" font-family=\"Times,serif\" font-size=\"14.00\" fill=\"#000000\">L</text>\n</g>\n<!-- L&#45;Distance53&#45;&gt;L56 -->\n<g id=\"edge60\" class=\"edge\">\n<title>L&#45;Distance53&#45;&gt;L56</title>\n<path fill=\"none\" stroke=\"#000000\" d=\"M2695.7568,-86.9735C2694.9443,-75.1918 2693.8663,-59.5607 2692.9419,-46.1581\"/>\n<polygon fill=\"#000000\" stroke=\"#000000\" points=\"2696.4214,-45.7388 2692.2416,-36.0034 2689.438,-46.2205 2696.4214,-45.7388\"/>\n<text text-anchor=\"middle\" x=\"2699\" y=\"-57.8\" font-family=\"Times,serif\" font-size=\"14.00\" fill=\"#000000\">5</text>\n</g>\n<!-- L57 -->\n<g id=\"node62\" class=\"node\">\n<title>L57</title>\n<ellipse fill=\"none\" stroke=\"#000000\" cx=\"2763\" cy=\"-18\" rx=\"27\" ry=\"18\"/>\n<text text-anchor=\"middle\" x=\"2763\" y=\"-14.3\" font-family=\"Times,serif\" font-size=\"14.00\" fill=\"#000000\">L</text>\n</g>\n<!-- L&#45;Distance53&#45;&gt;L57 -->\n<g id=\"edge61\" class=\"edge\">\n<title>L&#45;Distance53&#45;&gt;L57</title>\n<path fill=\"none\" stroke=\"#000000\" d=\"M2710.3561,-87.3943C2720.243,-74.3615 2733.8287,-56.453 2744.7222,-42.0934\"/>\n<polygon fill=\"#000000\" stroke=\"#000000\" points=\"2747.5213,-44.1948 2750.7767,-34.1125 2741.9444,-39.964 2747.5213,-44.1948\"/>\n<text text-anchor=\"middle\" x=\"2738\" y=\"-57.8\" font-family=\"Times,serif\" font-size=\"14.00\" fill=\"#000000\">3</text>\n</g>\n<!-- B59 -->\n<g id=\"node64\" class=\"node\">\n<title>B59</title>\n<ellipse fill=\"none\" stroke=\"#000000\" cx=\"2835\" cy=\"-18\" rx=\"27\" ry=\"18\"/>\n<text text-anchor=\"middle\" x=\"2835\" y=\"-14.3\" font-family=\"Times,serif\" font-size=\"14.00\" fill=\"#000000\">B</text>\n</g>\n<!-- L&#45;Distance58&#45;&gt;B59 -->\n<g id=\"edge63\" class=\"edge\">\n<title>L&#45;Distance58&#45;&gt;B59</title>\n<path fill=\"none\" stroke=\"#000000\" d=\"M2830.2432,-86.9735C2831.0557,-75.1918 2832.1337,-59.5607 2833.0581,-46.1581\"/>\n<polygon fill=\"#000000\" stroke=\"#000000\" points=\"2836.562,-46.2205 2833.7584,-36.0034 2829.5786,-45.7388 2836.562,-46.2205\"/>\n<text text-anchor=\"middle\" x=\"2837\" y=\"-57.8\" font-family=\"Times,serif\" font-size=\"14.00\" fill=\"#000000\">3</text>\n</g>\n<!-- R60 -->\n<g id=\"node65\" class=\"node\">\n<title>R60</title>\n<ellipse fill=\"none\" stroke=\"#000000\" cx=\"2907\" cy=\"-18\" rx=\"27\" ry=\"18\"/>\n<text text-anchor=\"middle\" x=\"2907\" y=\"-14.3\" font-family=\"Times,serif\" font-size=\"14.00\" fill=\"#000000\">R</text>\n</g>\n<!-- L&#45;Distance58&#45;&gt;R60 -->\n<g id=\"edge64\" class=\"edge\">\n<title>L&#45;Distance58&#45;&gt;R60</title>\n<path fill=\"none\" stroke=\"#000000\" d=\"M2844.4103,-87.8116C2856.3227,-74.5246 2872.9386,-55.9916 2886.0567,-41.3598\"/>\n<polygon fill=\"#000000\" stroke=\"#000000\" points=\"2888.8632,-43.4726 2892.9327,-33.6905 2883.6512,-38.7998 2888.8632,-43.4726\"/>\n<text text-anchor=\"middle\" x=\"2877\" y=\"-57.8\" font-family=\"Times,serif\" font-size=\"14.00\" fill=\"#000000\">2</text>\n</g>\n<!-- R63 -->\n<g id=\"node68\" class=\"node\">\n<title>R63</title>\n<ellipse fill=\"none\" stroke=\"#000000\" cx=\"2979\" cy=\"-18\" rx=\"27\" ry=\"18\"/>\n<text text-anchor=\"middle\" x=\"2979\" y=\"-14.3\" font-family=\"Times,serif\" font-size=\"14.00\" fill=\"#000000\">R</text>\n</g>\n<!-- L&#45;Distance62&#45;&gt;R63 -->\n<g id=\"edge67\" class=\"edge\">\n<title>L&#45;Distance62&#45;&gt;R63</title>\n<path fill=\"none\" stroke=\"#000000\" d=\"M3036.4297,-87.3943C3025.5753,-74.2785 3010.6342,-56.2247 2998.7127,-41.8195\"/>\n<polygon fill=\"#000000\" stroke=\"#000000\" points=\"3001.1682,-39.2969 2992.0961,-33.8244 2995.7754,-43.7599 3001.1682,-39.2969\"/>\n<text text-anchor=\"middle\" x=\"3024\" y=\"-57.8\" font-family=\"Times,serif\" font-size=\"14.00\" fill=\"#000000\">2</text>\n</g>\n<!-- R64 -->\n<g id=\"node69\" class=\"node\">\n<title>R64</title>\n<ellipse fill=\"none\" stroke=\"#000000\" cx=\"3051\" cy=\"-18\" rx=\"27\" ry=\"18\"/>\n<text text-anchor=\"middle\" x=\"3051\" y=\"-14.3\" font-family=\"Times,serif\" font-size=\"14.00\" fill=\"#000000\">R</text>\n</g>\n<!-- L&#45;Distance62&#45;&gt;R64 -->\n<g id=\"edge68\" class=\"edge\">\n<title>L&#45;Distance62&#45;&gt;R64</title>\n<path fill=\"none\" stroke=\"#000000\" d=\"M3051,-86.9735C3051,-75.1918 3051,-59.5607 3051,-46.1581\"/>\n<polygon fill=\"#000000\" stroke=\"#000000\" points=\"3054.5001,-46.0033 3051,-36.0034 3047.5001,-46.0034 3054.5001,-46.0033\"/>\n<text text-anchor=\"middle\" x=\"3055\" y=\"-57.8\" font-family=\"Times,serif\" font-size=\"14.00\" fill=\"#000000\">3</text>\n</g>\n<!-- R65 -->\n<g id=\"node70\" class=\"node\">\n<title>R65</title>\n<ellipse fill=\"none\" stroke=\"#000000\" cx=\"3123\" cy=\"-18\" rx=\"27\" ry=\"18\"/>\n<text text-anchor=\"middle\" x=\"3123\" y=\"-14.3\" font-family=\"Times,serif\" font-size=\"14.00\" fill=\"#000000\">R</text>\n</g>\n<!-- L&#45;Distance62&#45;&gt;R65 -->\n<g id=\"edge69\" class=\"edge\">\n<title>L&#45;Distance62&#45;&gt;R65</title>\n<path fill=\"none\" stroke=\"#000000\" d=\"M3065.5703,-87.3943C3076.4247,-74.2785 3091.3658,-56.2247 3103.2873,-41.8195\"/>\n<polygon fill=\"#000000\" stroke=\"#000000\" points=\"3106.2246,-43.7599 3109.9039,-33.8244 3100.8318,-39.2969 3106.2246,-43.7599\"/>\n<text text-anchor=\"middle\" x=\"3096\" y=\"-57.8\" font-family=\"Times,serif\" font-size=\"14.00\" fill=\"#000000\">1</text>\n</g>\n<!-- B66 -->\n<g id=\"node71\" class=\"node\">\n<title>B66</title>\n<ellipse fill=\"none\" stroke=\"#000000\" cx=\"3195\" cy=\"-18\" rx=\"27\" ry=\"18\"/>\n<text text-anchor=\"middle\" x=\"3195\" y=\"-14.3\" font-family=\"Times,serif\" font-size=\"14.00\" fill=\"#000000\">B</text>\n</g>\n<!-- L&#45;Distance62&#45;&gt;B66 -->\n<g id=\"edge70\" class=\"edge\">\n<title>L&#45;Distance62&#45;&gt;B66</title>\n<path fill=\"none\" stroke=\"#000000\" d=\"M3077.0773,-89.245C3102.1625,-74.0893 3140.0117,-51.2221 3166.0262,-35.505\"/>\n<polygon fill=\"#000000\" stroke=\"#000000\" points=\"3167.9447,-38.4351 3174.694,-30.2682 3164.3249,-32.4437 3167.9447,-38.4351\"/>\n<text text-anchor=\"middle\" x=\"3136\" y=\"-57.8\" font-family=\"Times,serif\" font-size=\"14.00\" fill=\"#000000\">4</text>\n</g>\n<!-- R68 -->\n<g id=\"node73\" class=\"node\">\n<title>R68</title>\n<ellipse fill=\"none\" stroke=\"#000000\" cx=\"3176\" cy=\"-105\" rx=\"27\" ry=\"18\"/>\n<text text-anchor=\"middle\" x=\"3176\" y=\"-101.3\" font-family=\"Times,serif\" font-size=\"14.00\" fill=\"#000000\">R</text>\n</g>\n<!-- L&#45;Distance67&#45;&gt;R68 -->\n<g id=\"edge72\" class=\"edge\">\n<title>L&#45;Distance67&#45;&gt;R68</title>\n<path fill=\"none\" stroke=\"#000000\" d=\"M3258.3334,-175.2255C3241.8671,-161.1808 3218.2859,-141.0674 3200.5771,-125.9628\"/>\n<polygon fill=\"#000000\" stroke=\"#000000\" points=\"3202.7801,-123.2417 3192.9004,-119.4151 3198.2375,-128.5675 3202.7801,-123.2417\"/>\n<text text-anchor=\"middle\" x=\"3238\" y=\"-144.8\" font-family=\"Times,serif\" font-size=\"14.00\" fill=\"#000000\">1</text>\n</g>\n<!-- R69 -->\n<g id=\"node74\" class=\"node\">\n<title>R69</title>\n<ellipse fill=\"none\" stroke=\"#000000\" cx=\"3248\" cy=\"-105\" rx=\"27\" ry=\"18\"/>\n<text text-anchor=\"middle\" x=\"3248\" y=\"-101.3\" font-family=\"Times,serif\" font-size=\"14.00\" fill=\"#000000\">R</text>\n</g>\n<!-- L&#45;Distance67&#45;&gt;R69 -->\n<g id=\"edge73\" class=\"edge\">\n<title>L&#45;Distance67&#45;&gt;R69</title>\n<path fill=\"none\" stroke=\"#000000\" d=\"M3271.784,-173.9735C3267.6537,-161.9958 3262.1516,-146.0396 3257.4797,-132.4912\"/>\n<polygon fill=\"#000000\" stroke=\"#000000\" points=\"3260.6742,-131.0184 3254.1054,-122.7057 3254.0566,-133.3004 3260.6742,-131.0184\"/>\n<text text-anchor=\"middle\" x=\"3269\" y=\"-144.8\" font-family=\"Times,serif\" font-size=\"14.00\" fill=\"#000000\">2</text>\n</g>\n<!-- L&#45;Weight70 -->\n<g id=\"node75\" class=\"node\">\n<title>L&#45;Weight70</title>\n<ellipse fill=\"none\" stroke=\"#000000\" cx=\"3339\" cy=\"-105\" rx=\"46.2923\" ry=\"18\"/>\n<text text-anchor=\"middle\" x=\"3339\" y=\"-101.3\" font-family=\"Times,serif\" font-size=\"14.00\" fill=\"#000000\">L&#45;Weight</text>\n</g>\n<!-- L&#45;Distance67&#45;&gt;L&#45;Weight70 -->\n<g id=\"edge74\" class=\"edge\">\n<title>L&#45;Distance67&#45;&gt;L&#45;Weight70</title>\n<path fill=\"none\" stroke=\"#000000\" d=\"M3290.3443,-174.3943C3299.1085,-161.8944 3311.0174,-144.9096 3320.8596,-130.8724\"/>\n<polygon fill=\"#000000\" stroke=\"#000000\" points=\"3323.7989,-132.7768 3326.6741,-122.5796 3318.0673,-128.7581 3323.7989,-132.7768\"/>\n<text text-anchor=\"middle\" x=\"3317\" y=\"-144.8\" font-family=\"Times,serif\" font-size=\"14.00\" fill=\"#000000\">5</text>\n</g>\n<!-- R74 -->\n<g id=\"node79\" class=\"node\">\n<title>R74</title>\n<ellipse fill=\"none\" stroke=\"#000000\" cx=\"3430\" cy=\"-105\" rx=\"27\" ry=\"18\"/>\n<text text-anchor=\"middle\" x=\"3430\" y=\"-101.3\" font-family=\"Times,serif\" font-size=\"14.00\" fill=\"#000000\">R</text>\n</g>\n<!-- L&#45;Distance67&#45;&gt;R74 -->\n<g id=\"edge78\" class=\"edge\">\n<title>L&#45;Distance67&#45;&gt;R74</title>\n<path fill=\"none\" stroke=\"#000000\" d=\"M3304.8247,-176.6464C3331.6245,-161.307 3372.7214,-137.7845 3400.4449,-121.9164\"/>\n<polygon fill=\"#000000\" stroke=\"#000000\" points=\"3402.3539,-124.8566 3409.2941,-116.8514 3398.8765,-118.7814 3402.3539,-124.8566\"/>\n<text text-anchor=\"middle\" x=\"3368\" y=\"-144.8\" font-family=\"Times,serif\" font-size=\"14.00\" fill=\"#000000\">3</text>\n</g>\n<!-- L&#45;Weight75 -->\n<g id=\"node80\" class=\"node\">\n<title>L&#45;Weight75</title>\n<ellipse fill=\"none\" stroke=\"#000000\" cx=\"3538\" cy=\"-105\" rx=\"46.2923\" ry=\"18\"/>\n<text text-anchor=\"middle\" x=\"3538\" y=\"-101.3\" font-family=\"Times,serif\" font-size=\"14.00\" fill=\"#000000\">L&#45;Weight</text>\n</g>\n<!-- L&#45;Distance67&#45;&gt;L&#45;Weight75 -->\n<g id=\"edge79\" class=\"edge\">\n<title>L&#45;Distance67&#45;&gt;L&#45;Weight75</title>\n<path fill=\"none\" stroke=\"#000000\" d=\"M3315.2517,-179.535C3362.2467,-163.8098 3442.9834,-136.794 3493.2676,-119.9682\"/>\n<polygon fill=\"#000000\" stroke=\"#000000\" points=\"3494.5268,-123.2376 3502.8994,-116.7452 3492.3055,-116.5994 3494.5268,-123.2376\"/>\n<text text-anchor=\"middle\" x=\"3428\" y=\"-144.8\" font-family=\"Times,serif\" font-size=\"14.00\" fill=\"#000000\">4</text>\n</g>\n<!-- L71 -->\n<g id=\"node76\" class=\"node\">\n<title>L71</title>\n<ellipse fill=\"none\" stroke=\"#000000\" cx=\"3267\" cy=\"-18\" rx=\"27\" ry=\"18\"/>\n<text text-anchor=\"middle\" x=\"3267\" y=\"-14.3\" font-family=\"Times,serif\" font-size=\"14.00\" fill=\"#000000\">L</text>\n</g>\n<!-- L&#45;Weight70&#45;&gt;L71 -->\n<g id=\"edge75\" class=\"edge\">\n<title>L&#45;Weight70&#45;&gt;L71</title>\n<path fill=\"none\" stroke=\"#000000\" d=\"M3324.7751,-87.8116C3313.9494,-74.7305 3298.9155,-56.5645 3286.8973,-42.0425\"/>\n<polygon fill=\"#000000\" stroke=\"#000000\" points=\"3289.2963,-39.4518 3280.2242,-33.9793 3283.9036,-43.9148 3289.2963,-39.4518\"/>\n<text text-anchor=\"middle\" x=\"3312\" y=\"-57.8\" font-family=\"Times,serif\" font-size=\"14.00\" fill=\"#000000\">5</text>\n</g>\n<!-- L72 -->\n<g id=\"node77\" class=\"node\">\n<title>L72</title>\n<ellipse fill=\"none\" stroke=\"#000000\" cx=\"3339\" cy=\"-18\" rx=\"27\" ry=\"18\"/>\n<text text-anchor=\"middle\" x=\"3339\" y=\"-14.3\" font-family=\"Times,serif\" font-size=\"14.00\" fill=\"#000000\">L</text>\n</g>\n<!-- L&#45;Weight70&#45;&gt;L72 -->\n<g id=\"edge76\" class=\"edge\">\n<title>L&#45;Weight70&#45;&gt;L72</title>\n<path fill=\"none\" stroke=\"#000000\" d=\"M3339,-86.9735C3339,-75.1918 3339,-59.5607 3339,-46.1581\"/>\n<polygon fill=\"#000000\" stroke=\"#000000\" points=\"3342.5001,-46.0033 3339,-36.0034 3335.5001,-46.0034 3342.5001,-46.0033\"/>\n<text text-anchor=\"middle\" x=\"3343\" y=\"-57.8\" font-family=\"Times,serif\" font-size=\"14.00\" fill=\"#000000\">4</text>\n</g>\n<!-- R73 -->\n<g id=\"node78\" class=\"node\">\n<title>R73</title>\n<ellipse fill=\"none\" stroke=\"#000000\" cx=\"3411\" cy=\"-18\" rx=\"27\" ry=\"18\"/>\n<text text-anchor=\"middle\" x=\"3411\" y=\"-14.3\" font-family=\"Times,serif\" font-size=\"14.00\" fill=\"#000000\">R</text>\n</g>\n<!-- L&#45;Weight70&#45;&gt;R73 -->\n<g id=\"edge77\" class=\"edge\">\n<title>L&#45;Weight70&#45;&gt;R73</title>\n<path fill=\"none\" stroke=\"#000000\" d=\"M3353.2249,-87.8116C3364.0506,-74.7305 3379.0845,-56.5645 3391.1027,-42.0425\"/>\n<polygon fill=\"#000000\" stroke=\"#000000\" points=\"3394.0964,-43.9148 3397.7758,-33.9793 3388.7037,-39.4518 3394.0964,-43.9148\"/>\n<text text-anchor=\"middle\" x=\"3384\" y=\"-57.8\" font-family=\"Times,serif\" font-size=\"14.00\" fill=\"#000000\">2</text>\n</g>\n<!-- R76 -->\n<g id=\"node81\" class=\"node\">\n<title>R76</title>\n<ellipse fill=\"none\" stroke=\"#000000\" cx=\"3483\" cy=\"-18\" rx=\"27\" ry=\"18\"/>\n<text text-anchor=\"middle\" x=\"3483\" y=\"-14.3\" font-family=\"Times,serif\" font-size=\"14.00\" fill=\"#000000\">R</text>\n</g>\n<!-- L&#45;Weight75&#45;&gt;R76 -->\n<g id=\"edge80\" class=\"edge\">\n<title>L&#45;Weight75&#45;&gt;R76</title>\n<path fill=\"none\" stroke=\"#000000\" d=\"M3526.8699,-87.3943C3518.8878,-74.768 3508.0127,-57.5655 3499.0873,-43.4473\"/>\n<polygon fill=\"#000000\" stroke=\"#000000\" points=\"3501.8557,-41.2764 3493.5537,-34.694 3495.9389,-45.0169 3501.8557,-41.2764\"/>\n<text text-anchor=\"middle\" x=\"3518\" y=\"-57.8\" font-family=\"Times,serif\" font-size=\"14.00\" fill=\"#000000\">2</text>\n</g>\n<!-- B77 -->\n<g id=\"node82\" class=\"node\">\n<title>B77</title>\n<ellipse fill=\"none\" stroke=\"#000000\" cx=\"3555\" cy=\"-18\" rx=\"27\" ry=\"18\"/>\n<text text-anchor=\"middle\" x=\"3555\" y=\"-14.3\" font-family=\"Times,serif\" font-size=\"14.00\" fill=\"#000000\">B</text>\n</g>\n<!-- L&#45;Weight75&#45;&gt;B77 -->\n<g id=\"edge81\" class=\"edge\">\n<title>L&#45;Weight75&#45;&gt;B77</title>\n<path fill=\"none\" stroke=\"#000000\" d=\"M3541.5224,-86.9735C3543.8246,-75.1918 3546.879,-59.5607 3549.4978,-46.1581\"/>\n<polygon fill=\"#000000\" stroke=\"#000000\" points=\"3552.9993,-46.489 3551.4821,-36.0034 3546.1292,-45.1465 3552.9993,-46.489\"/>\n<text text-anchor=\"middle\" x=\"3552\" y=\"-57.8\" font-family=\"Times,serif\" font-size=\"14.00\" fill=\"#000000\">4</text>\n</g>\n<!-- R78 -->\n<g id=\"node83\" class=\"node\">\n<title>R78</title>\n<ellipse fill=\"none\" stroke=\"#000000\" cx=\"3627\" cy=\"-18\" rx=\"27\" ry=\"18\"/>\n<text text-anchor=\"middle\" x=\"3627\" y=\"-14.3\" font-family=\"Times,serif\" font-size=\"14.00\" fill=\"#000000\">R</text>\n</g>\n<!-- L&#45;Weight75&#45;&gt;R78 -->\n<g id=\"edge82\" class=\"edge\">\n<title>L&#45;Weight75&#45;&gt;R78</title>\n<path fill=\"none\" stroke=\"#000000\" d=\"M3555.1601,-88.2255C3569.0968,-74.602 3588.8748,-55.2685 3604.1514,-40.3351\"/>\n<polygon fill=\"#000000\" stroke=\"#000000\" points=\"3606.9707,-42.4737 3611.675,-32.9806 3602.0774,-37.468 3606.9707,-42.4737\"/>\n<text text-anchor=\"middle\" x=\"3592\" y=\"-57.8\" font-family=\"Times,serif\" font-size=\"14.00\" fill=\"#000000\">1</text>\n</g>\n<!-- L&#45;Weight80 -->\n<g id=\"node85\" class=\"node\">\n<title>L&#45;Weight80</title>\n<ellipse fill=\"none\" stroke=\"#000000\" cx=\"4066\" cy=\"-192\" rx=\"46.2923\" ry=\"18\"/>\n<text text-anchor=\"middle\" x=\"4066\" y=\"-188.3\" font-family=\"Times,serif\" font-size=\"14.00\" fill=\"#000000\">L&#45;Weight</text>\n</g>\n<!-- L&#45;Distance79&#45;&gt;L&#45;Weight80 -->\n<g id=\"edge84\" class=\"edge\">\n<title>L&#45;Distance79&#45;&gt;L&#45;Weight80</title>\n<path fill=\"none\" stroke=\"#000000\" d=\"M5368.4301,-275.7483C5156.7486,-262.1368 4342.5915,-209.7853 4121.6152,-195.5761\"/>\n<polygon fill=\"#000000\" stroke=\"#000000\" points=\"4121.7497,-192.0777 4111.5457,-194.9287 4121.3004,-199.0632 4121.7497,-192.0777\"/>\n<text text-anchor=\"middle\" x=\"4828\" y=\"-231.8\" font-family=\"Times,serif\" font-size=\"14.00\" fill=\"#000000\">3</text>\n</g>\n<!-- L&#45;Weight95 -->\n<g id=\"node100\" class=\"node\">\n<title>L&#45;Weight95</title>\n<ellipse fill=\"none\" stroke=\"#000000\" cx=\"4743\" cy=\"-192\" rx=\"46.2923\" ry=\"18\"/>\n<text text-anchor=\"middle\" x=\"4743\" y=\"-188.3\" font-family=\"Times,serif\" font-size=\"14.00\" fill=\"#000000\">L&#45;Weight</text>\n</g>\n<!-- L&#45;Distance79&#45;&gt;L&#45;Weight95 -->\n<g id=\"edge99\" class=\"edge\">\n<title>L&#45;Distance79&#45;&gt;L&#45;Weight95</title>\n<path fill=\"none\" stroke=\"#000000\" d=\"M5370.655,-272.7781C5248.1126,-257.0071 4925.9514,-215.5455 4797.2503,-198.9819\"/>\n<polygon fill=\"#000000\" stroke=\"#000000\" points=\"4797.5926,-195.4972 4787.2276,-197.692 4796.699,-202.4399 4797.5926,-195.4972\"/>\n<text text-anchor=\"middle\" x=\"5126\" y=\"-231.8\" font-family=\"Times,serif\" font-size=\"14.00\" fill=\"#000000\">2</text>\n</g>\n<!-- R&#45;Distance111 -->\n<g id=\"node116\" class=\"node\">\n<title>R&#45;Distance111</title>\n<ellipse fill=\"none\" stroke=\"#000000\" cx=\"5344\" cy=\"-192\" rx=\"51.9908\" ry=\"18\"/>\n<text text-anchor=\"middle\" x=\"5344\" y=\"-188.3\" font-family=\"Times,serif\" font-size=\"14.00\" fill=\"#000000\">R&#45;Distance</text>\n</g>\n<!-- L&#45;Distance79&#45;&gt;R&#45;Distance111 -->\n<g id=\"edge115\" class=\"edge\">\n<title>L&#45;Distance79&#45;&gt;R&#45;Distance111</title>\n<path fill=\"none\" stroke=\"#000000\" d=\"M5403.8226,-261.3943C5392.8737,-248.6935 5377.9331,-231.3624 5365.7222,-217.1977\"/>\n<polygon fill=\"#000000\" stroke=\"#000000\" points=\"5368.0792,-214.5715 5358.8988,-209.2827 5362.7773,-219.1421 5368.0792,-214.5715\"/>\n<text text-anchor=\"middle\" x=\"5390\" y=\"-231.8\" font-family=\"Times,serif\" font-size=\"14.00\" fill=\"#000000\">1</text>\n</g>\n<!-- L&#45;Weight123 -->\n<g id=\"node128\" class=\"node\">\n<title>L&#45;Weight123</title>\n<ellipse fill=\"none\" stroke=\"#000000\" cx=\"5682\" cy=\"-192\" rx=\"46.2923\" ry=\"18\"/>\n<text text-anchor=\"middle\" x=\"5682\" y=\"-188.3\" font-family=\"Times,serif\" font-size=\"14.00\" fill=\"#000000\">L&#45;Weight</text>\n</g>\n<!-- L&#45;Distance79&#45;&gt;L&#45;Weight123 -->\n<g id=\"edge127\" class=\"edge\">\n<title>L&#45;Distance79&#45;&gt;L&#45;Weight123</title>\n<path fill=\"none\" stroke=\"#000000\" d=\"M5456.4022,-266.6274C5503.8661,-250.9264 5585.6763,-223.8637 5636.6477,-207.0025\"/>\n<polygon fill=\"#000000\" stroke=\"#000000\" points=\"5638.0167,-210.2362 5646.4115,-203.7726 5635.8183,-203.5904 5638.0167,-210.2362\"/>\n<text text-anchor=\"middle\" x=\"5571\" y=\"-231.8\" font-family=\"Times,serif\" font-size=\"14.00\" fill=\"#000000\">4</text>\n</g>\n<!-- L&#45;Weight137 -->\n<g id=\"node142\" class=\"node\">\n<title>L&#45;Weight137</title>\n<ellipse fill=\"none\" stroke=\"#000000\" cx=\"6103\" cy=\"-192\" rx=\"46.2923\" ry=\"18\"/>\n<text text-anchor=\"middle\" x=\"6103\" y=\"-188.3\" font-family=\"Times,serif\" font-size=\"14.00\" fill=\"#000000\">L&#45;Weight</text>\n</g>\n<!-- L&#45;Distance79&#45;&gt;L&#45;Weight137 -->\n<g id=\"edge141\" class=\"edge\">\n<title>L&#45;Distance79&#45;&gt;L&#45;Weight137</title>\n<path fill=\"none\" stroke=\"#000000\" d=\"M5467.3701,-272.8477C5591.2071,-257.0965 5919.0609,-215.3958 6048.9244,-198.878\"/>\n<polygon fill=\"#000000\" stroke=\"#000000\" points=\"6049.553,-202.3264 6059.0314,-197.5925 6048.6697,-195.3823 6049.553,-202.3264\"/>\n<text text-anchor=\"middle\" x=\"5806\" y=\"-231.8\" font-family=\"Times,serif\" font-size=\"14.00\" fill=\"#000000\">5</text>\n</g>\n<!-- R&#45;Distance81 -->\n<g id=\"node86\" class=\"node\">\n<title>R&#45;Distance81</title>\n<ellipse fill=\"none\" stroke=\"#000000\" cx=\"3843\" cy=\"-105\" rx=\"51.9908\" ry=\"18\"/>\n<text text-anchor=\"middle\" x=\"3843\" y=\"-101.3\" font-family=\"Times,serif\" font-size=\"14.00\" fill=\"#000000\">R&#45;Distance</text>\n</g>\n<!-- L&#45;Weight80&#45;&gt;R&#45;Distance81 -->\n<g id=\"edge85\" class=\"edge\">\n<title>L&#45;Weight80&#45;&gt;R&#45;Distance81</title>\n<path fill=\"none\" stroke=\"#000000\" d=\"M4033.0956,-179.1629C3994.4614,-164.0903 3930.2129,-139.0248 3887.2424,-122.2605\"/>\n<polygon fill=\"#000000\" stroke=\"#000000\" points=\"3888.4664,-118.9812 3877.8782,-118.6072 3885.9222,-125.5024 3888.4664,-118.9812\"/>\n<text text-anchor=\"middle\" x=\"3972\" y=\"-144.8\" font-family=\"Times,serif\" font-size=\"14.00\" fill=\"#000000\">3</text>\n</g>\n<!-- L86 -->\n<g id=\"node91\" class=\"node\">\n<title>L86</title>\n<ellipse fill=\"none\" stroke=\"#000000\" cx=\"3962\" cy=\"-105\" rx=\"27\" ry=\"18\"/>\n<text text-anchor=\"middle\" x=\"3962\" y=\"-101.3\" font-family=\"Times,serif\" font-size=\"14.00\" fill=\"#000000\">L</text>\n</g>\n<!-- L&#45;Weight80&#45;&gt;L86 -->\n<g id=\"edge90\" class=\"edge\">\n<title>L&#45;Weight80&#45;&gt;L86</title>\n<path fill=\"none\" stroke=\"#000000\" d=\"M4046.4384,-175.636C4029.5999,-161.55 4005.2058,-141.1433 3986.9625,-125.8821\"/>\n<polygon fill=\"#000000\" stroke=\"#000000\" points=\"3988.9783,-123.0053 3979.0625,-119.2734 3984.4869,-128.3743 3988.9783,-123.0053\"/>\n<text text-anchor=\"middle\" x=\"4025\" y=\"-144.8\" font-family=\"Times,serif\" font-size=\"14.00\" fill=\"#000000\">5</text>\n</g>\n<!-- L87 -->\n<g id=\"node92\" class=\"node\">\n<title>L87</title>\n<ellipse fill=\"none\" stroke=\"#000000\" cx=\"4034\" cy=\"-105\" rx=\"27\" ry=\"18\"/>\n<text text-anchor=\"middle\" x=\"4034\" y=\"-101.3\" font-family=\"Times,serif\" font-size=\"14.00\" fill=\"#000000\">L</text>\n</g>\n<!-- L&#45;Weight80&#45;&gt;L87 -->\n<g id=\"edge91\" class=\"edge\">\n<title>L&#45;Weight80&#45;&gt;L87</title>\n<path fill=\"none\" stroke=\"#000000\" d=\"M4059.3696,-173.9735C4054.9208,-161.8784 4048.9798,-145.7263 4043.9654,-132.0934\"/>\n<polygon fill=\"#000000\" stroke=\"#000000\" points=\"4047.2494,-130.8827 4040.5124,-122.7057 4040.6797,-133.2992 4047.2494,-130.8827\"/>\n<text text-anchor=\"middle\" x=\"4056\" y=\"-144.8\" font-family=\"Times,serif\" font-size=\"14.00\" fill=\"#000000\">4</text>\n</g>\n<!-- R&#45;Distance88 -->\n<g id=\"node93\" class=\"node\">\n<title>R&#45;Distance88</title>\n<ellipse fill=\"none\" stroke=\"#000000\" cx=\"4131\" cy=\"-105\" rx=\"51.9908\" ry=\"18\"/>\n<text text-anchor=\"middle\" x=\"4131\" y=\"-101.3\" font-family=\"Times,serif\" font-size=\"14.00\" fill=\"#000000\">R&#45;Distance</text>\n</g>\n<!-- L&#45;Weight80&#45;&gt;R&#45;Distance88 -->\n<g id=\"edge92\" class=\"edge\">\n<title>L&#45;Weight80&#45;&gt;R&#45;Distance88</title>\n<path fill=\"none\" stroke=\"#000000\" d=\"M4079.1537,-174.3943C4088.4927,-161.8944 4101.1825,-144.9096 4111.6701,-130.8724\"/>\n<polygon fill=\"#000000\" stroke=\"#000000\" points=\"4114.6844,-132.6855 4117.8658,-122.5796 4109.0767,-128.4958 4114.6844,-132.6855\"/>\n<text text-anchor=\"middle\" x=\"4107\" y=\"-144.8\" font-family=\"Times,serif\" font-size=\"14.00\" fill=\"#000000\">2</text>\n</g>\n<!-- R94 -->\n<g id=\"node99\" class=\"node\">\n<title>R94</title>\n<ellipse fill=\"none\" stroke=\"#000000\" cx=\"4228\" cy=\"-105\" rx=\"27\" ry=\"18\"/>\n<text text-anchor=\"middle\" x=\"4228\" y=\"-101.3\" font-family=\"Times,serif\" font-size=\"14.00\" fill=\"#000000\">R</text>\n</g>\n<!-- L&#45;Weight80&#45;&gt;R94 -->\n<g id=\"edge98\" class=\"edge\">\n<title>L&#45;Weight80&#45;&gt;R94</title>\n<path fill=\"none\" stroke=\"#000000\" d=\"M4093.4811,-177.2416C4122.3167,-161.7559 4167.5313,-137.4739 4197.4639,-121.399\"/>\n<polygon fill=\"#000000\" stroke=\"#000000\" points=\"4199.4512,-124.3046 4206.6052,-116.4898 4196.1393,-118.1376 4199.4512,-124.3046\"/>\n<text text-anchor=\"middle\" x=\"4161\" y=\"-144.8\" font-family=\"Times,serif\" font-size=\"14.00\" fill=\"#000000\">1</text>\n</g>\n<!-- L82 -->\n<g id=\"node87\" class=\"node\">\n<title>L82</title>\n<ellipse fill=\"none\" stroke=\"#000000\" cx=\"3699\" cy=\"-18\" rx=\"27\" ry=\"18\"/>\n<text text-anchor=\"middle\" x=\"3699\" y=\"-14.3\" font-family=\"Times,serif\" font-size=\"14.00\" fill=\"#000000\">L</text>\n</g>\n<!-- R&#45;Distance81&#45;&gt;L82 -->\n<g id=\"edge86\" class=\"edge\">\n<title>R&#45;Distance81&#45;&gt;L82</title>\n<path fill=\"none\" stroke=\"#000000\" d=\"M3816.9227,-89.245C3791.8375,-74.0893 3753.9883,-51.2221 3727.9738,-35.505\"/>\n<polygon fill=\"#000000\" stroke=\"#000000\" points=\"3729.6751,-32.4437 3719.306,-30.2682 3726.0553,-38.4351 3729.6751,-32.4437\"/>\n<text text-anchor=\"middle\" x=\"3784\" y=\"-57.8\" font-family=\"Times,serif\" font-size=\"14.00\" fill=\"#000000\">4</text>\n</g>\n<!-- L83 -->\n<g id=\"node88\" class=\"node\">\n<title>L83</title>\n<ellipse fill=\"none\" stroke=\"#000000\" cx=\"3771\" cy=\"-18\" rx=\"27\" ry=\"18\"/>\n<text text-anchor=\"middle\" x=\"3771\" y=\"-14.3\" font-family=\"Times,serif\" font-size=\"14.00\" fill=\"#000000\">L</text>\n</g>\n<!-- R&#45;Distance81&#45;&gt;L83 -->\n<g id=\"edge87\" class=\"edge\">\n<title>R&#45;Distance81&#45;&gt;L83</title>\n<path fill=\"none\" stroke=\"#000000\" d=\"M3828.4297,-87.3943C3817.5753,-74.2785 3802.6342,-56.2247 3790.7127,-41.8195\"/>\n<polygon fill=\"#000000\" stroke=\"#000000\" points=\"3793.1682,-39.2969 3784.0961,-33.8244 3787.7754,-43.7599 3793.1682,-39.2969\"/>\n<text text-anchor=\"middle\" x=\"3816\" y=\"-57.8\" font-family=\"Times,serif\" font-size=\"14.00\" fill=\"#000000\">3</text>\n</g>\n<!-- L84 -->\n<g id=\"node89\" class=\"node\">\n<title>L84</title>\n<ellipse fill=\"none\" stroke=\"#000000\" cx=\"3843\" cy=\"-18\" rx=\"27\" ry=\"18\"/>\n<text text-anchor=\"middle\" x=\"3843\" y=\"-14.3\" font-family=\"Times,serif\" font-size=\"14.00\" fill=\"#000000\">L</text>\n</g>\n<!-- R&#45;Distance81&#45;&gt;L84 -->\n<g id=\"edge88\" class=\"edge\">\n<title>R&#45;Distance81&#45;&gt;L84</title>\n<path fill=\"none\" stroke=\"#000000\" d=\"M3843,-86.9735C3843,-75.1918 3843,-59.5607 3843,-46.1581\"/>\n<polygon fill=\"#000000\" stroke=\"#000000\" points=\"3846.5001,-46.0033 3843,-36.0034 3839.5001,-46.0034 3846.5001,-46.0033\"/>\n<text text-anchor=\"middle\" x=\"3847\" y=\"-57.8\" font-family=\"Times,serif\" font-size=\"14.00\" fill=\"#000000\">1</text>\n</g>\n<!-- R85 -->\n<g id=\"node90\" class=\"node\">\n<title>R85</title>\n<ellipse fill=\"none\" stroke=\"#000000\" cx=\"3915\" cy=\"-18\" rx=\"27\" ry=\"18\"/>\n<text text-anchor=\"middle\" x=\"3915\" y=\"-14.3\" font-family=\"Times,serif\" font-size=\"14.00\" fill=\"#000000\">R</text>\n</g>\n<!-- R&#45;Distance81&#45;&gt;R85 -->\n<g id=\"edge89\" class=\"edge\">\n<title>R&#45;Distance81&#45;&gt;R85</title>\n<path fill=\"none\" stroke=\"#000000\" d=\"M3857.5703,-87.3943C3868.4247,-74.2785 3883.3658,-56.2247 3895.2873,-41.8195\"/>\n<polygon fill=\"#000000\" stroke=\"#000000\" points=\"3898.2246,-43.7599 3901.9039,-33.8244 3892.8318,-39.2969 3898.2246,-43.7599\"/>\n<text text-anchor=\"middle\" x=\"3888\" y=\"-57.8\" font-family=\"Times,serif\" font-size=\"14.00\" fill=\"#000000\">5</text>\n</g>\n<!-- L89 -->\n<g id=\"node94\" class=\"node\">\n<title>L89</title>\n<ellipse fill=\"none\" stroke=\"#000000\" cx=\"3987\" cy=\"-18\" rx=\"27\" ry=\"18\"/>\n<text text-anchor=\"middle\" x=\"3987\" y=\"-14.3\" font-family=\"Times,serif\" font-size=\"14.00\" fill=\"#000000\">L</text>\n</g>\n<!-- R&#45;Distance88&#45;&gt;L89 -->\n<g id=\"edge93\" class=\"edge\">\n<title>R&#45;Distance88&#45;&gt;L89</title>\n<path fill=\"none\" stroke=\"#000000\" d=\"M4104.9227,-89.245C4079.8375,-74.0893 4041.9883,-51.2221 4015.9738,-35.505\"/>\n<polygon fill=\"#000000\" stroke=\"#000000\" points=\"4017.6751,-32.4437 4007.306,-30.2682 4014.0553,-38.4351 4017.6751,-32.4437\"/>\n<text text-anchor=\"middle\" x=\"4072\" y=\"-57.8\" font-family=\"Times,serif\" font-size=\"14.00\" fill=\"#000000\">2</text>\n</g>\n<!-- R90 -->\n<g id=\"node95\" class=\"node\">\n<title>R90</title>\n<ellipse fill=\"none\" stroke=\"#000000\" cx=\"4059\" cy=\"-18\" rx=\"27\" ry=\"18\"/>\n<text text-anchor=\"middle\" x=\"4059\" y=\"-14.3\" font-family=\"Times,serif\" font-size=\"14.00\" fill=\"#000000\">R</text>\n</g>\n<!-- R&#45;Distance88&#45;&gt;R90 -->\n<g id=\"edge94\" class=\"edge\">\n<title>R&#45;Distance88&#45;&gt;R90</title>\n<path fill=\"none\" stroke=\"#000000\" d=\"M4116.4297,-87.3943C4105.5753,-74.2785 4090.6342,-56.2247 4078.7127,-41.8195\"/>\n<polygon fill=\"#000000\" stroke=\"#000000\" points=\"4081.1682,-39.2969 4072.0961,-33.8244 4075.7754,-43.7599 4081.1682,-39.2969\"/>\n<text text-anchor=\"middle\" x=\"4104\" y=\"-57.8\" font-family=\"Times,serif\" font-size=\"14.00\" fill=\"#000000\">4</text>\n</g>\n<!-- B91 -->\n<g id=\"node96\" class=\"node\">\n<title>B91</title>\n<ellipse fill=\"none\" stroke=\"#000000\" cx=\"4131\" cy=\"-18\" rx=\"27\" ry=\"18\"/>\n<text text-anchor=\"middle\" x=\"4131\" y=\"-14.3\" font-family=\"Times,serif\" font-size=\"14.00\" fill=\"#000000\">B</text>\n</g>\n<!-- R&#45;Distance88&#45;&gt;B91 -->\n<g id=\"edge95\" class=\"edge\">\n<title>R&#45;Distance88&#45;&gt;B91</title>\n<path fill=\"none\" stroke=\"#000000\" d=\"M4131,-86.9735C4131,-75.1918 4131,-59.5607 4131,-46.1581\"/>\n<polygon fill=\"#000000\" stroke=\"#000000\" points=\"4134.5001,-46.0033 4131,-36.0034 4127.5001,-46.0034 4134.5001,-46.0033\"/>\n<text text-anchor=\"middle\" x=\"4135\" y=\"-57.8\" font-family=\"Times,serif\" font-size=\"14.00\" fill=\"#000000\">3</text>\n</g>\n<!-- L92 -->\n<g id=\"node97\" class=\"node\">\n<title>L92</title>\n<ellipse fill=\"none\" stroke=\"#000000\" cx=\"4203\" cy=\"-18\" rx=\"27\" ry=\"18\"/>\n<text text-anchor=\"middle\" x=\"4203\" y=\"-14.3\" font-family=\"Times,serif\" font-size=\"14.00\" fill=\"#000000\">L</text>\n</g>\n<!-- R&#45;Distance88&#45;&gt;L92 -->\n<g id=\"edge96\" class=\"edge\">\n<title>R&#45;Distance88&#45;&gt;L92</title>\n<path fill=\"none\" stroke=\"#000000\" d=\"M4145.5703,-87.3943C4156.4247,-74.2785 4171.3658,-56.2247 4183.2873,-41.8195\"/>\n<polygon fill=\"#000000\" stroke=\"#000000\" points=\"4186.2246,-43.7599 4189.9039,-33.8244 4180.8318,-39.2969 4186.2246,-43.7599\"/>\n<text text-anchor=\"middle\" x=\"4176\" y=\"-57.8\" font-family=\"Times,serif\" font-size=\"14.00\" fill=\"#000000\">1</text>\n</g>\n<!-- R93 -->\n<g id=\"node98\" class=\"node\">\n<title>R93</title>\n<ellipse fill=\"none\" stroke=\"#000000\" cx=\"4275\" cy=\"-18\" rx=\"27\" ry=\"18\"/>\n<text text-anchor=\"middle\" x=\"4275\" y=\"-14.3\" font-family=\"Times,serif\" font-size=\"14.00\" fill=\"#000000\">R</text>\n</g>\n<!-- R&#45;Distance88&#45;&gt;R93 -->\n<g id=\"edge97\" class=\"edge\">\n<title>R&#45;Distance88&#45;&gt;R93</title>\n<path fill=\"none\" stroke=\"#000000\" d=\"M4157.0773,-89.245C4182.1625,-74.0893 4220.0117,-51.2221 4246.0262,-35.505\"/>\n<polygon fill=\"#000000\" stroke=\"#000000\" points=\"4247.9447,-38.4351 4254.694,-30.2682 4244.3249,-32.4437 4247.9447,-38.4351\"/>\n<text text-anchor=\"middle\" x=\"4216\" y=\"-57.8\" font-family=\"Times,serif\" font-size=\"14.00\" fill=\"#000000\">5</text>\n</g>\n<!-- R96 -->\n<g id=\"node101\" class=\"node\">\n<title>R96</title>\n<ellipse fill=\"none\" stroke=\"#000000\" cx=\"4394\" cy=\"-105\" rx=\"27\" ry=\"18\"/>\n<text text-anchor=\"middle\" x=\"4394\" y=\"-101.3\" font-family=\"Times,serif\" font-size=\"14.00\" fill=\"#000000\">R</text>\n</g>\n<!-- L&#45;Weight95&#45;&gt;R96 -->\n<g id=\"edge100\" class=\"edge\">\n<title>L&#45;Weight95&#45;&gt;R96</title>\n<path fill=\"none\" stroke=\"#000000\" d=\"M4699.5384,-185.8941C4638.2188,-176.5049 4523.3677,-156.0604 4430,-123 4428.1227,-122.3353 4426.2172,-121.5955 4424.3131,-120.8055\"/>\n<polygon fill=\"#000000\" stroke=\"#000000\" points=\"4425.4932,-117.4976 4414.9405,-116.5536 4422.6013,-123.8723 4425.4932,-117.4976\"/>\n<text text-anchor=\"middle\" x=\"4544\" y=\"-144.8\" font-family=\"Times,serif\" font-size=\"14.00\" fill=\"#000000\">2</text>\n</g>\n<!-- R&#45;Distance97 -->\n<g id=\"node102\" class=\"node\">\n<title>R&#45;Distance97</title>\n<ellipse fill=\"none\" stroke=\"#000000\" cx=\"4491\" cy=\"-105\" rx=\"51.9908\" ry=\"18\"/>\n<text text-anchor=\"middle\" x=\"4491\" y=\"-101.3\" font-family=\"Times,serif\" font-size=\"14.00\" fill=\"#000000\">R&#45;Distance</text>\n</g>\n<!-- L&#45;Weight95&#45;&gt;R&#45;Distance97 -->\n<g id=\"edge101\" class=\"edge\">\n<title>L&#45;Weight95&#45;&gt;R&#45;Distance97</title>\n<path fill=\"none\" stroke=\"#000000\" d=\"M4708.2251,-179.9944C4663.7951,-164.6554 4586.7476,-138.0557 4537.3617,-121.0058\"/>\n<polygon fill=\"#000000\" stroke=\"#000000\" points=\"4538.4659,-117.6844 4527.8712,-117.7293 4536.1815,-124.3012 4538.4659,-117.6844\"/>\n<text text-anchor=\"middle\" x=\"4637\" y=\"-144.8\" font-family=\"Times,serif\" font-size=\"14.00\" fill=\"#000000\">5</text>\n</g>\n<!-- R&#45;Distance101 -->\n<g id=\"node106\" class=\"node\">\n<title>R&#45;Distance101</title>\n<ellipse fill=\"none\" stroke=\"#000000\" cx=\"4671\" cy=\"-105\" rx=\"51.9908\" ry=\"18\"/>\n<text text-anchor=\"middle\" x=\"4671\" y=\"-101.3\" font-family=\"Times,serif\" font-size=\"14.00\" fill=\"#000000\">R&#45;Distance</text>\n</g>\n<!-- L&#45;Weight95&#45;&gt;R&#45;Distance101 -->\n<g id=\"edge105\" class=\"edge\">\n<title>L&#45;Weight95&#45;&gt;R&#45;Distance101</title>\n<path fill=\"none\" stroke=\"#000000\" d=\"M4728.7751,-174.8116C4718.2919,-162.1444 4703.8628,-144.7092 4692.0471,-130.4319\"/>\n<polygon fill=\"#000000\" stroke=\"#000000\" points=\"4694.5139,-127.9229 4685.4418,-122.4505 4689.1211,-132.3859 4694.5139,-127.9229\"/>\n<text text-anchor=\"middle\" x=\"4716\" y=\"-144.8\" font-family=\"Times,serif\" font-size=\"14.00\" fill=\"#000000\">3</text>\n</g>\n<!-- R106 -->\n<g id=\"node111\" class=\"node\">\n<title>R106</title>\n<ellipse fill=\"none\" stroke=\"#000000\" cx=\"4768\" cy=\"-105\" rx=\"27\" ry=\"18\"/>\n<text text-anchor=\"middle\" x=\"4768\" y=\"-101.3\" font-family=\"Times,serif\" font-size=\"14.00\" fill=\"#000000\">R</text>\n</g>\n<!-- L&#45;Weight95&#45;&gt;R106 -->\n<g id=\"edge110\" class=\"edge\">\n<title>L&#45;Weight95&#45;&gt;R106</title>\n<path fill=\"none\" stroke=\"#000000\" d=\"M4748.18,-173.9735C4751.6219,-161.9958 4756.207,-146.0396 4760.1002,-132.4912\"/>\n<polygon fill=\"#000000\" stroke=\"#000000\" points=\"4763.5142,-133.2834 4762.9122,-122.7057 4756.7864,-131.3501 4763.5142,-133.2834\"/>\n<text text-anchor=\"middle\" x=\"4761\" y=\"-144.8\" font-family=\"Times,serif\" font-size=\"14.00\" fill=\"#000000\">1</text>\n</g>\n<!-- R&#45;Distance107 -->\n<g id=\"node112\" class=\"node\">\n<title>R&#45;Distance107</title>\n<ellipse fill=\"none\" stroke=\"#000000\" cx=\"4894\" cy=\"-105\" rx=\"51.9908\" ry=\"18\"/>\n<text text-anchor=\"middle\" x=\"4894\" y=\"-101.3\" font-family=\"Times,serif\" font-size=\"14.00\" fill=\"#000000\">R&#45;Distance</text>\n</g>\n<!-- L&#45;Weight95&#45;&gt;R&#45;Distance107 -->\n<g id=\"edge111\" class=\"edge\">\n<title>L&#45;Weight95&#45;&gt;R&#45;Distance107</title>\n<path fill=\"none\" stroke=\"#000000\" d=\"M4768.9578,-177.0442C4793.5793,-162.8583 4830.7863,-141.4212 4858.2159,-125.6173\"/>\n<polygon fill=\"#000000\" stroke=\"#000000\" points=\"4860.1936,-128.5173 4867.111,-120.4923 4856.6989,-122.452 4860.1936,-128.5173\"/>\n<text text-anchor=\"middle\" x=\"4832\" y=\"-144.8\" font-family=\"Times,serif\" font-size=\"14.00\" fill=\"#000000\">4</text>\n</g>\n<!-- L98 -->\n<g id=\"node103\" class=\"node\">\n<title>L98</title>\n<ellipse fill=\"none\" stroke=\"#000000\" cx=\"4347\" cy=\"-18\" rx=\"27\" ry=\"18\"/>\n<text text-anchor=\"middle\" x=\"4347\" y=\"-14.3\" font-family=\"Times,serif\" font-size=\"14.00\" fill=\"#000000\">L</text>\n</g>\n<!-- R&#45;Distance97&#45;&gt;L98 -->\n<g id=\"edge102\" class=\"edge\">\n<title>R&#45;Distance97&#45;&gt;L98</title>\n<path fill=\"none\" stroke=\"#000000\" d=\"M4464.9227,-89.245C4439.8375,-74.0893 4401.9883,-51.2221 4375.9738,-35.505\"/>\n<polygon fill=\"#000000\" stroke=\"#000000\" points=\"4377.6751,-32.4437 4367.306,-30.2682 4374.0553,-38.4351 4377.6751,-32.4437\"/>\n<text text-anchor=\"middle\" x=\"4432\" y=\"-57.8\" font-family=\"Times,serif\" font-size=\"14.00\" fill=\"#000000\">4</text>\n</g>\n<!-- L99 -->\n<g id=\"node104\" class=\"node\">\n<title>L99</title>\n<ellipse fill=\"none\" stroke=\"#000000\" cx=\"4419\" cy=\"-18\" rx=\"27\" ry=\"18\"/>\n<text text-anchor=\"middle\" x=\"4419\" y=\"-14.3\" font-family=\"Times,serif\" font-size=\"14.00\" fill=\"#000000\">L</text>\n</g>\n<!-- R&#45;Distance97&#45;&gt;L99 -->\n<g id=\"edge103\" class=\"edge\">\n<title>R&#45;Distance97&#45;&gt;L99</title>\n<path fill=\"none\" stroke=\"#000000\" d=\"M4476.4297,-87.3943C4465.5753,-74.2785 4450.6342,-56.2247 4438.7127,-41.8195\"/>\n<polygon fill=\"#000000\" stroke=\"#000000\" points=\"4441.1682,-39.2969 4432.0961,-33.8244 4435.7754,-43.7599 4441.1682,-39.2969\"/>\n<text text-anchor=\"middle\" x=\"4464\" y=\"-57.8\" font-family=\"Times,serif\" font-size=\"14.00\" fill=\"#000000\">1</text>\n</g>\n<!-- B100 -->\n<g id=\"node105\" class=\"node\">\n<title>B100</title>\n<ellipse fill=\"none\" stroke=\"#000000\" cx=\"4491\" cy=\"-18\" rx=\"27\" ry=\"18\"/>\n<text text-anchor=\"middle\" x=\"4491\" y=\"-14.3\" font-family=\"Times,serif\" font-size=\"14.00\" fill=\"#000000\">B</text>\n</g>\n<!-- R&#45;Distance97&#45;&gt;B100 -->\n<g id=\"edge104\" class=\"edge\">\n<title>R&#45;Distance97&#45;&gt;B100</title>\n<path fill=\"none\" stroke=\"#000000\" d=\"M4491,-86.9735C4491,-75.1918 4491,-59.5607 4491,-46.1581\"/>\n<polygon fill=\"#000000\" stroke=\"#000000\" points=\"4494.5001,-46.0033 4491,-36.0034 4487.5001,-46.0034 4494.5001,-46.0033\"/>\n<text text-anchor=\"middle\" x=\"4495\" y=\"-57.8\" font-family=\"Times,serif\" font-size=\"14.00\" fill=\"#000000\">5</text>\n</g>\n<!-- R102 -->\n<g id=\"node107\" class=\"node\">\n<title>R102</title>\n<ellipse fill=\"none\" stroke=\"#000000\" cx=\"4563\" cy=\"-18\" rx=\"27\" ry=\"18\"/>\n<text text-anchor=\"middle\" x=\"4563\" y=\"-14.3\" font-family=\"Times,serif\" font-size=\"14.00\" fill=\"#000000\">R</text>\n</g>\n<!-- R&#45;Distance101&#45;&gt;R102 -->\n<g id=\"edge106\" class=\"edge\">\n<title>R&#45;Distance101&#45;&gt;R102</title>\n<path fill=\"none\" stroke=\"#000000\" d=\"M4650.4318,-88.4312C4632.7321,-74.1731 4607.1322,-53.5509 4588.2041,-38.3033\"/>\n<polygon fill=\"#000000\" stroke=\"#000000\" points=\"4590.2698,-35.473 4580.2866,-31.9253 4585.8784,-40.9243 4590.2698,-35.473\"/>\n<text text-anchor=\"middle\" x=\"4628\" y=\"-57.8\" font-family=\"Times,serif\" font-size=\"14.00\" fill=\"#000000\">5</text>\n</g>\n<!-- B103 -->\n<g id=\"node108\" class=\"node\">\n<title>B103</title>\n<ellipse fill=\"none\" stroke=\"#000000\" cx=\"4635\" cy=\"-18\" rx=\"27\" ry=\"18\"/>\n<text text-anchor=\"middle\" x=\"4635\" y=\"-14.3\" font-family=\"Times,serif\" font-size=\"14.00\" fill=\"#000000\">B</text>\n</g>\n<!-- R&#45;Distance101&#45;&gt;B103 -->\n<g id=\"edge107\" class=\"edge\">\n<title>R&#45;Distance101&#45;&gt;B103</title>\n<path fill=\"none\" stroke=\"#000000\" d=\"M4663.5408,-86.9735C4658.5027,-74.7983 4651.7637,-58.5122 4646.0991,-44.8228\"/>\n<polygon fill=\"#000000\" stroke=\"#000000\" points=\"4649.2617,-43.3116 4642.204,-35.4097 4642.7935,-45.9881 4649.2617,-43.3116\"/>\n<text text-anchor=\"middle\" x=\"4660\" y=\"-57.8\" font-family=\"Times,serif\" font-size=\"14.00\" fill=\"#000000\">3</text>\n</g>\n<!-- L104 -->\n<g id=\"node109\" class=\"node\">\n<title>L104</title>\n<ellipse fill=\"none\" stroke=\"#000000\" cx=\"4707\" cy=\"-18\" rx=\"27\" ry=\"18\"/>\n<text text-anchor=\"middle\" x=\"4707\" y=\"-14.3\" font-family=\"Times,serif\" font-size=\"14.00\" fill=\"#000000\">L</text>\n</g>\n<!-- R&#45;Distance101&#45;&gt;L104 -->\n<g id=\"edge108\" class=\"edge\">\n<title>R&#45;Distance101&#45;&gt;L104</title>\n<path fill=\"none\" stroke=\"#000000\" d=\"M4678.4592,-86.9735C4683.4973,-74.7983 4690.2363,-58.5122 4695.9009,-44.8228\"/>\n<polygon fill=\"#000000\" stroke=\"#000000\" points=\"4699.2065,-45.9881 4699.796,-35.4097 4692.7383,-43.3116 4699.2065,-45.9881\"/>\n<text text-anchor=\"middle\" x=\"4696\" y=\"-57.8\" font-family=\"Times,serif\" font-size=\"14.00\" fill=\"#000000\">1</text>\n</g>\n<!-- L105 -->\n<g id=\"node110\" class=\"node\">\n<title>L105</title>\n<ellipse fill=\"none\" stroke=\"#000000\" cx=\"4779\" cy=\"-18\" rx=\"27\" ry=\"18\"/>\n<text text-anchor=\"middle\" x=\"4779\" y=\"-14.3\" font-family=\"Times,serif\" font-size=\"14.00\" fill=\"#000000\">L</text>\n</g>\n<!-- R&#45;Distance101&#45;&gt;L105 -->\n<g id=\"edge109\" class=\"edge\">\n<title>R&#45;Distance101&#45;&gt;L105</title>\n<path fill=\"none\" stroke=\"#000000\" d=\"M4691.5682,-88.4312C4709.2679,-74.1731 4734.8678,-53.5509 4753.7959,-38.3033\"/>\n<polygon fill=\"#000000\" stroke=\"#000000\" points=\"4756.1216,-40.9243 4761.7134,-31.9253 4751.7302,-35.473 4756.1216,-40.9243\"/>\n<text text-anchor=\"middle\" x=\"4736\" y=\"-57.8\" font-family=\"Times,serif\" font-size=\"14.00\" fill=\"#000000\">2</text>\n</g>\n<!-- L108 -->\n<g id=\"node113\" class=\"node\">\n<title>L108</title>\n<ellipse fill=\"none\" stroke=\"#000000\" cx=\"4851\" cy=\"-18\" rx=\"27\" ry=\"18\"/>\n<text text-anchor=\"middle\" x=\"4851\" y=\"-14.3\" font-family=\"Times,serif\" font-size=\"14.00\" fill=\"#000000\">L</text>\n</g>\n<!-- R&#45;Distance107&#45;&gt;L108 -->\n<g id=\"edge112\" class=\"edge\">\n<title>R&#45;Distance107&#45;&gt;L108</title>\n<path fill=\"none\" stroke=\"#000000\" d=\"M4885.0904,-86.9735C4878.9743,-74.5992 4870.7595,-57.9785 4863.9264,-44.1534\"/>\n<polygon fill=\"#000000\" stroke=\"#000000\" points=\"4867.0279,-42.5294 4859.4593,-35.1154 4860.7526,-45.631 4867.0279,-42.5294\"/>\n<text text-anchor=\"middle\" x=\"4880\" y=\"-57.8\" font-family=\"Times,serif\" font-size=\"14.00\" fill=\"#000000\">1</text>\n</g>\n<!-- R109 -->\n<g id=\"node114\" class=\"node\">\n<title>R109</title>\n<ellipse fill=\"none\" stroke=\"#000000\" cx=\"4923\" cy=\"-18\" rx=\"27\" ry=\"18\"/>\n<text text-anchor=\"middle\" x=\"4923\" y=\"-14.3\" font-family=\"Times,serif\" font-size=\"14.00\" fill=\"#000000\">R</text>\n</g>\n<!-- R&#45;Distance107&#45;&gt;R109 -->\n<g id=\"edge113\" class=\"edge\">\n<title>R&#45;Distance107&#45;&gt;R109</title>\n<path fill=\"none\" stroke=\"#000000\" d=\"M4900.0088,-86.9735C4904.0014,-74.9958 4909.3201,-59.0396 4913.8363,-45.4912\"/>\n<polygon fill=\"#000000\" stroke=\"#000000\" points=\"4917.2562,-46.2994 4917.0981,-35.7057 4910.6154,-44.0857 4917.2562,-46.2994\"/>\n<text text-anchor=\"middle\" x=\"4915\" y=\"-57.8\" font-family=\"Times,serif\" font-size=\"14.00\" fill=\"#000000\">5</text>\n</g>\n<!-- L110 -->\n<g id=\"node115\" class=\"node\">\n<title>L110</title>\n<ellipse fill=\"none\" stroke=\"#000000\" cx=\"4995\" cy=\"-18\" rx=\"27\" ry=\"18\"/>\n<text text-anchor=\"middle\" x=\"4995\" y=\"-14.3\" font-family=\"Times,serif\" font-size=\"14.00\" fill=\"#000000\">L</text>\n</g>\n<!-- R&#45;Distance107&#45;&gt;L110 -->\n<g id=\"edge114\" class=\"edge\">\n<title>R&#45;Distance107&#45;&gt;L110</title>\n<path fill=\"none\" stroke=\"#000000\" d=\"M4913.4738,-88.2255C4929.7787,-74.1808 4953.1286,-54.0674 4970.6639,-38.9628\"/>\n<polygon fill=\"#000000\" stroke=\"#000000\" points=\"4972.9728,-41.5934 4978.2653,-32.4151 4968.4043,-36.2897 4972.9728,-41.5934\"/>\n<text text-anchor=\"middle\" x=\"4955\" y=\"-57.8\" font-family=\"Times,serif\" font-size=\"14.00\" fill=\"#000000\">2</text>\n</g>\n<!-- R112 -->\n<g id=\"node117\" class=\"node\">\n<title>R112</title>\n<ellipse fill=\"none\" stroke=\"#000000\" cx=\"5065\" cy=\"-105\" rx=\"27\" ry=\"18\"/>\n<text text-anchor=\"middle\" x=\"5065\" y=\"-101.3\" font-family=\"Times,serif\" font-size=\"14.00\" fill=\"#000000\">R</text>\n</g>\n<!-- R&#45;Distance111&#45;&gt;R112 -->\n<g id=\"edge116\" class=\"edge\">\n<title>R&#45;Distance111&#45;&gt;R112</title>\n<path fill=\"none\" stroke=\"#000000\" d=\"M5300.181,-182.1771C5250.8949,-170.5302 5168.8691,-149.3362 5101,-123 5099.1434,-122.2796 5097.254,-121.4964 5095.3621,-120.6735\"/>\n<polygon fill=\"#000000\" stroke=\"#000000\" points=\"5096.5659,-117.3735 5086.0223,-116.3332 5093.6159,-123.7216 5096.5659,-117.3735\"/>\n<text text-anchor=\"middle\" x=\"5204\" y=\"-144.8\" font-family=\"Times,serif\" font-size=\"14.00\" fill=\"#000000\">3</text>\n</g>\n<!-- L&#45;Weight113 -->\n<g id=\"node118\" class=\"node\">\n<title>L&#45;Weight113</title>\n<ellipse fill=\"none\" stroke=\"#000000\" cx=\"5156\" cy=\"-105\" rx=\"46.2923\" ry=\"18\"/>\n<text text-anchor=\"middle\" x=\"5156\" y=\"-101.3\" font-family=\"Times,serif\" font-size=\"14.00\" fill=\"#000000\">L&#45;Weight</text>\n</g>\n<!-- R&#45;Distance111&#45;&gt;L&#45;Weight113 -->\n<g id=\"edge117\" class=\"edge\">\n<title>R&#45;Distance111&#45;&gt;L&#45;Weight113</title>\n<path fill=\"none\" stroke=\"#000000\" d=\"M5312.533,-177.4382C5280.3339,-162.5375 5230.2191,-139.3461 5195.4013,-123.2336\"/>\n<polygon fill=\"#000000\" stroke=\"#000000\" points=\"5196.5594,-119.913 5186.0141,-118.8895 5193.6195,-126.2657 5196.5594,-119.913\"/>\n<text text-anchor=\"middle\" x=\"5266\" y=\"-144.8\" font-family=\"Times,serif\" font-size=\"14.00\" fill=\"#000000\">2</text>\n</g>\n<!-- L&#45;Weight116 -->\n<g id=\"node121\" class=\"node\">\n<title>L&#45;Weight116</title>\n<ellipse fill=\"none\" stroke=\"#000000\" cx=\"5283\" cy=\"-105\" rx=\"46.2923\" ry=\"18\"/>\n<text text-anchor=\"middle\" x=\"5283\" y=\"-101.3\" font-family=\"Times,serif\" font-size=\"14.00\" fill=\"#000000\">L&#45;Weight</text>\n</g>\n<!-- R&#45;Distance111&#45;&gt;L&#45;Weight116 -->\n<g id=\"edge120\" class=\"edge\">\n<title>R&#45;Distance111&#45;&gt;L&#45;Weight116</title>\n<path fill=\"none\" stroke=\"#000000\" d=\"M5331.6557,-174.3943C5322.8915,-161.8944 5310.9826,-144.9096 5301.1404,-130.8724\"/>\n<polygon fill=\"#000000\" stroke=\"#000000\" points=\"5303.9327,-128.7581 5295.3259,-122.5796 5298.2011,-132.7768 5303.9327,-128.7581\"/>\n<text text-anchor=\"middle\" x=\"5322\" y=\"-144.8\" font-family=\"Times,serif\" font-size=\"14.00\" fill=\"#000000\">1</text>\n</g>\n<!-- R121 -->\n<g id=\"node126\" class=\"node\">\n<title>R121</title>\n<ellipse fill=\"none\" stroke=\"#000000\" cx=\"5374\" cy=\"-105\" rx=\"27\" ry=\"18\"/>\n<text text-anchor=\"middle\" x=\"5374\" y=\"-101.3\" font-family=\"Times,serif\" font-size=\"14.00\" fill=\"#000000\">R</text>\n</g>\n<!-- R&#45;Distance111&#45;&gt;R121 -->\n<g id=\"edge125\" class=\"edge\">\n<title>R&#45;Distance111&#45;&gt;R121</title>\n<path fill=\"none\" stroke=\"#000000\" d=\"M5350.216,-173.9735C5354.3463,-161.9958 5359.8484,-146.0396 5364.5203,-132.4912\"/>\n<polygon fill=\"#000000\" stroke=\"#000000\" points=\"5367.9434,-133.3004 5367.8946,-122.7057 5361.3258,-131.0184 5367.9434,-133.3004\"/>\n<text text-anchor=\"middle\" x=\"5365\" y=\"-144.8\" font-family=\"Times,serif\" font-size=\"14.00\" fill=\"#000000\">5</text>\n</g>\n<!-- R122 -->\n<g id=\"node127\" class=\"node\">\n<title>R122</title>\n<ellipse fill=\"none\" stroke=\"#000000\" cx=\"5446\" cy=\"-105\" rx=\"27\" ry=\"18\"/>\n<text text-anchor=\"middle\" x=\"5446\" y=\"-101.3\" font-family=\"Times,serif\" font-size=\"14.00\" fill=\"#000000\">R</text>\n</g>\n<!-- R&#45;Distance111&#45;&gt;R122 -->\n<g id=\"edge126\" class=\"edge\">\n<title>R&#45;Distance111&#45;&gt;R122</title>\n<path fill=\"none\" stroke=\"#000000\" d=\"M5363.6666,-175.2255C5380.1329,-161.1808 5403.7141,-141.0674 5421.4229,-125.9628\"/>\n<polygon fill=\"#000000\" stroke=\"#000000\" points=\"5423.7625,-128.5675 5429.0996,-119.4151 5419.2199,-123.2417 5423.7625,-128.5675\"/>\n<text text-anchor=\"middle\" x=\"5406\" y=\"-144.8\" font-family=\"Times,serif\" font-size=\"14.00\" fill=\"#000000\">4</text>\n</g>\n<!-- R114 -->\n<g id=\"node119\" class=\"node\">\n<title>R114</title>\n<ellipse fill=\"none\" stroke=\"#000000\" cx=\"5067\" cy=\"-18\" rx=\"27\" ry=\"18\"/>\n<text text-anchor=\"middle\" x=\"5067\" y=\"-14.3\" font-family=\"Times,serif\" font-size=\"14.00\" fill=\"#000000\">R</text>\n</g>\n<!-- L&#45;Weight113&#45;&gt;R114 -->\n<g id=\"edge118\" class=\"edge\">\n<title>L&#45;Weight113&#45;&gt;R114</title>\n<path fill=\"none\" stroke=\"#000000\" d=\"M5138.8399,-88.2255C5124.9032,-74.602 5105.1252,-55.2685 5089.8486,-40.3351\"/>\n<polygon fill=\"#000000\" stroke=\"#000000\" points=\"5091.9226,-37.468 5082.325,-32.9806 5087.0293,-42.4737 5091.9226,-37.468\"/>\n<text text-anchor=\"middle\" x=\"5121\" y=\"-57.8\" font-family=\"Times,serif\" font-size=\"14.00\" fill=\"#000000\">1</text>\n</g>\n<!-- B115 -->\n<g id=\"node120\" class=\"node\">\n<title>B115</title>\n<ellipse fill=\"none\" stroke=\"#000000\" cx=\"5139\" cy=\"-18\" rx=\"27\" ry=\"18\"/>\n<text text-anchor=\"middle\" x=\"5139\" y=\"-14.3\" font-family=\"Times,serif\" font-size=\"14.00\" fill=\"#000000\">B</text>\n</g>\n<!-- L&#45;Weight113&#45;&gt;B115 -->\n<g id=\"edge119\" class=\"edge\">\n<title>L&#45;Weight113&#45;&gt;B115</title>\n<path fill=\"none\" stroke=\"#000000\" d=\"M5152.4776,-86.9735C5150.1754,-75.1918 5147.121,-59.5607 5144.5022,-46.1581\"/>\n<polygon fill=\"#000000\" stroke=\"#000000\" points=\"5147.8708,-45.1465 5142.5179,-36.0034 5141.0007,-46.489 5147.8708,-45.1465\"/>\n<text text-anchor=\"middle\" x=\"5153\" y=\"-57.8\" font-family=\"Times,serif\" font-size=\"14.00\" fill=\"#000000\">4</text>\n</g>\n<!-- L117 -->\n<g id=\"node122\" class=\"node\">\n<title>L117</title>\n<ellipse fill=\"none\" stroke=\"#000000\" cx=\"5211\" cy=\"-18\" rx=\"27\" ry=\"18\"/>\n<text text-anchor=\"middle\" x=\"5211\" y=\"-14.3\" font-family=\"Times,serif\" font-size=\"14.00\" fill=\"#000000\">L</text>\n</g>\n<!-- L&#45;Weight116&#45;&gt;L117 -->\n<g id=\"edge121\" class=\"edge\">\n<title>L&#45;Weight116&#45;&gt;L117</title>\n<path fill=\"none\" stroke=\"#000000\" d=\"M5268.7751,-87.8116C5257.9494,-74.7305 5242.9155,-56.5645 5230.8973,-42.0425\"/>\n<polygon fill=\"#000000\" stroke=\"#000000\" points=\"5233.2963,-39.4518 5224.2242,-33.9793 5227.9036,-43.9148 5233.2963,-39.4518\"/>\n<text text-anchor=\"middle\" x=\"5256\" y=\"-57.8\" font-family=\"Times,serif\" font-size=\"14.00\" fill=\"#000000\">4</text>\n</g>\n<!-- L118 -->\n<g id=\"node123\" class=\"node\">\n<title>L118</title>\n<ellipse fill=\"none\" stroke=\"#000000\" cx=\"5283\" cy=\"-18\" rx=\"27\" ry=\"18\"/>\n<text text-anchor=\"middle\" x=\"5283\" y=\"-14.3\" font-family=\"Times,serif\" font-size=\"14.00\" fill=\"#000000\">L</text>\n</g>\n<!-- L&#45;Weight116&#45;&gt;L118 -->\n<g id=\"edge122\" class=\"edge\">\n<title>L&#45;Weight116&#45;&gt;L118</title>\n<path fill=\"none\" stroke=\"#000000\" d=\"M5283,-86.9735C5283,-75.1918 5283,-59.5607 5283,-46.1581\"/>\n<polygon fill=\"#000000\" stroke=\"#000000\" points=\"5286.5001,-46.0033 5283,-36.0034 5279.5001,-46.0034 5286.5001,-46.0033\"/>\n<text text-anchor=\"middle\" x=\"5287\" y=\"-57.8\" font-family=\"Times,serif\" font-size=\"14.00\" fill=\"#000000\">5</text>\n</g>\n<!-- B119 -->\n<g id=\"node124\" class=\"node\">\n<title>B119</title>\n<ellipse fill=\"none\" stroke=\"#000000\" cx=\"5355\" cy=\"-18\" rx=\"27\" ry=\"18\"/>\n<text text-anchor=\"middle\" x=\"5355\" y=\"-14.3\" font-family=\"Times,serif\" font-size=\"14.00\" fill=\"#000000\">B</text>\n</g>\n<!-- L&#45;Weight116&#45;&gt;B119 -->\n<g id=\"edge123\" class=\"edge\">\n<title>L&#45;Weight116&#45;&gt;B119</title>\n<path fill=\"none\" stroke=\"#000000\" d=\"M5297.2249,-87.8116C5308.0506,-74.7305 5323.0845,-56.5645 5335.1027,-42.0425\"/>\n<polygon fill=\"#000000\" stroke=\"#000000\" points=\"5338.0964,-43.9148 5341.7758,-33.9793 5332.7037,-39.4518 5338.0964,-43.9148\"/>\n<text text-anchor=\"middle\" x=\"5328\" y=\"-57.8\" font-family=\"Times,serif\" font-size=\"14.00\" fill=\"#000000\">2</text>\n</g>\n<!-- L120 -->\n<g id=\"node125\" class=\"node\">\n<title>L120</title>\n<ellipse fill=\"none\" stroke=\"#000000\" cx=\"5427\" cy=\"-18\" rx=\"27\" ry=\"18\"/>\n<text text-anchor=\"middle\" x=\"5427\" y=\"-14.3\" font-family=\"Times,serif\" font-size=\"14.00\" fill=\"#000000\">L</text>\n</g>\n<!-- L&#45;Weight116&#45;&gt;L120 -->\n<g id=\"edge124\" class=\"edge\">\n<title>L&#45;Weight116&#45;&gt;L120</title>\n<path fill=\"none\" stroke=\"#000000\" d=\"M5308.0829,-89.8458C5333.1672,-74.6907 5371.7085,-51.4053 5398.0703,-35.4784\"/>\n<polygon fill=\"#000000\" stroke=\"#000000\" points=\"5400.0955,-38.344 5406.8448,-30.1771 5396.4757,-32.3526 5400.0955,-38.344\"/>\n<text text-anchor=\"middle\" x=\"5368\" y=\"-57.8\" font-family=\"Times,serif\" font-size=\"14.00\" fill=\"#000000\">3</text>\n</g>\n<!-- L124 -->\n<g id=\"node129\" class=\"node\">\n<title>L124</title>\n<ellipse fill=\"none\" stroke=\"#000000\" cx=\"5546\" cy=\"-105\" rx=\"27\" ry=\"18\"/>\n<text text-anchor=\"middle\" x=\"5546\" y=\"-101.3\" font-family=\"Times,serif\" font-size=\"14.00\" fill=\"#000000\">L</text>\n</g>\n<!-- L&#45;Weight123&#45;&gt;L124 -->\n<g id=\"edge128\" class=\"edge\">\n<title>L&#45;Weight123&#45;&gt;L124</title>\n<path fill=\"none\" stroke=\"#000000\" d=\"M5657.6859,-176.4461C5634.2779,-161.4719 5598.8928,-138.8358 5574.2462,-123.0693\"/>\n<polygon fill=\"#000000\" stroke=\"#000000\" points=\"5576.0038,-120.0387 5565.6938,-117.5983 5572.2316,-125.9354 5576.0038,-120.0387\"/>\n<text text-anchor=\"middle\" x=\"5627\" y=\"-144.8\" font-family=\"Times,serif\" font-size=\"14.00\" fill=\"#000000\">5</text>\n</g>\n<!-- R&#45;Distance125 -->\n<g id=\"node130\" class=\"node\">\n<title>R&#45;Distance125</title>\n<ellipse fill=\"none\" stroke=\"#000000\" cx=\"5643\" cy=\"-105\" rx=\"51.9908\" ry=\"18\"/>\n<text text-anchor=\"middle\" x=\"5643\" y=\"-101.3\" font-family=\"Times,serif\" font-size=\"14.00\" fill=\"#000000\">R&#45;Distance</text>\n</g>\n<!-- L&#45;Weight123&#45;&gt;R&#45;Distance125 -->\n<g id=\"edge129\" class=\"edge\">\n<title>L&#45;Weight123&#45;&gt;R&#45;Distance125</title>\n<path fill=\"none\" stroke=\"#000000\" d=\"M5673.9192,-173.9735C5668.5331,-161.9585 5661.3525,-145.9401 5655.2669,-132.3646\"/>\n<polygon fill=\"#000000\" stroke=\"#000000\" points=\"5658.3549,-130.6967 5651.0705,-123.0034 5651.9673,-133.5602 5658.3549,-130.6967\"/>\n<text text-anchor=\"middle\" x=\"5669\" y=\"-144.8\" font-family=\"Times,serif\" font-size=\"14.00\" fill=\"#000000\">2</text>\n</g>\n<!-- R&#45;Distance130 -->\n<g id=\"node135\" class=\"node\">\n<title>R&#45;Distance130</title>\n<ellipse fill=\"none\" stroke=\"#000000\" cx=\"5765\" cy=\"-105\" rx=\"51.9908\" ry=\"18\"/>\n<text text-anchor=\"middle\" x=\"5765\" y=\"-101.3\" font-family=\"Times,serif\" font-size=\"14.00\" fill=\"#000000\">R&#45;Distance</text>\n</g>\n<!-- L&#45;Weight123&#45;&gt;R&#45;Distance130 -->\n<g id=\"edge134\" class=\"edge\">\n<title>L&#45;Weight123&#45;&gt;R&#45;Distance130</title>\n<path fill=\"none\" stroke=\"#000000\" d=\"M5698.3981,-174.8116C5710.6756,-161.9425 5727.6481,-144.152 5741.3865,-129.7515\"/>\n<polygon fill=\"#000000\" stroke=\"#000000\" points=\"5744.2655,-131.8041 5748.6359,-122.1527 5739.2007,-126.9722 5744.2655,-131.8041\"/>\n<text text-anchor=\"middle\" x=\"5733\" y=\"-144.8\" font-family=\"Times,serif\" font-size=\"14.00\" fill=\"#000000\">1</text>\n</g>\n<!-- L135 -->\n<g id=\"node140\" class=\"node\">\n<title>L135</title>\n<ellipse fill=\"none\" stroke=\"#000000\" cx=\"5862\" cy=\"-105\" rx=\"27\" ry=\"18\"/>\n<text text-anchor=\"middle\" x=\"5862\" y=\"-101.3\" font-family=\"Times,serif\" font-size=\"14.00\" fill=\"#000000\">L</text>\n</g>\n<!-- L&#45;Weight123&#45;&gt;L135 -->\n<g id=\"edge139\" class=\"edge\">\n<title>L&#45;Weight123&#45;&gt;L135</title>\n<path fill=\"none\" stroke=\"#000000\" d=\"M5711.5794,-178.0047C5740.7392,-164.166 5786.5359,-142.3193 5826,-123 5827.7416,-122.1474 5829.5286,-121.2682 5831.3308,-120.378\"/>\n<polygon fill=\"#000000\" stroke=\"#000000\" points=\"5832.9278,-123.4929 5840.3272,-115.91 5829.8141,-117.2235 5832.9278,-123.4929\"/>\n<text text-anchor=\"middle\" x=\"5791\" y=\"-144.8\" font-family=\"Times,serif\" font-size=\"14.00\" fill=\"#000000\">4</text>\n</g>\n<!-- L136 -->\n<g id=\"node141\" class=\"node\">\n<title>L136</title>\n<ellipse fill=\"none\" stroke=\"#000000\" cx=\"5934\" cy=\"-105\" rx=\"27\" ry=\"18\"/>\n<text text-anchor=\"middle\" x=\"5934\" y=\"-101.3\" font-family=\"Times,serif\" font-size=\"14.00\" fill=\"#000000\">L</text>\n</g>\n<!-- L&#45;Weight123&#45;&gt;L136 -->\n<g id=\"edge140\" class=\"edge\">\n<title>L&#45;Weight123&#45;&gt;L136</title>\n<path fill=\"none\" stroke=\"#000000\" d=\"M5720.538,-181.7936C5764.2881,-169.7263 5837.4435,-148.0833 5898,-123 5899.7915,-122.2579 5901.6176,-121.4653 5903.4498,-120.6416\"/>\n<polygon fill=\"#000000\" stroke=\"#000000\" points=\"5904.9792,-123.7901 5912.5289,-116.357 5901.9916,-117.4596 5904.9792,-123.7901\"/>\n<text text-anchor=\"middle\" x=\"5850\" y=\"-144.8\" font-family=\"Times,serif\" font-size=\"14.00\" fill=\"#000000\">3</text>\n</g>\n<!-- B126 -->\n<g id=\"node131\" class=\"node\">\n<title>B126</title>\n<ellipse fill=\"none\" stroke=\"#000000\" cx=\"5499\" cy=\"-18\" rx=\"27\" ry=\"18\"/>\n<text text-anchor=\"middle\" x=\"5499\" y=\"-14.3\" font-family=\"Times,serif\" font-size=\"14.00\" fill=\"#000000\">B</text>\n</g>\n<!-- R&#45;Distance125&#45;&gt;B126 -->\n<g id=\"edge130\" class=\"edge\">\n<title>R&#45;Distance125&#45;&gt;B126</title>\n<path fill=\"none\" stroke=\"#000000\" d=\"M5616.9227,-89.245C5591.8375,-74.0893 5553.9883,-51.2221 5527.9738,-35.505\"/>\n<polygon fill=\"#000000\" stroke=\"#000000\" points=\"5529.6751,-32.4437 5519.306,-30.2682 5526.0553,-38.4351 5529.6751,-32.4437\"/>\n<text text-anchor=\"middle\" x=\"5584\" y=\"-57.8\" font-family=\"Times,serif\" font-size=\"14.00\" fill=\"#000000\">4</text>\n</g>\n<!-- L127 -->\n<g id=\"node132\" class=\"node\">\n<title>L127</title>\n<ellipse fill=\"none\" stroke=\"#000000\" cx=\"5571\" cy=\"-18\" rx=\"27\" ry=\"18\"/>\n<text text-anchor=\"middle\" x=\"5571\" y=\"-14.3\" font-family=\"Times,serif\" font-size=\"14.00\" fill=\"#000000\">L</text>\n</g>\n<!-- R&#45;Distance125&#45;&gt;L127 -->\n<g id=\"edge131\" class=\"edge\">\n<title>R&#45;Distance125&#45;&gt;L127</title>\n<path fill=\"none\" stroke=\"#000000\" d=\"M5628.4297,-87.3943C5617.5753,-74.2785 5602.6342,-56.2247 5590.7127,-41.8195\"/>\n<polygon fill=\"#000000\" stroke=\"#000000\" points=\"5593.1682,-39.2969 5584.0961,-33.8244 5587.7754,-43.7599 5593.1682,-39.2969\"/>\n<text text-anchor=\"middle\" x=\"5616\" y=\"-57.8\" font-family=\"Times,serif\" font-size=\"14.00\" fill=\"#000000\">3</text>\n</g>\n<!-- L128 -->\n<g id=\"node133\" class=\"node\">\n<title>L128</title>\n<ellipse fill=\"none\" stroke=\"#000000\" cx=\"5643\" cy=\"-18\" rx=\"27\" ry=\"18\"/>\n<text text-anchor=\"middle\" x=\"5643\" y=\"-14.3\" font-family=\"Times,serif\" font-size=\"14.00\" fill=\"#000000\">L</text>\n</g>\n<!-- R&#45;Distance125&#45;&gt;L128 -->\n<g id=\"edge132\" class=\"edge\">\n<title>R&#45;Distance125&#45;&gt;L128</title>\n<path fill=\"none\" stroke=\"#000000\" d=\"M5643,-86.9735C5643,-75.1918 5643,-59.5607 5643,-46.1581\"/>\n<polygon fill=\"#000000\" stroke=\"#000000\" points=\"5646.5001,-46.0033 5643,-36.0034 5639.5001,-46.0034 5646.5001,-46.0033\"/>\n<text text-anchor=\"middle\" x=\"5647\" y=\"-57.8\" font-family=\"Times,serif\" font-size=\"14.00\" fill=\"#000000\">1</text>\n</g>\n<!-- R129 -->\n<g id=\"node134\" class=\"node\">\n<title>R129</title>\n<ellipse fill=\"none\" stroke=\"#000000\" cx=\"5715\" cy=\"-18\" rx=\"27\" ry=\"18\"/>\n<text text-anchor=\"middle\" x=\"5715\" y=\"-14.3\" font-family=\"Times,serif\" font-size=\"14.00\" fill=\"#000000\">R</text>\n</g>\n<!-- R&#45;Distance125&#45;&gt;R129 -->\n<g id=\"edge133\" class=\"edge\">\n<title>R&#45;Distance125&#45;&gt;R129</title>\n<path fill=\"none\" stroke=\"#000000\" d=\"M5657.5703,-87.3943C5668.4247,-74.2785 5683.3658,-56.2247 5695.2873,-41.8195\"/>\n<polygon fill=\"#000000\" stroke=\"#000000\" points=\"5698.2246,-43.7599 5701.9039,-33.8244 5692.8318,-39.2969 5698.2246,-43.7599\"/>\n<text text-anchor=\"middle\" x=\"5688\" y=\"-57.8\" font-family=\"Times,serif\" font-size=\"14.00\" fill=\"#000000\">5</text>\n</g>\n<!-- R131 -->\n<g id=\"node136\" class=\"node\">\n<title>R131</title>\n<ellipse fill=\"none\" stroke=\"#000000\" cx=\"5787\" cy=\"-18\" rx=\"27\" ry=\"18\"/>\n<text text-anchor=\"middle\" x=\"5787\" y=\"-14.3\" font-family=\"Times,serif\" font-size=\"14.00\" fill=\"#000000\">R</text>\n</g>\n<!-- R&#45;Distance130&#45;&gt;R131 -->\n<g id=\"edge135\" class=\"edge\">\n<title>R&#45;Distance130&#45;&gt;R131</title>\n<path fill=\"none\" stroke=\"#000000\" d=\"M5769.5584,-86.9735C5772.5672,-75.0751 5776.5688,-59.2508 5779.9801,-45.7606\"/>\n<polygon fill=\"#000000\" stroke=\"#000000\" points=\"5783.389,-46.5563 5782.4474,-36.0034 5776.6026,-44.8401 5783.389,-46.5563\"/>\n<text text-anchor=\"middle\" x=\"5782\" y=\"-57.8\" font-family=\"Times,serif\" font-size=\"14.00\" fill=\"#000000\">5</text>\n</g>\n<!-- B132 -->\n<g id=\"node137\" class=\"node\">\n<title>B132</title>\n<ellipse fill=\"none\" stroke=\"#000000\" cx=\"5859\" cy=\"-18\" rx=\"27\" ry=\"18\"/>\n<text text-anchor=\"middle\" x=\"5859\" y=\"-14.3\" font-family=\"Times,serif\" font-size=\"14.00\" fill=\"#000000\">B</text>\n</g>\n<!-- R&#45;Distance130&#45;&gt;B132 -->\n<g id=\"edge136\" class=\"edge\">\n<title>R&#45;Distance130&#45;&gt;B132</title>\n<path fill=\"none\" stroke=\"#000000\" d=\"M5783.5714,-87.8116C5798.4691,-74.0233 5819.4709,-54.5854 5835.5318,-39.7205\"/>\n<polygon fill=\"#000000\" stroke=\"#000000\" points=\"5838.0093,-42.1966 5842.971,-32.8354 5833.2545,-37.0593 5838.0093,-42.1966\"/>\n<text text-anchor=\"middle\" x=\"5822\" y=\"-57.8\" font-family=\"Times,serif\" font-size=\"14.00\" fill=\"#000000\">2</text>\n</g>\n<!-- L133 -->\n<g id=\"node138\" class=\"node\">\n<title>L133</title>\n<ellipse fill=\"none\" stroke=\"#000000\" cx=\"5931\" cy=\"-18\" rx=\"27\" ry=\"18\"/>\n<text text-anchor=\"middle\" x=\"5931\" y=\"-14.3\" font-family=\"Times,serif\" font-size=\"14.00\" fill=\"#000000\">L</text>\n</g>\n<!-- R&#45;Distance130&#45;&gt;L133 -->\n<g id=\"edge137\" class=\"edge\">\n<title>R&#45;Distance130&#45;&gt;L133</title>\n<path fill=\"none\" stroke=\"#000000\" d=\"M5793.915,-89.8458C5823.7155,-74.2274 5869.9919,-49.9741 5900.397,-34.0389\"/>\n<polygon fill=\"#000000\" stroke=\"#000000\" points=\"5902.0552,-37.1215 5909.2877,-29.3793 5898.8057,-30.9214 5902.0552,-37.1215\"/>\n<text text-anchor=\"middle\" x=\"5862\" y=\"-57.8\" font-family=\"Times,serif\" font-size=\"14.00\" fill=\"#000000\">1</text>\n</g>\n<!-- R134 -->\n<g id=\"node139\" class=\"node\">\n<title>R134</title>\n<ellipse fill=\"none\" stroke=\"#000000\" cx=\"6003\" cy=\"-18\" rx=\"27\" ry=\"18\"/>\n<text text-anchor=\"middle\" x=\"6003\" y=\"-14.3\" font-family=\"Times,serif\" font-size=\"14.00\" fill=\"#000000\">R</text>\n</g>\n<!-- R&#45;Distance130&#45;&gt;R134 -->\n<g id=\"edge138\" class=\"edge\">\n<title>R&#45;Distance130&#45;&gt;R134</title>\n<path fill=\"none\" stroke=\"#000000\" d=\"M5804.6857,-93.1813C5845.8474,-80.5213 5911.7908,-59.1083 5967,-36 5968.7887,-35.2513 5970.6127,-34.4534 5972.4432,-33.6258\"/>\n<polygon fill=\"#000000\" stroke=\"#000000\" points=\"5973.9768,-36.7722 5981.5178,-29.3301 5970.9818,-30.4453 5973.9768,-36.7722\"/>\n<text text-anchor=\"middle\" x=\"5922\" y=\"-57.8\" font-family=\"Times,serif\" font-size=\"14.00\" fill=\"#000000\">4</text>\n</g>\n<!-- L138 -->\n<g id=\"node143\" class=\"node\">\n<title>L138</title>\n<ellipse fill=\"none\" stroke=\"#000000\" cx=\"6006\" cy=\"-105\" rx=\"27\" ry=\"18\"/>\n<text text-anchor=\"middle\" x=\"6006\" y=\"-101.3\" font-family=\"Times,serif\" font-size=\"14.00\" fill=\"#000000\">L</text>\n</g>\n<!-- L&#45;Weight137&#45;&gt;L138 -->\n<g id=\"edge142\" class=\"edge\">\n<title>L&#45;Weight137&#45;&gt;L138</title>\n<path fill=\"none\" stroke=\"#000000\" d=\"M6084.2974,-175.2255C6068.874,-161.3922 6046.8866,-141.6715 6030.1365,-126.6482\"/>\n<polygon fill=\"#000000\" stroke=\"#000000\" points=\"6032.1675,-123.7683 6022.3861,-119.6968 6027.4936,-128.9793 6032.1675,-123.7683\"/>\n<text text-anchor=\"middle\" x=\"6065\" y=\"-144.8\" font-family=\"Times,serif\" font-size=\"14.00\" fill=\"#000000\">3</text>\n</g>\n<!-- L139 -->\n<g id=\"node144\" class=\"node\">\n<title>L139</title>\n<ellipse fill=\"none\" stroke=\"#000000\" cx=\"6078\" cy=\"-105\" rx=\"27\" ry=\"18\"/>\n<text text-anchor=\"middle\" x=\"6078\" y=\"-101.3\" font-family=\"Times,serif\" font-size=\"14.00\" fill=\"#000000\">L</text>\n</g>\n<!-- L&#45;Weight137&#45;&gt;L139 -->\n<g id=\"edge143\" class=\"edge\">\n<title>L&#45;Weight137&#45;&gt;L139</title>\n<path fill=\"none\" stroke=\"#000000\" d=\"M6097.82,-173.9735C6094.3781,-161.9958 6089.793,-146.0396 6085.8998,-132.4912\"/>\n<polygon fill=\"#000000\" stroke=\"#000000\" points=\"6089.2136,-131.3501 6083.0878,-122.7057 6082.4858,-133.2834 6089.2136,-131.3501\"/>\n<text text-anchor=\"middle\" x=\"6096\" y=\"-144.8\" font-family=\"Times,serif\" font-size=\"14.00\" fill=\"#000000\">2</text>\n</g>\n<!-- R&#45;Distance140 -->\n<g id=\"node145\" class=\"node\">\n<title>R&#45;Distance140</title>\n<ellipse fill=\"none\" stroke=\"#000000\" cx=\"6175\" cy=\"-105\" rx=\"51.9908\" ry=\"18\"/>\n<text text-anchor=\"middle\" x=\"6175\" y=\"-101.3\" font-family=\"Times,serif\" font-size=\"14.00\" fill=\"#000000\">R&#45;Distance</text>\n</g>\n<!-- L&#45;Weight137&#45;&gt;R&#45;Distance140 -->\n<g id=\"edge144\" class=\"edge\">\n<title>L&#45;Weight137&#45;&gt;R&#45;Distance140</title>\n<path fill=\"none\" stroke=\"#000000\" d=\"M6117.2249,-174.8116C6127.7081,-162.1444 6142.1372,-144.7092 6153.9529,-130.4319\"/>\n<polygon fill=\"#000000\" stroke=\"#000000\" points=\"6156.8789,-132.3859 6160.5582,-122.4505 6151.4861,-127.9229 6156.8789,-132.3859\"/>\n<text text-anchor=\"middle\" x=\"6148\" y=\"-144.8\" font-family=\"Times,serif\" font-size=\"14.00\" fill=\"#000000\">1</text>\n</g>\n<!-- L144 -->\n<g id=\"node149\" class=\"node\">\n<title>L144</title>\n<ellipse fill=\"none\" stroke=\"#000000\" cx=\"6272\" cy=\"-105\" rx=\"27\" ry=\"18\"/>\n<text text-anchor=\"middle\" x=\"6272\" y=\"-101.3\" font-family=\"Times,serif\" font-size=\"14.00\" fill=\"#000000\">L</text>\n</g>\n<!-- L&#45;Weight137&#45;&gt;L144 -->\n<g id=\"edge148\" class=\"edge\">\n<title>L&#45;Weight137&#45;&gt;L144</title>\n<path fill=\"none\" stroke=\"#000000\" d=\"M6130.9069,-177.6337C6161.3234,-161.9755 6209.8457,-136.9966 6241.3144,-120.7967\"/>\n<polygon fill=\"#000000\" stroke=\"#000000\" points=\"6243.2051,-123.76 6250.4942,-116.071 6240.0011,-117.5363 6243.2051,-123.76\"/>\n<text text-anchor=\"middle\" x=\"6202\" y=\"-144.8\" font-family=\"Times,serif\" font-size=\"14.00\" fill=\"#000000\">4</text>\n</g>\n<!-- L145 -->\n<g id=\"node150\" class=\"node\">\n<title>L145</title>\n<ellipse fill=\"none\" stroke=\"#000000\" cx=\"6344\" cy=\"-105\" rx=\"27\" ry=\"18\"/>\n<text text-anchor=\"middle\" x=\"6344\" y=\"-101.3\" font-family=\"Times,serif\" font-size=\"14.00\" fill=\"#000000\">L</text>\n</g>\n<!-- L&#45;Weight137&#45;&gt;L145 -->\n<g id=\"edge149\" class=\"edge\">\n<title>L&#45;Weight137&#45;&gt;L145</title>\n<path fill=\"none\" stroke=\"#000000\" d=\"M6140.2312,-181.1771C6181.7512,-168.7156 6250.6183,-146.8711 6308,-123 6309.7903,-122.2552 6311.6156,-121.4604 6313.447,-120.6351\"/>\n<polygon fill=\"#000000\" stroke=\"#000000\" points=\"6314.9782,-123.7827 6322.5243,-116.3459 6311.9876,-117.4537 6314.9782,-123.7827\"/>\n<text text-anchor=\"middle\" x=\"6263\" y=\"-144.8\" font-family=\"Times,serif\" font-size=\"14.00\" fill=\"#000000\">5</text>\n</g>\n<!-- L141 -->\n<g id=\"node146\" class=\"node\">\n<title>L141</title>\n<ellipse fill=\"none\" stroke=\"#000000\" cx=\"6075\" cy=\"-18\" rx=\"27\" ry=\"18\"/>\n<text text-anchor=\"middle\" x=\"6075\" y=\"-14.3\" font-family=\"Times,serif\" font-size=\"14.00\" fill=\"#000000\">L</text>\n</g>\n<!-- R&#45;Distance140&#45;&gt;L141 -->\n<g id=\"edge145\" class=\"edge\">\n<title>R&#45;Distance140&#45;&gt;L141</title>\n<path fill=\"none\" stroke=\"#000000\" d=\"M6155.719,-88.2255C6139.721,-74.3073 6116.8728,-54.4293 6099.5658,-39.3722\"/>\n<polygon fill=\"#000000\" stroke=\"#000000\" points=\"6101.4108,-36.3382 6091.5691,-32.4151 6096.8162,-41.6193 6101.4108,-36.3382\"/>\n<text text-anchor=\"middle\" x=\"6135\" y=\"-57.8\" font-family=\"Times,serif\" font-size=\"14.00\" fill=\"#000000\">2</text>\n</g>\n<!-- L142 -->\n<g id=\"node147\" class=\"node\">\n<title>L142</title>\n<ellipse fill=\"none\" stroke=\"#000000\" cx=\"6147\" cy=\"-18\" rx=\"27\" ry=\"18\"/>\n<text text-anchor=\"middle\" x=\"6147\" y=\"-14.3\" font-family=\"Times,serif\" font-size=\"14.00\" fill=\"#000000\">L</text>\n</g>\n<!-- R&#45;Distance140&#45;&gt;L142 -->\n<g id=\"edge146\" class=\"edge\">\n<title>R&#45;Distance140&#45;&gt;L142</title>\n<path fill=\"none\" stroke=\"#000000\" d=\"M6169.1984,-86.9735C6165.3435,-74.9958 6160.2081,-59.0396 6155.8477,-45.4912\"/>\n<polygon fill=\"#000000\" stroke=\"#000000\" points=\"6159.0938,-44.1525 6152.6984,-35.7057 6152.4304,-46.2971 6159.0938,-44.1525\"/>\n<text text-anchor=\"middle\" x=\"6167\" y=\"-57.8\" font-family=\"Times,serif\" font-size=\"14.00\" fill=\"#000000\">1</text>\n</g>\n<!-- R143 -->\n<g id=\"node148\" class=\"node\">\n<title>R143</title>\n<ellipse fill=\"none\" stroke=\"#000000\" cx=\"6219\" cy=\"-18\" rx=\"27\" ry=\"18\"/>\n<text text-anchor=\"middle\" x=\"6219\" y=\"-14.3\" font-family=\"Times,serif\" font-size=\"14.00\" fill=\"#000000\">R</text>\n</g>\n<!-- R&#45;Distance140&#45;&gt;R143 -->\n<g id=\"edge147\" class=\"edge\">\n<title>R&#45;Distance140&#45;&gt;R143</title>\n<path fill=\"none\" stroke=\"#000000\" d=\"M6184.1168,-86.9735C6190.3751,-74.5992 6198.781,-57.9785 6205.773,-44.1534\"/>\n<polygon fill=\"#000000\" stroke=\"#000000\" points=\"6208.9541,-45.6187 6210.3439,-35.1154 6202.7075,-42.4595 6208.9541,-45.6187\"/>\n<text text-anchor=\"middle\" x=\"6204\" y=\"-57.8\" font-family=\"Times,serif\" font-size=\"14.00\" fill=\"#000000\">3</text>\n</g>\n<!-- L&#45;Distance147 -->\n<g id=\"node152\" class=\"node\">\n<title>L&#45;Distance147</title>\n<ellipse fill=\"none\" stroke=\"#000000\" cx=\"6834\" cy=\"-192\" rx=\"51.1914\" ry=\"18\"/>\n<text text-anchor=\"middle\" x=\"6834\" y=\"-188.3\" font-family=\"Times,serif\" font-size=\"14.00\" fill=\"#000000\">L&#45;Distance</text>\n</g>\n<!-- R&#45;Distance146&#45;&gt;L&#45;Distance147 -->\n<g id=\"edge151\" class=\"edge\">\n<title>R&#45;Distance146&#45;&gt;L&#45;Distance147</title>\n<path fill=\"none\" stroke=\"#000000\" d=\"M7572.4086,-273.5248C7433.9279,-258.2357 7043.4513,-215.1247 6893.5883,-198.5789\"/>\n<polygon fill=\"#000000\" stroke=\"#000000\" points=\"6893.5445,-195.0529 6883.2208,-197.4343 6892.7762,-202.0106 6893.5445,-195.0529\"/>\n<text text-anchor=\"middle\" x=\"7280\" y=\"-231.8\" font-family=\"Times,serif\" font-size=\"14.00\" fill=\"#000000\">2</text>\n</g>\n<!-- R165 -->\n<g id=\"node170\" class=\"node\">\n<title>R165</title>\n<ellipse fill=\"none\" stroke=\"#000000\" cx=\"7531\" cy=\"-192\" rx=\"27\" ry=\"18\"/>\n<text text-anchor=\"middle\" x=\"7531\" y=\"-188.3\" font-family=\"Times,serif\" font-size=\"14.00\" fill=\"#000000\">R</text>\n</g>\n<!-- R&#45;Distance146&#45;&gt;R165 -->\n<g id=\"edge169\" class=\"edge\">\n<title>R&#45;Distance146&#45;&gt;R165</title>\n<path fill=\"none\" stroke=\"#000000\" d=\"M7604.0213,-261.8116C7589.7301,-248.1486 7569.6367,-228.9384 7554.1444,-214.1271\"/>\n<polygon fill=\"#000000\" stroke=\"#000000\" points=\"7556.1643,-211.216 7546.5175,-206.8354 7551.327,-216.2757 7556.1643,-211.216\"/>\n<text text-anchor=\"middle\" x=\"7586\" y=\"-231.8\" font-family=\"Times,serif\" font-size=\"14.00\" fill=\"#000000\">5</text>\n</g>\n<!-- L&#45;Weight166 -->\n<g id=\"node171\" class=\"node\">\n<title>L&#45;Weight166</title>\n<ellipse fill=\"none\" stroke=\"#000000\" cx=\"7622\" cy=\"-192\" rx=\"46.2923\" ry=\"18\"/>\n<text text-anchor=\"middle\" x=\"7622\" y=\"-188.3\" font-family=\"Times,serif\" font-size=\"14.00\" fill=\"#000000\">L&#45;Weight</text>\n</g>\n<!-- R&#45;Distance146&#45;&gt;L&#45;Weight166 -->\n<g id=\"edge170\" class=\"edge\">\n<title>R&#45;Distance146&#45;&gt;L&#45;Weight166</title>\n<path fill=\"none\" stroke=\"#000000\" d=\"M7622,-260.9735C7622,-249.1918 7622,-233.5607 7622,-220.1581\"/>\n<polygon fill=\"#000000\" stroke=\"#000000\" points=\"7625.5001,-220.0033 7622,-210.0034 7618.5001,-220.0034 7625.5001,-220.0033\"/>\n<text text-anchor=\"middle\" x=\"7626\" y=\"-231.8\" font-family=\"Times,serif\" font-size=\"14.00\" fill=\"#000000\">4</text>\n</g>\n<!-- L&#45;Weight180 -->\n<g id=\"node185\" class=\"node\">\n<title>L&#45;Weight180</title>\n<ellipse fill=\"none\" stroke=\"#000000\" cx=\"7959\" cy=\"-192\" rx=\"46.2923\" ry=\"18\"/>\n<text text-anchor=\"middle\" x=\"7959\" y=\"-188.3\" font-family=\"Times,serif\" font-size=\"14.00\" fill=\"#000000\">L&#45;Weight</text>\n</g>\n<!-- R&#45;Distance146&#45;&gt;L&#45;Weight180 -->\n<g id=\"edge184\" class=\"edge\">\n<title>R&#45;Distance146&#45;&gt;L&#45;Weight180</title>\n<path fill=\"none\" stroke=\"#000000\" d=\"M7663.9999,-268.1573C7726.6835,-251.9749 7844.4087,-221.5829 7910.6122,-204.4918\"/>\n<polygon fill=\"#000000\" stroke=\"#000000\" points=\"7911.5784,-207.8572 7920.3861,-201.9686 7909.8286,-201.0794 7911.5784,-207.8572\"/>\n<text text-anchor=\"middle\" x=\"7815\" y=\"-231.8\" font-family=\"Times,serif\" font-size=\"14.00\" fill=\"#000000\">3</text>\n</g>\n<!-- L&#45;Weight193 -->\n<g id=\"node198\" class=\"node\">\n<title>L&#45;Weight193</title>\n<ellipse fill=\"none\" stroke=\"#000000\" cx=\"8501\" cy=\"-192\" rx=\"46.2923\" ry=\"18\"/>\n<text text-anchor=\"middle\" x=\"8501\" y=\"-188.3\" font-family=\"Times,serif\" font-size=\"14.00\" fill=\"#000000\">L&#45;Weight</text>\n</g>\n<!-- R&#45;Distance146&#45;&gt;L&#45;Weight193 -->\n<g id=\"edge197\" class=\"edge\">\n<title>R&#45;Distance146&#45;&gt;L&#45;Weight193</title>\n<path fill=\"none\" stroke=\"#000000\" d=\"M7672.0962,-274.0417C7825.2487,-258.8832 8286.4845,-213.2319 8446.0054,-197.4432\"/>\n<polygon fill=\"#000000\" stroke=\"#000000\" points=\"8446.4633,-200.915 8456.0699,-196.447 8445.7738,-193.9491 8446.4633,-200.915\"/>\n<text text-anchor=\"middle\" x=\"8119\" y=\"-231.8\" font-family=\"Times,serif\" font-size=\"14.00\" fill=\"#000000\">1</text>\n</g>\n<!-- L&#45;Weight148 -->\n<g id=\"node153\" class=\"node\">\n<title>L&#45;Weight148</title>\n<ellipse fill=\"none\" stroke=\"#000000\" cx=\"6435\" cy=\"-105\" rx=\"46.2923\" ry=\"18\"/>\n<text text-anchor=\"middle\" x=\"6435\" y=\"-101.3\" font-family=\"Times,serif\" font-size=\"14.00\" fill=\"#000000\">L&#45;Weight</text>\n</g>\n<!-- L&#45;Distance147&#45;&gt;L&#45;Weight148 -->\n<g id=\"edge152\" class=\"edge\">\n<title>L&#45;Distance147&#45;&gt;L&#45;Weight148</title>\n<path fill=\"none\" stroke=\"#000000\" d=\"M6790.1587,-182.4406C6715.5682,-166.1765 6564.4031,-133.2157 6485.5055,-116.0125\"/>\n<polygon fill=\"#000000\" stroke=\"#000000\" points=\"6485.8451,-112.5044 6475.329,-113.7935 6484.3538,-119.3437 6485.8451,-112.5044\"/>\n<text text-anchor=\"middle\" x=\"6663\" y=\"-144.8\" font-family=\"Times,serif\" font-size=\"14.00\" fill=\"#000000\">2</text>\n</g>\n<!-- L&#45;Weight153 -->\n<g id=\"node158\" class=\"node\">\n<title>L&#45;Weight153</title>\n<ellipse fill=\"none\" stroke=\"#000000\" cx=\"6696\" cy=\"-105\" rx=\"46.2923\" ry=\"18\"/>\n<text text-anchor=\"middle\" x=\"6696\" y=\"-101.3\" font-family=\"Times,serif\" font-size=\"14.00\" fill=\"#000000\">L&#45;Weight</text>\n</g>\n<!-- L&#45;Distance147&#45;&gt;L&#45;Weight153 -->\n<g id=\"edge157\" class=\"edge\">\n<title>L&#45;Distance147&#45;&gt;L&#45;Weight153</title>\n<path fill=\"none\" stroke=\"#000000\" d=\"M6809.0092,-176.245C6786.5962,-162.115 6753.5504,-141.2818 6728.9765,-125.7895\"/>\n<polygon fill=\"#000000\" stroke=\"#000000\" points=\"6730.6674,-122.7181 6720.3416,-120.3458 6726.9343,-128.6396 6730.6674,-122.7181\"/>\n<text text-anchor=\"middle\" x=\"6778\" y=\"-144.8\" font-family=\"Times,serif\" font-size=\"14.00\" fill=\"#000000\">5</text>\n</g>\n<!-- R157 -->\n<g id=\"node162\" class=\"node\">\n<title>R157</title>\n<ellipse fill=\"none\" stroke=\"#000000\" cx=\"6804\" cy=\"-105\" rx=\"27\" ry=\"18\"/>\n<text text-anchor=\"middle\" x=\"6804\" y=\"-101.3\" font-family=\"Times,serif\" font-size=\"14.00\" fill=\"#000000\">R</text>\n</g>\n<!-- L&#45;Distance147&#45;&gt;R157 -->\n<g id=\"edge161\" class=\"edge\">\n<title>L&#45;Distance147&#45;&gt;R157</title>\n<path fill=\"none\" stroke=\"#000000\" d=\"M6827.784,-173.9735C6823.6537,-161.9958 6818.1516,-146.0396 6813.4797,-132.4912\"/>\n<polygon fill=\"#000000\" stroke=\"#000000\" points=\"6816.6742,-131.0184 6810.1054,-122.7057 6810.0566,-133.3004 6816.6742,-131.0184\"/>\n<text text-anchor=\"middle\" x=\"6825\" y=\"-144.8\" font-family=\"Times,serif\" font-size=\"14.00\" fill=\"#000000\">1</text>\n</g>\n<!-- L&#45;Weight158 -->\n<g id=\"node163\" class=\"node\">\n<title>L&#45;Weight158</title>\n<ellipse fill=\"none\" stroke=\"#000000\" cx=\"6895\" cy=\"-105\" rx=\"46.2923\" ry=\"18\"/>\n<text text-anchor=\"middle\" x=\"6895\" y=\"-101.3\" font-family=\"Times,serif\" font-size=\"14.00\" fill=\"#000000\">L&#45;Weight</text>\n</g>\n<!-- L&#45;Distance147&#45;&gt;L&#45;Weight158 -->\n<g id=\"edge162\" class=\"edge\">\n<title>L&#45;Distance147&#45;&gt;L&#45;Weight158</title>\n<path fill=\"none\" stroke=\"#000000\" d=\"M6846.3443,-174.3943C6855.1085,-161.8944 6867.0174,-144.9096 6876.8596,-130.8724\"/>\n<polygon fill=\"#000000\" stroke=\"#000000\" points=\"6879.7989,-132.7768 6882.6741,-122.5796 6874.0673,-128.7581 6879.7989,-132.7768\"/>\n<text text-anchor=\"middle\" x=\"6873\" y=\"-144.8\" font-family=\"Times,serif\" font-size=\"14.00\" fill=\"#000000\">4</text>\n</g>\n<!-- R164 -->\n<g id=\"node169\" class=\"node\">\n<title>R164</title>\n<ellipse fill=\"none\" stroke=\"#000000\" cx=\"6986\" cy=\"-105\" rx=\"27\" ry=\"18\"/>\n<text text-anchor=\"middle\" x=\"6986\" y=\"-101.3\" font-family=\"Times,serif\" font-size=\"14.00\" fill=\"#000000\">R</text>\n</g>\n<!-- L&#45;Distance147&#45;&gt;R164 -->\n<g id=\"edge168\" class=\"edge\">\n<title>L&#45;Distance147&#45;&gt;R164</title>\n<path fill=\"none\" stroke=\"#000000\" d=\"M6860.8247,-176.6464C6887.6245,-161.307 6928.7214,-137.7845 6956.4449,-121.9164\"/>\n<polygon fill=\"#000000\" stroke=\"#000000\" points=\"6958.3539,-124.8566 6965.2941,-116.8514 6954.8765,-118.7814 6958.3539,-124.8566\"/>\n<text text-anchor=\"middle\" x=\"6924\" y=\"-144.8\" font-family=\"Times,serif\" font-size=\"14.00\" fill=\"#000000\">3</text>\n</g>\n<!-- B149 -->\n<g id=\"node154\" class=\"node\">\n<title>B149</title>\n<ellipse fill=\"none\" stroke=\"#000000\" cx=\"6291\" cy=\"-18\" rx=\"27\" ry=\"18\"/>\n<text text-anchor=\"middle\" x=\"6291\" y=\"-14.3\" font-family=\"Times,serif\" font-size=\"14.00\" fill=\"#000000\">B</text>\n</g>\n<!-- L&#45;Weight148&#45;&gt;B149 -->\n<g id=\"edge153\" class=\"edge\">\n<title>L&#45;Weight148&#45;&gt;B149</title>\n<path fill=\"none\" stroke=\"#000000\" d=\"M6409.9171,-89.8458C6384.8328,-74.6907 6346.2915,-51.4053 6319.9297,-35.4784\"/>\n<polygon fill=\"#000000\" stroke=\"#000000\" points=\"6321.5243,-32.3526 6311.1552,-30.1771 6317.9045,-38.344 6321.5243,-32.3526\"/>\n<text text-anchor=\"middle\" x=\"6376\" y=\"-57.8\" font-family=\"Times,serif\" font-size=\"14.00\" fill=\"#000000\">5</text>\n</g>\n<!-- R150 -->\n<g id=\"node155\" class=\"node\">\n<title>R150</title>\n<ellipse fill=\"none\" stroke=\"#000000\" cx=\"6363\" cy=\"-18\" rx=\"27\" ry=\"18\"/>\n<text text-anchor=\"middle\" x=\"6363\" y=\"-14.3\" font-family=\"Times,serif\" font-size=\"14.00\" fill=\"#000000\">R</text>\n</g>\n<!-- L&#45;Weight148&#45;&gt;R150 -->\n<g id=\"edge154\" class=\"edge\">\n<title>L&#45;Weight148&#45;&gt;R150</title>\n<path fill=\"none\" stroke=\"#000000\" d=\"M6420.7751,-87.8116C6409.9494,-74.7305 6394.9155,-56.5645 6382.8973,-42.0425\"/>\n<polygon fill=\"#000000\" stroke=\"#000000\" points=\"6385.2963,-39.4518 6376.2242,-33.9793 6379.9036,-43.9148 6385.2963,-39.4518\"/>\n<text text-anchor=\"middle\" x=\"6408\" y=\"-57.8\" font-family=\"Times,serif\" font-size=\"14.00\" fill=\"#000000\">3</text>\n</g>\n<!-- R151 -->\n<g id=\"node156\" class=\"node\">\n<title>R151</title>\n<ellipse fill=\"none\" stroke=\"#000000\" cx=\"6435\" cy=\"-18\" rx=\"27\" ry=\"18\"/>\n<text text-anchor=\"middle\" x=\"6435\" y=\"-14.3\" font-family=\"Times,serif\" font-size=\"14.00\" fill=\"#000000\">R</text>\n</g>\n<!-- L&#45;Weight148&#45;&gt;R151 -->\n<g id=\"edge155\" class=\"edge\">\n<title>L&#45;Weight148&#45;&gt;R151</title>\n<path fill=\"none\" stroke=\"#000000\" d=\"M6435,-86.9735C6435,-75.1918 6435,-59.5607 6435,-46.1581\"/>\n<polygon fill=\"#000000\" stroke=\"#000000\" points=\"6438.5001,-46.0033 6435,-36.0034 6431.5001,-46.0034 6438.5001,-46.0033\"/>\n<text text-anchor=\"middle\" x=\"6439\" y=\"-57.8\" font-family=\"Times,serif\" font-size=\"14.00\" fill=\"#000000\">2</text>\n</g>\n<!-- R152 -->\n<g id=\"node157\" class=\"node\">\n<title>R152</title>\n<ellipse fill=\"none\" stroke=\"#000000\" cx=\"6507\" cy=\"-18\" rx=\"27\" ry=\"18\"/>\n<text text-anchor=\"middle\" x=\"6507\" y=\"-14.3\" font-family=\"Times,serif\" font-size=\"14.00\" fill=\"#000000\">R</text>\n</g>\n<!-- L&#45;Weight148&#45;&gt;R152 -->\n<g id=\"edge156\" class=\"edge\">\n<title>L&#45;Weight148&#45;&gt;R152</title>\n<path fill=\"none\" stroke=\"#000000\" d=\"M6449.2249,-87.8116C6460.0506,-74.7305 6475.0845,-56.5645 6487.1027,-42.0425\"/>\n<polygon fill=\"#000000\" stroke=\"#000000\" points=\"6490.0964,-43.9148 6493.7758,-33.9793 6484.7037,-39.4518 6490.0964,-43.9148\"/>\n<text text-anchor=\"middle\" x=\"6480\" y=\"-57.8\" font-family=\"Times,serif\" font-size=\"14.00\" fill=\"#000000\">1</text>\n</g>\n<!-- L154 -->\n<g id=\"node159\" class=\"node\">\n<title>L154</title>\n<ellipse fill=\"none\" stroke=\"#000000\" cx=\"6579\" cy=\"-18\" rx=\"27\" ry=\"18\"/>\n<text text-anchor=\"middle\" x=\"6579\" y=\"-14.3\" font-family=\"Times,serif\" font-size=\"14.00\" fill=\"#000000\">L</text>\n</g>\n<!-- L&#45;Weight153&#45;&gt;L154 -->\n<g id=\"edge158\" class=\"edge\">\n<title>L&#45;Weight153&#45;&gt;L154</title>\n<path fill=\"none\" stroke=\"#000000\" d=\"M6674.5404,-89.0429C6655.0585,-74.5563 6626.266,-53.1465 6605.3846,-37.6193\"/>\n<polygon fill=\"#000000\" stroke=\"#000000\" points=\"6607.3622,-34.7283 6597.2491,-31.5699 6603.1853,-40.3456 6607.3622,-34.7283\"/>\n<text text-anchor=\"middle\" x=\"6649\" y=\"-57.8\" font-family=\"Times,serif\" font-size=\"14.00\" fill=\"#000000\">3</text>\n</g>\n<!-- B155 -->\n<g id=\"node160\" class=\"node\">\n<title>B155</title>\n<ellipse fill=\"none\" stroke=\"#000000\" cx=\"6651\" cy=\"-18\" rx=\"27\" ry=\"18\"/>\n<text text-anchor=\"middle\" x=\"6651\" y=\"-14.3\" font-family=\"Times,serif\" font-size=\"14.00\" fill=\"#000000\">B</text>\n</g>\n<!-- L&#45;Weight153&#45;&gt;B155 -->\n<g id=\"edge159\" class=\"edge\">\n<title>L&#45;Weight153&#45;&gt;B155</title>\n<path fill=\"none\" stroke=\"#000000\" d=\"M6686.676,-86.9735C6680.2754,-74.5992 6671.6785,-57.9785 6664.5276,-44.1534\"/>\n<polygon fill=\"#000000\" stroke=\"#000000\" points=\"6667.5558,-42.3896 6659.8528,-35.1154 6661.3383,-45.6056 6667.5558,-42.3896\"/>\n<text text-anchor=\"middle\" x=\"6681\" y=\"-57.8\" font-family=\"Times,serif\" font-size=\"14.00\" fill=\"#000000\">2</text>\n</g>\n<!-- R156 -->\n<g id=\"node161\" class=\"node\">\n<title>R156</title>\n<ellipse fill=\"none\" stroke=\"#000000\" cx=\"6723\" cy=\"-18\" rx=\"27\" ry=\"18\"/>\n<text text-anchor=\"middle\" x=\"6723\" y=\"-14.3\" font-family=\"Times,serif\" font-size=\"14.00\" fill=\"#000000\">R</text>\n</g>\n<!-- L&#45;Weight153&#45;&gt;R156 -->\n<g id=\"edge160\" class=\"edge\">\n<title>L&#45;Weight153&#45;&gt;R156</title>\n<path fill=\"none\" stroke=\"#000000\" d=\"M6701.5944,-86.9735C6705.3116,-74.9958 6710.2636,-59.0396 6714.4683,-45.4912\"/>\n<polygon fill=\"#000000\" stroke=\"#000000\" points=\"6717.8838,-46.2938 6717.5051,-35.7057 6711.1983,-44.2189 6717.8838,-46.2938\"/>\n<text text-anchor=\"middle\" x=\"6716\" y=\"-57.8\" font-family=\"Times,serif\" font-size=\"14.00\" fill=\"#000000\">1</text>\n</g>\n<!-- R159 -->\n<g id=\"node164\" class=\"node\">\n<title>R159</title>\n<ellipse fill=\"none\" stroke=\"#000000\" cx=\"6795\" cy=\"-18\" rx=\"27\" ry=\"18\"/>\n<text text-anchor=\"middle\" x=\"6795\" y=\"-14.3\" font-family=\"Times,serif\" font-size=\"14.00\" fill=\"#000000\">R</text>\n</g>\n<!-- L&#45;Weight158&#45;&gt;R159 -->\n<g id=\"edge163\" class=\"edge\">\n<title>L&#45;Weight158&#45;&gt;R159</title>\n<path fill=\"none\" stroke=\"#000000\" d=\"M6875.719,-88.2255C6859.721,-74.3073 6836.8728,-54.4293 6819.5658,-39.3722\"/>\n<polygon fill=\"#000000\" stroke=\"#000000\" points=\"6821.4108,-36.3382 6811.5691,-32.4151 6816.8162,-41.6193 6821.4108,-36.3382\"/>\n<text text-anchor=\"middle\" x=\"6855\" y=\"-57.8\" font-family=\"Times,serif\" font-size=\"14.00\" fill=\"#000000\">1</text>\n</g>\n<!-- R160 -->\n<g id=\"node165\" class=\"node\">\n<title>R160</title>\n<ellipse fill=\"none\" stroke=\"#000000\" cx=\"6867\" cy=\"-18\" rx=\"27\" ry=\"18\"/>\n<text text-anchor=\"middle\" x=\"6867\" y=\"-14.3\" font-family=\"Times,serif\" font-size=\"14.00\" fill=\"#000000\">R</text>\n</g>\n<!-- L&#45;Weight158&#45;&gt;R160 -->\n<g id=\"edge164\" class=\"edge\">\n<title>L&#45;Weight158&#45;&gt;R160</title>\n<path fill=\"none\" stroke=\"#000000\" d=\"M6889.1984,-86.9735C6885.3435,-74.9958 6880.2081,-59.0396 6875.8477,-45.4912\"/>\n<polygon fill=\"#000000\" stroke=\"#000000\" points=\"6879.0938,-44.1525 6872.6984,-35.7057 6872.4304,-46.2971 6879.0938,-44.1525\"/>\n<text text-anchor=\"middle\" x=\"6887\" y=\"-57.8\" font-family=\"Times,serif\" font-size=\"14.00\" fill=\"#000000\">2</text>\n</g>\n<!-- L161 -->\n<g id=\"node166\" class=\"node\">\n<title>L161</title>\n<ellipse fill=\"none\" stroke=\"#000000\" cx=\"6939\" cy=\"-18\" rx=\"27\" ry=\"18\"/>\n<text text-anchor=\"middle\" x=\"6939\" y=\"-14.3\" font-family=\"Times,serif\" font-size=\"14.00\" fill=\"#000000\">L</text>\n</g>\n<!-- L&#45;Weight158&#45;&gt;L161 -->\n<g id=\"edge165\" class=\"edge\">\n<title>L&#45;Weight158&#45;&gt;L161</title>\n<path fill=\"none\" stroke=\"#000000\" d=\"M6904.1168,-86.9735C6910.3751,-74.5992 6918.781,-57.9785 6925.773,-44.1534\"/>\n<polygon fill=\"#000000\" stroke=\"#000000\" points=\"6928.9541,-45.6187 6930.3439,-35.1154 6922.7075,-42.4595 6928.9541,-45.6187\"/>\n<text text-anchor=\"middle\" x=\"6924\" y=\"-57.8\" font-family=\"Times,serif\" font-size=\"14.00\" fill=\"#000000\">3</text>\n</g>\n<!-- L162 -->\n<g id=\"node167\" class=\"node\">\n<title>L162</title>\n<ellipse fill=\"none\" stroke=\"#000000\" cx=\"7011\" cy=\"-18\" rx=\"27\" ry=\"18\"/>\n<text text-anchor=\"middle\" x=\"7011\" y=\"-14.3\" font-family=\"Times,serif\" font-size=\"14.00\" fill=\"#000000\">L</text>\n</g>\n<!-- L&#45;Weight158&#45;&gt;L162 -->\n<g id=\"edge166\" class=\"edge\">\n<title>L&#45;Weight158&#45;&gt;L162</title>\n<path fill=\"none\" stroke=\"#000000\" d=\"M6916.5469,-88.8399C6935.8958,-74.3282 6964.3469,-52.9898 6984.9633,-37.5275\"/>\n<polygon fill=\"#000000\" stroke=\"#000000\" points=\"6987.0943,-40.3043 6992.9943,-31.5043 6982.8943,-34.7043 6987.0943,-40.3043\"/>\n<text text-anchor=\"middle\" x=\"6964\" y=\"-57.8\" font-family=\"Times,serif\" font-size=\"14.00\" fill=\"#000000\">5</text>\n</g>\n<!-- L163 -->\n<g id=\"node168\" class=\"node\">\n<title>L163</title>\n<ellipse fill=\"none\" stroke=\"#000000\" cx=\"7083\" cy=\"-18\" rx=\"27\" ry=\"18\"/>\n<text text-anchor=\"middle\" x=\"7083\" y=\"-14.3\" font-family=\"Times,serif\" font-size=\"14.00\" fill=\"#000000\">L</text>\n</g>\n<!-- L&#45;Weight158&#45;&gt;L163 -->\n<g id=\"edge167\" class=\"edge\">\n<title>L&#45;Weight158&#45;&gt;L163</title>\n<path fill=\"none\" stroke=\"#000000\" d=\"M6925.7253,-91.4582C6956.5392,-77.7823 7005.2755,-55.8929 7047,-36 7048.7503,-35.1655 7050.5442,-34.3004 7052.3516,-33.4212\"/>\n<polygon fill=\"#000000\" stroke=\"#000000\" points=\"7053.938,-36.5414 7061.3625,-28.9832 7050.8451,-30.2617 7053.938,-36.5414\"/>\n<text text-anchor=\"middle\" x=\"7010\" y=\"-57.8\" font-family=\"Times,serif\" font-size=\"14.00\" fill=\"#000000\">4</text>\n</g>\n<!-- L&#45;Distance167 -->\n<g id=\"node172\" class=\"node\">\n<title>L&#45;Distance167</title>\n<ellipse fill=\"none\" stroke=\"#000000\" cx=\"7334\" cy=\"-105\" rx=\"51.1914\" ry=\"18\"/>\n<text text-anchor=\"middle\" x=\"7334\" y=\"-101.3\" font-family=\"Times,serif\" font-size=\"14.00\" fill=\"#000000\">L&#45;Distance</text>\n</g>\n<!-- L&#45;Weight166&#45;&gt;L&#45;Distance167 -->\n<g id=\"edge171\" class=\"edge\">\n<title>L&#45;Weight166&#45;&gt;L&#45;Distance167</title>\n<path fill=\"none\" stroke=\"#000000\" d=\"M7586.8387,-180.3283C7580.2566,-178.1902 7573.4266,-176.0028 7567,-174 7504.0155,-154.3717 7431.0385,-132.9769 7383.7784,-119.2978\"/>\n<polygon fill=\"#000000\" stroke=\"#000000\" points=\"7384.6755,-115.9138 7374.0969,-116.4993 7382.7317,-122.6385 7384.6755,-115.9138\"/>\n<text text-anchor=\"middle\" x=\"7508\" y=\"-144.8\" font-family=\"Times,serif\" font-size=\"14.00\" fill=\"#000000\">5</text>\n</g>\n<!-- L&#45;Distance173 -->\n<g id=\"node178\" class=\"node\">\n<title>L&#45;Distance173</title>\n<ellipse fill=\"none\" stroke=\"#000000\" cx=\"7490\" cy=\"-105\" rx=\"51.1914\" ry=\"18\"/>\n<text text-anchor=\"middle\" x=\"7490\" y=\"-101.3\" font-family=\"Times,serif\" font-size=\"14.00\" fill=\"#000000\">L&#45;Distance</text>\n</g>\n<!-- L&#45;Weight166&#45;&gt;L&#45;Distance173 -->\n<g id=\"edge177\" class=\"edge\">\n<title>L&#45;Weight166&#45;&gt;L&#45;Distance173</title>\n<path fill=\"none\" stroke=\"#000000\" d=\"M7598.401,-176.4461C7577.3593,-162.5777 7546.3462,-142.1373 7522.8767,-126.6688\"/>\n<polygon fill=\"#000000\" stroke=\"#000000\" points=\"7524.5634,-123.5886 7514.2877,-121.0078 7520.7112,-129.4333 7524.5634,-123.5886\"/>\n<text text-anchor=\"middle\" x=\"7568\" y=\"-144.8\" font-family=\"Times,serif\" font-size=\"14.00\" fill=\"#000000\">4</text>\n</g>\n<!-- R177 -->\n<g id=\"node182\" class=\"node\">\n<title>R177</title>\n<ellipse fill=\"none\" stroke=\"#000000\" cx=\"7586\" cy=\"-105\" rx=\"27\" ry=\"18\"/>\n<text text-anchor=\"middle\" x=\"7586\" y=\"-101.3\" font-family=\"Times,serif\" font-size=\"14.00\" fill=\"#000000\">R</text>\n</g>\n<!-- L&#45;Weight166&#45;&gt;R177 -->\n<g id=\"edge181\" class=\"edge\">\n<title>L&#45;Weight166&#45;&gt;R177</title>\n<path fill=\"none\" stroke=\"#000000\" d=\"M7614.5408,-173.9735C7609.5027,-161.7983 7602.7637,-145.5122 7597.0991,-131.8228\"/>\n<polygon fill=\"#000000\" stroke=\"#000000\" points=\"7600.2617,-130.3116 7593.204,-122.4097 7593.7935,-132.9881 7600.2617,-130.3116\"/>\n<text text-anchor=\"middle\" x=\"7611\" y=\"-144.8\" font-family=\"Times,serif\" font-size=\"14.00\" fill=\"#000000\">1</text>\n</g>\n<!-- R178 -->\n<g id=\"node183\" class=\"node\">\n<title>R178</title>\n<ellipse fill=\"none\" stroke=\"#000000\" cx=\"7658\" cy=\"-105\" rx=\"27\" ry=\"18\"/>\n<text text-anchor=\"middle\" x=\"7658\" y=\"-101.3\" font-family=\"Times,serif\" font-size=\"14.00\" fill=\"#000000\">R</text>\n</g>\n<!-- L&#45;Weight166&#45;&gt;R178 -->\n<g id=\"edge182\" class=\"edge\">\n<title>L&#45;Weight166&#45;&gt;R178</title>\n<path fill=\"none\" stroke=\"#000000\" d=\"M7629.4592,-173.9735C7634.4973,-161.7983 7641.2363,-145.5122 7646.9009,-131.8228\"/>\n<polygon fill=\"#000000\" stroke=\"#000000\" points=\"7650.2065,-132.9881 7650.796,-122.4097 7643.7383,-130.3116 7650.2065,-132.9881\"/>\n<text text-anchor=\"middle\" x=\"7647\" y=\"-144.8\" font-family=\"Times,serif\" font-size=\"14.00\" fill=\"#000000\">3</text>\n</g>\n<!-- R179 -->\n<g id=\"node184\" class=\"node\">\n<title>R179</title>\n<ellipse fill=\"none\" stroke=\"#000000\" cx=\"7730\" cy=\"-105\" rx=\"27\" ry=\"18\"/>\n<text text-anchor=\"middle\" x=\"7730\" y=\"-101.3\" font-family=\"Times,serif\" font-size=\"14.00\" fill=\"#000000\">R</text>\n</g>\n<!-- L&#45;Weight166&#45;&gt;R179 -->\n<g id=\"edge183\" class=\"edge\">\n<title>L&#45;Weight166&#45;&gt;R179</title>\n<path fill=\"none\" stroke=\"#000000\" d=\"M7642.314,-175.636C7659.9853,-161.4007 7685.67,-140.7103 7704.6773,-125.3989\"/>\n<polygon fill=\"#000000\" stroke=\"#000000\" points=\"7707.0373,-127.9921 7712.6292,-118.9931 7702.646,-122.5408 7707.0373,-127.9921\"/>\n<text text-anchor=\"middle\" x=\"7687\" y=\"-144.8\" font-family=\"Times,serif\" font-size=\"14.00\" fill=\"#000000\">2</text>\n</g>\n<!-- R168 -->\n<g id=\"node173\" class=\"node\">\n<title>R168</title>\n<ellipse fill=\"none\" stroke=\"#000000\" cx=\"7155\" cy=\"-18\" rx=\"27\" ry=\"18\"/>\n<text text-anchor=\"middle\" x=\"7155\" y=\"-14.3\" font-family=\"Times,serif\" font-size=\"14.00\" fill=\"#000000\">R</text>\n</g>\n<!-- L&#45;Distance167&#45;&gt;R168 -->\n<g id=\"edge172\" class=\"edge\">\n<title>L&#45;Distance167&#45;&gt;R168</title>\n<path fill=\"none\" stroke=\"#000000\" d=\"M7303.5332,-90.4521C7274.5413,-76.5723 7229.7203,-55.0205 7191,-36 7189.2596,-35.145 7187.4734,-34.2639 7185.672,-33.3724\"/>\n<polygon fill=\"#000000\" stroke=\"#000000\" points=\"7187.19,-30.2185 7176.6775,-28.9005 7184.0736,-36.4865 7187.19,-30.2185\"/>\n<text text-anchor=\"middle\" x=\"7262\" y=\"-57.8\" font-family=\"Times,serif\" font-size=\"14.00\" fill=\"#000000\">1</text>\n</g>\n<!-- L169 -->\n<g id=\"node174\" class=\"node\">\n<title>L169</title>\n<ellipse fill=\"none\" stroke=\"#000000\" cx=\"7227\" cy=\"-18\" rx=\"27\" ry=\"18\"/>\n<text text-anchor=\"middle\" x=\"7227\" y=\"-14.3\" font-family=\"Times,serif\" font-size=\"14.00\" fill=\"#000000\">L</text>\n</g>\n<!-- L&#45;Distance167&#45;&gt;L169 -->\n<g id=\"edge173\" class=\"edge\">\n<title>L&#45;Distance167&#45;&gt;L169</title>\n<path fill=\"none\" stroke=\"#000000\" d=\"M7313.6223,-88.4312C7296.0865,-74.1731 7270.7235,-53.5509 7251.9707,-38.3033\"/>\n<polygon fill=\"#000000\" stroke=\"#000000\" points=\"7254.0935,-35.5183 7244.1265,-31.9253 7249.6774,-40.9496 7254.0935,-35.5183\"/>\n<text text-anchor=\"middle\" x=\"7291\" y=\"-57.8\" font-family=\"Times,serif\" font-size=\"14.00\" fill=\"#000000\">5</text>\n</g>\n<!-- R170 -->\n<g id=\"node175\" class=\"node\">\n<title>R170</title>\n<ellipse fill=\"none\" stroke=\"#000000\" cx=\"7299\" cy=\"-18\" rx=\"27\" ry=\"18\"/>\n<text text-anchor=\"middle\" x=\"7299\" y=\"-14.3\" font-family=\"Times,serif\" font-size=\"14.00\" fill=\"#000000\">R</text>\n</g>\n<!-- L&#45;Distance167&#45;&gt;R170 -->\n<g id=\"edge174\" class=\"edge\">\n<title>L&#45;Distance167&#45;&gt;R170</title>\n<path fill=\"none\" stroke=\"#000000\" d=\"M7326.748,-86.9735C7321.8499,-74.7983 7315.298,-58.5122 7309.7908,-44.8228\"/>\n<polygon fill=\"#000000\" stroke=\"#000000\" points=\"7312.9833,-43.3808 7306.0039,-35.4097 7306.4892,-45.9934 7312.9833,-43.3808\"/>\n<text text-anchor=\"middle\" x=\"7323\" y=\"-57.8\" font-family=\"Times,serif\" font-size=\"14.00\" fill=\"#000000\">2</text>\n</g>\n<!-- R171 -->\n<g id=\"node176\" class=\"node\">\n<title>R171</title>\n<ellipse fill=\"none\" stroke=\"#000000\" cx=\"7371\" cy=\"-18\" rx=\"27\" ry=\"18\"/>\n<text text-anchor=\"middle\" x=\"7371\" y=\"-14.3\" font-family=\"Times,serif\" font-size=\"14.00\" fill=\"#000000\">R</text>\n</g>\n<!-- L&#45;Distance167&#45;&gt;R171 -->\n<g id=\"edge175\" class=\"edge\">\n<title>L&#45;Distance167&#45;&gt;R171</title>\n<path fill=\"none\" stroke=\"#000000\" d=\"M7341.6664,-86.9735C7346.8444,-74.7983 7353.7707,-58.5122 7359.5926,-44.8228\"/>\n<polygon fill=\"#000000\" stroke=\"#000000\" points=\"7362.903,-45.9819 7363.5959,-35.4097 7356.4613,-43.2423 7362.903,-45.9819\"/>\n<text text-anchor=\"middle\" x=\"7359\" y=\"-57.8\" font-family=\"Times,serif\" font-size=\"14.00\" fill=\"#000000\">3</text>\n</g>\n<!-- B172 -->\n<g id=\"node177\" class=\"node\">\n<title>B172</title>\n<ellipse fill=\"none\" stroke=\"#000000\" cx=\"7443\" cy=\"-18\" rx=\"27\" ry=\"18\"/>\n<text text-anchor=\"middle\" x=\"7443\" y=\"-14.3\" font-family=\"Times,serif\" font-size=\"14.00\" fill=\"#000000\">B</text>\n</g>\n<!-- L&#45;Distance167&#45;&gt;B172 -->\n<g id=\"edge176\" class=\"edge\">\n<title>L&#45;Distance167&#45;&gt;B172</title>\n<path fill=\"none\" stroke=\"#000000\" d=\"M7354.7586,-88.4312C7372.6222,-74.1731 7398.4592,-53.5509 7417.5626,-38.3033\"/>\n<polygon fill=\"#000000\" stroke=\"#000000\" points=\"7419.9211,-40.899 7425.5534,-31.9253 7415.5543,-35.428 7419.9211,-40.899\"/>\n<text text-anchor=\"middle\" x=\"7400\" y=\"-57.8\" font-family=\"Times,serif\" font-size=\"14.00\" fill=\"#000000\">4</text>\n</g>\n<!-- R174 -->\n<g id=\"node179\" class=\"node\">\n<title>R174</title>\n<ellipse fill=\"none\" stroke=\"#000000\" cx=\"7515\" cy=\"-18\" rx=\"27\" ry=\"18\"/>\n<text text-anchor=\"middle\" x=\"7515\" y=\"-14.3\" font-family=\"Times,serif\" font-size=\"14.00\" fill=\"#000000\">R</text>\n</g>\n<!-- L&#45;Distance173&#45;&gt;R174 -->\n<g id=\"edge178\" class=\"edge\">\n<title>L&#45;Distance173&#45;&gt;R174</title>\n<path fill=\"none\" stroke=\"#000000\" d=\"M7495.18,-86.9735C7498.6219,-74.9958 7503.207,-59.0396 7507.1002,-45.4912\"/>\n<polygon fill=\"#000000\" stroke=\"#000000\" points=\"7510.5142,-46.2834 7509.9122,-35.7057 7503.7864,-44.3501 7510.5142,-46.2834\"/>\n<text text-anchor=\"middle\" x=\"7508\" y=\"-57.8\" font-family=\"Times,serif\" font-size=\"14.00\" fill=\"#000000\">2</text>\n</g>\n<!-- B175 -->\n<g id=\"node180\" class=\"node\">\n<title>B175</title>\n<ellipse fill=\"none\" stroke=\"#000000\" cx=\"7587\" cy=\"-18\" rx=\"27\" ry=\"18\"/>\n<text text-anchor=\"middle\" x=\"7587\" y=\"-14.3\" font-family=\"Times,serif\" font-size=\"14.00\" fill=\"#000000\">B</text>\n</g>\n<!-- L&#45;Distance173&#45;&gt;B175 -->\n<g id=\"edge179\" class=\"edge\">\n<title>L&#45;Distance173&#45;&gt;B175</title>\n<path fill=\"none\" stroke=\"#000000\" d=\"M7508.7026,-88.2255C7524.126,-74.3922 7546.1134,-54.6715 7562.8635,-39.6482\"/>\n<polygon fill=\"#000000\" stroke=\"#000000\" points=\"7565.5064,-41.9793 7570.6139,-32.6968 7560.8325,-36.7683 7565.5064,-41.9793\"/>\n<text text-anchor=\"middle\" x=\"7549\" y=\"-57.8\" font-family=\"Times,serif\" font-size=\"14.00\" fill=\"#000000\">5</text>\n</g>\n<!-- R176 -->\n<g id=\"node181\" class=\"node\">\n<title>R176</title>\n<ellipse fill=\"none\" stroke=\"#000000\" cx=\"7659\" cy=\"-18\" rx=\"27\" ry=\"18\"/>\n<text text-anchor=\"middle\" x=\"7659\" y=\"-14.3\" font-family=\"Times,serif\" font-size=\"14.00\" fill=\"#000000\">R</text>\n</g>\n<!-- L&#45;Distance173&#45;&gt;R176 -->\n<g id=\"edge180\" class=\"edge\">\n<title>L&#45;Distance173&#45;&gt;R176</title>\n<path fill=\"none\" stroke=\"#000000\" d=\"M7519.0521,-90.0442C7549.5851,-74.326 7597.411,-49.7056 7628.4835,-33.7097\"/>\n<polygon fill=\"#000000\" stroke=\"#000000\" points=\"7630.2621,-36.7307 7637.5512,-29.0417 7627.0581,-30.5069 7630.2621,-36.7307\"/>\n<text text-anchor=\"middle\" x=\"7589\" y=\"-57.8\" font-family=\"Times,serif\" font-size=\"14.00\" fill=\"#000000\">1</text>\n</g>\n<!-- R181 -->\n<g id=\"node186\" class=\"node\">\n<title>R181</title>\n<ellipse fill=\"none\" stroke=\"#000000\" cx=\"7802\" cy=\"-105\" rx=\"27\" ry=\"18\"/>\n<text text-anchor=\"middle\" x=\"7802\" y=\"-101.3\" font-family=\"Times,serif\" font-size=\"14.00\" fill=\"#000000\">R</text>\n</g>\n<!-- L&#45;Weight180&#45;&gt;R181 -->\n<g id=\"edge185\" class=\"edge\">\n<title>L&#45;Weight180&#45;&gt;R181</title>\n<path fill=\"none\" stroke=\"#000000\" d=\"M7932.3671,-177.2416C7904.5794,-161.8433 7861.097,-137.748 7832.0867,-121.6722\"/>\n<polygon fill=\"#000000\" stroke=\"#000000\" points=\"7833.6578,-118.5414 7823.2145,-116.7558 7830.2649,-124.6642 7833.6578,-118.5414\"/>\n<text text-anchor=\"middle\" x=\"7894\" y=\"-144.8\" font-family=\"Times,serif\" font-size=\"14.00\" fill=\"#000000\">2</text>\n</g>\n<!-- L&#45;Distance182 -->\n<g id=\"node187\" class=\"node\">\n<title>L&#45;Distance182</title>\n<ellipse fill=\"none\" stroke=\"#000000\" cx=\"7898\" cy=\"-105\" rx=\"51.1914\" ry=\"18\"/>\n<text text-anchor=\"middle\" x=\"7898\" y=\"-101.3\" font-family=\"Times,serif\" font-size=\"14.00\" fill=\"#000000\">L&#45;Distance</text>\n</g>\n<!-- L&#45;Weight180&#45;&gt;L&#45;Distance182 -->\n<g id=\"edge186\" class=\"edge\">\n<title>L&#45;Weight180&#45;&gt;L&#45;Distance182</title>\n<path fill=\"none\" stroke=\"#000000\" d=\"M7946.6557,-174.3943C7937.8915,-161.8944 7925.9826,-144.9096 7916.1404,-130.8724\"/>\n<polygon fill=\"#000000\" stroke=\"#000000\" points=\"7918.9327,-128.7581 7910.3259,-122.5796 7913.2011,-132.7768 7918.9327,-128.7581\"/>\n<text text-anchor=\"middle\" x=\"7937\" y=\"-144.8\" font-family=\"Times,serif\" font-size=\"14.00\" fill=\"#000000\">5</text>\n</g>\n<!-- L&#45;Distance186 -->\n<g id=\"node191\" class=\"node\">\n<title>L&#45;Distance186</title>\n<ellipse fill=\"none\" stroke=\"#000000\" cx=\"8019\" cy=\"-105\" rx=\"51.1914\" ry=\"18\"/>\n<text text-anchor=\"middle\" x=\"8019\" y=\"-101.3\" font-family=\"Times,serif\" font-size=\"14.00\" fill=\"#000000\">L&#45;Distance</text>\n</g>\n<!-- L&#45;Weight180&#45;&gt;L&#45;Distance186 -->\n<g id=\"edge190\" class=\"edge\">\n<title>L&#45;Weight180&#45;&gt;L&#45;Distance186</title>\n<path fill=\"none\" stroke=\"#000000\" d=\"M7971.1419,-174.3943C7979.7625,-161.8944 7991.4761,-144.9096 8001.157,-130.8724\"/>\n<polygon fill=\"#000000\" stroke=\"#000000\" points=\"8004.08,-132.7988 8006.8762,-122.5796 7998.3175,-128.8246 8004.08,-132.7988\"/>\n<text text-anchor=\"middle\" x=\"7997\" y=\"-144.8\" font-family=\"Times,serif\" font-size=\"14.00\" fill=\"#000000\">3</text>\n</g>\n<!-- R191 -->\n<g id=\"node196\" class=\"node\">\n<title>R191</title>\n<ellipse fill=\"none\" stroke=\"#000000\" cx=\"8115\" cy=\"-105\" rx=\"27\" ry=\"18\"/>\n<text text-anchor=\"middle\" x=\"8115\" y=\"-101.3\" font-family=\"Times,serif\" font-size=\"14.00\" fill=\"#000000\">R</text>\n</g>\n<!-- L&#45;Weight180&#45;&gt;R191 -->\n<g id=\"edge195\" class=\"edge\">\n<title>L&#45;Weight180&#45;&gt;R191</title>\n<path fill=\"none\" stroke=\"#000000\" d=\"M7985.4633,-177.2416C8013.074,-161.8433 8056.2794,-137.748 8085.105,-121.6722\"/>\n<polygon fill=\"#000000\" stroke=\"#000000\" points=\"8086.8917,-124.6833 8093.9206,-116.7558 8083.4822,-118.5698 8086.8917,-124.6833\"/>\n<text text-anchor=\"middle\" x=\"8051\" y=\"-144.8\" font-family=\"Times,serif\" font-size=\"14.00\" fill=\"#000000\">1</text>\n</g>\n<!-- R192 -->\n<g id=\"node197\" class=\"node\">\n<title>R192</title>\n<ellipse fill=\"none\" stroke=\"#000000\" cx=\"8187\" cy=\"-105\" rx=\"27\" ry=\"18\"/>\n<text text-anchor=\"middle\" x=\"8187\" y=\"-101.3\" font-family=\"Times,serif\" font-size=\"14.00\" fill=\"#000000\">R</text>\n</g>\n<!-- L&#45;Weight180&#45;&gt;R192 -->\n<g id=\"edge196\" class=\"edge\">\n<title>L&#45;Weight180&#45;&gt;R192</title>\n<path fill=\"none\" stroke=\"#000000\" d=\"M7994.8758,-180.5251C8033.8177,-167.7428 8097.5943,-145.8523 8151,-123 8152.7827,-122.2372 8154.602,-121.4282 8156.4289,-120.5921\"/>\n<polygon fill=\"#000000\" stroke=\"#000000\" points=\"8157.9715,-123.7341 8165.4936,-116.2729 8154.9604,-117.4148 8157.9715,-123.7341\"/>\n<text text-anchor=\"middle\" x=\"8109\" y=\"-144.8\" font-family=\"Times,serif\" font-size=\"14.00\" fill=\"#000000\">4</text>\n</g>\n<!-- L183 -->\n<g id=\"node188\" class=\"node\">\n<title>L183</title>\n<ellipse fill=\"none\" stroke=\"#000000\" cx=\"7731\" cy=\"-18\" rx=\"27\" ry=\"18\"/>\n<text text-anchor=\"middle\" x=\"7731\" y=\"-14.3\" font-family=\"Times,serif\" font-size=\"14.00\" fill=\"#000000\">L</text>\n</g>\n<!-- L&#45;Distance182&#45;&gt;L183 -->\n<g id=\"edge187\" class=\"edge\">\n<title>L&#45;Distance182&#45;&gt;L183</title>\n<path fill=\"none\" stroke=\"#000000\" d=\"M7869.2917,-90.0442C7839.2045,-74.37 7792.1247,-49.8434 7761.4137,-33.8443\"/>\n<polygon fill=\"#000000\" stroke=\"#000000\" points=\"7762.931,-30.6883 7752.4452,-29.172 7759.6968,-36.8964 7762.931,-30.6883\"/>\n<text text-anchor=\"middle\" x=\"7829\" y=\"-57.8\" font-family=\"Times,serif\" font-size=\"14.00\" fill=\"#000000\">5</text>\n</g>\n<!-- B184 -->\n<g id=\"node189\" class=\"node\">\n<title>B184</title>\n<ellipse fill=\"none\" stroke=\"#000000\" cx=\"7803\" cy=\"-18\" rx=\"27\" ry=\"18\"/>\n<text text-anchor=\"middle\" x=\"7803\" y=\"-14.3\" font-family=\"Times,serif\" font-size=\"14.00\" fill=\"#000000\">B</text>\n</g>\n<!-- L&#45;Distance182&#45;&gt;B184 -->\n<g id=\"edge188\" class=\"edge\">\n<title>L&#45;Distance182&#45;&gt;B184</title>\n<path fill=\"none\" stroke=\"#000000\" d=\"M7879.2311,-87.8116C7864.0819,-73.9381 7842.6873,-54.3452 7826.4178,-39.4458\"/>\n<polygon fill=\"#000000\" stroke=\"#000000\" points=\"7828.6311,-36.7268 7818.8925,-32.5542 7823.9035,-41.8891 7828.6311,-36.7268\"/>\n<text text-anchor=\"middle\" x=\"7861\" y=\"-57.8\" font-family=\"Times,serif\" font-size=\"14.00\" fill=\"#000000\">3</text>\n</g>\n<!-- L185 -->\n<g id=\"node190\" class=\"node\">\n<title>L185</title>\n<ellipse fill=\"none\" stroke=\"#000000\" cx=\"7875\" cy=\"-18\" rx=\"27\" ry=\"18\"/>\n<text text-anchor=\"middle\" x=\"7875\" y=\"-14.3\" font-family=\"Times,serif\" font-size=\"14.00\" fill=\"#000000\">L</text>\n</g>\n<!-- L&#45;Distance182&#45;&gt;L185 -->\n<g id=\"edge189\" class=\"edge\">\n<title>L&#45;Distance182&#45;&gt;L185</title>\n<path fill=\"none\" stroke=\"#000000\" d=\"M7893.2344,-86.9735C7890.0888,-75.0751 7885.9054,-59.2508 7882.339,-45.7606\"/>\n<polygon fill=\"#000000\" stroke=\"#000000\" points=\"7885.6992,-44.7766 7879.7595,-36.0034 7878.9317,-46.5658 7885.6992,-44.7766\"/>\n<text text-anchor=\"middle\" x=\"7892\" y=\"-57.8\" font-family=\"Times,serif\" font-size=\"14.00\" fill=\"#000000\">4</text>\n</g>\n<!-- B187 -->\n<g id=\"node192\" class=\"node\">\n<title>B187</title>\n<ellipse fill=\"none\" stroke=\"#000000\" cx=\"7947\" cy=\"-18\" rx=\"27\" ry=\"18\"/>\n<text text-anchor=\"middle\" x=\"7947\" y=\"-14.3\" font-family=\"Times,serif\" font-size=\"14.00\" fill=\"#000000\">B</text>\n</g>\n<!-- L&#45;Distance186&#45;&gt;B187 -->\n<g id=\"edge191\" class=\"edge\">\n<title>L&#45;Distance186&#45;&gt;B187</title>\n<path fill=\"none\" stroke=\"#000000\" d=\"M8004.4297,-87.3943C7993.5753,-74.2785 7978.6342,-56.2247 7966.7127,-41.8195\"/>\n<polygon fill=\"#000000\" stroke=\"#000000\" points=\"7969.1682,-39.2969 7960.0961,-33.8244 7963.7754,-43.7599 7969.1682,-39.2969\"/>\n<text text-anchor=\"middle\" x=\"7992\" y=\"-57.8\" font-family=\"Times,serif\" font-size=\"14.00\" fill=\"#000000\">5</text>\n</g>\n<!-- R188 -->\n<g id=\"node193\" class=\"node\">\n<title>R188</title>\n<ellipse fill=\"none\" stroke=\"#000000\" cx=\"8019\" cy=\"-18\" rx=\"27\" ry=\"18\"/>\n<text text-anchor=\"middle\" x=\"8019\" y=\"-14.3\" font-family=\"Times,serif\" font-size=\"14.00\" fill=\"#000000\">R</text>\n</g>\n<!-- L&#45;Distance186&#45;&gt;R188 -->\n<g id=\"edge192\" class=\"edge\">\n<title>L&#45;Distance186&#45;&gt;R188</title>\n<path fill=\"none\" stroke=\"#000000\" d=\"M8019,-86.9735C8019,-75.1918 8019,-59.5607 8019,-46.1581\"/>\n<polygon fill=\"#000000\" stroke=\"#000000\" points=\"8022.5001,-46.0033 8019,-36.0034 8015.5001,-46.0034 8022.5001,-46.0033\"/>\n<text text-anchor=\"middle\" x=\"8023\" y=\"-57.8\" font-family=\"Times,serif\" font-size=\"14.00\" fill=\"#000000\">2</text>\n</g>\n<!-- R189 -->\n<g id=\"node194\" class=\"node\">\n<title>R189</title>\n<ellipse fill=\"none\" stroke=\"#000000\" cx=\"8091\" cy=\"-18\" rx=\"27\" ry=\"18\"/>\n<text text-anchor=\"middle\" x=\"8091\" y=\"-14.3\" font-family=\"Times,serif\" font-size=\"14.00\" fill=\"#000000\">R</text>\n</g>\n<!-- L&#45;Distance186&#45;&gt;R189 -->\n<g id=\"edge193\" class=\"edge\">\n<title>L&#45;Distance186&#45;&gt;R189</title>\n<path fill=\"none\" stroke=\"#000000\" d=\"M8033.5703,-87.3943C8044.4247,-74.2785 8059.3658,-56.2247 8071.2873,-41.8195\"/>\n<polygon fill=\"#000000\" stroke=\"#000000\" points=\"8074.2246,-43.7599 8077.9039,-33.8244 8068.8318,-39.2969 8074.2246,-43.7599\"/>\n<text text-anchor=\"middle\" x=\"8064\" y=\"-57.8\" font-family=\"Times,serif\" font-size=\"14.00\" fill=\"#000000\">1</text>\n</g>\n<!-- R190 -->\n<g id=\"node195\" class=\"node\">\n<title>R190</title>\n<ellipse fill=\"none\" stroke=\"#000000\" cx=\"8163\" cy=\"-18\" rx=\"27\" ry=\"18\"/>\n<text text-anchor=\"middle\" x=\"8163\" y=\"-14.3\" font-family=\"Times,serif\" font-size=\"14.00\" fill=\"#000000\">R</text>\n</g>\n<!-- L&#45;Distance186&#45;&gt;R190 -->\n<g id=\"edge194\" class=\"edge\">\n<title>L&#45;Distance186&#45;&gt;R190</title>\n<path fill=\"none\" stroke=\"#000000\" d=\"M8045.0773,-89.245C8070.1625,-74.0893 8108.0117,-51.2221 8134.0262,-35.505\"/>\n<polygon fill=\"#000000\" stroke=\"#000000\" points=\"8135.9447,-38.4351 8142.694,-30.2682 8132.3249,-32.4437 8135.9447,-38.4351\"/>\n<text text-anchor=\"middle\" x=\"8104\" y=\"-57.8\" font-family=\"Times,serif\" font-size=\"14.00\" fill=\"#000000\">4</text>\n</g>\n<!-- L&#45;Distance194 -->\n<g id=\"node199\" class=\"node\">\n<title>L&#45;Distance194</title>\n<ellipse fill=\"none\" stroke=\"#000000\" cx=\"8343\" cy=\"-105\" rx=\"51.1914\" ry=\"18\"/>\n<text text-anchor=\"middle\" x=\"8343\" y=\"-101.3\" font-family=\"Times,serif\" font-size=\"14.00\" fill=\"#000000\">L&#45;Distance</text>\n</g>\n<!-- L&#45;Weight193&#45;&gt;L&#45;Distance194 -->\n<g id=\"edge198\" class=\"edge\">\n<title>L&#45;Weight193&#45;&gt;L&#45;Distance194</title>\n<path fill=\"none\" stroke=\"#000000\" d=\"M8474.1975,-177.2416C8448.2189,-162.937 8408.6095,-141.1268 8379.7084,-125.2128\"/>\n<polygon fill=\"#000000\" stroke=\"#000000\" points=\"8381.1801,-122.0277 8370.732,-120.2702 8377.8036,-128.1596 8381.1801,-122.0277\"/>\n<text text-anchor=\"middle\" x=\"8436\" y=\"-144.8\" font-family=\"Times,serif\" font-size=\"14.00\" fill=\"#000000\">3</text>\n</g>\n<!-- L198 -->\n<g id=\"node203\" class=\"node\">\n<title>L198</title>\n<ellipse fill=\"none\" stroke=\"#000000\" cx=\"8469\" cy=\"-105\" rx=\"27\" ry=\"18\"/>\n<text text-anchor=\"middle\" x=\"8469\" y=\"-101.3\" font-family=\"Times,serif\" font-size=\"14.00\" fill=\"#000000\">L</text>\n</g>\n<!-- L&#45;Weight193&#45;&gt;L198 -->\n<g id=\"edge202\" class=\"edge\">\n<title>L&#45;Weight193&#45;&gt;L198</title>\n<path fill=\"none\" stroke=\"#000000\" d=\"M8494.3696,-173.9735C8489.9208,-161.8784 8483.9798,-145.7263 8478.9654,-132.0934\"/>\n<polygon fill=\"#000000\" stroke=\"#000000\" points=\"8482.2494,-130.8827 8475.5124,-122.7057 8475.6797,-133.2992 8482.2494,-130.8827\"/>\n<text text-anchor=\"middle\" x=\"8491\" y=\"-144.8\" font-family=\"Times,serif\" font-size=\"14.00\" fill=\"#000000\">4</text>\n</g>\n<!-- L&#45;Distance199 -->\n<g id=\"node204\" class=\"node\">\n<title>L&#45;Distance199</title>\n<ellipse fill=\"none\" stroke=\"#000000\" cx=\"8565\" cy=\"-105\" rx=\"51.1914\" ry=\"18\"/>\n<text text-anchor=\"middle\" x=\"8565\" y=\"-101.3\" font-family=\"Times,serif\" font-size=\"14.00\" fill=\"#000000\">L&#45;Distance</text>\n</g>\n<!-- L&#45;Weight193&#45;&gt;L&#45;Distance199 -->\n<g id=\"edge203\" class=\"edge\">\n<title>L&#45;Weight193&#45;&gt;L&#45;Distance199</title>\n<path fill=\"none\" stroke=\"#000000\" d=\"M8513.9514,-174.3943C8523.1466,-161.8944 8535.6412,-144.9096 8545.9675,-130.8724\"/>\n<polygon fill=\"#000000\" stroke=\"#000000\" points=\"8548.9615,-132.7088 8552.0679,-122.5796 8543.3229,-128.5608 8548.9615,-132.7088\"/>\n<text text-anchor=\"middle\" x=\"8541\" y=\"-144.8\" font-family=\"Times,serif\" font-size=\"14.00\" fill=\"#000000\">2</text>\n</g>\n<!-- L&#45;Distance204 -->\n<g id=\"node209\" class=\"node\">\n<title>L&#45;Distance204</title>\n<ellipse fill=\"none\" stroke=\"#000000\" cx=\"8811\" cy=\"-105\" rx=\"51.1914\" ry=\"18\"/>\n<text text-anchor=\"middle\" x=\"8811\" y=\"-101.3\" font-family=\"Times,serif\" font-size=\"14.00\" fill=\"#000000\">L&#45;Distance</text>\n</g>\n<!-- L&#45;Weight193&#45;&gt;L&#45;Distance204 -->\n<g id=\"edge208\" class=\"edge\">\n<title>L&#45;Weight193&#45;&gt;L&#45;Distance204</title>\n<path fill=\"none\" stroke=\"#000000\" d=\"M8538.7022,-181.4191C8594.3393,-165.8048 8698.5345,-136.5629 8760.6521,-119.1299\"/>\n<polygon fill=\"#000000\" stroke=\"#000000\" points=\"8761.9372,-122.4045 8770.6195,-116.3326 8760.0457,-115.6649 8761.9372,-122.4045\"/>\n<text text-anchor=\"middle\" x=\"8679\" y=\"-144.8\" font-family=\"Times,serif\" font-size=\"14.00\" fill=\"#000000\">5</text>\n</g>\n<!-- L&#45;Distance209 -->\n<g id=\"node214\" class=\"node\">\n<title>L&#45;Distance209</title>\n<ellipse fill=\"none\" stroke=\"#000000\" cx=\"9135\" cy=\"-105\" rx=\"51.1914\" ry=\"18\"/>\n<text text-anchor=\"middle\" x=\"9135\" y=\"-101.3\" font-family=\"Times,serif\" font-size=\"14.00\" fill=\"#000000\">L&#45;Distance</text>\n</g>\n<!-- L&#45;Weight193&#45;&gt;L&#45;Distance209 -->\n<g id=\"edge213\" class=\"edge\">\n<title>L&#45;Weight193&#45;&gt;L&#45;Distance209</title>\n<path fill=\"none\" stroke=\"#000000\" d=\"M8544.5774,-186.0201C8655.8717,-170.7479 8950.6596,-130.2959 9076.6084,-113.0127\"/>\n<polygon fill=\"#000000\" stroke=\"#000000\" points=\"9077.3912,-116.4382 9086.8225,-111.6111 9076.4395,-109.5032 9077.3912,-116.4382\"/>\n<text text-anchor=\"middle\" x=\"8860\" y=\"-144.8\" font-family=\"Times,serif\" font-size=\"14.00\" fill=\"#000000\">1</text>\n</g>\n<!-- R195 -->\n<g id=\"node200\" class=\"node\">\n<title>R195</title>\n<ellipse fill=\"none\" stroke=\"#000000\" cx=\"8235\" cy=\"-18\" rx=\"27\" ry=\"18\"/>\n<text text-anchor=\"middle\" x=\"8235\" y=\"-14.3\" font-family=\"Times,serif\" font-size=\"14.00\" fill=\"#000000\">R</text>\n</g>\n<!-- L&#45;Distance194&#45;&gt;R195 -->\n<g id=\"edge199\" class=\"edge\">\n<title>L&#45;Distance194&#45;&gt;R195</title>\n<path fill=\"none\" stroke=\"#000000\" d=\"M8322.4318,-88.4312C8304.7321,-74.1731 8279.1322,-53.5509 8260.2041,-38.3033\"/>\n<polygon fill=\"#000000\" stroke=\"#000000\" points=\"8262.2698,-35.473 8252.2866,-31.9253 8257.8784,-40.9243 8262.2698,-35.473\"/>\n<text text-anchor=\"middle\" x=\"8300\" y=\"-57.8\" font-family=\"Times,serif\" font-size=\"14.00\" fill=\"#000000\">1</text>\n</g>\n<!-- L196 -->\n<g id=\"node201\" class=\"node\">\n<title>L196</title>\n<ellipse fill=\"none\" stroke=\"#000000\" cx=\"8307\" cy=\"-18\" rx=\"27\" ry=\"18\"/>\n<text text-anchor=\"middle\" x=\"8307\" y=\"-14.3\" font-family=\"Times,serif\" font-size=\"14.00\" fill=\"#000000\">L</text>\n</g>\n<!-- L&#45;Distance194&#45;&gt;L196 -->\n<g id=\"edge200\" class=\"edge\">\n<title>L&#45;Distance194&#45;&gt;L196</title>\n<path fill=\"none\" stroke=\"#000000\" d=\"M8335.5408,-86.9735C8330.5027,-74.7983 8323.7637,-58.5122 8318.0991,-44.8228\"/>\n<polygon fill=\"#000000\" stroke=\"#000000\" points=\"8321.2617,-43.3116 8314.204,-35.4097 8314.7935,-45.9881 8321.2617,-43.3116\"/>\n<text text-anchor=\"middle\" x=\"8332\" y=\"-57.8\" font-family=\"Times,serif\" font-size=\"14.00\" fill=\"#000000\">5</text>\n</g>\n<!-- L197 -->\n<g id=\"node202\" class=\"node\">\n<title>L197</title>\n<ellipse fill=\"none\" stroke=\"#000000\" cx=\"8379\" cy=\"-18\" rx=\"27\" ry=\"18\"/>\n<text text-anchor=\"middle\" x=\"8379\" y=\"-14.3\" font-family=\"Times,serif\" font-size=\"14.00\" fill=\"#000000\">L</text>\n</g>\n<!-- L&#45;Distance194&#45;&gt;L197 -->\n<g id=\"edge201\" class=\"edge\">\n<title>L&#45;Distance194&#45;&gt;L197</title>\n<path fill=\"none\" stroke=\"#000000\" d=\"M8350.4592,-86.9735C8355.4973,-74.7983 8362.2363,-58.5122 8367.9009,-44.8228\"/>\n<polygon fill=\"#000000\" stroke=\"#000000\" points=\"8371.2065,-45.9881 8371.796,-35.4097 8364.7383,-43.3116 8371.2065,-45.9881\"/>\n<text text-anchor=\"middle\" x=\"8368\" y=\"-57.8\" font-family=\"Times,serif\" font-size=\"14.00\" fill=\"#000000\">3</text>\n</g>\n<!-- L200 -->\n<g id=\"node205\" class=\"node\">\n<title>L200</title>\n<ellipse fill=\"none\" stroke=\"#000000\" cx=\"8451\" cy=\"-18\" rx=\"27\" ry=\"18\"/>\n<text text-anchor=\"middle\" x=\"8451\" y=\"-14.3\" font-family=\"Times,serif\" font-size=\"14.00\" fill=\"#000000\">L</text>\n</g>\n<!-- L&#45;Distance199&#45;&gt;L200 -->\n<g id=\"edge204\" class=\"edge\">\n<title>L&#45;Distance199&#45;&gt;L200</title>\n<path fill=\"none\" stroke=\"#000000\" d=\"M8543.5575,-88.636C8524.7079,-74.2508 8497.2206,-53.2736 8477.0978,-37.9167\"/>\n<polygon fill=\"#000000\" stroke=\"#000000\" points=\"8479.0442,-34.9994 8468.9713,-31.7149 8474.7974,-40.564 8479.0442,-34.9994\"/>\n<text text-anchor=\"middle\" x=\"8519\" y=\"-57.8\" font-family=\"Times,serif\" font-size=\"14.00\" fill=\"#000000\">4</text>\n</g>\n<!-- L201 -->\n<g id=\"node206\" class=\"node\">\n<title>L201</title>\n<ellipse fill=\"none\" stroke=\"#000000\" cx=\"8523\" cy=\"-18\" rx=\"27\" ry=\"18\"/>\n<text text-anchor=\"middle\" x=\"8523\" y=\"-14.3\" font-family=\"Times,serif\" font-size=\"14.00\" fill=\"#000000\">L</text>\n</g>\n<!-- L&#45;Distance199&#45;&gt;L201 -->\n<g id=\"edge205\" class=\"edge\">\n<title>L&#45;Distance199&#45;&gt;L201</title>\n<path fill=\"none\" stroke=\"#000000\" d=\"M8556.2976,-86.9735C8550.3628,-74.6801 8542.4048,-58.1956 8535.7568,-44.4249\"/>\n<polygon fill=\"#000000\" stroke=\"#000000\" points=\"8538.9042,-42.8936 8531.4047,-35.4097 8532.6003,-45.9369 8538.9042,-42.8936\"/>\n<text text-anchor=\"middle\" x=\"8551\" y=\"-57.8\" font-family=\"Times,serif\" font-size=\"14.00\" fill=\"#000000\">3</text>\n</g>\n<!-- R202 -->\n<g id=\"node207\" class=\"node\">\n<title>R202</title>\n<ellipse fill=\"none\" stroke=\"#000000\" cx=\"8595\" cy=\"-18\" rx=\"27\" ry=\"18\"/>\n<text text-anchor=\"middle\" x=\"8595\" y=\"-14.3\" font-family=\"Times,serif\" font-size=\"14.00\" fill=\"#000000\">R</text>\n</g>\n<!-- L&#45;Distance199&#45;&gt;R202 -->\n<g id=\"edge206\" class=\"edge\">\n<title>L&#45;Distance199&#45;&gt;R202</title>\n<path fill=\"none\" stroke=\"#000000\" d=\"M8571.216,-86.9735C8575.3463,-74.9958 8580.8484,-59.0396 8585.5203,-45.4912\"/>\n<polygon fill=\"#000000\" stroke=\"#000000\" points=\"8588.9434,-46.3004 8588.8946,-35.7057 8582.3258,-44.0184 8588.9434,-46.3004\"/>\n<text text-anchor=\"middle\" x=\"8586\" y=\"-57.8\" font-family=\"Times,serif\" font-size=\"14.00\" fill=\"#000000\">1</text>\n</g>\n<!-- L203 -->\n<g id=\"node208\" class=\"node\">\n<title>L203</title>\n<ellipse fill=\"none\" stroke=\"#000000\" cx=\"8667\" cy=\"-18\" rx=\"27\" ry=\"18\"/>\n<text text-anchor=\"middle\" x=\"8667\" y=\"-14.3\" font-family=\"Times,serif\" font-size=\"14.00\" fill=\"#000000\">L</text>\n</g>\n<!-- L&#45;Distance199&#45;&gt;L203 -->\n<g id=\"edge207\" class=\"edge\">\n<title>L&#45;Distance199&#45;&gt;L203</title>\n<path fill=\"none\" stroke=\"#000000\" d=\"M8584.6666,-88.2255C8601.1329,-74.1808 8624.7141,-54.0674 8642.4229,-38.9628\"/>\n<polygon fill=\"#000000\" stroke=\"#000000\" points=\"8644.7625,-41.5675 8650.0996,-32.4151 8640.2199,-36.2417 8644.7625,-41.5675\"/>\n<text text-anchor=\"middle\" x=\"8627\" y=\"-57.8\" font-family=\"Times,serif\" font-size=\"14.00\" fill=\"#000000\">5</text>\n</g>\n<!-- L205 -->\n<g id=\"node210\" class=\"node\">\n<title>L205</title>\n<ellipse fill=\"none\" stroke=\"#000000\" cx=\"8739\" cy=\"-18\" rx=\"27\" ry=\"18\"/>\n<text text-anchor=\"middle\" x=\"8739\" y=\"-14.3\" font-family=\"Times,serif\" font-size=\"14.00\" fill=\"#000000\">L</text>\n</g>\n<!-- L&#45;Distance204&#45;&gt;L205 -->\n<g id=\"edge209\" class=\"edge\">\n<title>L&#45;Distance204&#45;&gt;L205</title>\n<path fill=\"none\" stroke=\"#000000\" d=\"M8796.4297,-87.3943C8785.5753,-74.2785 8770.6342,-56.2247 8758.7127,-41.8195\"/>\n<polygon fill=\"#000000\" stroke=\"#000000\" points=\"8761.1682,-39.2969 8752.0961,-33.8244 8755.7754,-43.7599 8761.1682,-39.2969\"/>\n<text text-anchor=\"middle\" x=\"8784\" y=\"-57.8\" font-family=\"Times,serif\" font-size=\"14.00\" fill=\"#000000\">4</text>\n</g>\n<!-- L206 -->\n<g id=\"node211\" class=\"node\">\n<title>L206</title>\n<ellipse fill=\"none\" stroke=\"#000000\" cx=\"8811\" cy=\"-18\" rx=\"27\" ry=\"18\"/>\n<text text-anchor=\"middle\" x=\"8811\" y=\"-14.3\" font-family=\"Times,serif\" font-size=\"14.00\" fill=\"#000000\">L</text>\n</g>\n<!-- L&#45;Distance204&#45;&gt;L206 -->\n<g id=\"edge210\" class=\"edge\">\n<title>L&#45;Distance204&#45;&gt;L206</title>\n<path fill=\"none\" stroke=\"#000000\" d=\"M8811,-86.9735C8811,-75.1918 8811,-59.5607 8811,-46.1581\"/>\n<polygon fill=\"#000000\" stroke=\"#000000\" points=\"8814.5001,-46.0033 8811,-36.0034 8807.5001,-46.0034 8814.5001,-46.0033\"/>\n<text text-anchor=\"middle\" x=\"8815\" y=\"-57.8\" font-family=\"Times,serif\" font-size=\"14.00\" fill=\"#000000\">5</text>\n</g>\n<!-- B207 -->\n<g id=\"node212\" class=\"node\">\n<title>B207</title>\n<ellipse fill=\"none\" stroke=\"#000000\" cx=\"8883\" cy=\"-18\" rx=\"27\" ry=\"18\"/>\n<text text-anchor=\"middle\" x=\"8883\" y=\"-14.3\" font-family=\"Times,serif\" font-size=\"14.00\" fill=\"#000000\">B</text>\n</g>\n<!-- L&#45;Distance204&#45;&gt;B207 -->\n<g id=\"edge211\" class=\"edge\">\n<title>L&#45;Distance204&#45;&gt;B207</title>\n<path fill=\"none\" stroke=\"#000000\" d=\"M8825.5703,-87.3943C8836.4247,-74.2785 8851.3658,-56.2247 8863.2873,-41.8195\"/>\n<polygon fill=\"#000000\" stroke=\"#000000\" points=\"8866.2246,-43.7599 8869.9039,-33.8244 8860.8318,-39.2969 8866.2246,-43.7599\"/>\n<text text-anchor=\"middle\" x=\"8856\" y=\"-57.8\" font-family=\"Times,serif\" font-size=\"14.00\" fill=\"#000000\">1</text>\n</g>\n<!-- L208 -->\n<g id=\"node213\" class=\"node\">\n<title>L208</title>\n<ellipse fill=\"none\" stroke=\"#000000\" cx=\"8955\" cy=\"-18\" rx=\"27\" ry=\"18\"/>\n<text text-anchor=\"middle\" x=\"8955\" y=\"-14.3\" font-family=\"Times,serif\" font-size=\"14.00\" fill=\"#000000\">L</text>\n</g>\n<!-- L&#45;Distance204&#45;&gt;L208 -->\n<g id=\"edge212\" class=\"edge\">\n<title>L&#45;Distance204&#45;&gt;L208</title>\n<path fill=\"none\" stroke=\"#000000\" d=\"M8837.0773,-89.245C8862.1625,-74.0893 8900.0117,-51.2221 8926.0262,-35.505\"/>\n<polygon fill=\"#000000\" stroke=\"#000000\" points=\"8927.9447,-38.4351 8934.694,-30.2682 8924.3249,-32.4437 8927.9447,-38.4351\"/>\n<text text-anchor=\"middle\" x=\"8896\" y=\"-57.8\" font-family=\"Times,serif\" font-size=\"14.00\" fill=\"#000000\">2</text>\n</g>\n<!-- B210 -->\n<g id=\"node215\" class=\"node\">\n<title>B210</title>\n<ellipse fill=\"none\" stroke=\"#000000\" cx=\"9027\" cy=\"-18\" rx=\"27\" ry=\"18\"/>\n<text text-anchor=\"middle\" x=\"9027\" y=\"-14.3\" font-family=\"Times,serif\" font-size=\"14.00\" fill=\"#000000\">B</text>\n</g>\n<!-- L&#45;Distance209&#45;&gt;B210 -->\n<g id=\"edge214\" class=\"edge\">\n<title>L&#45;Distance209&#45;&gt;B210</title>\n<path fill=\"none\" stroke=\"#000000\" d=\"M9114.4318,-88.4312C9096.7321,-74.1731 9071.1322,-53.5509 9052.2041,-38.3033\"/>\n<polygon fill=\"#000000\" stroke=\"#000000\" points=\"9054.2698,-35.473 9044.2866,-31.9253 9049.8784,-40.9243 9054.2698,-35.473\"/>\n<text text-anchor=\"middle\" x=\"9092\" y=\"-57.8\" font-family=\"Times,serif\" font-size=\"14.00\" fill=\"#000000\">5</text>\n</g>\n<!-- R211 -->\n<g id=\"node216\" class=\"node\">\n<title>R211</title>\n<ellipse fill=\"none\" stroke=\"#000000\" cx=\"9099\" cy=\"-18\" rx=\"27\" ry=\"18\"/>\n<text text-anchor=\"middle\" x=\"9099\" y=\"-14.3\" font-family=\"Times,serif\" font-size=\"14.00\" fill=\"#000000\">R</text>\n</g>\n<!-- L&#45;Distance209&#45;&gt;R211 -->\n<g id=\"edge215\" class=\"edge\">\n<title>L&#45;Distance209&#45;&gt;R211</title>\n<path fill=\"none\" stroke=\"#000000\" d=\"M9127.5408,-86.9735C9122.5027,-74.7983 9115.7637,-58.5122 9110.0991,-44.8228\"/>\n<polygon fill=\"#000000\" stroke=\"#000000\" points=\"9113.2617,-43.3116 9106.204,-35.4097 9106.7935,-45.9881 9113.2617,-43.3116\"/>\n<text text-anchor=\"middle\" x=\"9124\" y=\"-57.8\" font-family=\"Times,serif\" font-size=\"14.00\" fill=\"#000000\">4</text>\n</g>\n<!-- R212 -->\n<g id=\"node217\" class=\"node\">\n<title>R212</title>\n<ellipse fill=\"none\" stroke=\"#000000\" cx=\"9171\" cy=\"-18\" rx=\"27\" ry=\"18\"/>\n<text text-anchor=\"middle\" x=\"9171\" y=\"-14.3\" font-family=\"Times,serif\" font-size=\"14.00\" fill=\"#000000\">R</text>\n</g>\n<!-- L&#45;Distance209&#45;&gt;R212 -->\n<g id=\"edge216\" class=\"edge\">\n<title>L&#45;Distance209&#45;&gt;R212</title>\n<path fill=\"none\" stroke=\"#000000\" d=\"M9142.4592,-86.9735C9147.4973,-74.7983 9154.2363,-58.5122 9159.9009,-44.8228\"/>\n<polygon fill=\"#000000\" stroke=\"#000000\" points=\"9163.2065,-45.9881 9163.796,-35.4097 9156.7383,-43.3116 9163.2065,-45.9881\"/>\n<text text-anchor=\"middle\" x=\"9160\" y=\"-57.8\" font-family=\"Times,serif\" font-size=\"14.00\" fill=\"#000000\">3</text>\n</g>\n<!-- R213 -->\n<g id=\"node218\" class=\"node\">\n<title>R213</title>\n<ellipse fill=\"none\" stroke=\"#000000\" cx=\"9243\" cy=\"-18\" rx=\"27\" ry=\"18\"/>\n<text text-anchor=\"middle\" x=\"9243\" y=\"-14.3\" font-family=\"Times,serif\" font-size=\"14.00\" fill=\"#000000\">R</text>\n</g>\n<!-- L&#45;Distance209&#45;&gt;R213 -->\n<g id=\"edge217\" class=\"edge\">\n<title>L&#45;Distance209&#45;&gt;R213</title>\n<path fill=\"none\" stroke=\"#000000\" d=\"M9155.5682,-88.4312C9173.2679,-74.1731 9198.8678,-53.5509 9217.7959,-38.3033\"/>\n<polygon fill=\"#000000\" stroke=\"#000000\" points=\"9220.1216,-40.9243 9225.7134,-31.9253 9215.7302,-35.473 9220.1216,-40.9243\"/>\n<text text-anchor=\"middle\" x=\"9200\" y=\"-57.8\" font-family=\"Times,serif\" font-size=\"14.00\" fill=\"#000000\">1</text>\n</g>\n<!-- R214 -->\n<g id=\"node219\" class=\"node\">\n<title>R214</title>\n<ellipse fill=\"none\" stroke=\"#000000\" cx=\"9315\" cy=\"-18\" rx=\"27\" ry=\"18\"/>\n<text text-anchor=\"middle\" x=\"9315\" y=\"-14.3\" font-family=\"Times,serif\" font-size=\"14.00\" fill=\"#000000\">R</text>\n</g>\n<!-- L&#45;Distance209&#45;&gt;R214 -->\n<g id=\"edge218\" class=\"edge\">\n<title>L&#45;Distance209&#45;&gt;R214</title>\n<path fill=\"none\" stroke=\"#000000\" d=\"M9165.6912,-90.477C9194.894,-76.615 9240.0339,-55.0755 9279,-36 9280.7416,-35.1474 9282.5286,-34.2682 9284.3308,-33.378\"/>\n<polygon fill=\"#000000\" stroke=\"#000000\" points=\"9285.9278,-36.4929 9293.3272,-28.91 9282.8141,-30.2235 9285.9278,-36.4929\"/>\n<text text-anchor=\"middle\" x=\"9244\" y=\"-57.8\" font-family=\"Times,serif\" font-size=\"14.00\" fill=\"#000000\">2</text>\n</g>\n<!-- R&#45;Distance216 -->\n<g id=\"node221\" class=\"node\">\n<title>R&#45;Distance216</title>\n<ellipse fill=\"none\" stroke=\"#000000\" cx=\"9971\" cy=\"-192\" rx=\"51.9908\" ry=\"18\"/>\n<text text-anchor=\"middle\" x=\"9971\" y=\"-188.3\" font-family=\"Times,serif\" font-size=\"14.00\" fill=\"#000000\">R&#45;Distance</text>\n</g>\n<!-- L&#45;Weight215&#45;&gt;R&#45;Distance216 -->\n<g id=\"edge220\" class=\"edge\">\n<title>L&#45;Weight215&#45;&gt;R&#45;Distance216</title>\n<path fill=\"none\" stroke=\"#000000\" d=\"M10581.0737,-273.1566C10466.6079,-257.9295 10159.0932,-217.0216 10029.6757,-199.8055\"/>\n<polygon fill=\"#000000\" stroke=\"#000000\" points=\"10029.9348,-196.3092 10019.5606,-198.4599 10029.0117,-203.2481 10029.9348,-196.3092\"/>\n<text text-anchor=\"middle\" x=\"10342\" y=\"-231.8\" font-family=\"Times,serif\" font-size=\"14.00\" fill=\"#000000\">1</text>\n</g>\n<!-- R&#45;Distance237 -->\n<g id=\"node242\" class=\"node\">\n<title>R&#45;Distance237</title>\n<ellipse fill=\"none\" stroke=\"#000000\" cx=\"10478\" cy=\"-192\" rx=\"51.9908\" ry=\"18\"/>\n<text text-anchor=\"middle\" x=\"10478\" y=\"-188.3\" font-family=\"Times,serif\" font-size=\"14.00\" fill=\"#000000\">R&#45;Distance</text>\n</g>\n<!-- L&#45;Weight215&#45;&gt;R&#45;Distance237 -->\n<g id=\"edge241\" class=\"edge\">\n<title>L&#45;Weight215&#45;&gt;R&#45;Distance237</title>\n<path fill=\"none\" stroke=\"#000000\" d=\"M10599.3946,-263.8458C10575.4495,-249.6742 10539.4924,-228.3935 10512.9219,-212.6681\"/>\n<polygon fill=\"#000000\" stroke=\"#000000\" points=\"10514.6903,-209.6476 10504.3019,-207.5664 10511.125,-215.6717 10514.6903,-209.6476\"/>\n<text text-anchor=\"middle\" x=\"10565\" y=\"-231.8\" font-family=\"Times,serif\" font-size=\"14.00\" fill=\"#000000\">4</text>\n</g>\n<!-- L&#45;Distance247 -->\n<g id=\"node252\" class=\"node\">\n<title>L&#45;Distance247</title>\n<ellipse fill=\"none\" stroke=\"#000000\" cx=\"10880\" cy=\"-192\" rx=\"51.1914\" ry=\"18\"/>\n<text text-anchor=\"middle\" x=\"10880\" y=\"-188.3\" font-family=\"Times,serif\" font-size=\"14.00\" fill=\"#000000\">L&#45;Distance</text>\n</g>\n<!-- L&#45;Weight215&#45;&gt;L&#45;Distance247 -->\n<g id=\"edge251\" class=\"edge\">\n<title>L&#45;Weight215&#45;&gt;L&#45;Distance247</title>\n<path fill=\"none\" stroke=\"#000000\" d=\"M10659.922,-267.0854C10704.9348,-251.7281 10783.3482,-224.9753 10833.4075,-207.8963\"/>\n<polygon fill=\"#000000\" stroke=\"#000000\" points=\"10834.6889,-211.1573 10843.023,-204.6157 10832.4285,-204.5322 10834.6889,-211.1573\"/>\n<text text-anchor=\"middle\" x=\"10772\" y=\"-231.8\" font-family=\"Times,serif\" font-size=\"14.00\" fill=\"#000000\">3</text>\n</g>\n<!-- L&#45;Distance257 -->\n<g id=\"node262\" class=\"node\">\n<title>L&#45;Distance257</title>\n<ellipse fill=\"none\" stroke=\"#000000\" cx=\"11232\" cy=\"-192\" rx=\"51.1914\" ry=\"18\"/>\n<text text-anchor=\"middle\" x=\"11232\" y=\"-188.3\" font-family=\"Times,serif\" font-size=\"14.00\" fill=\"#000000\">L&#45;Distance</text>\n</g>\n<!-- L&#45;Weight215&#45;&gt;L&#45;Distance257 -->\n<g id=\"edge261\" class=\"edge\">\n<title>L&#45;Weight215&#45;&gt;L&#45;Distance257</title>\n<path fill=\"none\" stroke=\"#000000\" d=\"M10668.6539,-272.7432C10776.0255,-257.3538 11053.0074,-217.6546 11174.0019,-200.3127\"/>\n<polygon fill=\"#000000\" stroke=\"#000000\" points=\"11174.7735,-203.738 11184.1758,-198.8545 11173.7803,-196.8088 11174.7735,-203.738\"/>\n<text text-anchor=\"middle\" x=\"10969\" y=\"-231.8\" font-family=\"Times,serif\" font-size=\"14.00\" fill=\"#000000\">2</text>\n</g>\n<!-- R&#45;Distance268 -->\n<g id=\"node273\" class=\"node\">\n<title>R&#45;Distance268</title>\n<ellipse fill=\"none\" stroke=\"#000000\" cx=\"11694\" cy=\"-192\" rx=\"51.9908\" ry=\"18\"/>\n<text text-anchor=\"middle\" x=\"11694\" y=\"-188.3\" font-family=\"Times,serif\" font-size=\"14.00\" fill=\"#000000\">R&#45;Distance</text>\n</g>\n<!-- L&#45;Weight215&#45;&gt;R&#45;Distance268 -->\n<g id=\"edge272\" class=\"edge\">\n<title>L&#45;Weight215&#45;&gt;R&#45;Distance268</title>\n<path fill=\"none\" stroke=\"#000000\" d=\"M10670.2508,-275.3173C10840.0805,-261.4958 11439.6328,-212.7015 11633.2331,-196.9455\"/>\n<polygon fill=\"#000000\" stroke=\"#000000\" points=\"11633.5473,-200.4316 11643.2305,-196.1319 11632.9795,-193.4546 11633.5473,-200.4316\"/>\n<text text-anchor=\"middle\" x=\"11228\" y=\"-231.8\" font-family=\"Times,serif\" font-size=\"14.00\" fill=\"#000000\">5</text>\n</g>\n<!-- L&#45;Distance217 -->\n<g id=\"node222\" class=\"node\">\n<title>L&#45;Distance217</title>\n<ellipse fill=\"none\" stroke=\"#000000\" cx=\"9531\" cy=\"-105\" rx=\"51.1914\" ry=\"18\"/>\n<text text-anchor=\"middle\" x=\"9531\" y=\"-101.3\" font-family=\"Times,serif\" font-size=\"14.00\" fill=\"#000000\">L&#45;Distance</text>\n</g>\n<!-- R&#45;Distance216&#45;&gt;L&#45;Distance217 -->\n<g id=\"edge221\" class=\"edge\">\n<title>R&#45;Distance216&#45;&gt;L&#45;Distance217</title>\n<path fill=\"none\" stroke=\"#000000\" d=\"M9925.5695,-183.0172C9844.1495,-166.9182 9673.6981,-133.2153 9585.8863,-115.8525\"/>\n<polygon fill=\"#000000\" stroke=\"#000000\" points=\"9586.3442,-112.3754 9575.8552,-113.8691 9584.9863,-119.2424 9586.3442,-112.3754\"/>\n<text text-anchor=\"middle\" x=\"9782\" y=\"-144.8\" font-family=\"Times,serif\" font-size=\"14.00\" fill=\"#000000\">2</text>\n</g>\n<!-- L&#45;Distance222 -->\n<g id=\"node227\" class=\"node\">\n<title>L&#45;Distance222</title>\n<ellipse fill=\"none\" stroke=\"#000000\" cx=\"9819\" cy=\"-105\" rx=\"51.1914\" ry=\"18\"/>\n<text text-anchor=\"middle\" x=\"9819\" y=\"-101.3\" font-family=\"Times,serif\" font-size=\"14.00\" fill=\"#000000\">L&#45;Distance</text>\n</g>\n<!-- R&#45;Distance216&#45;&gt;L&#45;Distance222 -->\n<g id=\"edge226\" class=\"edge\">\n<title>R&#45;Distance216&#45;&gt;L&#45;Distance222</title>\n<path fill=\"none\" stroke=\"#000000\" d=\"M9943.8254,-176.4461C9918.9684,-162.2188 9882.0273,-141.0748 9854.7775,-125.4779\"/>\n<polygon fill=\"#000000\" stroke=\"#000000\" points=\"9856.3569,-122.3492 9845.9393,-120.4192 9852.8796,-128.4244 9856.3569,-122.3492\"/>\n<text text-anchor=\"middle\" x=\"9909\" y=\"-144.8\" font-family=\"Times,serif\" font-size=\"14.00\" fill=\"#000000\">3</text>\n</g>\n<!-- L227 -->\n<g id=\"node232\" class=\"node\">\n<title>L227</title>\n<ellipse fill=\"none\" stroke=\"#000000\" cx=\"9939\" cy=\"-105\" rx=\"27\" ry=\"18\"/>\n<text text-anchor=\"middle\" x=\"9939\" y=\"-101.3\" font-family=\"Times,serif\" font-size=\"14.00\" fill=\"#000000\">L</text>\n</g>\n<!-- R&#45;Distance216&#45;&gt;L227 -->\n<g id=\"edge231\" class=\"edge\">\n<title>R&#45;Distance216&#45;&gt;L227</title>\n<path fill=\"none\" stroke=\"#000000\" d=\"M9964.3696,-173.9735C9959.9208,-161.8784 9953.9798,-145.7263 9948.9654,-132.0934\"/>\n<polygon fill=\"#000000\" stroke=\"#000000\" points=\"9952.2494,-130.8827 9945.5124,-122.7057 9945.6797,-133.2992 9952.2494,-130.8827\"/>\n<text text-anchor=\"middle\" x=\"9961\" y=\"-144.8\" font-family=\"Times,serif\" font-size=\"14.00\" fill=\"#000000\">1</text>\n</g>\n<!-- L&#45;Distance228 -->\n<g id=\"node233\" class=\"node\">\n<title>L&#45;Distance228</title>\n<ellipse fill=\"none\" stroke=\"#000000\" cx=\"10035\" cy=\"-105\" rx=\"51.1914\" ry=\"18\"/>\n<text text-anchor=\"middle\" x=\"10035\" y=\"-101.3\" font-family=\"Times,serif\" font-size=\"14.00\" fill=\"#000000\">L&#45;Distance</text>\n</g>\n<!-- R&#45;Distance216&#45;&gt;L&#45;Distance228 -->\n<g id=\"edge232\" class=\"edge\">\n<title>R&#45;Distance216&#45;&gt;L&#45;Distance228</title>\n<path fill=\"none\" stroke=\"#000000\" d=\"M9983.9514,-174.3943C9993.1466,-161.8944 10005.6412,-144.9096 10015.9675,-130.8724\"/>\n<polygon fill=\"#000000\" stroke=\"#000000\" points=\"10018.9615,-132.7088 10022.0679,-122.5796 10013.3229,-128.5608 10018.9615,-132.7088\"/>\n<text text-anchor=\"middle\" x=\"10011\" y=\"-144.8\" font-family=\"Times,serif\" font-size=\"14.00\" fill=\"#000000\">5</text>\n</g>\n<!-- L&#45;Distance232 -->\n<g id=\"node237\" class=\"node\">\n<title>L&#45;Distance232</title>\n<ellipse fill=\"none\" stroke=\"#000000\" cx=\"10214\" cy=\"-105\" rx=\"51.1914\" ry=\"18\"/>\n<text text-anchor=\"middle\" x=\"10214\" y=\"-101.3\" font-family=\"Times,serif\" font-size=\"14.00\" fill=\"#000000\">L&#45;Distance</text>\n</g>\n<!-- R&#45;Distance216&#45;&gt;L&#45;Distance232 -->\n<g id=\"edge236\" class=\"edge\">\n<title>R&#45;Distance216&#45;&gt;L&#45;Distance232</title>\n<path fill=\"none\" stroke=\"#000000\" d=\"M10007.3796,-178.9752C10050.2715,-163.6188 10121.6051,-138.0797 10168.217,-121.3914\"/>\n<polygon fill=\"#000000\" stroke=\"#000000\" points=\"10169.5341,-124.6375 10177.7692,-117.9715 10167.1746,-118.0472 10169.5341,-124.6375\"/>\n<text text-anchor=\"middle\" x=\"10112\" y=\"-144.8\" font-family=\"Times,serif\" font-size=\"14.00\" fill=\"#000000\">4</text>\n</g>\n<!-- B218 -->\n<g id=\"node223\" class=\"node\">\n<title>B218</title>\n<ellipse fill=\"none\" stroke=\"#000000\" cx=\"9387\" cy=\"-18\" rx=\"27\" ry=\"18\"/>\n<text text-anchor=\"middle\" x=\"9387\" y=\"-14.3\" font-family=\"Times,serif\" font-size=\"14.00\" fill=\"#000000\">B</text>\n</g>\n<!-- L&#45;Distance217&#45;&gt;B218 -->\n<g id=\"edge222\" class=\"edge\">\n<title>L&#45;Distance217&#45;&gt;B218</title>\n<path fill=\"none\" stroke=\"#000000\" d=\"M9504.9227,-89.245C9479.8375,-74.0893 9441.9883,-51.2221 9415.9738,-35.505\"/>\n<polygon fill=\"#000000\" stroke=\"#000000\" points=\"9417.6751,-32.4437 9407.306,-30.2682 9414.0553,-38.4351 9417.6751,-32.4437\"/>\n<text text-anchor=\"middle\" x=\"9472\" y=\"-57.8\" font-family=\"Times,serif\" font-size=\"14.00\" fill=\"#000000\">2</text>\n</g>\n<!-- L219 -->\n<g id=\"node224\" class=\"node\">\n<title>L219</title>\n<ellipse fill=\"none\" stroke=\"#000000\" cx=\"9459\" cy=\"-18\" rx=\"27\" ry=\"18\"/>\n<text text-anchor=\"middle\" x=\"9459\" y=\"-14.3\" font-family=\"Times,serif\" font-size=\"14.00\" fill=\"#000000\">L</text>\n</g>\n<!-- L&#45;Distance217&#45;&gt;L219 -->\n<g id=\"edge223\" class=\"edge\">\n<title>L&#45;Distance217&#45;&gt;L219</title>\n<path fill=\"none\" stroke=\"#000000\" d=\"M9516.4297,-87.3943C9505.5753,-74.2785 9490.6342,-56.2247 9478.7127,-41.8195\"/>\n<polygon fill=\"#000000\" stroke=\"#000000\" points=\"9481.1682,-39.2969 9472.0961,-33.8244 9475.7754,-43.7599 9481.1682,-39.2969\"/>\n<text text-anchor=\"middle\" x=\"9504\" y=\"-57.8\" font-family=\"Times,serif\" font-size=\"14.00\" fill=\"#000000\">4</text>\n</g>\n<!-- L220 -->\n<g id=\"node225\" class=\"node\">\n<title>L220</title>\n<ellipse fill=\"none\" stroke=\"#000000\" cx=\"9531\" cy=\"-18\" rx=\"27\" ry=\"18\"/>\n<text text-anchor=\"middle\" x=\"9531\" y=\"-14.3\" font-family=\"Times,serif\" font-size=\"14.00\" fill=\"#000000\">L</text>\n</g>\n<!-- L&#45;Distance217&#45;&gt;L220 -->\n<g id=\"edge224\" class=\"edge\">\n<title>L&#45;Distance217&#45;&gt;L220</title>\n<path fill=\"none\" stroke=\"#000000\" d=\"M9531,-86.9735C9531,-75.1918 9531,-59.5607 9531,-46.1581\"/>\n<polygon fill=\"#000000\" stroke=\"#000000\" points=\"9534.5001,-46.0033 9531,-36.0034 9527.5001,-46.0034 9534.5001,-46.0033\"/>\n<text text-anchor=\"middle\" x=\"9535\" y=\"-57.8\" font-family=\"Times,serif\" font-size=\"14.00\" fill=\"#000000\">3</text>\n</g>\n<!-- R221 -->\n<g id=\"node226\" class=\"node\">\n<title>R221</title>\n<ellipse fill=\"none\" stroke=\"#000000\" cx=\"9603\" cy=\"-18\" rx=\"27\" ry=\"18\"/>\n<text text-anchor=\"middle\" x=\"9603\" y=\"-14.3\" font-family=\"Times,serif\" font-size=\"14.00\" fill=\"#000000\">R</text>\n</g>\n<!-- L&#45;Distance217&#45;&gt;R221 -->\n<g id=\"edge225\" class=\"edge\">\n<title>L&#45;Distance217&#45;&gt;R221</title>\n<path fill=\"none\" stroke=\"#000000\" d=\"M9545.5703,-87.3943C9556.4247,-74.2785 9571.3658,-56.2247 9583.2873,-41.8195\"/>\n<polygon fill=\"#000000\" stroke=\"#000000\" points=\"9586.2246,-43.7599 9589.9039,-33.8244 9580.8318,-39.2969 9586.2246,-43.7599\"/>\n<text text-anchor=\"middle\" x=\"9576\" y=\"-57.8\" font-family=\"Times,serif\" font-size=\"14.00\" fill=\"#000000\">1</text>\n</g>\n<!-- R223 -->\n<g id=\"node228\" class=\"node\">\n<title>R223</title>\n<ellipse fill=\"none\" stroke=\"#000000\" cx=\"9675\" cy=\"-18\" rx=\"27\" ry=\"18\"/>\n<text text-anchor=\"middle\" x=\"9675\" y=\"-14.3\" font-family=\"Times,serif\" font-size=\"14.00\" fill=\"#000000\">R</text>\n</g>\n<!-- L&#45;Distance222&#45;&gt;R223 -->\n<g id=\"edge227\" class=\"edge\">\n<title>L&#45;Distance222&#45;&gt;R223</title>\n<path fill=\"none\" stroke=\"#000000\" d=\"M9792.9227,-89.245C9767.8375,-74.0893 9729.9883,-51.2221 9703.9738,-35.505\"/>\n<polygon fill=\"#000000\" stroke=\"#000000\" points=\"9705.6751,-32.4437 9695.306,-30.2682 9702.0553,-38.4351 9705.6751,-32.4437\"/>\n<text text-anchor=\"middle\" x=\"9760\" y=\"-57.8\" font-family=\"Times,serif\" font-size=\"14.00\" fill=\"#000000\">1</text>\n</g>\n<!-- L224 -->\n<g id=\"node229\" class=\"node\">\n<title>L224</title>\n<ellipse fill=\"none\" stroke=\"#000000\" cx=\"9747\" cy=\"-18\" rx=\"27\" ry=\"18\"/>\n<text text-anchor=\"middle\" x=\"9747\" y=\"-14.3\" font-family=\"Times,serif\" font-size=\"14.00\" fill=\"#000000\">L</text>\n</g>\n<!-- L&#45;Distance222&#45;&gt;L224 -->\n<g id=\"edge228\" class=\"edge\">\n<title>L&#45;Distance222&#45;&gt;L224</title>\n<path fill=\"none\" stroke=\"#000000\" d=\"M9804.4297,-87.3943C9793.5753,-74.2785 9778.6342,-56.2247 9766.7127,-41.8195\"/>\n<polygon fill=\"#000000\" stroke=\"#000000\" points=\"9769.1682,-39.2969 9760.0961,-33.8244 9763.7754,-43.7599 9769.1682,-39.2969\"/>\n<text text-anchor=\"middle\" x=\"9792\" y=\"-57.8\" font-family=\"Times,serif\" font-size=\"14.00\" fill=\"#000000\">5</text>\n</g>\n<!-- L225 -->\n<g id=\"node230\" class=\"node\">\n<title>L225</title>\n<ellipse fill=\"none\" stroke=\"#000000\" cx=\"9819\" cy=\"-18\" rx=\"27\" ry=\"18\"/>\n<text text-anchor=\"middle\" x=\"9819\" y=\"-14.3\" font-family=\"Times,serif\" font-size=\"14.00\" fill=\"#000000\">L</text>\n</g>\n<!-- L&#45;Distance222&#45;&gt;L225 -->\n<g id=\"edge229\" class=\"edge\">\n<title>L&#45;Distance222&#45;&gt;L225</title>\n<path fill=\"none\" stroke=\"#000000\" d=\"M9819,-86.9735C9819,-75.1918 9819,-59.5607 9819,-46.1581\"/>\n<polygon fill=\"#000000\" stroke=\"#000000\" points=\"9822.5001,-46.0033 9819,-36.0034 9815.5001,-46.0034 9822.5001,-46.0033\"/>\n<text text-anchor=\"middle\" x=\"9823\" y=\"-57.8\" font-family=\"Times,serif\" font-size=\"14.00\" fill=\"#000000\">4</text>\n</g>\n<!-- B226 -->\n<g id=\"node231\" class=\"node\">\n<title>B226</title>\n<ellipse fill=\"none\" stroke=\"#000000\" cx=\"9891\" cy=\"-18\" rx=\"27\" ry=\"18\"/>\n<text text-anchor=\"middle\" x=\"9891\" y=\"-14.3\" font-family=\"Times,serif\" font-size=\"14.00\" fill=\"#000000\">B</text>\n</g>\n<!-- L&#45;Distance222&#45;&gt;B226 -->\n<g id=\"edge230\" class=\"edge\">\n<title>L&#45;Distance222&#45;&gt;B226</title>\n<path fill=\"none\" stroke=\"#000000\" d=\"M9833.5703,-87.3943C9844.4247,-74.2785 9859.3658,-56.2247 9871.2873,-41.8195\"/>\n<polygon fill=\"#000000\" stroke=\"#000000\" points=\"9874.2246,-43.7599 9877.9039,-33.8244 9868.8318,-39.2969 9874.2246,-43.7599\"/>\n<text text-anchor=\"middle\" x=\"9864\" y=\"-57.8\" font-family=\"Times,serif\" font-size=\"14.00\" fill=\"#000000\">3</text>\n</g>\n<!-- R229 -->\n<g id=\"node234\" class=\"node\">\n<title>R229</title>\n<ellipse fill=\"none\" stroke=\"#000000\" cx=\"9963\" cy=\"-18\" rx=\"27\" ry=\"18\"/>\n<text text-anchor=\"middle\" x=\"9963\" y=\"-14.3\" font-family=\"Times,serif\" font-size=\"14.00\" fill=\"#000000\">R</text>\n</g>\n<!-- L&#45;Distance228&#45;&gt;R229 -->\n<g id=\"edge233\" class=\"edge\">\n<title>L&#45;Distance228&#45;&gt;R229</title>\n<path fill=\"none\" stroke=\"#000000\" d=\"M10020.4297,-87.3943C10009.5753,-74.2785 9994.6342,-56.2247 9982.7127,-41.8195\"/>\n<polygon fill=\"#000000\" stroke=\"#000000\" points=\"9985.1682,-39.2969 9976.0961,-33.8244 9979.7754,-43.7599 9985.1682,-39.2969\"/>\n<text text-anchor=\"middle\" x=\"10008\" y=\"-57.8\" font-family=\"Times,serif\" font-size=\"14.00\" fill=\"#000000\">4</text>\n</g>\n<!-- R230 -->\n<g id=\"node235\" class=\"node\">\n<title>R230</title>\n<ellipse fill=\"none\" stroke=\"#000000\" cx=\"10035\" cy=\"-18\" rx=\"27\" ry=\"18\"/>\n<text text-anchor=\"middle\" x=\"10035\" y=\"-14.3\" font-family=\"Times,serif\" font-size=\"14.00\" fill=\"#000000\">R</text>\n</g>\n<!-- L&#45;Distance228&#45;&gt;R230 -->\n<g id=\"edge234\" class=\"edge\">\n<title>L&#45;Distance228&#45;&gt;R230</title>\n<path fill=\"none\" stroke=\"#000000\" d=\"M10035,-86.9735C10035,-75.1918 10035,-59.5607 10035,-46.1581\"/>\n<polygon fill=\"#000000\" stroke=\"#000000\" points=\"10038.5001,-46.0033 10035,-36.0034 10031.5001,-46.0034 10038.5001,-46.0033\"/>\n<text text-anchor=\"middle\" x=\"10039\" y=\"-57.8\" font-family=\"Times,serif\" font-size=\"14.00\" fill=\"#000000\">3</text>\n</g>\n<!-- B231 -->\n<g id=\"node236\" class=\"node\">\n<title>B231</title>\n<ellipse fill=\"none\" stroke=\"#000000\" cx=\"10107\" cy=\"-18\" rx=\"27\" ry=\"18\"/>\n<text text-anchor=\"middle\" x=\"10107\" y=\"-14.3\" font-family=\"Times,serif\" font-size=\"14.00\" fill=\"#000000\">B</text>\n</g>\n<!-- L&#45;Distance228&#45;&gt;B231 -->\n<g id=\"edge235\" class=\"edge\">\n<title>L&#45;Distance228&#45;&gt;B231</title>\n<path fill=\"none\" stroke=\"#000000\" d=\"M10049.5703,-87.3943C10060.4247,-74.2785 10075.3658,-56.2247 10087.2873,-41.8195\"/>\n<polygon fill=\"#000000\" stroke=\"#000000\" points=\"10090.2246,-43.7599 10093.9039,-33.8244 10084.8318,-39.2969 10090.2246,-43.7599\"/>\n<text text-anchor=\"middle\" x=\"10080\" y=\"-57.8\" font-family=\"Times,serif\" font-size=\"14.00\" fill=\"#000000\">5</text>\n</g>\n<!-- L233 -->\n<g id=\"node238\" class=\"node\">\n<title>L233</title>\n<ellipse fill=\"none\" stroke=\"#000000\" cx=\"10179\" cy=\"-18\" rx=\"27\" ry=\"18\"/>\n<text text-anchor=\"middle\" x=\"10179\" y=\"-14.3\" font-family=\"Times,serif\" font-size=\"14.00\" fill=\"#000000\">L</text>\n</g>\n<!-- L&#45;Distance232&#45;&gt;L233 -->\n<g id=\"edge237\" class=\"edge\">\n<title>L&#45;Distance232&#45;&gt;L233</title>\n<path fill=\"none\" stroke=\"#000000\" d=\"M10206.748,-86.9735C10201.8499,-74.7983 10195.298,-58.5122 10189.7908,-44.8228\"/>\n<polygon fill=\"#000000\" stroke=\"#000000\" points=\"10192.9833,-43.3808 10186.0039,-35.4097 10186.4892,-45.9934 10192.9833,-43.3808\"/>\n<text text-anchor=\"middle\" x=\"10203\" y=\"-57.8\" font-family=\"Times,serif\" font-size=\"14.00\" fill=\"#000000\">5</text>\n</g>\n<!-- R234 -->\n<g id=\"node239\" class=\"node\">\n<title>R234</title>\n<ellipse fill=\"none\" stroke=\"#000000\" cx=\"10251\" cy=\"-18\" rx=\"27\" ry=\"18\"/>\n<text text-anchor=\"middle\" x=\"10251\" y=\"-14.3\" font-family=\"Times,serif\" font-size=\"14.00\" fill=\"#000000\">R</text>\n</g>\n<!-- L&#45;Distance232&#45;&gt;R234 -->\n<g id=\"edge238\" class=\"edge\">\n<title>L&#45;Distance232&#45;&gt;R234</title>\n<path fill=\"none\" stroke=\"#000000\" d=\"M10221.6664,-86.9735C10226.8444,-74.7983 10233.7707,-58.5122 10239.5926,-44.8228\"/>\n<polygon fill=\"#000000\" stroke=\"#000000\" points=\"10242.903,-45.9819 10243.5959,-35.4097 10236.4613,-43.2423 10242.903,-45.9819\"/>\n<text text-anchor=\"middle\" x=\"10239\" y=\"-57.8\" font-family=\"Times,serif\" font-size=\"14.00\" fill=\"#000000\">2</text>\n</g>\n<!-- R235 -->\n<g id=\"node240\" class=\"node\">\n<title>R235</title>\n<ellipse fill=\"none\" stroke=\"#000000\" cx=\"10323\" cy=\"-18\" rx=\"27\" ry=\"18\"/>\n<text text-anchor=\"middle\" x=\"10323\" y=\"-14.3\" font-family=\"Times,serif\" font-size=\"14.00\" fill=\"#000000\">R</text>\n</g>\n<!-- L&#45;Distance232&#45;&gt;R235 -->\n<g id=\"edge239\" class=\"edge\">\n<title>L&#45;Distance232&#45;&gt;R235</title>\n<path fill=\"none\" stroke=\"#000000\" d=\"M10234.7586,-88.4312C10252.6222,-74.1731 10278.4592,-53.5509 10297.5626,-38.3033\"/>\n<polygon fill=\"#000000\" stroke=\"#000000\" points=\"10299.9211,-40.899 10305.5534,-31.9253 10295.5543,-35.428 10299.9211,-40.899\"/>\n<text text-anchor=\"middle\" x=\"10280\" y=\"-57.8\" font-family=\"Times,serif\" font-size=\"14.00\" fill=\"#000000\">1</text>\n</g>\n<!-- B236 -->\n<g id=\"node241\" class=\"node\">\n<title>B236</title>\n<ellipse fill=\"none\" stroke=\"#000000\" cx=\"10395\" cy=\"-18\" rx=\"27\" ry=\"18\"/>\n<text text-anchor=\"middle\" x=\"10395\" y=\"-14.3\" font-family=\"Times,serif\" font-size=\"14.00\" fill=\"#000000\">B</text>\n</g>\n<!-- L&#45;Distance232&#45;&gt;B236 -->\n<g id=\"edge240\" class=\"edge\">\n<title>L&#45;Distance232&#45;&gt;B236</title>\n<path fill=\"none\" stroke=\"#000000\" d=\"M10244.9155,-90.502C10274.329,-76.6578 10319.7879,-55.1305 10359,-36 10360.7427,-35.1498 10362.5307,-34.2723 10364.3335,-33.3836\"/>\n<polygon fill=\"#000000\" stroke=\"#000000\" points=\"10365.9291,-36.4991 10373.3319,-28.9195 10362.8182,-30.2284 10365.9291,-36.4991\"/>\n<text text-anchor=\"middle\" x=\"10324\" y=\"-57.8\" font-family=\"Times,serif\" font-size=\"14.00\" fill=\"#000000\">4</text>\n</g>\n<!-- L238 -->\n<g id=\"node243\" class=\"node\">\n<title>L238</title>\n<ellipse fill=\"none\" stroke=\"#000000\" cx=\"10310\" cy=\"-105\" rx=\"27\" ry=\"18\"/>\n<text text-anchor=\"middle\" x=\"10310\" y=\"-101.3\" font-family=\"Times,serif\" font-size=\"14.00\" fill=\"#000000\">L</text>\n</g>\n<!-- R&#45;Distance237&#45;&gt;L238 -->\n<g id=\"edge242\" class=\"edge\">\n<title>R&#45;Distance237&#45;&gt;L238</title>\n<path fill=\"none\" stroke=\"#000000\" d=\"M10448.7366,-176.8458C10418.4067,-161.1392 10371.2134,-136.6998 10340.4517,-120.7696\"/>\n<polygon fill=\"#000000\" stroke=\"#000000\" points=\"10341.9588,-117.6087 10331.4693,-116.118 10338.7398,-123.8246 10341.9588,-117.6087\"/>\n<text text-anchor=\"middle\" x=\"10409\" y=\"-144.8\" font-family=\"Times,serif\" font-size=\"14.00\" fill=\"#000000\">5</text>\n</g>\n<!-- L239 -->\n<g id=\"node244\" class=\"node\">\n<title>L239</title>\n<ellipse fill=\"none\" stroke=\"#000000\" cx=\"10382\" cy=\"-105\" rx=\"27\" ry=\"18\"/>\n<text text-anchor=\"middle\" x=\"10382\" y=\"-101.3\" font-family=\"Times,serif\" font-size=\"14.00\" fill=\"#000000\">L</text>\n</g>\n<!-- R&#45;Distance237&#45;&gt;L239 -->\n<g id=\"edge243\" class=\"edge\">\n<title>R&#45;Distance237&#45;&gt;L239</title>\n<path fill=\"none\" stroke=\"#000000\" d=\"M10459.0335,-174.8116C10443.7248,-160.9381 10422.1051,-141.3452 10405.6643,-126.4458\"/>\n<polygon fill=\"#000000\" stroke=\"#000000\" points=\"10407.82,-123.6759 10398.0598,-119.5542 10403.1194,-128.8629 10407.82,-123.6759\"/>\n<text text-anchor=\"middle\" x=\"10440\" y=\"-144.8\" font-family=\"Times,serif\" font-size=\"14.00\" fill=\"#000000\">2</text>\n</g>\n<!-- L240 -->\n<g id=\"node245\" class=\"node\">\n<title>L240</title>\n<ellipse fill=\"none\" stroke=\"#000000\" cx=\"10454\" cy=\"-105\" rx=\"27\" ry=\"18\"/>\n<text text-anchor=\"middle\" x=\"10454\" y=\"-101.3\" font-family=\"Times,serif\" font-size=\"14.00\" fill=\"#000000\">L</text>\n</g>\n<!-- R&#45;Distance237&#45;&gt;L240 -->\n<g id=\"edge244\" class=\"edge\">\n<title>R&#45;Distance237&#45;&gt;L240</title>\n<path fill=\"none\" stroke=\"#000000\" d=\"M10473.0272,-173.9735C10469.723,-161.9958 10465.3213,-146.0396 10461.5838,-132.4912\"/>\n<polygon fill=\"#000000\" stroke=\"#000000\" points=\"10464.9177,-131.4148 10458.8843,-122.7057 10458.1697,-133.2764 10464.9177,-131.4148\"/>\n<text text-anchor=\"middle\" x=\"10472\" y=\"-144.8\" font-family=\"Times,serif\" font-size=\"14.00\" fill=\"#000000\">1</text>\n</g>\n<!-- L&#45;Distance241 -->\n<g id=\"node246\" class=\"node\">\n<title>L&#45;Distance241</title>\n<ellipse fill=\"none\" stroke=\"#000000\" cx=\"10550\" cy=\"-105\" rx=\"51.1914\" ry=\"18\"/>\n<text text-anchor=\"middle\" x=\"10550\" y=\"-101.3\" font-family=\"Times,serif\" font-size=\"14.00\" fill=\"#000000\">L&#45;Distance</text>\n</g>\n<!-- R&#45;Distance237&#45;&gt;L&#45;Distance241 -->\n<g id=\"edge245\" class=\"edge\">\n<title>R&#45;Distance237&#45;&gt;L&#45;Distance241</title>\n<path fill=\"none\" stroke=\"#000000\" d=\"M10492.5703,-174.3943C10503.0125,-161.7765 10517.2369,-144.5887 10528.9165,-130.4759\"/>\n<polygon fill=\"#000000\" stroke=\"#000000\" points=\"10531.7721,-132.515 10535.4514,-122.5796 10526.3793,-128.052 10531.7721,-132.515\"/>\n<text text-anchor=\"middle\" x=\"10523\" y=\"-144.8\" font-family=\"Times,serif\" font-size=\"14.00\" fill=\"#000000\">4</text>\n</g>\n<!-- L246 -->\n<g id=\"node251\" class=\"node\">\n<title>L246</title>\n<ellipse fill=\"none\" stroke=\"#000000\" cx=\"10646\" cy=\"-105\" rx=\"27\" ry=\"18\"/>\n<text text-anchor=\"middle\" x=\"10646\" y=\"-101.3\" font-family=\"Times,serif\" font-size=\"14.00\" fill=\"#000000\">L</text>\n</g>\n<!-- R&#45;Distance237&#45;&gt;L246 -->\n<g id=\"edge250\" class=\"edge\">\n<title>R&#45;Distance237&#45;&gt;L246</title>\n<path fill=\"none\" stroke=\"#000000\" d=\"M10507.2634,-176.8458C10537.5933,-161.1392 10584.7866,-136.6998 10615.5483,-120.7696\"/>\n<polygon fill=\"#000000\" stroke=\"#000000\" points=\"10617.2602,-123.8246 10624.5307,-116.118 10614.0412,-117.6087 10617.2602,-123.8246\"/>\n<text text-anchor=\"middle\" x=\"10577\" y=\"-144.8\" font-family=\"Times,serif\" font-size=\"14.00\" fill=\"#000000\">3</text>\n</g>\n<!-- L242 -->\n<g id=\"node247\" class=\"node\">\n<title>L242</title>\n<ellipse fill=\"none\" stroke=\"#000000\" cx=\"10467\" cy=\"-18\" rx=\"27\" ry=\"18\"/>\n<text text-anchor=\"middle\" x=\"10467\" y=\"-14.3\" font-family=\"Times,serif\" font-size=\"14.00\" fill=\"#000000\">L</text>\n</g>\n<!-- L&#45;Distance241&#45;&gt;L242 -->\n<g id=\"edge246\" class=\"edge\">\n<title>L&#45;Distance241&#45;&gt;L242</title>\n<path fill=\"none\" stroke=\"#000000\" d=\"M10533.6019,-87.8116C10520.728,-74.3173 10502.6918,-55.4118 10488.635,-40.6776\"/>\n<polygon fill=\"#000000\" stroke=\"#000000\" points=\"10491.1306,-38.2231 10481.6954,-33.4036 10486.0658,-43.055 10491.1306,-38.2231\"/>\n<text text-anchor=\"middle\" x=\"10518\" y=\"-57.8\" font-family=\"Times,serif\" font-size=\"14.00\" fill=\"#000000\">4</text>\n</g>\n<!-- B243 -->\n<g id=\"node248\" class=\"node\">\n<title>B243</title>\n<ellipse fill=\"none\" stroke=\"#000000\" cx=\"10539\" cy=\"-18\" rx=\"27\" ry=\"18\"/>\n<text text-anchor=\"middle\" x=\"10539\" y=\"-14.3\" font-family=\"Times,serif\" font-size=\"14.00\" fill=\"#000000\">B</text>\n</g>\n<!-- L&#45;Distance241&#45;&gt;B243 -->\n<g id=\"edge247\" class=\"edge\">\n<title>L&#45;Distance241&#45;&gt;B243</title>\n<path fill=\"none\" stroke=\"#000000\" d=\"M10547.7208,-86.9735C10546.2311,-75.1918 10544.2548,-59.5607 10542.5602,-46.1581\"/>\n<polygon fill=\"#000000\" stroke=\"#000000\" points=\"10546.0031,-45.4853 10541.2763,-36.0034 10539.0584,-46.3634 10546.0031,-45.4853\"/>\n<text text-anchor=\"middle\" x=\"10550\" y=\"-57.8\" font-family=\"Times,serif\" font-size=\"14.00\" fill=\"#000000\">1</text>\n</g>\n<!-- L244 -->\n<g id=\"node249\" class=\"node\">\n<title>L244</title>\n<ellipse fill=\"none\" stroke=\"#000000\" cx=\"10611\" cy=\"-18\" rx=\"27\" ry=\"18\"/>\n<text text-anchor=\"middle\" x=\"10611\" y=\"-14.3\" font-family=\"Times,serif\" font-size=\"14.00\" fill=\"#000000\">L</text>\n</g>\n<!-- L&#45;Distance241&#45;&gt;L244 -->\n<g id=\"edge248\" class=\"edge\">\n<title>L&#45;Distance241&#45;&gt;L244</title>\n<path fill=\"none\" stroke=\"#000000\" d=\"M10562.3443,-87.3943C10571.3391,-74.5655 10583.6464,-57.0126 10593.6322,-42.7704\"/>\n<polygon fill=\"#000000\" stroke=\"#000000\" points=\"10596.6243,-44.5996 10599.4995,-34.4024 10590.8927,-40.5809 10596.6243,-44.5996\"/>\n<text text-anchor=\"middle\" x=\"10589\" y=\"-57.8\" font-family=\"Times,serif\" font-size=\"14.00\" fill=\"#000000\">3</text>\n</g>\n<!-- L245 -->\n<g id=\"node250\" class=\"node\">\n<title>L245</title>\n<ellipse fill=\"none\" stroke=\"#000000\" cx=\"10683\" cy=\"-18\" rx=\"27\" ry=\"18\"/>\n<text text-anchor=\"middle\" x=\"10683\" y=\"-14.3\" font-family=\"Times,serif\" font-size=\"14.00\" fill=\"#000000\">L</text>\n</g>\n<!-- L&#45;Distance241&#45;&gt;L245 -->\n<g id=\"edge249\" class=\"edge\">\n<title>L&#45;Distance241&#45;&gt;L245</title>\n<path fill=\"none\" stroke=\"#000000\" d=\"M10574.3942,-89.0429C10597.1362,-74.1665 10631.0391,-51.9895 10654.9033,-36.3791\"/>\n<polygon fill=\"#000000\" stroke=\"#000000\" points=\"10657.0611,-39.1499 10663.5138,-30.7466 10653.2292,-33.2919 10657.0611,-39.1499\"/>\n<text text-anchor=\"middle\" x=\"10629\" y=\"-57.8\" font-family=\"Times,serif\" font-size=\"14.00\" fill=\"#000000\">2</text>\n</g>\n<!-- L248 -->\n<g id=\"node253\" class=\"node\">\n<title>L248</title>\n<ellipse fill=\"none\" stroke=\"#000000\" cx=\"10718\" cy=\"-105\" rx=\"27\" ry=\"18\"/>\n<text text-anchor=\"middle\" x=\"10718\" y=\"-101.3\" font-family=\"Times,serif\" font-size=\"14.00\" fill=\"#000000\">L</text>\n</g>\n<!-- L&#45;Distance247&#45;&gt;L248 -->\n<g id=\"edge252\" class=\"edge\">\n<title>L&#45;Distance247&#45;&gt;L248</title>\n<path fill=\"none\" stroke=\"#000000\" d=\"M10851.7818,-176.8458C10822.8247,-161.2947 10777.927,-137.183 10748.2501,-121.2454\"/>\n<polygon fill=\"#000000\" stroke=\"#000000\" points=\"10749.655,-118.0271 10739.1891,-116.3793 10746.3431,-124.1941 10749.655,-118.0271\"/>\n<text text-anchor=\"middle\" x=\"10813\" y=\"-144.8\" font-family=\"Times,serif\" font-size=\"14.00\" fill=\"#000000\">2</text>\n</g>\n<!-- R&#45;Distance249 -->\n<g id=\"node254\" class=\"node\">\n<title>R&#45;Distance249</title>\n<ellipse fill=\"none\" stroke=\"#000000\" cx=\"10815\" cy=\"-105\" rx=\"51.9908\" ry=\"18\"/>\n<text text-anchor=\"middle\" x=\"10815\" y=\"-101.3\" font-family=\"Times,serif\" font-size=\"14.00\" fill=\"#000000\">R&#45;Distance</text>\n</g>\n<!-- L&#45;Distance247&#45;&gt;R&#45;Distance249 -->\n<g id=\"edge253\" class=\"edge\">\n<title>L&#45;Distance247&#45;&gt;R&#45;Distance249</title>\n<path fill=\"none\" stroke=\"#000000\" d=\"M10866.8463,-174.3943C10857.5073,-161.8944 10844.8175,-144.9096 10834.3299,-130.8724\"/>\n<polygon fill=\"#000000\" stroke=\"#000000\" points=\"10836.9233,-128.4958 10828.1342,-122.5796 10831.3156,-132.6855 10836.9233,-128.4958\"/>\n<text text-anchor=\"middle\" x=\"10856\" y=\"-144.8\" font-family=\"Times,serif\" font-size=\"14.00\" fill=\"#000000\">1</text>\n</g>\n<!-- L254 -->\n<g id=\"node259\" class=\"node\">\n<title>L254</title>\n<ellipse fill=\"none\" stroke=\"#000000\" cx=\"10912\" cy=\"-105\" rx=\"27\" ry=\"18\"/>\n<text text-anchor=\"middle\" x=\"10912\" y=\"-101.3\" font-family=\"Times,serif\" font-size=\"14.00\" fill=\"#000000\">L</text>\n</g>\n<!-- L&#45;Distance247&#45;&gt;L254 -->\n<g id=\"edge258\" class=\"edge\">\n<title>L&#45;Distance247&#45;&gt;L254</title>\n<path fill=\"none\" stroke=\"#000000\" d=\"M10886.6304,-173.9735C10891.0792,-161.8784 10897.0202,-145.7263 10902.0346,-132.0934\"/>\n<polygon fill=\"#000000\" stroke=\"#000000\" points=\"10905.3203,-133.2992 10905.4876,-122.7057 10898.7506,-130.8827 10905.3203,-133.2992\"/>\n<text text-anchor=\"middle\" x=\"10902\" y=\"-144.8\" font-family=\"Times,serif\" font-size=\"14.00\" fill=\"#000000\">4</text>\n</g>\n<!-- L255 -->\n<g id=\"node260\" class=\"node\">\n<title>L255</title>\n<ellipse fill=\"none\" stroke=\"#000000\" cx=\"10984\" cy=\"-105\" rx=\"27\" ry=\"18\"/>\n<text text-anchor=\"middle\" x=\"10984\" y=\"-101.3\" font-family=\"Times,serif\" font-size=\"14.00\" fill=\"#000000\">L</text>\n</g>\n<!-- L&#45;Distance247&#45;&gt;L255 -->\n<g id=\"edge259\" class=\"edge\">\n<title>L&#45;Distance247&#45;&gt;L255</title>\n<path fill=\"none\" stroke=\"#000000\" d=\"M10900.0522,-175.2255C10916.9438,-161.0951 10941.1784,-140.8219 10959.2706,-125.6871\"/>\n<polygon fill=\"#000000\" stroke=\"#000000\" points=\"10961.6782,-128.2362 10967.1026,-119.1353 10957.1868,-122.8671 10961.6782,-128.2362\"/>\n<text text-anchor=\"middle\" x=\"10943\" y=\"-144.8\" font-family=\"Times,serif\" font-size=\"14.00\" fill=\"#000000\">5</text>\n</g>\n<!-- L256 -->\n<g id=\"node261\" class=\"node\">\n<title>L256</title>\n<ellipse fill=\"none\" stroke=\"#000000\" cx=\"11056\" cy=\"-105\" rx=\"27\" ry=\"18\"/>\n<text text-anchor=\"middle\" x=\"11056\" y=\"-101.3\" font-family=\"Times,serif\" font-size=\"14.00\" fill=\"#000000\">L</text>\n</g>\n<!-- L&#45;Distance247&#45;&gt;L256 -->\n<g id=\"edge260\" class=\"edge\">\n<title>L&#45;Distance247&#45;&gt;L256</title>\n<path fill=\"none\" stroke=\"#000000\" d=\"M10910.0653,-177.2439C10938.4323,-163.3067 10982.137,-141.7961 11020,-123 11021.7369,-122.1378 11023.5202,-121.251 11025.3195,-120.3551\"/>\n<polygon fill=\"#000000\" stroke=\"#000000\" points=\"11026.922,-123.467 11034.308,-115.8711 11023.7973,-117.2032 11026.922,-123.467\"/>\n<text text-anchor=\"middle\" x=\"10986\" y=\"-144.8\" font-family=\"Times,serif\" font-size=\"14.00\" fill=\"#000000\">3</text>\n</g>\n<!-- B250 -->\n<g id=\"node255\" class=\"node\">\n<title>B250</title>\n<ellipse fill=\"none\" stroke=\"#000000\" cx=\"10755\" cy=\"-18\" rx=\"27\" ry=\"18\"/>\n<text text-anchor=\"middle\" x=\"10755\" y=\"-14.3\" font-family=\"Times,serif\" font-size=\"14.00\" fill=\"#000000\">B</text>\n</g>\n<!-- R&#45;Distance249&#45;&gt;B250 -->\n<g id=\"edge254\" class=\"edge\">\n<title>R&#45;Distance249&#45;&gt;B250</title>\n<path fill=\"none\" stroke=\"#000000\" d=\"M10802.8581,-87.3943C10794.0107,-74.5655 10781.9052,-57.0126 10772.0831,-42.7704\"/>\n<polygon fill=\"#000000\" stroke=\"#000000\" points=\"10774.8706,-40.6474 10766.312,-34.4024 10769.1081,-44.6216 10774.8706,-40.6474\"/>\n<text text-anchor=\"middle\" x=\"10793\" y=\"-57.8\" font-family=\"Times,serif\" font-size=\"14.00\" fill=\"#000000\">3</text>\n</g>\n<!-- R251 -->\n<g id=\"node256\" class=\"node\">\n<title>R251</title>\n<ellipse fill=\"none\" stroke=\"#000000\" cx=\"10827\" cy=\"-18\" rx=\"27\" ry=\"18\"/>\n<text text-anchor=\"middle\" x=\"10827\" y=\"-14.3\" font-family=\"Times,serif\" font-size=\"14.00\" fill=\"#000000\">R</text>\n</g>\n<!-- R&#45;Distance249&#45;&gt;R251 -->\n<g id=\"edge255\" class=\"edge\">\n<title>R&#45;Distance249&#45;&gt;R251</title>\n<path fill=\"none\" stroke=\"#000000\" d=\"M10817.4864,-86.9735C10819.1115,-75.1918 10821.2675,-59.5607 10823.1161,-46.1581\"/>\n<polygon fill=\"#000000\" stroke=\"#000000\" points=\"10826.6175,-46.3878 10824.5168,-36.0034 10819.6831,-45.4313 10826.6175,-46.3878\"/>\n<text text-anchor=\"middle\" x=\"10826\" y=\"-57.8\" font-family=\"Times,serif\" font-size=\"14.00\" fill=\"#000000\">4</text>\n</g>\n<!-- R252 -->\n<g id=\"node257\" class=\"node\">\n<title>R252</title>\n<ellipse fill=\"none\" stroke=\"#000000\" cx=\"10899\" cy=\"-18\" rx=\"27\" ry=\"18\"/>\n<text text-anchor=\"middle\" x=\"10899\" y=\"-14.3\" font-family=\"Times,serif\" font-size=\"14.00\" fill=\"#000000\">R</text>\n</g>\n<!-- R&#45;Distance249&#45;&gt;R252 -->\n<g id=\"edge256\" class=\"edge\">\n<title>R&#45;Distance249&#45;&gt;R252</title>\n<path fill=\"none\" stroke=\"#000000\" d=\"M10831.5957,-87.8116C10844.6247,-74.3173 10862.8782,-55.4118 10877.1044,-40.6776\"/>\n<polygon fill=\"#000000\" stroke=\"#000000\" points=\"10879.6995,-43.0287 10884.1276,-33.4036 10874.6637,-38.1665 10879.6995,-43.0287\"/>\n<text text-anchor=\"middle\" x=\"10867\" y=\"-57.8\" font-family=\"Times,serif\" font-size=\"14.00\" fill=\"#000000\">5</text>\n</g>\n<!-- L253 -->\n<g id=\"node258\" class=\"node\">\n<title>L253</title>\n<ellipse fill=\"none\" stroke=\"#000000\" cx=\"10971\" cy=\"-18\" rx=\"27\" ry=\"18\"/>\n<text text-anchor=\"middle\" x=\"10971\" y=\"-14.3\" font-family=\"Times,serif\" font-size=\"14.00\" fill=\"#000000\">L</text>\n</g>\n<!-- R&#45;Distance249&#45;&gt;L253 -->\n<g id=\"edge257\" class=\"edge\">\n<title>R&#45;Distance249&#45;&gt;L253</title>\n<path fill=\"none\" stroke=\"#000000\" d=\"M10842.5306,-89.6464C10870.1929,-74.2194 10912.6966,-50.5154 10941.1536,-34.6451\"/>\n<polygon fill=\"#000000\" stroke=\"#000000\" points=\"10943.195,-37.5142 10950.2239,-29.5866 10939.7855,-31.4006 10943.195,-37.5142\"/>\n<text text-anchor=\"middle\" x=\"10907\" y=\"-57.8\" font-family=\"Times,serif\" font-size=\"14.00\" fill=\"#000000\">2</text>\n</g>\n<!-- L258 -->\n<g id=\"node263\" class=\"node\">\n<title>L258</title>\n<ellipse fill=\"none\" stroke=\"#000000\" cx=\"11128\" cy=\"-105\" rx=\"27\" ry=\"18\"/>\n<text text-anchor=\"middle\" x=\"11128\" y=\"-101.3\" font-family=\"Times,serif\" font-size=\"14.00\" fill=\"#000000\">L</text>\n</g>\n<!-- L&#45;Distance257&#45;&gt;L258 -->\n<g id=\"edge262\" class=\"edge\">\n<title>L&#45;Distance257&#45;&gt;L258</title>\n<path fill=\"none\" stroke=\"#000000\" d=\"M11211.9478,-175.2255C11195.0562,-161.0951 11170.8216,-140.8219 11152.7294,-125.6871\"/>\n<polygon fill=\"#000000\" stroke=\"#000000\" points=\"11154.8132,-122.8671 11144.8974,-119.1353 11150.3218,-128.2362 11154.8132,-122.8671\"/>\n<text text-anchor=\"middle\" x=\"11191\" y=\"-144.8\" font-family=\"Times,serif\" font-size=\"14.00\" fill=\"#000000\">5</text>\n</g>\n<!-- L259 -->\n<g id=\"node264\" class=\"node\">\n<title>L259</title>\n<ellipse fill=\"none\" stroke=\"#000000\" cx=\"11200\" cy=\"-105\" rx=\"27\" ry=\"18\"/>\n<text text-anchor=\"middle\" x=\"11200\" y=\"-101.3\" font-family=\"Times,serif\" font-size=\"14.00\" fill=\"#000000\">L</text>\n</g>\n<!-- L&#45;Distance257&#45;&gt;L259 -->\n<g id=\"edge263\" class=\"edge\">\n<title>L&#45;Distance257&#45;&gt;L259</title>\n<path fill=\"none\" stroke=\"#000000\" d=\"M11225.3696,-173.9735C11220.9208,-161.8784 11214.9798,-145.7263 11209.9654,-132.0934\"/>\n<polygon fill=\"#000000\" stroke=\"#000000\" points=\"11213.2494,-130.8827 11206.5124,-122.7057 11206.6797,-133.2992 11213.2494,-130.8827\"/>\n<text text-anchor=\"middle\" x=\"11222\" y=\"-144.8\" font-family=\"Times,serif\" font-size=\"14.00\" fill=\"#000000\">3</text>\n</g>\n<!-- R&#45;Distance260 -->\n<g id=\"node265\" class=\"node\">\n<title>R&#45;Distance260</title>\n<ellipse fill=\"none\" stroke=\"#000000\" cx=\"11297\" cy=\"-105\" rx=\"51.9908\" ry=\"18\"/>\n<text text-anchor=\"middle\" x=\"11297\" y=\"-101.3\" font-family=\"Times,serif\" font-size=\"14.00\" fill=\"#000000\">R&#45;Distance</text>\n</g>\n<!-- L&#45;Distance257&#45;&gt;R&#45;Distance260 -->\n<g id=\"edge264\" class=\"edge\">\n<title>L&#45;Distance257&#45;&gt;R&#45;Distance260</title>\n<path fill=\"none\" stroke=\"#000000\" d=\"M11245.1537,-174.3943C11254.4927,-161.8944 11267.1825,-144.9096 11277.6701,-130.8724\"/>\n<polygon fill=\"#000000\" stroke=\"#000000\" points=\"11280.6844,-132.6855 11283.8658,-122.5796 11275.0767,-128.4958 11280.6844,-132.6855\"/>\n<text text-anchor=\"middle\" x=\"11273\" y=\"-144.8\" font-family=\"Times,serif\" font-size=\"14.00\" fill=\"#000000\">2</text>\n</g>\n<!-- L266 -->\n<g id=\"node271\" class=\"node\">\n<title>L266</title>\n<ellipse fill=\"none\" stroke=\"#000000\" cx=\"11394\" cy=\"-105\" rx=\"27\" ry=\"18\"/>\n<text text-anchor=\"middle\" x=\"11394\" y=\"-101.3\" font-family=\"Times,serif\" font-size=\"14.00\" fill=\"#000000\">L</text>\n</g>\n<!-- L&#45;Distance257&#45;&gt;L266 -->\n<g id=\"edge270\" class=\"edge\">\n<title>L&#45;Distance257&#45;&gt;L266</title>\n<path fill=\"none\" stroke=\"#000000\" d=\"M11260.2182,-176.8458C11289.1753,-161.2947 11334.073,-137.183 11363.7499,-121.2454\"/>\n<polygon fill=\"#000000\" stroke=\"#000000\" points=\"11365.6569,-124.1941 11372.8109,-116.3793 11362.345,-118.0271 11365.6569,-124.1941\"/>\n<text text-anchor=\"middle\" x=\"11327\" y=\"-144.8\" font-family=\"Times,serif\" font-size=\"14.00\" fill=\"#000000\">4</text>\n</g>\n<!-- R267 -->\n<g id=\"node272\" class=\"node\">\n<title>R267</title>\n<ellipse fill=\"none\" stroke=\"#000000\" cx=\"11466\" cy=\"-105\" rx=\"27\" ry=\"18\"/>\n<text text-anchor=\"middle\" x=\"11466\" y=\"-101.3\" font-family=\"Times,serif\" font-size=\"14.00\" fill=\"#000000\">R</text>\n</g>\n<!-- L&#45;Distance257&#45;&gt;R267 -->\n<g id=\"edge271\" class=\"edge\">\n<title>L&#45;Distance257&#45;&gt;R267</title>\n<path fill=\"none\" stroke=\"#000000\" d=\"M11270.8815,-180.0822C11311.2132,-167.3425 11375.839,-145.8661 11430,-123 11431.7864,-122.2458 11433.6085,-121.4436 11435.4377,-120.6127\"/>\n<polygon fill=\"#000000\" stroke=\"#000000\" points=\"11436.9748,-123.7574 11444.5084,-116.3079 11433.9735,-117.4334 11436.9748,-123.7574\"/>\n<text text-anchor=\"middle\" x=\"11386\" y=\"-144.8\" font-family=\"Times,serif\" font-size=\"14.00\" fill=\"#000000\">1</text>\n</g>\n<!-- R261 -->\n<g id=\"node266\" class=\"node\">\n<title>R261</title>\n<ellipse fill=\"none\" stroke=\"#000000\" cx=\"11141\" cy=\"-18\" rx=\"27\" ry=\"18\"/>\n<text text-anchor=\"middle\" x=\"11141\" y=\"-14.3\" font-family=\"Times,serif\" font-size=\"14.00\" fill=\"#000000\">R</text>\n</g>\n<!-- R&#45;Distance260&#45;&gt;R261 -->\n<g id=\"edge265\" class=\"edge\">\n<title>R&#45;Distance260&#45;&gt;R261</title>\n<path fill=\"none\" stroke=\"#000000\" d=\"M11269.4694,-89.6464C11241.8071,-74.2194 11199.3034,-50.5154 11170.8464,-34.6451\"/>\n<polygon fill=\"#000000\" stroke=\"#000000\" points=\"11172.2145,-31.4006 11161.7761,-29.5866 11168.805,-37.5142 11172.2145,-31.4006\"/>\n<text text-anchor=\"middle\" x=\"11233\" y=\"-57.8\" font-family=\"Times,serif\" font-size=\"14.00\" fill=\"#000000\">5</text>\n</g>\n<!-- L262 -->\n<g id=\"node267\" class=\"node\">\n<title>L262</title>\n<ellipse fill=\"none\" stroke=\"#000000\" cx=\"11213\" cy=\"-18\" rx=\"27\" ry=\"18\"/>\n<text text-anchor=\"middle\" x=\"11213\" y=\"-14.3\" font-family=\"Times,serif\" font-size=\"14.00\" fill=\"#000000\">L</text>\n</g>\n<!-- R&#45;Distance260&#45;&gt;L262 -->\n<g id=\"edge266\" class=\"edge\">\n<title>R&#45;Distance260&#45;&gt;L262</title>\n<path fill=\"none\" stroke=\"#000000\" d=\"M11280.4043,-87.8116C11267.3753,-74.3173 11249.1218,-55.4118 11234.8956,-40.6776\"/>\n<polygon fill=\"#000000\" stroke=\"#000000\" points=\"11237.3363,-38.1665 11227.8724,-33.4036 11232.3005,-43.0287 11237.3363,-38.1665\"/>\n<text text-anchor=\"middle\" x=\"11265\" y=\"-57.8\" font-family=\"Times,serif\" font-size=\"14.00\" fill=\"#000000\">3</text>\n</g>\n<!-- L263 -->\n<g id=\"node268\" class=\"node\">\n<title>L263</title>\n<ellipse fill=\"none\" stroke=\"#000000\" cx=\"11285\" cy=\"-18\" rx=\"27\" ry=\"18\"/>\n<text text-anchor=\"middle\" x=\"11285\" y=\"-14.3\" font-family=\"Times,serif\" font-size=\"14.00\" fill=\"#000000\">L</text>\n</g>\n<!-- R&#45;Distance260&#45;&gt;L263 -->\n<g id=\"edge267\" class=\"edge\">\n<title>R&#45;Distance260&#45;&gt;L263</title>\n<path fill=\"none\" stroke=\"#000000\" d=\"M11294.5136,-86.9735C11292.8885,-75.1918 11290.7325,-59.5607 11288.8839,-46.1581\"/>\n<polygon fill=\"#000000\" stroke=\"#000000\" points=\"11292.3169,-45.4313 11287.4832,-36.0034 11285.3825,-46.3878 11292.3169,-45.4313\"/>\n<text text-anchor=\"middle\" x=\"11296\" y=\"-57.8\" font-family=\"Times,serif\" font-size=\"14.00\" fill=\"#000000\">2</text>\n</g>\n<!-- B264 -->\n<g id=\"node269\" class=\"node\">\n<title>B264</title>\n<ellipse fill=\"none\" stroke=\"#000000\" cx=\"11357\" cy=\"-18\" rx=\"27\" ry=\"18\"/>\n<text text-anchor=\"middle\" x=\"11357\" y=\"-14.3\" font-family=\"Times,serif\" font-size=\"14.00\" fill=\"#000000\">B</text>\n</g>\n<!-- R&#45;Distance260&#45;&gt;B264 -->\n<g id=\"edge268\" class=\"edge\">\n<title>R&#45;Distance260&#45;&gt;B264</title>\n<path fill=\"none\" stroke=\"#000000\" d=\"M11309.1419,-87.3943C11317.9893,-74.5655 11330.0948,-57.0126 11339.9169,-42.7704\"/>\n<polygon fill=\"#000000\" stroke=\"#000000\" points=\"11342.8919,-44.6216 11345.688,-34.4024 11337.1294,-40.6474 11342.8919,-44.6216\"/>\n<text text-anchor=\"middle\" x=\"11335\" y=\"-57.8\" font-family=\"Times,serif\" font-size=\"14.00\" fill=\"#000000\">4</text>\n</g>\n<!-- L265 -->\n<g id=\"node270\" class=\"node\">\n<title>L265</title>\n<ellipse fill=\"none\" stroke=\"#000000\" cx=\"11429\" cy=\"-18\" rx=\"27\" ry=\"18\"/>\n<text text-anchor=\"middle\" x=\"11429\" y=\"-14.3\" font-family=\"Times,serif\" font-size=\"14.00\" fill=\"#000000\">L</text>\n</g>\n<!-- R&#45;Distance260&#45;&gt;L265 -->\n<g id=\"edge269\" class=\"edge\">\n<title>R&#45;Distance260&#45;&gt;L265</title>\n<path fill=\"none\" stroke=\"#000000\" d=\"M11321.2108,-89.0429C11343.7818,-74.1665 11377.4297,-51.9895 11401.1145,-36.3791\"/>\n<polygon fill=\"#000000\" stroke=\"#000000\" points=\"11403.2368,-39.1722 11409.6603,-30.7466 11399.3846,-33.3275 11403.2368,-39.1722\"/>\n<text text-anchor=\"middle\" x=\"11375\" y=\"-57.8\" font-family=\"Times,serif\" font-size=\"14.00\" fill=\"#000000\">1</text>\n</g>\n<!-- L&#45;Distance269 -->\n<g id=\"node274\" class=\"node\">\n<title>L&#45;Distance269</title>\n<ellipse fill=\"none\" stroke=\"#000000\" cx=\"11562\" cy=\"-105\" rx=\"51.1914\" ry=\"18\"/>\n<text text-anchor=\"middle\" x=\"11562\" y=\"-101.3\" font-family=\"Times,serif\" font-size=\"14.00\" fill=\"#000000\">L&#45;Distance</text>\n</g>\n<!-- R&#45;Distance268&#45;&gt;L&#45;Distance269 -->\n<g id=\"edge273\" class=\"edge\">\n<title>R&#45;Distance268&#45;&gt;L&#45;Distance269</title>\n<path fill=\"none\" stroke=\"#000000\" d=\"M11669.7892,-176.0429C11648.8021,-162.2105 11618.2382,-142.0661 11595.0117,-126.7577\"/>\n<polygon fill=\"#000000\" stroke=\"#000000\" points=\"11596.7801,-123.7314 11586.5044,-121.1506 11592.9279,-129.5761 11596.7801,-123.7314\"/>\n<text text-anchor=\"middle\" x=\"11640\" y=\"-144.8\" font-family=\"Times,serif\" font-size=\"14.00\" fill=\"#000000\">5</text>\n</g>\n<!-- L273 -->\n<g id=\"node278\" class=\"node\">\n<title>L273</title>\n<ellipse fill=\"none\" stroke=\"#000000\" cx=\"11658\" cy=\"-105\" rx=\"27\" ry=\"18\"/>\n<text text-anchor=\"middle\" x=\"11658\" y=\"-101.3\" font-family=\"Times,serif\" font-size=\"14.00\" fill=\"#000000\">L</text>\n</g>\n<!-- R&#45;Distance268&#45;&gt;L273 -->\n<g id=\"edge277\" class=\"edge\">\n<title>R&#45;Distance268&#45;&gt;L273</title>\n<path fill=\"none\" stroke=\"#000000\" d=\"M11686.5408,-173.9735C11681.5027,-161.7983 11674.7637,-145.5122 11669.0991,-131.8228\"/>\n<polygon fill=\"#000000\" stroke=\"#000000\" points=\"11672.2617,-130.3116 11665.204,-122.4097 11665.7935,-132.9881 11672.2617,-130.3116\"/>\n<text text-anchor=\"middle\" x=\"11683\" y=\"-144.8\" font-family=\"Times,serif\" font-size=\"14.00\" fill=\"#000000\">3</text>\n</g>\n<!-- L274 -->\n<g id=\"node279\" class=\"node\">\n<title>L274</title>\n<ellipse fill=\"none\" stroke=\"#000000\" cx=\"11730\" cy=\"-105\" rx=\"27\" ry=\"18\"/>\n<text text-anchor=\"middle\" x=\"11730\" y=\"-101.3\" font-family=\"Times,serif\" font-size=\"14.00\" fill=\"#000000\">L</text>\n</g>\n<!-- R&#45;Distance268&#45;&gt;L274 -->\n<g id=\"edge278\" class=\"edge\">\n<title>R&#45;Distance268&#45;&gt;L274</title>\n<path fill=\"none\" stroke=\"#000000\" d=\"M11701.4592,-173.9735C11706.4973,-161.7983 11713.2363,-145.5122 11718.9009,-131.8228\"/>\n<polygon fill=\"#000000\" stroke=\"#000000\" points=\"11722.2065,-132.9881 11722.796,-122.4097 11715.7383,-130.3116 11722.2065,-132.9881\"/>\n<text text-anchor=\"middle\" x=\"11719\" y=\"-144.8\" font-family=\"Times,serif\" font-size=\"14.00\" fill=\"#000000\">2</text>\n</g>\n<!-- L275 -->\n<g id=\"node280\" class=\"node\">\n<title>L275</title>\n<ellipse fill=\"none\" stroke=\"#000000\" cx=\"11802\" cy=\"-105\" rx=\"27\" ry=\"18\"/>\n<text text-anchor=\"middle\" x=\"11802\" y=\"-101.3\" font-family=\"Times,serif\" font-size=\"14.00\" fill=\"#000000\">L</text>\n</g>\n<!-- R&#45;Distance268&#45;&gt;L275 -->\n<g id=\"edge279\" class=\"edge\">\n<title>R&#45;Distance268&#45;&gt;L275</title>\n<path fill=\"none\" stroke=\"#000000\" d=\"M11714.5682,-175.4312C11732.2679,-161.1731 11757.8678,-140.5509 11776.7959,-125.3033\"/>\n<polygon fill=\"#000000\" stroke=\"#000000\" points=\"11779.1216,-127.9243 11784.7134,-118.9253 11774.7302,-122.473 11779.1216,-127.9243\"/>\n<text text-anchor=\"middle\" x=\"11759\" y=\"-144.8\" font-family=\"Times,serif\" font-size=\"14.00\" fill=\"#000000\">1</text>\n</g>\n<!-- L276 -->\n<g id=\"node281\" class=\"node\">\n<title>L276</title>\n<ellipse fill=\"none\" stroke=\"#000000\" cx=\"11874\" cy=\"-105\" rx=\"27\" ry=\"18\"/>\n<text text-anchor=\"middle\" x=\"11874\" y=\"-101.3\" font-family=\"Times,serif\" font-size=\"14.00\" fill=\"#000000\">L</text>\n</g>\n<!-- R&#45;Distance268&#45;&gt;L276 -->\n<g id=\"edge280\" class=\"edge\">\n<title>R&#45;Distance268&#45;&gt;L276</title>\n<path fill=\"none\" stroke=\"#000000\" d=\"M11724.9716,-177.3439C11754.1823,-163.4774 11799.1584,-142.0145 11838,-123 11839.7416,-122.1474 11841.5286,-121.2682 11843.3308,-120.378\"/>\n<polygon fill=\"#000000\" stroke=\"#000000\" points=\"11844.9278,-123.4929 11852.3272,-115.91 11841.8141,-117.2235 11844.9278,-123.4929\"/>\n<text text-anchor=\"middle\" x=\"11803\" y=\"-144.8\" font-family=\"Times,serif\" font-size=\"14.00\" fill=\"#000000\">4</text>\n</g>\n<!-- B270 -->\n<g id=\"node275\" class=\"node\">\n<title>B270</title>\n<ellipse fill=\"none\" stroke=\"#000000\" cx=\"11501\" cy=\"-18\" rx=\"27\" ry=\"18\"/>\n<text text-anchor=\"middle\" x=\"11501\" y=\"-14.3\" font-family=\"Times,serif\" font-size=\"14.00\" fill=\"#000000\">B</text>\n</g>\n<!-- L&#45;Distance269&#45;&gt;B270 -->\n<g id=\"edge274\" class=\"edge\">\n<title>L&#45;Distance269&#45;&gt;B270</title>\n<path fill=\"none\" stroke=\"#000000\" d=\"M11549.6557,-87.3943C11540.6609,-74.5655 11528.3536,-57.0126 11518.3678,-42.7704\"/>\n<polygon fill=\"#000000\" stroke=\"#000000\" points=\"11521.1073,-40.5809 11512.5005,-34.4024 11515.3757,-44.5996 11521.1073,-40.5809\"/>\n<text text-anchor=\"middle\" x=\"11540\" y=\"-57.8\" font-family=\"Times,serif\" font-size=\"14.00\" fill=\"#000000\">1</text>\n</g>\n<!-- L271 -->\n<g id=\"node276\" class=\"node\">\n<title>L271</title>\n<ellipse fill=\"none\" stroke=\"#000000\" cx=\"11573\" cy=\"-18\" rx=\"27\" ry=\"18\"/>\n<text text-anchor=\"middle\" x=\"11573\" y=\"-14.3\" font-family=\"Times,serif\" font-size=\"14.00\" fill=\"#000000\">L</text>\n</g>\n<!-- L&#45;Distance269&#45;&gt;L271 -->\n<g id=\"edge275\" class=\"edge\">\n<title>L&#45;Distance269&#45;&gt;L271</title>\n<path fill=\"none\" stroke=\"#000000\" d=\"M11564.2792,-86.9735C11565.7689,-75.1918 11567.7452,-59.5607 11569.4398,-46.1581\"/>\n<polygon fill=\"#000000\" stroke=\"#000000\" points=\"11572.9416,-46.3634 11570.7237,-36.0034 11565.9969,-45.4853 11572.9416,-46.3634\"/>\n<text text-anchor=\"middle\" x=\"11573\" y=\"-57.8\" font-family=\"Times,serif\" font-size=\"14.00\" fill=\"#000000\">5</text>\n</g>\n<!-- L272 -->\n<g id=\"node277\" class=\"node\">\n<title>L272</title>\n<ellipse fill=\"none\" stroke=\"#000000\" cx=\"11645\" cy=\"-18\" rx=\"27\" ry=\"18\"/>\n<text text-anchor=\"middle\" x=\"11645\" y=\"-14.3\" font-family=\"Times,serif\" font-size=\"14.00\" fill=\"#000000\">L</text>\n</g>\n<!-- L&#45;Distance269&#45;&gt;L272 -->\n<g id=\"edge276\" class=\"edge\">\n<title>L&#45;Distance269&#45;&gt;L272</title>\n<path fill=\"none\" stroke=\"#000000\" d=\"M11578.3981,-87.8116C11591.272,-74.3173 11609.3082,-55.4118 11623.365,-40.6776\"/>\n<polygon fill=\"#000000\" stroke=\"#000000\" points=\"11625.9342,-43.055 11630.3046,-33.4036 11620.8694,-38.2231 11625.9342,-43.055\"/>\n<text text-anchor=\"middle\" x=\"11613\" y=\"-57.8\" font-family=\"Times,serif\" font-size=\"14.00\" fill=\"#000000\">3</text>\n</g>\n<!-- L&#45;Weight278 -->\n<g id=\"node283\" class=\"node\">\n<title>L&#45;Weight278</title>\n<ellipse fill=\"none\" stroke=\"#000000\" cx=\"12172\" cy=\"-192\" rx=\"46.2923\" ry=\"18\"/>\n<text text-anchor=\"middle\" x=\"12172\" y=\"-188.3\" font-family=\"Times,serif\" font-size=\"14.00\" fill=\"#000000\">L&#45;Weight</text>\n</g>\n<!-- L&#45;Distance277&#45;&gt;L&#45;Weight278 -->\n<g id=\"edge282\" class=\"edge\">\n<title>L&#45;Distance277&#45;&gt;L&#45;Weight278</title>\n<path fill=\"none\" stroke=\"#000000\" d=\"M13103.9524,-274.566C12937.2429,-259.7965 12401.5035,-212.3328 12227.2962,-196.899\"/>\n<polygon fill=\"#000000\" stroke=\"#000000\" points=\"12227.3486,-193.39 12217.0787,-195.9937 12226.7308,-200.3627 12227.3486,-193.39\"/>\n<text text-anchor=\"middle\" x=\"12726\" y=\"-231.8\" font-family=\"Times,serif\" font-size=\"14.00\" fill=\"#000000\">5</text>\n</g>\n<!-- R&#45;Distance292 -->\n<g id=\"node297\" class=\"node\">\n<title>R&#45;Distance292</title>\n<ellipse fill=\"none\" stroke=\"#000000\" cx=\"12818\" cy=\"-192\" rx=\"51.9908\" ry=\"18\"/>\n<text text-anchor=\"middle\" x=\"12818\" y=\"-188.3\" font-family=\"Times,serif\" font-size=\"14.00\" fill=\"#000000\">R&#45;Distance</text>\n</g>\n<!-- L&#45;Distance277&#45;&gt;R&#45;Distance292 -->\n<g id=\"edge296\" class=\"edge\">\n<title>L&#45;Distance277&#45;&gt;R&#45;Distance292</title>\n<path fill=\"none\" stroke=\"#000000\" d=\"M13112.4628,-268.2448C13051.0878,-252.3531 12936.2639,-222.6219 12869.5809,-205.3558\"/>\n<polygon fill=\"#000000\" stroke=\"#000000\" points=\"12870.2639,-201.9172 12859.7058,-202.7988 12868.5092,-208.6938 12870.2639,-201.9172\"/>\n<text text-anchor=\"middle\" x=\"13011\" y=\"-231.8\" font-family=\"Times,serif\" font-size=\"14.00\" fill=\"#000000\">2</text>\n</g>\n<!-- L&#45;Weight309 -->\n<g id=\"node314\" class=\"node\">\n<title>L&#45;Weight309</title>\n<ellipse fill=\"none\" stroke=\"#000000\" cx=\"13400\" cy=\"-192\" rx=\"46.2923\" ry=\"18\"/>\n<text text-anchor=\"middle\" x=\"13400\" y=\"-188.3\" font-family=\"Times,serif\" font-size=\"14.00\" fill=\"#000000\">L&#45;Weight</text>\n</g>\n<!-- L&#45;Distance277&#45;&gt;L&#45;Weight309 -->\n<g id=\"edge313\" class=\"edge\">\n<title>L&#45;Distance277&#45;&gt;L&#45;Weight309</title>\n<path fill=\"none\" stroke=\"#000000\" d=\"M13190.2981,-266.1629C13234.3438,-250.5857 13308.5694,-224.3352 13355.8745,-207.6053\"/>\n<polygon fill=\"#000000\" stroke=\"#000000\" points=\"13357.279,-210.8212 13365.5398,-204.1871 13354.945,-204.2217 13357.279,-210.8212\"/>\n<text text-anchor=\"middle\" x=\"13296\" y=\"-231.8\" font-family=\"Times,serif\" font-size=\"14.00\" fill=\"#000000\">4</text>\n</g>\n<!-- R&#45;Distance322 -->\n<g id=\"node327\" class=\"node\">\n<title>R&#45;Distance322</title>\n<ellipse fill=\"none\" stroke=\"#000000\" cx=\"14013\" cy=\"-192\" rx=\"51.9908\" ry=\"18\"/>\n<text text-anchor=\"middle\" x=\"14013\" y=\"-188.3\" font-family=\"Times,serif\" font-size=\"14.00\" fill=\"#000000\">R&#45;Distance</text>\n</g>\n<!-- L&#45;Distance277&#45;&gt;R&#45;Distance322 -->\n<g id=\"edge326\" class=\"edge\">\n<title>L&#45;Distance277&#45;&gt;R&#45;Distance322</title>\n<path fill=\"none\" stroke=\"#000000\" d=\"M13203.5822,-273.9783C13351.8162,-258.9651 13791.3084,-214.453 13952.69,-198.1082\"/>\n<polygon fill=\"#000000\" stroke=\"#000000\" points=\"13953.3153,-201.5629 13962.9117,-197.073 13952.6099,-194.5985 13953.3153,-201.5629\"/>\n<text text-anchor=\"middle\" x=\"13639\" y=\"-231.8\" font-family=\"Times,serif\" font-size=\"14.00\" fill=\"#000000\">3</text>\n</g>\n<!-- L&#45;Weight337 -->\n<g id=\"node342\" class=\"node\">\n<title>L&#45;Weight337</title>\n<ellipse fill=\"none\" stroke=\"#000000\" cx=\"14419\" cy=\"-192\" rx=\"46.2923\" ry=\"18\"/>\n<text text-anchor=\"middle\" x=\"14419\" y=\"-188.3\" font-family=\"Times,serif\" font-size=\"14.00\" fill=\"#000000\">L&#45;Weight</text>\n</g>\n<!-- L&#45;Distance277&#45;&gt;L&#45;Weight337 -->\n<g id=\"edge341\" class=\"edge\">\n<title>L&#45;Distance277&#45;&gt;L&#45;Weight337</title>\n<path fill=\"none\" stroke=\"#000000\" d=\"M13204.7625,-275.5088C13406.6746,-261.6224 14152.0793,-210.3574 14363.039,-195.8487\"/>\n<polygon fill=\"#000000\" stroke=\"#000000\" points=\"14363.5248,-199.3237 14373.261,-195.1457 14363.0444,-192.3401 14363.5248,-199.3237\"/>\n<text text-anchor=\"middle\" x=\"13867\" y=\"-231.8\" font-family=\"Times,serif\" font-size=\"14.00\" fill=\"#000000\">1</text>\n</g>\n<!-- L279 -->\n<g id=\"node284\" class=\"node\">\n<title>L279</title>\n<ellipse fill=\"none\" stroke=\"#000000\" cx=\"11946\" cy=\"-105\" rx=\"27\" ry=\"18\"/>\n<text text-anchor=\"middle\" x=\"11946\" y=\"-101.3\" font-family=\"Times,serif\" font-size=\"14.00\" fill=\"#000000\">L</text>\n</g>\n<!-- L&#45;Weight278&#45;&gt;L279 -->\n<g id=\"edge283\" class=\"edge\">\n<title>L&#45;Weight278&#45;&gt;L279</title>\n<path fill=\"none\" stroke=\"#000000\" d=\"M12136.508,-180.4777C12097.9803,-167.6549 12034.8754,-145.7302 11982,-123 11980.2185,-122.2342 11978.4003,-121.4229 11976.5742,-120.585\"/>\n<polygon fill=\"#000000\" stroke=\"#000000\" points=\"11978.0441,-117.4084 11967.5116,-116.2609 11975.0297,-123.7261 11978.0441,-117.4084\"/>\n<text text-anchor=\"middle\" x=\"12069\" y=\"-144.8\" font-family=\"Times,serif\" font-size=\"14.00\" fill=\"#000000\">5</text>\n</g>\n<!-- R&#45;Distance280 -->\n<g id=\"node285\" class=\"node\">\n<title>R&#45;Distance280</title>\n<ellipse fill=\"none\" stroke=\"#000000\" cx=\"12043\" cy=\"-105\" rx=\"51.9908\" ry=\"18\"/>\n<text text-anchor=\"middle\" x=\"12043\" y=\"-101.3\" font-family=\"Times,serif\" font-size=\"14.00\" fill=\"#000000\">R&#45;Distance</text>\n</g>\n<!-- L&#45;Weight278&#45;&gt;R&#45;Distance280 -->\n<g id=\"edge284\" class=\"edge\">\n<title>L&#45;Weight278&#45;&gt;R&#45;Distance280</title>\n<path fill=\"none\" stroke=\"#000000\" d=\"M12148.6391,-176.245C12128.1659,-162.4375 12098.202,-142.2292 12075.4108,-126.8585\"/>\n<polygon fill=\"#000000\" stroke=\"#000000\" points=\"12077.3096,-123.9174 12067.0618,-121.2277 12073.3955,-129.721 12077.3096,-123.9174\"/>\n<text text-anchor=\"middle\" x=\"12120\" y=\"-144.8\" font-family=\"Times,serif\" font-size=\"14.00\" fill=\"#000000\">3</text>\n</g>\n<!-- L285 -->\n<g id=\"node290\" class=\"node\">\n<title>L285</title>\n<ellipse fill=\"none\" stroke=\"#000000\" cx=\"12140\" cy=\"-105\" rx=\"27\" ry=\"18\"/>\n<text text-anchor=\"middle\" x=\"12140\" y=\"-101.3\" font-family=\"Times,serif\" font-size=\"14.00\" fill=\"#000000\">L</text>\n</g>\n<!-- L&#45;Weight278&#45;&gt;L285 -->\n<g id=\"edge289\" class=\"edge\">\n<title>L&#45;Weight278&#45;&gt;L285</title>\n<path fill=\"none\" stroke=\"#000000\" d=\"M12165.3696,-173.9735C12160.9208,-161.8784 12154.9798,-145.7263 12149.9654,-132.0934\"/>\n<polygon fill=\"#000000\" stroke=\"#000000\" points=\"12153.2494,-130.8827 12146.5124,-122.7057 12146.6797,-133.2992 12153.2494,-130.8827\"/>\n<text text-anchor=\"middle\" x=\"12162\" y=\"-144.8\" font-family=\"Times,serif\" font-size=\"14.00\" fill=\"#000000\">2</text>\n</g>\n<!-- R&#45;Distance286 -->\n<g id=\"node291\" class=\"node\">\n<title>R&#45;Distance286</title>\n<ellipse fill=\"none\" stroke=\"#000000\" cx=\"12237\" cy=\"-105\" rx=\"51.9908\" ry=\"18\"/>\n<text text-anchor=\"middle\" x=\"12237\" y=\"-101.3\" font-family=\"Times,serif\" font-size=\"14.00\" fill=\"#000000\">R&#45;Distance</text>\n</g>\n<!-- L&#45;Weight278&#45;&gt;R&#45;Distance286 -->\n<g id=\"edge290\" class=\"edge\">\n<title>L&#45;Weight278&#45;&gt;R&#45;Distance286</title>\n<path fill=\"none\" stroke=\"#000000\" d=\"M12185.1537,-174.3943C12194.4927,-161.8944 12207.1825,-144.9096 12217.6701,-130.8724\"/>\n<polygon fill=\"#000000\" stroke=\"#000000\" points=\"12220.6844,-132.6855 12223.8658,-122.5796 12215.0767,-128.4958 12220.6844,-132.6855\"/>\n<text text-anchor=\"middle\" x=\"12213\" y=\"-144.8\" font-family=\"Times,serif\" font-size=\"14.00\" fill=\"#000000\">1</text>\n</g>\n<!-- L291 -->\n<g id=\"node296\" class=\"node\">\n<title>L291</title>\n<ellipse fill=\"none\" stroke=\"#000000\" cx=\"12334\" cy=\"-105\" rx=\"27\" ry=\"18\"/>\n<text text-anchor=\"middle\" x=\"12334\" y=\"-101.3\" font-family=\"Times,serif\" font-size=\"14.00\" fill=\"#000000\">L</text>\n</g>\n<!-- L&#45;Weight278&#45;&gt;L291 -->\n<g id=\"edge295\" class=\"edge\">\n<title>L&#45;Weight278&#45;&gt;L291</title>\n<path fill=\"none\" stroke=\"#000000\" d=\"M12199.4811,-177.2416C12228.3167,-161.7559 12273.5313,-137.4739 12303.4639,-121.399\"/>\n<polygon fill=\"#000000\" stroke=\"#000000\" points=\"12305.4512,-124.3046 12312.6052,-116.4898 12302.1393,-118.1376 12305.4512,-124.3046\"/>\n<text text-anchor=\"middle\" x=\"12267\" y=\"-144.8\" font-family=\"Times,serif\" font-size=\"14.00\" fill=\"#000000\">4</text>\n</g>\n<!-- B281 -->\n<g id=\"node286\" class=\"node\">\n<title>B281</title>\n<ellipse fill=\"none\" stroke=\"#000000\" cx=\"11852\" cy=\"-18\" rx=\"27\" ry=\"18\"/>\n<text text-anchor=\"middle\" x=\"11852\" y=\"-14.3\" font-family=\"Times,serif\" font-size=\"14.00\" fill=\"#000000\">B</text>\n</g>\n<!-- R&#45;Distance280&#45;&gt;B281 -->\n<g id=\"edge285\" class=\"edge\">\n<title>R&#45;Distance280&#45;&gt;B281</title>\n<path fill=\"none\" stroke=\"#000000\" d=\"M12010.1482,-90.8846C11978.6398,-77.2268 11929.8162,-55.7494 11888,-36 11886.2466,-35.1719 11884.4504,-34.3118 11882.6411,-33.4364\"/>\n<polygon fill=\"#000000\" stroke=\"#000000\" points=\"11884.1441,-30.2753 11873.6252,-29.009 11881.0586,-36.5586 11884.1441,-30.2753\"/>\n<text text-anchor=\"middle\" x=\"11964\" y=\"-57.8\" font-family=\"Times,serif\" font-size=\"14.00\" fill=\"#000000\">5</text>\n</g>\n<!-- L282 -->\n<g id=\"node287\" class=\"node\">\n<title>L282</title>\n<ellipse fill=\"none\" stroke=\"#000000\" cx=\"11924\" cy=\"-18\" rx=\"27\" ry=\"18\"/>\n<text text-anchor=\"middle\" x=\"11924\" y=\"-14.3\" font-family=\"Times,serif\" font-size=\"14.00\" fill=\"#000000\">L</text>\n</g>\n<!-- R&#45;Distance280&#45;&gt;L282 -->\n<g id=\"edge286\" class=\"edge\">\n<title>R&#45;Distance280&#45;&gt;L282</title>\n<path fill=\"none\" stroke=\"#000000\" d=\"M12020.617,-88.636C12000.7345,-74.1 11971.6454,-52.8332 11950.5846,-37.4358\"/>\n<polygon fill=\"#000000\" stroke=\"#000000\" points=\"11952.5201,-34.5152 11942.3818,-31.4388 11948.3888,-40.1661 11952.5201,-34.5152\"/>\n<text text-anchor=\"middle\" x=\"11995\" y=\"-57.8\" font-family=\"Times,serif\" font-size=\"14.00\" fill=\"#000000\">1</text>\n</g>\n<!-- L283 -->\n<g id=\"node288\" class=\"node\">\n<title>L283</title>\n<ellipse fill=\"none\" stroke=\"#000000\" cx=\"11996\" cy=\"-18\" rx=\"27\" ry=\"18\"/>\n<text text-anchor=\"middle\" x=\"11996\" y=\"-14.3\" font-family=\"Times,serif\" font-size=\"14.00\" fill=\"#000000\">L</text>\n</g>\n<!-- R&#45;Distance280&#45;&gt;L283 -->\n<g id=\"edge287\" class=\"edge\">\n<title>R&#45;Distance280&#45;&gt;L283</title>\n<path fill=\"none\" stroke=\"#000000\" d=\"M12033.2616,-86.9735C12026.5766,-74.5992 12017.5976,-57.9785 12010.1289,-44.1534\"/>\n<polygon fill=\"#000000\" stroke=\"#000000\" points=\"12013.0787,-42.25 12005.2462,-35.1154 12006.92,-45.5772 12013.0787,-42.25\"/>\n<text text-anchor=\"middle\" x=\"12027\" y=\"-57.8\" font-family=\"Times,serif\" font-size=\"14.00\" fill=\"#000000\">3</text>\n</g>\n<!-- L284 -->\n<g id=\"node289\" class=\"node\">\n<title>L284</title>\n<ellipse fill=\"none\" stroke=\"#000000\" cx=\"12068\" cy=\"-18\" rx=\"27\" ry=\"18\"/>\n<text text-anchor=\"middle\" x=\"12068\" y=\"-14.3\" font-family=\"Times,serif\" font-size=\"14.00\" fill=\"#000000\">L</text>\n</g>\n<!-- R&#45;Distance280&#45;&gt;L284 -->\n<g id=\"edge288\" class=\"edge\">\n<title>R&#45;Distance280&#45;&gt;L284</title>\n<path fill=\"none\" stroke=\"#000000\" d=\"M12048.18,-86.9735C12051.6219,-74.9958 12056.207,-59.0396 12060.1002,-45.4912\"/>\n<polygon fill=\"#000000\" stroke=\"#000000\" points=\"12063.5142,-46.2834 12062.9122,-35.7057 12056.7864,-44.3501 12063.5142,-46.2834\"/>\n<text text-anchor=\"middle\" x=\"12061\" y=\"-57.8\" font-family=\"Times,serif\" font-size=\"14.00\" fill=\"#000000\">2</text>\n</g>\n<!-- R287 -->\n<g id=\"node292\" class=\"node\">\n<title>R287</title>\n<ellipse fill=\"none\" stroke=\"#000000\" cx=\"12140\" cy=\"-18\" rx=\"27\" ry=\"18\"/>\n<text text-anchor=\"middle\" x=\"12140\" y=\"-14.3\" font-family=\"Times,serif\" font-size=\"14.00\" fill=\"#000000\">R</text>\n</g>\n<!-- R&#45;Distance286&#45;&gt;R287 -->\n<g id=\"edge291\" class=\"edge\">\n<title>R&#45;Distance286&#45;&gt;R287</title>\n<path fill=\"none\" stroke=\"#000000\" d=\"M12217.8359,-87.8116C12202.3678,-73.9381 12180.5228,-54.3452 12163.9108,-39.4458\"/>\n<polygon fill=\"#000000\" stroke=\"#000000\" points=\"12166.0084,-36.6256 12156.2271,-32.5542 12161.3346,-41.8367 12166.0084,-36.6256\"/>\n<text text-anchor=\"middle\" x=\"12199\" y=\"-57.8\" font-family=\"Times,serif\" font-size=\"14.00\" fill=\"#000000\">5</text>\n</g>\n<!-- L288 -->\n<g id=\"node293\" class=\"node\">\n<title>L288</title>\n<ellipse fill=\"none\" stroke=\"#000000\" cx=\"12212\" cy=\"-18\" rx=\"27\" ry=\"18\"/>\n<text text-anchor=\"middle\" x=\"12212\" y=\"-14.3\" font-family=\"Times,serif\" font-size=\"14.00\" fill=\"#000000\">L</text>\n</g>\n<!-- R&#45;Distance286&#45;&gt;L288 -->\n<g id=\"edge292\" class=\"edge\">\n<title>R&#45;Distance286&#45;&gt;L288</title>\n<path fill=\"none\" stroke=\"#000000\" d=\"M12231.82,-86.9735C12228.3781,-74.9958 12223.793,-59.0396 12219.8998,-45.4912\"/>\n<polygon fill=\"#000000\" stroke=\"#000000\" points=\"12223.2136,-44.3501 12217.0878,-35.7057 12216.4858,-46.2834 12223.2136,-44.3501\"/>\n<text text-anchor=\"middle\" x=\"12230\" y=\"-57.8\" font-family=\"Times,serif\" font-size=\"14.00\" fill=\"#000000\">1</text>\n</g>\n<!-- R289 -->\n<g id=\"node294\" class=\"node\">\n<title>R289</title>\n<ellipse fill=\"none\" stroke=\"#000000\" cx=\"12284\" cy=\"-18\" rx=\"27\" ry=\"18\"/>\n<text text-anchor=\"middle\" x=\"12284\" y=\"-14.3\" font-family=\"Times,serif\" font-size=\"14.00\" fill=\"#000000\">R</text>\n</g>\n<!-- R&#45;Distance286&#45;&gt;R289 -->\n<g id=\"edge293\" class=\"edge\">\n<title>R&#45;Distance286&#45;&gt;R289</title>\n<path fill=\"none\" stroke=\"#000000\" d=\"M12246.7384,-86.9735C12253.4234,-74.5992 12262.4024,-57.9785 12269.8711,-44.1534\"/>\n<polygon fill=\"#000000\" stroke=\"#000000\" points=\"12273.08,-45.5772 12274.7538,-35.1154 12266.9213,-42.25 12273.08,-45.5772\"/>\n<text text-anchor=\"middle\" x=\"12268\" y=\"-57.8\" font-family=\"Times,serif\" font-size=\"14.00\" fill=\"#000000\">3</text>\n</g>\n<!-- R290 -->\n<g id=\"node295\" class=\"node\">\n<title>R290</title>\n<ellipse fill=\"none\" stroke=\"#000000\" cx=\"12356\" cy=\"-18\" rx=\"27\" ry=\"18\"/>\n<text text-anchor=\"middle\" x=\"12356\" y=\"-14.3\" font-family=\"Times,serif\" font-size=\"14.00\" fill=\"#000000\">R</text>\n</g>\n<!-- R&#45;Distance286&#45;&gt;R290 -->\n<g id=\"edge294\" class=\"edge\">\n<title>R&#45;Distance286&#45;&gt;R290</title>\n<path fill=\"none\" stroke=\"#000000\" d=\"M12259.383,-88.636C12279.2655,-74.1 12308.3546,-52.8332 12329.4154,-37.4358\"/>\n<polygon fill=\"#000000\" stroke=\"#000000\" points=\"12331.6112,-40.1661 12337.6182,-31.4388 12327.4799,-34.5152 12331.6112,-40.1661\"/>\n<text text-anchor=\"middle\" x=\"12308\" y=\"-57.8\" font-family=\"Times,serif\" font-size=\"14.00\" fill=\"#000000\">2</text>\n</g>\n<!-- R293 -->\n<g id=\"node298\" class=\"node\">\n<title>R293</title>\n<ellipse fill=\"none\" stroke=\"#000000\" cx=\"12473\" cy=\"-105\" rx=\"27\" ry=\"18\"/>\n<text text-anchor=\"middle\" x=\"12473\" y=\"-101.3\" font-family=\"Times,serif\" font-size=\"14.00\" fill=\"#000000\">R</text>\n</g>\n<!-- R&#45;Distance292&#45;&gt;R293 -->\n<g id=\"edge297\" class=\"edge\">\n<title>R&#45;Distance292&#45;&gt;R293</title>\n<path fill=\"none\" stroke=\"#000000\" d=\"M12769.8724,-184.9917C12708.2117,-175.1716 12598.5962,-154.8621 12509,-123 12507.1236,-122.3327 12505.2188,-121.5909 12503.3153,-120.7995\"/>\n<polygon fill=\"#000000\" stroke=\"#000000\" points=\"12504.4964,-117.4919 12493.9441,-116.5435 12501.6018,-123.8654 12504.4964,-117.4919\"/>\n<text text-anchor=\"middle\" x=\"12622\" y=\"-144.8\" font-family=\"Times,serif\" font-size=\"14.00\" fill=\"#000000\">4</text>\n</g>\n<!-- L&#45;Weight294 -->\n<g id=\"node299\" class=\"node\">\n<title>L&#45;Weight294</title>\n<ellipse fill=\"none\" stroke=\"#000000\" cx=\"12564\" cy=\"-105\" rx=\"46.2923\" ry=\"18\"/>\n<text text-anchor=\"middle\" x=\"12564\" y=\"-101.3\" font-family=\"Times,serif\" font-size=\"14.00\" fill=\"#000000\">L&#45;Weight</text>\n</g>\n<!-- R&#45;Distance292&#45;&gt;L&#45;Weight294 -->\n<g id=\"edge298\" class=\"edge\">\n<title>R&#45;Distance292&#45;&gt;L&#45;Weight294</title>\n<path fill=\"none\" stroke=\"#000000\" d=\"M12780.7942,-179.2563C12735.0299,-163.5811 12657.4163,-136.9969 12608.5292,-120.2521\"/>\n<polygon fill=\"#000000\" stroke=\"#000000\" points=\"12609.4486,-116.8675 12598.854,-116.9382 12607.1803,-123.4898 12609.4486,-116.8675\"/>\n<text text-anchor=\"middle\" x=\"12711\" y=\"-144.8\" font-family=\"Times,serif\" font-size=\"14.00\" fill=\"#000000\">2</text>\n</g>\n<!-- L&#45;Weight297 -->\n<g id=\"node302\" class=\"node\">\n<title>L&#45;Weight297</title>\n<ellipse fill=\"none\" stroke=\"#000000\" cx=\"12752\" cy=\"-105\" rx=\"46.2923\" ry=\"18\"/>\n<text text-anchor=\"middle\" x=\"12752\" y=\"-101.3\" font-family=\"Times,serif\" font-size=\"14.00\" fill=\"#000000\">L&#45;Weight</text>\n</g>\n<!-- R&#45;Distance292&#45;&gt;L&#45;Weight297 -->\n<g id=\"edge301\" class=\"edge\">\n<title>R&#45;Distance292&#45;&gt;L&#45;Weight297</title>\n<path fill=\"none\" stroke=\"#000000\" d=\"M12804.6439,-174.3943C12795.0989,-161.8122 12782.1066,-144.6859 12771.4174,-130.5957\"/>\n<polygon fill=\"#000000\" stroke=\"#000000\" points=\"12773.9433,-128.1342 12765.111,-122.2827 12768.3665,-132.365 12773.9433,-128.1342\"/>\n<text text-anchor=\"middle\" x=\"12793\" y=\"-144.8\" font-family=\"Times,serif\" font-size=\"14.00\" fill=\"#000000\">1</text>\n</g>\n<!-- L&#45;Weight303 -->\n<g id=\"node308\" class=\"node\">\n<title>L&#45;Weight303</title>\n<ellipse fill=\"none\" stroke=\"#000000\" cx=\"12968\" cy=\"-105\" rx=\"46.2923\" ry=\"18\"/>\n<text text-anchor=\"middle\" x=\"12968\" y=\"-101.3\" font-family=\"Times,serif\" font-size=\"14.00\" fill=\"#000000\">L&#45;Weight</text>\n</g>\n<!-- R&#45;Distance292&#45;&gt;L&#45;Weight303 -->\n<g id=\"edge307\" class=\"edge\">\n<title>R&#45;Distance292&#45;&gt;L&#45;Weight303</title>\n<path fill=\"none\" stroke=\"#000000\" d=\"M12844.817,-176.4461C12869.5741,-162.087 12906.4781,-140.6827 12933.4377,-125.0461\"/>\n<polygon fill=\"#000000\" stroke=\"#000000\" points=\"12935.2731,-128.0277 12942.1674,-119.9829 12931.7611,-121.9725 12935.2731,-128.0277\"/>\n<text text-anchor=\"middle\" x=\"12906\" y=\"-144.8\" font-family=\"Times,serif\" font-size=\"14.00\" fill=\"#000000\">3</text>\n</g>\n<!-- R308 -->\n<g id=\"node313\" class=\"node\">\n<title>R308</title>\n<ellipse fill=\"none\" stroke=\"#000000\" cx=\"13059\" cy=\"-105\" rx=\"27\" ry=\"18\"/>\n<text text-anchor=\"middle\" x=\"13059\" y=\"-101.3\" font-family=\"Times,serif\" font-size=\"14.00\" fill=\"#000000\">R</text>\n</g>\n<!-- R&#45;Distance292&#45;&gt;R308 -->\n<g id=\"edge312\" class=\"edge\">\n<title>R&#45;Distance292&#45;&gt;R308</title>\n<path fill=\"none\" stroke=\"#000000\" d=\"M12857.9011,-180.3725C12899.6578,-167.788 12966.8303,-146.3625 13023,-123 13024.7904,-122.2553 13026.6157,-121.4606 13028.4472,-120.6354\"/>\n<polygon fill=\"#000000\" stroke=\"#000000\" points=\"13029.9783,-123.7831 13037.5245,-116.3464 13026.9877,-117.454 13029.9783,-123.7831\"/>\n<text text-anchor=\"middle\" x=\"12978\" y=\"-144.8\" font-family=\"Times,serif\" font-size=\"14.00\" fill=\"#000000\">5</text>\n</g>\n<!-- R295 -->\n<g id=\"node300\" class=\"node\">\n<title>R295</title>\n<ellipse fill=\"none\" stroke=\"#000000\" cx=\"12428\" cy=\"-18\" rx=\"27\" ry=\"18\"/>\n<text text-anchor=\"middle\" x=\"12428\" y=\"-14.3\" font-family=\"Times,serif\" font-size=\"14.00\" fill=\"#000000\">R</text>\n</g>\n<!-- L&#45;Weight294&#45;&gt;R295 -->\n<g id=\"edge299\" class=\"edge\">\n<title>L&#45;Weight294&#45;&gt;R295</title>\n<path fill=\"none\" stroke=\"#000000\" d=\"M12539.6859,-89.4461C12516.2779,-74.4719 12480.8928,-51.8358 12456.2462,-36.0693\"/>\n<polygon fill=\"#000000\" stroke=\"#000000\" points=\"12458.0038,-33.0387 12447.6938,-30.5983 12454.2316,-38.9354 12458.0038,-33.0387\"/>\n<text text-anchor=\"middle\" x=\"12509\" y=\"-57.8\" font-family=\"Times,serif\" font-size=\"14.00\" fill=\"#000000\">2</text>\n</g>\n<!-- L296 -->\n<g id=\"node301\" class=\"node\">\n<title>L296</title>\n<ellipse fill=\"none\" stroke=\"#000000\" cx=\"12500\" cy=\"-18\" rx=\"27\" ry=\"18\"/>\n<text text-anchor=\"middle\" x=\"12500\" y=\"-14.3\" font-family=\"Times,serif\" font-size=\"14.00\" fill=\"#000000\">L</text>\n</g>\n<!-- L&#45;Weight294&#45;&gt;L296 -->\n<g id=\"edge300\" class=\"edge\">\n<title>L&#45;Weight294&#45;&gt;L296</title>\n<path fill=\"none\" stroke=\"#000000\" d=\"M12551.0486,-87.3943C12541.6114,-74.5655 12528.6989,-57.0126 12518.2219,-42.7704\"/>\n<polygon fill=\"#000000\" stroke=\"#000000\" points=\"12520.8111,-40.3836 12512.0661,-34.4024 12515.1725,-44.5316 12520.8111,-40.3836\"/>\n<text text-anchor=\"middle\" x=\"12540\" y=\"-57.8\" font-family=\"Times,serif\" font-size=\"14.00\" fill=\"#000000\">5</text>\n</g>\n<!-- L298 -->\n<g id=\"node303\" class=\"node\">\n<title>L298</title>\n<ellipse fill=\"none\" stroke=\"#000000\" cx=\"12572\" cy=\"-18\" rx=\"27\" ry=\"18\"/>\n<text text-anchor=\"middle\" x=\"12572\" y=\"-14.3\" font-family=\"Times,serif\" font-size=\"14.00\" fill=\"#000000\">L</text>\n</g>\n<!-- L&#45;Weight297&#45;&gt;L298 -->\n<g id=\"edge302\" class=\"edge\">\n<title>L&#45;Weight297&#45;&gt;L298</title>\n<path fill=\"none\" stroke=\"#000000\" d=\"M12722.4206,-91.0047C12693.2608,-77.166 12647.4641,-55.3193 12608,-36 12606.2584,-35.1474 12604.4714,-34.2682 12602.6692,-33.378\"/>\n<polygon fill=\"#000000\" stroke=\"#000000\" points=\"12604.1859,-30.2235 12593.6728,-28.91 12601.0722,-36.4929 12604.1859,-30.2235\"/>\n<text text-anchor=\"middle\" x=\"12679\" y=\"-57.8\" font-family=\"Times,serif\" font-size=\"14.00\" fill=\"#000000\">2</text>\n</g>\n<!-- R299 -->\n<g id=\"node304\" class=\"node\">\n<title>R299</title>\n<ellipse fill=\"none\" stroke=\"#000000\" cx=\"12644\" cy=\"-18\" rx=\"27\" ry=\"18\"/>\n<text text-anchor=\"middle\" x=\"12644\" y=\"-14.3\" font-family=\"Times,serif\" font-size=\"14.00\" fill=\"#000000\">R</text>\n</g>\n<!-- L&#45;Weight297&#45;&gt;R299 -->\n<g id=\"edge303\" class=\"edge\">\n<title>L&#45;Weight297&#45;&gt;R299</title>\n<path fill=\"none\" stroke=\"#000000\" d=\"M12731.686,-88.636C12714.0147,-74.4007 12688.33,-53.7103 12669.3227,-38.3989\"/>\n<polygon fill=\"#000000\" stroke=\"#000000\" points=\"12671.354,-35.5408 12661.3708,-31.9931 12666.9627,-40.9921 12671.354,-35.5408\"/>\n<text text-anchor=\"middle\" x=\"12709\" y=\"-57.8\" font-family=\"Times,serif\" font-size=\"14.00\" fill=\"#000000\">1</text>\n</g>\n<!-- L300 -->\n<g id=\"node305\" class=\"node\">\n<title>L300</title>\n<ellipse fill=\"none\" stroke=\"#000000\" cx=\"12716\" cy=\"-18\" rx=\"27\" ry=\"18\"/>\n<text text-anchor=\"middle\" x=\"12716\" y=\"-14.3\" font-family=\"Times,serif\" font-size=\"14.00\" fill=\"#000000\">L</text>\n</g>\n<!-- L&#45;Weight297&#45;&gt;L300 -->\n<g id=\"edge304\" class=\"edge\">\n<title>L&#45;Weight297&#45;&gt;L300</title>\n<path fill=\"none\" stroke=\"#000000\" d=\"M12744.5408,-86.9735C12739.5027,-74.7983 12732.7637,-58.5122 12727.0991,-44.8228\"/>\n<polygon fill=\"#000000\" stroke=\"#000000\" points=\"12730.2617,-43.3116 12723.204,-35.4097 12723.7935,-45.9881 12730.2617,-43.3116\"/>\n<text text-anchor=\"middle\" x=\"12741\" y=\"-57.8\" font-family=\"Times,serif\" font-size=\"14.00\" fill=\"#000000\">4</text>\n</g>\n<!-- L301 -->\n<g id=\"node306\" class=\"node\">\n<title>L301</title>\n<ellipse fill=\"none\" stroke=\"#000000\" cx=\"12788\" cy=\"-18\" rx=\"27\" ry=\"18\"/>\n<text text-anchor=\"middle\" x=\"12788\" y=\"-14.3\" font-family=\"Times,serif\" font-size=\"14.00\" fill=\"#000000\">L</text>\n</g>\n<!-- L&#45;Weight297&#45;&gt;L301 -->\n<g id=\"edge305\" class=\"edge\">\n<title>L&#45;Weight297&#45;&gt;L301</title>\n<path fill=\"none\" stroke=\"#000000\" d=\"M12759.4592,-86.9735C12764.4973,-74.7983 12771.2363,-58.5122 12776.9009,-44.8228\"/>\n<polygon fill=\"#000000\" stroke=\"#000000\" points=\"12780.2065,-45.9881 12780.796,-35.4097 12773.7383,-43.3116 12780.2065,-45.9881\"/>\n<text text-anchor=\"middle\" x=\"12777\" y=\"-57.8\" font-family=\"Times,serif\" font-size=\"14.00\" fill=\"#000000\">3</text>\n</g>\n<!-- L302 -->\n<g id=\"node307\" class=\"node\">\n<title>L302</title>\n<ellipse fill=\"none\" stroke=\"#000000\" cx=\"12860\" cy=\"-18\" rx=\"27\" ry=\"18\"/>\n<text text-anchor=\"middle\" x=\"12860\" y=\"-14.3\" font-family=\"Times,serif\" font-size=\"14.00\" fill=\"#000000\">L</text>\n</g>\n<!-- L&#45;Weight297&#45;&gt;L302 -->\n<g id=\"edge306\" class=\"edge\">\n<title>L&#45;Weight297&#45;&gt;L302</title>\n<path fill=\"none\" stroke=\"#000000\" d=\"M12772.314,-88.636C12789.9853,-74.4007 12815.67,-53.7103 12834.6773,-38.3989\"/>\n<polygon fill=\"#000000\" stroke=\"#000000\" points=\"12837.0373,-40.9921 12842.6292,-31.9931 12832.646,-35.5408 12837.0373,-40.9921\"/>\n<text text-anchor=\"middle\" x=\"12817\" y=\"-57.8\" font-family=\"Times,serif\" font-size=\"14.00\" fill=\"#000000\">5</text>\n</g>\n<!-- L304 -->\n<g id=\"node309\" class=\"node\">\n<title>L304</title>\n<ellipse fill=\"none\" stroke=\"#000000\" cx=\"12932\" cy=\"-18\" rx=\"27\" ry=\"18\"/>\n<text text-anchor=\"middle\" x=\"12932\" y=\"-14.3\" font-family=\"Times,serif\" font-size=\"14.00\" fill=\"#000000\">L</text>\n</g>\n<!-- L&#45;Weight303&#45;&gt;L304 -->\n<g id=\"edge308\" class=\"edge\">\n<title>L&#45;Weight303&#45;&gt;L304</title>\n<path fill=\"none\" stroke=\"#000000\" d=\"M12960.5408,-86.9735C12955.5027,-74.7983 12948.7637,-58.5122 12943.0991,-44.8228\"/>\n<polygon fill=\"#000000\" stroke=\"#000000\" points=\"12946.2617,-43.3116 12939.204,-35.4097 12939.7935,-45.9881 12946.2617,-43.3116\"/>\n<text text-anchor=\"middle\" x=\"12957\" y=\"-57.8\" font-family=\"Times,serif\" font-size=\"14.00\" fill=\"#000000\">5</text>\n</g>\n<!-- R305 -->\n<g id=\"node310\" class=\"node\">\n<title>R305</title>\n<ellipse fill=\"none\" stroke=\"#000000\" cx=\"13004\" cy=\"-18\" rx=\"27\" ry=\"18\"/>\n<text text-anchor=\"middle\" x=\"13004\" y=\"-14.3\" font-family=\"Times,serif\" font-size=\"14.00\" fill=\"#000000\">R</text>\n</g>\n<!-- L&#45;Weight303&#45;&gt;R305 -->\n<g id=\"edge309\" class=\"edge\">\n<title>L&#45;Weight303&#45;&gt;R305</title>\n<path fill=\"none\" stroke=\"#000000\" d=\"M12975.4592,-86.9735C12980.4973,-74.7983 12987.2363,-58.5122 12992.9009,-44.8228\"/>\n<polygon fill=\"#000000\" stroke=\"#000000\" points=\"12996.2065,-45.9881 12996.796,-35.4097 12989.7383,-43.3116 12996.2065,-45.9881\"/>\n<text text-anchor=\"middle\" x=\"12993\" y=\"-57.8\" font-family=\"Times,serif\" font-size=\"14.00\" fill=\"#000000\">1</text>\n</g>\n<!-- R306 -->\n<g id=\"node311\" class=\"node\">\n<title>R306</title>\n<ellipse fill=\"none\" stroke=\"#000000\" cx=\"13076\" cy=\"-18\" rx=\"27\" ry=\"18\"/>\n<text text-anchor=\"middle\" x=\"13076\" y=\"-14.3\" font-family=\"Times,serif\" font-size=\"14.00\" fill=\"#000000\">R</text>\n</g>\n<!-- L&#45;Weight303&#45;&gt;R306 -->\n<g id=\"edge310\" class=\"edge\">\n<title>L&#45;Weight303&#45;&gt;R306</title>\n<path fill=\"none\" stroke=\"#000000\" d=\"M12988.314,-88.636C13005.9853,-74.4007 13031.67,-53.7103 13050.6773,-38.3989\"/>\n<polygon fill=\"#000000\" stroke=\"#000000\" points=\"13053.0373,-40.9921 13058.6292,-31.9931 13048.646,-35.5408 13053.0373,-40.9921\"/>\n<text text-anchor=\"middle\" x=\"13033\" y=\"-57.8\" font-family=\"Times,serif\" font-size=\"14.00\" fill=\"#000000\">2</text>\n</g>\n<!-- R307 -->\n<g id=\"node312\" class=\"node\">\n<title>R307</title>\n<ellipse fill=\"none\" stroke=\"#000000\" cx=\"13148\" cy=\"-18\" rx=\"27\" ry=\"18\"/>\n<text text-anchor=\"middle\" x=\"13148\" y=\"-14.3\" font-family=\"Times,serif\" font-size=\"14.00\" fill=\"#000000\">R</text>\n</g>\n<!-- L&#45;Weight303&#45;&gt;R307 -->\n<g id=\"edge311\" class=\"edge\">\n<title>L&#45;Weight303&#45;&gt;R307</title>\n<path fill=\"none\" stroke=\"#000000\" d=\"M12997.5794,-91.0047C13026.7392,-77.166 13072.5359,-55.3193 13112,-36 13113.7416,-35.1474 13115.5286,-34.2682 13117.3308,-33.378\"/>\n<polygon fill=\"#000000\" stroke=\"#000000\" points=\"13118.9278,-36.4929 13126.3272,-28.91 13115.8141,-30.2235 13118.9278,-36.4929\"/>\n<text text-anchor=\"middle\" x=\"13077\" y=\"-57.8\" font-family=\"Times,serif\" font-size=\"14.00\" fill=\"#000000\">3</text>\n</g>\n<!-- R&#45;Distance310 -->\n<g id=\"node315\" class=\"node\">\n<title>R&#45;Distance310</title>\n<ellipse fill=\"none\" stroke=\"#000000\" cx=\"13267\" cy=\"-105\" rx=\"51.9908\" ry=\"18\"/>\n<text text-anchor=\"middle\" x=\"13267\" y=\"-101.3\" font-family=\"Times,serif\" font-size=\"14.00\" fill=\"#000000\">R&#45;Distance</text>\n</g>\n<!-- L&#45;Weight309&#45;&gt;R&#45;Distance310 -->\n<g id=\"edge314\" class=\"edge\">\n<title>L&#45;Weight309&#45;&gt;R&#45;Distance310</title>\n<path fill=\"none\" stroke=\"#000000\" d=\"M13376.2223,-176.4461C13355.0211,-162.5777 13323.7731,-142.1373 13300.1258,-126.6688\"/>\n<polygon fill=\"#000000\" stroke=\"#000000\" points=\"13301.7563,-123.553 13291.4717,-121.0078 13297.9243,-129.4111 13301.7563,-123.553\"/>\n<text text-anchor=\"middle\" x=\"13346\" y=\"-144.8\" font-family=\"Times,serif\" font-size=\"14.00\" fill=\"#000000\">3</text>\n</g>\n<!-- L315 -->\n<g id=\"node320\" class=\"node\">\n<title>L315</title>\n<ellipse fill=\"none\" stroke=\"#000000\" cx=\"13364\" cy=\"-105\" rx=\"27\" ry=\"18\"/>\n<text text-anchor=\"middle\" x=\"13364\" y=\"-101.3\" font-family=\"Times,serif\" font-size=\"14.00\" fill=\"#000000\">L</text>\n</g>\n<!-- L&#45;Weight309&#45;&gt;L315 -->\n<g id=\"edge319\" class=\"edge\">\n<title>L&#45;Weight309&#45;&gt;L315</title>\n<path fill=\"none\" stroke=\"#000000\" d=\"M13392.5408,-173.9735C13387.5027,-161.7983 13380.7637,-145.5122 13375.0991,-131.8228\"/>\n<polygon fill=\"#000000\" stroke=\"#000000\" points=\"13378.2617,-130.3116 13371.204,-122.4097 13371.7935,-132.9881 13378.2617,-130.3116\"/>\n<text text-anchor=\"middle\" x=\"13389\" y=\"-144.8\" font-family=\"Times,serif\" font-size=\"14.00\" fill=\"#000000\">5</text>\n</g>\n<!-- R316 -->\n<g id=\"node321\" class=\"node\">\n<title>R316</title>\n<ellipse fill=\"none\" stroke=\"#000000\" cx=\"13436\" cy=\"-105\" rx=\"27\" ry=\"18\"/>\n<text text-anchor=\"middle\" x=\"13436\" y=\"-101.3\" font-family=\"Times,serif\" font-size=\"14.00\" fill=\"#000000\">R</text>\n</g>\n<!-- L&#45;Weight309&#45;&gt;R316 -->\n<g id=\"edge320\" class=\"edge\">\n<title>L&#45;Weight309&#45;&gt;R316</title>\n<path fill=\"none\" stroke=\"#000000\" d=\"M13407.4592,-173.9735C13412.4973,-161.7983 13419.2363,-145.5122 13424.9009,-131.8228\"/>\n<polygon fill=\"#000000\" stroke=\"#000000\" points=\"13428.2065,-132.9881 13428.796,-122.4097 13421.7383,-130.3116 13428.2065,-132.9881\"/>\n<text text-anchor=\"middle\" x=\"13425\" y=\"-144.8\" font-family=\"Times,serif\" font-size=\"14.00\" fill=\"#000000\">1</text>\n</g>\n<!-- L317 -->\n<g id=\"node322\" class=\"node\">\n<title>L317</title>\n<ellipse fill=\"none\" stroke=\"#000000\" cx=\"13508\" cy=\"-105\" rx=\"27\" ry=\"18\"/>\n<text text-anchor=\"middle\" x=\"13508\" y=\"-101.3\" font-family=\"Times,serif\" font-size=\"14.00\" fill=\"#000000\">L</text>\n</g>\n<!-- L&#45;Weight309&#45;&gt;L317 -->\n<g id=\"edge321\" class=\"edge\">\n<title>L&#45;Weight309&#45;&gt;L317</title>\n<path fill=\"none\" stroke=\"#000000\" d=\"M13420.314,-175.636C13437.9853,-161.4007 13463.67,-140.7103 13482.6773,-125.3989\"/>\n<polygon fill=\"#000000\" stroke=\"#000000\" points=\"13485.0373,-127.9921 13490.6292,-118.9931 13480.646,-122.5408 13485.0373,-127.9921\"/>\n<text text-anchor=\"middle\" x=\"13465\" y=\"-144.8\" font-family=\"Times,serif\" font-size=\"14.00\" fill=\"#000000\">4</text>\n</g>\n<!-- R&#45;Distance318 -->\n<g id=\"node323\" class=\"node\">\n<title>R&#45;Distance318</title>\n<ellipse fill=\"none\" stroke=\"#000000\" cx=\"13605\" cy=\"-105\" rx=\"51.9908\" ry=\"18\"/>\n<text text-anchor=\"middle\" x=\"13605\" y=\"-101.3\" font-family=\"Times,serif\" font-size=\"14.00\" fill=\"#000000\">R&#45;Distance</text>\n</g>\n<!-- L&#45;Weight309&#45;&gt;R&#45;Distance318 -->\n<g id=\"edge322\" class=\"edge\">\n<title>L&#45;Weight309&#45;&gt;R&#45;Distance318</title>\n<path fill=\"none\" stroke=\"#000000\" d=\"M13431.582,-178.5969C13466.6815,-163.701 13523.5425,-139.5698 13562.5224,-123.0271\"/>\n<polygon fill=\"#000000\" stroke=\"#000000\" points=\"13564.1852,-126.1236 13572.0232,-118.995 13561.4505,-119.6799 13564.1852,-126.1236\"/>\n<text text-anchor=\"middle\" x=\"13519\" y=\"-144.8\" font-family=\"Times,serif\" font-size=\"14.00\" fill=\"#000000\">2</text>\n</g>\n<!-- L311 -->\n<g id=\"node316\" class=\"node\">\n<title>L311</title>\n<ellipse fill=\"none\" stroke=\"#000000\" cx=\"13220\" cy=\"-18\" rx=\"27\" ry=\"18\"/>\n<text text-anchor=\"middle\" x=\"13220\" y=\"-14.3\" font-family=\"Times,serif\" font-size=\"14.00\" fill=\"#000000\">L</text>\n</g>\n<!-- R&#45;Distance310&#45;&gt;L311 -->\n<g id=\"edge315\" class=\"edge\">\n<title>R&#45;Distance310&#45;&gt;L311</title>\n<path fill=\"none\" stroke=\"#000000\" d=\"M13257.2616,-86.9735C13250.5766,-74.5992 13241.5976,-57.9785 13234.1289,-44.1534\"/>\n<polygon fill=\"#000000\" stroke=\"#000000\" points=\"13237.0787,-42.25 13229.2462,-35.1154 13230.92,-45.5772 13237.0787,-42.25\"/>\n<text text-anchor=\"middle\" x=\"13251\" y=\"-57.8\" font-family=\"Times,serif\" font-size=\"14.00\" fill=\"#000000\">1</text>\n</g>\n<!-- L312 -->\n<g id=\"node317\" class=\"node\">\n<title>L312</title>\n<ellipse fill=\"none\" stroke=\"#000000\" cx=\"13292\" cy=\"-18\" rx=\"27\" ry=\"18\"/>\n<text text-anchor=\"middle\" x=\"13292\" y=\"-14.3\" font-family=\"Times,serif\" font-size=\"14.00\" fill=\"#000000\">L</text>\n</g>\n<!-- R&#45;Distance310&#45;&gt;L312 -->\n<g id=\"edge316\" class=\"edge\">\n<title>R&#45;Distance310&#45;&gt;L312</title>\n<path fill=\"none\" stroke=\"#000000\" d=\"M13272.18,-86.9735C13275.6219,-74.9958 13280.207,-59.0396 13284.1002,-45.4912\"/>\n<polygon fill=\"#000000\" stroke=\"#000000\" points=\"13287.5142,-46.2834 13286.9122,-35.7057 13280.7864,-44.3501 13287.5142,-46.2834\"/>\n<text text-anchor=\"middle\" x=\"13285\" y=\"-57.8\" font-family=\"Times,serif\" font-size=\"14.00\" fill=\"#000000\">3</text>\n</g>\n<!-- L313 -->\n<g id=\"node318\" class=\"node\">\n<title>L313</title>\n<ellipse fill=\"none\" stroke=\"#000000\" cx=\"13364\" cy=\"-18\" rx=\"27\" ry=\"18\"/>\n<text text-anchor=\"middle\" x=\"13364\" y=\"-14.3\" font-family=\"Times,serif\" font-size=\"14.00\" fill=\"#000000\">L</text>\n</g>\n<!-- R&#45;Distance310&#45;&gt;L313 -->\n<g id=\"edge317\" class=\"edge\">\n<title>R&#45;Distance310&#45;&gt;L313</title>\n<path fill=\"none\" stroke=\"#000000\" d=\"M13286.1641,-87.8116C13301.6322,-73.9381 13323.4772,-54.3452 13340.0892,-39.4458\"/>\n<polygon fill=\"#000000\" stroke=\"#000000\" points=\"13342.6654,-41.8367 13347.7729,-32.5542 13337.9916,-36.6256 13342.6654,-41.8367\"/>\n<text text-anchor=\"middle\" x=\"13326\" y=\"-57.8\" font-family=\"Times,serif\" font-size=\"14.00\" fill=\"#000000\">2</text>\n</g>\n<!-- R314 -->\n<g id=\"node319\" class=\"node\">\n<title>R314</title>\n<ellipse fill=\"none\" stroke=\"#000000\" cx=\"13436\" cy=\"-18\" rx=\"27\" ry=\"18\"/>\n<text text-anchor=\"middle\" x=\"13436\" y=\"-14.3\" font-family=\"Times,serif\" font-size=\"14.00\" fill=\"#000000\">R</text>\n</g>\n<!-- R&#45;Distance310&#45;&gt;R314 -->\n<g id=\"edge318\" class=\"edge\">\n<title>R&#45;Distance310&#45;&gt;R314</title>\n<path fill=\"none\" stroke=\"#000000\" d=\"M13296.0521,-90.0442C13326.5851,-74.326 13374.411,-49.7056 13405.4835,-33.7097\"/>\n<polygon fill=\"#000000\" stroke=\"#000000\" points=\"13407.2621,-36.7307 13414.5512,-29.0417 13404.0581,-30.5069 13407.2621,-36.7307\"/>\n<text text-anchor=\"middle\" x=\"13366\" y=\"-57.8\" font-family=\"Times,serif\" font-size=\"14.00\" fill=\"#000000\">5</text>\n</g>\n<!-- R319 -->\n<g id=\"node324\" class=\"node\">\n<title>R319</title>\n<ellipse fill=\"none\" stroke=\"#000000\" cx=\"13508\" cy=\"-18\" rx=\"27\" ry=\"18\"/>\n<text text-anchor=\"middle\" x=\"13508\" y=\"-14.3\" font-family=\"Times,serif\" font-size=\"14.00\" fill=\"#000000\">R</text>\n</g>\n<!-- R&#45;Distance318&#45;&gt;R319 -->\n<g id=\"edge323\" class=\"edge\">\n<title>R&#45;Distance318&#45;&gt;R319</title>\n<path fill=\"none\" stroke=\"#000000\" d=\"M13585.8359,-87.8116C13570.3678,-73.9381 13548.5228,-54.3452 13531.9108,-39.4458\"/>\n<polygon fill=\"#000000\" stroke=\"#000000\" points=\"13534.0084,-36.6256 13524.2271,-32.5542 13529.3346,-41.8367 13534.0084,-36.6256\"/>\n<text text-anchor=\"middle\" x=\"13567\" y=\"-57.8\" font-family=\"Times,serif\" font-size=\"14.00\" fill=\"#000000\">3</text>\n</g>\n<!-- L320 -->\n<g id=\"node325\" class=\"node\">\n<title>L320</title>\n<ellipse fill=\"none\" stroke=\"#000000\" cx=\"13580\" cy=\"-18\" rx=\"27\" ry=\"18\"/>\n<text text-anchor=\"middle\" x=\"13580\" y=\"-14.3\" font-family=\"Times,serif\" font-size=\"14.00\" fill=\"#000000\">L</text>\n</g>\n<!-- R&#45;Distance318&#45;&gt;L320 -->\n<g id=\"edge324\" class=\"edge\">\n<title>R&#45;Distance318&#45;&gt;L320</title>\n<path fill=\"none\" stroke=\"#000000\" d=\"M13599.82,-86.9735C13596.3781,-74.9958 13591.793,-59.0396 13587.8998,-45.4912\"/>\n<polygon fill=\"#000000\" stroke=\"#000000\" points=\"13591.2136,-44.3501 13585.0878,-35.7057 13584.4858,-46.2834 13591.2136,-44.3501\"/>\n<text text-anchor=\"middle\" x=\"13598\" y=\"-57.8\" font-family=\"Times,serif\" font-size=\"14.00\" fill=\"#000000\">1</text>\n</g>\n<!-- L321 -->\n<g id=\"node326\" class=\"node\">\n<title>L321</title>\n<ellipse fill=\"none\" stroke=\"#000000\" cx=\"13652\" cy=\"-18\" rx=\"27\" ry=\"18\"/>\n<text text-anchor=\"middle\" x=\"13652\" y=\"-14.3\" font-family=\"Times,serif\" font-size=\"14.00\" fill=\"#000000\">L</text>\n</g>\n<!-- R&#45;Distance318&#45;&gt;L321 -->\n<g id=\"edge325\" class=\"edge\">\n<title>R&#45;Distance318&#45;&gt;L321</title>\n<path fill=\"none\" stroke=\"#000000\" d=\"M13614.7384,-86.9735C13621.4234,-74.5992 13630.4024,-57.9785 13637.8711,-44.1534\"/>\n<polygon fill=\"#000000\" stroke=\"#000000\" points=\"13641.08,-45.5772 13642.7538,-35.1154 13634.9213,-42.25 13641.08,-45.5772\"/>\n<text text-anchor=\"middle\" x=\"13636\" y=\"-57.8\" font-family=\"Times,serif\" font-size=\"14.00\" fill=\"#000000\">2</text>\n</g>\n<!-- L&#45;Weight323 -->\n<g id=\"node328\" class=\"node\">\n<title>L&#45;Weight323</title>\n<ellipse fill=\"none\" stroke=\"#000000\" cx=\"13796\" cy=\"-105\" rx=\"46.2923\" ry=\"18\"/>\n<text text-anchor=\"middle\" x=\"13796\" y=\"-101.3\" font-family=\"Times,serif\" font-size=\"14.00\" fill=\"#000000\">L&#45;Weight</text>\n</g>\n<!-- R&#45;Distance322&#45;&gt;L&#45;Weight323 -->\n<g id=\"edge327\" class=\"edge\">\n<title>R&#45;Distance322&#45;&gt;L&#45;Weight323</title>\n<path fill=\"none\" stroke=\"#000000\" d=\"M13978.6157,-178.2146C13940.4455,-162.9113 13878.8332,-138.2096 13837.8798,-121.7905\"/>\n<polygon fill=\"#000000\" stroke=\"#000000\" points=\"13839.0356,-118.4832 13828.4514,-118.0105 13836.4307,-124.9804 13839.0356,-118.4832\"/>\n<text text-anchor=\"middle\" x=\"13922\" y=\"-144.8\" font-family=\"Times,serif\" font-size=\"14.00\" fill=\"#000000\">2</text>\n</g>\n<!-- L&#45;Weight326 -->\n<g id=\"node331\" class=\"node\">\n<title>L&#45;Weight326</title>\n<ellipse fill=\"none\" stroke=\"#000000\" cx=\"13949\" cy=\"-105\" rx=\"46.2923\" ry=\"18\"/>\n<text text-anchor=\"middle\" x=\"13949\" y=\"-101.3\" font-family=\"Times,serif\" font-size=\"14.00\" fill=\"#000000\">L&#45;Weight</text>\n</g>\n<!-- R&#45;Distance322&#45;&gt;L&#45;Weight326 -->\n<g id=\"edge330\" class=\"edge\">\n<title>R&#45;Distance322&#45;&gt;L&#45;Weight326</title>\n<path fill=\"none\" stroke=\"#000000\" d=\"M14000.0486,-174.3943C13990.8534,-161.8944 13978.3588,-144.9096 13968.0325,-130.8724\"/>\n<polygon fill=\"#000000\" stroke=\"#000000\" points=\"13970.6771,-128.5608 13961.9321,-122.5796 13965.0385,-132.7088 13970.6771,-128.5608\"/>\n<text text-anchor=\"middle\" x=\"13989\" y=\"-144.8\" font-family=\"Times,serif\" font-size=\"14.00\" fill=\"#000000\">5</text>\n</g>\n<!-- L&#45;Weight330 -->\n<g id=\"node335\" class=\"node\">\n<title>L&#45;Weight330</title>\n<ellipse fill=\"none\" stroke=\"#000000\" cx=\"14076\" cy=\"-105\" rx=\"46.2923\" ry=\"18\"/>\n<text text-anchor=\"middle\" x=\"14076\" y=\"-101.3\" font-family=\"Times,serif\" font-size=\"14.00\" fill=\"#000000\">L&#45;Weight</text>\n</g>\n<!-- R&#45;Distance322&#45;&gt;L&#45;Weight330 -->\n<g id=\"edge334\" class=\"edge\">\n<title>R&#45;Distance322&#45;&gt;L&#45;Weight330</title>\n<path fill=\"none\" stroke=\"#000000\" d=\"M14025.749,-174.3943C14034.8006,-161.8944 14047.0999,-144.9096 14057.2648,-130.8724\"/>\n<polygon fill=\"#000000\" stroke=\"#000000\" points=\"14060.2396,-132.7318 14063.27,-122.5796 14054.57,-128.6262 14060.2396,-132.7318\"/>\n<text text-anchor=\"middle\" x=\"14053\" y=\"-144.8\" font-family=\"Times,serif\" font-size=\"14.00\" fill=\"#000000\">4</text>\n</g>\n<!-- L335 -->\n<g id=\"node340\" class=\"node\">\n<title>L335</title>\n<ellipse fill=\"none\" stroke=\"#000000\" cx=\"14167\" cy=\"-105\" rx=\"27\" ry=\"18\"/>\n<text text-anchor=\"middle\" x=\"14167\" y=\"-101.3\" font-family=\"Times,serif\" font-size=\"14.00\" fill=\"#000000\">L</text>\n</g>\n<!-- R&#45;Distance322&#45;&gt;L335 -->\n<g id=\"edge339\" class=\"edge\">\n<title>R&#45;Distance322&#45;&gt;L335</title>\n<path fill=\"none\" stroke=\"#000000\" d=\"M14040.1776,-176.6464C14067.3301,-161.307 14108.9677,-137.7845 14137.056,-121.9164\"/>\n<polygon fill=\"#000000\" stroke=\"#000000\" points=\"14139.0365,-124.8175 14146.0217,-116.8514 14135.5934,-118.7228 14139.0365,-124.8175\"/>\n<text text-anchor=\"middle\" x=\"14104\" y=\"-144.8\" font-family=\"Times,serif\" font-size=\"14.00\" fill=\"#000000\">1</text>\n</g>\n<!-- L336 -->\n<g id=\"node341\" class=\"node\">\n<title>L336</title>\n<ellipse fill=\"none\" stroke=\"#000000\" cx=\"14239\" cy=\"-105\" rx=\"27\" ry=\"18\"/>\n<text text-anchor=\"middle\" x=\"14239\" y=\"-101.3\" font-family=\"Times,serif\" font-size=\"14.00\" fill=\"#000000\">L</text>\n</g>\n<!-- R&#45;Distance322&#45;&gt;L336 -->\n<g id=\"edge340\" class=\"edge\">\n<title>R&#45;Distance322&#45;&gt;L336</title>\n<path fill=\"none\" stroke=\"#000000\" d=\"M14050.9919,-179.6444C14089.7086,-166.7187 14151.253,-145.2451 14203,-123 14204.7815,-122.2342 14206.5997,-121.4229 14208.4258,-120.585\"/>\n<polygon fill=\"#000000\" stroke=\"#000000\" points=\"14209.9703,-123.7261 14217.4884,-116.2609 14206.9559,-117.4084 14209.9703,-123.7261\"/>\n<text text-anchor=\"middle\" x=\"14161\" y=\"-144.8\" font-family=\"Times,serif\" font-size=\"14.00\" fill=\"#000000\">3</text>\n</g>\n<!-- L324 -->\n<g id=\"node329\" class=\"node\">\n<title>L324</title>\n<ellipse fill=\"none\" stroke=\"#000000\" cx=\"13724\" cy=\"-18\" rx=\"27\" ry=\"18\"/>\n<text text-anchor=\"middle\" x=\"13724\" y=\"-14.3\" font-family=\"Times,serif\" font-size=\"14.00\" fill=\"#000000\">L</text>\n</g>\n<!-- L&#45;Weight323&#45;&gt;L324 -->\n<g id=\"edge328\" class=\"edge\">\n<title>L&#45;Weight323&#45;&gt;L324</title>\n<path fill=\"none\" stroke=\"#000000\" d=\"M13781.7751,-87.8116C13770.9494,-74.7305 13755.9155,-56.5645 13743.8973,-42.0425\"/>\n<polygon fill=\"#000000\" stroke=\"#000000\" points=\"13746.2963,-39.4518 13737.2242,-33.9793 13740.9036,-43.9148 13746.2963,-39.4518\"/>\n<text text-anchor=\"middle\" x=\"13769\" y=\"-57.8\" font-family=\"Times,serif\" font-size=\"14.00\" fill=\"#000000\">3</text>\n</g>\n<!-- B325 -->\n<g id=\"node330\" class=\"node\">\n<title>B325</title>\n<ellipse fill=\"none\" stroke=\"#000000\" cx=\"13796\" cy=\"-18\" rx=\"27\" ry=\"18\"/>\n<text text-anchor=\"middle\" x=\"13796\" y=\"-14.3\" font-family=\"Times,serif\" font-size=\"14.00\" fill=\"#000000\">B</text>\n</g>\n<!-- L&#45;Weight323&#45;&gt;B325 -->\n<g id=\"edge329\" class=\"edge\">\n<title>L&#45;Weight323&#45;&gt;B325</title>\n<path fill=\"none\" stroke=\"#000000\" d=\"M13796,-86.9735C13796,-75.1918 13796,-59.5607 13796,-46.1581\"/>\n<polygon fill=\"#000000\" stroke=\"#000000\" points=\"13799.5001,-46.0033 13796,-36.0034 13792.5001,-46.0034 13799.5001,-46.0033\"/>\n<text text-anchor=\"middle\" x=\"13800\" y=\"-57.8\" font-family=\"Times,serif\" font-size=\"14.00\" fill=\"#000000\">2</text>\n</g>\n<!-- R327 -->\n<g id=\"node332\" class=\"node\">\n<title>R327</title>\n<ellipse fill=\"none\" stroke=\"#000000\" cx=\"13868\" cy=\"-18\" rx=\"27\" ry=\"18\"/>\n<text text-anchor=\"middle\" x=\"13868\" y=\"-14.3\" font-family=\"Times,serif\" font-size=\"14.00\" fill=\"#000000\">R</text>\n</g>\n<!-- L&#45;Weight326&#45;&gt;R327 -->\n<g id=\"edge331\" class=\"edge\">\n<title>L&#45;Weight326&#45;&gt;R327</title>\n<path fill=\"none\" stroke=\"#000000\" d=\"M13932.997,-87.8116C13920.5486,-74.4411 13903.1543,-55.7583 13889.4922,-41.0842\"/>\n<polygon fill=\"#000000\" stroke=\"#000000\" points=\"13891.7171,-38.3376 13882.3413,-33.4036 13886.5938,-43.1075 13891.7171,-38.3376\"/>\n<text text-anchor=\"middle\" x=\"13918\" y=\"-57.8\" font-family=\"Times,serif\" font-size=\"14.00\" fill=\"#000000\">2</text>\n</g>\n<!-- R328 -->\n<g id=\"node333\" class=\"node\">\n<title>R328</title>\n<ellipse fill=\"none\" stroke=\"#000000\" cx=\"13940\" cy=\"-18\" rx=\"27\" ry=\"18\"/>\n<text text-anchor=\"middle\" x=\"13940\" y=\"-14.3\" font-family=\"Times,serif\" font-size=\"14.00\" fill=\"#000000\">R</text>\n</g>\n<!-- L&#45;Weight326&#45;&gt;R328 -->\n<g id=\"edge332\" class=\"edge\">\n<title>L&#45;Weight326&#45;&gt;R328</title>\n<path fill=\"none\" stroke=\"#000000\" d=\"M13947.1352,-86.9735C13945.9164,-75.1918 13944.2994,-59.5607 13942.9129,-46.1581\"/>\n<polygon fill=\"#000000\" stroke=\"#000000\" points=\"13946.3729,-45.5901 13941.8624,-36.0034 13939.4101,-46.3105 13946.3729,-45.5901\"/>\n<text text-anchor=\"middle\" x=\"13950\" y=\"-57.8\" font-family=\"Times,serif\" font-size=\"14.00\" fill=\"#000000\">4</text>\n</g>\n<!-- B329 -->\n<g id=\"node334\" class=\"node\">\n<title>B329</title>\n<ellipse fill=\"none\" stroke=\"#000000\" cx=\"14012\" cy=\"-18\" rx=\"27\" ry=\"18\"/>\n<text text-anchor=\"middle\" x=\"14012\" y=\"-14.3\" font-family=\"Times,serif\" font-size=\"14.00\" fill=\"#000000\">B</text>\n</g>\n<!-- L&#45;Weight326&#45;&gt;B329 -->\n<g id=\"edge333\" class=\"edge\">\n<title>L&#45;Weight326&#45;&gt;B329</title>\n<path fill=\"none\" stroke=\"#000000\" d=\"M13961.749,-87.3943C13971.0388,-74.5655 13983.7495,-57.0126 13994.0628,-42.7704\"/>\n<polygon fill=\"#000000\" stroke=\"#000000\" points=\"13997.0921,-44.5546 14000.1224,-34.4024 13991.4225,-40.449 13997.0921,-44.5546\"/>\n<text text-anchor=\"middle\" x=\"13989\" y=\"-57.8\" font-family=\"Times,serif\" font-size=\"14.00\" fill=\"#000000\">5</text>\n</g>\n<!-- L331 -->\n<g id=\"node336\" class=\"node\">\n<title>L331</title>\n<ellipse fill=\"none\" stroke=\"#000000\" cx=\"14084\" cy=\"-18\" rx=\"27\" ry=\"18\"/>\n<text text-anchor=\"middle\" x=\"14084\" y=\"-14.3\" font-family=\"Times,serif\" font-size=\"14.00\" fill=\"#000000\">L</text>\n</g>\n<!-- L&#45;Weight330&#45;&gt;L331 -->\n<g id=\"edge335\" class=\"edge\">\n<title>L&#45;Weight330&#45;&gt;L331</title>\n<path fill=\"none\" stroke=\"#000000\" d=\"M14077.6576,-86.9735C14078.741,-75.1918 14080.1783,-59.5607 14081.4108,-46.1581\"/>\n<polygon fill=\"#000000\" stroke=\"#000000\" points=\"14084.914,-46.2819 14082.3445,-36.0034 14077.9435,-45.6408 14084.914,-46.2819\"/>\n<text text-anchor=\"middle\" x=\"14085\" y=\"-57.8\" font-family=\"Times,serif\" font-size=\"14.00\" fill=\"#000000\">5</text>\n</g>\n<!-- R332 -->\n<g id=\"node337\" class=\"node\">\n<title>R332</title>\n<ellipse fill=\"none\" stroke=\"#000000\" cx=\"14156\" cy=\"-18\" rx=\"27\" ry=\"18\"/>\n<text text-anchor=\"middle\" x=\"14156\" y=\"-14.3\" font-family=\"Times,serif\" font-size=\"14.00\" fill=\"#000000\">R</text>\n</g>\n<!-- L&#45;Weight330&#45;&gt;R332 -->\n<g id=\"edge336\" class=\"edge\">\n<title>L&#45;Weight330&#45;&gt;R332</title>\n<path fill=\"none\" stroke=\"#000000\" d=\"M14091.8054,-87.8116C14104.1002,-74.4411 14121.2797,-55.7583 14134.7731,-41.0842\"/>\n<polygon fill=\"#000000\" stroke=\"#000000\" points=\"14137.6434,-43.1337 14141.8358,-33.4036 14132.4907,-38.3955 14137.6434,-43.1337\"/>\n<text text-anchor=\"middle\" x=\"14125\" y=\"-57.8\" font-family=\"Times,serif\" font-size=\"14.00\" fill=\"#000000\">2</text>\n</g>\n<!-- R333 -->\n<g id=\"node338\" class=\"node\">\n<title>R333</title>\n<ellipse fill=\"none\" stroke=\"#000000\" cx=\"14228\" cy=\"-18\" rx=\"27\" ry=\"18\"/>\n<text text-anchor=\"middle\" x=\"14228\" y=\"-14.3\" font-family=\"Times,serif\" font-size=\"14.00\" fill=\"#000000\">R</text>\n</g>\n<!-- L&#45;Weight330&#45;&gt;R333 -->\n<g id=\"edge337\" class=\"edge\">\n<title>L&#45;Weight330&#45;&gt;R333</title>\n<path fill=\"none\" stroke=\"#000000\" d=\"M14102.1297,-90.0442C14128.8208,-74.767 14170.2047,-51.0802 14198.1658,-35.0762\"/>\n<polygon fill=\"#000000\" stroke=\"#000000\" points=\"14200.1528,-37.9717 14207.0931,-29.9665 14196.6755,-31.8964 14200.1528,-37.9717\"/>\n<text text-anchor=\"middle\" x=\"14166\" y=\"-57.8\" font-family=\"Times,serif\" font-size=\"14.00\" fill=\"#000000\">3</text>\n</g>\n<!-- B334 -->\n<g id=\"node339\" class=\"node\">\n<title>B334</title>\n<ellipse fill=\"none\" stroke=\"#000000\" cx=\"14300\" cy=\"-18\" rx=\"27\" ry=\"18\"/>\n<text text-anchor=\"middle\" x=\"14300\" y=\"-14.3\" font-family=\"Times,serif\" font-size=\"14.00\" fill=\"#000000\">B</text>\n</g>\n<!-- L&#45;Weight330&#45;&gt;B334 -->\n<g id=\"edge338\" class=\"edge\">\n<title>L&#45;Weight330&#45;&gt;B334</title>\n<path fill=\"none\" stroke=\"#000000\" d=\"M14111.4573,-93.3126C14149.602,-80.4333 14211.8141,-58.5392 14264,-36 14265.7802,-35.2311 14267.5974,-34.4175 14269.4227,-33.5777\"/>\n<polygon fill=\"#000000\" stroke=\"#000000\" points=\"14270.9691,-36.7179 14278.4831,-29.2486 14267.9512,-30.4019 14270.9691,-36.7179\"/>\n<text text-anchor=\"middle\" x=\"14223\" y=\"-57.8\" font-family=\"Times,serif\" font-size=\"14.00\" fill=\"#000000\">4</text>\n</g>\n<!-- R338 -->\n<g id=\"node343\" class=\"node\">\n<title>R338</title>\n<ellipse fill=\"none\" stroke=\"#000000\" cx=\"14311\" cy=\"-105\" rx=\"27\" ry=\"18\"/>\n<text text-anchor=\"middle\" x=\"14311\" y=\"-101.3\" font-family=\"Times,serif\" font-size=\"14.00\" fill=\"#000000\">R</text>\n</g>\n<!-- L&#45;Weight337&#45;&gt;R338 -->\n<g id=\"edge342\" class=\"edge\">\n<title>L&#45;Weight337&#45;&gt;R338</title>\n<path fill=\"none\" stroke=\"#000000\" d=\"M14398.686,-175.636C14381.0147,-161.4007 14355.33,-140.7103 14336.3227,-125.3989\"/>\n<polygon fill=\"#000000\" stroke=\"#000000\" points=\"14338.354,-122.5408 14328.3708,-118.9931 14333.9627,-127.9921 14338.354,-122.5408\"/>\n<text text-anchor=\"middle\" x=\"14376\" y=\"-144.8\" font-family=\"Times,serif\" font-size=\"14.00\" fill=\"#000000\">4</text>\n</g>\n<!-- R339 -->\n<g id=\"node344\" class=\"node\">\n<title>R339</title>\n<ellipse fill=\"none\" stroke=\"#000000\" cx=\"14383\" cy=\"-105\" rx=\"27\" ry=\"18\"/>\n<text text-anchor=\"middle\" x=\"14383\" y=\"-101.3\" font-family=\"Times,serif\" font-size=\"14.00\" fill=\"#000000\">R</text>\n</g>\n<!-- L&#45;Weight337&#45;&gt;R339 -->\n<g id=\"edge343\" class=\"edge\">\n<title>L&#45;Weight337&#45;&gt;R339</title>\n<path fill=\"none\" stroke=\"#000000\" d=\"M14411.5408,-173.9735C14406.5027,-161.7983 14399.7637,-145.5122 14394.0991,-131.8228\"/>\n<polygon fill=\"#000000\" stroke=\"#000000\" points=\"14397.2617,-130.3116 14390.204,-122.4097 14390.7935,-132.9881 14397.2617,-130.3116\"/>\n<text text-anchor=\"middle\" x=\"14408\" y=\"-144.8\" font-family=\"Times,serif\" font-size=\"14.00\" fill=\"#000000\">1</text>\n</g>\n<!-- R340 -->\n<g id=\"node345\" class=\"node\">\n<title>R340</title>\n<ellipse fill=\"none\" stroke=\"#000000\" cx=\"14455\" cy=\"-105\" rx=\"27\" ry=\"18\"/>\n<text text-anchor=\"middle\" x=\"14455\" y=\"-101.3\" font-family=\"Times,serif\" font-size=\"14.00\" fill=\"#000000\">R</text>\n</g>\n<!-- L&#45;Weight337&#45;&gt;R340 -->\n<g id=\"edge344\" class=\"edge\">\n<title>L&#45;Weight337&#45;&gt;R340</title>\n<path fill=\"none\" stroke=\"#000000\" d=\"M14426.4592,-173.9735C14431.4973,-161.7983 14438.2363,-145.5122 14443.9009,-131.8228\"/>\n<polygon fill=\"#000000\" stroke=\"#000000\" points=\"14447.2065,-132.9881 14447.796,-122.4097 14440.7383,-130.3116 14447.2065,-132.9881\"/>\n<text text-anchor=\"middle\" x=\"14444\" y=\"-144.8\" font-family=\"Times,serif\" font-size=\"14.00\" fill=\"#000000\">2</text>\n</g>\n<!-- R&#45;Distance341 -->\n<g id=\"node346\" class=\"node\">\n<title>R&#45;Distance341</title>\n<ellipse fill=\"none\" stroke=\"#000000\" cx=\"14552\" cy=\"-105\" rx=\"51.9908\" ry=\"18\"/>\n<text text-anchor=\"middle\" x=\"14552\" y=\"-101.3\" font-family=\"Times,serif\" font-size=\"14.00\" fill=\"#000000\">R&#45;Distance</text>\n</g>\n<!-- L&#45;Weight337&#45;&gt;R&#45;Distance341 -->\n<g id=\"edge345\" class=\"edge\">\n<title>L&#45;Weight337&#45;&gt;R&#45;Distance341</title>\n<path fill=\"none\" stroke=\"#000000\" d=\"M14442.7777,-176.4461C14463.9789,-162.5777 14495.2269,-142.1373 14518.8742,-126.6688\"/>\n<polygon fill=\"#000000\" stroke=\"#000000\" points=\"14521.0757,-129.4111 14527.5283,-121.0078 14517.2437,-123.553 14521.0757,-129.4111\"/>\n<text text-anchor=\"middle\" x=\"14498\" y=\"-144.8\" font-family=\"Times,serif\" font-size=\"14.00\" fill=\"#000000\">5</text>\n</g>\n<!-- R&#45;Distance344 -->\n<g id=\"node349\" class=\"node\">\n<title>R&#45;Distance344</title>\n<ellipse fill=\"none\" stroke=\"#000000\" cx=\"14685\" cy=\"-105\" rx=\"51.9908\" ry=\"18\"/>\n<text text-anchor=\"middle\" x=\"14685\" y=\"-101.3\" font-family=\"Times,serif\" font-size=\"14.00\" fill=\"#000000\">R&#45;Distance</text>\n</g>\n<!-- L&#45;Weight337&#45;&gt;R&#45;Distance344 -->\n<g id=\"edge348\" class=\"edge\">\n<title>L&#45;Weight337&#45;&gt;R&#45;Distance344</title>\n<path fill=\"none\" stroke=\"#000000\" d=\"M14454.5979,-180.3571C14501.6785,-164.9585 14584.8056,-137.7704 14637.2879,-120.6051\"/>\n<polygon fill=\"#000000\" stroke=\"#000000\" points=\"14638.619,-123.8522 14647.0355,-117.4169 14636.443,-117.199 14638.619,-123.8522\"/>\n<text text-anchor=\"middle\" x=\"14572\" y=\"-144.8\" font-family=\"Times,serif\" font-size=\"14.00\" fill=\"#000000\">3</text>\n</g>\n<!-- L342 -->\n<g id=\"node347\" class=\"node\">\n<title>L342</title>\n<ellipse fill=\"none\" stroke=\"#000000\" cx=\"14480\" cy=\"-18\" rx=\"27\" ry=\"18\"/>\n<text text-anchor=\"middle\" x=\"14480\" y=\"-14.3\" font-family=\"Times,serif\" font-size=\"14.00\" fill=\"#000000\">L</text>\n</g>\n<!-- R&#45;Distance341&#45;&gt;L342 -->\n<g id=\"edge346\" class=\"edge\">\n<title>R&#45;Distance341&#45;&gt;L342</title>\n<path fill=\"none\" stroke=\"#000000\" d=\"M14537.4297,-87.3943C14526.5753,-74.2785 14511.6342,-56.2247 14499.7127,-41.8195\"/>\n<polygon fill=\"#000000\" stroke=\"#000000\" points=\"14502.1682,-39.2969 14493.0961,-33.8244 14496.7754,-43.7599 14502.1682,-39.2969\"/>\n<text text-anchor=\"middle\" x=\"14525\" y=\"-57.8\" font-family=\"Times,serif\" font-size=\"14.00\" fill=\"#000000\">1</text>\n</g>\n<!-- R343 -->\n<g id=\"node348\" class=\"node\">\n<title>R343</title>\n<ellipse fill=\"none\" stroke=\"#000000\" cx=\"14552\" cy=\"-18\" rx=\"27\" ry=\"18\"/>\n<text text-anchor=\"middle\" x=\"14552\" y=\"-14.3\" font-family=\"Times,serif\" font-size=\"14.00\" fill=\"#000000\">R</text>\n</g>\n<!-- R&#45;Distance341&#45;&gt;R343 -->\n<g id=\"edge347\" class=\"edge\">\n<title>R&#45;Distance341&#45;&gt;R343</title>\n<path fill=\"none\" stroke=\"#000000\" d=\"M14552,-86.9735C14552,-75.1918 14552,-59.5607 14552,-46.1581\"/>\n<polygon fill=\"#000000\" stroke=\"#000000\" points=\"14555.5001,-46.0033 14552,-36.0034 14548.5001,-46.0034 14555.5001,-46.0033\"/>\n<text text-anchor=\"middle\" x=\"14556\" y=\"-57.8\" font-family=\"Times,serif\" font-size=\"14.00\" fill=\"#000000\">4</text>\n</g>\n<!-- B345 -->\n<g id=\"node350\" class=\"node\">\n<title>B345</title>\n<ellipse fill=\"none\" stroke=\"#000000\" cx=\"14624\" cy=\"-18\" rx=\"27\" ry=\"18\"/>\n<text text-anchor=\"middle\" x=\"14624\" y=\"-14.3\" font-family=\"Times,serif\" font-size=\"14.00\" fill=\"#000000\">B</text>\n</g>\n<!-- R&#45;Distance344&#45;&gt;B345 -->\n<g id=\"edge349\" class=\"edge\">\n<title>R&#45;Distance344&#45;&gt;B345</title>\n<path fill=\"none\" stroke=\"#000000\" d=\"M14672.6557,-87.3943C14663.6609,-74.5655 14651.3536,-57.0126 14641.3678,-42.7704\"/>\n<polygon fill=\"#000000\" stroke=\"#000000\" points=\"14644.1073,-40.5809 14635.5005,-34.4024 14638.3757,-44.5996 14644.1073,-40.5809\"/>\n<text text-anchor=\"middle\" x=\"14663\" y=\"-57.8\" font-family=\"Times,serif\" font-size=\"14.00\" fill=\"#000000\">1</text>\n</g>\n<!-- R346 -->\n<g id=\"node351\" class=\"node\">\n<title>R346</title>\n<ellipse fill=\"none\" stroke=\"#000000\" cx=\"14696\" cy=\"-18\" rx=\"27\" ry=\"18\"/>\n<text text-anchor=\"middle\" x=\"14696\" y=\"-14.3\" font-family=\"Times,serif\" font-size=\"14.00\" fill=\"#000000\">R</text>\n</g>\n<!-- R&#45;Distance344&#45;&gt;R346 -->\n<g id=\"edge350\" class=\"edge\">\n<title>R&#45;Distance344&#45;&gt;R346</title>\n<path fill=\"none\" stroke=\"#000000\" d=\"M14687.2792,-86.9735C14688.7689,-75.1918 14690.7452,-59.5607 14692.4398,-46.1581\"/>\n<polygon fill=\"#000000\" stroke=\"#000000\" points=\"14695.9416,-46.3634 14693.7237,-36.0034 14688.9969,-45.4853 14695.9416,-46.3634\"/>\n<text text-anchor=\"middle\" x=\"14696\" y=\"-57.8\" font-family=\"Times,serif\" font-size=\"14.00\" fill=\"#000000\">3</text>\n</g>\n<!-- R347 -->\n<g id=\"node352\" class=\"node\">\n<title>R347</title>\n<ellipse fill=\"none\" stroke=\"#000000\" cx=\"14768\" cy=\"-18\" rx=\"27\" ry=\"18\"/>\n<text text-anchor=\"middle\" x=\"14768\" y=\"-14.3\" font-family=\"Times,serif\" font-size=\"14.00\" fill=\"#000000\">R</text>\n</g>\n<!-- R&#45;Distance344&#45;&gt;R347 -->\n<g id=\"edge351\" class=\"edge\">\n<title>R&#45;Distance344&#45;&gt;R347</title>\n<path fill=\"none\" stroke=\"#000000\" d=\"M14701.3981,-87.8116C14714.272,-74.3173 14732.3082,-55.4118 14746.365,-40.6776\"/>\n<polygon fill=\"#000000\" stroke=\"#000000\" points=\"14748.9342,-43.055 14753.3046,-33.4036 14743.8694,-38.2231 14748.9342,-43.055\"/>\n<text text-anchor=\"middle\" x=\"14736\" y=\"-57.8\" font-family=\"Times,serif\" font-size=\"14.00\" fill=\"#000000\">4</text>\n</g>\n</g>\n</svg>\n"
          },
          "metadata": {},
          "execution_count": 36
        }
      ]
    },
    {
      "cell_type": "code",
      "source": [
        "df"
      ],
      "metadata": {
        "colab": {
          "base_uri": "https://localhost:8080/",
          "height": 419
        },
        "id": "EtbzI-I0JCij",
        "outputId": "f12b912c-59b6-4266-cb23-ff7e5edea075"
      },
      "execution_count": 37,
      "outputs": [
        {
          "output_type": "execute_result",
          "data": {
            "text/plain": [
              "    Class  L-Weight  L-Distance  R-Weight  R-Distance\n",
              "515     L         5           1         4           1\n",
              "308     L         3           3         2           4\n",
              "546     B         5           2         5           2\n",
              "149     R         2           1         5           5\n",
              "523     R         5           1         5           4\n",
              "..    ...       ...         ...       ...         ...\n",
              "560     L         5           3         3           1\n",
              "92      R         1           4         4           3\n",
              "251     L         3           1         1           2\n",
              "191     R         2           3         4           2\n",
              "471     L         4           4         5           2\n",
              "\n",
              "[438 rows x 5 columns]"
            ],
            "text/html": [
              "\n",
              "  <div id=\"df-4ad37000-220d-4f83-8d38-abc6aefd112e\">\n",
              "    <div class=\"colab-df-container\">\n",
              "      <div>\n",
              "<style scoped>\n",
              "    .dataframe tbody tr th:only-of-type {\n",
              "        vertical-align: middle;\n",
              "    }\n",
              "\n",
              "    .dataframe tbody tr th {\n",
              "        vertical-align: top;\n",
              "    }\n",
              "\n",
              "    .dataframe thead th {\n",
              "        text-align: right;\n",
              "    }\n",
              "</style>\n",
              "<table border=\"1\" class=\"dataframe\">\n",
              "  <thead>\n",
              "    <tr style=\"text-align: right;\">\n",
              "      <th></th>\n",
              "      <th>Class</th>\n",
              "      <th>L-Weight</th>\n",
              "      <th>L-Distance</th>\n",
              "      <th>R-Weight</th>\n",
              "      <th>R-Distance</th>\n",
              "    </tr>\n",
              "  </thead>\n",
              "  <tbody>\n",
              "    <tr>\n",
              "      <th>515</th>\n",
              "      <td>L</td>\n",
              "      <td>5</td>\n",
              "      <td>1</td>\n",
              "      <td>4</td>\n",
              "      <td>1</td>\n",
              "    </tr>\n",
              "    <tr>\n",
              "      <th>308</th>\n",
              "      <td>L</td>\n",
              "      <td>3</td>\n",
              "      <td>3</td>\n",
              "      <td>2</td>\n",
              "      <td>4</td>\n",
              "    </tr>\n",
              "    <tr>\n",
              "      <th>546</th>\n",
              "      <td>B</td>\n",
              "      <td>5</td>\n",
              "      <td>2</td>\n",
              "      <td>5</td>\n",
              "      <td>2</td>\n",
              "    </tr>\n",
              "    <tr>\n",
              "      <th>149</th>\n",
              "      <td>R</td>\n",
              "      <td>2</td>\n",
              "      <td>1</td>\n",
              "      <td>5</td>\n",
              "      <td>5</td>\n",
              "    </tr>\n",
              "    <tr>\n",
              "      <th>523</th>\n",
              "      <td>R</td>\n",
              "      <td>5</td>\n",
              "      <td>1</td>\n",
              "      <td>5</td>\n",
              "      <td>4</td>\n",
              "    </tr>\n",
              "    <tr>\n",
              "      <th>...</th>\n",
              "      <td>...</td>\n",
              "      <td>...</td>\n",
              "      <td>...</td>\n",
              "      <td>...</td>\n",
              "      <td>...</td>\n",
              "    </tr>\n",
              "    <tr>\n",
              "      <th>560</th>\n",
              "      <td>L</td>\n",
              "      <td>5</td>\n",
              "      <td>3</td>\n",
              "      <td>3</td>\n",
              "      <td>1</td>\n",
              "    </tr>\n",
              "    <tr>\n",
              "      <th>92</th>\n",
              "      <td>R</td>\n",
              "      <td>1</td>\n",
              "      <td>4</td>\n",
              "      <td>4</td>\n",
              "      <td>3</td>\n",
              "    </tr>\n",
              "    <tr>\n",
              "      <th>251</th>\n",
              "      <td>L</td>\n",
              "      <td>3</td>\n",
              "      <td>1</td>\n",
              "      <td>1</td>\n",
              "      <td>2</td>\n",
              "    </tr>\n",
              "    <tr>\n",
              "      <th>191</th>\n",
              "      <td>R</td>\n",
              "      <td>2</td>\n",
              "      <td>3</td>\n",
              "      <td>4</td>\n",
              "      <td>2</td>\n",
              "    </tr>\n",
              "    <tr>\n",
              "      <th>471</th>\n",
              "      <td>L</td>\n",
              "      <td>4</td>\n",
              "      <td>4</td>\n",
              "      <td>5</td>\n",
              "      <td>2</td>\n",
              "    </tr>\n",
              "  </tbody>\n",
              "</table>\n",
              "<p>438 rows × 5 columns</p>\n",
              "</div>\n",
              "      <button class=\"colab-df-convert\" onclick=\"convertToInteractive('df-4ad37000-220d-4f83-8d38-abc6aefd112e')\"\n",
              "              title=\"Convert this dataframe to an interactive table.\"\n",
              "              style=\"display:none;\">\n",
              "        \n",
              "  <svg xmlns=\"http://www.w3.org/2000/svg\" height=\"24px\"viewBox=\"0 0 24 24\"\n",
              "       width=\"24px\">\n",
              "    <path d=\"M0 0h24v24H0V0z\" fill=\"none\"/>\n",
              "    <path d=\"M18.56 5.44l.94 2.06.94-2.06 2.06-.94-2.06-.94-.94-2.06-.94 2.06-2.06.94zm-11 1L8.5 8.5l.94-2.06 2.06-.94-2.06-.94L8.5 2.5l-.94 2.06-2.06.94zm10 10l.94 2.06.94-2.06 2.06-.94-2.06-.94-.94-2.06-.94 2.06-2.06.94z\"/><path d=\"M17.41 7.96l-1.37-1.37c-.4-.4-.92-.59-1.43-.59-.52 0-1.04.2-1.43.59L10.3 9.45l-7.72 7.72c-.78.78-.78 2.05 0 2.83L4 21.41c.39.39.9.59 1.41.59.51 0 1.02-.2 1.41-.59l7.78-7.78 2.81-2.81c.8-.78.8-2.07 0-2.86zM5.41 20L4 18.59l7.72-7.72 1.47 1.35L5.41 20z\"/>\n",
              "  </svg>\n",
              "      </button>\n",
              "      \n",
              "  <style>\n",
              "    .colab-df-container {\n",
              "      display:flex;\n",
              "      flex-wrap:wrap;\n",
              "      gap: 12px;\n",
              "    }\n",
              "\n",
              "    .colab-df-convert {\n",
              "      background-color: #E8F0FE;\n",
              "      border: none;\n",
              "      border-radius: 50%;\n",
              "      cursor: pointer;\n",
              "      display: none;\n",
              "      fill: #1967D2;\n",
              "      height: 32px;\n",
              "      padding: 0 0 0 0;\n",
              "      width: 32px;\n",
              "    }\n",
              "\n",
              "    .colab-df-convert:hover {\n",
              "      background-color: #E2EBFA;\n",
              "      box-shadow: 0px 1px 2px rgba(60, 64, 67, 0.3), 0px 1px 3px 1px rgba(60, 64, 67, 0.15);\n",
              "      fill: #174EA6;\n",
              "    }\n",
              "\n",
              "    [theme=dark] .colab-df-convert {\n",
              "      background-color: #3B4455;\n",
              "      fill: #D2E3FC;\n",
              "    }\n",
              "\n",
              "    [theme=dark] .colab-df-convert:hover {\n",
              "      background-color: #434B5C;\n",
              "      box-shadow: 0px 1px 3px 1px rgba(0, 0, 0, 0.15);\n",
              "      filter: drop-shadow(0px 1px 2px rgba(0, 0, 0, 0.3));\n",
              "      fill: #FFFFFF;\n",
              "    }\n",
              "  </style>\n",
              "\n",
              "      <script>\n",
              "        const buttonEl =\n",
              "          document.querySelector('#df-4ad37000-220d-4f83-8d38-abc6aefd112e button.colab-df-convert');\n",
              "        buttonEl.style.display =\n",
              "          google.colab.kernel.accessAllowed ? 'block' : 'none';\n",
              "\n",
              "        async function convertToInteractive(key) {\n",
              "          const element = document.querySelector('#df-4ad37000-220d-4f83-8d38-abc6aefd112e');\n",
              "          const dataTable =\n",
              "            await google.colab.kernel.invokeFunction('convertToInteractive',\n",
              "                                                     [key], {});\n",
              "          if (!dataTable) return;\n",
              "\n",
              "          const docLinkHtml = 'Like what you see? Visit the ' +\n",
              "            '<a target=\"_blank\" href=https://colab.research.google.com/notebooks/data_table.ipynb>data table notebook</a>'\n",
              "            + ' to learn more about interactive tables.';\n",
              "          element.innerHTML = '';\n",
              "          dataTable['output_type'] = 'display_data';\n",
              "          await google.colab.output.renderOutput(dataTable, element);\n",
              "          const docLink = document.createElement('div');\n",
              "          docLink.innerHTML = docLinkHtml;\n",
              "          element.appendChild(docLink);\n",
              "        }\n",
              "      </script>\n",
              "    </div>\n",
              "  </div>\n",
              "  "
            ]
          },
          "metadata": {},
          "execution_count": 37
        }
      ]
    },
    {
      "cell_type": "code",
      "source": [
        "y_train_pred=d.predict(df)\n",
        "print(y_train_pred)\n",
        "print(df[target_name])\n",
        "print(accuracy_score(df[target_name].tolist(),y_train_pred))"
      ],
      "metadata": {
        "colab": {
          "base_uri": "https://localhost:8080/"
        },
        "id": "ZkMM1e3KJIM-",
        "outputId": "32ea8aad-966e-48b7-f01f-eeba4335edad"
      },
      "execution_count": 38,
      "outputs": [
        {
          "output_type": "stream",
          "name": "stdout",
          "text": [
            "['L', 'L', 'B', 'R', 'R', 'B', 'L', 'R', 'R', 'L', 'L', 'L', 'R', 'L', 'R', 'L', 'L', 'R', 'L', 'L', 'L', 'R', 'R', 'L', 'R', 'R', 'L', 'R', 'L', 'L', 'R', 'B', 'R', 'R', 'L', 'R', 'R', 'R', 'L', 'L', 'L', 'R', 'R', 'L', 'R', 'L', 'B', 'R', 'R', 'R', 'R', 'L', 'R', 'L', 'R', 'L', 'R', 'B', 'R', 'R', 'B', 'R', 'L', 'L', 'L', 'R', 'R', 'R', 'R', 'L', 'B', 'R', 'L', 'R', 'R', 'L', 'L', 'L', 'L', 'R', 'B', 'R', 'L', 'L', 'L', 'B', 'L', 'L', 'L', 'L', 'R', 'R', 'L', 'R', 'R', 'B', 'R', 'L', 'L', 'B', 'L', 'L', 'R', 'L', 'R', 'R', 'R', 'B', 'L', 'R', 'R', 'L', 'L', 'R', 'R', 'R', 'L', 'L', 'L', 'R', 'L', 'L', 'R', 'R', 'L', 'L', 'R', 'R', 'L', 'R', 'R', 'R', 'L', 'L', 'B', 'L', 'L', 'B', 'L', 'R', 'L', 'R', 'L', 'R', 'L', 'B', 'B', 'L', 'L', 'L', 'R', 'R', 'L', 'L', 'R', 'L', 'L', 'R', 'R', 'L', 'R', 'L', 'L', 'B', 'R', 'L', 'B', 'L', 'R', 'L', 'R', 'L', 'B', 'B', 'L', 'L', 'L', 'R', 'R', 'L', 'L', 'R', 'B', 'L', 'R', 'L', 'L', 'L', 'L', 'R', 'L', 'L', 'L', 'L', 'L', 'L', 'R', 'L', 'R', 'L', 'R', 'L', 'L', 'R', 'R', 'R', 'B', 'L', 'R', 'L', 'R', 'L', 'L', 'L', 'R', 'R', 'R', 'L', 'L', 'L', 'R', 'R', 'R', 'R', 'R', 'L', 'R', 'R', 'R', 'L', 'L', 'R', 'R', 'R', 'R', 'R', 'R', 'L', 'L', 'B', 'L', 'L', 'R', 'B', 'R', 'R', 'R', 'L', 'L', 'L', 'B', 'R', 'R', 'L', 'R', 'L', 'R', 'R', 'L', 'L', 'L', 'R', 'L', 'L', 'B', 'L', 'R', 'R', 'L', 'L', 'R', 'B', 'R', 'R', 'R', 'L', 'R', 'L', 'L', 'R', 'L', 'R', 'L', 'L', 'L', 'R', 'L', 'R', 'L', 'L', 'L', 'R', 'R', 'R', 'R', 'L', 'L', 'B', 'R', 'R', 'R', 'R', 'L', 'R', 'L', 'L', 'L', 'L', 'B', 'L', 'L', 'R', 'L', 'L', 'R', 'R', 'L', 'R', 'R', 'R', 'L', 'R', 'R', 'L', 'R', 'R', 'R', 'R', 'R', 'R', 'L', 'L', 'B', 'L', 'B', 'L', 'R', 'L', 'R', 'L', 'L', 'R', 'R', 'L', 'B', 'L', 'R', 'L', 'R', 'R', 'L', 'R', 'R', 'B', 'R', 'L', 'L', 'R', 'R', 'L', 'B', 'R', 'L', 'L', 'R', 'L', 'R', 'R', 'R', 'L', 'L', 'L', 'R', 'L', 'L', 'L', 'L', 'L', 'L', 'R', 'R', 'L', 'R', 'R', 'L', 'R', 'L', 'L', 'R', 'L', 'L', 'R', 'B', 'R', 'L', 'L', 'B', 'R', 'L', 'R', 'L', 'R', 'L', 'R', 'L', 'R', 'R', 'R', 'L', 'L', 'R', 'L', 'L', 'R', 'R', 'R', 'R', 'L', 'R', 'R', 'R', 'R', 'L', 'R', 'R', 'L', 'B', 'R', 'L', 'R', 'L', 'R', 'L', 'L', 'R', 'L', 'R', 'L']\n",
            "515    L\n",
            "308    L\n",
            "546    B\n",
            "149    R\n",
            "523    R\n",
            "      ..\n",
            "560    L\n",
            "92     R\n",
            "251    L\n",
            "191    R\n",
            "471    L\n",
            "Name: Class, Length: 438, dtype: object\n",
            "100.0\n"
          ]
        }
      ]
    },
    {
      "cell_type": "code",
      "source": [
        "y_test_pred=d.predict(test_df)\n",
        "accuracy_score(test_df[target_name].tolist(),y_test_pred)"
      ],
      "metadata": {
        "colab": {
          "base_uri": "https://localhost:8080/"
        },
        "id": "iPob-FHnJKc2",
        "outputId": "3612d8d2-446d-4cd0-9f1d-befb61d7cbcd"
      },
      "execution_count": 39,
      "outputs": [
        {
          "output_type": "execute_result",
          "data": {
            "text/plain": [
              "83.9572192513369"
            ]
          },
          "metadata": {},
          "execution_count": 39
        }
      ]
    },
    {
      "cell_type": "markdown",
      "source": [
        "**BALOONS DATASET**"
      ],
      "metadata": {
        "id": "qjCnoMWeKM0M"
      }
    },
    {
      "cell_type": "code",
      "source": [
        "dataset='balloons'\n",
        "split_func='IG'"
      ],
      "metadata": {
        "id": "pAHD9UliKg0o"
      },
      "execution_count": 81,
      "outputs": []
    },
    {
      "cell_type": "code",
      "source": [
        "dataset_url,target_name=datasets[dataset]\n",
        "data=pd.read_csv(dataset_url)\n",
        "data=data.applymap(lambda x: x.strip() if isinstance(x, str) else x)"
      ],
      "metadata": {
        "id": "QY_jRItRKmtV"
      },
      "execution_count": 84,
      "outputs": []
    },
    {
      "cell_type": "code",
      "source": [
        "data"
      ],
      "metadata": {
        "colab": {
          "base_uri": "https://localhost:8080/",
          "height": 669
        },
        "id": "sKmj4FTYM5HX",
        "outputId": "ed197540-e05a-4246-8992-9c61258d459e"
      },
      "execution_count": 85,
      "outputs": [
        {
          "output_type": "execute_result",
          "data": {
            "text/plain": [
              "     Color   size      act    age inflated\n",
              "0   YELLOW  SMALL  STRETCH  ADULT        T\n",
              "1   YELLOW  SMALL  STRETCH  ADULT        T\n",
              "2   YELLOW  SMALL  STRETCH  CHILD        F\n",
              "3   YELLOW  SMALL      DIP  ADULT        F\n",
              "4   YELLOW  SMALL      DIP  CHILD        F\n",
              "5   YELLOW  LARGE  STRETCH  ADULT        T\n",
              "6   YELLOW  LARGE  STRETCH  ADULT        T\n",
              "7   YELLOW  LARGE  STRETCH  CHILD        F\n",
              "8   YELLOW  LARGE      DIP  ADULT        F\n",
              "9   YELLOW  LARGE      DIP  CHILD        F\n",
              "10  PURPLE  SMALL  STRETCH  ADULT        T\n",
              "11  PURPLE  SMALL  STRETCH  ADULT        T\n",
              "12  PURPLE  SMALL  STRETCH  CHILD        F\n",
              "13  PURPLE  SMALL      DIP  ADULT        F\n",
              "14  PURPLE  SMALL      DIP  CHILD        F\n",
              "15  PURPLE  LARGE  STRETCH  ADULT        T\n",
              "16  PURPLE  LARGE  STRETCH  ADULT        T\n",
              "17  PURPLE  LARGE  STRETCH  CHILD        F\n",
              "18  PURPLE  LARGE      DIP  ADULT        F\n",
              "19  PURPLE  LARGE      DIP  CHILD        F"
            ],
            "text/html": [
              "\n",
              "  <div id=\"df-a0dd0c98-b6c6-4412-8200-4637f21bd6cc\">\n",
              "    <div class=\"colab-df-container\">\n",
              "      <div>\n",
              "<style scoped>\n",
              "    .dataframe tbody tr th:only-of-type {\n",
              "        vertical-align: middle;\n",
              "    }\n",
              "\n",
              "    .dataframe tbody tr th {\n",
              "        vertical-align: top;\n",
              "    }\n",
              "\n",
              "    .dataframe thead th {\n",
              "        text-align: right;\n",
              "    }\n",
              "</style>\n",
              "<table border=\"1\" class=\"dataframe\">\n",
              "  <thead>\n",
              "    <tr style=\"text-align: right;\">\n",
              "      <th></th>\n",
              "      <th>Color</th>\n",
              "      <th>size</th>\n",
              "      <th>act</th>\n",
              "      <th>age</th>\n",
              "      <th>inflated</th>\n",
              "    </tr>\n",
              "  </thead>\n",
              "  <tbody>\n",
              "    <tr>\n",
              "      <th>0</th>\n",
              "      <td>YELLOW</td>\n",
              "      <td>SMALL</td>\n",
              "      <td>STRETCH</td>\n",
              "      <td>ADULT</td>\n",
              "      <td>T</td>\n",
              "    </tr>\n",
              "    <tr>\n",
              "      <th>1</th>\n",
              "      <td>YELLOW</td>\n",
              "      <td>SMALL</td>\n",
              "      <td>STRETCH</td>\n",
              "      <td>ADULT</td>\n",
              "      <td>T</td>\n",
              "    </tr>\n",
              "    <tr>\n",
              "      <th>2</th>\n",
              "      <td>YELLOW</td>\n",
              "      <td>SMALL</td>\n",
              "      <td>STRETCH</td>\n",
              "      <td>CHILD</td>\n",
              "      <td>F</td>\n",
              "    </tr>\n",
              "    <tr>\n",
              "      <th>3</th>\n",
              "      <td>YELLOW</td>\n",
              "      <td>SMALL</td>\n",
              "      <td>DIP</td>\n",
              "      <td>ADULT</td>\n",
              "      <td>F</td>\n",
              "    </tr>\n",
              "    <tr>\n",
              "      <th>4</th>\n",
              "      <td>YELLOW</td>\n",
              "      <td>SMALL</td>\n",
              "      <td>DIP</td>\n",
              "      <td>CHILD</td>\n",
              "      <td>F</td>\n",
              "    </tr>\n",
              "    <tr>\n",
              "      <th>5</th>\n",
              "      <td>YELLOW</td>\n",
              "      <td>LARGE</td>\n",
              "      <td>STRETCH</td>\n",
              "      <td>ADULT</td>\n",
              "      <td>T</td>\n",
              "    </tr>\n",
              "    <tr>\n",
              "      <th>6</th>\n",
              "      <td>YELLOW</td>\n",
              "      <td>LARGE</td>\n",
              "      <td>STRETCH</td>\n",
              "      <td>ADULT</td>\n",
              "      <td>T</td>\n",
              "    </tr>\n",
              "    <tr>\n",
              "      <th>7</th>\n",
              "      <td>YELLOW</td>\n",
              "      <td>LARGE</td>\n",
              "      <td>STRETCH</td>\n",
              "      <td>CHILD</td>\n",
              "      <td>F</td>\n",
              "    </tr>\n",
              "    <tr>\n",
              "      <th>8</th>\n",
              "      <td>YELLOW</td>\n",
              "      <td>LARGE</td>\n",
              "      <td>DIP</td>\n",
              "      <td>ADULT</td>\n",
              "      <td>F</td>\n",
              "    </tr>\n",
              "    <tr>\n",
              "      <th>9</th>\n",
              "      <td>YELLOW</td>\n",
              "      <td>LARGE</td>\n",
              "      <td>DIP</td>\n",
              "      <td>CHILD</td>\n",
              "      <td>F</td>\n",
              "    </tr>\n",
              "    <tr>\n",
              "      <th>10</th>\n",
              "      <td>PURPLE</td>\n",
              "      <td>SMALL</td>\n",
              "      <td>STRETCH</td>\n",
              "      <td>ADULT</td>\n",
              "      <td>T</td>\n",
              "    </tr>\n",
              "    <tr>\n",
              "      <th>11</th>\n",
              "      <td>PURPLE</td>\n",
              "      <td>SMALL</td>\n",
              "      <td>STRETCH</td>\n",
              "      <td>ADULT</td>\n",
              "      <td>T</td>\n",
              "    </tr>\n",
              "    <tr>\n",
              "      <th>12</th>\n",
              "      <td>PURPLE</td>\n",
              "      <td>SMALL</td>\n",
              "      <td>STRETCH</td>\n",
              "      <td>CHILD</td>\n",
              "      <td>F</td>\n",
              "    </tr>\n",
              "    <tr>\n",
              "      <th>13</th>\n",
              "      <td>PURPLE</td>\n",
              "      <td>SMALL</td>\n",
              "      <td>DIP</td>\n",
              "      <td>ADULT</td>\n",
              "      <td>F</td>\n",
              "    </tr>\n",
              "    <tr>\n",
              "      <th>14</th>\n",
              "      <td>PURPLE</td>\n",
              "      <td>SMALL</td>\n",
              "      <td>DIP</td>\n",
              "      <td>CHILD</td>\n",
              "      <td>F</td>\n",
              "    </tr>\n",
              "    <tr>\n",
              "      <th>15</th>\n",
              "      <td>PURPLE</td>\n",
              "      <td>LARGE</td>\n",
              "      <td>STRETCH</td>\n",
              "      <td>ADULT</td>\n",
              "      <td>T</td>\n",
              "    </tr>\n",
              "    <tr>\n",
              "      <th>16</th>\n",
              "      <td>PURPLE</td>\n",
              "      <td>LARGE</td>\n",
              "      <td>STRETCH</td>\n",
              "      <td>ADULT</td>\n",
              "      <td>T</td>\n",
              "    </tr>\n",
              "    <tr>\n",
              "      <th>17</th>\n",
              "      <td>PURPLE</td>\n",
              "      <td>LARGE</td>\n",
              "      <td>STRETCH</td>\n",
              "      <td>CHILD</td>\n",
              "      <td>F</td>\n",
              "    </tr>\n",
              "    <tr>\n",
              "      <th>18</th>\n",
              "      <td>PURPLE</td>\n",
              "      <td>LARGE</td>\n",
              "      <td>DIP</td>\n",
              "      <td>ADULT</td>\n",
              "      <td>F</td>\n",
              "    </tr>\n",
              "    <tr>\n",
              "      <th>19</th>\n",
              "      <td>PURPLE</td>\n",
              "      <td>LARGE</td>\n",
              "      <td>DIP</td>\n",
              "      <td>CHILD</td>\n",
              "      <td>F</td>\n",
              "    </tr>\n",
              "  </tbody>\n",
              "</table>\n",
              "</div>\n",
              "      <button class=\"colab-df-convert\" onclick=\"convertToInteractive('df-a0dd0c98-b6c6-4412-8200-4637f21bd6cc')\"\n",
              "              title=\"Convert this dataframe to an interactive table.\"\n",
              "              style=\"display:none;\">\n",
              "        \n",
              "  <svg xmlns=\"http://www.w3.org/2000/svg\" height=\"24px\"viewBox=\"0 0 24 24\"\n",
              "       width=\"24px\">\n",
              "    <path d=\"M0 0h24v24H0V0z\" fill=\"none\"/>\n",
              "    <path d=\"M18.56 5.44l.94 2.06.94-2.06 2.06-.94-2.06-.94-.94-2.06-.94 2.06-2.06.94zm-11 1L8.5 8.5l.94-2.06 2.06-.94-2.06-.94L8.5 2.5l-.94 2.06-2.06.94zm10 10l.94 2.06.94-2.06 2.06-.94-2.06-.94-.94-2.06-.94 2.06-2.06.94z\"/><path d=\"M17.41 7.96l-1.37-1.37c-.4-.4-.92-.59-1.43-.59-.52 0-1.04.2-1.43.59L10.3 9.45l-7.72 7.72c-.78.78-.78 2.05 0 2.83L4 21.41c.39.39.9.59 1.41.59.51 0 1.02-.2 1.41-.59l7.78-7.78 2.81-2.81c.8-.78.8-2.07 0-2.86zM5.41 20L4 18.59l7.72-7.72 1.47 1.35L5.41 20z\"/>\n",
              "  </svg>\n",
              "      </button>\n",
              "      \n",
              "  <style>\n",
              "    .colab-df-container {\n",
              "      display:flex;\n",
              "      flex-wrap:wrap;\n",
              "      gap: 12px;\n",
              "    }\n",
              "\n",
              "    .colab-df-convert {\n",
              "      background-color: #E8F0FE;\n",
              "      border: none;\n",
              "      border-radius: 50%;\n",
              "      cursor: pointer;\n",
              "      display: none;\n",
              "      fill: #1967D2;\n",
              "      height: 32px;\n",
              "      padding: 0 0 0 0;\n",
              "      width: 32px;\n",
              "    }\n",
              "\n",
              "    .colab-df-convert:hover {\n",
              "      background-color: #E2EBFA;\n",
              "      box-shadow: 0px 1px 2px rgba(60, 64, 67, 0.3), 0px 1px 3px 1px rgba(60, 64, 67, 0.15);\n",
              "      fill: #174EA6;\n",
              "    }\n",
              "\n",
              "    [theme=dark] .colab-df-convert {\n",
              "      background-color: #3B4455;\n",
              "      fill: #D2E3FC;\n",
              "    }\n",
              "\n",
              "    [theme=dark] .colab-df-convert:hover {\n",
              "      background-color: #434B5C;\n",
              "      box-shadow: 0px 1px 3px 1px rgba(0, 0, 0, 0.15);\n",
              "      filter: drop-shadow(0px 1px 2px rgba(0, 0, 0, 0.3));\n",
              "      fill: #FFFFFF;\n",
              "    }\n",
              "  </style>\n",
              "\n",
              "      <script>\n",
              "        const buttonEl =\n",
              "          document.querySelector('#df-a0dd0c98-b6c6-4412-8200-4637f21bd6cc button.colab-df-convert');\n",
              "        buttonEl.style.display =\n",
              "          google.colab.kernel.accessAllowed ? 'block' : 'none';\n",
              "\n",
              "        async function convertToInteractive(key) {\n",
              "          const element = document.querySelector('#df-a0dd0c98-b6c6-4412-8200-4637f21bd6cc');\n",
              "          const dataTable =\n",
              "            await google.colab.kernel.invokeFunction('convertToInteractive',\n",
              "                                                     [key], {});\n",
              "          if (!dataTable) return;\n",
              "\n",
              "          const docLinkHtml = 'Like what you see? Visit the ' +\n",
              "            '<a target=\"_blank\" href=https://colab.research.google.com/notebooks/data_table.ipynb>data table notebook</a>'\n",
              "            + ' to learn more about interactive tables.';\n",
              "          element.innerHTML = '';\n",
              "          dataTable['output_type'] = 'display_data';\n",
              "          await google.colab.output.renderOutput(dataTable, element);\n",
              "          const docLink = document.createElement('div');\n",
              "          docLink.innerHTML = docLinkHtml;\n",
              "          element.appendChild(docLink);\n",
              "        }\n",
              "      </script>\n",
              "    </div>\n",
              "  </div>\n",
              "  "
            ]
          },
          "metadata": {},
          "execution_count": 85
        }
      ]
    },
    {
      "cell_type": "code",
      "source": [
        "data.dtypes"
      ],
      "metadata": {
        "colab": {
          "base_uri": "https://localhost:8080/"
        },
        "id": "8uFKBg10M9oU",
        "outputId": "1b221c75-b49c-4dc4-9b0e-626ed7896ff4"
      },
      "execution_count": 86,
      "outputs": [
        {
          "output_type": "execute_result",
          "data": {
            "text/plain": [
              "Color       object\n",
              "size        object\n",
              "act         object\n",
              "age         object\n",
              "inflated    object\n",
              "dtype: object"
            ]
          },
          "metadata": {},
          "execution_count": 86
        }
      ]
    },
    {
      "cell_type": "code",
      "source": [
        "df,test_df=train_test_split(data,0.3)\n",
        "print(\"Size of Train Dataset: \",len(df),\"\\n\",\"Size of Test Dataset: \",len(test_df))"
      ],
      "metadata": {
        "colab": {
          "base_uri": "https://localhost:8080/"
        },
        "id": "SGk2VHwUNBTc",
        "outputId": "8e1d1af4-c9b7-4e17-8e31-9ac3ceefe2a6"
      },
      "execution_count": 87,
      "outputs": [
        {
          "output_type": "stream",
          "name": "stdout",
          "text": [
            "Size of Train Dataset:  14 \n",
            " Size of Test Dataset:  6\n"
          ]
        }
      ]
    },
    {
      "cell_type": "code",
      "source": [
        "print(df.count())\n",
        "print(sum(df[target_name].value_counts().to_dict().values()))"
      ],
      "metadata": {
        "colab": {
          "base_uri": "https://localhost:8080/"
        },
        "id": "BkIhB4tYNFPl",
        "outputId": "5c80066f-80c8-44ec-c36a-e13fe4f7c3f4"
      },
      "execution_count": 88,
      "outputs": [
        {
          "output_type": "stream",
          "name": "stdout",
          "text": [
            "Color       14\n",
            "size        14\n",
            "act         14\n",
            "age         14\n",
            "inflated    14\n",
            "dtype: int64\n",
            "14\n"
          ]
        }
      ]
    },
    {
      "cell_type": "markdown",
      "source": [
        "**Descion Tree Training**"
      ],
      "metadata": {
        "id": "F4QwaUzOOQQF"
      }
    },
    {
      "cell_type": "code",
      "source": [
        "d=DecisionTree(data,target_name,split_function=split_func)"
      ],
      "metadata": {
        "id": "-FCjCi2UOT6L"
      },
      "execution_count": 89,
      "outputs": []
    },
    {
      "cell_type": "code",
      "source": [
        "d.construct()"
      ],
      "metadata": {
        "id": "XvU5JpB-OWT1"
      },
      "execution_count": 90,
      "outputs": []
    },
    {
      "cell_type": "code",
      "source": [
        "print(d.tree.no_leafs)"
      ],
      "metadata": {
        "colab": {
          "base_uri": "https://localhost:8080/"
        },
        "id": "QsVK-WP6OZ6p",
        "outputId": "973bf463-021b-469b-e288-63afcee936c4"
      },
      "execution_count": 91,
      "outputs": [
        {
          "output_type": "stream",
          "name": "stdout",
          "text": [
            "3\n"
          ]
        }
      ]
    },
    {
      "cell_type": "code",
      "source": [
        "d.get_rules()"
      ],
      "metadata": {
        "colab": {
          "base_uri": "https://localhost:8080/"
        },
        "id": "swiboDRTOcL2",
        "outputId": "99509bed-da67-4b46-c52b-c2cd63c65ae8"
      },
      "execution_count": 92,
      "outputs": [
        {
          "output_type": "execute_result",
          "data": {
            "text/plain": [
              "['age ->  ( ADULT ) act ->  ( DIP ) F',\n",
              " 'age ->  ( ADULT ) act ->  ( STRETCH ) T',\n",
              " 'age ->  ( CHILD ) F']"
            ]
          },
          "metadata": {},
          "execution_count": 92
        }
      ]
    },
    {
      "cell_type": "code",
      "source": [
        "d.tree.printt()"
      ],
      "metadata": {
        "colab": {
          "base_uri": "https://localhost:8080/"
        },
        "id": "XixjJwWIOfaL",
        "outputId": "08492c00-d67e-4a50-8b2b-e07cd84a9f9b"
      },
      "execution_count": 93,
      "outputs": [
        {
          "output_type": "stream",
          "name": "stdout",
          "text": [
            "| age\n",
            "|----- ( ADULT) act\n",
            "|---------- ( DIP) F\n",
            "|---------- ( STRETCH) T\n",
            "|----- ( CHILD) F\n"
          ]
        }
      ]
    },
    {
      "cell_type": "markdown",
      "source": [
        "**Graphical Representation of Decision Tree**"
      ],
      "metadata": {
        "id": "mwrdW769Ol3q"
      }
    },
    {
      "cell_type": "code",
      "source": [
        "f = open(\"Baloons.dot\", \"w\")\n",
        "f.write(str(d.getGraph()))\n",
        "f.close()"
      ],
      "metadata": {
        "id": "NOFD9XCrOqot"
      },
      "execution_count": 94,
      "outputs": []
    },
    {
      "cell_type": "code",
      "source": [
        "d.getGraph()"
      ],
      "metadata": {
        "colab": {
          "base_uri": "https://localhost:8080/",
          "height": 312
        },
        "id": "GVsjaZkCOvNE",
        "outputId": "99d32402-c927-47c8-a409-8e25c0e3b432"
      },
      "execution_count": 95,
      "outputs": [
        {
          "output_type": "execute_result",
          "data": {
            "text/plain": [
              "<graphviz.dot.Digraph at 0x7f6003ac4e90>"
            ],
            "image/svg+xml": "<?xml version=\"1.0\" encoding=\"UTF-8\" standalone=\"no\"?>\n<!DOCTYPE svg PUBLIC \"-//W3C//DTD SVG 1.1//EN\"\n \"http://www.w3.org/Graphics/SVG/1.1/DTD/svg11.dtd\">\n<!-- Generated by graphviz version 2.40.1 (20161225.0304)\n -->\n<!-- Title: %3 Pages: 1 -->\n<svg width=\"172pt\" height=\"218pt\"\n viewBox=\"0.00 0.00 172.00 218.00\" xmlns=\"http://www.w3.org/2000/svg\" xmlns:xlink=\"http://www.w3.org/1999/xlink\">\n<g id=\"graph0\" class=\"graph\" transform=\"scale(1 1) rotate(0) translate(4 214)\">\n<title>%3</title>\n<polygon fill=\"#ffffff\" stroke=\"transparent\" points=\"-4,4 -4,-214 168,-214 168,4 -4,4\"/>\n<!-- age -->\n<g id=\"node1\" class=\"node\">\n<title>age</title>\n<ellipse fill=\"none\" stroke=\"#000000\" cx=\"99\" cy=\"-192\" rx=\"27\" ry=\"18\"/>\n<text text-anchor=\"middle\" x=\"99\" y=\"-188.3\" font-family=\"Times,serif\" font-size=\"14.00\" fill=\"#000000\">age</text>\n</g>\n<!-- act -->\n<g id=\"node2\" class=\"node\">\n<title>act</title>\n<ellipse fill=\"none\" stroke=\"#000000\" cx=\"63\" cy=\"-105\" rx=\"27\" ry=\"18\"/>\n<text text-anchor=\"middle\" x=\"63\" y=\"-101.3\" font-family=\"Times,serif\" font-size=\"14.00\" fill=\"#000000\">act</text>\n</g>\n<!-- age&#45;&gt;act -->\n<g id=\"edge1\" class=\"edge\">\n<title>age&#45;&gt;act</title>\n<path fill=\"none\" stroke=\"#000000\" d=\"M81.0682,-178.5266C74.4226,-172.4524 67.6267,-164.6877 64,-156 61.0447,-148.9207 59.975,-140.7928 59.853,-133.1366\"/>\n<polygon fill=\"#000000\" stroke=\"#000000\" points=\"63.3514,-133.2425 60.1862,-123.1315 56.3552,-133.0094 63.3514,-133.2425\"/>\n<text text-anchor=\"middle\" x=\"88.5\" y=\"-144.8\" font-family=\"Times,serif\" font-size=\"14.00\" fill=\"#000000\">ADULT</text>\n</g>\n<!-- F2 -->\n<g id=\"node5\" class=\"node\">\n<title>F2</title>\n<ellipse fill=\"none\" stroke=\"#000000\" cx=\"135\" cy=\"-105\" rx=\"27\" ry=\"18\"/>\n<text text-anchor=\"middle\" x=\"135\" y=\"-101.3\" font-family=\"Times,serif\" font-size=\"14.00\" fill=\"#000000\">F</text>\n</g>\n<!-- age&#45;&gt;F2 -->\n<g id=\"edge4\" class=\"edge\">\n<title>age&#45;&gt;F2</title>\n<path fill=\"none\" stroke=\"#000000\" d=\"M106.2851,-174.3943C111.3111,-162.2482 118.0893,-145.8674 123.7982,-132.0711\"/>\n<polygon fill=\"#000000\" stroke=\"#000000\" points=\"127.1362,-133.158 127.7257,-122.5796 120.6681,-130.4815 127.1362,-133.158\"/>\n<text text-anchor=\"middle\" x=\"141.5\" y=\"-144.8\" font-family=\"Times,serif\" font-size=\"14.00\" fill=\"#000000\">CHILD</text>\n</g>\n<!-- F0 -->\n<g id=\"node3\" class=\"node\">\n<title>F0</title>\n<ellipse fill=\"none\" stroke=\"#000000\" cx=\"27\" cy=\"-18\" rx=\"27\" ry=\"18\"/>\n<text text-anchor=\"middle\" x=\"27\" y=\"-14.3\" font-family=\"Times,serif\" font-size=\"14.00\" fill=\"#000000\">F</text>\n</g>\n<!-- act&#45;&gt;F0 -->\n<g id=\"edge2\" class=\"edge\">\n<title>act&#45;&gt;F0</title>\n<path fill=\"none\" stroke=\"#000000\" d=\"M55.7149,-87.3943C50.6889,-75.2482 43.9107,-58.8674 38.2018,-45.0711\"/>\n<polygon fill=\"#000000\" stroke=\"#000000\" points=\"41.3319,-43.4815 34.2743,-35.5796 34.8638,-46.158 41.3319,-43.4815\"/>\n<text text-anchor=\"middle\" x=\"60\" y=\"-57.8\" font-family=\"Times,serif\" font-size=\"14.00\" fill=\"#000000\">DIP</text>\n</g>\n<!-- T1 -->\n<g id=\"node4\" class=\"node\">\n<title>T1</title>\n<ellipse fill=\"none\" stroke=\"#000000\" cx=\"99\" cy=\"-18\" rx=\"27\" ry=\"18\"/>\n<text text-anchor=\"middle\" x=\"99\" y=\"-14.3\" font-family=\"Times,serif\" font-size=\"14.00\" fill=\"#000000\">T</text>\n</g>\n<!-- act&#45;&gt;T1 -->\n<g id=\"edge3\" class=\"edge\">\n<title>act&#45;&gt;T1</title>\n<path fill=\"none\" stroke=\"#000000\" d=\"M70.2851,-87.3943C75.3111,-75.2482 82.0893,-58.8674 87.7982,-45.0711\"/>\n<polygon fill=\"#000000\" stroke=\"#000000\" points=\"91.1362,-46.158 91.7257,-35.5796 84.6681,-43.4815 91.1362,-46.158\"/>\n<text text-anchor=\"middle\" x=\"116\" y=\"-57.8\" font-family=\"Times,serif\" font-size=\"14.00\" fill=\"#000000\">STRETCH</text>\n</g>\n</g>\n</svg>\n"
          },
          "metadata": {},
          "execution_count": 95
        }
      ]
    },
    {
      "cell_type": "code",
      "source": [
        "y_train_pred=d.predict(df)\n",
        "print(accuracy_score(df[target_name].tolist(),y_train_pred))"
      ],
      "metadata": {
        "colab": {
          "base_uri": "https://localhost:8080/"
        },
        "id": "kqcHbcibO2A3",
        "outputId": "5ab04cd5-0f70-44aa-823e-3dc3dde1874c"
      },
      "execution_count": 96,
      "outputs": [
        {
          "output_type": "stream",
          "name": "stdout",
          "text": [
            "100.0\n"
          ]
        }
      ]
    },
    {
      "cell_type": "code",
      "source": [
        "y_test_pred=d.predict(test_df)\n",
        "accuracy_score(test_df[target_name].tolist(),y_test_pred)"
      ],
      "metadata": {
        "colab": {
          "base_uri": "https://localhost:8080/"
        },
        "id": "CF9QJTf5O2La",
        "outputId": "60c1e543-b8ec-446b-a1d7-f7362eaa2456"
      },
      "execution_count": 97,
      "outputs": [
        {
          "output_type": "execute_result",
          "data": {
            "text/plain": [
              "100.0"
            ]
          },
          "metadata": {},
          "execution_count": 97
        }
      ]
    },
    {
      "cell_type": "markdown",
      "source": [
        "**IRIS DATASET**"
      ],
      "metadata": {
        "id": "GFO0ZVJmSNhc"
      }
    },
    {
      "cell_type": "code",
      "source": [
        "dataset='iris'\n",
        "split_func='IG'"
      ],
      "metadata": {
        "id": "8PS5aoVRSW9z"
      },
      "execution_count": 98,
      "outputs": []
    },
    {
      "cell_type": "code",
      "source": [
        "dataset_url,target_name=datasets[dataset]\n",
        "data=pd.read_csv(dataset_url)\n",
        "data=data.applymap(lambda x: x.strip() if isinstance(x, str) else x)"
      ],
      "metadata": {
        "id": "swQ-9IDxSf_y"
      },
      "execution_count": 99,
      "outputs": []
    },
    {
      "cell_type": "code",
      "source": [
        "data"
      ],
      "metadata": {
        "colab": {
          "base_uri": "https://localhost:8080/",
          "height": 419
        },
        "id": "NPMOxvfqShNd",
        "outputId": "9554a748-02e0-4e8a-ecd0-15c657164357"
      },
      "execution_count": 100,
      "outputs": [
        {
          "output_type": "execute_result",
          "data": {
            "text/plain": [
              "      Id  SepalLengthCm  SepalWidthCm  PetalLengthCm  PetalWidthCm  \\\n",
              "0      1            5.1           3.5            1.4           0.2   \n",
              "1      2            4.9           3.0            1.4           0.2   \n",
              "2      3            4.7           3.2            1.3           0.2   \n",
              "3      4            4.6           3.1            1.5           0.2   \n",
              "4      5            5.0           3.6            1.4           0.2   \n",
              "..   ...            ...           ...            ...           ...   \n",
              "145  146            6.7           3.0            5.2           2.3   \n",
              "146  147            6.3           2.5            5.0           1.9   \n",
              "147  148            6.5           3.0            5.2           2.0   \n",
              "148  149            6.2           3.4            5.4           2.3   \n",
              "149  150            5.9           3.0            5.1           1.8   \n",
              "\n",
              "            Species  \n",
              "0       Iris-setosa  \n",
              "1       Iris-setosa  \n",
              "2       Iris-setosa  \n",
              "3       Iris-setosa  \n",
              "4       Iris-setosa  \n",
              "..              ...  \n",
              "145  Iris-virginica  \n",
              "146  Iris-virginica  \n",
              "147  Iris-virginica  \n",
              "148  Iris-virginica  \n",
              "149  Iris-virginica  \n",
              "\n",
              "[150 rows x 6 columns]"
            ],
            "text/html": [
              "\n",
              "  <div id=\"df-bd54a4d4-e239-49ee-9beb-f563be47dfc8\">\n",
              "    <div class=\"colab-df-container\">\n",
              "      <div>\n",
              "<style scoped>\n",
              "    .dataframe tbody tr th:only-of-type {\n",
              "        vertical-align: middle;\n",
              "    }\n",
              "\n",
              "    .dataframe tbody tr th {\n",
              "        vertical-align: top;\n",
              "    }\n",
              "\n",
              "    .dataframe thead th {\n",
              "        text-align: right;\n",
              "    }\n",
              "</style>\n",
              "<table border=\"1\" class=\"dataframe\">\n",
              "  <thead>\n",
              "    <tr style=\"text-align: right;\">\n",
              "      <th></th>\n",
              "      <th>Id</th>\n",
              "      <th>SepalLengthCm</th>\n",
              "      <th>SepalWidthCm</th>\n",
              "      <th>PetalLengthCm</th>\n",
              "      <th>PetalWidthCm</th>\n",
              "      <th>Species</th>\n",
              "    </tr>\n",
              "  </thead>\n",
              "  <tbody>\n",
              "    <tr>\n",
              "      <th>0</th>\n",
              "      <td>1</td>\n",
              "      <td>5.1</td>\n",
              "      <td>3.5</td>\n",
              "      <td>1.4</td>\n",
              "      <td>0.2</td>\n",
              "      <td>Iris-setosa</td>\n",
              "    </tr>\n",
              "    <tr>\n",
              "      <th>1</th>\n",
              "      <td>2</td>\n",
              "      <td>4.9</td>\n",
              "      <td>3.0</td>\n",
              "      <td>1.4</td>\n",
              "      <td>0.2</td>\n",
              "      <td>Iris-setosa</td>\n",
              "    </tr>\n",
              "    <tr>\n",
              "      <th>2</th>\n",
              "      <td>3</td>\n",
              "      <td>4.7</td>\n",
              "      <td>3.2</td>\n",
              "      <td>1.3</td>\n",
              "      <td>0.2</td>\n",
              "      <td>Iris-setosa</td>\n",
              "    </tr>\n",
              "    <tr>\n",
              "      <th>3</th>\n",
              "      <td>4</td>\n",
              "      <td>4.6</td>\n",
              "      <td>3.1</td>\n",
              "      <td>1.5</td>\n",
              "      <td>0.2</td>\n",
              "      <td>Iris-setosa</td>\n",
              "    </tr>\n",
              "    <tr>\n",
              "      <th>4</th>\n",
              "      <td>5</td>\n",
              "      <td>5.0</td>\n",
              "      <td>3.6</td>\n",
              "      <td>1.4</td>\n",
              "      <td>0.2</td>\n",
              "      <td>Iris-setosa</td>\n",
              "    </tr>\n",
              "    <tr>\n",
              "      <th>...</th>\n",
              "      <td>...</td>\n",
              "      <td>...</td>\n",
              "      <td>...</td>\n",
              "      <td>...</td>\n",
              "      <td>...</td>\n",
              "      <td>...</td>\n",
              "    </tr>\n",
              "    <tr>\n",
              "      <th>145</th>\n",
              "      <td>146</td>\n",
              "      <td>6.7</td>\n",
              "      <td>3.0</td>\n",
              "      <td>5.2</td>\n",
              "      <td>2.3</td>\n",
              "      <td>Iris-virginica</td>\n",
              "    </tr>\n",
              "    <tr>\n",
              "      <th>146</th>\n",
              "      <td>147</td>\n",
              "      <td>6.3</td>\n",
              "      <td>2.5</td>\n",
              "      <td>5.0</td>\n",
              "      <td>1.9</td>\n",
              "      <td>Iris-virginica</td>\n",
              "    </tr>\n",
              "    <tr>\n",
              "      <th>147</th>\n",
              "      <td>148</td>\n",
              "      <td>6.5</td>\n",
              "      <td>3.0</td>\n",
              "      <td>5.2</td>\n",
              "      <td>2.0</td>\n",
              "      <td>Iris-virginica</td>\n",
              "    </tr>\n",
              "    <tr>\n",
              "      <th>148</th>\n",
              "      <td>149</td>\n",
              "      <td>6.2</td>\n",
              "      <td>3.4</td>\n",
              "      <td>5.4</td>\n",
              "      <td>2.3</td>\n",
              "      <td>Iris-virginica</td>\n",
              "    </tr>\n",
              "    <tr>\n",
              "      <th>149</th>\n",
              "      <td>150</td>\n",
              "      <td>5.9</td>\n",
              "      <td>3.0</td>\n",
              "      <td>5.1</td>\n",
              "      <td>1.8</td>\n",
              "      <td>Iris-virginica</td>\n",
              "    </tr>\n",
              "  </tbody>\n",
              "</table>\n",
              "<p>150 rows × 6 columns</p>\n",
              "</div>\n",
              "      <button class=\"colab-df-convert\" onclick=\"convertToInteractive('df-bd54a4d4-e239-49ee-9beb-f563be47dfc8')\"\n",
              "              title=\"Convert this dataframe to an interactive table.\"\n",
              "              style=\"display:none;\">\n",
              "        \n",
              "  <svg xmlns=\"http://www.w3.org/2000/svg\" height=\"24px\"viewBox=\"0 0 24 24\"\n",
              "       width=\"24px\">\n",
              "    <path d=\"M0 0h24v24H0V0z\" fill=\"none\"/>\n",
              "    <path d=\"M18.56 5.44l.94 2.06.94-2.06 2.06-.94-2.06-.94-.94-2.06-.94 2.06-2.06.94zm-11 1L8.5 8.5l.94-2.06 2.06-.94-2.06-.94L8.5 2.5l-.94 2.06-2.06.94zm10 10l.94 2.06.94-2.06 2.06-.94-2.06-.94-.94-2.06-.94 2.06-2.06.94z\"/><path d=\"M17.41 7.96l-1.37-1.37c-.4-.4-.92-.59-1.43-.59-.52 0-1.04.2-1.43.59L10.3 9.45l-7.72 7.72c-.78.78-.78 2.05 0 2.83L4 21.41c.39.39.9.59 1.41.59.51 0 1.02-.2 1.41-.59l7.78-7.78 2.81-2.81c.8-.78.8-2.07 0-2.86zM5.41 20L4 18.59l7.72-7.72 1.47 1.35L5.41 20z\"/>\n",
              "  </svg>\n",
              "      </button>\n",
              "      \n",
              "  <style>\n",
              "    .colab-df-container {\n",
              "      display:flex;\n",
              "      flex-wrap:wrap;\n",
              "      gap: 12px;\n",
              "    }\n",
              "\n",
              "    .colab-df-convert {\n",
              "      background-color: #E8F0FE;\n",
              "      border: none;\n",
              "      border-radius: 50%;\n",
              "      cursor: pointer;\n",
              "      display: none;\n",
              "      fill: #1967D2;\n",
              "      height: 32px;\n",
              "      padding: 0 0 0 0;\n",
              "      width: 32px;\n",
              "    }\n",
              "\n",
              "    .colab-df-convert:hover {\n",
              "      background-color: #E2EBFA;\n",
              "      box-shadow: 0px 1px 2px rgba(60, 64, 67, 0.3), 0px 1px 3px 1px rgba(60, 64, 67, 0.15);\n",
              "      fill: #174EA6;\n",
              "    }\n",
              "\n",
              "    [theme=dark] .colab-df-convert {\n",
              "      background-color: #3B4455;\n",
              "      fill: #D2E3FC;\n",
              "    }\n",
              "\n",
              "    [theme=dark] .colab-df-convert:hover {\n",
              "      background-color: #434B5C;\n",
              "      box-shadow: 0px 1px 3px 1px rgba(0, 0, 0, 0.15);\n",
              "      filter: drop-shadow(0px 1px 2px rgba(0, 0, 0, 0.3));\n",
              "      fill: #FFFFFF;\n",
              "    }\n",
              "  </style>\n",
              "\n",
              "      <script>\n",
              "        const buttonEl =\n",
              "          document.querySelector('#df-bd54a4d4-e239-49ee-9beb-f563be47dfc8 button.colab-df-convert');\n",
              "        buttonEl.style.display =\n",
              "          google.colab.kernel.accessAllowed ? 'block' : 'none';\n",
              "\n",
              "        async function convertToInteractive(key) {\n",
              "          const element = document.querySelector('#df-bd54a4d4-e239-49ee-9beb-f563be47dfc8');\n",
              "          const dataTable =\n",
              "            await google.colab.kernel.invokeFunction('convertToInteractive',\n",
              "                                                     [key], {});\n",
              "          if (!dataTable) return;\n",
              "\n",
              "          const docLinkHtml = 'Like what you see? Visit the ' +\n",
              "            '<a target=\"_blank\" href=https://colab.research.google.com/notebooks/data_table.ipynb>data table notebook</a>'\n",
              "            + ' to learn more about interactive tables.';\n",
              "          element.innerHTML = '';\n",
              "          dataTable['output_type'] = 'display_data';\n",
              "          await google.colab.output.renderOutput(dataTable, element);\n",
              "          const docLink = document.createElement('div');\n",
              "          docLink.innerHTML = docLinkHtml;\n",
              "          element.appendChild(docLink);\n",
              "        }\n",
              "      </script>\n",
              "    </div>\n",
              "  </div>\n",
              "  "
            ]
          },
          "metadata": {},
          "execution_count": 100
        }
      ]
    },
    {
      "cell_type": "code",
      "source": [
        "data.dtypes"
      ],
      "metadata": {
        "colab": {
          "base_uri": "https://localhost:8080/"
        },
        "id": "lGrEPdWRSjkK",
        "outputId": "cfa8600a-2721-4f78-81d6-b6d2259d9fcc"
      },
      "execution_count": 101,
      "outputs": [
        {
          "output_type": "execute_result",
          "data": {
            "text/plain": [
              "Id                 int64\n",
              "SepalLengthCm    float64\n",
              "SepalWidthCm     float64\n",
              "PetalLengthCm    float64\n",
              "PetalWidthCm     float64\n",
              "Species           object\n",
              "dtype: object"
            ]
          },
          "metadata": {},
          "execution_count": 101
        }
      ]
    },
    {
      "cell_type": "code",
      "source": [
        "df,test_df=train_test_split(data,0.3)\n",
        "print(\"Size of Train Dataset: \",len(df),\"\\n\",\"Size of Test Dataset: \",len(test_df))"
      ],
      "metadata": {
        "colab": {
          "base_uri": "https://localhost:8080/"
        },
        "id": "ou6c2ysqSpcK",
        "outputId": "fd713b4e-3eff-4bf0-c500-0372cb29a42f"
      },
      "execution_count": 102,
      "outputs": [
        {
          "output_type": "stream",
          "name": "stdout",
          "text": [
            "Size of Train Dataset:  105 \n",
            " Size of Test Dataset:  45\n"
          ]
        }
      ]
    },
    {
      "cell_type": "code",
      "source": [
        "print(df.count())\n",
        "print(sum(df[target_name].value_counts().to_dict().values()))"
      ],
      "metadata": {
        "colab": {
          "base_uri": "https://localhost:8080/"
        },
        "id": "37D6UQBcSvU2",
        "outputId": "5b8713a4-982b-42a8-8237-eeebc18a25c9"
      },
      "execution_count": 103,
      "outputs": [
        {
          "output_type": "stream",
          "name": "stdout",
          "text": [
            "Id               105\n",
            "SepalLengthCm    105\n",
            "SepalWidthCm     105\n",
            "PetalLengthCm    105\n",
            "PetalWidthCm     105\n",
            "Species          105\n",
            "dtype: int64\n",
            "105\n"
          ]
        }
      ]
    },
    {
      "cell_type": "markdown",
      "source": [
        "**Descion Tree Training**"
      ],
      "metadata": {
        "id": "dLFsjmaSS1pt"
      }
    },
    {
      "cell_type": "code",
      "source": [
        "d=DecisionTree(data,target_name,split_function=split_func)"
      ],
      "metadata": {
        "id": "jPrjIcqWSzPA"
      },
      "execution_count": 104,
      "outputs": []
    },
    {
      "cell_type": "code",
      "source": [
        "d.construct()"
      ],
      "metadata": {
        "id": "1YEe-ngAS80o"
      },
      "execution_count": 105,
      "outputs": []
    },
    {
      "cell_type": "code",
      "source": [
        "print(d.tree.no_leafs)"
      ],
      "metadata": {
        "colab": {
          "base_uri": "https://localhost:8080/"
        },
        "id": "c6pGhjzGTCB-",
        "outputId": "e6d1050f-b524-4495-ec13-67f7e507032a"
      },
      "execution_count": 106,
      "outputs": [
        {
          "output_type": "stream",
          "name": "stdout",
          "text": [
            "105\n"
          ]
        }
      ]
    },
    {
      "cell_type": "code",
      "source": [
        "d.get_rules()"
      ],
      "metadata": {
        "colab": {
          "base_uri": "https://localhost:8080/"
        },
        "id": "72e09N00TGt6",
        "outputId": "74a52aac-0a67-4eab-dec9-71c626f7531f"
      },
      "execution_count": 107,
      "outputs": [
        {
          "output_type": "execute_result",
          "data": {
            "text/plain": [
              "['Id ->  ( 74 ) Iris-versicolor',\n",
              " 'Id ->  ( 129 ) Iris-virginica',\n",
              " 'Id ->  ( 107 ) Iris-virginica',\n",
              " 'Id ->  ( 130 ) Iris-virginica',\n",
              " 'Id ->  ( 29 ) Iris-setosa',\n",
              " 'Id ->  ( 150 ) Iris-virginica',\n",
              " 'Id ->  ( 67 ) Iris-versicolor',\n",
              " 'Id ->  ( 63 ) Iris-versicolor',\n",
              " 'Id ->  ( 117 ) Iris-virginica',\n",
              " 'Id ->  ( 34 ) Iris-setosa',\n",
              " 'Id ->  ( 61 ) Iris-versicolor',\n",
              " 'Id ->  ( 111 ) Iris-virginica',\n",
              " 'Id ->  ( 43 ) Iris-setosa',\n",
              " 'Id ->  ( 148 ) Iris-virginica',\n",
              " 'Id ->  ( 90 ) Iris-versicolor',\n",
              " 'Id ->  ( 97 ) Iris-versicolor',\n",
              " 'Id ->  ( 5 ) Iris-setosa',\n",
              " 'Id ->  ( 45 ) Iris-setosa',\n",
              " 'Id ->  ( 85 ) Iris-versicolor',\n",
              " 'Id ->  ( 116 ) Iris-virginica',\n",
              " 'Id ->  ( 55 ) Iris-versicolor',\n",
              " 'Id ->  ( 84 ) Iris-versicolor',\n",
              " 'Id ->  ( 118 ) Iris-virginica',\n",
              " 'Id ->  ( 122 ) Iris-virginica',\n",
              " 'Id ->  ( 125 ) Iris-virginica',\n",
              " 'Id ->  ( 86 ) Iris-versicolor',\n",
              " 'Id ->  ( 10 ) Iris-setosa',\n",
              " 'Id ->  ( 3 ) Iris-setosa',\n",
              " 'Id ->  ( 76 ) Iris-versicolor',\n",
              " 'Id ->  ( 92 ) Iris-versicolor',\n",
              " 'Id ->  ( 9 ) Iris-setosa',\n",
              " 'Id ->  ( 36 ) Iris-setosa',\n",
              " 'Id ->  ( 77 ) Iris-versicolor',\n",
              " 'Id ->  ( 95 ) Iris-versicolor',\n",
              " 'Id ->  ( 87 ) Iris-versicolor',\n",
              " 'Id ->  ( 15 ) Iris-setosa',\n",
              " 'Id ->  ( 46 ) Iris-setosa',\n",
              " 'Id ->  ( 94 ) Iris-versicolor',\n",
              " 'Id ->  ( 127 ) Iris-virginica',\n",
              " 'Id ->  ( 112 ) Iris-virginica',\n",
              " 'Id ->  ( 101 ) Iris-virginica',\n",
              " 'Id ->  ( 108 ) Iris-virginica',\n",
              " 'Id ->  ( 120 ) Iris-virginica',\n",
              " 'Id ->  ( 128 ) Iris-virginica',\n",
              " 'Id ->  ( 25 ) Iris-setosa',\n",
              " 'Id ->  ( 103 ) Iris-virginica',\n",
              " 'Id ->  ( 142 ) Iris-virginica',\n",
              " 'Id ->  ( 19 ) Iris-setosa',\n",
              " 'Id ->  ( 145 ) Iris-virginica',\n",
              " 'Id ->  ( 137 ) Iris-virginica',\n",
              " 'Id ->  ( 44 ) Iris-setosa',\n",
              " 'Id ->  ( 141 ) Iris-virginica',\n",
              " 'Id ->  ( 88 ) Iris-versicolor',\n",
              " 'Id ->  ( 146 ) Iris-virginica',\n",
              " 'Id ->  ( 134 ) Iris-virginica',\n",
              " 'Id ->  ( 136 ) Iris-virginica',\n",
              " 'Id ->  ( 56 ) Iris-versicolor',\n",
              " 'Id ->  ( 126 ) Iris-virginica',\n",
              " 'Id ->  ( 149 ) Iris-virginica',\n",
              " 'Id ->  ( 41 ) Iris-setosa',\n",
              " 'Id ->  ( 14 ) Iris-setosa',\n",
              " 'Id ->  ( 115 ) Iris-virginica',\n",
              " 'Id ->  ( 123 ) Iris-virginica',\n",
              " 'Id ->  ( 75 ) Iris-versicolor',\n",
              " 'Id ->  ( 132 ) Iris-virginica',\n",
              " 'Id ->  ( 59 ) Iris-versicolor',\n",
              " 'Id ->  ( 64 ) Iris-versicolor',\n",
              " 'Id ->  ( 73 ) Iris-versicolor',\n",
              " 'Id ->  ( 82 ) Iris-versicolor',\n",
              " 'Id ->  ( 143 ) Iris-virginica',\n",
              " 'Id ->  ( 30 ) Iris-setosa',\n",
              " 'Id ->  ( 57 ) Iris-versicolor',\n",
              " 'Id ->  ( 6 ) Iris-setosa',\n",
              " 'Id ->  ( 124 ) Iris-virginica',\n",
              " 'Id ->  ( 114 ) Iris-virginica',\n",
              " 'Id ->  ( 72 ) Iris-versicolor',\n",
              " 'Id ->  ( 51 ) Iris-versicolor',\n",
              " 'Id ->  ( 78 ) Iris-versicolor',\n",
              " 'Id ->  ( 18 ) Iris-setosa',\n",
              " 'Id ->  ( 4 ) Iris-setosa',\n",
              " 'Id ->  ( 50 ) Iris-setosa',\n",
              " 'Id ->  ( 79 ) Iris-versicolor',\n",
              " 'Id ->  ( 81 ) Iris-versicolor',\n",
              " 'Id ->  ( 2 ) Iris-setosa',\n",
              " 'Id ->  ( 32 ) Iris-setosa',\n",
              " 'Id ->  ( 131 ) Iris-virginica',\n",
              " 'Id ->  ( 21 ) Iris-setosa',\n",
              " 'Id ->  ( 99 ) Iris-versicolor',\n",
              " 'Id ->  ( 65 ) Iris-versicolor',\n",
              " 'Id ->  ( 49 ) Iris-setosa',\n",
              " 'Id ->  ( 144 ) Iris-virginica',\n",
              " 'Id ->  ( 147 ) Iris-virginica',\n",
              " 'Id ->  ( 27 ) Iris-setosa',\n",
              " 'Id ->  ( 54 ) Iris-versicolor',\n",
              " 'Id ->  ( 60 ) Iris-versicolor',\n",
              " 'Id ->  ( 133 ) Iris-virginica',\n",
              " 'Id ->  ( 12 ) Iris-setosa',\n",
              " 'Id ->  ( 96 ) Iris-versicolor',\n",
              " 'Id ->  ( 104 ) Iris-virginica',\n",
              " 'Id ->  ( 58 ) Iris-versicolor',\n",
              " 'Id ->  ( 105 ) Iris-virginica',\n",
              " 'Id ->  ( 91 ) Iris-versicolor',\n",
              " 'Id ->  ( 48 ) Iris-setosa',\n",
              " 'Id ->  ( 20 ) Iris-setosa',\n",
              " 'Id ->  ( 22 ) Iris-setosa']"
            ]
          },
          "metadata": {},
          "execution_count": 107
        }
      ]
    },
    {
      "cell_type": "code",
      "source": [
        "d.tree.printt()"
      ],
      "metadata": {
        "colab": {
          "base_uri": "https://localhost:8080/"
        },
        "id": "vb903ELWTNIU",
        "outputId": "2d885293-c766-412e-f56f-2b340aeef10e"
      },
      "execution_count": 108,
      "outputs": [
        {
          "output_type": "stream",
          "name": "stdout",
          "text": [
            "| Id\n",
            "|----- ( 74) Iris-versicolor\n",
            "|----- ( 129) Iris-virginica\n",
            "|----- ( 107) Iris-virginica\n",
            "|----- ( 130) Iris-virginica\n",
            "|----- ( 29) Iris-setosa\n",
            "|----- ( 150) Iris-virginica\n",
            "|----- ( 67) Iris-versicolor\n",
            "|----- ( 63) Iris-versicolor\n",
            "|----- ( 117) Iris-virginica\n",
            "|----- ( 34) Iris-setosa\n",
            "|----- ( 61) Iris-versicolor\n",
            "|----- ( 111) Iris-virginica\n",
            "|----- ( 43) Iris-setosa\n",
            "|----- ( 148) Iris-virginica\n",
            "|----- ( 90) Iris-versicolor\n",
            "|----- ( 97) Iris-versicolor\n",
            "|----- ( 5) Iris-setosa\n",
            "|----- ( 45) Iris-setosa\n",
            "|----- ( 85) Iris-versicolor\n",
            "|----- ( 116) Iris-virginica\n",
            "|----- ( 55) Iris-versicolor\n",
            "|----- ( 84) Iris-versicolor\n",
            "|----- ( 118) Iris-virginica\n",
            "|----- ( 122) Iris-virginica\n",
            "|----- ( 125) Iris-virginica\n",
            "|----- ( 86) Iris-versicolor\n",
            "|----- ( 10) Iris-setosa\n",
            "|----- ( 3) Iris-setosa\n",
            "|----- ( 76) Iris-versicolor\n",
            "|----- ( 92) Iris-versicolor\n",
            "|----- ( 9) Iris-setosa\n",
            "|----- ( 36) Iris-setosa\n",
            "|----- ( 77) Iris-versicolor\n",
            "|----- ( 95) Iris-versicolor\n",
            "|----- ( 87) Iris-versicolor\n",
            "|----- ( 15) Iris-setosa\n",
            "|----- ( 46) Iris-setosa\n",
            "|----- ( 94) Iris-versicolor\n",
            "|----- ( 127) Iris-virginica\n",
            "|----- ( 112) Iris-virginica\n",
            "|----- ( 101) Iris-virginica\n",
            "|----- ( 108) Iris-virginica\n",
            "|----- ( 120) Iris-virginica\n",
            "|----- ( 128) Iris-virginica\n",
            "|----- ( 25) Iris-setosa\n",
            "|----- ( 103) Iris-virginica\n",
            "|----- ( 142) Iris-virginica\n",
            "|----- ( 19) Iris-setosa\n",
            "|----- ( 145) Iris-virginica\n",
            "|----- ( 137) Iris-virginica\n",
            "|----- ( 44) Iris-setosa\n",
            "|----- ( 141) Iris-virginica\n",
            "|----- ( 88) Iris-versicolor\n",
            "|----- ( 146) Iris-virginica\n",
            "|----- ( 134) Iris-virginica\n",
            "|----- ( 136) Iris-virginica\n",
            "|----- ( 56) Iris-versicolor\n",
            "|----- ( 126) Iris-virginica\n",
            "|----- ( 149) Iris-virginica\n",
            "|----- ( 41) Iris-setosa\n",
            "|----- ( 14) Iris-setosa\n",
            "|----- ( 115) Iris-virginica\n",
            "|----- ( 123) Iris-virginica\n",
            "|----- ( 75) Iris-versicolor\n",
            "|----- ( 132) Iris-virginica\n",
            "|----- ( 59) Iris-versicolor\n",
            "|----- ( 64) Iris-versicolor\n",
            "|----- ( 73) Iris-versicolor\n",
            "|----- ( 82) Iris-versicolor\n",
            "|----- ( 143) Iris-virginica\n",
            "|----- ( 30) Iris-setosa\n",
            "|----- ( 57) Iris-versicolor\n",
            "|----- ( 6) Iris-setosa\n",
            "|----- ( 124) Iris-virginica\n",
            "|----- ( 114) Iris-virginica\n",
            "|----- ( 72) Iris-versicolor\n",
            "|----- ( 51) Iris-versicolor\n",
            "|----- ( 78) Iris-versicolor\n",
            "|----- ( 18) Iris-setosa\n",
            "|----- ( 4) Iris-setosa\n",
            "|----- ( 50) Iris-setosa\n",
            "|----- ( 79) Iris-versicolor\n",
            "|----- ( 81) Iris-versicolor\n",
            "|----- ( 2) Iris-setosa\n",
            "|----- ( 32) Iris-setosa\n",
            "|----- ( 131) Iris-virginica\n",
            "|----- ( 21) Iris-setosa\n",
            "|----- ( 99) Iris-versicolor\n",
            "|----- ( 65) Iris-versicolor\n",
            "|----- ( 49) Iris-setosa\n",
            "|----- ( 144) Iris-virginica\n",
            "|----- ( 147) Iris-virginica\n",
            "|----- ( 27) Iris-setosa\n",
            "|----- ( 54) Iris-versicolor\n",
            "|----- ( 60) Iris-versicolor\n",
            "|----- ( 133) Iris-virginica\n",
            "|----- ( 12) Iris-setosa\n",
            "|----- ( 96) Iris-versicolor\n",
            "|----- ( 104) Iris-virginica\n",
            "|----- ( 58) Iris-versicolor\n",
            "|----- ( 105) Iris-virginica\n",
            "|----- ( 91) Iris-versicolor\n",
            "|----- ( 48) Iris-setosa\n",
            "|----- ( 20) Iris-setosa\n",
            "|----- ( 22) Iris-setosa\n"
          ]
        }
      ]
    },
    {
      "cell_type": "markdown",
      "source": [
        "**Graphviz Representation of Decision Tree**"
      ],
      "metadata": {
        "id": "hEGu2pTzTW3-"
      }
    },
    {
      "cell_type": "code",
      "source": [
        "f = open(\"iris.dot\", \"w\")\n",
        "f.write(str(d.getGraph()))\n",
        "f.close()"
      ],
      "metadata": {
        "id": "FHn-y9gLTZmo"
      },
      "execution_count": 109,
      "outputs": []
    },
    {
      "cell_type": "code",
      "source": [
        "d.getGraph()"
      ],
      "metadata": {
        "colab": {
          "base_uri": "https://localhost:8080/",
          "height": 216
        },
        "id": "VX89Gww5TcPO",
        "outputId": "671ec007-38db-469c-a134-b89f99f1ac2e"
      },
      "execution_count": 110,
      "outputs": [
        {
          "output_type": "execute_result",
          "data": {
            "text/plain": [
              "<graphviz.dot.Digraph at 0x7f6003ac93d0>"
            ],
            "image/svg+xml": "<?xml version=\"1.0\" encoding=\"UTF-8\" standalone=\"no\"?>\n<!DOCTYPE svg PUBLIC \"-//W3C//DTD SVG 1.1//EN\"\n \"http://www.w3.org/Graphics/SVG/1.1/DTD/svg11.dtd\">\n<!-- Generated by graphviz version 2.40.1 (20161225.0304)\n -->\n<!-- Title: %3 Pages: 1 -->\n<svg width=\"13684pt\" height=\"131pt\"\n viewBox=\"0.00 0.00 13684.19 131.00\" xmlns=\"http://www.w3.org/2000/svg\" xmlns:xlink=\"http://www.w3.org/1999/xlink\">\n<g id=\"graph0\" class=\"graph\" transform=\"scale(1 1) rotate(0) translate(4 127)\">\n<title>%3</title>\n<polygon fill=\"#ffffff\" stroke=\"transparent\" points=\"-4,4 -4,-127 13680.1903,-127 13680.1903,4 -4,4\"/>\n<!-- Id -->\n<g id=\"node1\" class=\"node\">\n<title>Id</title>\n<ellipse fill=\"none\" stroke=\"#000000\" cx=\"6847.7445\" cy=\"-105\" rx=\"27\" ry=\"18\"/>\n<text text-anchor=\"middle\" x=\"6847.7445\" y=\"-101.3\" font-family=\"Times,serif\" font-size=\"14.00\" fill=\"#000000\">Id</text>\n</g>\n<!-- Iris&#45;versicolor0 -->\n<g id=\"node2\" class=\"node\">\n<title>Iris&#45;versicolor0</title>\n<ellipse fill=\"none\" stroke=\"#000000\" cx=\"61.7445\" cy=\"-18\" rx=\"61.99\" ry=\"18\"/>\n<text text-anchor=\"middle\" x=\"61.7445\" y=\"-14.3\" font-family=\"Times,serif\" font-size=\"14.00\" fill=\"#000000\">Iris&#45;versicolor</text>\n</g>\n<!-- Id&#45;&gt;Iris&#45;versicolor0 -->\n<g id=\"edge1\" class=\"edge\">\n<title>Id&#45;&gt;Iris&#45;versicolor0</title>\n<path fill=\"none\" stroke=\"#000000\" d=\"M6820.6052,-104.9769C6378.3801,-104.5851 675.5664,-98.9572 328.7445,-69 240.735,-61.3981 219.1859,-54.2027 132.7445,-36 127.7399,-34.9461 122.5554,-33.7791 117.371,-32.5606\"/>\n<polygon fill=\"#000000\" stroke=\"#000000\" points=\"117.9903,-29.1097 107.4486,-30.1698 116.3505,-35.9149 117.9903,-29.1097\"/>\n<text text-anchor=\"middle\" x=\"336.7445\" y=\"-57.8\" font-family=\"Times,serif\" font-size=\"14.00\" fill=\"#000000\">74</text>\n</g>\n<!-- Iris&#45;virginica1 -->\n<g id=\"node3\" class=\"node\">\n<title>Iris&#45;virginica1</title>\n<ellipse fill=\"none\" stroke=\"#000000\" cx=\"199.7445\" cy=\"-18\" rx=\"57.6901\" ry=\"18\"/>\n<text text-anchor=\"middle\" x=\"199.7445\" y=\"-14.3\" font-family=\"Times,serif\" font-size=\"14.00\" fill=\"#000000\">Iris&#45;virginica</text>\n</g>\n<!-- Id&#45;&gt;Iris&#45;virginica1 -->\n<g id=\"edge2\" class=\"edge\">\n<title>Id&#45;&gt;Iris&#45;virginica1</title>\n<path fill=\"none\" stroke=\"#000000\" d=\"M6820.4731,-104.9777C6381.9109,-104.6036 796.5054,-99.2506 456.7445,-69 371.3736,-61.399 350.4392,-54.4711 266.7445,-36 262.1355,-34.9828 257.3676,-33.8553 252.5975,-32.675\"/>\n<polygon fill=\"#000000\" stroke=\"#000000\" points=\"253.4073,-29.2696 242.8531,-30.1966 251.6818,-36.0536 253.4073,-29.2696\"/>\n<text text-anchor=\"middle\" x=\"468.2445\" y=\"-57.8\" font-family=\"Times,serif\" font-size=\"14.00\" fill=\"#000000\">129</text>\n</g>\n<!-- Iris&#45;virginica2 -->\n<g id=\"node4\" class=\"node\">\n<title>Iris&#45;virginica2</title>\n<ellipse fill=\"none\" stroke=\"#000000\" cx=\"333.7445\" cy=\"-18\" rx=\"57.6901\" ry=\"18\"/>\n<text text-anchor=\"middle\" x=\"333.7445\" y=\"-14.3\" font-family=\"Times,serif\" font-size=\"14.00\" fill=\"#000000\">Iris&#45;virginica</text>\n</g>\n<!-- Id&#45;&gt;Iris&#45;virginica2 -->\n<g id=\"edge3\" class=\"edge\">\n<title>Id&#45;&gt;Iris&#45;virginica2</title>\n<path fill=\"none\" stroke=\"#000000\" d=\"M6820.6946,-104.9782C6388.5269,-104.6141 918.493,-99.4094 585.7445,-69 502.571,-61.3989 482.2608,-54.185 400.7445,-36 396.1379,-34.9723 391.3716,-33.8375 386.6025,-32.6524\"/>\n<polygon fill=\"#000000\" stroke=\"#000000\" points=\"387.4144,-29.2475 376.8596,-30.1674 385.6843,-36.0303 387.4144,-29.2475\"/>\n<text text-anchor=\"middle\" x=\"597.2445\" y=\"-57.8\" font-family=\"Times,serif\" font-size=\"14.00\" fill=\"#000000\">107</text>\n</g>\n<!-- Iris&#45;virginica3 -->\n<g id=\"node5\" class=\"node\">\n<title>Iris&#45;virginica3</title>\n<ellipse fill=\"none\" stroke=\"#000000\" cx=\"467.7445\" cy=\"-18\" rx=\"57.6901\" ry=\"18\"/>\n<text text-anchor=\"middle\" x=\"467.7445\" y=\"-14.3\" font-family=\"Times,serif\" font-size=\"14.00\" fill=\"#000000\">Iris&#45;virginica</text>\n</g>\n<!-- Id&#45;&gt;Iris&#45;virginica3 -->\n<g id=\"edge4\" class=\"edge\">\n<title>Id&#45;&gt;Iris&#45;virginica3</title>\n<path fill=\"none\" stroke=\"#000000\" d=\"M6820.5526,-104.9878C6391.7041,-104.7775 1029.801,-101.5006 703.7445,-69 639.6859,-62.6148 567.5521,-45.5363 520.0857,-32.8925\"/>\n<polygon fill=\"#000000\" stroke=\"#000000\" points=\"520.9094,-29.4897 510.3431,-30.2672 519.088,-36.2486 520.9094,-29.4897\"/>\n<text text-anchor=\"middle\" x=\"715.2445\" y=\"-57.8\" font-family=\"Times,serif\" font-size=\"14.00\" fill=\"#000000\">130</text>\n</g>\n<!-- Iris&#45;setosa4 -->\n<g id=\"node6\" class=\"node\">\n<title>Iris&#45;setosa4</title>\n<ellipse fill=\"none\" stroke=\"#000000\" cx=\"590.7445\" cy=\"-18\" rx=\"47.3916\" ry=\"18\"/>\n<text text-anchor=\"middle\" x=\"590.7445\" y=\"-14.3\" font-family=\"Times,serif\" font-size=\"14.00\" fill=\"#000000\">Iris&#45;setosa</text>\n</g>\n<!-- Id&#45;&gt;Iris&#45;setosa4 -->\n<g id=\"edge5\" class=\"edge\">\n<title>Id&#45;&gt;Iris&#45;setosa4</title>\n<path fill=\"none\" stroke=\"#000000\" d=\"M6820.5538,-104.9596C6397.1787,-104.315 1167.3945,-95.8196 848.7445,-69 758.0971,-61.3705 735.1809,-57.311 646.7445,-36 643.1581,-35.1358 639.4687,-34.157 635.7768,-33.1132\"/>\n<polygon fill=\"#000000\" stroke=\"#000000\" points=\"636.65,-29.7216 626.0675,-30.2326 634.6589,-36.4324 636.65,-29.7216\"/>\n<text text-anchor=\"middle\" x=\"856.7445\" y=\"-57.8\" font-family=\"Times,serif\" font-size=\"14.00\" fill=\"#000000\">29</text>\n</g>\n<!-- Iris&#45;virginica5 -->\n<g id=\"node7\" class=\"node\">\n<title>Iris&#45;virginica5</title>\n<ellipse fill=\"none\" stroke=\"#000000\" cx=\"713.7445\" cy=\"-18\" rx=\"57.6901\" ry=\"18\"/>\n<text text-anchor=\"middle\" x=\"713.7445\" y=\"-14.3\" font-family=\"Times,serif\" font-size=\"14.00\" fill=\"#000000\">Iris&#45;virginica</text>\n</g>\n<!-- Id&#45;&gt;Iris&#45;virginica5 -->\n<g id=\"edge6\" class=\"edge\">\n<title>Id&#45;&gt;Iris&#45;virginica5</title>\n<path fill=\"none\" stroke=\"#000000\" d=\"M6820.535,-104.9544C6402.1937,-104.2384 1296.0309,-94.9771 984.7445,-69 893.2174,-61.362 870.5448,-55.2734 780.7445,-36 776.0598,-34.9945 771.2131,-33.8669 766.368,-32.6794\"/>\n<polygon fill=\"#000000\" stroke=\"#000000\" points=\"767.0302,-29.2367 756.4772,-30.1775 765.3136,-36.023 767.0302,-29.2367\"/>\n<text text-anchor=\"middle\" x=\"996.2445\" y=\"-57.8\" font-family=\"Times,serif\" font-size=\"14.00\" fill=\"#000000\">150</text>\n</g>\n<!-- Iris&#45;versicolor6 -->\n<g id=\"node8\" class=\"node\">\n<title>Iris&#45;versicolor6</title>\n<ellipse fill=\"none\" stroke=\"#000000\" cx=\"851.7445\" cy=\"-18\" rx=\"61.99\" ry=\"18\"/>\n<text text-anchor=\"middle\" x=\"851.7445\" y=\"-14.3\" font-family=\"Times,serif\" font-size=\"14.00\" fill=\"#000000\">Iris&#45;versicolor</text>\n</g>\n<!-- Id&#45;&gt;Iris&#45;versicolor6 -->\n<g id=\"edge7\" class=\"edge\">\n<title>Id&#45;&gt;Iris&#45;versicolor6</title>\n<path fill=\"none\" stroke=\"#000000\" d=\"M6820.5813,-104.9477C6408.1459,-104.1394 1433.2142,-93.8852 1129.7445,-69 1036.457,-61.3502 1013.3945,-55.0097 921.7445,-36 917.0027,-35.0165 912.0996,-33.9204 907.1917,-32.768\"/>\n<polygon fill=\"#000000\" stroke=\"#000000\" points=\"907.7035,-29.291 897.1609,-30.3417 906.0577,-36.0948 907.7035,-29.291\"/>\n<text text-anchor=\"middle\" x=\"1137.7445\" y=\"-57.8\" font-family=\"Times,serif\" font-size=\"14.00\" fill=\"#000000\">67</text>\n</g>\n<!-- Iris&#45;versicolor7 -->\n<g id=\"node9\" class=\"node\">\n<title>Iris&#45;versicolor7</title>\n<ellipse fill=\"none\" stroke=\"#000000\" cx=\"992.7445\" cy=\"-18\" rx=\"61.99\" ry=\"18\"/>\n<text text-anchor=\"middle\" x=\"992.7445\" y=\"-14.3\" font-family=\"Times,serif\" font-size=\"14.00\" fill=\"#000000\">Iris&#45;versicolor</text>\n</g>\n<!-- Id&#45;&gt;Iris&#45;versicolor7 -->\n<g id=\"edge8\" class=\"edge\">\n<title>Id&#45;&gt;Iris&#45;versicolor7</title>\n<path fill=\"none\" stroke=\"#000000\" d=\"M6820.5591,-104.9538C6412.8631,-104.2449 1552.2116,-95.2537 1255.7445,-69 1169.4975,-61.3624 1148.4404,-53.986 1063.7445,-36 1058.7417,-34.9376 1053.5584,-33.7648 1048.3749,-32.5424\"/>\n<polygon fill=\"#000000\" stroke=\"#000000\" points=\"1048.9957,-29.0918 1038.4535,-30.1466 1047.3526,-35.8962 1048.9957,-29.0918\"/>\n<text text-anchor=\"middle\" x=\"1263.7445\" y=\"-57.8\" font-family=\"Times,serif\" font-size=\"14.00\" fill=\"#000000\">63</text>\n</g>\n<!-- Iris&#45;virginica8 -->\n<g id=\"node10\" class=\"node\">\n<title>Iris&#45;virginica8</title>\n<ellipse fill=\"none\" stroke=\"#000000\" cx=\"1130.7445\" cy=\"-18\" rx=\"57.6901\" ry=\"18\"/>\n<text text-anchor=\"middle\" x=\"1130.7445\" y=\"-14.3\" font-family=\"Times,serif\" font-size=\"14.00\" fill=\"#000000\">Iris&#45;virginica</text>\n</g>\n<!-- Id&#45;&gt;Iris&#45;virginica8 -->\n<g id=\"edge9\" class=\"edge\">\n<title>Id&#45;&gt;Iris&#45;virginica8</title>\n<path fill=\"none\" stroke=\"#000000\" d=\"M6820.4826,-104.9677C6416.6137,-104.4722 1656.8675,-98.0226 1366.7445,-69 1302.6882,-62.5921 1230.5539,-45.5182 1183.0868,-32.8816\"/>\n<polygon fill=\"#000000\" stroke=\"#000000\" points=\"1183.9102,-29.4787 1173.344,-30.2579 1182.0899,-36.2379 1183.9102,-29.4787\"/>\n<text text-anchor=\"middle\" x=\"1377.7445\" y=\"-57.8\" font-family=\"Times,serif\" font-size=\"14.00\" fill=\"#000000\">117</text>\n</g>\n<!-- Iris&#45;setosa9 -->\n<g id=\"node11\" class=\"node\">\n<title>Iris&#45;setosa9</title>\n<ellipse fill=\"none\" stroke=\"#000000\" cx=\"1253.7445\" cy=\"-18\" rx=\"47.3916\" ry=\"18\"/>\n<text text-anchor=\"middle\" x=\"1253.7445\" y=\"-14.3\" font-family=\"Times,serif\" font-size=\"14.00\" fill=\"#000000\">Iris&#45;setosa</text>\n</g>\n<!-- Id&#45;&gt;Iris&#45;setosa9 -->\n<g id=\"edge10\" class=\"edge\">\n<title>Id&#45;&gt;Iris&#45;setosa9</title>\n<path fill=\"none\" stroke=\"#000000\" d=\"M6820.6321,-104.935C6423.8107,-103.9687 1800.1852,-92.2259 1517.7445,-69 1424.4587,-61.3288 1400.7906,-57.7187 1309.7445,-36 1306.1033,-35.1314 1302.3567,-34.1425 1298.6095,-33.0855\"/>\n<polygon fill=\"#000000\" stroke=\"#000000\" points=\"1299.3437,-29.6527 1288.7612,-30.1647 1297.3532,-36.3637 1299.3437,-29.6527\"/>\n<text text-anchor=\"middle\" x=\"1525.7445\" y=\"-57.8\" font-family=\"Times,serif\" font-size=\"14.00\" fill=\"#000000\">34</text>\n</g>\n<!-- Iris&#45;versicolor10 -->\n<g id=\"node12\" class=\"node\">\n<title>Iris&#45;versicolor10</title>\n<ellipse fill=\"none\" stroke=\"#000000\" cx=\"1380.7445\" cy=\"-18\" rx=\"61.99\" ry=\"18\"/>\n<text text-anchor=\"middle\" x=\"1380.7445\" y=\"-14.3\" font-family=\"Times,serif\" font-size=\"14.00\" fill=\"#000000\">Iris&#45;versicolor</text>\n</g>\n<!-- Id&#45;&gt;Iris&#45;versicolor10 -->\n<g id=\"edge11\" class=\"edge\">\n<title>Id&#45;&gt;Iris&#45;versicolor10</title>\n<path fill=\"none\" stroke=\"#000000\" d=\"M6820.6759,-104.9405C6429.2138,-104.0651 1919.2144,-93.4609 1643.7445,-69 1557.4993,-61.3417 1536.4404,-53.986 1451.7445,-36 1446.7417,-34.9376 1441.5584,-33.7648 1436.3749,-32.5424\"/>\n<polygon fill=\"#000000\" stroke=\"#000000\" points=\"1436.9957,-29.0918 1426.4535,-30.1466 1435.3526,-35.8962 1436.9957,-29.0918\"/>\n<text text-anchor=\"middle\" x=\"1651.7445\" y=\"-57.8\" font-family=\"Times,serif\" font-size=\"14.00\" fill=\"#000000\">61</text>\n</g>\n<!-- Iris&#45;virginica11 -->\n<g id=\"node13\" class=\"node\">\n<title>Iris&#45;virginica11</title>\n<ellipse fill=\"none\" stroke=\"#000000\" cx=\"1518.7445\" cy=\"-18\" rx=\"57.6901\" ry=\"18\"/>\n<text text-anchor=\"middle\" x=\"1518.7445\" y=\"-14.3\" font-family=\"Times,serif\" font-size=\"14.00\" fill=\"#000000\">Iris&#45;virginica</text>\n</g>\n<!-- Id&#45;&gt;Iris&#45;virginica11 -->\n<g id=\"edge12\" class=\"edge\">\n<title>Id&#45;&gt;Iris&#45;virginica11</title>\n<path fill=\"none\" stroke=\"#000000\" d=\"M6820.6618,-104.9539C6433.6104,-104.278 2023.9114,-95.9943 1754.7445,-69 1690.6898,-62.5761 1618.5552,-45.5053 1571.0876,-32.8739\"/>\n<polygon fill=\"#000000\" stroke=\"#000000\" points=\"1571.9107,-29.471 1561.3447,-30.2513 1570.0912,-36.2304 1571.9107,-29.471\"/>\n<text text-anchor=\"middle\" x=\"1765.7445\" y=\"-57.8\" font-family=\"Times,serif\" font-size=\"14.00\" fill=\"#000000\">111</text>\n</g>\n<!-- Iris&#45;setosa12 -->\n<g id=\"node14\" class=\"node\">\n<title>Iris&#45;setosa12</title>\n<ellipse fill=\"none\" stroke=\"#000000\" cx=\"1641.7445\" cy=\"-18\" rx=\"47.3916\" ry=\"18\"/>\n<text text-anchor=\"middle\" x=\"1641.7445\" y=\"-14.3\" font-family=\"Times,serif\" font-size=\"14.00\" fill=\"#000000\">Iris&#45;setosa</text>\n</g>\n<!-- Id&#45;&gt;Iris&#45;setosa12 -->\n<g id=\"edge13\" class=\"edge\">\n<title>Id&#45;&gt;Iris&#45;setosa12</title>\n<path fill=\"none\" stroke=\"#000000\" d=\"M6820.5584,-104.9244C6438.789,-103.8477 2160.4637,-91.3001 1898.7445,-69 1808.5421,-61.3142 1785.7462,-57.2431 1697.7445,-36 1694.1584,-35.1343 1690.4693,-34.1545 1686.7776,-33.1101\"/>\n<polygon fill=\"#000000\" stroke=\"#000000\" points=\"1687.6511,-29.7185 1677.0685,-30.2282 1685.6592,-36.4291 1687.6511,-29.7185\"/>\n<text text-anchor=\"middle\" x=\"1906.7445\" y=\"-57.8\" font-family=\"Times,serif\" font-size=\"14.00\" fill=\"#000000\">43</text>\n</g>\n<!-- Iris&#45;virginica13 -->\n<g id=\"node15\" class=\"node\">\n<title>Iris&#45;virginica13</title>\n<ellipse fill=\"none\" stroke=\"#000000\" cx=\"1764.7445\" cy=\"-18\" rx=\"57.6901\" ry=\"18\"/>\n<text text-anchor=\"middle\" x=\"1764.7445\" y=\"-14.3\" font-family=\"Times,serif\" font-size=\"14.00\" fill=\"#000000\">Iris&#45;virginica</text>\n</g>\n<!-- Id&#45;&gt;Iris&#45;virginica13 -->\n<g id=\"edge14\" class=\"edge\">\n<title>Id&#45;&gt;Iris&#45;virginica13</title>\n<path fill=\"none\" stroke=\"#000000\" d=\"M6820.722,-104.9192C6445.6078,-103.7827 2287.2454,-90.711 2032.7445,-69 1942.5428,-61.3051 1920.2357,-55.1013 1831.7445,-36 1827.061,-34.989 1822.2151,-33.8576 1817.3705,-32.6676\"/>\n<polygon fill=\"#000000\" stroke=\"#000000\" points=\"1818.0338,-29.2251 1807.4805,-30.1624 1816.3149,-36.0108 1818.0338,-29.2251\"/>\n<text text-anchor=\"middle\" x=\"2044.2445\" y=\"-57.8\" font-family=\"Times,serif\" font-size=\"14.00\" fill=\"#000000\">148</text>\n</g>\n<!-- Iris&#45;versicolor14 -->\n<g id=\"node16\" class=\"node\">\n<title>Iris&#45;versicolor14</title>\n<ellipse fill=\"none\" stroke=\"#000000\" cx=\"1902.7445\" cy=\"-18\" rx=\"61.99\" ry=\"18\"/>\n<text text-anchor=\"middle\" x=\"1902.7445\" y=\"-14.3\" font-family=\"Times,serif\" font-size=\"14.00\" fill=\"#000000\">Iris&#45;versicolor</text>\n</g>\n<!-- Id&#45;&gt;Iris&#45;versicolor14 -->\n<g id=\"edge15\" class=\"edge\">\n<title>Id&#45;&gt;Iris&#45;versicolor14</title>\n<path fill=\"none\" stroke=\"#000000\" d=\"M6820.663,-104.9134C6451.1075,-103.7163 2419.6456,-90.1899 2172.7445,-69 2082.9837,-61.2964 2060.9007,-54.5695 1972.7445,-36 1968.0057,-35.0018 1963.1048,-33.8955 1958.1983,-32.7363\"/>\n<polygon fill=\"#000000\" stroke=\"#000000\" points=\"1958.7131,-29.2597 1948.1696,-30.3005 1957.0609,-36.0619 1958.7131,-29.2597\"/>\n<text text-anchor=\"middle\" x=\"2180.7445\" y=\"-57.8\" font-family=\"Times,serif\" font-size=\"14.00\" fill=\"#000000\">90</text>\n</g>\n<!-- Iris&#45;versicolor15 -->\n<g id=\"node17\" class=\"node\">\n<title>Iris&#45;versicolor15</title>\n<ellipse fill=\"none\" stroke=\"#000000\" cx=\"2043.7445\" cy=\"-18\" rx=\"61.99\" ry=\"18\"/>\n<text text-anchor=\"middle\" x=\"2043.7445\" y=\"-14.3\" font-family=\"Times,serif\" font-size=\"14.00\" fill=\"#000000\">Iris&#45;versicolor</text>\n</g>\n<!-- Id&#45;&gt;Iris&#45;versicolor15 -->\n<g id=\"edge16\" class=\"edge\">\n<title>Id&#45;&gt;Iris&#45;versicolor15</title>\n<path fill=\"none\" stroke=\"#000000\" d=\"M6820.4849,-104.9278C6454.716,-103.9415 2527.1489,-92.8113 2286.7445,-69 2221.1289,-62.501 2147.1702,-45.5606 2098.2643,-32.9767\"/>\n<polygon fill=\"#000000\" stroke=\"#000000\" points=\"2099.0832,-29.5733 2088.5241,-30.4427 2097.3207,-36.3478 2099.0832,-29.5733\"/>\n<text text-anchor=\"middle\" x=\"2294.7445\" y=\"-57.8\" font-family=\"Times,serif\" font-size=\"14.00\" fill=\"#000000\">97</text>\n</g>\n<!-- Iris&#45;setosa16 -->\n<g id=\"node18\" class=\"node\">\n<title>Iris&#45;setosa16</title>\n<ellipse fill=\"none\" stroke=\"#000000\" cx=\"2170.7445\" cy=\"-18\" rx=\"47.3916\" ry=\"18\"/>\n<text text-anchor=\"middle\" x=\"2170.7445\" y=\"-14.3\" font-family=\"Times,serif\" font-size=\"14.00\" fill=\"#000000\">Iris&#45;setosa</text>\n</g>\n<!-- Id&#45;&gt;Iris&#45;setosa16 -->\n<g id=\"edge17\" class=\"edge\">\n<title>Id&#45;&gt;Iris&#45;setosa16</title>\n<path fill=\"none\" stroke=\"#000000\" d=\"M6820.6773,-104.9134C6461.5001,-103.7488 2644.6166,-90.8748 2410.7445,-69 2328.4585,-61.3035 2307.9786,-55.8171 2227.7445,-36 2223.9429,-35.061 2220.0235,-34.0078 2216.1038,-32.8943\"/>\n<polygon fill=\"#000000\" stroke=\"#000000\" points=\"2217.0083,-29.5121 2206.4263,-30.0335 2215.0238,-36.2249 2217.0083,-29.5121\"/>\n<text text-anchor=\"middle\" x=\"2414.7445\" y=\"-57.8\" font-family=\"Times,serif\" font-size=\"14.00\" fill=\"#000000\">5</text>\n</g>\n<!-- Iris&#45;setosa17 -->\n<g id=\"node19\" class=\"node\">\n<title>Iris&#45;setosa17</title>\n<ellipse fill=\"none\" stroke=\"#000000\" cx=\"2283.7445\" cy=\"-18\" rx=\"47.3916\" ry=\"18\"/>\n<text text-anchor=\"middle\" x=\"2283.7445\" y=\"-14.3\" font-family=\"Times,serif\" font-size=\"14.00\" fill=\"#000000\">Iris&#45;setosa</text>\n</g>\n<!-- Id&#45;&gt;Iris&#45;setosa17 -->\n<g id=\"edge18\" class=\"edge\">\n<title>Id&#45;&gt;Iris&#45;setosa17</title>\n<path fill=\"none\" stroke=\"#000000\" d=\"M6820.7186,-104.8887C6467.9396,-103.422 2776.3382,-87.6503 2549.7445,-69 2455.5842,-61.2499 2431.6608,-57.8547 2339.7445,-36 2336.1027,-35.1341 2332.3556,-34.1471 2328.6081,-33.0915\"/>\n<polygon fill=\"#000000\" stroke=\"#000000\" points=\"2329.3416,-29.6584 2318.7593,-30.1728 2327.3527,-36.3699 2329.3416,-29.6584\"/>\n<text text-anchor=\"middle\" x=\"2557.7445\" y=\"-57.8\" font-family=\"Times,serif\" font-size=\"14.00\" fill=\"#000000\">45</text>\n</g>\n<!-- Iris&#45;versicolor18 -->\n<g id=\"node20\" class=\"node\">\n<title>Iris&#45;versicolor18</title>\n<ellipse fill=\"none\" stroke=\"#000000\" cx=\"2410.7445\" cy=\"-18\" rx=\"61.99\" ry=\"18\"/>\n<text text-anchor=\"middle\" x=\"2410.7445\" y=\"-14.3\" font-family=\"Times,serif\" font-size=\"14.00\" fill=\"#000000\">Iris&#45;versicolor</text>\n</g>\n<!-- Id&#45;&gt;Iris&#45;versicolor18 -->\n<g id=\"edge19\" class=\"edge\">\n<title>Id&#45;&gt;Iris&#45;versicolor18</title>\n<path fill=\"none\" stroke=\"#000000\" d=\"M6820.5055,-104.8843C6472.5332,-103.392 2903.9453,-87.6549 2684.7445,-69 2593.6672,-61.2489 2571.2423,-54.5824 2481.7445,-36 2476.737,-34.9603 2471.5504,-33.803 2466.3647,-32.5907\"/>\n<polygon fill=\"#000000\" stroke=\"#000000\" points=\"2466.9814,-29.1394 2456.4406,-30.2081 2465.3472,-35.946 2466.9814,-29.1394\"/>\n<text text-anchor=\"middle\" x=\"2692.7445\" y=\"-57.8\" font-family=\"Times,serif\" font-size=\"14.00\" fill=\"#000000\">85</text>\n</g>\n<!-- Iris&#45;virginica19 -->\n<g id=\"node21\" class=\"node\">\n<title>Iris&#45;virginica19</title>\n<ellipse fill=\"none\" stroke=\"#000000\" cx=\"2548.7445\" cy=\"-18\" rx=\"57.6901\" ry=\"18\"/>\n<text text-anchor=\"middle\" x=\"2548.7445\" y=\"-14.3\" font-family=\"Times,serif\" font-size=\"14.00\" fill=\"#000000\">Iris&#45;virginica</text>\n</g>\n<!-- Id&#45;&gt;Iris&#45;virginica19 -->\n<g id=\"edge20\" class=\"edge\">\n<title>Id&#45;&gt;Iris&#45;virginica19</title>\n<path fill=\"none\" stroke=\"#000000\" d=\"M6820.6192,-104.8748C6479.5699,-103.2858 3033.587,-86.8139 2821.7445,-69 2729.3478,-61.2303 2706.4177,-55.3881 2615.7445,-36 2611.059,-34.9981 2606.2118,-33.873 2601.3663,-32.687\"/>\n<polygon fill=\"#000000\" stroke=\"#000000\" points=\"2602.0279,-29.2442 2591.4751,-30.1874 2600.3128,-36.0309 2602.0279,-29.2442\"/>\n<text text-anchor=\"middle\" x=\"2832.7445\" y=\"-57.8\" font-family=\"Times,serif\" font-size=\"14.00\" fill=\"#000000\">116</text>\n</g>\n<!-- Iris&#45;versicolor20 -->\n<g id=\"node22\" class=\"node\">\n<title>Iris&#45;versicolor20</title>\n<ellipse fill=\"none\" stroke=\"#000000\" cx=\"2686.7445\" cy=\"-18\" rx=\"61.99\" ry=\"18\"/>\n<text text-anchor=\"middle\" x=\"2686.7445\" y=\"-14.3\" font-family=\"Times,serif\" font-size=\"14.00\" fill=\"#000000\">Iris&#45;versicolor</text>\n</g>\n<!-- Id&#45;&gt;Iris&#45;versicolor20 -->\n<g id=\"edge21\" class=\"edge\">\n<title>Id&#45;&gt;Iris&#45;versicolor20</title>\n<path fill=\"none\" stroke=\"#000000\" d=\"M6820.6563,-104.9916C6496.9739,-104.86 3374.167,-102.7183 2966.7445,-69 2872.5877,-61.2076 2849.2683,-55.1198 2756.7445,-36 2752.0019,-35.02 2747.0984,-33.9263 2742.1901,-32.7756\"/>\n<polygon fill=\"#000000\" stroke=\"#000000\" points=\"2742.7013,-29.2984 2732.1589,-30.3515 2741.057,-36.1026 2742.7013,-29.2984\"/>\n<text text-anchor=\"middle\" x=\"2974.7445\" y=\"-57.8\" font-family=\"Times,serif\" font-size=\"14.00\" fill=\"#000000\">55</text>\n</g>\n<!-- Iris&#45;versicolor21 -->\n<g id=\"node23\" class=\"node\">\n<title>Iris&#45;versicolor21</title>\n<ellipse fill=\"none\" stroke=\"#000000\" cx=\"2827.7445\" cy=\"-18\" rx=\"61.99\" ry=\"18\"/>\n<text text-anchor=\"middle\" x=\"2827.7445\" y=\"-14.3\" font-family=\"Times,serif\" font-size=\"14.00\" fill=\"#000000\">Iris&#45;versicolor</text>\n</g>\n<!-- Id&#45;&gt;Iris&#45;versicolor21 -->\n<g id=\"edge22\" class=\"edge\">\n<title>Id&#45;&gt;Iris&#45;versicolor21</title>\n<path fill=\"none\" stroke=\"#000000\" d=\"M6820.7149,-104.8632C6492.9858,-103.1899 3291.795,-86.4246 3094.7445,-69 3006.7507,-61.219 2985.1859,-54.2027 2898.7445,-36 2893.7399,-34.9461 2888.5554,-33.7791 2883.371,-32.5606\"/>\n<polygon fill=\"#000000\" stroke=\"#000000\" points=\"2883.9903,-29.1097 2873.4486,-30.1698 2882.3505,-35.9149 2883.9903,-29.1097\"/>\n<text text-anchor=\"middle\" x=\"3102.7445\" y=\"-57.8\" font-family=\"Times,serif\" font-size=\"14.00\" fill=\"#000000\">84</text>\n</g>\n<!-- Iris&#45;virginica22 -->\n<g id=\"node24\" class=\"node\">\n<title>Iris&#45;virginica22</title>\n<ellipse fill=\"none\" stroke=\"#000000\" cx=\"2965.7445\" cy=\"-18\" rx=\"57.6901\" ry=\"18\"/>\n<text text-anchor=\"middle\" x=\"2965.7445\" y=\"-14.3\" font-family=\"Times,serif\" font-size=\"14.00\" fill=\"#000000\">Iris&#45;virginica</text>\n</g>\n<!-- Id&#45;&gt;Iris&#45;virginica22 -->\n<g id=\"edge23\" class=\"edge\">\n<title>Id&#45;&gt;Iris&#45;virginica22</title>\n<path fill=\"none\" stroke=\"#000000\" d=\"M6820.6501,-104.8574C6498.718,-103.1481 3412.8321,-86.3362 3222.7445,-69 3137.3901,-61.2156 3116.4392,-54.4711 3032.7445,-36 3028.1355,-34.9828 3023.3676,-33.8553 3018.5975,-32.675\"/>\n<polygon fill=\"#000000\" stroke=\"#000000\" points=\"3019.4073,-29.2696 3008.8531,-30.1966 3017.6818,-36.0536 3019.4073,-29.2696\"/>\n<text text-anchor=\"middle\" x=\"3233.7445\" y=\"-57.8\" font-family=\"Times,serif\" font-size=\"14.00\" fill=\"#000000\">118</text>\n</g>\n<!-- Iris&#45;virginica23 -->\n<g id=\"node25\" class=\"node\">\n<title>Iris&#45;virginica23</title>\n<ellipse fill=\"none\" stroke=\"#000000\" cx=\"3099.7445\" cy=\"-18\" rx=\"57.6901\" ry=\"18\"/>\n<text text-anchor=\"middle\" x=\"3099.7445\" y=\"-14.3\" font-family=\"Times,serif\" font-size=\"14.00\" fill=\"#000000\">Iris&#45;virginica</text>\n</g>\n<!-- Id&#45;&gt;Iris&#45;virginica23 -->\n<g id=\"edge24\" class=\"edge\">\n<title>Id&#45;&gt;Iris&#45;virginica23</title>\n<path fill=\"none\" stroke=\"#000000\" d=\"M6820.3671,-104.988C6513.4118,-104.818 3721.7297,-102.3573 3356.7445,-69 3271.3916,-61.1993 3250.4392,-54.4711 3166.7445,-36 3162.1355,-34.9828 3157.3676,-33.8553 3152.5975,-32.675\"/>\n<polygon fill=\"#000000\" stroke=\"#000000\" points=\"3153.4073,-29.2696 3142.8531,-30.1966 3151.6818,-36.0536 3153.4073,-29.2696\"/>\n<text text-anchor=\"middle\" x=\"3368.2445\" y=\"-57.8\" font-family=\"Times,serif\" font-size=\"14.00\" fill=\"#000000\">122</text>\n</g>\n<!-- Iris&#45;virginica24 -->\n<g id=\"node26\" class=\"node\">\n<title>Iris&#45;virginica24</title>\n<ellipse fill=\"none\" stroke=\"#000000\" cx=\"3233.7445\" cy=\"-18\" rx=\"57.6901\" ry=\"18\"/>\n<text text-anchor=\"middle\" x=\"3233.7445\" y=\"-14.3\" font-family=\"Times,serif\" font-size=\"14.00\" fill=\"#000000\">Iris&#45;virginica</text>\n</g>\n<!-- Id&#45;&gt;Iris&#45;virginica24 -->\n<g id=\"edge25\" class=\"edge\">\n<title>Id&#45;&gt;Iris&#45;virginica24</title>\n<path fill=\"none\" stroke=\"#000000\" d=\"M6820.5115,-104.9729C6520.8955,-104.6407 3843.1712,-100.7902 3492.7445,-69 3406.514,-61.1773 3385.3109,-54.5856 3300.7445,-36 3296.1346,-34.9869 3291.3661,-33.8621 3286.5955,-32.6837\"/>\n<polygon fill=\"#000000\" stroke=\"#000000\" points=\"3287.4045,-29.2781 3276.8506,-30.2079 3285.6808,-36.0626 3287.4045,-29.2781\"/>\n<text text-anchor=\"middle\" x=\"3504.2445\" y=\"-57.8\" font-family=\"Times,serif\" font-size=\"14.00\" fill=\"#000000\">125</text>\n</g>\n<!-- Iris&#45;versicolor25 -->\n<g id=\"node27\" class=\"node\">\n<title>Iris&#45;versicolor25</title>\n<ellipse fill=\"none\" stroke=\"#000000\" cx=\"3371.7445\" cy=\"-18\" rx=\"61.99\" ry=\"18\"/>\n<text text-anchor=\"middle\" x=\"3371.7445\" y=\"-14.3\" font-family=\"Times,serif\" font-size=\"14.00\" fill=\"#000000\">Iris&#45;versicolor</text>\n</g>\n<!-- Id&#45;&gt;Iris&#45;versicolor25 -->\n<g id=\"edge26\" class=\"edge\">\n<title>Id&#45;&gt;Iris&#45;versicolor25</title>\n<path fill=\"none\" stroke=\"#000000\" d=\"M6820.3592,-104.8375C6516.4201,-103.017 3781.6008,-86.1862 3612.7445,-69 3547.9982,-62.4101 3475.0685,-45.6337 3426.5629,-33.1098\"/>\n<polygon fill=\"#000000\" stroke=\"#000000\" points=\"3427.1546,-29.647 3416.5948,-30.507 3425.3861,-36.4199 3427.1546,-29.647\"/>\n<text text-anchor=\"middle\" x=\"3620.7445\" y=\"-57.8\" font-family=\"Times,serif\" font-size=\"14.00\" fill=\"#000000\">86</text>\n</g>\n<!-- Iris&#45;setosa26 -->\n<g id=\"node28\" class=\"node\">\n<title>Iris&#45;setosa26</title>\n<ellipse fill=\"none\" stroke=\"#000000\" cx=\"3498.7445\" cy=\"-18\" rx=\"47.3916\" ry=\"18\"/>\n<text text-anchor=\"middle\" x=\"3498.7445\" y=\"-14.3\" font-family=\"Times,serif\" font-size=\"14.00\" fill=\"#000000\">Iris&#45;setosa</text>\n</g>\n<!-- Id&#45;&gt;Iris&#45;setosa26 -->\n<g id=\"edge27\" class=\"edge\">\n<title>Id&#45;&gt;Iris&#45;setosa26</title>\n<path fill=\"none\" stroke=\"#000000\" d=\"M6820.7109,-104.9706C6534.0728,-104.6225 4058.1159,-100.7059 3733.7445,-69 3653.667,-61.1728 3633.8089,-55.4843 3555.7445,-36 3551.9452,-35.0517 3548.0275,-33.9919 3544.1088,-32.874\"/>\n<polygon fill=\"#000000\" stroke=\"#000000\" points=\"3545.0154,-29.4923 3534.433,-30.0062 3543.0262,-36.2037 3545.0154,-29.4923\"/>\n<text text-anchor=\"middle\" x=\"3741.7445\" y=\"-57.8\" font-family=\"Times,serif\" font-size=\"14.00\" fill=\"#000000\">10</text>\n</g>\n<!-- Iris&#45;setosa27 -->\n<g id=\"node29\" class=\"node\">\n<title>Iris&#45;setosa27</title>\n<ellipse fill=\"none\" stroke=\"#000000\" cx=\"3611.7445\" cy=\"-18\" rx=\"47.3916\" ry=\"18\"/>\n<text text-anchor=\"middle\" x=\"3611.7445\" y=\"-14.3\" font-family=\"Times,serif\" font-size=\"14.00\" fill=\"#000000\">Iris&#45;setosa</text>\n</g>\n<!-- Id&#45;&gt;Iris&#45;setosa27 -->\n<g id=\"edge28\" class=\"edge\">\n<title>Id&#45;&gt;Iris&#45;setosa27</title>\n<path fill=\"none\" stroke=\"#000000\" d=\"M6820.7297,-104.9016C6541.9085,-103.8567 4192.4446,-94.3315 3883.7445,-69 3786.9559,-61.0576 3762.2722,-58.2629 3667.7445,-36 3664.1008,-35.1418 3660.3525,-34.1604 3656.6041,-33.1086\"/>\n<polygon fill=\"#000000\" stroke=\"#000000\" points=\"3657.3358,-29.6752 3646.7537,-30.1962 3655.351,-36.3879 3657.3358,-29.6752\"/>\n<text text-anchor=\"middle\" x=\"3887.7445\" y=\"-57.8\" font-family=\"Times,serif\" font-size=\"14.00\" fill=\"#000000\">3</text>\n</g>\n<!-- Iris&#45;versicolor28 -->\n<g id=\"node30\" class=\"node\">\n<title>Iris&#45;versicolor28</title>\n<ellipse fill=\"none\" stroke=\"#000000\" cx=\"3738.7445\" cy=\"-18\" rx=\"61.99\" ry=\"18\"/>\n<text text-anchor=\"middle\" x=\"3738.7445\" y=\"-14.3\" font-family=\"Times,serif\" font-size=\"14.00\" fill=\"#000000\">Iris&#45;versicolor</text>\n</g>\n<!-- Id&#45;&gt;Iris&#45;versicolor28 -->\n<g id=\"edge29\" class=\"edge\">\n<title>Id&#45;&gt;Iris&#45;versicolor28</title>\n<path fill=\"none\" stroke=\"#000000\" d=\"M6820.6049,-104.9053C6547.7818,-103.9212 4303.8107,-95.0638 4008.7445,-69 3919.0032,-61.073 3896.9007,-54.5695 3808.7445,-36 3804.0057,-35.0018 3799.1048,-33.8955 3794.1983,-32.7363\"/>\n<polygon fill=\"#000000\" stroke=\"#000000\" points=\"3794.7131,-29.2597 3784.1696,-30.3005 3793.0609,-36.0619 3794.7131,-29.2597\"/>\n<text text-anchor=\"middle\" x=\"4016.7445\" y=\"-57.8\" font-family=\"Times,serif\" font-size=\"14.00\" fill=\"#000000\">76</text>\n</g>\n<!-- Iris&#45;versicolor29 -->\n<g id=\"node31\" class=\"node\">\n<title>Iris&#45;versicolor29</title>\n<ellipse fill=\"none\" stroke=\"#000000\" cx=\"3879.7445\" cy=\"-18\" rx=\"61.99\" ry=\"18\"/>\n<text text-anchor=\"middle\" x=\"3879.7445\" y=\"-14.3\" font-family=\"Times,serif\" font-size=\"14.00\" fill=\"#000000\">Iris&#45;versicolor</text>\n</g>\n<!-- Id&#45;&gt;Iris&#45;versicolor29 -->\n<g id=\"edge30\" class=\"edge\">\n<title>Id&#45;&gt;Iris&#45;versicolor29</title>\n<path fill=\"none\" stroke=\"#000000\" d=\"M6820.4511,-104.9324C6553.0667,-104.232 4405.1658,-97.7314 4122.7445,-69 4057.347,-62.347 3983.6366,-45.5235 3934.7223,-33.007\"/>\n<polygon fill=\"#000000\" stroke=\"#000000\" points=\"3935.5344,-29.6019 3924.9765,-30.4861 3933.7814,-36.3789 3935.5344,-29.6019\"/>\n<text text-anchor=\"middle\" x=\"4130.7445\" y=\"-57.8\" font-family=\"Times,serif\" font-size=\"14.00\" fill=\"#000000\">92</text>\n</g>\n<!-- Iris&#45;setosa30 -->\n<g id=\"node32\" class=\"node\">\n<title>Iris&#45;setosa30</title>\n<ellipse fill=\"none\" stroke=\"#000000\" cx=\"4006.7445\" cy=\"-18\" rx=\"47.3916\" ry=\"18\"/>\n<text text-anchor=\"middle\" x=\"4006.7445\" y=\"-14.3\" font-family=\"Times,serif\" font-size=\"14.00\" fill=\"#000000\">Iris&#45;setosa</text>\n</g>\n<!-- Id&#45;&gt;Iris&#45;setosa30 -->\n<g id=\"edge31\" class=\"edge\">\n<title>Id&#45;&gt;Iris&#45;setosa30</title>\n<path fill=\"none\" stroke=\"#000000\" d=\"M6820.496,-104.894C6560.2039,-103.8461 4516.9444,-94.8287 4247.7445,-69 4165.0417,-61.065 4144.4127,-55.8837 4063.7445,-36 4059.9424,-35.0628 4056.0228,-34.0109 4052.1028,-32.8983\"/>\n<polygon fill=\"#000000\" stroke=\"#000000\" points=\"4053.0069,-29.5159 4042.425,-30.0388 4051.0233,-36.229 4053.0069,-29.5159\"/>\n<text text-anchor=\"middle\" x=\"4251.7445\" y=\"-57.8\" font-family=\"Times,serif\" font-size=\"14.00\" fill=\"#000000\">9</text>\n</g>\n<!-- Iris&#45;setosa31 -->\n<g id=\"node33\" class=\"node\">\n<title>Iris&#45;setosa31</title>\n<ellipse fill=\"none\" stroke=\"#000000\" cx=\"4119.7445\" cy=\"-18\" rx=\"47.3916\" ry=\"18\"/>\n<text text-anchor=\"middle\" x=\"4119.7445\" y=\"-14.3\" font-family=\"Times,serif\" font-size=\"14.00\" fill=\"#000000\">Iris&#45;setosa</text>\n</g>\n<!-- Id&#45;&gt;Iris&#45;setosa31 -->\n<g id=\"edge32\" class=\"edge\">\n<title>Id&#45;&gt;Iris&#45;setosa31</title>\n<path fill=\"none\" stroke=\"#000000\" d=\"M6820.403,-104.8324C6567.6605,-103.2524 4642.176,-90.5577 4387.7445,-69 4292.7281,-60.9494 4268.5311,-57.9907 4175.7445,-36 4172.102,-35.1367 4168.3545,-34.1516 4164.6067,-33.0973\"/>\n<polygon fill=\"#000000\" stroke=\"#000000\" points=\"4165.3396,-29.6641 4154.7574,-30.1807 4163.3521,-36.376 4165.3396,-29.6641\"/>\n<text text-anchor=\"middle\" x=\"4395.7445\" y=\"-57.8\" font-family=\"Times,serif\" font-size=\"14.00\" fill=\"#000000\">36</text>\n</g>\n<!-- Iris&#45;versicolor32 -->\n<g id=\"node34\" class=\"node\">\n<title>Iris&#45;versicolor32</title>\n<ellipse fill=\"none\" stroke=\"#000000\" cx=\"4246.7445\" cy=\"-18\" rx=\"61.99\" ry=\"18\"/>\n<text text-anchor=\"middle\" x=\"4246.7445\" y=\"-14.3\" font-family=\"Times,serif\" font-size=\"14.00\" fill=\"#000000\">Iris&#45;versicolor</text>\n</g>\n<!-- Id&#45;&gt;Iris&#45;versicolor32 -->\n<g id=\"edge33\" class=\"edge\">\n<title>Id&#45;&gt;Iris&#45;versicolor32</title>\n<path fill=\"none\" stroke=\"#000000\" d=\"M6820.4311,-104.8094C6575.8932,-103.0721 4766.277,-89.5756 4526.7445,-69 4432.6125,-60.9141 4409.2683,-55.1198 4316.7445,-36 4312.0019,-35.02 4307.0984,-33.9263 4302.1901,-32.7756\"/>\n<polygon fill=\"#000000\" stroke=\"#000000\" points=\"4302.7013,-29.2984 4292.1589,-30.3515 4301.057,-36.1026 4302.7013,-29.2984\"/>\n<text text-anchor=\"middle\" x=\"4534.7445\" y=\"-57.8\" font-family=\"Times,serif\" font-size=\"14.00\" fill=\"#000000\">77</text>\n</g>\n<!-- Iris&#45;versicolor33 -->\n<g id=\"node35\" class=\"node\">\n<title>Iris&#45;versicolor33</title>\n<ellipse fill=\"none\" stroke=\"#000000\" cx=\"4387.7445\" cy=\"-18\" rx=\"61.99\" ry=\"18\"/>\n<text text-anchor=\"middle\" x=\"4387.7445\" y=\"-14.3\" font-family=\"Times,serif\" font-size=\"14.00\" fill=\"#000000\">Iris&#45;versicolor</text>\n</g>\n<!-- Id&#45;&gt;Iris&#45;versicolor33 -->\n<g id=\"edge34\" class=\"edge\">\n<title>Id&#45;&gt;Iris&#45;versicolor33</title>\n<path fill=\"none\" stroke=\"#000000\" d=\"M6820.4765,-104.7984C6583.8333,-103.0168 4881.3915,-89.5419 4655.7445,-69 4566.8981,-60.9118 4545.0277,-54.4596 4457.7445,-36 4453.0065,-34.998 4448.1062,-33.889 4443.2001,-32.728\"/>\n<polygon fill=\"#000000\" stroke=\"#000000\" points=\"4443.7157,-29.2515 4433.1718,-30.2897 4442.0618,-36.0533 4443.7157,-29.2515\"/>\n<text text-anchor=\"middle\" x=\"4663.7445\" y=\"-57.8\" font-family=\"Times,serif\" font-size=\"14.00\" fill=\"#000000\">95</text>\n</g>\n<!-- Iris&#45;versicolor34 -->\n<g id=\"node36\" class=\"node\">\n<title>Iris&#45;versicolor34</title>\n<ellipse fill=\"none\" stroke=\"#000000\" cx=\"4528.7445\" cy=\"-18\" rx=\"61.99\" ry=\"18\"/>\n<text text-anchor=\"middle\" x=\"4528.7445\" y=\"-14.3\" font-family=\"Times,serif\" font-size=\"14.00\" fill=\"#000000\">Iris&#45;versicolor</text>\n</g>\n<!-- Id&#45;&gt;Iris&#45;versicolor34 -->\n<g id=\"edge35\" class=\"edge\">\n<title>Id&#45;&gt;Iris&#45;versicolor34</title>\n<path fill=\"none\" stroke=\"#000000\" d=\"M6820.4455,-104.8179C6590.621,-103.2464 4982.0133,-91.4925 4768.7445,-69 4704.4774,-62.222 4632.0957,-45.5668 4583.787,-33.1214\"/>\n<polygon fill=\"#000000\" stroke=\"#000000\" points=\"4584.4147,-29.6682 4573.8554,-30.5347 4582.6504,-36.4422 4584.4147,-29.6682\"/>\n<text text-anchor=\"middle\" x=\"4776.7445\" y=\"-57.8\" font-family=\"Times,serif\" font-size=\"14.00\" fill=\"#000000\">87</text>\n</g>\n<!-- Iris&#45;setosa35 -->\n<g id=\"node37\" class=\"node\">\n<title>Iris&#45;setosa35</title>\n<ellipse fill=\"none\" stroke=\"#000000\" cx=\"4655.7445\" cy=\"-18\" rx=\"47.3916\" ry=\"18\"/>\n<text text-anchor=\"middle\" x=\"4655.7445\" y=\"-14.3\" font-family=\"Times,serif\" font-size=\"14.00\" fill=\"#000000\">Iris&#45;setosa</text>\n</g>\n<!-- Id&#45;&gt;Iris&#45;setosa35 -->\n<g id=\"edge36\" class=\"edge\">\n<title>Id&#45;&gt;Iris&#45;setosa35</title>\n<path fill=\"none\" stroke=\"#000000\" d=\"M6820.6521,-104.7743C6599.2282,-102.8943 5090.2593,-89.3929 4889.7445,-69 4810.133,-60.9033 4790.3751,-55.4178 4712.7445,-36 4708.9457,-35.0498 4705.0283,-33.9886 4701.1099,-32.8698\"/>\n<polygon fill=\"#000000\" stroke=\"#000000\" points=\"4702.0169,-29.4882 4691.4344,-30.0006 4700.0267,-36.1994 4702.0169,-29.4882\"/>\n<text text-anchor=\"middle\" x=\"4897.7445\" y=\"-57.8\" font-family=\"Times,serif\" font-size=\"14.00\" fill=\"#000000\">15</text>\n</g>\n<!-- Iris&#45;setosa36 -->\n<g id=\"node38\" class=\"node\">\n<title>Iris&#45;setosa36</title>\n<ellipse fill=\"none\" stroke=\"#000000\" cx=\"4768.7445\" cy=\"-18\" rx=\"47.3916\" ry=\"18\"/>\n<text text-anchor=\"middle\" x=\"4768.7445\" y=\"-14.3\" font-family=\"Times,serif\" font-size=\"14.00\" fill=\"#000000\">Iris&#45;setosa</text>\n</g>\n<!-- Id&#45;&gt;Iris&#45;setosa36 -->\n<g id=\"edge37\" class=\"edge\">\n<title>Id&#45;&gt;Iris&#45;setosa36</title>\n<path fill=\"none\" stroke=\"#000000\" d=\"M6820.6307,-104.9593C6623.3314,-104.5883 5405.6547,-101.014 5037.7445,-69 4942.3091,-60.6956 4917.9663,-58.0588 4824.7445,-36 4821.1017,-35.138 4817.354,-34.1538 4813.6061,-33.1001\"/>\n<polygon fill=\"#000000\" stroke=\"#000000\" points=\"4814.3386,-29.6669 4803.7565,-30.1847 4812.3518,-36.3791 4814.3386,-29.6669\"/>\n<text text-anchor=\"middle\" x=\"5045.7445\" y=\"-57.8\" font-family=\"Times,serif\" font-size=\"14.00\" fill=\"#000000\">46</text>\n</g>\n<!-- Iris&#45;versicolor37 -->\n<g id=\"node39\" class=\"node\">\n<title>Iris&#45;versicolor37</title>\n<ellipse fill=\"none\" stroke=\"#000000\" cx=\"4895.7445\" cy=\"-18\" rx=\"61.99\" ry=\"18\"/>\n<text text-anchor=\"middle\" x=\"4895.7445\" y=\"-14.3\" font-family=\"Times,serif\" font-size=\"14.00\" fill=\"#000000\">Iris&#45;versicolor</text>\n</g>\n<!-- Id&#45;&gt;Iris&#45;versicolor37 -->\n<g id=\"edge38\" class=\"edge\">\n<title>Id&#45;&gt;Iris&#45;versicolor37</title>\n<path fill=\"none\" stroke=\"#000000\" d=\"M6820.5065,-104.9409C6631.1493,-104.451 5508.6184,-100.2496 5168.7445,-69 5078.1587,-60.6711 5055.8056,-54.5281 4966.7445,-36 4961.7374,-34.9583 4956.5511,-33.7997 4951.3656,-32.5865\"/>\n<polygon fill=\"#000000\" stroke=\"#000000\" points=\"4951.9826,-29.1353 4941.4417,-30.2028 4950.3477,-35.9417 4951.9826,-29.1353\"/>\n<text text-anchor=\"middle\" x=\"5176.7445\" y=\"-57.8\" font-family=\"Times,serif\" font-size=\"14.00\" fill=\"#000000\">94</text>\n</g>\n<!-- Iris&#45;virginica38 -->\n<g id=\"node40\" class=\"node\">\n<title>Iris&#45;virginica38</title>\n<ellipse fill=\"none\" stroke=\"#000000\" cx=\"5033.7445\" cy=\"-18\" rx=\"57.6901\" ry=\"18\"/>\n<text text-anchor=\"middle\" x=\"5033.7445\" y=\"-14.3\" font-family=\"Times,serif\" font-size=\"14.00\" fill=\"#000000\">Iris&#45;virginica</text>\n</g>\n<!-- Id&#45;&gt;Iris&#45;virginica38 -->\n<g id=\"edge39\" class=\"edge\">\n<title>Id&#45;&gt;Iris&#45;virginica38</title>\n<path fill=\"none\" stroke=\"#000000\" d=\"M6820.5659,-104.9071C6639.7696,-104.2084 5608.6388,-98.9464 5295.7445,-69 5208.2454,-60.6257 5186.6187,-54.7574 5100.7445,-36 5096.0635,-34.9775 5091.2194,-33.8382 5086.3759,-32.6429\"/>\n<polygon fill=\"#000000\" stroke=\"#000000\" points=\"5087.0413,-29.2009 5076.4874,-30.1307 5085.3176,-35.9853 5087.0413,-29.2009\"/>\n<text text-anchor=\"middle\" x=\"5307.2445\" y=\"-57.8\" font-family=\"Times,serif\" font-size=\"14.00\" fill=\"#000000\">127</text>\n</g>\n<!-- Iris&#45;virginica39 -->\n<g id=\"node41\" class=\"node\">\n<title>Iris&#45;virginica39</title>\n<ellipse fill=\"none\" stroke=\"#000000\" cx=\"5167.7445\" cy=\"-18\" rx=\"57.6901\" ry=\"18\"/>\n<text text-anchor=\"middle\" x=\"5167.7445\" y=\"-14.3\" font-family=\"Times,serif\" font-size=\"14.00\" fill=\"#000000\">Iris&#45;virginica</text>\n</g>\n<!-- Id&#45;&gt;Iris&#45;virginica39 -->\n<g id=\"edge40\" class=\"edge\">\n<title>Id&#45;&gt;Iris&#45;virginica39</title>\n<path fill=\"none\" stroke=\"#000000\" d=\"M6820.7448,-104.8395C6649.6574,-103.7432 5714.383,-96.5568 5429.7445,-69 5342.2546,-60.5298 5320.6187,-54.7574 5234.7445,-36 5230.0635,-34.9775 5225.2194,-33.8382 5220.3759,-32.6429\"/>\n<polygon fill=\"#000000\" stroke=\"#000000\" points=\"5221.0413,-29.2009 5210.4874,-30.1307 5219.3176,-35.9853 5221.0413,-29.2009\"/>\n<text text-anchor=\"middle\" x=\"5440.7445\" y=\"-57.8\" font-family=\"Times,serif\" font-size=\"14.00\" fill=\"#000000\">112</text>\n</g>\n<!-- Iris&#45;virginica40 -->\n<g id=\"node42\" class=\"node\">\n<title>Iris&#45;virginica40</title>\n<ellipse fill=\"none\" stroke=\"#000000\" cx=\"5301.7445\" cy=\"-18\" rx=\"57.6901\" ry=\"18\"/>\n<text text-anchor=\"middle\" x=\"5301.7445\" y=\"-14.3\" font-family=\"Times,serif\" font-size=\"14.00\" fill=\"#000000\">Iris&#45;virginica</text>\n</g>\n<!-- Id&#45;&gt;Iris&#45;virginica40 -->\n<g id=\"edge41\" class=\"edge\">\n<title>Id&#45;&gt;Iris&#45;virginica40</title>\n<path fill=\"none\" stroke=\"#000000\" d=\"M6820.7132,-104.7605C6659.1257,-103.2506 5819.2718,-94.285 5562.7445,-69 5475.7056,-60.4209 5454.1827,-54.7001 5368.7445,-36 5364.1338,-34.9908 5359.3646,-33.8688 5354.5937,-32.6922\"/>\n<polygon fill=\"#000000\" stroke=\"#000000\" points=\"5355.4019,-29.2864 5344.8482,-30.2189 5353.6799,-36.0714 5355.4019,-29.2864\"/>\n<text text-anchor=\"middle\" x=\"5574.2445\" y=\"-57.8\" font-family=\"Times,serif\" font-size=\"14.00\" fill=\"#000000\">101</text>\n</g>\n<!-- Iris&#45;virginica41 -->\n<g id=\"node43\" class=\"node\">\n<title>Iris&#45;virginica41</title>\n<ellipse fill=\"none\" stroke=\"#000000\" cx=\"5435.7445\" cy=\"-18\" rx=\"57.6901\" ry=\"18\"/>\n<text text-anchor=\"middle\" x=\"5435.7445\" y=\"-14.3\" font-family=\"Times,serif\" font-size=\"14.00\" fill=\"#000000\">Iris&#45;virginica</text>\n</g>\n<!-- Id&#45;&gt;Iris&#45;virginica41 -->\n<g id=\"edge42\" class=\"edge\">\n<title>Id&#45;&gt;Iris&#45;virginica41</title>\n<path fill=\"none\" stroke=\"#000000\" d=\"M6820.6116,-104.6616C6668.8867,-102.6923 5924.2027,-91.99 5695.7445,-69 5609.1592,-60.2868 5587.7468,-54.6428 5502.7445,-36 5498.1342,-34.9889 5493.3654,-33.8655 5488.5946,-32.688\"/>\n<polygon fill=\"#000000\" stroke=\"#000000\" points=\"5489.4032,-29.2823 5478.8494,-30.2134 5487.6804,-36.067 5489.4032,-29.2823\"/>\n<text text-anchor=\"middle\" x=\"5707.2445\" y=\"-57.8\" font-family=\"Times,serif\" font-size=\"14.00\" fill=\"#000000\">108</text>\n</g>\n<!-- Iris&#45;virginica42 -->\n<g id=\"node44\" class=\"node\">\n<title>Iris&#45;virginica42</title>\n<ellipse fill=\"none\" stroke=\"#000000\" cx=\"5569.7445\" cy=\"-18\" rx=\"57.6901\" ry=\"18\"/>\n<text text-anchor=\"middle\" x=\"5569.7445\" y=\"-14.3\" font-family=\"Times,serif\" font-size=\"14.00\" fill=\"#000000\">Iris&#45;virginica</text>\n</g>\n<!-- Id&#45;&gt;Iris&#45;virginica42 -->\n<g id=\"edge43\" class=\"edge\">\n<title>Id&#45;&gt;Iris&#45;virginica42</title>\n<path fill=\"none\" stroke=\"#000000\" d=\"M6820.5551,-104.5408C6679.3448,-102.08 6028.4505,-89.7832 5827.7445,-69 5742.0561,-60.1269 5720.875,-54.5283 5636.7445,-36 5632.1351,-34.9848 5627.3669,-33.8587 5622.5965,-32.6793\"/>\n<polygon fill=\"#000000\" stroke=\"#000000\" points=\"5623.4059,-29.2738 5612.8518,-30.2023 5621.6813,-36.0581 5623.4059,-29.2738\"/>\n<text text-anchor=\"middle\" x=\"5839.2445\" y=\"-57.8\" font-family=\"Times,serif\" font-size=\"14.00\" fill=\"#000000\">120</text>\n</g>\n<!-- Iris&#45;virginica43 -->\n<g id=\"node45\" class=\"node\">\n<title>Iris&#45;virginica43</title>\n<ellipse fill=\"none\" stroke=\"#000000\" cx=\"5703.7445\" cy=\"-18\" rx=\"57.6901\" ry=\"18\"/>\n<text text-anchor=\"middle\" x=\"5703.7445\" y=\"-14.3\" font-family=\"Times,serif\" font-size=\"14.00\" fill=\"#000000\">Iris&#45;virginica</text>\n</g>\n<!-- Id&#45;&gt;Iris&#45;virginica43 -->\n<g id=\"edge44\" class=\"edge\">\n<title>Id&#45;&gt;Iris&#45;virginica43</title>\n<path fill=\"none\" stroke=\"#000000\" d=\"M6820.5232,-104.4893C6688.7244,-101.9301 6115.9971,-89.7926 5938.7445,-69 5875.4528,-61.5756 5804.0891,-44.8731 5756.7813,-32.5964\"/>\n<polygon fill=\"#000000\" stroke=\"#000000\" points=\"5757.6237,-29.199 5747.063,-30.0488 5755.8486,-35.9703 5757.6237,-29.199\"/>\n<text text-anchor=\"middle\" x=\"5950.2445\" y=\"-57.8\" font-family=\"Times,serif\" font-size=\"14.00\" fill=\"#000000\">128</text>\n</g>\n<!-- Iris&#45;setosa44 -->\n<g id=\"node46\" class=\"node\">\n<title>Iris&#45;setosa44</title>\n<ellipse fill=\"none\" stroke=\"#000000\" cx=\"5826.7445\" cy=\"-18\" rx=\"47.3916\" ry=\"18\"/>\n<text text-anchor=\"middle\" x=\"5826.7445\" y=\"-14.3\" font-family=\"Times,serif\" font-size=\"14.00\" fill=\"#000000\">Iris&#45;setosa</text>\n</g>\n<!-- Id&#45;&gt;Iris&#45;setosa44 -->\n<g id=\"edge45\" class=\"edge\">\n<title>Id&#45;&gt;Iris&#45;setosa44</title>\n<path fill=\"none\" stroke=\"#000000\" d=\"M6820.5552,-104.8641C6721.4496,-104.1263 6370.3303,-99.3881 6082.7445,-69 5993.1525,-59.5332 5970.3114,-57.1752 5882.7445,-36 5879.1587,-35.1329 5875.4698,-34.1521 5871.7783,-33.1069\"/>\n<polygon fill=\"#000000\" stroke=\"#000000\" points=\"5872.6522,-29.7154 5862.0696,-30.2239 5870.6595,-36.4258 5872.6522,-29.7154\"/>\n<text text-anchor=\"middle\" x=\"6090.7445\" y=\"-57.8\" font-family=\"Times,serif\" font-size=\"14.00\" fill=\"#000000\">25</text>\n</g>\n<!-- Iris&#45;virginica45 -->\n<g id=\"node47\" class=\"node\">\n<title>Iris&#45;virginica45</title>\n<ellipse fill=\"none\" stroke=\"#000000\" cx=\"5949.7445\" cy=\"-18\" rx=\"57.6901\" ry=\"18\"/>\n<text text-anchor=\"middle\" x=\"5949.7445\" y=\"-14.3\" font-family=\"Times,serif\" font-size=\"14.00\" fill=\"#000000\">Iris&#45;virginica</text>\n</g>\n<!-- Id&#45;&gt;Iris&#45;virginica45 -->\n<g id=\"edge46\" class=\"edge\">\n<title>Id&#45;&gt;Iris&#45;virginica45</title>\n<path fill=\"none\" stroke=\"#000000\" d=\"M6820.5141,-104.5861C6731.9378,-103.0012 6444.0857,-95.9736 6207.7445,-69 6122.1536,-59.2315 6100.875,-54.5283 6016.7445,-36 6012.1351,-34.9848 6007.3669,-33.8587 6002.5965,-32.6793\"/>\n<polygon fill=\"#000000\" stroke=\"#000000\" points=\"6003.4059,-29.2738 5992.8518,-30.2023 6001.6813,-36.0581 6003.4059,-29.2738\"/>\n<text text-anchor=\"middle\" x=\"6219.2445\" y=\"-57.8\" font-family=\"Times,serif\" font-size=\"14.00\" fill=\"#000000\">103</text>\n</g>\n<!-- Iris&#45;virginica46 -->\n<g id=\"node48\" class=\"node\">\n<title>Iris&#45;virginica46</title>\n<ellipse fill=\"none\" stroke=\"#000000\" cx=\"6083.7445\" cy=\"-18\" rx=\"57.6901\" ry=\"18\"/>\n<text text-anchor=\"middle\" x=\"6083.7445\" y=\"-14.3\" font-family=\"Times,serif\" font-size=\"14.00\" fill=\"#000000\">Iris&#45;virginica</text>\n</g>\n<!-- Id&#45;&gt;Iris&#45;virginica46 -->\n<g id=\"edge47\" class=\"edge\">\n<title>Id&#45;&gt;Iris&#45;virginica46</title>\n<path fill=\"none\" stroke=\"#000000\" d=\"M6820.7301,-104.1839C6743.8408,-101.632 6517.3137,-92.523 6330.7445,-69 6250.05,-58.8259 6230.0838,-53.8993 6150.7445,-36 6146.1403,-34.9613 6141.3758,-33.8188 6136.6078,-32.6286\"/>\n<polygon fill=\"#000000\" stroke=\"#000000\" points=\"6137.4219,-29.2242 6126.8664,-30.1367 6135.6871,-36.0059 6137.4219,-29.2242\"/>\n<text text-anchor=\"middle\" x=\"6342.2445\" y=\"-57.8\" font-family=\"Times,serif\" font-size=\"14.00\" fill=\"#000000\">142</text>\n</g>\n<!-- Iris&#45;setosa47 -->\n<g id=\"node49\" class=\"node\">\n<title>Iris&#45;setosa47</title>\n<ellipse fill=\"none\" stroke=\"#000000\" cx=\"6206.7445\" cy=\"-18\" rx=\"47.3916\" ry=\"18\"/>\n<text text-anchor=\"middle\" x=\"6206.7445\" y=\"-14.3\" font-family=\"Times,serif\" font-size=\"14.00\" fill=\"#000000\">Iris&#45;setosa</text>\n</g>\n<!-- Id&#45;&gt;Iris&#45;setosa47 -->\n<g id=\"edge48\" class=\"edge\">\n<title>Id&#45;&gt;Iris&#45;setosa47</title>\n<path fill=\"none\" stroke=\"#000000\" d=\"M6820.5366,-104.0167C6736.4501,-100.5066 6473.7056,-85.9985 6262.7445,-36 6259.102,-35.1367 6255.3545,-34.1516 6251.6067,-33.0973\"/>\n<polygon fill=\"#000000\" stroke=\"#000000\" points=\"6252.3396,-29.6641 6241.7574,-30.1807 6250.3521,-36.376 6252.3396,-29.6641\"/>\n<text text-anchor=\"middle\" x=\"6445.7445\" y=\"-57.8\" font-family=\"Times,serif\" font-size=\"14.00\" fill=\"#000000\">19</text>\n</g>\n<!-- Iris&#45;virginica48 -->\n<g id=\"node50\" class=\"node\">\n<title>Iris&#45;virginica48</title>\n<ellipse fill=\"none\" stroke=\"#000000\" cx=\"6329.7445\" cy=\"-18\" rx=\"57.6901\" ry=\"18\"/>\n<text text-anchor=\"middle\" x=\"6329.7445\" y=\"-14.3\" font-family=\"Times,serif\" font-size=\"14.00\" fill=\"#000000\">Iris&#45;virginica</text>\n</g>\n<!-- Id&#45;&gt;Iris&#45;virginica48 -->\n<g id=\"edge49\" class=\"edge\">\n<title>Id&#45;&gt;Iris&#45;virginica48</title>\n<path fill=\"none\" stroke=\"#000000\" d=\"M6820.8219,-102.1697C6750.5136,-94.5012 6555.8084,-71.4847 6396.7445,-36 6392.1379,-34.9723 6387.3716,-33.8375 6382.6025,-32.6524\"/>\n<polygon fill=\"#000000\" stroke=\"#000000\" points=\"6383.4144,-29.2475 6372.8596,-30.1674 6381.6843,-36.0303 6383.4144,-29.2475\"/>\n<text text-anchor=\"middle\" x=\"6581.2445\" y=\"-57.8\" font-family=\"Times,serif\" font-size=\"14.00\" fill=\"#000000\">145</text>\n</g>\n<!-- Iris&#45;virginica49 -->\n<g id=\"node51\" class=\"node\">\n<title>Iris&#45;virginica49</title>\n<ellipse fill=\"none\" stroke=\"#000000\" cx=\"6463.7445\" cy=\"-18\" rx=\"57.6901\" ry=\"18\"/>\n<text text-anchor=\"middle\" x=\"6463.7445\" y=\"-14.3\" font-family=\"Times,serif\" font-size=\"14.00\" fill=\"#000000\">Iris&#45;virginica</text>\n</g>\n<!-- Id&#45;&gt;Iris&#45;virginica49 -->\n<g id=\"edge50\" class=\"edge\">\n<title>Id&#45;&gt;Iris&#45;virginica49</title>\n<path fill=\"none\" stroke=\"#000000\" d=\"M6821.737,-99.8813C6767.4379,-89.0754 6638.1452,-62.7235 6530.7445,-36 6526.3524,-34.9071 6521.806,-33.7473 6517.2454,-32.5636\"/>\n<polygon fill=\"#000000\" stroke=\"#000000\" points=\"6517.8537,-29.1048 6507.2927,-29.9512 6516.0764,-35.8754 6517.8537,-29.1048\"/>\n<text text-anchor=\"middle\" x=\"6681.2445\" y=\"-57.8\" font-family=\"Times,serif\" font-size=\"14.00\" fill=\"#000000\">137</text>\n</g>\n<!-- Iris&#45;setosa50 -->\n<g id=\"node52\" class=\"node\">\n<title>Iris&#45;setosa50</title>\n<ellipse fill=\"none\" stroke=\"#000000\" cx=\"6586.7445\" cy=\"-18\" rx=\"47.3916\" ry=\"18\"/>\n<text text-anchor=\"middle\" x=\"6586.7445\" y=\"-14.3\" font-family=\"Times,serif\" font-size=\"14.00\" fill=\"#000000\">Iris&#45;setosa</text>\n</g>\n<!-- Id&#45;&gt;Iris&#45;setosa50 -->\n<g id=\"edge51\" class=\"edge\">\n<title>Id&#45;&gt;Iris&#45;setosa50</title>\n<path fill=\"none\" stroke=\"#000000\" d=\"M6823.1903,-96.8153C6779.4956,-82.2504 6687.6334,-51.6296 6632.1521,-33.1359\"/>\n<polygon fill=\"#000000\" stroke=\"#000000\" points=\"6633.164,-29.7839 6622.5703,-29.9419 6630.9503,-36.4247 6633.164,-29.7839\"/>\n<text text-anchor=\"middle\" x=\"6741.7445\" y=\"-57.8\" font-family=\"Times,serif\" font-size=\"14.00\" fill=\"#000000\">44</text>\n</g>\n<!-- Iris&#45;virginica51 -->\n<g id=\"node53\" class=\"node\">\n<title>Iris&#45;virginica51</title>\n<ellipse fill=\"none\" stroke=\"#000000\" cx=\"6709.7445\" cy=\"-18\" rx=\"57.6901\" ry=\"18\"/>\n<text text-anchor=\"middle\" x=\"6709.7445\" y=\"-14.3\" font-family=\"Times,serif\" font-size=\"14.00\" fill=\"#000000\">Iris&#45;virginica</text>\n</g>\n<!-- Id&#45;&gt;Iris&#45;virginica51 -->\n<g id=\"edge52\" class=\"edge\">\n<title>Id&#45;&gt;Iris&#45;virginica51</title>\n<path fill=\"none\" stroke=\"#000000\" d=\"M6827.9725,-92.535C6806.144,-78.7736 6770.6002,-56.3656 6744.1761,-39.7069\"/>\n<polygon fill=\"#000000\" stroke=\"#000000\" points=\"6745.9234,-36.6709 6735.5975,-34.2986 6742.1902,-42.5924 6745.9234,-36.6709\"/>\n<text text-anchor=\"middle\" x=\"6799.2445\" y=\"-57.8\" font-family=\"Times,serif\" font-size=\"14.00\" fill=\"#000000\">141</text>\n</g>\n<!-- Iris&#45;versicolor52 -->\n<g id=\"node54\" class=\"node\">\n<title>Iris&#45;versicolor52</title>\n<ellipse fill=\"none\" stroke=\"#000000\" cx=\"6847.7445\" cy=\"-18\" rx=\"61.99\" ry=\"18\"/>\n<text text-anchor=\"middle\" x=\"6847.7445\" y=\"-14.3\" font-family=\"Times,serif\" font-size=\"14.00\" fill=\"#000000\">Iris&#45;versicolor</text>\n</g>\n<!-- Id&#45;&gt;Iris&#45;versicolor52 -->\n<g id=\"edge53\" class=\"edge\">\n<title>Id&#45;&gt;Iris&#45;versicolor52</title>\n<path fill=\"none\" stroke=\"#000000\" d=\"M6847.7445,-86.9735C6847.7445,-75.1918 6847.7445,-59.5607 6847.7445,-46.1581\"/>\n<polygon fill=\"#000000\" stroke=\"#000000\" points=\"6851.2446,-46.0033 6847.7445,-36.0034 6844.2446,-46.0034 6851.2446,-46.0033\"/>\n<text text-anchor=\"middle\" x=\"6855.7445\" y=\"-57.8\" font-family=\"Times,serif\" font-size=\"14.00\" fill=\"#000000\">88</text>\n</g>\n<!-- Iris&#45;virginica53 -->\n<g id=\"node55\" class=\"node\">\n<title>Iris&#45;virginica53</title>\n<ellipse fill=\"none\" stroke=\"#000000\" cx=\"6985.7445\" cy=\"-18\" rx=\"57.6901\" ry=\"18\"/>\n<text text-anchor=\"middle\" x=\"6985.7445\" y=\"-14.3\" font-family=\"Times,serif\" font-size=\"14.00\" fill=\"#000000\">Iris&#45;virginica</text>\n</g>\n<!-- Id&#45;&gt;Iris&#45;virginica53 -->\n<g id=\"edge54\" class=\"edge\">\n<title>Id&#45;&gt;Iris&#45;virginica53</title>\n<path fill=\"none\" stroke=\"#000000\" d=\"M6867.5166,-92.535C6889.345,-78.7736 6924.8888,-56.3656 6951.3129,-39.7069\"/>\n<polygon fill=\"#000000\" stroke=\"#000000\" points=\"6953.2988,-42.5924 6959.8915,-34.2986 6949.5657,-36.6709 6953.2988,-42.5924\"/>\n<text text-anchor=\"middle\" x=\"6937.2445\" y=\"-57.8\" font-family=\"Times,serif\" font-size=\"14.00\" fill=\"#000000\">146</text>\n</g>\n<!-- Iris&#45;virginica54 -->\n<g id=\"node56\" class=\"node\">\n<title>Iris&#45;virginica54</title>\n<ellipse fill=\"none\" stroke=\"#000000\" cx=\"7119.7445\" cy=\"-18\" rx=\"57.6901\" ry=\"18\"/>\n<text text-anchor=\"middle\" x=\"7119.7445\" y=\"-14.3\" font-family=\"Times,serif\" font-size=\"14.00\" fill=\"#000000\">Iris&#45;virginica</text>\n</g>\n<!-- Id&#45;&gt;Iris&#45;virginica54 -->\n<g id=\"edge55\" class=\"edge\">\n<title>Id&#45;&gt;Iris&#45;virginica54</title>\n<path fill=\"none\" stroke=\"#000000\" d=\"M6872.3624,-97.1259C6916.7422,-82.9309 7010.9744,-52.7905 7069.4742,-34.0791\"/>\n<polygon fill=\"#000000\" stroke=\"#000000\" points=\"7070.7934,-37.3319 7079.2518,-30.9517 7068.6608,-30.6647 7070.7934,-37.3319\"/>\n<text text-anchor=\"middle\" x=\"7012.2445\" y=\"-57.8\" font-family=\"Times,serif\" font-size=\"14.00\" fill=\"#000000\">134</text>\n</g>\n<!-- Iris&#45;virginica55 -->\n<g id=\"node57\" class=\"node\">\n<title>Iris&#45;virginica55</title>\n<ellipse fill=\"none\" stroke=\"#000000\" cx=\"7253.7445\" cy=\"-18\" rx=\"57.6901\" ry=\"18\"/>\n<text text-anchor=\"middle\" x=\"7253.7445\" y=\"-14.3\" font-family=\"Times,serif\" font-size=\"14.00\" fill=\"#000000\">Iris&#45;virginica</text>\n</g>\n<!-- Id&#45;&gt;Iris&#45;virginica55 -->\n<g id=\"edge56\" class=\"edge\">\n<title>Id&#45;&gt;Iris&#45;virginica55</title>\n<path fill=\"none\" stroke=\"#000000\" d=\"M6873.8149,-100.2967C6930.8251,-89.8796 7070.7604,-63.5917 7186.7445,-36 7191.3363,-34.9077 7196.0922,-33.728 7200.8545,-32.5132\"/>\n<polygon fill=\"#000000\" stroke=\"#000000\" points=\"7201.7877,-35.8871 7210.588,-29.9875 7200.0295,-29.1115 7201.7877,-35.8871\"/>\n<text text-anchor=\"middle\" x=\"7115.2445\" y=\"-57.8\" font-family=\"Times,serif\" font-size=\"14.00\" fill=\"#000000\">136</text>\n</g>\n<!-- Iris&#45;versicolor56 -->\n<g id=\"node58\" class=\"node\">\n<title>Iris&#45;versicolor56</title>\n<ellipse fill=\"none\" stroke=\"#000000\" cx=\"7391.7445\" cy=\"-18\" rx=\"61.99\" ry=\"18\"/>\n<text text-anchor=\"middle\" x=\"7391.7445\" y=\"-14.3\" font-family=\"Times,serif\" font-size=\"14.00\" fill=\"#000000\">Iris&#45;versicolor</text>\n</g>\n<!-- Id&#45;&gt;Iris&#45;versicolor56 -->\n<g id=\"edge57\" class=\"edge\">\n<title>Id&#45;&gt;Iris&#45;versicolor56</title>\n<path fill=\"none\" stroke=\"#000000\" d=\"M6874.6325,-102.3222C6947.1714,-94.8307 7152.7396,-71.8317 7320.7445,-36 7325.7464,-34.9332 7330.929,-33.7574 7336.1122,-32.533\"/>\n<polygon fill=\"#000000\" stroke=\"#000000\" points=\"7337.1354,-35.8866 7346.033,-30.1347 7335.4905,-29.0825 7337.1354,-35.8866\"/>\n<text text-anchor=\"middle\" x=\"7226.7445\" y=\"-57.8\" font-family=\"Times,serif\" font-size=\"14.00\" fill=\"#000000\">56</text>\n</g>\n<!-- Iris&#45;virginica57 -->\n<g id=\"node59\" class=\"node\">\n<title>Iris&#45;virginica57</title>\n<ellipse fill=\"none\" stroke=\"#000000\" cx=\"7529.7445\" cy=\"-18\" rx=\"57.6901\" ry=\"18\"/>\n<text text-anchor=\"middle\" x=\"7529.7445\" y=\"-14.3\" font-family=\"Times,serif\" font-size=\"14.00\" fill=\"#000000\">Iris&#45;virginica</text>\n</g>\n<!-- Id&#45;&gt;Iris&#45;virginica57 -->\n<g id=\"edge58\" class=\"edge\">\n<title>Id&#45;&gt;Iris&#45;virginica57</title>\n<path fill=\"none\" stroke=\"#000000\" d=\"M6874.6981,-103.7602C6961.0656,-99.4089 7238.395,-82.4982 7462.7445,-36 7467.4362,-35.0276 7472.2877,-33.9228 7477.136,-32.7501\"/>\n<polygon fill=\"#000000\" stroke=\"#000000\" points=\"7478.1828,-36.0961 7487.031,-30.2686 7476.48,-29.3063 7478.1828,-36.0961\"/>\n<text text-anchor=\"middle\" x=\"7375.2445\" y=\"-57.8\" font-family=\"Times,serif\" font-size=\"14.00\" fill=\"#000000\">126</text>\n</g>\n<!-- Iris&#45;virginica58 -->\n<g id=\"node60\" class=\"node\">\n<title>Iris&#45;virginica58</title>\n<ellipse fill=\"none\" stroke=\"#000000\" cx=\"7663.7445\" cy=\"-18\" rx=\"57.6901\" ry=\"18\"/>\n<text text-anchor=\"middle\" x=\"7663.7445\" y=\"-14.3\" font-family=\"Times,serif\" font-size=\"14.00\" fill=\"#000000\">Iris&#45;virginica</text>\n</g>\n<!-- Id&#45;&gt;Iris&#45;virginica58 -->\n<g id=\"edge59\" class=\"edge\">\n<title>Id&#45;&gt;Iris&#45;virginica58</title>\n<path fill=\"none\" stroke=\"#000000\" d=\"M6874.944,-104.0886C6954.5027,-101.231 7193.5959,-91.2779 7390.7445,-69 7482.881,-58.5885 7506.0713,-55.3881 7596.7445,-36 7601.43,-34.9981 7606.2772,-33.873 7611.1227,-32.687\"/>\n<polygon fill=\"#000000\" stroke=\"#000000\" points=\"7612.1763,-36.0309 7621.0139,-30.1874 7610.4612,-29.2442 7612.1763,-36.0309\"/>\n<text text-anchor=\"middle\" x=\"7516.2445\" y=\"-57.8\" font-family=\"Times,serif\" font-size=\"14.00\" fill=\"#000000\">149</text>\n</g>\n<!-- Iris&#45;setosa59 -->\n<g id=\"node61\" class=\"node\">\n<title>Iris&#45;setosa59</title>\n<ellipse fill=\"none\" stroke=\"#000000\" cx=\"7786.7445\" cy=\"-18\" rx=\"47.3916\" ry=\"18\"/>\n<text text-anchor=\"middle\" x=\"7786.7445\" y=\"-14.3\" font-family=\"Times,serif\" font-size=\"14.00\" fill=\"#000000\">Iris&#45;setosa</text>\n</g>\n<!-- Id&#45;&gt;Iris&#45;setosa59 -->\n<g id=\"edge60\" class=\"edge\">\n<title>Id&#45;&gt;Iris&#45;setosa59</title>\n<path fill=\"none\" stroke=\"#000000\" d=\"M6874.8783,-104.66C6967.1616,-103.272 7277.2854,-96.707 7531.7445,-69 7620.87,-59.2955 7643.6124,-57.1073 7730.7445,-36 7734.3299,-35.1315 7738.0186,-34.1496 7741.7099,-33.1037\"/>\n<polygon fill=\"#000000\" stroke=\"#000000\" points=\"7742.8292,-36.4225 7751.4184,-30.2195 7740.8357,-29.7123 7742.8292,-36.4225\"/>\n<text text-anchor=\"middle\" x=\"7653.7445\" y=\"-57.8\" font-family=\"Times,serif\" font-size=\"14.00\" fill=\"#000000\">41</text>\n</g>\n<!-- Iris&#45;setosa60 -->\n<g id=\"node62\" class=\"node\">\n<title>Iris&#45;setosa60</title>\n<ellipse fill=\"none\" stroke=\"#000000\" cx=\"7899.7445\" cy=\"-18\" rx=\"47.3916\" ry=\"18\"/>\n<text text-anchor=\"middle\" x=\"7899.7445\" y=\"-14.3\" font-family=\"Times,serif\" font-size=\"14.00\" fill=\"#000000\">Iris&#45;setosa</text>\n</g>\n<!-- Id&#45;&gt;Iris&#45;setosa60 -->\n<g id=\"edge61\" class=\"edge\">\n<title>Id&#45;&gt;Iris&#45;setosa60</title>\n<path fill=\"none\" stroke=\"#000000\" d=\"M6875.0634,-104.3139C6998.7864,-101.1274 7507.3947,-87.155 7665.7445,-69 7745.2459,-59.8851 7765.114,-55.4178 7842.7445,-36 7846.5434,-35.0498 7850.4608,-33.9886 7854.3792,-32.8698\"/>\n<polygon fill=\"#000000\" stroke=\"#000000\" points=\"7855.4624,-36.1994 7864.0546,-30.0006 7853.4722,-29.4882 7855.4624,-36.1994\"/>\n<text text-anchor=\"middle\" x=\"7775.7445\" y=\"-57.8\" font-family=\"Times,serif\" font-size=\"14.00\" fill=\"#000000\">14</text>\n</g>\n<!-- Iris&#45;virginica61 -->\n<g id=\"node63\" class=\"node\">\n<title>Iris&#45;virginica61</title>\n<ellipse fill=\"none\" stroke=\"#000000\" cx=\"8022.7445\" cy=\"-18\" rx=\"57.6901\" ry=\"18\"/>\n<text text-anchor=\"middle\" x=\"8022.7445\" y=\"-14.3\" font-family=\"Times,serif\" font-size=\"14.00\" fill=\"#000000\">Iris&#45;virginica</text>\n</g>\n<!-- Id&#45;&gt;Iris&#45;virginica61 -->\n<g id=\"edge62\" class=\"edge\">\n<title>Id&#45;&gt;Iris&#45;virginica61</title>\n<path fill=\"none\" stroke=\"#000000\" d=\"M6874.9961,-104.5297C7009.564,-102.1197 7604.0368,-90.4284 7787.7445,-69 7851.0411,-61.6168 7922.4039,-44.9064 7969.7101,-32.6166\"/>\n<polygon fill=\"#000000\" stroke=\"#000000\" points=\"7970.6442,-35.9901 7979.4281,-30.0661 7968.8671,-29.2194 7970.6442,-35.9901\"/>\n<text text-anchor=\"middle\" x=\"7883.7445\" y=\"-57.8\" font-family=\"Times,serif\" font-size=\"14.00\" fill=\"#000000\">115</text>\n</g>\n<!-- Iris&#45;virginica62 -->\n<g id=\"node64\" class=\"node\">\n<title>Iris&#45;virginica62</title>\n<ellipse fill=\"none\" stroke=\"#000000\" cx=\"8156.7445\" cy=\"-18\" rx=\"57.6901\" ry=\"18\"/>\n<text text-anchor=\"middle\" x=\"8156.7445\" y=\"-14.3\" font-family=\"Times,serif\" font-size=\"14.00\" fill=\"#000000\">Iris&#45;virginica</text>\n</g>\n<!-- Id&#45;&gt;Iris&#45;virginica62 -->\n<g id=\"edge63\" class=\"edge\">\n<title>Id&#45;&gt;Iris&#45;virginica62</title>\n<path fill=\"none\" stroke=\"#000000\" d=\"M6874.8095,-104.5754C7018.3145,-102.2477 7691.481,-90.3533 7898.7445,-69 7984.4375,-60.1715 8005.6141,-54.5283 8089.7445,-36 8094.354,-34.9848 8099.1222,-33.8587 8103.8925,-32.6793\"/>\n<polygon fill=\"#000000\" stroke=\"#000000\" points=\"8104.8077,-36.0581 8113.6372,-30.2023 8103.0831,-29.2738 8104.8077,-36.0581\"/>\n<text text-anchor=\"middle\" x=\"8016.2445\" y=\"-57.8\" font-family=\"Times,serif\" font-size=\"14.00\" fill=\"#000000\">123</text>\n</g>\n<!-- Iris&#45;versicolor63 -->\n<g id=\"node65\" class=\"node\">\n<title>Iris&#45;versicolor63</title>\n<ellipse fill=\"none\" stroke=\"#000000\" cx=\"8294.7445\" cy=\"-18\" rx=\"61.99\" ry=\"18\"/>\n<text text-anchor=\"middle\" x=\"8294.7445\" y=\"-14.3\" font-family=\"Times,serif\" font-size=\"14.00\" fill=\"#000000\">Iris&#45;versicolor</text>\n</g>\n<!-- Id&#45;&gt;Iris&#45;versicolor63 -->\n<g id=\"edge64\" class=\"edge\">\n<title>Id&#45;&gt;Iris&#45;versicolor63</title>\n<path fill=\"none\" stroke=\"#000000\" d=\"M6874.8718,-104.6913C7029.0692,-102.8582 7796.563,-92.6691 8031.7445,-69 8117.8939,-60.3298 8139.0486,-53.986 8223.7445,-36 8228.7473,-34.9376 8233.9306,-33.7648 8239.1142,-32.5424\"/>\n<polygon fill=\"#000000\" stroke=\"#000000\" points=\"8240.1365,-35.8962 8249.0355,-30.1466 8238.4933,-29.0918 8240.1365,-35.8962\"/>\n<text text-anchor=\"middle\" x=\"8146.7445\" y=\"-57.8\" font-family=\"Times,serif\" font-size=\"14.00\" fill=\"#000000\">75</text>\n</g>\n<!-- Iris&#45;virginica64 -->\n<g id=\"node66\" class=\"node\">\n<title>Iris&#45;virginica64</title>\n<ellipse fill=\"none\" stroke=\"#000000\" cx=\"8432.7445\" cy=\"-18\" rx=\"57.6901\" ry=\"18\"/>\n<text text-anchor=\"middle\" x=\"8432.7445\" y=\"-14.3\" font-family=\"Times,serif\" font-size=\"14.00\" fill=\"#000000\">Iris&#45;virginica</text>\n</g>\n<!-- Id&#45;&gt;Iris&#45;virginica64 -->\n<g id=\"edge65\" class=\"edge\">\n<title>Id&#45;&gt;Iris&#45;virginica64</title>\n<path fill=\"none\" stroke=\"#000000\" d=\"M6874.7862,-104.7395C7038.2986,-103.0913 7896.6101,-93.3886 8158.7445,-69 8251.5057,-60.3696 8274.6348,-55.4455 8365.7445,-36 8370.4304,-34.9999 8375.2778,-33.876 8380.1235,-32.6908\"/>\n<polygon fill=\"#000000\" stroke=\"#000000\" points=\"8381.1767,-36.0348 8390.015,-30.1923 8379.4623,-29.248 8381.1767,-36.0348\"/>\n<text text-anchor=\"middle\" x=\"8288.2445\" y=\"-57.8\" font-family=\"Times,serif\" font-size=\"14.00\" fill=\"#000000\">132</text>\n</g>\n<!-- Iris&#45;versicolor65 -->\n<g id=\"node67\" class=\"node\">\n<title>Iris&#45;versicolor65</title>\n<ellipse fill=\"none\" stroke=\"#000000\" cx=\"8570.7445\" cy=\"-18\" rx=\"61.99\" ry=\"18\"/>\n<text text-anchor=\"middle\" x=\"8570.7445\" y=\"-14.3\" font-family=\"Times,serif\" font-size=\"14.00\" fill=\"#000000\">Iris&#45;versicolor</text>\n</g>\n<!-- Id&#45;&gt;Iris&#45;versicolor65 -->\n<g id=\"edge66\" class=\"edge\">\n<title>Id&#45;&gt;Iris&#45;versicolor65</title>\n<path fill=\"none\" stroke=\"#000000\" d=\"M6874.9028,-104.8561C7049.0688,-103.854 8011.1473,-97.1055 8303.7445,-69 8391.677,-60.5536 8413.3031,-54.2027 8499.7445,-36 8504.7491,-34.9461 8509.9336,-33.7791 8515.118,-32.5606\"/>\n<polygon fill=\"#000000\" stroke=\"#000000\" points=\"8516.1385,-35.9149 8525.0404,-30.1698 8514.4987,-29.1097 8516.1385,-35.9149\"/>\n<text text-anchor=\"middle\" x=\"8420.7445\" y=\"-57.8\" font-family=\"Times,serif\" font-size=\"14.00\" fill=\"#000000\">59</text>\n</g>\n<!-- Iris&#45;versicolor66 -->\n<g id=\"node68\" class=\"node\">\n<title>Iris&#45;versicolor66</title>\n<ellipse fill=\"none\" stroke=\"#000000\" cx=\"8711.7445\" cy=\"-18\" rx=\"61.99\" ry=\"18\"/>\n<text text-anchor=\"middle\" x=\"8711.7445\" y=\"-14.3\" font-family=\"Times,serif\" font-size=\"14.00\" fill=\"#000000\">Iris&#45;versicolor</text>\n</g>\n<!-- Id&#45;&gt;Iris&#45;versicolor66 -->\n<g id=\"edge67\" class=\"edge\">\n<title>Id&#45;&gt;Iris&#45;versicolor66</title>\n<path fill=\"none\" stroke=\"#000000\" d=\"M6874.9064,-104.8814C7057.854,-104.0075 8112.6871,-97.772 8432.7445,-69 8526.4065,-60.5801 8549.6576,-55.0647 8641.7445,-36 8646.4868,-35.0182 8651.3901,-33.9234 8656.2981,-32.7718\"/>\n<polygon fill=\"#000000\" stroke=\"#000000\" points=\"8657.4317,-36.0987 8666.3291,-30.3466 8655.7866,-29.2947 8657.4317,-36.0987\"/>\n<text text-anchor=\"middle\" x=\"8560.7445\" y=\"-57.8\" font-family=\"Times,serif\" font-size=\"14.00\" fill=\"#000000\">64</text>\n</g>\n<!-- Iris&#45;versicolor67 -->\n<g id=\"node69\" class=\"node\">\n<title>Iris&#45;versicolor67</title>\n<ellipse fill=\"none\" stroke=\"#000000\" cx=\"8852.7445\" cy=\"-18\" rx=\"61.99\" ry=\"18\"/>\n<text text-anchor=\"middle\" x=\"8852.7445\" y=\"-14.3\" font-family=\"Times,serif\" font-size=\"14.00\" fill=\"#000000\">Iris&#45;versicolor</text>\n</g>\n<!-- Id&#45;&gt;Iris&#45;versicolor67 -->\n<g id=\"edge68\" class=\"edge\">\n<title>Id&#45;&gt;Iris&#45;versicolor67</title>\n<path fill=\"none\" stroke=\"#000000\" d=\"M6874.7993,-104.9368C7066.5605,-104.4133 8222.8991,-99.9956 8572.7445,-69 8666.8546,-60.662 8690.2207,-55.1198 8782.7445,-36 8787.4871,-35.02 8792.3907,-33.9263 8797.2989,-32.7756\"/>\n<polygon fill=\"#000000\" stroke=\"#000000\" points=\"8798.4321,-36.1026 8807.3301,-30.3515 8796.7878,-29.2984 8798.4321,-36.1026\"/>\n<text text-anchor=\"middle\" x=\"8700.7445\" y=\"-57.8\" font-family=\"Times,serif\" font-size=\"14.00\" fill=\"#000000\">73</text>\n</g>\n<!-- Iris&#45;versicolor68 -->\n<g id=\"node70\" class=\"node\">\n<title>Iris&#45;versicolor68</title>\n<ellipse fill=\"none\" stroke=\"#000000\" cx=\"8993.7445\" cy=\"-18\" rx=\"61.99\" ry=\"18\"/>\n<text text-anchor=\"middle\" x=\"8993.7445\" y=\"-14.3\" font-family=\"Times,serif\" font-size=\"14.00\" fill=\"#000000\">Iris&#45;versicolor</text>\n</g>\n<!-- Id&#45;&gt;Iris&#45;versicolor68 -->\n<g id=\"edge69\" class=\"edge\">\n<title>Id&#45;&gt;Iris&#45;versicolor68</title>\n<path fill=\"none\" stroke=\"#000000\" d=\"M6874.8962,-104.6994C7090.4737,-102.283 8521.8982,-85.6881 8712.7445,-69 8807.3015,-60.7317 8830.7837,-55.1749 8923.7445,-36 8928.4875,-35.0217 8933.3913,-33.9292 8938.2997,-32.7793\"/>\n<polygon fill=\"#000000\" stroke=\"#000000\" points=\"8939.4324,-36.1065 8948.3311,-30.3564 8937.7889,-29.3021 8939.4324,-36.1065\"/>\n<text text-anchor=\"middle\" x=\"8841.7445\" y=\"-57.8\" font-family=\"Times,serif\" font-size=\"14.00\" fill=\"#000000\">82</text>\n</g>\n<!-- Iris&#45;virginica69 -->\n<g id=\"node71\" class=\"node\">\n<title>Iris&#45;virginica69</title>\n<ellipse fill=\"none\" stroke=\"#000000\" cx=\"9131.7445\" cy=\"-18\" rx=\"57.6901\" ry=\"18\"/>\n<text text-anchor=\"middle\" x=\"9131.7445\" y=\"-14.3\" font-family=\"Times,serif\" font-size=\"14.00\" fill=\"#000000\">Iris&#45;virginica</text>\n</g>\n<!-- Id&#45;&gt;Iris&#45;virginica69 -->\n<g id=\"edge70\" class=\"edge\">\n<title>Id&#45;&gt;Iris&#45;virginica69</title>\n<path fill=\"none\" stroke=\"#000000\" d=\"M6874.7835,-104.7398C7099.0504,-102.552 8647.812,-86.8666 8853.7445,-69 8948.3071,-60.7958 8971.8883,-55.6752 9064.7445,-36 9069.4319,-35.0068 9074.2803,-33.8876 9079.1266,-32.7056\"/>\n<polygon fill=\"#000000\" stroke=\"#000000\" points=\"9080.1783,-36.0501 9089.019,-30.2113 9078.4668,-29.2625 9080.1783,-36.0501\"/>\n<text text-anchor=\"middle\" x=\"8986.2445\" y=\"-57.8\" font-family=\"Times,serif\" font-size=\"14.00\" fill=\"#000000\">143</text>\n</g>\n<!-- Iris&#45;setosa70 -->\n<g id=\"node72\" class=\"node\">\n<title>Iris&#45;setosa70</title>\n<ellipse fill=\"none\" stroke=\"#000000\" cx=\"9254.7445\" cy=\"-18\" rx=\"47.3916\" ry=\"18\"/>\n<text text-anchor=\"middle\" x=\"9254.7445\" y=\"-14.3\" font-family=\"Times,serif\" font-size=\"14.00\" fill=\"#000000\">Iris&#45;setosa</text>\n</g>\n<!-- Id&#45;&gt;Iris&#45;setosa70 -->\n<g id=\"edge71\" class=\"edge\">\n<title>Id&#45;&gt;Iris&#45;setosa70</title>\n<path fill=\"none\" stroke=\"#000000\" d=\"M6874.9073,-104.7922C7108.838,-102.97 8780.1359,-89.2986 9001.7445,-69 9090.1499,-60.9024 9112.4817,-56.9715 9198.7445,-36 9202.3292,-35.1285 9206.0174,-34.1446 9209.7084,-33.0972\"/>\n<polygon fill=\"#000000\" stroke=\"#000000\" points=\"9210.8286,-36.4156 9219.4162,-30.2105 9208.8334,-29.706 9210.8286,-36.4156\"/>\n<text text-anchor=\"middle\" x=\"9125.7445\" y=\"-57.8\" font-family=\"Times,serif\" font-size=\"14.00\" fill=\"#000000\">30</text>\n</g>\n<!-- Iris&#45;versicolor71 -->\n<g id=\"node73\" class=\"node\">\n<title>Iris&#45;versicolor71</title>\n<ellipse fill=\"none\" stroke=\"#000000\" cx=\"9381.7445\" cy=\"-18\" rx=\"61.99\" ry=\"18\"/>\n<text text-anchor=\"middle\" x=\"9381.7445\" y=\"-14.3\" font-family=\"Times,serif\" font-size=\"14.00\" fill=\"#000000\">Iris&#45;versicolor</text>\n</g>\n<!-- Id&#45;&gt;Iris&#45;versicolor71 -->\n<g id=\"edge72\" class=\"edge\">\n<title>Id&#45;&gt;Iris&#45;versicolor71</title>\n<path fill=\"none\" stroke=\"#000000\" d=\"M6875.0787,-104.8571C7117.8848,-103.5501 8901.8992,-93.1646 9137.7445,-69 9203.5964,-62.2529 9277.866,-45.3609 9326.9839,-32.8561\"/>\n<polygon fill=\"#000000\" stroke=\"#000000\" points=\"9327.9542,-36.2205 9336.7665,-30.3389 9326.2098,-29.4414 9327.9542,-36.2205\"/>\n<text text-anchor=\"middle\" x=\"9240.7445\" y=\"-57.8\" font-family=\"Times,serif\" font-size=\"14.00\" fill=\"#000000\">57</text>\n</g>\n<!-- Iris&#45;setosa72 -->\n<g id=\"node74\" class=\"node\">\n<title>Iris&#45;setosa72</title>\n<ellipse fill=\"none\" stroke=\"#000000\" cx=\"9508.7445\" cy=\"-18\" rx=\"47.3916\" ry=\"18\"/>\n<text text-anchor=\"middle\" x=\"9508.7445\" y=\"-14.3\" font-family=\"Times,serif\" font-size=\"14.00\" fill=\"#000000\">Iris&#45;setosa</text>\n</g>\n<!-- Id&#45;&gt;Iris&#45;setosa72 -->\n<g id=\"edge73\" class=\"edge\">\n<title>Id&#45;&gt;Iris&#45;setosa72</title>\n<path fill=\"none\" stroke=\"#000000\" d=\"M6874.865,-104.839C7123.5475,-103.331 9004.2326,-91.2381 9252.7445,-69 9342.4767,-60.9703 9365.1776,-57.1752 9452.7445,-36 9456.3303,-35.1329 9460.0192,-34.1521 9463.7107,-33.1069\"/>\n<polygon fill=\"#000000\" stroke=\"#000000\" points=\"9464.8295,-36.4258 9473.4194,-30.2239 9462.8368,-29.7154 9464.8295,-36.4258\"/>\n<text text-anchor=\"middle\" x=\"9374.7445\" y=\"-57.8\" font-family=\"Times,serif\" font-size=\"14.00\" fill=\"#000000\">6</text>\n</g>\n<!-- Iris&#45;virginica73 -->\n<g id=\"node75\" class=\"node\">\n<title>Iris&#45;virginica73</title>\n<ellipse fill=\"none\" stroke=\"#000000\" cx=\"9631.7445\" cy=\"-18\" rx=\"57.6901\" ry=\"18\"/>\n<text text-anchor=\"middle\" x=\"9631.7445\" y=\"-14.3\" font-family=\"Times,serif\" font-size=\"14.00\" fill=\"#000000\">Iris&#45;virginica</text>\n</g>\n<!-- Id&#45;&gt;Iris&#45;virginica73 -->\n<g id=\"edge74\" class=\"edge\">\n<title>Id&#45;&gt;Iris&#45;virginica73</title>\n<path fill=\"none\" stroke=\"#000000\" d=\"M6875.1122,-104.8863C7132.2552,-103.782 9120.5759,-94.4535 9382.7445,-69 9464.5676,-61.0559 9484.5346,-54.0136 9564.7445,-36 9569.3497,-34.9658 9574.115,-33.8264 9578.8834,-32.6383\"/>\n<polygon fill=\"#000000\" stroke=\"#000000\" points=\"9579.8031,-36.0158 9588.6254,-30.1492 9578.0702,-29.2337 9579.8031,-36.0158\"/>\n<text text-anchor=\"middle\" x=\"9495.2445\" y=\"-57.8\" font-family=\"Times,serif\" font-size=\"14.00\" fill=\"#000000\">124</text>\n</g>\n<!-- Iris&#45;virginica74 -->\n<g id=\"node76\" class=\"node\">\n<title>Iris&#45;virginica74</title>\n<ellipse fill=\"none\" stroke=\"#000000\" cx=\"9765.7445\" cy=\"-18\" rx=\"57.6901\" ry=\"18\"/>\n<text text-anchor=\"middle\" x=\"9765.7445\" y=\"-14.3\" font-family=\"Times,serif\" font-size=\"14.00\" fill=\"#000000\">Iris&#45;virginica</text>\n</g>\n<!-- Id&#45;&gt;Iris&#45;virginica74 -->\n<g id=\"edge75\" class=\"edge\">\n<title>Id&#45;&gt;Iris&#45;virginica74</title>\n<path fill=\"none\" stroke=\"#000000\" d=\"M6874.8242,-104.8981C7137.8773,-103.8738 9234.6826,-94.9262 9510.7445,-69 9595.2059,-61.0679 9615.9214,-54.3566 9698.7445,-36 9703.3526,-34.9787 9708.1199,-33.8483 9712.8896,-32.6661\"/>\n<polygon fill=\"#000000\" stroke=\"#000000\" points=\"9713.8063,-36.0444 9722.6334,-30.1851 9712.079,-29.2609 9713.8063,-36.0444\"/>\n<text text-anchor=\"middle\" x=\"9626.7445\" y=\"-57.8\" font-family=\"Times,serif\" font-size=\"14.00\" fill=\"#000000\">114</text>\n</g>\n<!-- Iris&#45;versicolor75 -->\n<g id=\"node77\" class=\"node\">\n<title>Iris&#45;versicolor75</title>\n<ellipse fill=\"none\" stroke=\"#000000\" cx=\"9903.7445\" cy=\"-18\" rx=\"61.99\" ry=\"18\"/>\n<text text-anchor=\"middle\" x=\"9903.7445\" y=\"-14.3\" font-family=\"Times,serif\" font-size=\"14.00\" fill=\"#000000\">Iris&#45;versicolor</text>\n</g>\n<!-- Id&#45;&gt;Iris&#45;versicolor75 -->\n<g id=\"edge76\" class=\"edge\">\n<title>Id&#45;&gt;Iris&#45;versicolor75</title>\n<path fill=\"none\" stroke=\"#000000\" d=\"M6874.8756,-104.9119C7145.2613,-103.9998 9351.6073,-95.7638 9641.7445,-69 9727.5269,-61.087 9748.4849,-53.9318 9832.7445,-36 9837.7469,-34.9354 9842.9298,-33.7611 9848.1132,-32.5377\"/>\n<polygon fill=\"#000000\" stroke=\"#000000\" points=\"9849.1359,-35.8914 9858.0342,-30.1407 9847.4919,-29.0872 9849.1359,-35.8914\"/>\n<text text-anchor=\"middle\" x=\"9755.7445\" y=\"-57.8\" font-family=\"Times,serif\" font-size=\"14.00\" fill=\"#000000\">72</text>\n</g>\n<!-- Iris&#45;versicolor76 -->\n<g id=\"node78\" class=\"node\">\n<title>Iris&#45;versicolor76</title>\n<ellipse fill=\"none\" stroke=\"#000000\" cx=\"10044.7445\" cy=\"-18\" rx=\"61.99\" ry=\"18\"/>\n<text text-anchor=\"middle\" x=\"10044.7445\" y=\"-14.3\" font-family=\"Times,serif\" font-size=\"14.00\" fill=\"#000000\">Iris&#45;versicolor</text>\n</g>\n<!-- Id&#45;&gt;Iris&#45;versicolor76 -->\n<g id=\"edge77\" class=\"edge\">\n<title>Id&#45;&gt;Iris&#45;versicolor76</title>\n<path fill=\"none\" stroke=\"#000000\" d=\"M6874.7887,-104.9069C7151.4535,-103.9234 9463.8691,-94.9558 9767.7445,-69 9860.5683,-61.0714 9883.5314,-54.9546 9974.7445,-36 9979.486,-35.0147 9984.3888,-33.9174 9989.2965,-32.7642\"/>\n<polygon fill=\"#000000\" stroke=\"#000000\" points=\"9990.4309,-36.0908 9999.3271,-30.3367 9988.7843,-29.2872 9990.4309,-36.0908\"/>\n<text text-anchor=\"middle\" x=\"9893.7445\" y=\"-57.8\" font-family=\"Times,serif\" font-size=\"14.00\" fill=\"#000000\">51</text>\n</g>\n<!-- Iris&#45;versicolor77 -->\n<g id=\"node79\" class=\"node\">\n<title>Iris&#45;versicolor77</title>\n<ellipse fill=\"none\" stroke=\"#000000\" cx=\"10185.7445\" cy=\"-18\" rx=\"61.99\" ry=\"18\"/>\n<text text-anchor=\"middle\" x=\"10185.7445\" y=\"-14.3\" font-family=\"Times,serif\" font-size=\"14.00\" fill=\"#000000\">Iris&#45;versicolor</text>\n</g>\n<!-- Id&#45;&gt;Iris&#45;versicolor77 -->\n<g id=\"edge78\" class=\"edge\">\n<title>Id&#45;&gt;Iris&#45;versicolor77</title>\n<path fill=\"none\" stroke=\"#000000\" d=\"M6875.1703,-104.9182C7160.7683,-104.0348 9587.1419,-95.768 9905.7445,-69 9999.8915,-61.0901 10023.2207,-55.1198 10115.7445,-36 10120.4871,-35.02 10125.3907,-33.9263 10130.2989,-32.7756\"/>\n<polygon fill=\"#000000\" stroke=\"#000000\" points=\"10131.4321,-36.1026 10140.3301,-30.3515 10129.7878,-29.2984 10131.4321,-36.1026\"/>\n<text text-anchor=\"middle\" x=\"10033.7445\" y=\"-57.8\" font-family=\"Times,serif\" font-size=\"14.00\" fill=\"#000000\">78</text>\n</g>\n<!-- Iris&#45;setosa78 -->\n<g id=\"node80\" class=\"node\">\n<title>Iris&#45;setosa78</title>\n<ellipse fill=\"none\" stroke=\"#000000\" cx=\"10312.7445\" cy=\"-18\" rx=\"47.3916\" ry=\"18\"/>\n<text text-anchor=\"middle\" x=\"10312.7445\" y=\"-14.3\" font-family=\"Times,serif\" font-size=\"14.00\" fill=\"#000000\">Iris&#45;setosa</text>\n</g>\n<!-- Id&#45;&gt;Iris&#45;setosa78 -->\n<g id=\"edge79\" class=\"edge\">\n<title>Id&#45;&gt;Iris&#45;setosa78</title>\n<path fill=\"none\" stroke=\"#000000\" d=\"M6875.0471,-104.9324C7167.1912,-104.178 9712.0216,-96.8296 10045.7445,-69 10140.334,-61.1121 10164.3931,-57.9227 10256.7445,-36 10260.3867,-35.1354 10264.134,-34.1494 10267.8816,-33.0944\"/>\n<polygon fill=\"#000000\" stroke=\"#000000\" points=\"10269.1367,-36.373 10277.7307,-30.1768 10267.1484,-29.6613 10269.1367,-36.373\"/>\n<text text-anchor=\"middle\" x=\"10181.7445\" y=\"-57.8\" font-family=\"Times,serif\" font-size=\"14.00\" fill=\"#000000\">18</text>\n</g>\n<!-- Iris&#45;setosa79 -->\n<g id=\"node81\" class=\"node\">\n<title>Iris&#45;setosa79</title>\n<ellipse fill=\"none\" stroke=\"#000000\" cx=\"10425.7445\" cy=\"-18\" rx=\"47.3916\" ry=\"18\"/>\n<text text-anchor=\"middle\" x=\"10425.7445\" y=\"-14.3\" font-family=\"Times,serif\" font-size=\"14.00\" fill=\"#000000\">Iris&#45;setosa</text>\n</g>\n<!-- Id&#45;&gt;Iris&#45;setosa79 -->\n<g id=\"edge80\" class=\"edge\">\n<title>Id&#45;&gt;Iris&#45;setosa79</title>\n<path fill=\"none\" stroke=\"#000000\" d=\"M6875.1018,-104.8439C7184.5788,-103.0617 10018.8643,-86.2941 10193.7445,-69 10272.5089,-61.2109 10291.9813,-55.2848 10368.7445,-36 10372.5424,-35.0459 10376.4591,-33.982 10380.3771,-32.8613\"/>\n<polygon fill=\"#000000\" stroke=\"#000000\" points=\"10381.4614,-36.1905 10390.0517,-29.9892 10379.4691,-29.4799 10381.4614,-36.1905\"/>\n<text text-anchor=\"middle\" x=\"10297.7445\" y=\"-57.8\" font-family=\"Times,serif\" font-size=\"14.00\" fill=\"#000000\">4</text>\n</g>\n<!-- Iris&#45;setosa80 -->\n<g id=\"node82\" class=\"node\">\n<title>Iris&#45;setosa80</title>\n<ellipse fill=\"none\" stroke=\"#000000\" cx=\"10538.7445\" cy=\"-18\" rx=\"47.3916\" ry=\"18\"/>\n<text text-anchor=\"middle\" x=\"10538.7445\" y=\"-14.3\" font-family=\"Times,serif\" font-size=\"14.00\" fill=\"#000000\">Iris&#45;setosa</text>\n</g>\n<!-- Id&#45;&gt;Iris&#45;setosa80 -->\n<g id=\"edge81\" class=\"edge\">\n<title>Id&#45;&gt;Iris&#45;setosa80</title>\n<path fill=\"none\" stroke=\"#000000\" d=\"M6875.0346,-104.8534C7189.7974,-103.1452 10124.8122,-86.7663 10305.7445,-69 10384.9489,-61.2227 10404.5477,-55.3513 10481.7445,-36 10485.5429,-35.0478 10489.4599,-33.9853 10493.3781,-32.8656\"/>\n<polygon fill=\"#000000\" stroke=\"#000000\" points=\"10494.4619,-36.1949 10503.0532,-29.9949 10492.4707,-29.4841 10494.4619,-36.1949\"/>\n<text text-anchor=\"middle\" x=\"10414.7445\" y=\"-57.8\" font-family=\"Times,serif\" font-size=\"14.00\" fill=\"#000000\">50</text>\n</g>\n<!-- Iris&#45;versicolor81 -->\n<g id=\"node83\" class=\"node\">\n<title>Iris&#45;versicolor81</title>\n<ellipse fill=\"none\" stroke=\"#000000\" cx=\"10665.7445\" cy=\"-18\" rx=\"61.99\" ry=\"18\"/>\n<text text-anchor=\"middle\" x=\"10665.7445\" y=\"-14.3\" font-family=\"Times,serif\" font-size=\"14.00\" fill=\"#000000\">Iris&#45;versicolor</text>\n</g>\n<!-- Id&#45;&gt;Iris&#45;versicolor81 -->\n<g id=\"edge82\" class=\"edge\">\n<title>Id&#45;&gt;Iris&#45;versicolor81</title>\n<path fill=\"none\" stroke=\"#000000\" d=\"M6874.9902,-104.8702C7195.5017,-103.3262 10239.3662,-88.1808 10426.7445,-69 10490.9729,-62.4253 10563.2937,-45.646 10611.3906,-33.1173\"/>\n<polygon fill=\"#000000\" stroke=\"#000000\" points=\"10612.4962,-36.4455 10621.2747,-30.5135 10610.713,-29.6764 10612.4962,-36.4455\"/>\n<text text-anchor=\"middle\" x=\"10527.7445\" y=\"-57.8\" font-family=\"Times,serif\" font-size=\"14.00\" fill=\"#000000\">79</text>\n</g>\n<!-- Iris&#45;versicolor82 -->\n<g id=\"node84\" class=\"node\">\n<title>Iris&#45;versicolor82</title>\n<ellipse fill=\"none\" stroke=\"#000000\" cx=\"10806.7445\" cy=\"-18\" rx=\"61.99\" ry=\"18\"/>\n<text text-anchor=\"middle\" x=\"10806.7445\" y=\"-14.3\" font-family=\"Times,serif\" font-size=\"14.00\" fill=\"#000000\">Iris&#45;versicolor</text>\n</g>\n<!-- Id&#45;&gt;Iris&#45;versicolor82 -->\n<g id=\"edge83\" class=\"edge\">\n<title>Id&#45;&gt;Iris&#45;versicolor82</title>\n<path fill=\"none\" stroke=\"#000000\" d=\"M6875.2063,-104.9944C7192.1541,-104.8959 10153.0347,-103.0645 10539.7445,-69 10628.1776,-61.2101 10649.8978,-54.4046 10736.7445,-36 10741.4821,-34.996 10746.3822,-33.8856 10751.2881,-32.7238\"/>\n<polygon fill=\"#000000\" stroke=\"#000000\" points=\"10752.4268,-36.0489 10761.316,-30.2842 10750.7721,-29.2473 10752.4268,-36.0489\"/>\n<text text-anchor=\"middle\" x=\"10656.7445\" y=\"-57.8\" font-family=\"Times,serif\" font-size=\"14.00\" fill=\"#000000\">81</text>\n</g>\n<!-- Iris&#45;setosa83 -->\n<g id=\"node85\" class=\"node\">\n<title>Iris&#45;setosa83</title>\n<ellipse fill=\"none\" stroke=\"#000000\" cx=\"10933.7445\" cy=\"-18\" rx=\"47.3916\" ry=\"18\"/>\n<text text-anchor=\"middle\" x=\"10933.7445\" y=\"-14.3\" font-family=\"Times,serif\" font-size=\"14.00\" fill=\"#000000\">Iris&#45;setosa</text>\n</g>\n<!-- Id&#45;&gt;Iris&#45;setosa83 -->\n<g id=\"edge84\" class=\"edge\">\n<title>Id&#45;&gt;Iris&#45;setosa83</title>\n<path fill=\"none\" stroke=\"#000000\" d=\"M6875.1577,-104.9884C7197.8429,-104.8204 10267.9447,-102.3477 10668.7445,-69 10762.4604,-61.2026 10786.2634,-57.7867 10877.7445,-36 10881.3861,-35.1327 10885.1329,-34.1448 10888.8802,-33.0885\"/>\n<polygon fill=\"#000000\" stroke=\"#000000\" points=\"10890.1361,-36.3668 10898.7288,-30.1688 10888.1464,-29.6556 10890.1361,-36.3668\"/>\n<text text-anchor=\"middle\" x=\"10799.7445\" y=\"-57.8\" font-family=\"Times,serif\" font-size=\"14.00\" fill=\"#000000\">2</text>\n</g>\n<!-- Iris&#45;setosa84 -->\n<g id=\"node86\" class=\"node\">\n<title>Iris&#45;setosa84</title>\n<ellipse fill=\"none\" stroke=\"#000000\" cx=\"11046.7445\" cy=\"-18\" rx=\"47.3916\" ry=\"18\"/>\n<text text-anchor=\"middle\" x=\"11046.7445\" y=\"-14.3\" font-family=\"Times,serif\" font-size=\"14.00\" fill=\"#000000\">Iris&#45;setosa</text>\n</g>\n<!-- Id&#45;&gt;Iris&#45;setosa84 -->\n<g id=\"edge85\" class=\"edge\">\n<title>Id&#45;&gt;Iris&#45;setosa84</title>\n<path fill=\"none\" stroke=\"#000000\" d=\"M6874.9461,-104.8863C7213.3845,-103.4551 10599.6738,-88.6648 10807.7445,-69 10889.5876,-61.265 10909.9445,-55.7505 10989.7445,-36 10993.5457,-35.0592 10997.4648,-34.0047 11001.3843,-32.8904\"/>\n<polygon fill=\"#000000\" stroke=\"#000000\" points=\"11002.4648,-36.2207 11011.0615,-30.0282 11000.4794,-29.5082 11002.4648,-36.2207\"/>\n<text text-anchor=\"middle\" x=\"10919.7445\" y=\"-57.8\" font-family=\"Times,serif\" font-size=\"14.00\" fill=\"#000000\">32</text>\n</g>\n<!-- Iris&#45;virginica85 -->\n<g id=\"node87\" class=\"node\">\n<title>Iris&#45;virginica85</title>\n<ellipse fill=\"none\" stroke=\"#000000\" cx=\"11169.7445\" cy=\"-18\" rx=\"57.6901\" ry=\"18\"/>\n<text text-anchor=\"middle\" x=\"11169.7445\" y=\"-14.3\" font-family=\"Times,serif\" font-size=\"14.00\" fill=\"#000000\">Iris&#45;virginica</text>\n</g>\n<!-- Id&#45;&gt;Iris&#45;virginica85 -->\n<g id=\"edge86\" class=\"edge\">\n<title>Id&#45;&gt;Iris&#45;virginica85</title>\n<path fill=\"none\" stroke=\"#000000\" d=\"M6874.997,-104.9027C7219.458,-103.655 10717.1084,-90.4762 10931.7445,-69 10996.3195,-62.5387 11069.0699,-45.4755 11116.947,-32.856\"/>\n<polygon fill=\"#000000\" stroke=\"#000000\" points=\"11118.0132,-36.194 11126.774,-30.236 11116.2099,-29.4303 11118.0132,-36.194\"/>\n<text text-anchor=\"middle\" x=\"11036.2445\" y=\"-57.8\" font-family=\"Times,serif\" font-size=\"14.00\" fill=\"#000000\">131</text>\n</g>\n<!-- Iris&#45;setosa86 -->\n<g id=\"node88\" class=\"node\">\n<title>Iris&#45;setosa86</title>\n<ellipse fill=\"none\" stroke=\"#000000\" cx=\"11292.7445\" cy=\"-18\" rx=\"47.3916\" ry=\"18\"/>\n<text text-anchor=\"middle\" x=\"11292.7445\" y=\"-14.3\" font-family=\"Times,serif\" font-size=\"14.00\" fill=\"#000000\">Iris&#45;setosa</text>\n</g>\n<!-- Id&#45;&gt;Iris&#45;setosa86 -->\n<g id=\"edge87\" class=\"edge\">\n<title>Id&#45;&gt;Iris&#45;setosa86</title>\n<path fill=\"none\" stroke=\"#000000\" d=\"M6874.9829,-104.8987C7224.8156,-103.5823 10830.4787,-89.5351 11051.7445,-69 11134.9072,-61.2819 11155.6935,-56.1578 11236.7445,-36 11240.3246,-35.1096 11244.0094,-34.1121 11247.6981,-33.0554\"/>\n<polygon fill=\"#000000\" stroke=\"#000000\" points=\"11248.8244,-36.3718 11257.4021,-30.153 11246.8184,-29.6653 11248.8244,-36.3718\"/>\n<text text-anchor=\"middle\" x=\"11168.7445\" y=\"-57.8\" font-family=\"Times,serif\" font-size=\"14.00\" fill=\"#000000\">21</text>\n</g>\n<!-- Iris&#45;versicolor87 -->\n<g id=\"node89\" class=\"node\">\n<title>Iris&#45;versicolor87</title>\n<ellipse fill=\"none\" stroke=\"#000000\" cx=\"11419.7445\" cy=\"-18\" rx=\"61.99\" ry=\"18\"/>\n<text text-anchor=\"middle\" x=\"11419.7445\" y=\"-14.3\" font-family=\"Times,serif\" font-size=\"14.00\" fill=\"#000000\">Iris&#45;versicolor</text>\n</g>\n<!-- Id&#45;&gt;Iris&#45;versicolor87 -->\n<g id=\"edge88\" class=\"edge\">\n<title>Id&#45;&gt;Iris&#45;versicolor87</title>\n<path fill=\"none\" stroke=\"#000000\" d=\"M6874.9933,-104.9196C7230.6804,-103.8518 10952.7045,-92.1415 11180.7445,-69 11244.9786,-62.4815 11317.2983,-45.6916 11365.3935,-33.145\"/>\n<polygon fill=\"#000000\" stroke=\"#000000\" points=\"11366.5009,-36.4727 11375.2771,-30.5373 11364.7151,-29.7043 11366.5009,-36.4727\"/>\n<text text-anchor=\"middle\" x=\"11281.7445\" y=\"-57.8\" font-family=\"Times,serif\" font-size=\"14.00\" fill=\"#000000\">99</text>\n</g>\n<!-- Iris&#45;versicolor88 -->\n<g id=\"node90\" class=\"node\">\n<title>Iris&#45;versicolor88</title>\n<ellipse fill=\"none\" stroke=\"#000000\" cx=\"11560.7445\" cy=\"-18\" rx=\"61.99\" ry=\"18\"/>\n<text text-anchor=\"middle\" x=\"11560.7445\" y=\"-14.3\" font-family=\"Times,serif\" font-size=\"14.00\" fill=\"#000000\">Iris&#45;versicolor</text>\n</g>\n<!-- Id&#45;&gt;Iris&#45;versicolor88 -->\n<g id=\"edge89\" class=\"edge\">\n<title>Id&#45;&gt;Iris&#45;versicolor88</title>\n<path fill=\"none\" stroke=\"#000000\" d=\"M6874.8657,-104.904C7234.76,-103.6154 11059.2661,-89.4594 11293.7445,-69 11382.184,-61.2832 11403.8978,-54.4046 11490.7445,-36 11495.4821,-34.996 11500.3822,-33.8856 11505.2881,-32.7238\"/>\n<polygon fill=\"#000000\" stroke=\"#000000\" points=\"11506.4268,-36.0489 11515.316,-30.2842 11504.7721,-29.2473 11506.4268,-36.0489\"/>\n<text text-anchor=\"middle\" x=\"11414.7445\" y=\"-57.8\" font-family=\"Times,serif\" font-size=\"14.00\" fill=\"#000000\">65</text>\n</g>\n<!-- Iris&#45;setosa89 -->\n<g id=\"node91\" class=\"node\">\n<title>Iris&#45;setosa89</title>\n<ellipse fill=\"none\" stroke=\"#000000\" cx=\"11687.7445\" cy=\"-18\" rx=\"47.3916\" ry=\"18\"/>\n<text text-anchor=\"middle\" x=\"11687.7445\" y=\"-14.3\" font-family=\"Times,serif\" font-size=\"14.00\" fill=\"#000000\">Iris&#45;setosa</text>\n</g>\n<!-- Id&#45;&gt;Iris&#45;setosa89 -->\n<g id=\"edge90\" class=\"edge\">\n<title>Id&#45;&gt;Iris&#45;setosa89</title>\n<path fill=\"none\" stroke=\"#000000\" d=\"M6874.8282,-104.9058C7240.2737,-103.62 11184.9984,-89.2898 11426.7445,-69 11518.7052,-61.2817 11542.0035,-57.5148 11631.7445,-36 11635.3847,-35.1273 11639.1307,-34.1354 11642.8774,-33.0765\"/>\n<polygon fill=\"#000000\" stroke=\"#000000\" points=\"11644.1349,-36.3542 11652.7249,-30.1523 11642.1422,-29.6438 11644.1349,-36.3542\"/>\n<text text-anchor=\"middle\" x=\"11559.7445\" y=\"-57.8\" font-family=\"Times,serif\" font-size=\"14.00\" fill=\"#000000\">49</text>\n</g>\n<!-- Iris&#45;virginica90 -->\n<g id=\"node92\" class=\"node\">\n<title>Iris&#45;virginica90</title>\n<ellipse fill=\"none\" stroke=\"#000000\" cx=\"11810.7445\" cy=\"-18\" rx=\"57.6901\" ry=\"18\"/>\n<text text-anchor=\"middle\" x=\"11810.7445\" y=\"-14.3\" font-family=\"Times,serif\" font-size=\"14.00\" fill=\"#000000\">Iris&#45;virginica</text>\n</g>\n<!-- Id&#45;&gt;Iris&#45;virginica90 -->\n<g id=\"edge91\" class=\"edge\">\n<title>Id&#45;&gt;Iris&#45;virginica90</title>\n<path fill=\"none\" stroke=\"#000000\" d=\"M6874.8258,-104.9359C7246.481,-104.039 11322.4908,-93.6535 11571.7445,-69 11636.7833,-62.5671 11710.0875,-45.4099 11758.1607,-32.7639\"/>\n<polygon fill=\"#000000\" stroke=\"#000000\" points=\"11759.2603,-36.0931 11768.024,-30.1393 11757.4602,-29.3285 11759.2603,-36.0931\"/>\n<text text-anchor=\"middle\" x=\"11676.2445\" y=\"-57.8\" font-family=\"Times,serif\" font-size=\"14.00\" fill=\"#000000\">144</text>\n</g>\n<!-- Iris&#45;virginica91 -->\n<g id=\"node93\" class=\"node\">\n<title>Iris&#45;virginica91</title>\n<ellipse fill=\"none\" stroke=\"#000000\" cx=\"11944.7445\" cy=\"-18\" rx=\"57.6901\" ry=\"18\"/>\n<text text-anchor=\"middle\" x=\"11944.7445\" y=\"-14.3\" font-family=\"Times,serif\" font-size=\"14.00\" fill=\"#000000\">Iris&#45;virginica</text>\n</g>\n<!-- Id&#45;&gt;Iris&#45;virginica91 -->\n<g id=\"edge92\" class=\"edge\">\n<title>Id&#45;&gt;Iris&#45;virginica91</title>\n<path fill=\"none\" stroke=\"#000000\" d=\"M6874.9307,-104.93C7252.3164,-103.9427 11435.8562,-92.4824 11691.7445,-69 11775.3509,-61.3276 11795.7926,-54.2422 11877.7445,-36 11882.3517,-34.9745 11887.1183,-33.8411 11891.8876,-32.657\"/>\n<polygon fill=\"#000000\" stroke=\"#000000\" points=\"11892.8052,-36.0351 11901.6308,-30.1734 11891.0761,-29.252 11892.8052,-36.0351\"/>\n<text text-anchor=\"middle\" x=\"11806.2445\" y=\"-57.8\" font-family=\"Times,serif\" font-size=\"14.00\" fill=\"#000000\">147</text>\n</g>\n<!-- Iris&#45;setosa92 -->\n<g id=\"node94\" class=\"node\">\n<title>Iris&#45;setosa92</title>\n<ellipse fill=\"none\" stroke=\"#000000\" cx=\"12067.7445\" cy=\"-18\" rx=\"47.3916\" ry=\"18\"/>\n<text text-anchor=\"middle\" x=\"12067.7445\" y=\"-14.3\" font-family=\"Times,serif\" font-size=\"14.00\" fill=\"#000000\">Iris&#45;setosa</text>\n</g>\n<!-- Id&#45;&gt;Iris&#45;setosa92 -->\n<g id=\"edge93\" class=\"edge\">\n<title>Id&#45;&gt;Iris&#45;setosa92</title>\n<path fill=\"none\" stroke=\"#000000\" d=\"M6874.7752,-104.933C7256.5772,-103.9717 11558.7421,-92.6291 11821.7445,-69 11907.1094,-61.3305 11928.5228,-56.4967 12011.7445,-36 12015.3266,-35.1178 12019.0129,-34.1261 12022.7025,-33.0734\"/>\n<polygon fill=\"#000000\" stroke=\"#000000\" points=\"12023.8262,-36.3907 12032.4082,-30.1778 12021.8249,-29.6829 12023.8262,-36.3907\"/>\n<text text-anchor=\"middle\" x=\"11941.7445\" y=\"-57.8\" font-family=\"Times,serif\" font-size=\"14.00\" fill=\"#000000\">27</text>\n</g>\n<!-- Iris&#45;versicolor93 -->\n<g id=\"node95\" class=\"node\">\n<title>Iris&#45;versicolor93</title>\n<ellipse fill=\"none\" stroke=\"#000000\" cx=\"12194.7445\" cy=\"-18\" rx=\"61.99\" ry=\"18\"/>\n<text text-anchor=\"middle\" x=\"12194.7445\" y=\"-14.3\" font-family=\"Times,serif\" font-size=\"14.00\" fill=\"#000000\">Iris&#45;versicolor</text>\n</g>\n<!-- Id&#45;&gt;Iris&#45;versicolor93 -->\n<g id=\"edge94\" class=\"edge\">\n<title>Id&#45;&gt;Iris&#45;versicolor93</title>\n<path fill=\"none\" stroke=\"#000000\" d=\"M6874.8963,-104.9535C7262.9344,-104.2707 11683.8754,-95.9114 11953.7445,-69 12018.5041,-62.5421 12091.4313,-45.7408 12139.9327,-33.1749\"/>\n<polygon fill=\"#000000\" stroke=\"#000000\" points=\"12141.1138,-36.4837 12149.8999,-30.563 12139.3393,-29.7123 12141.1138,-36.4837\"/>\n<text text-anchor=\"middle\" x=\"12055.7445\" y=\"-57.8\" font-family=\"Times,serif\" font-size=\"14.00\" fill=\"#000000\">54</text>\n</g>\n<!-- Iris&#45;versicolor94 -->\n<g id=\"node96\" class=\"node\">\n<title>Iris&#45;versicolor94</title>\n<ellipse fill=\"none\" stroke=\"#000000\" cx=\"12335.7445\" cy=\"-18\" rx=\"61.99\" ry=\"18\"/>\n<text text-anchor=\"middle\" x=\"12335.7445\" y=\"-14.3\" font-family=\"Times,serif\" font-size=\"14.00\" fill=\"#000000\">Iris&#45;versicolor</text>\n</g>\n<!-- Id&#45;&gt;Iris&#45;versicolor94 -->\n<g id=\"edge95\" class=\"edge\">\n<title>Id&#45;&gt;Iris&#45;versicolor94</title>\n<path fill=\"none\" stroke=\"#000000\" d=\"M6874.896,-104.937C7267.5567,-104.0106 11791.3662,-92.8336 12067.7445,-69 12156.6285,-61.3351 12178.4613,-54.4596 12265.7445,-36 12270.4825,-34.998 12275.3829,-33.889 12280.289,-32.728\"/>\n<polygon fill=\"#000000\" stroke=\"#000000\" points=\"12281.4273,-36.0533 12290.3172,-30.2897 12279.7734,-29.2515 12281.4273,-36.0533\"/>\n<text text-anchor=\"middle\" x=\"12188.7445\" y=\"-57.8\" font-family=\"Times,serif\" font-size=\"14.00\" fill=\"#000000\">60</text>\n</g>\n<!-- Iris&#45;virginica95 -->\n<g id=\"node97\" class=\"node\">\n<title>Iris&#45;virginica95</title>\n<ellipse fill=\"none\" stroke=\"#000000\" cx=\"12473.7445\" cy=\"-18\" rx=\"57.6901\" ry=\"18\"/>\n<text text-anchor=\"middle\" x=\"12473.7445\" y=\"-14.3\" font-family=\"Times,serif\" font-size=\"14.00\" fill=\"#000000\">Iris&#45;virginica</text>\n</g>\n<!-- Id&#45;&gt;Iris&#45;virginica95 -->\n<g id=\"edge96\" class=\"edge\">\n<title>Id&#45;&gt;Iris&#45;virginica95</title>\n<path fill=\"none\" stroke=\"#000000\" d=\"M6874.974,-104.9367C7273.5091,-103.9953 11917.1024,-92.5351 12200.7445,-69 12293.1498,-61.3327 12316.0713,-55.3881 12406.7445,-36 12411.43,-34.9981 12416.2772,-33.873 12421.1227,-32.687\"/>\n<polygon fill=\"#000000\" stroke=\"#000000\" points=\"12422.1763,-36.0309 12431.0139,-30.1874 12420.4612,-29.2442 12422.1763,-36.0309\"/>\n<text text-anchor=\"middle\" x=\"12330.2445\" y=\"-57.8\" font-family=\"Times,serif\" font-size=\"14.00\" fill=\"#000000\">133</text>\n</g>\n<!-- Iris&#45;setosa96 -->\n<g id=\"node98\" class=\"node\">\n<title>Iris&#45;setosa96</title>\n<ellipse fill=\"none\" stroke=\"#000000\" cx=\"12596.7445\" cy=\"-18\" rx=\"47.3916\" ry=\"18\"/>\n<text text-anchor=\"middle\" x=\"12596.7445\" y=\"-14.3\" font-family=\"Times,serif\" font-size=\"14.00\" fill=\"#000000\">Iris&#45;setosa</text>\n</g>\n<!-- Id&#45;&gt;Iris&#45;setosa96 -->\n<g id=\"edge97\" class=\"edge\">\n<title>Id&#45;&gt;Iris&#45;setosa96</title>\n<path fill=\"none\" stroke=\"#000000\" d=\"M6874.7801,-104.949C7277.7485,-104.1728 12054.3035,-94.4475 12345.7445,-69 12433.3103,-61.3541 12455.3508,-56.8358 12540.7445,-36 12544.3285,-35.1255 12548.0161,-34.1394 12551.7067,-33.0906\"/>\n<polygon fill=\"#000000\" stroke=\"#000000\" points=\"12552.8279,-36.4087 12561.414,-30.2014 12550.831,-29.6995 12552.8279,-36.4087\"/>\n<text text-anchor=\"middle\" x=\"12468.7445\" y=\"-57.8\" font-family=\"Times,serif\" font-size=\"14.00\" fill=\"#000000\">12</text>\n</g>\n<!-- Iris&#45;versicolor97 -->\n<g id=\"node99\" class=\"node\">\n<title>Iris&#45;versicolor97</title>\n<ellipse fill=\"none\" stroke=\"#000000\" cx=\"12723.7445\" cy=\"-18\" rx=\"61.99\" ry=\"18\"/>\n<text text-anchor=\"middle\" x=\"12723.7445\" y=\"-14.3\" font-family=\"Times,serif\" font-size=\"14.00\" fill=\"#000000\">Iris&#45;versicolor</text>\n</g>\n<!-- Id&#45;&gt;Iris&#45;versicolor97 -->\n<g id=\"edge98\" class=\"edge\">\n<title>Id&#45;&gt;Iris&#45;versicolor97</title>\n<path fill=\"none\" stroke=\"#000000\" d=\"M6874.8175,-104.9704C7283.3411,-104.5062 12182.2969,-98.334 12480.7445,-69 12546.365,-62.5503 12620.3227,-45.6003 12669.2271,-33.0007\"/>\n<polygon fill=\"#000000\" stroke=\"#000000\" points=\"12670.1723,-36.3713 12678.967,-30.4634 12668.4076,-29.5974 12670.1723,-36.3713\"/>\n<text text-anchor=\"middle\" x=\"12583.7445\" y=\"-57.8\" font-family=\"Times,serif\" font-size=\"14.00\" fill=\"#000000\">96</text>\n</g>\n<!-- Iris&#45;virginica98 -->\n<g id=\"node100\" class=\"node\">\n<title>Iris&#45;virginica98</title>\n<ellipse fill=\"none\" stroke=\"#000000\" cx=\"12861.7445\" cy=\"-18\" rx=\"57.6901\" ry=\"18\"/>\n<text text-anchor=\"middle\" x=\"12861.7445\" y=\"-14.3\" font-family=\"Times,serif\" font-size=\"14.00\" fill=\"#000000\">Iris&#45;virginica</text>\n</g>\n<!-- Id&#45;&gt;Iris&#45;virginica98 -->\n<g id=\"edge99\" class=\"edge\">\n<title>Id&#45;&gt;Iris&#45;virginica98</title>\n<path fill=\"none\" stroke=\"#000000\" d=\"M6875.0507,-104.9539C7289.6569,-104.2383 12290.7716,-95.077 12595.7445,-69 12685.0709,-61.3621 12707.1258,-54.9866 12794.7445,-36 12799.4273,-34.9853 12804.2725,-33.8513 12809.1168,-32.6595\"/>\n<polygon fill=\"#000000\" stroke=\"#000000\" points=\"12810.1733,-36.0025 12819.0063,-30.152 12808.4528,-29.2172 12810.1733,-36.0025\"/>\n<text text-anchor=\"middle\" x=\"12721.2445\" y=\"-57.8\" font-family=\"Times,serif\" font-size=\"14.00\" fill=\"#000000\">104</text>\n</g>\n<!-- Iris&#45;versicolor99 -->\n<g id=\"node101\" class=\"node\">\n<title>Iris&#45;versicolor99</title>\n<ellipse fill=\"none\" stroke=\"#000000\" cx=\"12999.7445\" cy=\"-18\" rx=\"61.99\" ry=\"18\"/>\n<text text-anchor=\"middle\" x=\"12999.7445\" y=\"-14.3\" font-family=\"Times,serif\" font-size=\"14.00\" fill=\"#000000\">Iris&#45;versicolor</text>\n</g>\n<!-- Id&#45;&gt;Iris&#45;versicolor99 -->\n<g id=\"edge100\" class=\"edge\">\n<title>Id&#45;&gt;Iris&#45;versicolor99</title>\n<path fill=\"none\" stroke=\"#000000\" d=\"M6874.7554,-104.9632C7292.6702,-104.3775 12424.1299,-96.6325 12736.7445,-69 12822.9928,-61.3764 12844.0486,-53.986 12928.7445,-36 12933.7473,-34.9376 12938.9306,-33.7648 12944.1142,-32.5424\"/>\n<polygon fill=\"#000000\" stroke=\"#000000\" points=\"12945.1365,-35.8962 12954.0355,-30.1466 12943.4933,-29.0918 12945.1365,-35.8962\"/>\n<text text-anchor=\"middle\" x=\"12851.7445\" y=\"-57.8\" font-family=\"Times,serif\" font-size=\"14.00\" fill=\"#000000\">58</text>\n</g>\n<!-- Iris&#45;virginica100 -->\n<g id=\"node102\" class=\"node\">\n<title>Iris&#45;virginica100</title>\n<ellipse fill=\"none\" stroke=\"#000000\" cx=\"13137.7445\" cy=\"-18\" rx=\"57.6901\" ry=\"18\"/>\n<text text-anchor=\"middle\" x=\"13137.7445\" y=\"-14.3\" font-family=\"Times,serif\" font-size=\"14.00\" fill=\"#000000\">Iris&#45;virginica</text>\n</g>\n<!-- Id&#45;&gt;Iris&#45;virginica100 -->\n<g id=\"edge101\" class=\"edge\">\n<title>Id&#45;&gt;Iris&#45;virginica100</title>\n<path fill=\"none\" stroke=\"#000000\" d=\"M6875.012,-104.9569C7299.583,-104.2711 12544.1402,-95.2783 12863.7445,-69 12956.593,-61.3659 12979.6348,-55.4455 13070.7445,-36 13075.4304,-34.9999 13080.2778,-33.876 13085.1235,-32.6908\"/>\n<polygon fill=\"#000000\" stroke=\"#000000\" points=\"13086.1767,-36.0348 13095.015,-30.1923 13084.4623,-29.248 13086.1767,-36.0348\"/>\n<text text-anchor=\"middle\" x=\"12994.2445\" y=\"-57.8\" font-family=\"Times,serif\" font-size=\"14.00\" fill=\"#000000\">105</text>\n</g>\n<!-- Iris&#45;versicolor101 -->\n<g id=\"node103\" class=\"node\">\n<title>Iris&#45;versicolor101</title>\n<ellipse fill=\"none\" stroke=\"#000000\" cx=\"13275.7445\" cy=\"-18\" rx=\"61.99\" ry=\"18\"/>\n<text text-anchor=\"middle\" x=\"13275.7445\" y=\"-14.3\" font-family=\"Times,serif\" font-size=\"14.00\" fill=\"#000000\">Iris&#45;versicolor</text>\n</g>\n<!-- Id&#45;&gt;Iris&#45;versicolor101 -->\n<g id=\"edge102\" class=\"edge\">\n<title>Id&#45;&gt;Iris&#45;versicolor101</title>\n<path fill=\"none\" stroke=\"#000000\" d=\"M6875.0143,-104.9684C7305.0902,-104.4548 12682.3479,-97.4706 13009.7445,-69 13097.313,-61.385 13118.7396,-54.1485 13204.7445,-36 13209.7487,-34.944 13214.9329,-33.7756 13220.1171,-32.5561\"/>\n<polygon fill=\"#000000\" stroke=\"#000000\" points=\"13221.138,-35.9103 13230.0392,-30.1641 13219.4974,-29.1053 13221.138,-35.9103\"/>\n<text text-anchor=\"middle\" x=\"13125.7445\" y=\"-57.8\" font-family=\"Times,serif\" font-size=\"14.00\" fill=\"#000000\">91</text>\n</g>\n<!-- Iris&#45;setosa102 -->\n<g id=\"node104\" class=\"node\">\n<title>Iris&#45;setosa102</title>\n<ellipse fill=\"none\" stroke=\"#000000\" cx=\"13402.7445\" cy=\"-18\" rx=\"47.3916\" ry=\"18\"/>\n<text text-anchor=\"middle\" x=\"13402.7445\" y=\"-14.3\" font-family=\"Times,serif\" font-size=\"14.00\" fill=\"#000000\">Iris&#45;setosa</text>\n</g>\n<!-- Id&#45;&gt;Iris&#45;setosa102 -->\n<g id=\"edge103\" class=\"edge\">\n<title>Id&#45;&gt;Iris&#45;setosa102</title>\n<path fill=\"none\" stroke=\"#000000\" d=\"M6874.914,-104.9632C7308.9927,-104.3611 12803.2202,-96.2106 13137.7445,-69 13231.4746,-61.3759 13255.2634,-57.7867 13346.7445,-36 13350.3861,-35.1327 13354.1329,-34.1448 13357.8802,-33.0885\"/>\n<polygon fill=\"#000000\" stroke=\"#000000\" points=\"13359.1361,-36.3668 13367.7288,-30.1688 13357.1464,-29.6556 13359.1361,-36.3668\"/>\n<text text-anchor=\"middle\" x=\"13272.7445\" y=\"-57.8\" font-family=\"Times,serif\" font-size=\"14.00\" fill=\"#000000\">48</text>\n</g>\n<!-- Iris&#45;setosa103 -->\n<g id=\"node105\" class=\"node\">\n<title>Iris&#45;setosa103</title>\n<ellipse fill=\"none\" stroke=\"#000000\" cx=\"13515.7445\" cy=\"-18\" rx=\"47.3916\" ry=\"18\"/>\n<text text-anchor=\"middle\" x=\"13515.7445\" y=\"-14.3\" font-family=\"Times,serif\" font-size=\"14.00\" fill=\"#000000\">Iris&#45;setosa</text>\n</g>\n<!-- Id&#45;&gt;Iris&#45;setosa103 -->\n<g id=\"edge104\" class=\"edge\">\n<title>Id&#45;&gt;Iris&#45;setosa103</title>\n<path fill=\"none\" stroke=\"#000000\" d=\"M6874.8776,-104.9911C7314.0906,-104.8295 12942.6964,-102.1142 13284.7445,-69 13363.0901,-61.4152 13382.4149,-55.2183 13458.7445,-36 13462.5419,-35.0439 13466.4582,-33.9786 13470.376,-32.857\"/>\n<polygon fill=\"#000000\" stroke=\"#000000\" points=\"13471.4608,-36.186 13480.0503,-29.9833 13469.4676,-29.4757 13471.4608,-36.186\"/>\n<text text-anchor=\"middle\" x=\"13392.7445\" y=\"-57.8\" font-family=\"Times,serif\" font-size=\"14.00\" fill=\"#000000\">20</text>\n</g>\n<!-- Iris&#45;setosa104 -->\n<g id=\"node106\" class=\"node\">\n<title>Iris&#45;setosa104</title>\n<ellipse fill=\"none\" stroke=\"#000000\" cx=\"13628.7445\" cy=\"-18\" rx=\"47.3916\" ry=\"18\"/>\n<text text-anchor=\"middle\" x=\"13628.7445\" y=\"-14.3\" font-family=\"Times,serif\" font-size=\"14.00\" fill=\"#000000\">Iris&#45;setosa</text>\n</g>\n<!-- Id&#45;&gt;Iris&#45;setosa104 -->\n<g id=\"edge105\" class=\"edge\">\n<title>Id&#45;&gt;Iris&#45;setosa104</title>\n<path fill=\"none\" stroke=\"#000000\" d=\"M6874.795,-104.9237C7324.4137,-103.6462 13230.4203,-86.542 13404.7445,-69 13480.0218,-61.425 13498.4482,-54.7535 13571.7445,-36 13575.5382,-35.0294 13579.4519,-33.9538 13583.3679,-32.8253\"/>\n<polygon fill=\"#000000\" stroke=\"#000000\" points=\"13584.4569,-36.1529 13593.0395,-29.9408 13582.4562,-29.4449 13584.4569,-36.1529\"/>\n<text text-anchor=\"middle\" x=\"13508.7445\" y=\"-57.8\" font-family=\"Times,serif\" font-size=\"14.00\" fill=\"#000000\">22</text>\n</g>\n</g>\n</svg>\n"
          },
          "metadata": {},
          "execution_count": 110
        }
      ]
    },
    {
      "cell_type": "code",
      "source": [
        "y_train_pred=d.predict(df)\n",
        "print(accuracy_score(df[target_name].tolist(),y_train_pred))"
      ],
      "metadata": {
        "colab": {
          "base_uri": "https://localhost:8080/"
        },
        "id": "6H6NeGsiTe9w",
        "outputId": "f37390cb-4a32-4922-c4f5-bb3cbefd9cb4"
      },
      "execution_count": 111,
      "outputs": [
        {
          "output_type": "stream",
          "name": "stdout",
          "text": [
            "100.0\n"
          ]
        }
      ]
    },
    {
      "cell_type": "code",
      "source": [
        "y_test_pred=d.predict(test_df)\n",
        "accuracy_score(test_df[target_name].tolist(),y_test_pred)"
      ],
      "metadata": {
        "colab": {
          "base_uri": "https://localhost:8080/"
        },
        "id": "NMwYIqgKThke",
        "outputId": "b65c0360-3b73-4442-e34a-d98a485cb789"
      },
      "execution_count": 112,
      "outputs": [
        {
          "output_type": "execute_result",
          "data": {
            "text/plain": [
              "71.11111111111111"
            ]
          },
          "metadata": {},
          "execution_count": 112
        }
      ]
    },
    {
      "cell_type": "markdown",
      "source": [
        "CONGRESS DATASET"
      ],
      "metadata": {
        "id": "WWM4kIfSTtZn"
      }
    },
    {
      "cell_type": "code",
      "source": [
        "dataset='house'\n",
        "split_func='IG'"
      ],
      "metadata": {
        "id": "Xt2nXby9T2uV"
      },
      "execution_count": 113,
      "outputs": []
    },
    {
      "cell_type": "code",
      "source": [
        "dataset_url,target_name=datasets[dataset]\n",
        "data=pd.read_csv(dataset_url)\n",
        "data=data.applymap(lambda x: x.strip() if isinstance(x, str) else x)"
      ],
      "metadata": {
        "id": "yDZj49CSUW_B"
      },
      "execution_count": 114,
      "outputs": []
    },
    {
      "cell_type": "code",
      "source": [
        "data"
      ],
      "metadata": {
        "colab": {
          "base_uri": "https://localhost:8080/",
          "height": 419
        },
        "id": "mKFNUWh1UYLh",
        "outputId": "b6e1d538-a233-4617-f662-def1a76f98dc"
      },
      "execution_count": 115,
      "outputs": [
        {
          "output_type": "execute_result",
          "data": {
            "text/plain": [
              "     republican  n  y n.1 y.1 y.2 y.3 n.2 n.3 n.4 y.4  ? y.5 y.6 y.7 n.5 y.8\n",
              "0    republican  n  y   n   y   y   y   n   n   n   n  n   y   y   y   n   ?\n",
              "1      democrat  ?  y   y   ?   y   y   n   n   n   n  y   n   y   y   n   n\n",
              "2      democrat  n  y   y   n   ?   y   n   n   n   n  y   n   y   n   n   y\n",
              "3      democrat  y  y   y   n   y   y   n   n   n   n  y   ?   y   y   y   y\n",
              "4      democrat  n  y   y   n   y   y   n   n   n   n  n   n   y   y   y   y\n",
              "..          ... .. ..  ..  ..  ..  ..  ..  ..  ..  .. ..  ..  ..  ..  ..  ..\n",
              "429  republican  n  n   y   y   y   y   n   n   y   y  n   y   y   y   n   y\n",
              "430    democrat  n  n   y   n   n   n   y   y   y   y  n   n   n   n   n   y\n",
              "431  republican  n  ?   n   y   y   y   n   n   n   n  y   y   y   y   n   y\n",
              "432  republican  n  n   n   y   y   y   ?   ?   ?   ?  n   y   y   y   n   y\n",
              "433  republican  n  y   n   y   y   y   n   n   n   y  n   y   y   y   ?   n\n",
              "\n",
              "[434 rows x 17 columns]"
            ],
            "text/html": [
              "\n",
              "  <div id=\"df-5d8644f9-4fb3-4268-b2c5-aa5069e5e562\">\n",
              "    <div class=\"colab-df-container\">\n",
              "      <div>\n",
              "<style scoped>\n",
              "    .dataframe tbody tr th:only-of-type {\n",
              "        vertical-align: middle;\n",
              "    }\n",
              "\n",
              "    .dataframe tbody tr th {\n",
              "        vertical-align: top;\n",
              "    }\n",
              "\n",
              "    .dataframe thead th {\n",
              "        text-align: right;\n",
              "    }\n",
              "</style>\n",
              "<table border=\"1\" class=\"dataframe\">\n",
              "  <thead>\n",
              "    <tr style=\"text-align: right;\">\n",
              "      <th></th>\n",
              "      <th>republican</th>\n",
              "      <th>n</th>\n",
              "      <th>y</th>\n",
              "      <th>n.1</th>\n",
              "      <th>y.1</th>\n",
              "      <th>y.2</th>\n",
              "      <th>y.3</th>\n",
              "      <th>n.2</th>\n",
              "      <th>n.3</th>\n",
              "      <th>n.4</th>\n",
              "      <th>y.4</th>\n",
              "      <th>?</th>\n",
              "      <th>y.5</th>\n",
              "      <th>y.6</th>\n",
              "      <th>y.7</th>\n",
              "      <th>n.5</th>\n",
              "      <th>y.8</th>\n",
              "    </tr>\n",
              "  </thead>\n",
              "  <tbody>\n",
              "    <tr>\n",
              "      <th>0</th>\n",
              "      <td>republican</td>\n",
              "      <td>n</td>\n",
              "      <td>y</td>\n",
              "      <td>n</td>\n",
              "      <td>y</td>\n",
              "      <td>y</td>\n",
              "      <td>y</td>\n",
              "      <td>n</td>\n",
              "      <td>n</td>\n",
              "      <td>n</td>\n",
              "      <td>n</td>\n",
              "      <td>n</td>\n",
              "      <td>y</td>\n",
              "      <td>y</td>\n",
              "      <td>y</td>\n",
              "      <td>n</td>\n",
              "      <td>?</td>\n",
              "    </tr>\n",
              "    <tr>\n",
              "      <th>1</th>\n",
              "      <td>democrat</td>\n",
              "      <td>?</td>\n",
              "      <td>y</td>\n",
              "      <td>y</td>\n",
              "      <td>?</td>\n",
              "      <td>y</td>\n",
              "      <td>y</td>\n",
              "      <td>n</td>\n",
              "      <td>n</td>\n",
              "      <td>n</td>\n",
              "      <td>n</td>\n",
              "      <td>y</td>\n",
              "      <td>n</td>\n",
              "      <td>y</td>\n",
              "      <td>y</td>\n",
              "      <td>n</td>\n",
              "      <td>n</td>\n",
              "    </tr>\n",
              "    <tr>\n",
              "      <th>2</th>\n",
              "      <td>democrat</td>\n",
              "      <td>n</td>\n",
              "      <td>y</td>\n",
              "      <td>y</td>\n",
              "      <td>n</td>\n",
              "      <td>?</td>\n",
              "      <td>y</td>\n",
              "      <td>n</td>\n",
              "      <td>n</td>\n",
              "      <td>n</td>\n",
              "      <td>n</td>\n",
              "      <td>y</td>\n",
              "      <td>n</td>\n",
              "      <td>y</td>\n",
              "      <td>n</td>\n",
              "      <td>n</td>\n",
              "      <td>y</td>\n",
              "    </tr>\n",
              "    <tr>\n",
              "      <th>3</th>\n",
              "      <td>democrat</td>\n",
              "      <td>y</td>\n",
              "      <td>y</td>\n",
              "      <td>y</td>\n",
              "      <td>n</td>\n",
              "      <td>y</td>\n",
              "      <td>y</td>\n",
              "      <td>n</td>\n",
              "      <td>n</td>\n",
              "      <td>n</td>\n",
              "      <td>n</td>\n",
              "      <td>y</td>\n",
              "      <td>?</td>\n",
              "      <td>y</td>\n",
              "      <td>y</td>\n",
              "      <td>y</td>\n",
              "      <td>y</td>\n",
              "    </tr>\n",
              "    <tr>\n",
              "      <th>4</th>\n",
              "      <td>democrat</td>\n",
              "      <td>n</td>\n",
              "      <td>y</td>\n",
              "      <td>y</td>\n",
              "      <td>n</td>\n",
              "      <td>y</td>\n",
              "      <td>y</td>\n",
              "      <td>n</td>\n",
              "      <td>n</td>\n",
              "      <td>n</td>\n",
              "      <td>n</td>\n",
              "      <td>n</td>\n",
              "      <td>n</td>\n",
              "      <td>y</td>\n",
              "      <td>y</td>\n",
              "      <td>y</td>\n",
              "      <td>y</td>\n",
              "    </tr>\n",
              "    <tr>\n",
              "      <th>...</th>\n",
              "      <td>...</td>\n",
              "      <td>...</td>\n",
              "      <td>...</td>\n",
              "      <td>...</td>\n",
              "      <td>...</td>\n",
              "      <td>...</td>\n",
              "      <td>...</td>\n",
              "      <td>...</td>\n",
              "      <td>...</td>\n",
              "      <td>...</td>\n",
              "      <td>...</td>\n",
              "      <td>...</td>\n",
              "      <td>...</td>\n",
              "      <td>...</td>\n",
              "      <td>...</td>\n",
              "      <td>...</td>\n",
              "      <td>...</td>\n",
              "    </tr>\n",
              "    <tr>\n",
              "      <th>429</th>\n",
              "      <td>republican</td>\n",
              "      <td>n</td>\n",
              "      <td>n</td>\n",
              "      <td>y</td>\n",
              "      <td>y</td>\n",
              "      <td>y</td>\n",
              "      <td>y</td>\n",
              "      <td>n</td>\n",
              "      <td>n</td>\n",
              "      <td>y</td>\n",
              "      <td>y</td>\n",
              "      <td>n</td>\n",
              "      <td>y</td>\n",
              "      <td>y</td>\n",
              "      <td>y</td>\n",
              "      <td>n</td>\n",
              "      <td>y</td>\n",
              "    </tr>\n",
              "    <tr>\n",
              "      <th>430</th>\n",
              "      <td>democrat</td>\n",
              "      <td>n</td>\n",
              "      <td>n</td>\n",
              "      <td>y</td>\n",
              "      <td>n</td>\n",
              "      <td>n</td>\n",
              "      <td>n</td>\n",
              "      <td>y</td>\n",
              "      <td>y</td>\n",
              "      <td>y</td>\n",
              "      <td>y</td>\n",
              "      <td>n</td>\n",
              "      <td>n</td>\n",
              "      <td>n</td>\n",
              "      <td>n</td>\n",
              "      <td>n</td>\n",
              "      <td>y</td>\n",
              "    </tr>\n",
              "    <tr>\n",
              "      <th>431</th>\n",
              "      <td>republican</td>\n",
              "      <td>n</td>\n",
              "      <td>?</td>\n",
              "      <td>n</td>\n",
              "      <td>y</td>\n",
              "      <td>y</td>\n",
              "      <td>y</td>\n",
              "      <td>n</td>\n",
              "      <td>n</td>\n",
              "      <td>n</td>\n",
              "      <td>n</td>\n",
              "      <td>y</td>\n",
              "      <td>y</td>\n",
              "      <td>y</td>\n",
              "      <td>y</td>\n",
              "      <td>n</td>\n",
              "      <td>y</td>\n",
              "    </tr>\n",
              "    <tr>\n",
              "      <th>432</th>\n",
              "      <td>republican</td>\n",
              "      <td>n</td>\n",
              "      <td>n</td>\n",
              "      <td>n</td>\n",
              "      <td>y</td>\n",
              "      <td>y</td>\n",
              "      <td>y</td>\n",
              "      <td>?</td>\n",
              "      <td>?</td>\n",
              "      <td>?</td>\n",
              "      <td>?</td>\n",
              "      <td>n</td>\n",
              "      <td>y</td>\n",
              "      <td>y</td>\n",
              "      <td>y</td>\n",
              "      <td>n</td>\n",
              "      <td>y</td>\n",
              "    </tr>\n",
              "    <tr>\n",
              "      <th>433</th>\n",
              "      <td>republican</td>\n",
              "      <td>n</td>\n",
              "      <td>y</td>\n",
              "      <td>n</td>\n",
              "      <td>y</td>\n",
              "      <td>y</td>\n",
              "      <td>y</td>\n",
              "      <td>n</td>\n",
              "      <td>n</td>\n",
              "      <td>n</td>\n",
              "      <td>y</td>\n",
              "      <td>n</td>\n",
              "      <td>y</td>\n",
              "      <td>y</td>\n",
              "      <td>y</td>\n",
              "      <td>?</td>\n",
              "      <td>n</td>\n",
              "    </tr>\n",
              "  </tbody>\n",
              "</table>\n",
              "<p>434 rows × 17 columns</p>\n",
              "</div>\n",
              "      <button class=\"colab-df-convert\" onclick=\"convertToInteractive('df-5d8644f9-4fb3-4268-b2c5-aa5069e5e562')\"\n",
              "              title=\"Convert this dataframe to an interactive table.\"\n",
              "              style=\"display:none;\">\n",
              "        \n",
              "  <svg xmlns=\"http://www.w3.org/2000/svg\" height=\"24px\"viewBox=\"0 0 24 24\"\n",
              "       width=\"24px\">\n",
              "    <path d=\"M0 0h24v24H0V0z\" fill=\"none\"/>\n",
              "    <path d=\"M18.56 5.44l.94 2.06.94-2.06 2.06-.94-2.06-.94-.94-2.06-.94 2.06-2.06.94zm-11 1L8.5 8.5l.94-2.06 2.06-.94-2.06-.94L8.5 2.5l-.94 2.06-2.06.94zm10 10l.94 2.06.94-2.06 2.06-.94-2.06-.94-.94-2.06-.94 2.06-2.06.94z\"/><path d=\"M17.41 7.96l-1.37-1.37c-.4-.4-.92-.59-1.43-.59-.52 0-1.04.2-1.43.59L10.3 9.45l-7.72 7.72c-.78.78-.78 2.05 0 2.83L4 21.41c.39.39.9.59 1.41.59.51 0 1.02-.2 1.41-.59l7.78-7.78 2.81-2.81c.8-.78.8-2.07 0-2.86zM5.41 20L4 18.59l7.72-7.72 1.47 1.35L5.41 20z\"/>\n",
              "  </svg>\n",
              "      </button>\n",
              "      \n",
              "  <style>\n",
              "    .colab-df-container {\n",
              "      display:flex;\n",
              "      flex-wrap:wrap;\n",
              "      gap: 12px;\n",
              "    }\n",
              "\n",
              "    .colab-df-convert {\n",
              "      background-color: #E8F0FE;\n",
              "      border: none;\n",
              "      border-radius: 50%;\n",
              "      cursor: pointer;\n",
              "      display: none;\n",
              "      fill: #1967D2;\n",
              "      height: 32px;\n",
              "      padding: 0 0 0 0;\n",
              "      width: 32px;\n",
              "    }\n",
              "\n",
              "    .colab-df-convert:hover {\n",
              "      background-color: #E2EBFA;\n",
              "      box-shadow: 0px 1px 2px rgba(60, 64, 67, 0.3), 0px 1px 3px 1px rgba(60, 64, 67, 0.15);\n",
              "      fill: #174EA6;\n",
              "    }\n",
              "\n",
              "    [theme=dark] .colab-df-convert {\n",
              "      background-color: #3B4455;\n",
              "      fill: #D2E3FC;\n",
              "    }\n",
              "\n",
              "    [theme=dark] .colab-df-convert:hover {\n",
              "      background-color: #434B5C;\n",
              "      box-shadow: 0px 1px 3px 1px rgba(0, 0, 0, 0.15);\n",
              "      filter: drop-shadow(0px 1px 2px rgba(0, 0, 0, 0.3));\n",
              "      fill: #FFFFFF;\n",
              "    }\n",
              "  </style>\n",
              "\n",
              "      <script>\n",
              "        const buttonEl =\n",
              "          document.querySelector('#df-5d8644f9-4fb3-4268-b2c5-aa5069e5e562 button.colab-df-convert');\n",
              "        buttonEl.style.display =\n",
              "          google.colab.kernel.accessAllowed ? 'block' : 'none';\n",
              "\n",
              "        async function convertToInteractive(key) {\n",
              "          const element = document.querySelector('#df-5d8644f9-4fb3-4268-b2c5-aa5069e5e562');\n",
              "          const dataTable =\n",
              "            await google.colab.kernel.invokeFunction('convertToInteractive',\n",
              "                                                     [key], {});\n",
              "          if (!dataTable) return;\n",
              "\n",
              "          const docLinkHtml = 'Like what you see? Visit the ' +\n",
              "            '<a target=\"_blank\" href=https://colab.research.google.com/notebooks/data_table.ipynb>data table notebook</a>'\n",
              "            + ' to learn more about interactive tables.';\n",
              "          element.innerHTML = '';\n",
              "          dataTable['output_type'] = 'display_data';\n",
              "          await google.colab.output.renderOutput(dataTable, element);\n",
              "          const docLink = document.createElement('div');\n",
              "          docLink.innerHTML = docLinkHtml;\n",
              "          element.appendChild(docLink);\n",
              "        }\n",
              "      </script>\n",
              "    </div>\n",
              "  </div>\n",
              "  "
            ]
          },
          "metadata": {},
          "execution_count": 115
        }
      ]
    },
    {
      "cell_type": "code",
      "source": [
        "data.dtypes"
      ],
      "metadata": {
        "colab": {
          "base_uri": "https://localhost:8080/"
        },
        "id": "ADKFUNxPUatf",
        "outputId": "93422d8f-a2c6-40a5-f2f8-74f36d2483a4"
      },
      "execution_count": 116,
      "outputs": [
        {
          "output_type": "execute_result",
          "data": {
            "text/plain": [
              "republican    object\n",
              "n             object\n",
              "y             object\n",
              "n.1           object\n",
              "y.1           object\n",
              "y.2           object\n",
              "y.3           object\n",
              "n.2           object\n",
              "n.3           object\n",
              "n.4           object\n",
              "y.4           object\n",
              "?             object\n",
              "y.5           object\n",
              "y.6           object\n",
              "y.7           object\n",
              "n.5           object\n",
              "y.8           object\n",
              "dtype: object"
            ]
          },
          "metadata": {},
          "execution_count": 116
        }
      ]
    },
    {
      "cell_type": "code",
      "source": [
        "df,test_df=train_test_split(data,0.3)\n",
        "print(\"Size of Train Dataset: \",len(df),\"\\n\",\"Size of Test Dataset: \",len(test_df))"
      ],
      "metadata": {
        "colab": {
          "base_uri": "https://localhost:8080/"
        },
        "id": "WlAz4chgUdBt",
        "outputId": "17b069d1-9b05-4f41-be06-4c9db68e4600"
      },
      "execution_count": 117,
      "outputs": [
        {
          "output_type": "stream",
          "name": "stdout",
          "text": [
            "Size of Train Dataset:  304 \n",
            " Size of Test Dataset:  130\n"
          ]
        }
      ]
    },
    {
      "cell_type": "code",
      "source": [
        "print(df.count())\n",
        "print(sum(df[target_name].value_counts().to_dict().values()))"
      ],
      "metadata": {
        "colab": {
          "base_uri": "https://localhost:8080/"
        },
        "id": "TaUE_pNGUgit",
        "outputId": "b1f8adb5-bd57-4f7e-d2f7-59bdbc2c33eb"
      },
      "execution_count": 118,
      "outputs": [
        {
          "output_type": "stream",
          "name": "stdout",
          "text": [
            "republican    304\n",
            "n             304\n",
            "y             304\n",
            "n.1           304\n",
            "y.1           304\n",
            "y.2           304\n",
            "y.3           304\n",
            "n.2           304\n",
            "n.3           304\n",
            "n.4           304\n",
            "y.4           304\n",
            "?             304\n",
            "y.5           304\n",
            "y.6           304\n",
            "y.7           304\n",
            "n.5           304\n",
            "y.8           304\n",
            "dtype: int64\n",
            "304\n"
          ]
        }
      ]
    },
    {
      "cell_type": "markdown",
      "source": [
        "**Descion Tree Training**"
      ],
      "metadata": {
        "id": "3ClrEQM5UmxY"
      }
    },
    {
      "cell_type": "code",
      "source": [
        "d=DecisionTree(data,target_name,split_function=split_func)"
      ],
      "metadata": {
        "id": "vo7Gu7-_Uj3t"
      },
      "execution_count": 119,
      "outputs": []
    },
    {
      "cell_type": "code",
      "source": [
        "d.construct()"
      ],
      "metadata": {
        "id": "huBw2hokUuvq"
      },
      "execution_count": 120,
      "outputs": []
    },
    {
      "cell_type": "code",
      "source": [
        "print(d.tree.no_leafs)"
      ],
      "metadata": {
        "colab": {
          "base_uri": "https://localhost:8080/"
        },
        "id": "9-1SO1IyUvrR",
        "outputId": "9e902000-5a8b-4ebb-8563-cac17fdaad6a"
      },
      "execution_count": 121,
      "outputs": [
        {
          "output_type": "stream",
          "name": "stdout",
          "text": [
            "24\n"
          ]
        }
      ]
    },
    {
      "cell_type": "code",
      "source": [
        "d.get_rules()"
      ],
      "metadata": {
        "colab": {
          "base_uri": "https://localhost:8080/"
        },
        "id": "qBk3Zd8yUzXm",
        "outputId": "2714d49f-b93c-4dd5-ba90-c2858b07509d"
      },
      "execution_count": 122,
      "outputs": [
        {
          "output_type": "execute_result",
          "data": {
            "text/plain": [
              "['y.1 ->  ( n ) y.5 ->  ( n ) democrat',\n",
              " 'y.1 ->  ( n ) y.5 ->  ( ? ) n.3 ->  ( y ) democrat',\n",
              " 'y.1 ->  ( n ) y.5 ->  ( ? ) n.3 ->  ( n ) republican',\n",
              " 'y.1 ->  ( n ) y.5 ->  ( ? ) n.3 ->  ( ? ) democrat',\n",
              " 'y.1 ->  ( n ) y.5 ->  ( y ) democrat',\n",
              " 'y.1 ->  ( y ) ? ->  ( n ) n.5 ->  ( n ) y.8 ->  ( n ) republican',\n",
              " 'y.1 ->  ( y ) ? ->  ( n ) n.5 ->  ( n ) y.8 ->  ( y ) republican',\n",
              " 'y.1 ->  ( y ) ? ->  ( n ) n.5 ->  ( n ) y.8 ->  ( ? ) n.1 ->  ( n ) republican',\n",
              " 'y.1 ->  ( y ) ? ->  ( n ) n.5 ->  ( n ) y.8 ->  ( ? ) n.1 ->  ( y ) y.6 ->  ( n ) republican',\n",
              " 'y.1 ->  ( y ) ? ->  ( n ) n.5 ->  ( n ) y.8 ->  ( ? ) n.1 ->  ( y ) y.6 ->  ( y ) democrat',\n",
              " 'y.1 ->  ( y ) ? ->  ( n ) n.5 ->  ( ? ) republican',\n",
              " 'y.1 ->  ( y ) ? ->  ( n ) n.5 ->  ( y ) y.4 ->  ( y ) republican',\n",
              " 'y.1 ->  ( y ) ? ->  ( n ) n.5 ->  ( y ) y.4 ->  ( n ) y.7 ->  ( y ) democrat',\n",
              " 'y.1 ->  ( y ) ? ->  ( n ) n.5 ->  ( y ) y.4 ->  ( n ) y.7 ->  ( ? ) republican',\n",
              " 'y.1 ->  ( y ) ? ->  ( y ) n.4 ->  ( n ) n.1 ->  ( n ) y.6 ->  ( n ) democrat',\n",
              " 'y.1 ->  ( y ) ? ->  ( y ) n.4 ->  ( n ) n.1 ->  ( n ) y.6 ->  ( y ) republican',\n",
              " 'y.1 ->  ( y ) ? ->  ( y ) n.4 ->  ( n ) n.1 ->  ( y ) n.2 ->  ( n ) democrat',\n",
              " 'y.1 ->  ( y ) ? ->  ( y ) n.4 ->  ( n ) n.1 ->  ( y ) n.2 ->  ( y ) republican',\n",
              " 'y.1 ->  ( y ) ? ->  ( y ) n.4 ->  ( y ) democrat',\n",
              " 'y.1 ->  ( y ) ? ->  ( ? ) republican',\n",
              " 'y.1 ->  ( ? ) y.5 ->  ( n ) democrat',\n",
              " 'y.1 ->  ( ? ) y.5 ->  ( ? ) n.4 ->  ( y ) democrat',\n",
              " 'y.1 ->  ( ? ) y.5 ->  ( ? ) n.4 ->  ( ? ) republican',\n",
              " 'y.1 ->  ( ? ) y.5 ->  ( y ) republican']"
            ]
          },
          "metadata": {},
          "execution_count": 122
        }
      ]
    },
    {
      "cell_type": "code",
      "source": [
        "d.tree.printt()"
      ],
      "metadata": {
        "colab": {
          "base_uri": "https://localhost:8080/"
        },
        "id": "R7pD7cAAU1-n",
        "outputId": "2c32af11-45a4-40d5-c4b9-2d667ae063bd"
      },
      "execution_count": 123,
      "outputs": [
        {
          "output_type": "stream",
          "name": "stdout",
          "text": [
            "| y.1\n",
            "|----- ( n) y.5\n",
            "|---------- ( n) democrat\n",
            "|---------- ( ?) n.3\n",
            "|--------------- ( y) democrat\n",
            "|--------------- ( n) republican\n",
            "|--------------- ( ?) democrat\n",
            "|---------- ( y) democrat\n",
            "|----- ( y) ?\n",
            "|---------- ( n) n.5\n",
            "|--------------- ( n) y.8\n",
            "|-------------------- ( n) republican\n",
            "|-------------------- ( y) republican\n",
            "|-------------------- ( ?) n.1\n",
            "|------------------------- ( n) republican\n",
            "|------------------------- ( y) y.6\n",
            "|------------------------------ ( n) republican\n",
            "|------------------------------ ( y) democrat\n",
            "|--------------- ( ?) republican\n",
            "|--------------- ( y) y.4\n",
            "|-------------------- ( y) republican\n",
            "|-------------------- ( n) y.7\n",
            "|------------------------- ( y) democrat\n",
            "|------------------------- ( ?) republican\n",
            "|---------- ( y) n.4\n",
            "|--------------- ( n) n.114\n",
            "|-------------------- ( n) y.615\n",
            "|------------------------- ( n) democrat\n",
            "|------------------------- ( y) republican\n",
            "|-------------------- ( y) n.2\n",
            "|------------------------- ( n) democrat\n",
            "|------------------------- ( y) republican\n",
            "|--------------- ( y) democrat\n",
            "|---------- ( ?) republican\n",
            "|----- ( ?) y.522\n",
            "|---------- ( n) democrat\n",
            "|---------- ( ?) n.424\n",
            "|--------------- ( y) democrat\n",
            "|--------------- ( ?) republican\n",
            "|---------- ( y) republican\n"
          ]
        }
      ]
    },
    {
      "cell_type": "markdown",
      "source": [
        "**Graphviz Representation of Decision Tree**"
      ],
      "metadata": {
        "id": "0aS1Eo0yU_Cy"
      }
    },
    {
      "cell_type": "code",
      "source": [
        "f = open(\"house.dot\", \"w\")\n",
        "f.write(str(d.getGraph()))\n",
        "f.close()"
      ],
      "metadata": {
        "id": "avqibBorU7YP"
      },
      "execution_count": 124,
      "outputs": []
    },
    {
      "cell_type": "code",
      "source": [
        "d.getGraph()"
      ],
      "metadata": {
        "colab": {
          "base_uri": "https://localhost:8080/",
          "height": 796
        },
        "id": "Hzzu9ZbLVG5K",
        "outputId": "8493d038-e556-406c-b318-99e633e70650"
      },
      "execution_count": 125,
      "outputs": [
        {
          "output_type": "execute_result",
          "data": {
            "text/plain": [
              "<graphviz.dot.Digraph at 0x7f6003aced90>"
            ],
            "image/svg+xml": "<?xml version=\"1.0\" encoding=\"UTF-8\" standalone=\"no\"?>\n<!DOCTYPE svg PUBLIC \"-//W3C//DTD SVG 1.1//EN\"\n \"http://www.w3.org/Graphics/SVG/1.1/DTD/svg11.dtd\">\n<!-- Generated by graphviz version 2.40.1 (20161225.0304)\n -->\n<!-- Title: %3 Pages: 1 -->\n<svg width=\"1073pt\" height=\"566pt\"\n viewBox=\"0.00 0.00 1072.89 566.00\" xmlns=\"http://www.w3.org/2000/svg\" xmlns:xlink=\"http://www.w3.org/1999/xlink\">\n<g id=\"graph0\" class=\"graph\" transform=\"scale(1 1) rotate(0) translate(4 562)\">\n<title>%3</title>\n<polygon fill=\"#ffffff\" stroke=\"transparent\" points=\"-4,4 -4,-562 1068.8916,-562 1068.8916,4 -4,4\"/>\n<!-- y.1 -->\n<g id=\"node1\" class=\"node\">\n<title>y.1</title>\n<ellipse fill=\"none\" stroke=\"#000000\" cx=\"586.846\" cy=\"-540\" rx=\"27\" ry=\"18\"/>\n<text text-anchor=\"middle\" x=\"586.846\" y=\"-536.3\" font-family=\"Times,serif\" font-size=\"14.00\" fill=\"#000000\">y.1</text>\n</g>\n<!-- y.5 -->\n<g id=\"node2\" class=\"node\">\n<title>y.5</title>\n<ellipse fill=\"none\" stroke=\"#000000\" cx=\"289.846\" cy=\"-453\" rx=\"27\" ry=\"18\"/>\n<text text-anchor=\"middle\" x=\"289.846\" y=\"-449.3\" font-family=\"Times,serif\" font-size=\"14.00\" fill=\"#000000\">y.5</text>\n</g>\n<!-- y.1&#45;&gt;y.5 -->\n<g id=\"edge1\" class=\"edge\">\n<title>y.1&#45;&gt;y.5</title>\n<path fill=\"none\" stroke=\"#000000\" d=\"M562.0348,-532.7321C509.1864,-517.2512 385.3926,-480.9884 324.6741,-463.2022\"/>\n<polygon fill=\"#000000\" stroke=\"#000000\" points=\"325.3762,-459.7608 314.7955,-460.3084 323.4083,-466.4785 325.3762,-459.7608\"/>\n<text text-anchor=\"middle\" x=\"460.846\" y=\"-492.8\" font-family=\"Times,serif\" font-size=\"14.00\" fill=\"#000000\">n</text>\n</g>\n<!-- ? -->\n<g id=\"node9\" class=\"node\">\n<title>?</title>\n<ellipse fill=\"none\" stroke=\"#000000\" cx=\"586.846\" cy=\"-453\" rx=\"27\" ry=\"18\"/>\n<text text-anchor=\"middle\" x=\"586.846\" y=\"-449.3\" font-family=\"Times,serif\" font-size=\"14.00\" fill=\"#000000\">?</text>\n</g>\n<!-- y.1&#45;&gt;? -->\n<g id=\"edge8\" class=\"edge\">\n<title>y.1&#45;&gt;?</title>\n<path fill=\"none\" stroke=\"#000000\" d=\"M586.846,-521.9735C586.846,-510.1918 586.846,-494.5607 586.846,-481.1581\"/>\n<polygon fill=\"#000000\" stroke=\"#000000\" points=\"590.3461,-481.0033 586.846,-471.0034 583.3461,-481.0034 590.3461,-481.0033\"/>\n<text text-anchor=\"middle\" x=\"590.846\" y=\"-492.8\" font-family=\"Times,serif\" font-size=\"14.00\" fill=\"#000000\">y</text>\n</g>\n<!-- y.522 -->\n<g id=\"node35\" class=\"node\">\n<title>y.522</title>\n<ellipse fill=\"none\" stroke=\"#000000\" cx=\"824.846\" cy=\"-453\" rx=\"27\" ry=\"18\"/>\n<text text-anchor=\"middle\" x=\"824.846\" y=\"-449.3\" font-family=\"Times,serif\" font-size=\"14.00\" fill=\"#000000\">y.5</text>\n</g>\n<!-- y.1&#45;&gt;y.522 -->\n<g id=\"edge34\" class=\"edge\">\n<title>y.1&#45;&gt;y.522</title>\n<path fill=\"none\" stroke=\"#000000\" d=\"M610.5365,-531.34C653.1059,-515.7789 742.6355,-483.0517 791.4234,-465.2175\"/>\n<polygon fill=\"#000000\" stroke=\"#000000\" points=\"792.7076,-468.4746 800.8981,-461.7541 790.3043,-461.9001 792.7076,-468.4746\"/>\n<text text-anchor=\"middle\" x=\"724.346\" y=\"-492.8\" font-family=\"Times,serif\" font-size=\"14.00\" fill=\"#000000\">?</text>\n</g>\n<!-- democrat0 -->\n<g id=\"node3\" class=\"node\">\n<title>democrat0</title>\n<ellipse fill=\"none\" stroke=\"#000000\" cx=\"124.846\" cy=\"-366\" rx=\"44.6926\" ry=\"18\"/>\n<text text-anchor=\"middle\" x=\"124.846\" y=\"-362.3\" font-family=\"Times,serif\" font-size=\"14.00\" fill=\"#000000\">democrat</text>\n</g>\n<!-- y.5&#45;&gt;democrat0 -->\n<g id=\"edge2\" class=\"edge\">\n<title>y.5&#45;&gt;democrat0</title>\n<path fill=\"none\" stroke=\"#000000\" d=\"M268.6129,-441.8044C241.4038,-427.4577 193.8257,-402.3711 160.8951,-385.0077\"/>\n<polygon fill=\"#000000\" stroke=\"#000000\" points=\"162.5027,-381.8986 152.0245,-380.3305 159.2378,-388.0906 162.5027,-381.8986\"/>\n<text text-anchor=\"middle\" x=\"221.846\" y=\"-405.8\" font-family=\"Times,serif\" font-size=\"14.00\" fill=\"#000000\">n</text>\n</g>\n<!-- n.3 -->\n<g id=\"node4\" class=\"node\">\n<title>n.3</title>\n<ellipse fill=\"none\" stroke=\"#000000\" cx=\"214.846\" cy=\"-366\" rx=\"27\" ry=\"18\"/>\n<text text-anchor=\"middle\" x=\"214.846\" y=\"-362.3\" font-family=\"Times,serif\" font-size=\"14.00\" fill=\"#000000\">n.3</text>\n</g>\n<!-- y.5&#45;&gt;n.3 -->\n<g id=\"edge3\" class=\"edge\">\n<title>y.5&#45;&gt;n.3</title>\n<path fill=\"none\" stroke=\"#000000\" d=\"M276.0899,-437.0429C264.6719,-423.798 248.2649,-404.7659 235.306,-389.7336\"/>\n<polygon fill=\"#000000\" stroke=\"#000000\" points=\"237.6953,-387.1448 228.515,-381.856 232.3935,-391.7154 237.6953,-387.1448\"/>\n<text text-anchor=\"middle\" x=\"260.346\" y=\"-405.8\" font-family=\"Times,serif\" font-size=\"14.00\" fill=\"#000000\">?</text>\n</g>\n<!-- democrat4 -->\n<g id=\"node8\" class=\"node\">\n<title>democrat4</title>\n<ellipse fill=\"none\" stroke=\"#000000\" cx=\"304.846\" cy=\"-366\" rx=\"44.6926\" ry=\"18\"/>\n<text text-anchor=\"middle\" x=\"304.846\" y=\"-362.3\" font-family=\"Times,serif\" font-size=\"14.00\" fill=\"#000000\">democrat</text>\n</g>\n<!-- y.5&#45;&gt;democrat4 -->\n<g id=\"edge7\" class=\"edge\">\n<title>y.5&#45;&gt;democrat4</title>\n<path fill=\"none\" stroke=\"#000000\" d=\"M292.954,-434.9735C294.9854,-423.1918 297.6804,-407.5607 299.9912,-394.1581\"/>\n<polygon fill=\"#000000\" stroke=\"#000000\" points=\"303.492,-394.4527 301.742,-384.0034 296.5937,-393.2633 303.492,-394.4527\"/>\n<text text-anchor=\"middle\" x=\"302.846\" y=\"-405.8\" font-family=\"Times,serif\" font-size=\"14.00\" fill=\"#000000\">y</text>\n</g>\n<!-- democrat1 -->\n<g id=\"node5\" class=\"node\">\n<title>democrat1</title>\n<ellipse fill=\"none\" stroke=\"#000000\" cx=\"44.846\" cy=\"-279\" rx=\"44.6926\" ry=\"18\"/>\n<text text-anchor=\"middle\" x=\"44.846\" y=\"-275.3\" font-family=\"Times,serif\" font-size=\"14.00\" fill=\"#000000\">democrat</text>\n</g>\n<!-- n.3&#45;&gt;democrat1 -->\n<g id=\"edge4\" class=\"edge\">\n<title>n.3&#45;&gt;democrat1</title>\n<path fill=\"none\" stroke=\"#000000\" d=\"M193.3154,-354.9814C165.3037,-340.646 115.9259,-315.3762 81.8528,-297.9387\"/>\n<polygon fill=\"#000000\" stroke=\"#000000\" points=\"83.1752,-294.6839 72.6787,-293.2438 79.9862,-300.9153 83.1752,-294.6839\"/>\n<text text-anchor=\"middle\" x=\"144.846\" y=\"-318.8\" font-family=\"Times,serif\" font-size=\"14.00\" fill=\"#000000\">y</text>\n</g>\n<!-- republican2 -->\n<g id=\"node6\" class=\"node\">\n<title>republican2</title>\n<ellipse fill=\"none\" stroke=\"#000000\" cx=\"157.846\" cy=\"-279\" rx=\"50.0912\" ry=\"18\"/>\n<text text-anchor=\"middle\" x=\"157.846\" y=\"-275.3\" font-family=\"Times,serif\" font-size=\"14.00\" fill=\"#000000\">republican</text>\n</g>\n<!-- n.3&#45;&gt;republican2 -->\n<g id=\"edge5\" class=\"edge\">\n<title>n.3&#45;&gt;republican2</title>\n<path fill=\"none\" stroke=\"#000000\" d=\"M203.8558,-349.2255C195.658,-336.713 184.3044,-319.3838 174.9269,-305.0709\"/>\n<polygon fill=\"#000000\" stroke=\"#000000\" points=\"177.7973,-303.0654 169.3894,-296.6188 171.9421,-306.9016 177.7973,-303.0654\"/>\n<text text-anchor=\"middle\" x=\"193.846\" y=\"-318.8\" font-family=\"Times,serif\" font-size=\"14.00\" fill=\"#000000\">n</text>\n</g>\n<!-- democrat3 -->\n<g id=\"node7\" class=\"node\">\n<title>democrat3</title>\n<ellipse fill=\"none\" stroke=\"#000000\" cx=\"270.846\" cy=\"-279\" rx=\"44.6926\" ry=\"18\"/>\n<text text-anchor=\"middle\" x=\"270.846\" y=\"-275.3\" font-family=\"Times,serif\" font-size=\"14.00\" fill=\"#000000\">democrat</text>\n</g>\n<!-- n.3&#45;&gt;democrat3 -->\n<g id=\"edge6\" class=\"edge\">\n<title>n.3&#45;&gt;democrat3</title>\n<path fill=\"none\" stroke=\"#000000\" d=\"M225.6434,-349.2255C233.6974,-336.713 244.8518,-319.3838 254.0648,-305.0709\"/>\n<polygon fill=\"#000000\" stroke=\"#000000\" points=\"257.0357,-306.9219 259.5052,-296.6188 251.1496,-303.1331 257.0357,-306.9219\"/>\n<text text-anchor=\"middle\" x=\"250.346\" y=\"-318.8\" font-family=\"Times,serif\" font-size=\"14.00\" fill=\"#000000\">?</text>\n</g>\n<!-- n.5 -->\n<g id=\"node10\" class=\"node\">\n<title>n.5</title>\n<ellipse fill=\"none\" stroke=\"#000000\" cx=\"476.846\" cy=\"-366\" rx=\"27\" ry=\"18\"/>\n<text text-anchor=\"middle\" x=\"476.846\" y=\"-362.3\" font-family=\"Times,serif\" font-size=\"14.00\" fill=\"#000000\">n.5</text>\n</g>\n<!-- ?&#45;&gt;n.5 -->\n<g id=\"edge9\" class=\"edge\">\n<title>?&#45;&gt;n.5</title>\n<path fill=\"none\" stroke=\"#000000\" d=\"M569.1726,-439.0219C551.1311,-424.7528 522.9438,-402.4592 502.4578,-386.2566\"/>\n<polygon fill=\"#000000\" stroke=\"#000000\" points=\"504.4901,-383.4016 494.4756,-379.9434 500.1477,-388.892 504.4901,-383.4016\"/>\n<text text-anchor=\"middle\" x=\"542.846\" y=\"-405.8\" font-family=\"Times,serif\" font-size=\"14.00\" fill=\"#000000\">n</text>\n</g>\n<!-- n.4 -->\n<g id=\"node25\" class=\"node\">\n<title>n.4</title>\n<ellipse fill=\"none\" stroke=\"#000000\" cx=\"586.846\" cy=\"-366\" rx=\"27\" ry=\"18\"/>\n<text text-anchor=\"middle\" x=\"586.846\" y=\"-362.3\" font-family=\"Times,serif\" font-size=\"14.00\" fill=\"#000000\">n.4</text>\n</g>\n<!-- ?&#45;&gt;n.4 -->\n<g id=\"edge24\" class=\"edge\">\n<title>?&#45;&gt;n.4</title>\n<path fill=\"none\" stroke=\"#000000\" d=\"M586.846,-434.9735C586.846,-423.1918 586.846,-407.5607 586.846,-394.1581\"/>\n<polygon fill=\"#000000\" stroke=\"#000000\" points=\"590.3461,-394.0033 586.846,-384.0034 583.3461,-394.0034 590.3461,-394.0033\"/>\n<text text-anchor=\"middle\" x=\"590.846\" y=\"-405.8\" font-family=\"Times,serif\" font-size=\"14.00\" fill=\"#000000\">y</text>\n</g>\n<!-- republican21 -->\n<g id=\"node34\" class=\"node\">\n<title>republican21</title>\n<ellipse fill=\"none\" stroke=\"#000000\" cx=\"681.846\" cy=\"-366\" rx=\"50.0912\" ry=\"18\"/>\n<text text-anchor=\"middle\" x=\"681.846\" y=\"-362.3\" font-family=\"Times,serif\" font-size=\"14.00\" fill=\"#000000\">republican</text>\n</g>\n<!-- ?&#45;&gt;republican21 -->\n<g id=\"edge33\" class=\"edge\">\n<title>?&#45;&gt;republican21</title>\n<path fill=\"none\" stroke=\"#000000\" d=\"M602.9615,-438.2416C617.468,-424.9567 639.0433,-405.1983 655.9652,-389.7014\"/>\n<polygon fill=\"#000000\" stroke=\"#000000\" points=\"658.3596,-392.2545 663.3706,-382.9196 653.632,-387.0922 658.3596,-392.2545\"/>\n<text text-anchor=\"middle\" x=\"644.346\" y=\"-405.8\" font-family=\"Times,serif\" font-size=\"14.00\" fill=\"#000000\">?</text>\n</g>\n<!-- y.8 -->\n<g id=\"node11\" class=\"node\">\n<title>y.8</title>\n<ellipse fill=\"none\" stroke=\"#000000\" cx=\"360.846\" cy=\"-279\" rx=\"27\" ry=\"18\"/>\n<text text-anchor=\"middle\" x=\"360.846\" y=\"-275.3\" font-family=\"Times,serif\" font-size=\"14.00\" fill=\"#000000\">y.8</text>\n</g>\n<!-- n.5&#45;&gt;y.8 -->\n<g id=\"edge10\" class=\"edge\">\n<title>n.5&#45;&gt;y.8</title>\n<path fill=\"none\" stroke=\"#000000\" d=\"M458.721,-352.4063C439.4823,-337.9772 408.8988,-315.0396 387.0403,-298.6457\"/>\n<polygon fill=\"#000000\" stroke=\"#000000\" points=\"388.9438,-295.6983 378.8437,-292.4983 384.7438,-301.2983 388.9438,-295.6983\"/>\n<text text-anchor=\"middle\" x=\"429.846\" y=\"-318.8\" font-family=\"Times,serif\" font-size=\"14.00\" fill=\"#000000\">n</text>\n</g>\n<!-- republican10 -->\n<g id=\"node19\" class=\"node\">\n<title>republican10</title>\n<ellipse fill=\"none\" stroke=\"#000000\" cx=\"457.846\" cy=\"-279\" rx=\"50.0912\" ry=\"18\"/>\n<text text-anchor=\"middle\" x=\"457.846\" y=\"-275.3\" font-family=\"Times,serif\" font-size=\"14.00\" fill=\"#000000\">republican</text>\n</g>\n<!-- n.5&#45;&gt;republican10 -->\n<g id=\"edge18\" class=\"edge\">\n<title>n.5&#45;&gt;republican10</title>\n<path fill=\"none\" stroke=\"#000000\" d=\"M472.9092,-347.9735C470.3362,-336.1918 466.9225,-320.5607 463.9955,-307.1581\"/>\n<polygon fill=\"#000000\" stroke=\"#000000\" points=\"467.3309,-306.0263 461.7778,-297.0034 460.4921,-307.5199 467.3309,-306.0263\"/>\n<text text-anchor=\"middle\" x=\"472.346\" y=\"-318.8\" font-family=\"Times,serif\" font-size=\"14.00\" fill=\"#000000\">?</text>\n</g>\n<!-- y.4 -->\n<g id=\"node20\" class=\"node\">\n<title>y.4</title>\n<ellipse fill=\"none\" stroke=\"#000000\" cx=\"552.846\" cy=\"-279\" rx=\"27\" ry=\"18\"/>\n<text text-anchor=\"middle\" x=\"552.846\" y=\"-275.3\" font-family=\"Times,serif\" font-size=\"14.00\" fill=\"#000000\">y.4</text>\n</g>\n<!-- n.5&#45;&gt;y.4 -->\n<g id=\"edge19\" class=\"edge\">\n<title>n.5&#45;&gt;y.4</title>\n<path fill=\"none\" stroke=\"#000000\" d=\"M490.7856,-350.0429C502.4281,-336.7152 519.1896,-317.5278 532.359,-302.4522\"/>\n<polygon fill=\"#000000\" stroke=\"#000000\" points=\"535.3075,-304.397 539.2505,-294.5633 530.0357,-299.7918 535.3075,-304.397\"/>\n<text text-anchor=\"middle\" x=\"523.846\" y=\"-318.8\" font-family=\"Times,serif\" font-size=\"14.00\" fill=\"#000000\">y</text>\n</g>\n<!-- republican5 -->\n<g id=\"node12\" class=\"node\">\n<title>republican5</title>\n<ellipse fill=\"none\" stroke=\"#000000\" cx=\"147.846\" cy=\"-192\" rx=\"50.0912\" ry=\"18\"/>\n<text text-anchor=\"middle\" x=\"147.846\" y=\"-188.3\" font-family=\"Times,serif\" font-size=\"14.00\" fill=\"#000000\">republican</text>\n</g>\n<!-- y.8&#45;&gt;republican5 -->\n<g id=\"edge11\" class=\"edge\">\n<title>y.8&#45;&gt;republican5</title>\n<path fill=\"none\" stroke=\"#000000\" d=\"M339.2978,-267.823C334.5744,-265.4864 329.5724,-263.0975 324.846,-261 280.7572,-241.4338 229.2756,-221.7039 193.2374,-208.3832\"/>\n<polygon fill=\"#000000\" stroke=\"#000000\" points=\"194.0947,-204.9693 183.5012,-204.8015 191.6779,-211.5389 194.0947,-204.9693\"/>\n<text text-anchor=\"middle\" x=\"285.846\" y=\"-231.8\" font-family=\"Times,serif\" font-size=\"14.00\" fill=\"#000000\">n</text>\n</g>\n<!-- republican6 -->\n<g id=\"node13\" class=\"node\">\n<title>republican6</title>\n<ellipse fill=\"none\" stroke=\"#000000\" cx=\"265.846\" cy=\"-192\" rx=\"50.0912\" ry=\"18\"/>\n<text text-anchor=\"middle\" x=\"265.846\" y=\"-188.3\" font-family=\"Times,serif\" font-size=\"14.00\" fill=\"#000000\">republican</text>\n</g>\n<!-- y.8&#45;&gt;republican6 -->\n<g id=\"edge12\" class=\"edge\">\n<title>y.8&#45;&gt;republican6</title>\n<path fill=\"none\" stroke=\"#000000\" d=\"M344.7306,-264.2416C330.2241,-250.9567 308.6488,-231.1983 291.7268,-215.7014\"/>\n<polygon fill=\"#000000\" stroke=\"#000000\" points=\"294.0601,-213.0922 284.3214,-208.9196 289.3324,-218.2545 294.0601,-213.0922\"/>\n<text text-anchor=\"middle\" x=\"323.846\" y=\"-231.8\" font-family=\"Times,serif\" font-size=\"14.00\" fill=\"#000000\">y</text>\n</g>\n<!-- n.1 -->\n<g id=\"node14\" class=\"node\">\n<title>n.1</title>\n<ellipse fill=\"none\" stroke=\"#000000\" cx=\"360.846\" cy=\"-192\" rx=\"27\" ry=\"18\"/>\n<text text-anchor=\"middle\" x=\"360.846\" y=\"-188.3\" font-family=\"Times,serif\" font-size=\"14.00\" fill=\"#000000\">n.1</text>\n</g>\n<!-- y.8&#45;&gt;n.1 -->\n<g id=\"edge13\" class=\"edge\">\n<title>y.8&#45;&gt;n.1</title>\n<path fill=\"none\" stroke=\"#000000\" d=\"M360.846,-260.9735C360.846,-249.1918 360.846,-233.5607 360.846,-220.1581\"/>\n<polygon fill=\"#000000\" stroke=\"#000000\" points=\"364.3461,-220.0033 360.846,-210.0034 357.3461,-220.0034 364.3461,-220.0033\"/>\n<text text-anchor=\"middle\" x=\"364.346\" y=\"-231.8\" font-family=\"Times,serif\" font-size=\"14.00\" fill=\"#000000\">?</text>\n</g>\n<!-- republican7 -->\n<g id=\"node15\" class=\"node\">\n<title>republican7</title>\n<ellipse fill=\"none\" stroke=\"#000000\" cx=\"264.846\" cy=\"-105\" rx=\"50.0912\" ry=\"18\"/>\n<text text-anchor=\"middle\" x=\"264.846\" y=\"-101.3\" font-family=\"Times,serif\" font-size=\"14.00\" fill=\"#000000\">republican</text>\n</g>\n<!-- n.1&#45;&gt;republican7 -->\n<g id=\"edge14\" class=\"edge\">\n<title>n.1&#45;&gt;republican7</title>\n<path fill=\"none\" stroke=\"#000000\" d=\"M344.5609,-177.2416C329.9017,-163.9567 308.0993,-144.1983 290.9993,-128.7014\"/>\n<polygon fill=\"#000000\" stroke=\"#000000\" points=\"293.2762,-126.0414 283.5159,-121.9196 288.5755,-131.2283 293.2762,-126.0414\"/>\n<text text-anchor=\"middle\" x=\"322.846\" y=\"-144.8\" font-family=\"Times,serif\" font-size=\"14.00\" fill=\"#000000\">n</text>\n</g>\n<!-- y.6 -->\n<g id=\"node16\" class=\"node\">\n<title>y.6</title>\n<ellipse fill=\"none\" stroke=\"#000000\" cx=\"359.846\" cy=\"-105\" rx=\"27\" ry=\"18\"/>\n<text text-anchor=\"middle\" x=\"359.846\" y=\"-101.3\" font-family=\"Times,serif\" font-size=\"14.00\" fill=\"#000000\">y.6</text>\n</g>\n<!-- n.1&#45;&gt;y.6 -->\n<g id=\"edge15\" class=\"edge\">\n<title>n.1&#45;&gt;y.6</title>\n<path fill=\"none\" stroke=\"#000000\" d=\"M360.6388,-173.9735C360.5034,-162.1918 360.3237,-146.5607 360.1697,-133.1581\"/>\n<polygon fill=\"#000000\" stroke=\"#000000\" points=\"363.6678,-132.9624 360.053,-123.0034 356.6682,-133.043 363.6678,-132.9624\"/>\n<text text-anchor=\"middle\" x=\"364.846\" y=\"-144.8\" font-family=\"Times,serif\" font-size=\"14.00\" fill=\"#000000\">y</text>\n</g>\n<!-- republican8 -->\n<g id=\"node17\" class=\"node\">\n<title>republican8</title>\n<ellipse fill=\"none\" stroke=\"#000000\" cx=\"302.846\" cy=\"-18\" rx=\"50.0912\" ry=\"18\"/>\n<text text-anchor=\"middle\" x=\"302.846\" y=\"-14.3\" font-family=\"Times,serif\" font-size=\"14.00\" fill=\"#000000\">republican</text>\n</g>\n<!-- y.6&#45;&gt;republican8 -->\n<g id=\"edge16\" class=\"edge\">\n<title>y.6&#45;&gt;republican8</title>\n<path fill=\"none\" stroke=\"#000000\" d=\"M348.8558,-88.2255C340.658,-75.713 329.3044,-58.3838 319.9269,-44.0709\"/>\n<polygon fill=\"#000000\" stroke=\"#000000\" points=\"322.7973,-42.0654 314.3894,-35.6188 316.9421,-45.9016 322.7973,-42.0654\"/>\n<text text-anchor=\"middle\" x=\"338.846\" y=\"-57.8\" font-family=\"Times,serif\" font-size=\"14.00\" fill=\"#000000\">n</text>\n</g>\n<!-- democrat9 -->\n<g id=\"node18\" class=\"node\">\n<title>democrat9</title>\n<ellipse fill=\"none\" stroke=\"#000000\" cx=\"415.846\" cy=\"-18\" rx=\"44.6926\" ry=\"18\"/>\n<text text-anchor=\"middle\" x=\"415.846\" y=\"-14.3\" font-family=\"Times,serif\" font-size=\"14.00\" fill=\"#000000\">democrat</text>\n</g>\n<!-- y.6&#45;&gt;democrat9 -->\n<g id=\"edge17\" class=\"edge\">\n<title>y.6&#45;&gt;democrat9</title>\n<path fill=\"none\" stroke=\"#000000\" d=\"M370.6434,-88.2255C378.6974,-75.713 389.8518,-58.3838 399.0648,-44.0709\"/>\n<polygon fill=\"#000000\" stroke=\"#000000\" points=\"402.0357,-45.9219 404.5052,-35.6188 396.1496,-42.1331 402.0357,-45.9219\"/>\n<text text-anchor=\"middle\" x=\"395.846\" y=\"-57.8\" font-family=\"Times,serif\" font-size=\"14.00\" fill=\"#000000\">y</text>\n</g>\n<!-- republican11 -->\n<g id=\"node21\" class=\"node\">\n<title>republican11</title>\n<ellipse fill=\"none\" stroke=\"#000000\" cx=\"466.846\" cy=\"-192\" rx=\"50.0912\" ry=\"18\"/>\n<text text-anchor=\"middle\" x=\"466.846\" y=\"-188.3\" font-family=\"Times,serif\" font-size=\"14.00\" fill=\"#000000\">republican</text>\n</g>\n<!-- y.4&#45;&gt;republican11 -->\n<g id=\"edge20\" class=\"edge\">\n<title>y.4&#45;&gt;republican11</title>\n<path fill=\"none\" stroke=\"#000000\" d=\"M537.866,-263.8458C524.88,-250.7088 505.855,-231.4626 490.7638,-216.1959\"/>\n<polygon fill=\"#000000\" stroke=\"#000000\" points=\"493.2343,-213.7165 483.715,-209.0652 488.256,-218.6375 493.2343,-213.7165\"/>\n<text text-anchor=\"middle\" x=\"519.846\" y=\"-231.8\" font-family=\"Times,serif\" font-size=\"14.00\" fill=\"#000000\">y</text>\n</g>\n<!-- y.7 -->\n<g id=\"node22\" class=\"node\">\n<title>y.7</title>\n<ellipse fill=\"none\" stroke=\"#000000\" cx=\"561.846\" cy=\"-192\" rx=\"27\" ry=\"18\"/>\n<text text-anchor=\"middle\" x=\"561.846\" y=\"-188.3\" font-family=\"Times,serif\" font-size=\"14.00\" fill=\"#000000\">y.7</text>\n</g>\n<!-- y.4&#45;&gt;y.7 -->\n<g id=\"edge21\" class=\"edge\">\n<title>y.4&#45;&gt;y.7</title>\n<path fill=\"none\" stroke=\"#000000\" d=\"M554.7108,-260.9735C555.9296,-249.1918 557.5466,-233.5607 558.9331,-220.1581\"/>\n<polygon fill=\"#000000\" stroke=\"#000000\" points=\"562.4359,-220.3105 559.9836,-210.0034 555.4731,-219.5901 562.4359,-220.3105\"/>\n<text text-anchor=\"middle\" x=\"562.846\" y=\"-231.8\" font-family=\"Times,serif\" font-size=\"14.00\" fill=\"#000000\">n</text>\n</g>\n<!-- democrat12 -->\n<g id=\"node23\" class=\"node\">\n<title>democrat12</title>\n<ellipse fill=\"none\" stroke=\"#000000\" cx=\"449.846\" cy=\"-105\" rx=\"44.6926\" ry=\"18\"/>\n<text text-anchor=\"middle\" x=\"449.846\" y=\"-101.3\" font-family=\"Times,serif\" font-size=\"14.00\" fill=\"#000000\">democrat</text>\n</g>\n<!-- y.7&#45;&gt;democrat12 -->\n<g id=\"edge22\" class=\"edge\">\n<title>y.7&#45;&gt;democrat12</title>\n<path fill=\"none\" stroke=\"#000000\" d=\"M543.8513,-178.0219C526.2426,-164.3438 499.1417,-143.2922 478.5545,-127.3003\"/>\n<polygon fill=\"#000000\" stroke=\"#000000\" points=\"480.5023,-124.3815 470.4579,-121.011 476.2081,-129.9096 480.5023,-124.3815\"/>\n<text text-anchor=\"middle\" x=\"516.846\" y=\"-144.8\" font-family=\"Times,serif\" font-size=\"14.00\" fill=\"#000000\">y</text>\n</g>\n<!-- republican13 -->\n<g id=\"node24\" class=\"node\">\n<title>republican13</title>\n<ellipse fill=\"none\" stroke=\"#000000\" cx=\"562.846\" cy=\"-105\" rx=\"50.0912\" ry=\"18\"/>\n<text text-anchor=\"middle\" x=\"562.846\" y=\"-101.3\" font-family=\"Times,serif\" font-size=\"14.00\" fill=\"#000000\">republican</text>\n</g>\n<!-- y.7&#45;&gt;republican13 -->\n<g id=\"edge23\" class=\"edge\">\n<title>y.7&#45;&gt;republican13</title>\n<path fill=\"none\" stroke=\"#000000\" d=\"M562.0532,-173.9735C562.1886,-162.1918 562.3683,-146.5607 562.5224,-133.1581\"/>\n<polygon fill=\"#000000\" stroke=\"#000000\" points=\"566.0238,-133.043 562.6391,-123.0034 559.0243,-132.9624 566.0238,-133.043\"/>\n<text text-anchor=\"middle\" x=\"566.346\" y=\"-144.8\" font-family=\"Times,serif\" font-size=\"14.00\" fill=\"#000000\">?</text>\n</g>\n<!-- n.114 -->\n<g id=\"node26\" class=\"node\">\n<title>n.114</title>\n<ellipse fill=\"none\" stroke=\"#000000\" cx=\"626.846\" cy=\"-279\" rx=\"27\" ry=\"18\"/>\n<text text-anchor=\"middle\" x=\"626.846\" y=\"-275.3\" font-family=\"Times,serif\" font-size=\"14.00\" fill=\"#000000\">n.1</text>\n</g>\n<!-- n.4&#45;&gt;n.114 -->\n<g id=\"edge25\" class=\"edge\">\n<title>n.4&#45;&gt;n.114</title>\n<path fill=\"none\" stroke=\"#000000\" d=\"M594.9406,-348.3943C600.6163,-336.0496 608.3032,-319.3306 614.7097,-305.3965\"/>\n<polygon fill=\"#000000\" stroke=\"#000000\" points=\"617.9026,-306.8305 618.9,-296.2827 611.5426,-303.9063 617.9026,-306.8305\"/>\n<text text-anchor=\"middle\" x=\"613.846\" y=\"-318.8\" font-family=\"Times,serif\" font-size=\"14.00\" fill=\"#000000\">n</text>\n</g>\n<!-- democrat20 -->\n<g id=\"node33\" class=\"node\">\n<title>democrat20</title>\n<ellipse fill=\"none\" stroke=\"#000000\" cx=\"716.846\" cy=\"-279\" rx=\"44.6926\" ry=\"18\"/>\n<text text-anchor=\"middle\" x=\"716.846\" y=\"-275.3\" font-family=\"Times,serif\" font-size=\"14.00\" fill=\"#000000\">democrat</text>\n</g>\n<!-- n.4&#45;&gt;democrat20 -->\n<g id=\"edge32\" class=\"edge\">\n<title>n.4&#45;&gt;democrat20</title>\n<path fill=\"none\" stroke=\"#000000\" d=\"M606.028,-353.1629C626.8771,-339.21 660.5224,-316.6935 685.278,-300.1263\"/>\n<polygon fill=\"#000000\" stroke=\"#000000\" points=\"687.264,-303.0087 693.6281,-294.5382 683.3708,-297.1912 687.264,-303.0087\"/>\n<text text-anchor=\"middle\" x=\"663.846\" y=\"-318.8\" font-family=\"Times,serif\" font-size=\"14.00\" fill=\"#000000\">y</text>\n</g>\n<!-- y.615 -->\n<g id=\"node27\" class=\"node\">\n<title>y.615</title>\n<ellipse fill=\"none\" stroke=\"#000000\" cx=\"675.846\" cy=\"-192\" rx=\"27\" ry=\"18\"/>\n<text text-anchor=\"middle\" x=\"675.846\" y=\"-188.3\" font-family=\"Times,serif\" font-size=\"14.00\" fill=\"#000000\">y.6</text>\n</g>\n<!-- n.114&#45;&gt;y.615 -->\n<g id=\"edge26\" class=\"edge\">\n<title>n.114&#45;&gt;y.615</title>\n<path fill=\"none\" stroke=\"#000000\" d=\"M636.5268,-261.8116C643.6194,-249.2187 653.366,-231.9135 661.3807,-217.6834\"/>\n<polygon fill=\"#000000\" stroke=\"#000000\" points=\"664.4942,-219.2873 666.352,-208.8567 658.395,-215.8522 664.4942,-219.2873\"/>\n<text text-anchor=\"middle\" x=\"658.846\" y=\"-231.8\" font-family=\"Times,serif\" font-size=\"14.00\" fill=\"#000000\">n</text>\n</g>\n<!-- n.2 -->\n<g id=\"node30\" class=\"node\">\n<title>n.2</title>\n<ellipse fill=\"none\" stroke=\"#000000\" cx=\"901.846\" cy=\"-192\" rx=\"27\" ry=\"18\"/>\n<text text-anchor=\"middle\" x=\"901.846\" y=\"-188.3\" font-family=\"Times,serif\" font-size=\"14.00\" fill=\"#000000\">n.2</text>\n</g>\n<!-- n.114&#45;&gt;n.2 -->\n<g id=\"edge29\" class=\"edge\">\n<title>n.114&#45;&gt;n.2</title>\n<path fill=\"none\" stroke=\"#000000\" d=\"M647.8746,-267.6829C652.7168,-265.3034 657.8993,-262.9321 662.846,-261 733.305,-233.4806 819.226,-211.3188 866.4702,-200.0653\"/>\n<polygon fill=\"#000000\" stroke=\"#000000\" points=\"867.2934,-203.4672 876.2238,-197.7664 865.6875,-196.6539 867.2934,-203.4672\"/>\n<text text-anchor=\"middle\" x=\"764.846\" y=\"-231.8\" font-family=\"Times,serif\" font-size=\"14.00\" fill=\"#000000\">y</text>\n</g>\n<!-- democrat16 -->\n<g id=\"node28\" class=\"node\">\n<title>democrat16</title>\n<ellipse fill=\"none\" stroke=\"#000000\" cx=\"675.846\" cy=\"-105\" rx=\"44.6926\" ry=\"18\"/>\n<text text-anchor=\"middle\" x=\"675.846\" y=\"-101.3\" font-family=\"Times,serif\" font-size=\"14.00\" fill=\"#000000\">democrat</text>\n</g>\n<!-- y.615&#45;&gt;democrat16 -->\n<g id=\"edge27\" class=\"edge\">\n<title>y.615&#45;&gt;democrat16</title>\n<path fill=\"none\" stroke=\"#000000\" d=\"M675.846,-173.9735C675.846,-162.1918 675.846,-146.5607 675.846,-133.1581\"/>\n<polygon fill=\"#000000\" stroke=\"#000000\" points=\"679.3461,-133.0033 675.846,-123.0034 672.3461,-133.0034 679.3461,-133.0033\"/>\n<text text-anchor=\"middle\" x=\"679.846\" y=\"-144.8\" font-family=\"Times,serif\" font-size=\"14.00\" fill=\"#000000\">n</text>\n</g>\n<!-- republican17 -->\n<g id=\"node29\" class=\"node\">\n<title>republican17</title>\n<ellipse fill=\"none\" stroke=\"#000000\" cx=\"788.846\" cy=\"-105\" rx=\"50.0912\" ry=\"18\"/>\n<text text-anchor=\"middle\" x=\"788.846\" y=\"-101.3\" font-family=\"Times,serif\" font-size=\"14.00\" fill=\"#000000\">republican</text>\n</g>\n<!-- y.615&#45;&gt;republican17 -->\n<g id=\"edge28\" class=\"edge\">\n<title>y.615&#45;&gt;republican17</title>\n<path fill=\"none\" stroke=\"#000000\" d=\"M693.7512,-178.2146C711.3634,-164.6547 738.5599,-143.7159 759.3641,-127.6985\"/>\n<polygon fill=\"#000000\" stroke=\"#000000\" points=\"761.7689,-130.2642 767.5574,-121.3904 757.4985,-124.7176 761.7689,-130.2642\"/>\n<text text-anchor=\"middle\" x=\"743.846\" y=\"-144.8\" font-family=\"Times,serif\" font-size=\"14.00\" fill=\"#000000\">y</text>\n</g>\n<!-- democrat18 -->\n<g id=\"node31\" class=\"node\">\n<title>democrat18</title>\n<ellipse fill=\"none\" stroke=\"#000000\" cx=\"901.846\" cy=\"-105\" rx=\"44.6926\" ry=\"18\"/>\n<text text-anchor=\"middle\" x=\"901.846\" y=\"-101.3\" font-family=\"Times,serif\" font-size=\"14.00\" fill=\"#000000\">democrat</text>\n</g>\n<!-- n.2&#45;&gt;democrat18 -->\n<g id=\"edge30\" class=\"edge\">\n<title>n.2&#45;&gt;democrat18</title>\n<path fill=\"none\" stroke=\"#000000\" d=\"M901.846,-173.9735C901.846,-162.1918 901.846,-146.5607 901.846,-133.1581\"/>\n<polygon fill=\"#000000\" stroke=\"#000000\" points=\"905.3461,-133.0033 901.846,-123.0034 898.3461,-133.0034 905.3461,-133.0033\"/>\n<text text-anchor=\"middle\" x=\"905.846\" y=\"-144.8\" font-family=\"Times,serif\" font-size=\"14.00\" fill=\"#000000\">n</text>\n</g>\n<!-- republican19 -->\n<g id=\"node32\" class=\"node\">\n<title>republican19</title>\n<ellipse fill=\"none\" stroke=\"#000000\" cx=\"1014.846\" cy=\"-105\" rx=\"50.0912\" ry=\"18\"/>\n<text text-anchor=\"middle\" x=\"1014.846\" y=\"-101.3\" font-family=\"Times,serif\" font-size=\"14.00\" fill=\"#000000\">republican</text>\n</g>\n<!-- n.2&#45;&gt;republican19 -->\n<g id=\"edge31\" class=\"edge\">\n<title>n.2&#45;&gt;republican19</title>\n<path fill=\"none\" stroke=\"#000000\" d=\"M919.7512,-178.2146C937.3634,-164.6547 964.5599,-143.7159 985.3641,-127.6985\"/>\n<polygon fill=\"#000000\" stroke=\"#000000\" points=\"987.7689,-130.2642 993.5574,-121.3904 983.4985,-124.7176 987.7689,-130.2642\"/>\n<text text-anchor=\"middle\" x=\"969.846\" y=\"-144.8\" font-family=\"Times,serif\" font-size=\"14.00\" fill=\"#000000\">y</text>\n</g>\n<!-- democrat23 -->\n<g id=\"node36\" class=\"node\">\n<title>democrat23</title>\n<ellipse fill=\"none\" stroke=\"#000000\" cx=\"794.846\" cy=\"-366\" rx=\"44.6926\" ry=\"18\"/>\n<text text-anchor=\"middle\" x=\"794.846\" y=\"-362.3\" font-family=\"Times,serif\" font-size=\"14.00\" fill=\"#000000\">democrat</text>\n</g>\n<!-- y.522&#45;&gt;democrat23 -->\n<g id=\"edge35\" class=\"edge\">\n<title>y.522&#45;&gt;democrat23</title>\n<path fill=\"none\" stroke=\"#000000\" d=\"M818.7751,-435.3943C814.6143,-423.3281 809.0125,-407.0828 804.2749,-393.3438\"/>\n<polygon fill=\"#000000\" stroke=\"#000000\" points=\"807.5797,-392.1909 801.0109,-383.8782 800.9621,-394.4729 807.5797,-392.1909\"/>\n<text text-anchor=\"middle\" x=\"815.846\" y=\"-405.8\" font-family=\"Times,serif\" font-size=\"14.00\" fill=\"#000000\">n</text>\n</g>\n<!-- n.424 -->\n<g id=\"node37\" class=\"node\">\n<title>n.424</title>\n<ellipse fill=\"none\" stroke=\"#000000\" cx=\"884.846\" cy=\"-366\" rx=\"27\" ry=\"18\"/>\n<text text-anchor=\"middle\" x=\"884.846\" y=\"-362.3\" font-family=\"Times,serif\" font-size=\"14.00\" fill=\"#000000\">n.4</text>\n</g>\n<!-- y.522&#45;&gt;n.424 -->\n<g id=\"edge36\" class=\"edge\">\n<title>y.522&#45;&gt;n.424</title>\n<path fill=\"none\" stroke=\"#000000\" d=\"M836.1316,-436.636C844.9587,-423.8367 857.3849,-405.8187 867.4776,-391.1843\"/>\n<polygon fill=\"#000000\" stroke=\"#000000\" points=\"870.611,-392.8057 873.4071,-382.5865 864.8485,-388.8315 870.611,-392.8057\"/>\n<text text-anchor=\"middle\" x=\"862.346\" y=\"-405.8\" font-family=\"Times,serif\" font-size=\"14.00\" fill=\"#000000\">?</text>\n</g>\n<!-- republican27 -->\n<g id=\"node40\" class=\"node\">\n<title>republican27</title>\n<ellipse fill=\"none\" stroke=\"#000000\" cx=\"979.846\" cy=\"-366\" rx=\"50.0912\" ry=\"18\"/>\n<text text-anchor=\"middle\" x=\"979.846\" y=\"-362.3\" font-family=\"Times,serif\" font-size=\"14.00\" fill=\"#000000\">republican</text>\n</g>\n<!-- y.522&#45;&gt;republican27 -->\n<g id=\"edge39\" class=\"edge\">\n<title>y.522&#45;&gt;republican27</title>\n<path fill=\"none\" stroke=\"#000000\" d=\"M845.75,-441.2668C870.837,-427.1857 913.3208,-403.3399 943.7498,-386.2604\"/>\n<polygon fill=\"#000000\" stroke=\"#000000\" points=\"945.7665,-389.1422 952.7737,-381.1954 942.3403,-383.038 945.7665,-389.1422\"/>\n<text text-anchor=\"middle\" x=\"915.846\" y=\"-405.8\" font-family=\"Times,serif\" font-size=\"14.00\" fill=\"#000000\">y</text>\n</g>\n<!-- democrat25 -->\n<g id=\"node38\" class=\"node\">\n<title>democrat25</title>\n<ellipse fill=\"none\" stroke=\"#000000\" cx=\"825.846\" cy=\"-279\" rx=\"44.6926\" ry=\"18\"/>\n<text text-anchor=\"middle\" x=\"825.846\" y=\"-275.3\" font-family=\"Times,serif\" font-size=\"14.00\" fill=\"#000000\">democrat</text>\n</g>\n<!-- n.424&#45;&gt;democrat25 -->\n<g id=\"edge37\" class=\"edge\">\n<title>n.424&#45;&gt;democrat25</title>\n<path fill=\"none\" stroke=\"#000000\" d=\"M873.4702,-349.2255C864.9847,-336.713 853.2327,-319.3838 843.5263,-305.0709\"/>\n<polygon fill=\"#000000\" stroke=\"#000000\" points=\"846.3039,-302.9307 837.7944,-296.6188 840.5104,-306.8597 846.3039,-302.9307\"/>\n<text text-anchor=\"middle\" x=\"863.846\" y=\"-318.8\" font-family=\"Times,serif\" font-size=\"14.00\" fill=\"#000000\">y</text>\n</g>\n<!-- republican26 -->\n<g id=\"node39\" class=\"node\">\n<title>republican26</title>\n<ellipse fill=\"none\" stroke=\"#000000\" cx=\"938.846\" cy=\"-279\" rx=\"50.0912\" ry=\"18\"/>\n<text text-anchor=\"middle\" x=\"938.846\" y=\"-275.3\" font-family=\"Times,serif\" font-size=\"14.00\" fill=\"#000000\">republican</text>\n</g>\n<!-- n.424&#45;&gt;republican26 -->\n<g id=\"edge38\" class=\"edge\">\n<title>n.424&#45;&gt;republican26</title>\n<path fill=\"none\" stroke=\"#000000\" d=\"M895.2578,-349.2255C902.9509,-336.831 913.5775,-319.7103 922.4122,-305.4767\"/>\n<polygon fill=\"#000000\" stroke=\"#000000\" points=\"925.6103,-306.961 927.9102,-296.6188 919.6628,-303.2695 925.6103,-306.961\"/>\n<text text-anchor=\"middle\" x=\"919.346\" y=\"-318.8\" font-family=\"Times,serif\" font-size=\"14.00\" fill=\"#000000\">?</text>\n</g>\n</g>\n</svg>\n"
          },
          "metadata": {},
          "execution_count": 125
        }
      ]
    },
    {
      "cell_type": "code",
      "source": [
        "y_train_pred=d.predict(df)\n",
        "print(accuracy_score(df[target_name].tolist(),y_train_pred))"
      ],
      "metadata": {
        "colab": {
          "base_uri": "https://localhost:8080/"
        },
        "id": "7OFfj-3NVJdK",
        "outputId": "c85af8ee-c53d-41b6-d884-9a5b7ae5890e"
      },
      "execution_count": 126,
      "outputs": [
        {
          "output_type": "stream",
          "name": "stdout",
          "text": [
            "100.0\n"
          ]
        }
      ]
    },
    {
      "cell_type": "code",
      "source": [
        "y_test_pred=d.predict(test_df)\n",
        "accuracy_score(test_df[target_name].tolist(),y_test_pred)"
      ],
      "metadata": {
        "colab": {
          "base_uri": "https://localhost:8080/"
        },
        "id": "pkSD-bHfVNDs",
        "outputId": "373195eb-c978-4281-d68c-f43ebdb76d0a"
      },
      "execution_count": 127,
      "outputs": [
        {
          "output_type": "execute_result",
          "data": {
            "text/plain": [
              "98.46153846153847"
            ]
          },
          "metadata": {},
          "execution_count": 127
        }
      ]
    },
    {
      "cell_type": "markdown",
      "source": [
        "**Lymphography Data Set**"
      ],
      "metadata": {
        "id": "IdQK0aYGYTIy"
      }
    },
    {
      "cell_type": "code",
      "source": [
        "dataset='lymphography'\n",
        "split_func='IG'"
      ],
      "metadata": {
        "id": "Tgvh28gdYYMZ"
      },
      "execution_count": 140,
      "outputs": []
    },
    {
      "cell_type": "code",
      "source": [
        "dataset_url,target_name=datasets[dataset]\n",
        "data=pd.read_csv(dataset_url)\n",
        "data=data.applymap(lambda x: x.strip() if isinstance(x, str) else x)"
      ],
      "metadata": {
        "id": "s3gdINroYd1R"
      },
      "execution_count": 141,
      "outputs": []
    },
    {
      "cell_type": "code",
      "source": [
        "data"
      ],
      "metadata": {
        "colab": {
          "base_uri": "https://localhost:8080/",
          "height": 483
        },
        "id": "fBiOdugFZWWf",
        "outputId": "e16afa9a-a2d8-4e13-e9d4-39061b8953de"
      },
      "execution_count": 142,
      "outputs": [
        {
          "output_type": "execute_result",
          "data": {
            "text/plain": [
              "    lymphatics block_of_affere bl_of_lymph_c bl_of_lymph_s by_pass  \\\n",
              "0       arched             yes            no            no      no   \n",
              "1    displaced             yes            no            no     yes   \n",
              "2     deformed              no            no            no     yes   \n",
              "3       arched              no            no            no      no   \n",
              "4       arched              no            no            no      no   \n",
              "..         ...             ...           ...           ...     ...   \n",
              "143  displaced              no            no            no      no   \n",
              "144   deformed              no            no            no      no   \n",
              "145   deformed             yes            no            no     yes   \n",
              "146   deformed             yes            no            no      no   \n",
              "147     arched              no            no            no      no   \n",
              "\n",
              "    extravasates regeneration_of early_uptake_in  lym_nodes_dimin  \\\n",
              "0             no              no             yes                1   \n",
              "1            yes              no             yes                1   \n",
              "2            yes             yes              no                3   \n",
              "3            yes              no             yes                1   \n",
              "4             no              no              no                1   \n",
              "..           ...             ...             ...              ...   \n",
              "143           no              no             yes                1   \n",
              "144          yes              no             yes                1   \n",
              "145          yes              no             yes                1   \n",
              "146           no              no             yes                1   \n",
              "147           no              no              no                1   \n",
              "\n",
              "     lym_nodes_enlar changes_in_lym defect_in_node changes_in_node  \\\n",
              "0                  4          round    lac_central         lacunar   \n",
              "1                  3          round    lac_central         lacunar   \n",
              "2                  1           bean        lacunar              no   \n",
              "3                  2           oval     lac_margin      lac_margin   \n",
              "4                  2          round     lac_margin      lac_margin   \n",
              "..               ...            ...            ...             ...   \n",
              "143                3          round        lacunar         lacunar   \n",
              "144                4          round    lac_central         lacunar   \n",
              "145                2           oval    lac_central      lac_margin   \n",
              "146                3           oval        lacunar     lac_central   \n",
              "147                1           oval    lac_central      lac_margin   \n",
              "\n",
              "    changes_in_stru special_forms dislocation_of exclusion_of_no  \\\n",
              "0          stripped      vesicles            yes             yes   \n",
              "1           diluted      vesicles            yes             yes   \n",
              "2           diluted      vesicles             no              no   \n",
              "3         drop_like      vesicles             no             yes   \n",
              "4             faint      vesicles             no              no   \n",
              "..              ...           ...            ...             ...   \n",
              "143          coarse      chalices            yes             yes   \n",
              "144          coarse      vesicles            yes             yes   \n",
              "145         diluted      chalices            yes             yes   \n",
              "146           faint      vesicles            yes             yes   \n",
              "147           faint      chalices            yes             yes   \n",
              "\n",
              "     no_of_nodes_in         class  \n",
              "0                 5  malign_lymph  \n",
              "1                 3  malign_lymph  \n",
              "2                 7      fibrosis  \n",
              "3                 1  malign_lymph  \n",
              "4                 1    metastases  \n",
              "..              ...           ...  \n",
              "143               2    metastases  \n",
              "144               6  malign_lymph  \n",
              "145               4  malign_lymph  \n",
              "146               3  malign_lymph  \n",
              "147               2    metastases  \n",
              "\n",
              "[148 rows x 19 columns]"
            ],
            "text/html": [
              "\n",
              "  <div id=\"df-85ca8239-4357-467b-a265-d712ec9c1d92\">\n",
              "    <div class=\"colab-df-container\">\n",
              "      <div>\n",
              "<style scoped>\n",
              "    .dataframe tbody tr th:only-of-type {\n",
              "        vertical-align: middle;\n",
              "    }\n",
              "\n",
              "    .dataframe tbody tr th {\n",
              "        vertical-align: top;\n",
              "    }\n",
              "\n",
              "    .dataframe thead th {\n",
              "        text-align: right;\n",
              "    }\n",
              "</style>\n",
              "<table border=\"1\" class=\"dataframe\">\n",
              "  <thead>\n",
              "    <tr style=\"text-align: right;\">\n",
              "      <th></th>\n",
              "      <th>lymphatics</th>\n",
              "      <th>block_of_affere</th>\n",
              "      <th>bl_of_lymph_c</th>\n",
              "      <th>bl_of_lymph_s</th>\n",
              "      <th>by_pass</th>\n",
              "      <th>extravasates</th>\n",
              "      <th>regeneration_of</th>\n",
              "      <th>early_uptake_in</th>\n",
              "      <th>lym_nodes_dimin</th>\n",
              "      <th>lym_nodes_enlar</th>\n",
              "      <th>changes_in_lym</th>\n",
              "      <th>defect_in_node</th>\n",
              "      <th>changes_in_node</th>\n",
              "      <th>changes_in_stru</th>\n",
              "      <th>special_forms</th>\n",
              "      <th>dislocation_of</th>\n",
              "      <th>exclusion_of_no</th>\n",
              "      <th>no_of_nodes_in</th>\n",
              "      <th>class</th>\n",
              "    </tr>\n",
              "  </thead>\n",
              "  <tbody>\n",
              "    <tr>\n",
              "      <th>0</th>\n",
              "      <td>arched</td>\n",
              "      <td>yes</td>\n",
              "      <td>no</td>\n",
              "      <td>no</td>\n",
              "      <td>no</td>\n",
              "      <td>no</td>\n",
              "      <td>no</td>\n",
              "      <td>yes</td>\n",
              "      <td>1</td>\n",
              "      <td>4</td>\n",
              "      <td>round</td>\n",
              "      <td>lac_central</td>\n",
              "      <td>lacunar</td>\n",
              "      <td>stripped</td>\n",
              "      <td>vesicles</td>\n",
              "      <td>yes</td>\n",
              "      <td>yes</td>\n",
              "      <td>5</td>\n",
              "      <td>malign_lymph</td>\n",
              "    </tr>\n",
              "    <tr>\n",
              "      <th>1</th>\n",
              "      <td>displaced</td>\n",
              "      <td>yes</td>\n",
              "      <td>no</td>\n",
              "      <td>no</td>\n",
              "      <td>yes</td>\n",
              "      <td>yes</td>\n",
              "      <td>no</td>\n",
              "      <td>yes</td>\n",
              "      <td>1</td>\n",
              "      <td>3</td>\n",
              "      <td>round</td>\n",
              "      <td>lac_central</td>\n",
              "      <td>lacunar</td>\n",
              "      <td>diluted</td>\n",
              "      <td>vesicles</td>\n",
              "      <td>yes</td>\n",
              "      <td>yes</td>\n",
              "      <td>3</td>\n",
              "      <td>malign_lymph</td>\n",
              "    </tr>\n",
              "    <tr>\n",
              "      <th>2</th>\n",
              "      <td>deformed</td>\n",
              "      <td>no</td>\n",
              "      <td>no</td>\n",
              "      <td>no</td>\n",
              "      <td>yes</td>\n",
              "      <td>yes</td>\n",
              "      <td>yes</td>\n",
              "      <td>no</td>\n",
              "      <td>3</td>\n",
              "      <td>1</td>\n",
              "      <td>bean</td>\n",
              "      <td>lacunar</td>\n",
              "      <td>no</td>\n",
              "      <td>diluted</td>\n",
              "      <td>vesicles</td>\n",
              "      <td>no</td>\n",
              "      <td>no</td>\n",
              "      <td>7</td>\n",
              "      <td>fibrosis</td>\n",
              "    </tr>\n",
              "    <tr>\n",
              "      <th>3</th>\n",
              "      <td>arched</td>\n",
              "      <td>no</td>\n",
              "      <td>no</td>\n",
              "      <td>no</td>\n",
              "      <td>no</td>\n",
              "      <td>yes</td>\n",
              "      <td>no</td>\n",
              "      <td>yes</td>\n",
              "      <td>1</td>\n",
              "      <td>2</td>\n",
              "      <td>oval</td>\n",
              "      <td>lac_margin</td>\n",
              "      <td>lac_margin</td>\n",
              "      <td>drop_like</td>\n",
              "      <td>vesicles</td>\n",
              "      <td>no</td>\n",
              "      <td>yes</td>\n",
              "      <td>1</td>\n",
              "      <td>malign_lymph</td>\n",
              "    </tr>\n",
              "    <tr>\n",
              "      <th>4</th>\n",
              "      <td>arched</td>\n",
              "      <td>no</td>\n",
              "      <td>no</td>\n",
              "      <td>no</td>\n",
              "      <td>no</td>\n",
              "      <td>no</td>\n",
              "      <td>no</td>\n",
              "      <td>no</td>\n",
              "      <td>1</td>\n",
              "      <td>2</td>\n",
              "      <td>round</td>\n",
              "      <td>lac_margin</td>\n",
              "      <td>lac_margin</td>\n",
              "      <td>faint</td>\n",
              "      <td>vesicles</td>\n",
              "      <td>no</td>\n",
              "      <td>no</td>\n",
              "      <td>1</td>\n",
              "      <td>metastases</td>\n",
              "    </tr>\n",
              "    <tr>\n",
              "      <th>...</th>\n",
              "      <td>...</td>\n",
              "      <td>...</td>\n",
              "      <td>...</td>\n",
              "      <td>...</td>\n",
              "      <td>...</td>\n",
              "      <td>...</td>\n",
              "      <td>...</td>\n",
              "      <td>...</td>\n",
              "      <td>...</td>\n",
              "      <td>...</td>\n",
              "      <td>...</td>\n",
              "      <td>...</td>\n",
              "      <td>...</td>\n",
              "      <td>...</td>\n",
              "      <td>...</td>\n",
              "      <td>...</td>\n",
              "      <td>...</td>\n",
              "      <td>...</td>\n",
              "      <td>...</td>\n",
              "    </tr>\n",
              "    <tr>\n",
              "      <th>143</th>\n",
              "      <td>displaced</td>\n",
              "      <td>no</td>\n",
              "      <td>no</td>\n",
              "      <td>no</td>\n",
              "      <td>no</td>\n",
              "      <td>no</td>\n",
              "      <td>no</td>\n",
              "      <td>yes</td>\n",
              "      <td>1</td>\n",
              "      <td>3</td>\n",
              "      <td>round</td>\n",
              "      <td>lacunar</td>\n",
              "      <td>lacunar</td>\n",
              "      <td>coarse</td>\n",
              "      <td>chalices</td>\n",
              "      <td>yes</td>\n",
              "      <td>yes</td>\n",
              "      <td>2</td>\n",
              "      <td>metastases</td>\n",
              "    </tr>\n",
              "    <tr>\n",
              "      <th>144</th>\n",
              "      <td>deformed</td>\n",
              "      <td>no</td>\n",
              "      <td>no</td>\n",
              "      <td>no</td>\n",
              "      <td>no</td>\n",
              "      <td>yes</td>\n",
              "      <td>no</td>\n",
              "      <td>yes</td>\n",
              "      <td>1</td>\n",
              "      <td>4</td>\n",
              "      <td>round</td>\n",
              "      <td>lac_central</td>\n",
              "      <td>lacunar</td>\n",
              "      <td>coarse</td>\n",
              "      <td>vesicles</td>\n",
              "      <td>yes</td>\n",
              "      <td>yes</td>\n",
              "      <td>6</td>\n",
              "      <td>malign_lymph</td>\n",
              "    </tr>\n",
              "    <tr>\n",
              "      <th>145</th>\n",
              "      <td>deformed</td>\n",
              "      <td>yes</td>\n",
              "      <td>no</td>\n",
              "      <td>no</td>\n",
              "      <td>yes</td>\n",
              "      <td>yes</td>\n",
              "      <td>no</td>\n",
              "      <td>yes</td>\n",
              "      <td>1</td>\n",
              "      <td>2</td>\n",
              "      <td>oval</td>\n",
              "      <td>lac_central</td>\n",
              "      <td>lac_margin</td>\n",
              "      <td>diluted</td>\n",
              "      <td>chalices</td>\n",
              "      <td>yes</td>\n",
              "      <td>yes</td>\n",
              "      <td>4</td>\n",
              "      <td>malign_lymph</td>\n",
              "    </tr>\n",
              "    <tr>\n",
              "      <th>146</th>\n",
              "      <td>deformed</td>\n",
              "      <td>yes</td>\n",
              "      <td>no</td>\n",
              "      <td>no</td>\n",
              "      <td>no</td>\n",
              "      <td>no</td>\n",
              "      <td>no</td>\n",
              "      <td>yes</td>\n",
              "      <td>1</td>\n",
              "      <td>3</td>\n",
              "      <td>oval</td>\n",
              "      <td>lacunar</td>\n",
              "      <td>lac_central</td>\n",
              "      <td>faint</td>\n",
              "      <td>vesicles</td>\n",
              "      <td>yes</td>\n",
              "      <td>yes</td>\n",
              "      <td>3</td>\n",
              "      <td>malign_lymph</td>\n",
              "    </tr>\n",
              "    <tr>\n",
              "      <th>147</th>\n",
              "      <td>arched</td>\n",
              "      <td>no</td>\n",
              "      <td>no</td>\n",
              "      <td>no</td>\n",
              "      <td>no</td>\n",
              "      <td>no</td>\n",
              "      <td>no</td>\n",
              "      <td>no</td>\n",
              "      <td>1</td>\n",
              "      <td>1</td>\n",
              "      <td>oval</td>\n",
              "      <td>lac_central</td>\n",
              "      <td>lac_margin</td>\n",
              "      <td>faint</td>\n",
              "      <td>chalices</td>\n",
              "      <td>yes</td>\n",
              "      <td>yes</td>\n",
              "      <td>2</td>\n",
              "      <td>metastases</td>\n",
              "    </tr>\n",
              "  </tbody>\n",
              "</table>\n",
              "<p>148 rows × 19 columns</p>\n",
              "</div>\n",
              "      <button class=\"colab-df-convert\" onclick=\"convertToInteractive('df-85ca8239-4357-467b-a265-d712ec9c1d92')\"\n",
              "              title=\"Convert this dataframe to an interactive table.\"\n",
              "              style=\"display:none;\">\n",
              "        \n",
              "  <svg xmlns=\"http://www.w3.org/2000/svg\" height=\"24px\"viewBox=\"0 0 24 24\"\n",
              "       width=\"24px\">\n",
              "    <path d=\"M0 0h24v24H0V0z\" fill=\"none\"/>\n",
              "    <path d=\"M18.56 5.44l.94 2.06.94-2.06 2.06-.94-2.06-.94-.94-2.06-.94 2.06-2.06.94zm-11 1L8.5 8.5l.94-2.06 2.06-.94-2.06-.94L8.5 2.5l-.94 2.06-2.06.94zm10 10l.94 2.06.94-2.06 2.06-.94-2.06-.94-.94-2.06-.94 2.06-2.06.94z\"/><path d=\"M17.41 7.96l-1.37-1.37c-.4-.4-.92-.59-1.43-.59-.52 0-1.04.2-1.43.59L10.3 9.45l-7.72 7.72c-.78.78-.78 2.05 0 2.83L4 21.41c.39.39.9.59 1.41.59.51 0 1.02-.2 1.41-.59l7.78-7.78 2.81-2.81c.8-.78.8-2.07 0-2.86zM5.41 20L4 18.59l7.72-7.72 1.47 1.35L5.41 20z\"/>\n",
              "  </svg>\n",
              "      </button>\n",
              "      \n",
              "  <style>\n",
              "    .colab-df-container {\n",
              "      display:flex;\n",
              "      flex-wrap:wrap;\n",
              "      gap: 12px;\n",
              "    }\n",
              "\n",
              "    .colab-df-convert {\n",
              "      background-color: #E8F0FE;\n",
              "      border: none;\n",
              "      border-radius: 50%;\n",
              "      cursor: pointer;\n",
              "      display: none;\n",
              "      fill: #1967D2;\n",
              "      height: 32px;\n",
              "      padding: 0 0 0 0;\n",
              "      width: 32px;\n",
              "    }\n",
              "\n",
              "    .colab-df-convert:hover {\n",
              "      background-color: #E2EBFA;\n",
              "      box-shadow: 0px 1px 2px rgba(60, 64, 67, 0.3), 0px 1px 3px 1px rgba(60, 64, 67, 0.15);\n",
              "      fill: #174EA6;\n",
              "    }\n",
              "\n",
              "    [theme=dark] .colab-df-convert {\n",
              "      background-color: #3B4455;\n",
              "      fill: #D2E3FC;\n",
              "    }\n",
              "\n",
              "    [theme=dark] .colab-df-convert:hover {\n",
              "      background-color: #434B5C;\n",
              "      box-shadow: 0px 1px 3px 1px rgba(0, 0, 0, 0.15);\n",
              "      filter: drop-shadow(0px 1px 2px rgba(0, 0, 0, 0.3));\n",
              "      fill: #FFFFFF;\n",
              "    }\n",
              "  </style>\n",
              "\n",
              "      <script>\n",
              "        const buttonEl =\n",
              "          document.querySelector('#df-85ca8239-4357-467b-a265-d712ec9c1d92 button.colab-df-convert');\n",
              "        buttonEl.style.display =\n",
              "          google.colab.kernel.accessAllowed ? 'block' : 'none';\n",
              "\n",
              "        async function convertToInteractive(key) {\n",
              "          const element = document.querySelector('#df-85ca8239-4357-467b-a265-d712ec9c1d92');\n",
              "          const dataTable =\n",
              "            await google.colab.kernel.invokeFunction('convertToInteractive',\n",
              "                                                     [key], {});\n",
              "          if (!dataTable) return;\n",
              "\n",
              "          const docLinkHtml = 'Like what you see? Visit the ' +\n",
              "            '<a target=\"_blank\" href=https://colab.research.google.com/notebooks/data_table.ipynb>data table notebook</a>'\n",
              "            + ' to learn more about interactive tables.';\n",
              "          element.innerHTML = '';\n",
              "          dataTable['output_type'] = 'display_data';\n",
              "          await google.colab.output.renderOutput(dataTable, element);\n",
              "          const docLink = document.createElement('div');\n",
              "          docLink.innerHTML = docLinkHtml;\n",
              "          element.appendChild(docLink);\n",
              "        }\n",
              "      </script>\n",
              "    </div>\n",
              "  </div>\n",
              "  "
            ]
          },
          "metadata": {},
          "execution_count": 142
        }
      ]
    },
    {
      "cell_type": "code",
      "source": [
        "data.dtypes"
      ],
      "metadata": {
        "colab": {
          "base_uri": "https://localhost:8080/"
        },
        "id": "nMQ4B4GlZYpr",
        "outputId": "f3b2b69f-882b-4b34-e5cc-2e05a363d119"
      },
      "execution_count": 143,
      "outputs": [
        {
          "output_type": "execute_result",
          "data": {
            "text/plain": [
              "lymphatics         object\n",
              "block_of_affere    object\n",
              "bl_of_lymph_c      object\n",
              "bl_of_lymph_s      object\n",
              "by_pass            object\n",
              "extravasates       object\n",
              "regeneration_of    object\n",
              "early_uptake_in    object\n",
              "lym_nodes_dimin     int64\n",
              "lym_nodes_enlar     int64\n",
              "changes_in_lym     object\n",
              "defect_in_node     object\n",
              "changes_in_node    object\n",
              "changes_in_stru    object\n",
              "special_forms      object\n",
              "dislocation_of     object\n",
              "exclusion_of_no    object\n",
              "no_of_nodes_in      int64\n",
              "class              object\n",
              "dtype: object"
            ]
          },
          "metadata": {},
          "execution_count": 143
        }
      ]
    },
    {
      "cell_type": "code",
      "source": [
        "df,test_df=train_test_split(data,0.3)\n",
        "print(\"Size of Train Dataset: \",len(df),\"\\n\",\"Size of Test Dataset: \",len(test_df))"
      ],
      "metadata": {
        "colab": {
          "base_uri": "https://localhost:8080/"
        },
        "id": "-pEwtjtiZa-J",
        "outputId": "705d7ef0-8143-4d97-a4bd-cc372ad8a907"
      },
      "execution_count": 144,
      "outputs": [
        {
          "output_type": "stream",
          "name": "stdout",
          "text": [
            "Size of Train Dataset:  104 \n",
            " Size of Test Dataset:  44\n"
          ]
        }
      ]
    },
    {
      "cell_type": "code",
      "source": [
        "print(df.count())\n",
        "print(sum(df[target_name].value_counts().to_dict().values()))"
      ],
      "metadata": {
        "colab": {
          "base_uri": "https://localhost:8080/"
        },
        "id": "VeQmfdWDZd68",
        "outputId": "ce033be8-01eb-40a2-f6c7-ad10da57b2eb"
      },
      "execution_count": 145,
      "outputs": [
        {
          "output_type": "stream",
          "name": "stdout",
          "text": [
            "lymphatics         104\n",
            "block_of_affere    104\n",
            "bl_of_lymph_c      104\n",
            "bl_of_lymph_s      104\n",
            "by_pass            104\n",
            "extravasates       104\n",
            "regeneration_of    104\n",
            "early_uptake_in    104\n",
            "lym_nodes_dimin    104\n",
            "lym_nodes_enlar    104\n",
            "changes_in_lym     104\n",
            "defect_in_node     104\n",
            "changes_in_node    104\n",
            "changes_in_stru    104\n",
            "special_forms      104\n",
            "dislocation_of     104\n",
            "exclusion_of_no    104\n",
            "no_of_nodes_in     104\n",
            "class              104\n",
            "dtype: int64\n",
            "104\n"
          ]
        }
      ]
    },
    {
      "cell_type": "markdown",
      "source": [
        "**Descion Tree Training**"
      ],
      "metadata": {
        "id": "EesFLtbeZhJK"
      }
    },
    {
      "cell_type": "code",
      "source": [
        "d=DecisionTree(data,target_name,split_function=split_func)"
      ],
      "metadata": {
        "id": "YSkJqXk_ZlQM"
      },
      "execution_count": 146,
      "outputs": []
    },
    {
      "cell_type": "code",
      "source": [
        "d.construct()"
      ],
      "metadata": {
        "id": "Ar5cvfHWZsie"
      },
      "execution_count": 147,
      "outputs": []
    },
    {
      "cell_type": "code",
      "source": [
        "print(d.tree.no_leafs)"
      ],
      "metadata": {
        "colab": {
          "base_uri": "https://localhost:8080/"
        },
        "id": "HD4NcMirZw-e",
        "outputId": "73fd9a36-9c77-4162-c374-517338bb5f0a"
      },
      "execution_count": 148,
      "outputs": [
        {
          "output_type": "stream",
          "name": "stdout",
          "text": [
            "49\n"
          ]
        }
      ]
    },
    {
      "cell_type": "code",
      "source": [
        "d.get_rules()"
      ],
      "metadata": {
        "colab": {
          "base_uri": "https://localhost:8080/"
        },
        "id": "GmBjWTA_Z4S_",
        "outputId": "996299aa-90ad-4f06-8c3c-91bde42a5fb8"
      },
      "execution_count": 149,
      "outputs": [
        {
          "output_type": "execute_result",
          "data": {
            "text/plain": [
              "['changes_in_node ->  ( lac_margin ) no_of_nodes_in ->  ( 7 ) metastases',\n",
              " 'changes_in_node ->  ( lac_margin ) no_of_nodes_in ->  ( 1 ) block_of_affere ->  ( no ) special_forms ->  ( no ) metastases',\n",
              " 'changes_in_node ->  ( lac_margin ) no_of_nodes_in ->  ( 1 ) block_of_affere ->  ( no ) special_forms ->  ( chalices ) dislocation_of ->  ( yes ) malign_lymph',\n",
              " 'changes_in_node ->  ( lac_margin ) no_of_nodes_in ->  ( 1 ) block_of_affere ->  ( no ) special_forms ->  ( chalices ) dislocation_of ->  ( no ) metastases',\n",
              " 'changes_in_node ->  ( lac_margin ) no_of_nodes_in ->  ( 1 ) block_of_affere ->  ( no ) special_forms ->  ( vesicles ) metastases',\n",
              " 'changes_in_node ->  ( lac_margin ) no_of_nodes_in ->  ( 1 ) block_of_affere ->  ( yes ) metastases',\n",
              " 'changes_in_node ->  ( lac_margin ) no_of_nodes_in ->  ( 2 ) defect_in_node ->  ( lac_central ) metastases',\n",
              " 'changes_in_node ->  ( lac_margin ) no_of_nodes_in ->  ( 2 ) defect_in_node ->  ( lac_margin ) metastases',\n",
              " 'changes_in_node ->  ( lac_margin ) no_of_nodes_in ->  ( 2 ) defect_in_node ->  ( lacunar ) special_forms ->  ( vesicles ) malign_lymph',\n",
              " 'changes_in_node ->  ( lac_margin ) no_of_nodes_in ->  ( 2 ) defect_in_node ->  ( lacunar ) special_forms ->  ( chalices ) metastases',\n",
              " 'changes_in_node ->  ( lac_margin ) no_of_nodes_in ->  ( 4 ) changes_in_stru ->  ( diluted ) malign_lymph',\n",
              " 'changes_in_node ->  ( lac_margin ) no_of_nodes_in ->  ( 4 ) changes_in_stru ->  ( faint ) malign_lymph',\n",
              " 'changes_in_node ->  ( lac_margin ) no_of_nodes_in ->  ( 4 ) changes_in_stru ->  ( grainy ) metastases',\n",
              " 'changes_in_node ->  ( lac_margin ) no_of_nodes_in ->  ( 5 ) malign_lymph',\n",
              " 'changes_in_node ->  ( lac_margin ) no_of_nodes_in ->  ( 3 ) changes_in_stru ->  ( drop_like ) metastases',\n",
              " 'changes_in_node ->  ( lac_margin ) no_of_nodes_in ->  ( 3 ) changes_in_stru ->  ( stripped ) malign_lymph',\n",
              " 'changes_in_node ->  ( lac_margin ) no_of_nodes_in ->  ( 3 ) changes_in_stru ->  ( grainy ) metastases',\n",
              " 'changes_in_node ->  ( lac_margin ) no_of_nodes_in ->  ( 3 ) changes_in_stru ->  ( coarse ) metastases',\n",
              " 'changes_in_node ->  ( lac_margin ) no_of_nodes_in ->  ( 3 ) changes_in_stru ->  ( faint ) metastases',\n",
              " 'changes_in_node ->  ( lac_margin ) no_of_nodes_in ->  ( 6 ) metastases',\n",
              " 'changes_in_node ->  ( lacunar ) no_of_nodes_in ->  ( 3 ) malign_lymph',\n",
              " 'changes_in_node ->  ( lacunar ) no_of_nodes_in ->  ( 5 ) malign_lymph',\n",
              " 'changes_in_node ->  ( lacunar ) no_of_nodes_in ->  ( 4 ) changes_in_lym ->  ( bean ) fibrosis',\n",
              " 'changes_in_node ->  ( lacunar ) no_of_nodes_in ->  ( 4 ) changes_in_lym ->  ( round ) metastases',\n",
              " 'changes_in_node ->  ( lacunar ) no_of_nodes_in ->  ( 4 ) changes_in_lym ->  ( oval ) malign_lymph',\n",
              " 'changes_in_node ->  ( lacunar ) no_of_nodes_in ->  ( 1 ) special_forms ->  ( no ) changes_in_stru ->  ( drop_like ) exclusion_of_no ->  ( yes ) metastases',\n",
              " 'changes_in_node ->  ( lacunar ) no_of_nodes_in ->  ( 1 ) special_forms ->  ( no ) changes_in_stru ->  ( drop_like ) exclusion_of_no ->  ( no ) malign_lymph',\n",
              " 'changes_in_node ->  ( lacunar ) no_of_nodes_in ->  ( 1 ) special_forms ->  ( no ) changes_in_stru ->  ( faint ) metastases',\n",
              " 'changes_in_node ->  ( lacunar ) no_of_nodes_in ->  ( 1 ) special_forms ->  ( no ) changes_in_stru ->  ( grainy ) metastases',\n",
              " 'changes_in_node ->  ( lacunar ) no_of_nodes_in ->  ( 1 ) special_forms ->  ( no ) changes_in_stru ->  ( coarse ) metastases',\n",
              " 'changes_in_node ->  ( lacunar ) no_of_nodes_in ->  ( 1 ) special_forms ->  ( vesicles ) metastases',\n",
              " 'changes_in_node ->  ( lacunar ) no_of_nodes_in ->  ( 1 ) special_forms ->  ( chalices ) malign_lymph',\n",
              " 'changes_in_node ->  ( lacunar ) no_of_nodes_in ->  ( 6 ) malign_lymph',\n",
              " 'changes_in_node ->  ( lacunar ) no_of_nodes_in ->  ( 2 ) changes_in_stru ->  ( diluted ) malign_lymph',\n",
              " 'changes_in_node ->  ( lacunar ) no_of_nodes_in ->  ( 2 ) changes_in_stru ->  ( coarse ) metastases',\n",
              " 'changes_in_node ->  ( lacunar ) no_of_nodes_in ->  ( 7 ) malign_lymph',\n",
              " 'changes_in_node ->  ( lac_central ) no_of_nodes_in ->  ( 7 ) malign_lymph',\n",
              " 'changes_in_node ->  ( lac_central ) no_of_nodes_in ->  ( 3 ) malign_lymph',\n",
              " 'changes_in_node ->  ( lac_central ) no_of_nodes_in ->  ( 2 ) malign_lymph',\n",
              " 'changes_in_node ->  ( lac_central ) no_of_nodes_in ->  ( 1 ) changes_in_stru ->  ( diluted ) metastases',\n",
              " 'changes_in_node ->  ( lac_central ) no_of_nodes_in ->  ( 1 ) changes_in_stru ->  ( grainy ) metastases',\n",
              " 'changes_in_node ->  ( lac_central ) no_of_nodes_in ->  ( 1 ) changes_in_stru ->  ( faint ) malign_lymph',\n",
              " 'changes_in_node ->  ( lac_central ) no_of_nodes_in ->  ( 6 ) malign_lymph',\n",
              " 'changes_in_node ->  ( lac_central ) no_of_nodes_in ->  ( 4 ) malign_lymph',\n",
              " 'changes_in_node ->  ( lac_central ) no_of_nodes_in ->  ( 5 ) malign_lymph',\n",
              " 'changes_in_node ->  ( no ) changes_in_stru ->  ( grainy ) normal',\n",
              " 'changes_in_node ->  ( no ) changes_in_stru ->  ( stripped ) malign_lymph',\n",
              " 'changes_in_node ->  ( no ) changes_in_stru ->  ( no ) normal',\n",
              " 'changes_in_node ->  ( no ) changes_in_stru ->  ( drop_like ) metastases']"
            ]
          },
          "metadata": {},
          "execution_count": 149
        }
      ]
    },
    {
      "cell_type": "code",
      "source": [
        "d.tree.printt()"
      ],
      "metadata": {
        "colab": {
          "base_uri": "https://localhost:8080/"
        },
        "id": "aNcoF0i2Z6Kh",
        "outputId": "23ca3dee-adb4-4bbb-a73c-93343f913cbc"
      },
      "execution_count": 150,
      "outputs": [
        {
          "output_type": "stream",
          "name": "stdout",
          "text": [
            "| changes_in_node\n",
            "|----- ( lac_margin) no_of_nodes_in\n",
            "|---------- ( 7) metastases\n",
            "|---------- ( 1) block_of_affere\n",
            "|--------------- ( no) special_forms\n",
            "|-------------------- ( no) metastases\n",
            "|-------------------- ( chalices) dislocation_of\n",
            "|------------------------- ( yes) malign_lymph\n",
            "|------------------------- ( no) metastases\n",
            "|-------------------- ( vesicles) metastases\n",
            "|--------------- ( yes) metastases\n",
            "|---------- ( 2) defect_in_node\n",
            "|--------------- ( lac_central) metastases\n",
            "|--------------- ( lac_margin) metastases\n",
            "|--------------- ( lacunar) special_forms8\n",
            "|-------------------- ( vesicles) malign_lymph\n",
            "|-------------------- ( chalices) metastases\n",
            "|---------- ( 4) changes_in_stru\n",
            "|--------------- ( diluted) malign_lymph\n",
            "|--------------- ( faint) malign_lymph\n",
            "|--------------- ( grainy) metastases\n",
            "|---------- ( 5) malign_lymph\n",
            "|---------- ( 3) changes_in_stru15\n",
            "|--------------- ( drop_like) metastases\n",
            "|--------------- ( stripped) malign_lymph\n",
            "|--------------- ( grainy) metastases\n",
            "|--------------- ( coarse) metastases\n",
            "|--------------- ( faint) metastases\n",
            "|---------- ( 6) metastases\n",
            "|----- ( lacunar) no_of_nodes_in22\n",
            "|---------- ( 3) malign_lymph\n",
            "|---------- ( 5) malign_lymph\n",
            "|---------- ( 4) changes_in_lym\n",
            "|--------------- ( bean) fibrosis\n",
            "|--------------- ( round) metastases\n",
            "|--------------- ( oval) malign_lymph\n",
            "|---------- ( 1) special_forms28\n",
            "|--------------- ( no) changes_in_stru29\n",
            "|-------------------- ( drop_like) exclusion_of_no\n",
            "|------------------------- ( yes) metastases\n",
            "|------------------------- ( no) malign_lymph\n",
            "|-------------------- ( faint) metastases\n",
            "|-------------------- ( grainy) metastases\n",
            "|-------------------- ( coarse) metastases\n",
            "|--------------- ( vesicles) metastases\n",
            "|--------------- ( chalices) malign_lymph\n",
            "|---------- ( 6) malign_lymph\n",
            "|---------- ( 2) changes_in_stru38\n",
            "|--------------- ( diluted) malign_lymph\n",
            "|--------------- ( coarse) metastases\n",
            "|---------- ( 7) malign_lymph\n",
            "|----- ( lac_central) no_of_nodes_in42\n",
            "|---------- ( 7) malign_lymph\n",
            "|---------- ( 3) malign_lymph\n",
            "|---------- ( 2) malign_lymph\n",
            "|---------- ( 1) changes_in_stru46\n",
            "|--------------- ( diluted) metastases\n",
            "|--------------- ( grainy) metastases\n",
            "|--------------- ( faint) malign_lymph\n",
            "|---------- ( 6) malign_lymph\n",
            "|---------- ( 4) malign_lymph\n",
            "|---------- ( 5) malign_lymph\n",
            "|----- ( no) changes_in_stru53\n",
            "|---------- ( grainy) normal\n",
            "|---------- ( stripped) malign_lymph\n",
            "|---------- ( no) normal\n",
            "|---------- ( drop_like) metastases\n"
          ]
        }
      ]
    },
    {
      "cell_type": "markdown",
      "source": [
        "**Graphviz Representation of Decision Tree**"
      ],
      "metadata": {
        "id": "x9cExLHmZ9Oh"
      }
    },
    {
      "cell_type": "code",
      "source": [
        "f = open(\"lymphatics.dot\", \"w\")\n",
        "f.write(str(d.getGraph()))\n",
        "f.close()"
      ],
      "metadata": {
        "id": "_k0IKUVMaB9F"
      },
      "execution_count": 151,
      "outputs": []
    },
    {
      "cell_type": "code",
      "source": [
        "d.getGraph()"
      ],
      "metadata": {
        "colab": {
          "base_uri": "https://localhost:8080/",
          "height": 680
        },
        "id": "RlvOHOINaK88",
        "outputId": "02a6e19e-ac52-409c-978f-636d5b8db8e2"
      },
      "execution_count": 152,
      "outputs": [
        {
          "output_type": "execute_result",
          "data": {
            "text/plain": [
              "<graphviz.dot.Digraph at 0x7f6003a91750>"
            ],
            "image/svg+xml": "<?xml version=\"1.0\" encoding=\"UTF-8\" standalone=\"no\"?>\n<!DOCTYPE svg PUBLIC \"-//W3C//DTD SVG 1.1//EN\"\n \"http://www.w3.org/Graphics/SVG/1.1/DTD/svg11.dtd\">\n<!-- Generated by graphviz version 2.40.1 (20161225.0304)\n -->\n<!-- Title: %3 Pages: 1 -->\n<svg width=\"4230pt\" height=\"479pt\"\n viewBox=\"0.00 0.00 4230.49 479.00\" xmlns=\"http://www.w3.org/2000/svg\" xmlns:xlink=\"http://www.w3.org/1999/xlink\">\n<g id=\"graph0\" class=\"graph\" transform=\"scale(1 1) rotate(0) translate(4 475)\">\n<title>%3</title>\n<polygon fill=\"#ffffff\" stroke=\"transparent\" points=\"-4,4 -4,-475 4226.4913,-475 4226.4913,4 -4,4\"/>\n<!-- changes_in_node -->\n<g id=\"node1\" class=\"node\">\n<title>changes_in_node</title>\n<ellipse fill=\"none\" stroke=\"#000000\" cx=\"2553.7457\" cy=\"-453\" rx=\"76.0865\" ry=\"18\"/>\n<text text-anchor=\"middle\" x=\"2553.7457\" y=\"-449.3\" font-family=\"Times,serif\" font-size=\"14.00\" fill=\"#000000\">changes_in_node</text>\n</g>\n<!-- no_of_nodes_in -->\n<g id=\"node2\" class=\"node\">\n<title>no_of_nodes_in</title>\n<ellipse fill=\"none\" stroke=\"#000000\" cx=\"1098.7457\" cy=\"-366\" rx=\"72.2875\" ry=\"18\"/>\n<text text-anchor=\"middle\" x=\"1098.7457\" y=\"-362.3\" font-family=\"Times,serif\" font-size=\"14.00\" fill=\"#000000\">no_of_nodes_in</text>\n</g>\n<!-- changes_in_node&#45;&gt;no_of_nodes_in -->\n<g id=\"edge1\" class=\"edge\">\n<title>changes_in_node&#45;&gt;no_of_nodes_in</title>\n<path fill=\"none\" stroke=\"#000000\" d=\"M2479.843,-448.5811C2232.6791,-433.8022 1436.0274,-386.1674 1179.2906,-370.8161\"/>\n<polygon fill=\"#000000\" stroke=\"#000000\" points=\"1179.1196,-367.2997 1168.9285,-370.1965 1178.7017,-374.2872 1179.1196,-367.2997\"/>\n<text text-anchor=\"middle\" x=\"1945.7457\" y=\"-405.8\" font-family=\"Times,serif\" font-size=\"14.00\" fill=\"#000000\">lac_margin</text>\n</g>\n<!-- no_of_nodes_in22 -->\n<g id=\"node30\" class=\"node\">\n<title>no_of_nodes_in22</title>\n<ellipse fill=\"none\" stroke=\"#000000\" cx=\"2304.7457\" cy=\"-366\" rx=\"72.2875\" ry=\"18\"/>\n<text text-anchor=\"middle\" x=\"2304.7457\" y=\"-362.3\" font-family=\"Times,serif\" font-size=\"14.00\" fill=\"#000000\">no_of_nodes_in</text>\n</g>\n<!-- changes_in_node&#45;&gt;no_of_nodes_in22 -->\n<g id=\"edge29\" class=\"edge\">\n<title>changes_in_node&#45;&gt;no_of_nodes_in22</title>\n<path fill=\"none\" stroke=\"#000000\" d=\"M2510.941,-438.0442C2468.1918,-423.1077 2402.4349,-400.1324 2356.7152,-384.158\"/>\n<polygon fill=\"#000000\" stroke=\"#000000\" points=\"2357.5866,-380.755 2346.9917,-380.7607 2355.2776,-387.3633 2357.5866,-380.755\"/>\n<text text-anchor=\"middle\" x=\"2465.7457\" y=\"-405.8\" font-family=\"Times,serif\" font-size=\"14.00\" fill=\"#000000\">lacunar</text>\n</g>\n<!-- no_of_nodes_in42 -->\n<g id=\"node52\" class=\"node\">\n<title>no_of_nodes_in42</title>\n<ellipse fill=\"none\" stroke=\"#000000\" cx=\"3145.7457\" cy=\"-366\" rx=\"72.2875\" ry=\"18\"/>\n<text text-anchor=\"middle\" x=\"3145.7457\" y=\"-362.3\" font-family=\"Times,serif\" font-size=\"14.00\" fill=\"#000000\">no_of_nodes_in</text>\n</g>\n<!-- changes_in_node&#45;&gt;no_of_nodes_in42 -->\n<g id=\"edge51\" class=\"edge\">\n<title>changes_in_node&#45;&gt;no_of_nodes_in42</title>\n<path fill=\"none\" stroke=\"#000000\" d=\"M2618.51,-443.4823C2729.8716,-427.1166 2956.8677,-393.7574 3073.3079,-376.6454\"/>\n<polygon fill=\"#000000\" stroke=\"#000000\" points=\"3073.817,-380.1083 3083.2018,-375.1914 3072.7991,-373.1827 3073.817,-380.1083\"/>\n<text text-anchor=\"middle\" x=\"2916.2457\" y=\"-405.8\" font-family=\"Times,serif\" font-size=\"14.00\" fill=\"#000000\">lac_central</text>\n</g>\n<!-- changes_in_stru53 -->\n<g id=\"node63\" class=\"node\">\n<title>changes_in_stru53</title>\n<ellipse fill=\"none\" stroke=\"#000000\" cx=\"3948.7457\" cy=\"-366\" rx=\"71.4873\" ry=\"18\"/>\n<text text-anchor=\"middle\" x=\"3948.7457\" y=\"-362.3\" font-family=\"Times,serif\" font-size=\"14.00\" fill=\"#000000\">changes_in_stru</text>\n</g>\n<!-- changes_in_node&#45;&gt;changes_in_stru53 -->\n<g id=\"edge62\" class=\"edge\">\n<title>changes_in_node&#45;&gt;changes_in_stru53</title>\n<path fill=\"none\" stroke=\"#000000\" d=\"M2627.762,-448.3839C2867.4931,-433.433 3621.442,-386.4125 3869.0714,-370.9689\"/>\n<polygon fill=\"#000000\" stroke=\"#000000\" points=\"3869.3115,-374.4609 3879.0743,-370.3451 3868.8758,-367.4744 3869.3115,-374.4609\"/>\n<text text-anchor=\"middle\" x=\"3343.7457\" y=\"-405.8\" font-family=\"Times,serif\" font-size=\"14.00\" fill=\"#000000\">no</text>\n</g>\n<!-- metastases0 -->\n<g id=\"node3\" class=\"node\">\n<title>metastases0</title>\n<ellipse fill=\"none\" stroke=\"#000000\" cx=\"260.7457\" cy=\"-279\" rx=\"48.9926\" ry=\"18\"/>\n<text text-anchor=\"middle\" x=\"260.7457\" y=\"-275.3\" font-family=\"Times,serif\" font-size=\"14.00\" fill=\"#000000\">metastases</text>\n</g>\n<!-- no_of_nodes_in&#45;&gt;metastases0 -->\n<g id=\"edge2\" class=\"edge\">\n<title>no_of_nodes_in&#45;&gt;metastases0</title>\n<path fill=\"none\" stroke=\"#000000\" d=\"M1028.3598,-361.8609C862.8425,-351.7915 452.7335,-324.7959 317.7457,-297 313.9102,-296.2102 309.9671,-295.2622 306.0313,-294.2197\"/>\n<polygon fill=\"#000000\" stroke=\"#000000\" points=\"306.904,-290.8293 296.3286,-291.4702 304.9955,-297.5641 306.904,-290.8293\"/>\n<text text-anchor=\"middle\" x=\"586.7457\" y=\"-318.8\" font-family=\"Times,serif\" font-size=\"14.00\" fill=\"#000000\">7</text>\n</g>\n<!-- block_of_affere -->\n<g id=\"node4\" class=\"node\">\n<title>block_of_affere</title>\n<ellipse fill=\"none\" stroke=\"#000000\" cx=\"396.7457\" cy=\"-279\" rx=\"69.5877\" ry=\"18\"/>\n<text text-anchor=\"middle\" x=\"396.7457\" y=\"-275.3\" font-family=\"Times,serif\" font-size=\"14.00\" fill=\"#000000\">block_of_affere</text>\n</g>\n<!-- no_of_nodes_in&#45;&gt;block_of_affere -->\n<g id=\"edge3\" class=\"edge\">\n<title>no_of_nodes_in&#45;&gt;block_of_affere</title>\n<path fill=\"none\" stroke=\"#000000\" d=\"M1032.2948,-358.9798C923.5302,-347.3087 700.7724,-322.6493 512.7457,-297 497.5064,-294.9212 481.1709,-292.5037 465.7101,-290.1279\"/>\n<polygon fill=\"#000000\" stroke=\"#000000\" points=\"466.1146,-286.6489 455.6967,-288.5766 465.0429,-293.5664 466.1146,-286.6489\"/>\n<text text-anchor=\"middle\" x=\"773.7457\" y=\"-318.8\" font-family=\"Times,serif\" font-size=\"14.00\" fill=\"#000000\">1</text>\n</g>\n<!-- defect_in_node -->\n<g id=\"node12\" class=\"node\">\n<title>defect_in_node</title>\n<ellipse fill=\"none\" stroke=\"#000000\" cx=\"589.7457\" cy=\"-279\" rx=\"68.4888\" ry=\"18\"/>\n<text text-anchor=\"middle\" x=\"589.7457\" y=\"-275.3\" font-family=\"Times,serif\" font-size=\"14.00\" fill=\"#000000\">defect_in_node</text>\n</g>\n<!-- no_of_nodes_in&#45;&gt;defect_in_node -->\n<g id=\"edge11\" class=\"edge\">\n<title>no_of_nodes_in&#45;&gt;defect_in_node</title>\n<path fill=\"none\" stroke=\"#000000\" d=\"M1039.1106,-355.807C943.6809,-339.4958 757.2404,-307.6288 657.1277,-290.5172\"/>\n<polygon fill=\"#000000\" stroke=\"#000000\" points=\"657.5725,-287.0425 647.1258,-288.8076 656.3931,-293.9424 657.5725,-287.0425\"/>\n<text text-anchor=\"middle\" x=\"878.7457\" y=\"-318.8\" font-family=\"Times,serif\" font-size=\"14.00\" fill=\"#000000\">2</text>\n</g>\n<!-- changes_in_stru -->\n<g id=\"node18\" class=\"node\">\n<title>changes_in_stru</title>\n<ellipse fill=\"none\" stroke=\"#000000\" cx=\"958.7457\" cy=\"-279\" rx=\"71.4873\" ry=\"18\"/>\n<text text-anchor=\"middle\" x=\"958.7457\" y=\"-275.3\" font-family=\"Times,serif\" font-size=\"14.00\" fill=\"#000000\">changes_in_stru</text>\n</g>\n<!-- no_of_nodes_in&#45;&gt;changes_in_stru -->\n<g id=\"edge17\" class=\"edge\">\n<title>no_of_nodes_in&#45;&gt;changes_in_stru</title>\n<path fill=\"none\" stroke=\"#000000\" d=\"M1071.7523,-349.2255C1049.6729,-335.5048 1018.2735,-315.9923 994.1739,-301.0161\"/>\n<polygon fill=\"#000000\" stroke=\"#000000\" points=\"995.9972,-298.0284 985.6562,-295.723 992.3024,-303.9739 995.9972,-298.0284\"/>\n<text text-anchor=\"middle\" x=\"1041.7457\" y=\"-318.8\" font-family=\"Times,serif\" font-size=\"14.00\" fill=\"#000000\">4</text>\n</g>\n<!-- malign_lymph14 -->\n<g id=\"node22\" class=\"node\">\n<title>malign_lymph14</title>\n<ellipse fill=\"none\" stroke=\"#000000\" cx=\"1113.7457\" cy=\"-279\" rx=\"65.7887\" ry=\"18\"/>\n<text text-anchor=\"middle\" x=\"1113.7457\" y=\"-275.3\" font-family=\"Times,serif\" font-size=\"14.00\" fill=\"#000000\">malign_lymph</text>\n</g>\n<!-- no_of_nodes_in&#45;&gt;malign_lymph14 -->\n<g id=\"edge21\" class=\"edge\">\n<title>no_of_nodes_in&#45;&gt;malign_lymph14</title>\n<path fill=\"none\" stroke=\"#000000\" d=\"M1101.8537,-347.9735C1103.885,-336.1918 1106.58,-320.5607 1108.8908,-307.1581\"/>\n<polygon fill=\"#000000\" stroke=\"#000000\" points=\"1112.3916,-307.4527 1110.6416,-297.0034 1105.4934,-306.2633 1112.3916,-307.4527\"/>\n<text text-anchor=\"middle\" x=\"1111.7457\" y=\"-318.8\" font-family=\"Times,serif\" font-size=\"14.00\" fill=\"#000000\">5</text>\n</g>\n<!-- changes_in_stru15 -->\n<g id=\"node23\" class=\"node\">\n<title>changes_in_stru15</title>\n<ellipse fill=\"none\" stroke=\"#000000\" cx=\"1337.7457\" cy=\"-279\" rx=\"71.4873\" ry=\"18\"/>\n<text text-anchor=\"middle\" x=\"1337.7457\" y=\"-275.3\" font-family=\"Times,serif\" font-size=\"14.00\" fill=\"#000000\">changes_in_stru</text>\n</g>\n<!-- no_of_nodes_in&#45;&gt;changes_in_stru15 -->\n<g id=\"edge22\" class=\"edge\">\n<title>no_of_nodes_in&#45;&gt;changes_in_stru15</title>\n<path fill=\"none\" stroke=\"#000000\" d=\"M1139.5597,-351.143C1180.3387,-336.2988 1243.1244,-313.4437 1287.07,-297.4468\"/>\n<polygon fill=\"#000000\" stroke=\"#000000\" points=\"1288.5004,-300.6509 1296.6999,-293.9413 1286.1059,-294.0731 1288.5004,-300.6509\"/>\n<text text-anchor=\"middle\" x=\"1236.7457\" y=\"-318.8\" font-family=\"Times,serif\" font-size=\"14.00\" fill=\"#000000\">3</text>\n</g>\n<!-- metastases21 -->\n<g id=\"node29\" class=\"node\">\n<title>metastases21</title>\n<ellipse fill=\"none\" stroke=\"#000000\" cx=\"1475.7457\" cy=\"-279\" rx=\"48.9926\" ry=\"18\"/>\n<text text-anchor=\"middle\" x=\"1475.7457\" y=\"-275.3\" font-family=\"Times,serif\" font-size=\"14.00\" fill=\"#000000\">metastases</text>\n</g>\n<!-- no_of_nodes_in&#45;&gt;metastases21 -->\n<g id=\"edge28\" class=\"edge\">\n<title>no_of_nodes_in&#45;&gt;metastases21</title>\n<path fill=\"none\" stroke=\"#000000\" d=\"M1156.4449,-355.1064C1220.6186,-342.623 1327.1851,-320.7975 1417.7457,-297 1421.5377,-296.0035 1425.4519,-294.9167 1429.3728,-293.7869\"/>\n<polygon fill=\"#000000\" stroke=\"#000000\" points=\"1430.4722,-297.1116 1439.0671,-290.9166 1428.4849,-290.3997 1430.4722,-297.1116\"/>\n<text text-anchor=\"middle\" x=\"1343.7457\" y=\"-318.8\" font-family=\"Times,serif\" font-size=\"14.00\" fill=\"#000000\">6</text>\n</g>\n<!-- special_forms -->\n<g id=\"node5\" class=\"node\">\n<title>special_forms</title>\n<ellipse fill=\"none\" stroke=\"#000000\" cx=\"178.7457\" cy=\"-192\" rx=\"61.99\" ry=\"18\"/>\n<text text-anchor=\"middle\" x=\"178.7457\" y=\"-188.3\" font-family=\"Times,serif\" font-size=\"14.00\" fill=\"#000000\">special_forms</text>\n</g>\n<!-- block_of_affere&#45;&gt;special_forms -->\n<g id=\"edge4\" class=\"edge\">\n<title>block_of_affere&#45;&gt;special_forms</title>\n<path fill=\"none\" stroke=\"#000000\" d=\"M358.773,-263.8458C321.4703,-248.9589 264.5099,-226.227 224.6783,-210.3309\"/>\n<polygon fill=\"#000000\" stroke=\"#000000\" points=\"225.7806,-207.0025 215.1956,-206.5465 223.186,-213.5039 225.7806,-207.0025\"/>\n<text text-anchor=\"middle\" x=\"309.7457\" y=\"-231.8\" font-family=\"Times,serif\" font-size=\"14.00\" fill=\"#000000\">no</text>\n</g>\n<!-- metastases5 -->\n<g id=\"node11\" class=\"node\">\n<title>metastases5</title>\n<ellipse fill=\"none\" stroke=\"#000000\" cx=\"306.7457\" cy=\"-192\" rx=\"48.9926\" ry=\"18\"/>\n<text text-anchor=\"middle\" x=\"306.7457\" y=\"-188.3\" font-family=\"Times,serif\" font-size=\"14.00\" fill=\"#000000\">metastases</text>\n</g>\n<!-- block_of_affere&#45;&gt;metastases5 -->\n<g id=\"edge10\" class=\"edge\">\n<title>block_of_affere&#45;&gt;metastases5</title>\n<path fill=\"none\" stroke=\"#000000\" d=\"M378.5328,-261.3943C365.0611,-248.3715 346.5533,-230.4807 331.7044,-216.1268\"/>\n<polygon fill=\"#000000\" stroke=\"#000000\" points=\"333.9414,-213.4213 324.3189,-208.9875 329.0762,-218.4542 333.9414,-213.4213\"/>\n<text text-anchor=\"middle\" x=\"367.2457\" y=\"-231.8\" font-family=\"Times,serif\" font-size=\"14.00\" fill=\"#000000\">yes</text>\n</g>\n<!-- metastases1 -->\n<g id=\"node6\" class=\"node\">\n<title>metastases1</title>\n<ellipse fill=\"none\" stroke=\"#000000\" cx=\"48.7457\" cy=\"-105\" rx=\"48.9926\" ry=\"18\"/>\n<text text-anchor=\"middle\" x=\"48.7457\" y=\"-101.3\" font-family=\"Times,serif\" font-size=\"14.00\" fill=\"#000000\">metastases</text>\n</g>\n<!-- special_forms&#45;&gt;metastases1 -->\n<g id=\"edge5\" class=\"edge\">\n<title>special_forms&#45;&gt;metastases1</title>\n<path fill=\"none\" stroke=\"#000000\" d=\"M153.9877,-175.4312C133.3064,-161.5906 103.6643,-141.7532 81.1057,-126.6563\"/>\n<polygon fill=\"#000000\" stroke=\"#000000\" points=\"82.7914,-123.573 72.5341,-120.92 78.8982,-129.3905 82.7914,-123.573\"/>\n<text text-anchor=\"middle\" x=\"129.7457\" y=\"-144.8\" font-family=\"Times,serif\" font-size=\"14.00\" fill=\"#000000\">no</text>\n</g>\n<!-- dislocation_of -->\n<g id=\"node7\" class=\"node\">\n<title>dislocation_of</title>\n<ellipse fill=\"none\" stroke=\"#000000\" cx=\"178.7457\" cy=\"-105\" rx=\"63.8893\" ry=\"18\"/>\n<text text-anchor=\"middle\" x=\"178.7457\" y=\"-101.3\" font-family=\"Times,serif\" font-size=\"14.00\" fill=\"#000000\">dislocation_of</text>\n</g>\n<!-- special_forms&#45;&gt;dislocation_of -->\n<g id=\"edge6\" class=\"edge\">\n<title>special_forms&#45;&gt;dislocation_of</title>\n<path fill=\"none\" stroke=\"#000000\" d=\"M178.7457,-173.9735C178.7457,-162.1918 178.7457,-146.5607 178.7457,-133.1581\"/>\n<polygon fill=\"#000000\" stroke=\"#000000\" points=\"182.2458,-133.0033 178.7457,-123.0034 175.2458,-133.0034 182.2458,-133.0033\"/>\n<text text-anchor=\"middle\" x=\"201.2457\" y=\"-144.8\" font-family=\"Times,serif\" font-size=\"14.00\" fill=\"#000000\">chalices</text>\n</g>\n<!-- metastases4 -->\n<g id=\"node10\" class=\"node\">\n<title>metastases4</title>\n<ellipse fill=\"none\" stroke=\"#000000\" cx=\"308.7457\" cy=\"-105\" rx=\"48.9926\" ry=\"18\"/>\n<text text-anchor=\"middle\" x=\"308.7457\" y=\"-101.3\" font-family=\"Times,serif\" font-size=\"14.00\" fill=\"#000000\">metastases</text>\n</g>\n<!-- special_forms&#45;&gt;metastases4 -->\n<g id=\"edge9\" class=\"edge\">\n<title>special_forms&#45;&gt;metastases4</title>\n<path fill=\"none\" stroke=\"#000000\" d=\"M203.5037,-175.4312C224.185,-161.5906 253.8271,-141.7532 276.3857,-126.6563\"/>\n<polygon fill=\"#000000\" stroke=\"#000000\" points=\"278.5932,-129.3905 284.9572,-120.92 274.6999,-123.573 278.5932,-129.3905\"/>\n<text text-anchor=\"middle\" x=\"273.7457\" y=\"-144.8\" font-family=\"Times,serif\" font-size=\"14.00\" fill=\"#000000\">vesicles</text>\n</g>\n<!-- malign_lymph2 -->\n<g id=\"node8\" class=\"node\">\n<title>malign_lymph2</title>\n<ellipse fill=\"none\" stroke=\"#000000\" cx=\"112.7457\" cy=\"-18\" rx=\"65.7887\" ry=\"18\"/>\n<text text-anchor=\"middle\" x=\"112.7457\" y=\"-14.3\" font-family=\"Times,serif\" font-size=\"14.00\" fill=\"#000000\">malign_lymph</text>\n</g>\n<!-- dislocation_of&#45;&gt;malign_lymph2 -->\n<g id=\"edge7\" class=\"edge\">\n<title>dislocation_of&#45;&gt;malign_lymph2</title>\n<path fill=\"none\" stroke=\"#000000\" d=\"M165.3896,-87.3943C155.9694,-74.9767 143.1913,-58.1329 132.5835,-44.1498\"/>\n<polygon fill=\"#000000\" stroke=\"#000000\" points=\"135.1408,-41.7297 126.3084,-35.8782 129.5639,-45.9605 135.1408,-41.7297\"/>\n<text text-anchor=\"middle\" x=\"159.2457\" y=\"-57.8\" font-family=\"Times,serif\" font-size=\"14.00\" fill=\"#000000\">yes</text>\n</g>\n<!-- metastases3 -->\n<g id=\"node9\" class=\"node\">\n<title>metastases3</title>\n<ellipse fill=\"none\" stroke=\"#000000\" cx=\"244.7457\" cy=\"-18\" rx=\"48.9926\" ry=\"18\"/>\n<text text-anchor=\"middle\" x=\"244.7457\" y=\"-14.3\" font-family=\"Times,serif\" font-size=\"14.00\" fill=\"#000000\">metastases</text>\n</g>\n<!-- dislocation_of&#45;&gt;metastases3 -->\n<g id=\"edge8\" class=\"edge\">\n<title>dislocation_of&#45;&gt;metastases3</title>\n<path fill=\"none\" stroke=\"#000000\" d=\"M192.1018,-87.3943C201.5844,-74.8944 214.4694,-57.9096 225.1184,-43.8724\"/>\n<polygon fill=\"#000000\" stroke=\"#000000\" points=\"228.154,-45.6619 231.4095,-35.5796 222.5771,-41.4311 228.154,-45.6619\"/>\n<text text-anchor=\"middle\" x=\"223.7457\" y=\"-57.8\" font-family=\"Times,serif\" font-size=\"14.00\" fill=\"#000000\">no</text>\n</g>\n<!-- metastases6 -->\n<g id=\"node13\" class=\"node\">\n<title>metastases6</title>\n<ellipse fill=\"none\" stroke=\"#000000\" cx=\"421.7457\" cy=\"-192\" rx=\"48.9926\" ry=\"18\"/>\n<text text-anchor=\"middle\" x=\"421.7457\" y=\"-188.3\" font-family=\"Times,serif\" font-size=\"14.00\" fill=\"#000000\">metastases</text>\n</g>\n<!-- defect_in_node&#45;&gt;metastases6 -->\n<g id=\"edge12\" class=\"edge\">\n<title>defect_in_node&#45;&gt;metastases6</title>\n<path fill=\"none\" stroke=\"#000000\" d=\"M541.7045,-266.1284C523.5834,-260.3172 503.1551,-252.5796 485.7457,-243 472.1234,-235.5043 458.4521,-225.0971 447.263,-215.6376\"/>\n<polygon fill=\"#000000\" stroke=\"#000000\" points=\"449.4351,-212.8883 439.5906,-208.9722 444.8444,-218.1727 449.4351,-212.8883\"/>\n<text text-anchor=\"middle\" x=\"516.2457\" y=\"-231.8\" font-family=\"Times,serif\" font-size=\"14.00\" fill=\"#000000\">lac_central</text>\n</g>\n<!-- metastases7 -->\n<g id=\"node14\" class=\"node\">\n<title>metastases7</title>\n<ellipse fill=\"none\" stroke=\"#000000\" cx=\"536.7457\" cy=\"-192\" rx=\"48.9926\" ry=\"18\"/>\n<text text-anchor=\"middle\" x=\"536.7457\" y=\"-188.3\" font-family=\"Times,serif\" font-size=\"14.00\" fill=\"#000000\">metastases</text>\n</g>\n<!-- defect_in_node&#45;&gt;metastases7 -->\n<g id=\"edge13\" class=\"edge\">\n<title>defect_in_node&#45;&gt;metastases7</title>\n<path fill=\"none\" stroke=\"#000000\" d=\"M571.8617,-261.2701C566.8739,-255.726 561.7346,-249.3819 557.7457,-243 553.2494,-235.8064 549.3501,-227.4838 546.1731,-219.6751\"/>\n<polygon fill=\"#000000\" stroke=\"#000000\" points=\"549.3846,-218.2739 542.5447,-210.1827 542.846,-220.7733 549.3846,-218.2739\"/>\n<text text-anchor=\"middle\" x=\"589.7457\" y=\"-231.8\" font-family=\"Times,serif\" font-size=\"14.00\" fill=\"#000000\">lac_margin</text>\n</g>\n<!-- special_forms8 -->\n<g id=\"node15\" class=\"node\">\n<title>special_forms8</title>\n<ellipse fill=\"none\" stroke=\"#000000\" cx=\"664.7457\" cy=\"-192\" rx=\"61.99\" ry=\"18\"/>\n<text text-anchor=\"middle\" x=\"664.7457\" y=\"-188.3\" font-family=\"Times,serif\" font-size=\"14.00\" fill=\"#000000\">special_forms</text>\n</g>\n<!-- defect_in_node&#45;&gt;special_forms8 -->\n<g id=\"edge14\" class=\"edge\">\n<title>defect_in_node&#45;&gt;special_forms8</title>\n<path fill=\"none\" stroke=\"#000000\" d=\"M605.7898,-261.1362C610.9196,-255.3751 616.6007,-248.9428 621.7457,-243 628.9091,-234.7258 636.6433,-225.6107 643.5508,-217.4031\"/>\n<polygon fill=\"#000000\" stroke=\"#000000\" points=\"646.3832,-219.4727 650.1309,-209.5628 641.0213,-214.9726 646.3832,-219.4727\"/>\n<text text-anchor=\"middle\" x=\"654.7457\" y=\"-231.8\" font-family=\"Times,serif\" font-size=\"14.00\" fill=\"#000000\">lacunar</text>\n</g>\n<!-- malign_lymph9 -->\n<g id=\"node16\" class=\"node\">\n<title>malign_lymph9</title>\n<ellipse fill=\"none\" stroke=\"#000000\" cx=\"598.7457\" cy=\"-105\" rx=\"65.7887\" ry=\"18\"/>\n<text text-anchor=\"middle\" x=\"598.7457\" y=\"-101.3\" font-family=\"Times,serif\" font-size=\"14.00\" fill=\"#000000\">malign_lymph</text>\n</g>\n<!-- special_forms8&#45;&gt;malign_lymph9 -->\n<g id=\"edge15\" class=\"edge\">\n<title>special_forms8&#45;&gt;malign_lymph9</title>\n<path fill=\"none\" stroke=\"#000000\" d=\"M651.3896,-174.3943C641.9694,-161.9767 629.1913,-145.1329 618.5835,-131.1498\"/>\n<polygon fill=\"#000000\" stroke=\"#000000\" points=\"621.1408,-128.7297 612.3084,-122.8782 615.5639,-132.9605 621.1408,-128.7297\"/>\n<text text-anchor=\"middle\" x=\"657.7457\" y=\"-144.8\" font-family=\"Times,serif\" font-size=\"14.00\" fill=\"#000000\">vesicles</text>\n</g>\n<!-- metastases10 -->\n<g id=\"node17\" class=\"node\">\n<title>metastases10</title>\n<ellipse fill=\"none\" stroke=\"#000000\" cx=\"730.7457\" cy=\"-105\" rx=\"48.9926\" ry=\"18\"/>\n<text text-anchor=\"middle\" x=\"730.7457\" y=\"-101.3\" font-family=\"Times,serif\" font-size=\"14.00\" fill=\"#000000\">metastases</text>\n</g>\n<!-- special_forms8&#45;&gt;metastases10 -->\n<g id=\"edge16\" class=\"edge\">\n<title>special_forms8&#45;&gt;metastases10</title>\n<path fill=\"none\" stroke=\"#000000\" d=\"M678.1018,-174.3943C687.5844,-161.8944 700.4694,-144.9096 711.1184,-130.8724\"/>\n<polygon fill=\"#000000\" stroke=\"#000000\" points=\"714.154,-132.6619 717.4095,-122.5796 708.5771,-128.4311 714.154,-132.6619\"/>\n<text text-anchor=\"middle\" x=\"724.2457\" y=\"-144.8\" font-family=\"Times,serif\" font-size=\"14.00\" fill=\"#000000\">chalices</text>\n</g>\n<!-- malign_lymph11 -->\n<g id=\"node19\" class=\"node\">\n<title>malign_lymph11</title>\n<ellipse fill=\"none\" stroke=\"#000000\" cx=\"809.7457\" cy=\"-192\" rx=\"65.7887\" ry=\"18\"/>\n<text text-anchor=\"middle\" x=\"809.7457\" y=\"-188.3\" font-family=\"Times,serif\" font-size=\"14.00\" fill=\"#000000\">malign_lymph</text>\n</g>\n<!-- changes_in_stru&#45;&gt;malign_lymph11 -->\n<g id=\"edge18\" class=\"edge\">\n<title>changes_in_stru&#45;&gt;malign_lymph11</title>\n<path fill=\"none\" stroke=\"#000000\" d=\"M930.3692,-262.4312C906.5772,-248.5392 872.4383,-228.6057 846.5474,-213.4882\"/>\n<polygon fill=\"#000000\" stroke=\"#000000\" points=\"848.1644,-210.3795 837.7639,-208.3596 844.6348,-216.4245 848.1644,-210.3795\"/>\n<text text-anchor=\"middle\" x=\"913.7457\" y=\"-231.8\" font-family=\"Times,serif\" font-size=\"14.00\" fill=\"#000000\">diluted</text>\n</g>\n<!-- malign_lymph12 -->\n<g id=\"node20\" class=\"node\">\n<title>malign_lymph12</title>\n<ellipse fill=\"none\" stroke=\"#000000\" cx=\"958.7457\" cy=\"-192\" rx=\"65.7887\" ry=\"18\"/>\n<text text-anchor=\"middle\" x=\"958.7457\" y=\"-188.3\" font-family=\"Times,serif\" font-size=\"14.00\" fill=\"#000000\">malign_lymph</text>\n</g>\n<!-- changes_in_stru&#45;&gt;malign_lymph12 -->\n<g id=\"edge19\" class=\"edge\">\n<title>changes_in_stru&#45;&gt;malign_lymph12</title>\n<path fill=\"none\" stroke=\"#000000\" d=\"M958.7457,-260.9735C958.7457,-249.1918 958.7457,-233.5607 958.7457,-220.1581\"/>\n<polygon fill=\"#000000\" stroke=\"#000000\" points=\"962.2458,-220.0033 958.7457,-210.0034 955.2458,-220.0034 962.2458,-220.0033\"/>\n<text text-anchor=\"middle\" x=\"971.7457\" y=\"-231.8\" font-family=\"Times,serif\" font-size=\"14.00\" fill=\"#000000\">faint</text>\n</g>\n<!-- metastases13 -->\n<g id=\"node21\" class=\"node\">\n<title>metastases13</title>\n<ellipse fill=\"none\" stroke=\"#000000\" cx=\"1090.7457\" cy=\"-192\" rx=\"48.9926\" ry=\"18\"/>\n<text text-anchor=\"middle\" x=\"1090.7457\" y=\"-188.3\" font-family=\"Times,serif\" font-size=\"14.00\" fill=\"#000000\">metastases</text>\n</g>\n<!-- changes_in_stru&#45;&gt;metastases13 -->\n<g id=\"edge20\" class=\"edge\">\n<title>changes_in_stru&#45;&gt;metastases13</title>\n<path fill=\"none\" stroke=\"#000000\" d=\"M984.51,-262.019C1005.5729,-248.1366 1035.4769,-228.4271 1058.1942,-213.4544\"/>\n<polygon fill=\"#000000\" stroke=\"#000000\" points=\"1060.4001,-216.1924 1066.8235,-207.7669 1056.5478,-210.3477 1060.4001,-216.1924\"/>\n<text text-anchor=\"middle\" x=\"1051.2457\" y=\"-231.8\" font-family=\"Times,serif\" font-size=\"14.00\" fill=\"#000000\">grainy</text>\n</g>\n<!-- metastases16 -->\n<g id=\"node24\" class=\"node\">\n<title>metastases16</title>\n<ellipse fill=\"none\" stroke=\"#000000\" cx=\"1205.7457\" cy=\"-192\" rx=\"48.9926\" ry=\"18\"/>\n<text text-anchor=\"middle\" x=\"1205.7457\" y=\"-188.3\" font-family=\"Times,serif\" font-size=\"14.00\" fill=\"#000000\">metastases</text>\n</g>\n<!-- changes_in_stru15&#45;&gt;metastases16 -->\n<g id=\"edge23\" class=\"edge\">\n<title>changes_in_stru15&#45;&gt;metastases16</title>\n<path fill=\"none\" stroke=\"#000000\" d=\"M1309.0876,-262.4054C1299.0707,-256.4475 1287.8161,-249.5742 1277.7457,-243 1263.8847,-233.9512 1248.8964,-223.4543 1236.2023,-214.3443\"/>\n<polygon fill=\"#000000\" stroke=\"#000000\" points=\"1237.979,-211.3102 1227.8227,-208.2937 1233.8812,-216.9854 1237.979,-211.3102\"/>\n<text text-anchor=\"middle\" x=\"1305.7457\" y=\"-231.8\" font-family=\"Times,serif\" font-size=\"14.00\" fill=\"#000000\">drop_like</text>\n</g>\n<!-- malign_lymph17 -->\n<g id=\"node25\" class=\"node\">\n<title>malign_lymph17</title>\n<ellipse fill=\"none\" stroke=\"#000000\" cx=\"1337.7457\" cy=\"-192\" rx=\"65.7887\" ry=\"18\"/>\n<text text-anchor=\"middle\" x=\"1337.7457\" y=\"-188.3\" font-family=\"Times,serif\" font-size=\"14.00\" fill=\"#000000\">malign_lymph</text>\n</g>\n<!-- changes_in_stru15&#45;&gt;malign_lymph17 -->\n<g id=\"edge24\" class=\"edge\">\n<title>changes_in_stru15&#45;&gt;malign_lymph17</title>\n<path fill=\"none\" stroke=\"#000000\" d=\"M1337.7457,-260.9735C1337.7457,-249.1918 1337.7457,-233.5607 1337.7457,-220.1581\"/>\n<polygon fill=\"#000000\" stroke=\"#000000\" points=\"1341.2458,-220.0033 1337.7457,-210.0034 1334.2458,-220.0034 1341.2458,-220.0033\"/>\n<text text-anchor=\"middle\" x=\"1360.7457\" y=\"-231.8\" font-family=\"Times,serif\" font-size=\"14.00\" fill=\"#000000\">stripped</text>\n</g>\n<!-- metastases18 -->\n<g id=\"node26\" class=\"node\">\n<title>metastases18</title>\n<ellipse fill=\"none\" stroke=\"#000000\" cx=\"1469.7457\" cy=\"-192\" rx=\"48.9926\" ry=\"18\"/>\n<text text-anchor=\"middle\" x=\"1469.7457\" y=\"-188.3\" font-family=\"Times,serif\" font-size=\"14.00\" fill=\"#000000\">metastases</text>\n</g>\n<!-- changes_in_stru15&#45;&gt;metastases18 -->\n<g id=\"edge25\" class=\"edge\">\n<title>changes_in_stru15&#45;&gt;metastases18</title>\n<path fill=\"none\" stroke=\"#000000\" d=\"M1363.51,-262.019C1384.5729,-248.1366 1414.4769,-228.4271 1437.1942,-213.4544\"/>\n<polygon fill=\"#000000\" stroke=\"#000000\" points=\"1439.4001,-216.1924 1445.8235,-207.7669 1435.5478,-210.3477 1439.4001,-216.1924\"/>\n<text text-anchor=\"middle\" x=\"1430.2457\" y=\"-231.8\" font-family=\"Times,serif\" font-size=\"14.00\" fill=\"#000000\">grainy</text>\n</g>\n<!-- metastases19 -->\n<g id=\"node27\" class=\"node\">\n<title>metastases19</title>\n<ellipse fill=\"none\" stroke=\"#000000\" cx=\"1584.7457\" cy=\"-192\" rx=\"48.9926\" ry=\"18\"/>\n<text text-anchor=\"middle\" x=\"1584.7457\" y=\"-188.3\" font-family=\"Times,serif\" font-size=\"14.00\" fill=\"#000000\">metastases</text>\n</g>\n<!-- changes_in_stru15&#45;&gt;metastases19 -->\n<g id=\"edge26\" class=\"edge\">\n<title>changes_in_stru15&#45;&gt;metastases19</title>\n<path fill=\"none\" stroke=\"#000000\" d=\"M1384.1369,-265.2327C1405.1841,-258.7933 1430.3288,-250.8299 1452.7457,-243 1482.9779,-232.4403 1516.645,-219.412 1542.4113,-209.1666\"/>\n<polygon fill=\"#000000\" stroke=\"#000000\" points=\"1543.887,-212.3461 1551.876,-205.3872 1541.2911,-205.8453 1543.887,-212.3461\"/>\n<text text-anchor=\"middle\" x=\"1511.7457\" y=\"-231.8\" font-family=\"Times,serif\" font-size=\"14.00\" fill=\"#000000\">coarse</text>\n</g>\n<!-- metastases20 -->\n<g id=\"node28\" class=\"node\">\n<title>metastases20</title>\n<ellipse fill=\"none\" stroke=\"#000000\" cx=\"1699.7457\" cy=\"-192\" rx=\"48.9926\" ry=\"18\"/>\n<text text-anchor=\"middle\" x=\"1699.7457\" y=\"-188.3\" font-family=\"Times,serif\" font-size=\"14.00\" fill=\"#000000\">metastases</text>\n</g>\n<!-- changes_in_stru15&#45;&gt;metastases20 -->\n<g id=\"edge27\" class=\"edge\">\n<title>changes_in_stru15&#45;&gt;metastases20</title>\n<path fill=\"none\" stroke=\"#000000\" d=\"M1390.1405,-266.6804C1399.3189,-264.6743 1408.7945,-262.6995 1417.7457,-261 1469.0026,-251.2682 1482.8761,-254.5872 1533.7457,-243 1583.0975,-231.7585 1594.3893,-224.9546 1642.7457,-210 1646.0685,-208.9724 1649.4983,-207.9053 1652.95,-206.8268\"/>\n<polygon fill=\"#000000\" stroke=\"#000000\" points=\"1654.171,-210.112 1662.6654,-203.7798 1652.0763,-203.4327 1654.171,-210.112\"/>\n<text text-anchor=\"middle\" x=\"1600.7457\" y=\"-231.8\" font-family=\"Times,serif\" font-size=\"14.00\" fill=\"#000000\">faint</text>\n</g>\n<!-- malign_lymph23 -->\n<g id=\"node31\" class=\"node\">\n<title>malign_lymph23</title>\n<ellipse fill=\"none\" stroke=\"#000000\" cx=\"1737.7457\" cy=\"-279\" rx=\"65.7887\" ry=\"18\"/>\n<text text-anchor=\"middle\" x=\"1737.7457\" y=\"-275.3\" font-family=\"Times,serif\" font-size=\"14.00\" fill=\"#000000\">malign_lymph</text>\n</g>\n<!-- no_of_nodes_in22&#45;&gt;malign_lymph23 -->\n<g id=\"edge30\" class=\"edge\">\n<title>no_of_nodes_in22&#45;&gt;malign_lymph23</title>\n<path fill=\"none\" stroke=\"#000000\" d=\"M2238.1842,-358.9832C2143.1064,-348.4399 1963.1562,-326.5532 1811.7457,-297 1806.4738,-295.971 1801.0116,-294.8153 1795.5522,-293.599\"/>\n<polygon fill=\"#000000\" stroke=\"#000000\" points=\"1796.2991,-290.1795 1785.7701,-291.3586 1794.7363,-297.0028 1796.2991,-290.1795\"/>\n<text text-anchor=\"middle\" x=\"2004.7457\" y=\"-318.8\" font-family=\"Times,serif\" font-size=\"14.00\" fill=\"#000000\">3</text>\n</g>\n<!-- malign_lymph24 -->\n<g id=\"node32\" class=\"node\">\n<title>malign_lymph24</title>\n<ellipse fill=\"none\" stroke=\"#000000\" cx=\"1886.7457\" cy=\"-279\" rx=\"65.7887\" ry=\"18\"/>\n<text text-anchor=\"middle\" x=\"1886.7457\" y=\"-275.3\" font-family=\"Times,serif\" font-size=\"14.00\" fill=\"#000000\">malign_lymph</text>\n</g>\n<!-- no_of_nodes_in22&#45;&gt;malign_lymph24 -->\n<g id=\"edge31\" class=\"edge\">\n<title>no_of_nodes_in22&#45;&gt;malign_lymph24</title>\n<path fill=\"none\" stroke=\"#000000\" d=\"M2247.258,-355.11C2179.0154,-342.0267 2061.8425,-319.0717 1961.7457,-297 1956.5151,-295.8466 1951.088,-294.6142 1945.6535,-293.3557\"/>\n<polygon fill=\"#000000\" stroke=\"#000000\" points=\"1946.4389,-289.945 1935.9044,-291.0734 1944.8433,-296.7607 1946.4389,-289.945\"/>\n<text text-anchor=\"middle\" x=\"2116.7457\" y=\"-318.8\" font-family=\"Times,serif\" font-size=\"14.00\" fill=\"#000000\">5</text>\n</g>\n<!-- changes_in_lym -->\n<g id=\"node33\" class=\"node\">\n<title>changes_in_lym</title>\n<ellipse fill=\"none\" stroke=\"#000000\" cx=\"2042.7457\" cy=\"-279\" rx=\"72.2875\" ry=\"18\"/>\n<text text-anchor=\"middle\" x=\"2042.7457\" y=\"-275.3\" font-family=\"Times,serif\" font-size=\"14.00\" fill=\"#000000\">changes_in_lym</text>\n</g>\n<!-- no_of_nodes_in22&#45;&gt;changes_in_lym -->\n<g id=\"edge32\" class=\"edge\">\n<title>no_of_nodes_in22&#45;&gt;changes_in_lym</title>\n<path fill=\"none\" stroke=\"#000000\" d=\"M2261.1876,-351.5361C2215.856,-336.4832 2144.8151,-312.8933 2096.135,-296.7285\"/>\n<polygon fill=\"#000000\" stroke=\"#000000\" points=\"2097.0014,-293.3283 2086.4079,-293.4985 2094.7953,-299.9717 2097.0014,-293.3283\"/>\n<text text-anchor=\"middle\" x=\"2193.7457\" y=\"-318.8\" font-family=\"Times,serif\" font-size=\"14.00\" fill=\"#000000\">4</text>\n</g>\n<!-- special_forms28 -->\n<g id=\"node37\" class=\"node\">\n<title>special_forms28</title>\n<ellipse fill=\"none\" stroke=\"#000000\" cx=\"2196.7457\" cy=\"-279\" rx=\"61.99\" ry=\"18\"/>\n<text text-anchor=\"middle\" x=\"2196.7457\" y=\"-275.3\" font-family=\"Times,serif\" font-size=\"14.00\" fill=\"#000000\">special_forms</text>\n</g>\n<!-- no_of_nodes_in22&#45;&gt;special_forms28 -->\n<g id=\"edge36\" class=\"edge\">\n<title>no_of_nodes_in22&#45;&gt;special_forms28</title>\n<path fill=\"none\" stroke=\"#000000\" d=\"M2283.1498,-348.6033C2266.7084,-335.3588 2243.9071,-316.9911 2225.8557,-302.4498\"/>\n<polygon fill=\"#000000\" stroke=\"#000000\" points=\"2227.9193,-299.6177 2217.936,-296.07 2223.5279,-305.069 2227.9193,-299.6177\"/>\n<text text-anchor=\"middle\" x=\"2261.7457\" y=\"-318.8\" font-family=\"Times,serif\" font-size=\"14.00\" fill=\"#000000\">1</text>\n</g>\n<!-- malign_lymph37 -->\n<g id=\"node47\" class=\"node\">\n<title>malign_lymph37</title>\n<ellipse fill=\"none\" stroke=\"#000000\" cx=\"2341.7457\" cy=\"-279\" rx=\"65.7887\" ry=\"18\"/>\n<text text-anchor=\"middle\" x=\"2341.7457\" y=\"-275.3\" font-family=\"Times,serif\" font-size=\"14.00\" fill=\"#000000\">malign_lymph</text>\n</g>\n<!-- no_of_nodes_in22&#45;&gt;malign_lymph37 -->\n<g id=\"edge46\" class=\"edge\">\n<title>no_of_nodes_in22&#45;&gt;malign_lymph37</title>\n<path fill=\"none\" stroke=\"#000000\" d=\"M2312.4121,-347.9735C2317.522,-335.9585 2324.3344,-319.9401 2330.1079,-306.3646\"/>\n<polygon fill=\"#000000\" stroke=\"#000000\" points=\"2333.3962,-307.5755 2334.0891,-297.0034 2326.9545,-304.8359 2333.3962,-307.5755\"/>\n<text text-anchor=\"middle\" x=\"2329.7457\" y=\"-318.8\" font-family=\"Times,serif\" font-size=\"14.00\" fill=\"#000000\">6</text>\n</g>\n<!-- changes_in_stru38 -->\n<g id=\"node48\" class=\"node\">\n<title>changes_in_stru38</title>\n<ellipse fill=\"none\" stroke=\"#000000\" cx=\"2496.7457\" cy=\"-279\" rx=\"71.4873\" ry=\"18\"/>\n<text text-anchor=\"middle\" x=\"2496.7457\" y=\"-275.3\" font-family=\"Times,serif\" font-size=\"14.00\" fill=\"#000000\">changes_in_stru</text>\n</g>\n<!-- no_of_nodes_in22&#45;&gt;changes_in_stru38 -->\n<g id=\"edge47\" class=\"edge\">\n<title>no_of_nodes_in22&#45;&gt;changes_in_stru38</title>\n<path fill=\"none\" stroke=\"#000000\" d=\"M2339.9614,-350.0429C2371.6273,-335.6943 2418.2823,-314.5537 2452.4653,-299.0645\"/>\n<polygon fill=\"#000000\" stroke=\"#000000\" points=\"2454.0892,-302.1713 2461.7532,-294.856 2451.2001,-295.7954 2454.0892,-302.1713\"/>\n<text text-anchor=\"middle\" x=\"2416.7457\" y=\"-318.8\" font-family=\"Times,serif\" font-size=\"14.00\" fill=\"#000000\">2</text>\n</g>\n<!-- malign_lymph41 -->\n<g id=\"node51\" class=\"node\">\n<title>malign_lymph41</title>\n<ellipse fill=\"none\" stroke=\"#000000\" cx=\"2651.7457\" cy=\"-279\" rx=\"65.7887\" ry=\"18\"/>\n<text text-anchor=\"middle\" x=\"2651.7457\" y=\"-275.3\" font-family=\"Times,serif\" font-size=\"14.00\" fill=\"#000000\">malign_lymph</text>\n</g>\n<!-- no_of_nodes_in22&#45;&gt;malign_lymph41 -->\n<g id=\"edge50\" class=\"edge\">\n<title>no_of_nodes_in22&#45;&gt;malign_lymph41</title>\n<path fill=\"none\" stroke=\"#000000\" d=\"M2355.9467,-353.1629C2419.246,-337.2924 2526.7342,-310.3429 2593.2318,-293.6706\"/>\n<polygon fill=\"#000000\" stroke=\"#000000\" points=\"2594.2886,-297.0141 2603.1372,-291.1871 2592.5862,-290.2242 2594.2886,-297.0141\"/>\n<text text-anchor=\"middle\" x=\"2503.7457\" y=\"-318.8\" font-family=\"Times,serif\" font-size=\"14.00\" fill=\"#000000\">7</text>\n</g>\n<!-- fibrosis25 -->\n<g id=\"node34\" class=\"node\">\n<title>fibrosis25</title>\n<ellipse fill=\"none\" stroke=\"#000000\" cx=\"1804.7457\" cy=\"-192\" rx=\"38.1938\" ry=\"18\"/>\n<text text-anchor=\"middle\" x=\"1804.7457\" y=\"-188.3\" font-family=\"Times,serif\" font-size=\"14.00\" fill=\"#000000\">fibrosis</text>\n</g>\n<!-- changes_in_lym&#45;&gt;fibrosis25 -->\n<g id=\"edge33\" class=\"edge\">\n<title>changes_in_lym&#45;&gt;fibrosis25</title>\n<path fill=\"none\" stroke=\"#000000\" d=\"M1999.0253,-264.6032C1979.8508,-258.1729 1957.1165,-250.3909 1936.7457,-243 1905.2089,-231.5579 1869.7582,-217.8114 1843.5424,-207.4746\"/>\n<polygon fill=\"#000000\" stroke=\"#000000\" points=\"1844.5609,-204.1137 1833.9745,-203.6918 1841.9871,-210.6234 1844.5609,-204.1137\"/>\n<text text-anchor=\"middle\" x=\"1950.7457\" y=\"-231.8\" font-family=\"Times,serif\" font-size=\"14.00\" fill=\"#000000\">bean</text>\n</g>\n<!-- metastases26 -->\n<g id=\"node35\" class=\"node\">\n<title>metastases26</title>\n<ellipse fill=\"none\" stroke=\"#000000\" cx=\"1909.7457\" cy=\"-192\" rx=\"48.9926\" ry=\"18\"/>\n<text text-anchor=\"middle\" x=\"1909.7457\" y=\"-188.3\" font-family=\"Times,serif\" font-size=\"14.00\" fill=\"#000000\">metastases</text>\n</g>\n<!-- changes_in_lym&#45;&gt;metastases26 -->\n<g id=\"edge34\" class=\"edge\">\n<title>changes_in_lym&#45;&gt;metastases26</title>\n<path fill=\"none\" stroke=\"#000000\" d=\"M2016.7862,-262.019C1995.4698,-248.0751 1965.1663,-228.2526 1942.2403,-213.2559\"/>\n<polygon fill=\"#000000\" stroke=\"#000000\" points=\"1944.1336,-210.3121 1933.849,-207.7669 1940.3017,-216.1701 1944.1336,-210.3121\"/>\n<text text-anchor=\"middle\" x=\"2002.2457\" y=\"-231.8\" font-family=\"Times,serif\" font-size=\"14.00\" fill=\"#000000\">round</text>\n</g>\n<!-- malign_lymph27 -->\n<g id=\"node36\" class=\"node\">\n<title>malign_lymph27</title>\n<ellipse fill=\"none\" stroke=\"#000000\" cx=\"2041.7457\" cy=\"-192\" rx=\"65.7887\" ry=\"18\"/>\n<text text-anchor=\"middle\" x=\"2041.7457\" y=\"-188.3\" font-family=\"Times,serif\" font-size=\"14.00\" fill=\"#000000\">malign_lymph</text>\n</g>\n<!-- changes_in_lym&#45;&gt;malign_lymph27 -->\n<g id=\"edge35\" class=\"edge\">\n<title>changes_in_lym&#45;&gt;malign_lymph27</title>\n<path fill=\"none\" stroke=\"#000000\" d=\"M2042.5385,-260.9735C2042.4031,-249.1918 2042.2234,-233.5607 2042.0693,-220.1581\"/>\n<polygon fill=\"#000000\" stroke=\"#000000\" points=\"2045.5674,-219.9624 2041.9526,-210.0034 2038.5679,-220.043 2045.5674,-219.9624\"/>\n<text text-anchor=\"middle\" x=\"2055.2457\" y=\"-231.8\" font-family=\"Times,serif\" font-size=\"14.00\" fill=\"#000000\">oval</text>\n</g>\n<!-- changes_in_stru29 -->\n<g id=\"node38\" class=\"node\">\n<title>changes_in_stru29</title>\n<ellipse fill=\"none\" stroke=\"#000000\" cx=\"2196.7457\" cy=\"-192\" rx=\"71.4873\" ry=\"18\"/>\n<text text-anchor=\"middle\" x=\"2196.7457\" y=\"-188.3\" font-family=\"Times,serif\" font-size=\"14.00\" fill=\"#000000\">changes_in_stru</text>\n</g>\n<!-- special_forms28&#45;&gt;changes_in_stru29 -->\n<g id=\"edge37\" class=\"edge\">\n<title>special_forms28&#45;&gt;changes_in_stru29</title>\n<path fill=\"none\" stroke=\"#000000\" d=\"M2196.7457,-260.9735C2196.7457,-249.1918 2196.7457,-233.5607 2196.7457,-220.1581\"/>\n<polygon fill=\"#000000\" stroke=\"#000000\" points=\"2200.2458,-220.0033 2196.7457,-210.0034 2193.2458,-220.0034 2200.2458,-220.0033\"/>\n<text text-anchor=\"middle\" x=\"2204.7457\" y=\"-231.8\" font-family=\"Times,serif\" font-size=\"14.00\" fill=\"#000000\">no</text>\n</g>\n<!-- metastases35 -->\n<g id=\"node45\" class=\"node\">\n<title>metastases35</title>\n<ellipse fill=\"none\" stroke=\"#000000\" cx=\"2334.7457\" cy=\"-192\" rx=\"48.9926\" ry=\"18\"/>\n<text text-anchor=\"middle\" x=\"2334.7457\" y=\"-188.3\" font-family=\"Times,serif\" font-size=\"14.00\" fill=\"#000000\">metastases</text>\n</g>\n<!-- special_forms28&#45;&gt;metastases35 -->\n<g id=\"edge44\" class=\"edge\">\n<title>special_forms28&#45;&gt;metastases35</title>\n<path fill=\"none\" stroke=\"#000000\" d=\"M2222.7024,-262.636C2244.9543,-248.6076 2277.15,-228.3103 2301.3246,-213.0698\"/>\n<polygon fill=\"#000000\" stroke=\"#000000\" points=\"2303.2421,-215.9985 2309.8348,-207.7047 2299.509,-210.077 2303.2421,-215.9985\"/>\n<text text-anchor=\"middle\" x=\"2296.7457\" y=\"-231.8\" font-family=\"Times,serif\" font-size=\"14.00\" fill=\"#000000\">vesicles</text>\n</g>\n<!-- malign_lymph36 -->\n<g id=\"node46\" class=\"node\">\n<title>malign_lymph36</title>\n<ellipse fill=\"none\" stroke=\"#000000\" cx=\"2466.7457\" cy=\"-192\" rx=\"65.7887\" ry=\"18\"/>\n<text text-anchor=\"middle\" x=\"2466.7457\" y=\"-188.3\" font-family=\"Times,serif\" font-size=\"14.00\" fill=\"#000000\">malign_lymph</text>\n</g>\n<!-- special_forms28&#45;&gt;malign_lymph36 -->\n<g id=\"edge45\" class=\"edge\">\n<title>special_forms28&#45;&gt;malign_lymph36</title>\n<path fill=\"none\" stroke=\"#000000\" d=\"M2242.1462,-266.7623C2266.2075,-260.092 2296.1993,-251.4842 2322.7457,-243 2354.8353,-232.7441 2390.5329,-220.1097 2418.3576,-209.9821\"/>\n<polygon fill=\"#000000\" stroke=\"#000000\" points=\"2419.6612,-213.2322 2427.8523,-206.5124 2417.2585,-206.6574 2419.6612,-213.2322\"/>\n<text text-anchor=\"middle\" x=\"2389.2457\" y=\"-231.8\" font-family=\"Times,serif\" font-size=\"14.00\" fill=\"#000000\">chalices</text>\n</g>\n<!-- exclusion_of_no -->\n<g id=\"node39\" class=\"node\">\n<title>exclusion_of_no</title>\n<ellipse fill=\"none\" stroke=\"#000000\" cx=\"1998.7457\" cy=\"-105\" rx=\"73.387\" ry=\"18\"/>\n<text text-anchor=\"middle\" x=\"1998.7457\" y=\"-101.3\" font-family=\"Times,serif\" font-size=\"14.00\" fill=\"#000000\">exclusion_of_no</text>\n</g>\n<!-- changes_in_stru29&#45;&gt;exclusion_of_no -->\n<g id=\"edge38\" class=\"edge\">\n<title>changes_in_stru29&#45;&gt;exclusion_of_no</title>\n<path fill=\"none\" stroke=\"#000000\" d=\"M2156.6268,-177.0567C2140.4043,-170.8186 2121.5716,-163.3273 2104.7457,-156 2083.1842,-146.6104 2059.572,-135.3486 2040.1169,-125.7989\"/>\n<polygon fill=\"#000000\" stroke=\"#000000\" points=\"2041.4438,-122.5507 2030.9274,-121.264 2038.3461,-128.828 2041.4438,-122.5507\"/>\n<text text-anchor=\"middle\" x=\"2132.7457\" y=\"-144.8\" font-family=\"Times,serif\" font-size=\"14.00\" fill=\"#000000\">drop_like</text>\n</g>\n<!-- metastases32 -->\n<g id=\"node42\" class=\"node\">\n<title>metastases32</title>\n<ellipse fill=\"none\" stroke=\"#000000\" cx=\"2138.7457\" cy=\"-105\" rx=\"48.9926\" ry=\"18\"/>\n<text text-anchor=\"middle\" x=\"2138.7457\" y=\"-101.3\" font-family=\"Times,serif\" font-size=\"14.00\" fill=\"#000000\">metastases</text>\n</g>\n<!-- changes_in_stru29&#45;&gt;metastases32 -->\n<g id=\"edge41\" class=\"edge\">\n<title>changes_in_stru29&#45;&gt;metastases32</title>\n<path fill=\"none\" stroke=\"#000000\" d=\"M2184.728,-173.9735C2176.508,-161.6435 2165.4774,-145.0975 2156.2804,-131.3021\"/>\n<polygon fill=\"#000000\" stroke=\"#000000\" points=\"2159.0087,-129.0847 2150.5495,-122.7057 2153.1843,-132.9677 2159.0087,-129.0847\"/>\n<text text-anchor=\"middle\" x=\"2184.7457\" y=\"-144.8\" font-family=\"Times,serif\" font-size=\"14.00\" fill=\"#000000\">faint</text>\n</g>\n<!-- metastases33 -->\n<g id=\"node43\" class=\"node\">\n<title>metastases33</title>\n<ellipse fill=\"none\" stroke=\"#000000\" cx=\"2253.7457\" cy=\"-105\" rx=\"48.9926\" ry=\"18\"/>\n<text text-anchor=\"middle\" x=\"2253.7457\" y=\"-101.3\" font-family=\"Times,serif\" font-size=\"14.00\" fill=\"#000000\">metastases</text>\n</g>\n<!-- changes_in_stru29&#45;&gt;metastases33 -->\n<g id=\"edge42\" class=\"edge\">\n<title>changes_in_stru29&#45;&gt;metastases33</title>\n<path fill=\"none\" stroke=\"#000000\" d=\"M2208.5561,-173.9735C2216.6344,-161.6435 2227.4749,-145.0975 2236.5133,-131.3021\"/>\n<polygon fill=\"#000000\" stroke=\"#000000\" points=\"2239.5927,-132.9884 2242.1454,-122.7057 2233.7375,-129.1522 2239.5927,-132.9884\"/>\n<text text-anchor=\"middle\" x=\"2247.2457\" y=\"-144.8\" font-family=\"Times,serif\" font-size=\"14.00\" fill=\"#000000\">grainy</text>\n</g>\n<!-- metastases34 -->\n<g id=\"node44\" class=\"node\">\n<title>metastases34</title>\n<ellipse fill=\"none\" stroke=\"#000000\" cx=\"2368.7457\" cy=\"-105\" rx=\"48.9926\" ry=\"18\"/>\n<text text-anchor=\"middle\" x=\"2368.7457\" y=\"-101.3\" font-family=\"Times,serif\" font-size=\"14.00\" fill=\"#000000\">metastases</text>\n</g>\n<!-- changes_in_stru29&#45;&gt;metastases34 -->\n<g id=\"edge43\" class=\"edge\">\n<title>changes_in_stru29&#45;&gt;metastases34</title>\n<path fill=\"none\" stroke=\"#000000\" d=\"M2229.5118,-175.9933C2242.1142,-169.7971 2256.6226,-162.6154 2269.7457,-156 2290.1272,-145.7256 2312.7642,-134.0816 2331.2421,-124.5162\"/>\n<polygon fill=\"#000000\" stroke=\"#000000\" points=\"2332.9528,-127.5718 2340.2205,-119.8626 2329.7316,-121.357 2332.9528,-127.5718\"/>\n<text text-anchor=\"middle\" x=\"2315.7457\" y=\"-144.8\" font-family=\"Times,serif\" font-size=\"14.00\" fill=\"#000000\">coarse</text>\n</g>\n<!-- metastases30 -->\n<g id=\"node40\" class=\"node\">\n<title>metastases30</title>\n<ellipse fill=\"none\" stroke=\"#000000\" cx=\"1932.7457\" cy=\"-18\" rx=\"48.9926\" ry=\"18\"/>\n<text text-anchor=\"middle\" x=\"1932.7457\" y=\"-14.3\" font-family=\"Times,serif\" font-size=\"14.00\" fill=\"#000000\">metastases</text>\n</g>\n<!-- exclusion_of_no&#45;&gt;metastases30 -->\n<g id=\"edge39\" class=\"edge\">\n<title>exclusion_of_no&#45;&gt;metastases30</title>\n<path fill=\"none\" stroke=\"#000000\" d=\"M1985.0704,-86.9735C1975.565,-74.4437 1962.7567,-57.56 1952.1917,-43.6335\"/>\n<polygon fill=\"#000000\" stroke=\"#000000\" points=\"1954.7854,-41.2613 1945.953,-35.4097 1949.2085,-45.492 1954.7854,-41.2613\"/>\n<text text-anchor=\"middle\" x=\"1979.2457\" y=\"-57.8\" font-family=\"Times,serif\" font-size=\"14.00\" fill=\"#000000\">yes</text>\n</g>\n<!-- malign_lymph31 -->\n<g id=\"node41\" class=\"node\">\n<title>malign_lymph31</title>\n<ellipse fill=\"none\" stroke=\"#000000\" cx=\"2064.7457\" cy=\"-18\" rx=\"65.7887\" ry=\"18\"/>\n<text text-anchor=\"middle\" x=\"2064.7457\" y=\"-14.3\" font-family=\"Times,serif\" font-size=\"14.00\" fill=\"#000000\">malign_lymph</text>\n</g>\n<!-- exclusion_of_no&#45;&gt;malign_lymph31 -->\n<g id=\"edge40\" class=\"edge\">\n<title>exclusion_of_no&#45;&gt;malign_lymph31</title>\n<path fill=\"none\" stroke=\"#000000\" d=\"M2012.4209,-86.9735C2021.8638,-74.5261 2034.5662,-57.782 2045.0908,-43.9087\"/>\n<polygon fill=\"#000000\" stroke=\"#000000\" points=\"2048.0583,-45.788 2051.3138,-35.7057 2042.4814,-41.5573 2048.0583,-45.788\"/>\n<text text-anchor=\"middle\" x=\"2043.7457\" y=\"-57.8\" font-family=\"Times,serif\" font-size=\"14.00\" fill=\"#000000\">no</text>\n</g>\n<!-- malign_lymph39 -->\n<g id=\"node49\" class=\"node\">\n<title>malign_lymph39</title>\n<ellipse fill=\"none\" stroke=\"#000000\" cx=\"2615.7457\" cy=\"-192\" rx=\"65.7887\" ry=\"18\"/>\n<text text-anchor=\"middle\" x=\"2615.7457\" y=\"-188.3\" font-family=\"Times,serif\" font-size=\"14.00\" fill=\"#000000\">malign_lymph</text>\n</g>\n<!-- changes_in_stru38&#45;&gt;malign_lymph39 -->\n<g id=\"edge48\" class=\"edge\">\n<title>changes_in_stru38&#45;&gt;malign_lymph39</title>\n<path fill=\"none\" stroke=\"#000000\" d=\"M2520.2562,-261.8116C2538.6293,-248.3792 2564.3361,-229.5852 2584.4491,-214.8807\"/>\n<polygon fill=\"#000000\" stroke=\"#000000\" points=\"2586.6818,-217.584 2592.6889,-208.8567 2582.5505,-211.9331 2586.6818,-217.584\"/>\n<text text-anchor=\"middle\" x=\"2583.7457\" y=\"-231.8\" font-family=\"Times,serif\" font-size=\"14.00\" fill=\"#000000\">diluted</text>\n</g>\n<!-- metastases40 -->\n<g id=\"node50\" class=\"node\">\n<title>metastases40</title>\n<ellipse fill=\"none\" stroke=\"#000000\" cx=\"2747.7457\" cy=\"-192\" rx=\"48.9926\" ry=\"18\"/>\n<text text-anchor=\"middle\" x=\"2747.7457\" y=\"-188.3\" font-family=\"Times,serif\" font-size=\"14.00\" fill=\"#000000\">metastases</text>\n</g>\n<!-- changes_in_stru38&#45;&gt;metastases40 -->\n<g id=\"edge49\" class=\"edge\">\n<title>changes_in_stru38&#45;&gt;metastases40</title>\n<path fill=\"none\" stroke=\"#000000\" d=\"M2541.4256,-264.9105C2561.7215,-258.4074 2586.0035,-250.4833 2607.7457,-243 2639.9868,-231.9032 2676.1425,-218.7129 2703.634,-208.5268\"/>\n<polygon fill=\"#000000\" stroke=\"#000000\" points=\"2705.1914,-211.6821 2713.3472,-204.9195 2702.7542,-205.1201 2705.1914,-211.6821\"/>\n<text text-anchor=\"middle\" x=\"2668.7457\" y=\"-231.8\" font-family=\"Times,serif\" font-size=\"14.00\" fill=\"#000000\">coarse</text>\n</g>\n<!-- malign_lymph43 -->\n<g id=\"node53\" class=\"node\">\n<title>malign_lymph43</title>\n<ellipse fill=\"none\" stroke=\"#000000\" cx=\"2800.7457\" cy=\"-279\" rx=\"65.7887\" ry=\"18\"/>\n<text text-anchor=\"middle\" x=\"2800.7457\" y=\"-275.3\" font-family=\"Times,serif\" font-size=\"14.00\" fill=\"#000000\">malign_lymph</text>\n</g>\n<!-- no_of_nodes_in42&#45;&gt;malign_lymph43 -->\n<g id=\"edge52\" class=\"edge\">\n<title>no_of_nodes_in42&#45;&gt;malign_lymph43</title>\n<path fill=\"none\" stroke=\"#000000\" d=\"M3094.8397,-353.1629C3031.9053,-337.2924 2925.0366,-310.3429 2858.9223,-293.6706\"/>\n<polygon fill=\"#000000\" stroke=\"#000000\" points=\"2859.6263,-290.2387 2849.074,-291.1871 2857.9146,-297.0262 2859.6263,-290.2387\"/>\n<text text-anchor=\"middle\" x=\"2998.7457\" y=\"-318.8\" font-family=\"Times,serif\" font-size=\"14.00\" fill=\"#000000\">7</text>\n</g>\n<!-- malign_lymph44 -->\n<g id=\"node54\" class=\"node\">\n<title>malign_lymph44</title>\n<ellipse fill=\"none\" stroke=\"#000000\" cx=\"2949.7457\" cy=\"-279\" rx=\"65.7887\" ry=\"18\"/>\n<text text-anchor=\"middle\" x=\"2949.7457\" y=\"-275.3\" font-family=\"Times,serif\" font-size=\"14.00\" fill=\"#000000\">malign_lymph</text>\n</g>\n<!-- no_of_nodes_in42&#45;&gt;malign_lymph44 -->\n<g id=\"edge53\" class=\"edge\">\n<title>no_of_nodes_in42&#45;&gt;malign_lymph44</title>\n<path fill=\"none\" stroke=\"#000000\" d=\"M3110.2516,-350.245C3077.5808,-335.7431 3029.0032,-314.1806 2993.8519,-298.5777\"/>\n<polygon fill=\"#000000\" stroke=\"#000000\" points=\"2994.8778,-295.2039 2984.3178,-294.3458 2992.0378,-301.6019 2994.8778,-295.2039\"/>\n<text text-anchor=\"middle\" x=\"3063.7457\" y=\"-318.8\" font-family=\"Times,serif\" font-size=\"14.00\" fill=\"#000000\">3</text>\n</g>\n<!-- malign_lymph45 -->\n<g id=\"node55\" class=\"node\">\n<title>malign_lymph45</title>\n<ellipse fill=\"none\" stroke=\"#000000\" cx=\"3098.7457\" cy=\"-279\" rx=\"65.7887\" ry=\"18\"/>\n<text text-anchor=\"middle\" x=\"3098.7457\" y=\"-275.3\" font-family=\"Times,serif\" font-size=\"14.00\" fill=\"#000000\">malign_lymph</text>\n</g>\n<!-- no_of_nodes_in42&#45;&gt;malign_lymph45 -->\n<g id=\"edge54\" class=\"edge\">\n<title>no_of_nodes_in42&#45;&gt;malign_lymph45</title>\n<path fill=\"none\" stroke=\"#000000\" d=\"M3136.0072,-347.9735C3129.4533,-335.8418 3120.6945,-319.6287 3113.3156,-305.9698\"/>\n<polygon fill=\"#000000\" stroke=\"#000000\" points=\"3116.3041,-304.138 3108.4716,-297.0034 3110.1454,-307.4652 3116.3041,-304.138\"/>\n<text text-anchor=\"middle\" x=\"3129.7457\" y=\"-318.8\" font-family=\"Times,serif\" font-size=\"14.00\" fill=\"#000000\">2</text>\n</g>\n<!-- changes_in_stru46 -->\n<g id=\"node56\" class=\"node\">\n<title>changes_in_stru46</title>\n<ellipse fill=\"none\" stroke=\"#000000\" cx=\"3253.7457\" cy=\"-279\" rx=\"71.4873\" ry=\"18\"/>\n<text text-anchor=\"middle\" x=\"3253.7457\" y=\"-275.3\" font-family=\"Times,serif\" font-size=\"14.00\" fill=\"#000000\">changes_in_stru</text>\n</g>\n<!-- no_of_nodes_in42&#45;&gt;changes_in_stru46 -->\n<g id=\"edge55\" class=\"edge\">\n<title>no_of_nodes_in42&#45;&gt;changes_in_stru46</title>\n<path fill=\"none\" stroke=\"#000000\" d=\"M3167.3415,-348.6033C3183.6762,-335.4448 3206.2884,-317.2295 3224.2834,-302.7335\"/>\n<polygon fill=\"#000000\" stroke=\"#000000\" points=\"3226.5954,-305.3655 3232.1873,-296.3665 3222.204,-299.9142 3226.5954,-305.3655\"/>\n<text text-anchor=\"middle\" x=\"3210.7457\" y=\"-318.8\" font-family=\"Times,serif\" font-size=\"14.00\" fill=\"#000000\">1</text>\n</g>\n<!-- malign_lymph50 -->\n<g id=\"node60\" class=\"node\">\n<title>malign_lymph50</title>\n<ellipse fill=\"none\" stroke=\"#000000\" cx=\"3408.7457\" cy=\"-279\" rx=\"65.7887\" ry=\"18\"/>\n<text text-anchor=\"middle\" x=\"3408.7457\" y=\"-275.3\" font-family=\"Times,serif\" font-size=\"14.00\" fill=\"#000000\">malign_lymph</text>\n</g>\n<!-- no_of_nodes_in42&#45;&gt;malign_lymph50 -->\n<g id=\"edge59\" class=\"edge\">\n<title>no_of_nodes_in42&#45;&gt;malign_lymph50</title>\n<path fill=\"none\" stroke=\"#000000\" d=\"M3189.47,-351.5361C3235.5212,-336.3024 3308.0036,-312.3253 3356.9037,-296.1492\"/>\n<polygon fill=\"#000000\" stroke=\"#000000\" points=\"3358.2635,-299.386 3366.6583,-292.9225 3356.065,-292.7402 3358.2635,-299.386\"/>\n<text text-anchor=\"middle\" x=\"3297.7457\" y=\"-318.8\" font-family=\"Times,serif\" font-size=\"14.00\" fill=\"#000000\">6</text>\n</g>\n<!-- malign_lymph51 -->\n<g id=\"node61\" class=\"node\">\n<title>malign_lymph51</title>\n<ellipse fill=\"none\" stroke=\"#000000\" cx=\"3557.7457\" cy=\"-279\" rx=\"65.7887\" ry=\"18\"/>\n<text text-anchor=\"middle\" x=\"3557.7457\" y=\"-275.3\" font-family=\"Times,serif\" font-size=\"14.00\" fill=\"#000000\">malign_lymph</text>\n</g>\n<!-- no_of_nodes_in42&#45;&gt;malign_lymph51 -->\n<g id=\"edge60\" class=\"edge\">\n<title>no_of_nodes_in42&#45;&gt;malign_lymph51</title>\n<path fill=\"none\" stroke=\"#000000\" d=\"M3202.997,-354.9874C3270.3326,-341.8791 3385.408,-318.9894 3483.7457,-297 3488.6993,-295.8923 3493.8314,-294.7121 3498.977,-293.5059\"/>\n<polygon fill=\"#000000\" stroke=\"#000000\" points=\"3499.9225,-296.8788 3508.8456,-291.1667 3498.308,-290.0676 3499.9225,-296.8788\"/>\n<text text-anchor=\"middle\" x=\"3404.7457\" y=\"-318.8\" font-family=\"Times,serif\" font-size=\"14.00\" fill=\"#000000\">4</text>\n</g>\n<!-- malign_lymph52 -->\n<g id=\"node62\" class=\"node\">\n<title>malign_lymph52</title>\n<ellipse fill=\"none\" stroke=\"#000000\" cx=\"3706.7457\" cy=\"-279\" rx=\"65.7887\" ry=\"18\"/>\n<text text-anchor=\"middle\" x=\"3706.7457\" y=\"-275.3\" font-family=\"Times,serif\" font-size=\"14.00\" fill=\"#000000\">malign_lymph</text>\n</g>\n<!-- no_of_nodes_in42&#45;&gt;malign_lymph52 -->\n<g id=\"edge61\" class=\"edge\">\n<title>no_of_nodes_in42&#45;&gt;malign_lymph52</title>\n<path fill=\"none\" stroke=\"#000000\" d=\"M3212.2864,-358.8373C3306.4093,-348.1926 3483.5901,-326.266 3632.7457,-297 3638.0165,-295.9658 3643.4781,-294.8065 3648.937,-293.588\"/>\n<polygon fill=\"#000000\" stroke=\"#000000\" points=\"3649.754,-296.9915 3658.7185,-291.3447 3648.1892,-290.1687 3649.754,-296.9915\"/>\n<text text-anchor=\"middle\" x=\"3530.7457\" y=\"-318.8\" font-family=\"Times,serif\" font-size=\"14.00\" fill=\"#000000\">5</text>\n</g>\n<!-- metastases47 -->\n<g id=\"node57\" class=\"node\">\n<title>metastases47</title>\n<ellipse fill=\"none\" stroke=\"#000000\" cx=\"3138.7457\" cy=\"-192\" rx=\"48.9926\" ry=\"18\"/>\n<text text-anchor=\"middle\" x=\"3138.7457\" y=\"-188.3\" font-family=\"Times,serif\" font-size=\"14.00\" fill=\"#000000\">metastases</text>\n</g>\n<!-- changes_in_stru46&#45;&gt;metastases47 -->\n<g id=\"edge56\" class=\"edge\">\n<title>changes_in_stru46&#45;&gt;metastases47</title>\n<path fill=\"none\" stroke=\"#000000\" d=\"M3231.0254,-261.8116C3213.0408,-248.2059 3187.7849,-229.0993 3168.2406,-214.3135\"/>\n<polygon fill=\"#000000\" stroke=\"#000000\" points=\"3170.3386,-211.512 3160.2519,-208.2699 3166.1153,-217.0945 3170.3386,-211.512\"/>\n<text text-anchor=\"middle\" x=\"3223.7457\" y=\"-231.8\" font-family=\"Times,serif\" font-size=\"14.00\" fill=\"#000000\">diluted</text>\n</g>\n<!-- metastases48 -->\n<g id=\"node58\" class=\"node\">\n<title>metastases48</title>\n<ellipse fill=\"none\" stroke=\"#000000\" cx=\"3253.7457\" cy=\"-192\" rx=\"48.9926\" ry=\"18\"/>\n<text text-anchor=\"middle\" x=\"3253.7457\" y=\"-188.3\" font-family=\"Times,serif\" font-size=\"14.00\" fill=\"#000000\">metastases</text>\n</g>\n<!-- changes_in_stru46&#45;&gt;metastases48 -->\n<g id=\"edge57\" class=\"edge\">\n<title>changes_in_stru46&#45;&gt;metastases48</title>\n<path fill=\"none\" stroke=\"#000000\" d=\"M3253.7457,-260.9735C3253.7457,-249.1918 3253.7457,-233.5607 3253.7457,-220.1581\"/>\n<polygon fill=\"#000000\" stroke=\"#000000\" points=\"3257.2458,-220.0033 3253.7457,-210.0034 3250.2458,-220.0034 3257.2458,-220.0033\"/>\n<text text-anchor=\"middle\" x=\"3272.2457\" y=\"-231.8\" font-family=\"Times,serif\" font-size=\"14.00\" fill=\"#000000\">grainy</text>\n</g>\n<!-- malign_lymph49 -->\n<g id=\"node59\" class=\"node\">\n<title>malign_lymph49</title>\n<ellipse fill=\"none\" stroke=\"#000000\" cx=\"3385.7457\" cy=\"-192\" rx=\"65.7887\" ry=\"18\"/>\n<text text-anchor=\"middle\" x=\"3385.7457\" y=\"-188.3\" font-family=\"Times,serif\" font-size=\"14.00\" fill=\"#000000\">malign_lymph</text>\n</g>\n<!-- changes_in_stru46&#45;&gt;malign_lymph49 -->\n<g id=\"edge58\" class=\"edge\">\n<title>changes_in_stru46&#45;&gt;malign_lymph49</title>\n<path fill=\"none\" stroke=\"#000000\" d=\"M3279.51,-262.019C3300.1755,-248.3985 3329.3516,-229.1688 3351.9008,-214.3069\"/>\n<polygon fill=\"#000000\" stroke=\"#000000\" points=\"3354.0713,-217.0682 3360.4948,-208.6426 3350.2191,-211.2234 3354.0713,-217.0682\"/>\n<text text-anchor=\"middle\" x=\"3340.7457\" y=\"-231.8\" font-family=\"Times,serif\" font-size=\"14.00\" fill=\"#000000\">faint</text>\n</g>\n<!-- normal54 -->\n<g id=\"node64\" class=\"node\">\n<title>normal54</title>\n<ellipse fill=\"none\" stroke=\"#000000\" cx=\"3827.7457\" cy=\"-279\" rx=\"37.0935\" ry=\"18\"/>\n<text text-anchor=\"middle\" x=\"3827.7457\" y=\"-275.3\" font-family=\"Times,serif\" font-size=\"14.00\" fill=\"#000000\">normal</text>\n</g>\n<!-- changes_in_stru53&#45;&gt;normal54 -->\n<g id=\"edge63\" class=\"edge\">\n<title>changes_in_stru53&#45;&gt;normal54</title>\n<path fill=\"none\" stroke=\"#000000\" d=\"M3924.84,-348.8116C3905.3483,-334.7969 3877.7392,-314.9458 3856.9419,-299.9923\"/>\n<polygon fill=\"#000000\" stroke=\"#000000\" points=\"3858.935,-297.1146 3848.7726,-294.1185 3854.8485,-302.798 3858.935,-297.1146\"/>\n<text text-anchor=\"middle\" x=\"3914.2457\" y=\"-318.8\" font-family=\"Times,serif\" font-size=\"14.00\" fill=\"#000000\">grainy</text>\n</g>\n<!-- malign_lymph55 -->\n<g id=\"node65\" class=\"node\">\n<title>malign_lymph55</title>\n<ellipse fill=\"none\" stroke=\"#000000\" cx=\"3948.7457\" cy=\"-279\" rx=\"65.7887\" ry=\"18\"/>\n<text text-anchor=\"middle\" x=\"3948.7457\" y=\"-275.3\" font-family=\"Times,serif\" font-size=\"14.00\" fill=\"#000000\">malign_lymph</text>\n</g>\n<!-- changes_in_stru53&#45;&gt;malign_lymph55 -->\n<g id=\"edge64\" class=\"edge\">\n<title>changes_in_stru53&#45;&gt;malign_lymph55</title>\n<path fill=\"none\" stroke=\"#000000\" d=\"M3948.7457,-347.9735C3948.7457,-336.1918 3948.7457,-320.5607 3948.7457,-307.1581\"/>\n<polygon fill=\"#000000\" stroke=\"#000000\" points=\"3952.2458,-307.0033 3948.7457,-297.0034 3945.2458,-307.0034 3952.2458,-307.0033\"/>\n<text text-anchor=\"middle\" x=\"3971.7457\" y=\"-318.8\" font-family=\"Times,serif\" font-size=\"14.00\" fill=\"#000000\">stripped</text>\n</g>\n<!-- normal56 -->\n<g id=\"node66\" class=\"node\">\n<title>normal56</title>\n<ellipse fill=\"none\" stroke=\"#000000\" cx=\"4069.7457\" cy=\"-279\" rx=\"37.0935\" ry=\"18\"/>\n<text text-anchor=\"middle\" x=\"4069.7457\" y=\"-275.3\" font-family=\"Times,serif\" font-size=\"14.00\" fill=\"#000000\">normal</text>\n</g>\n<!-- changes_in_stru53&#45;&gt;normal56 -->\n<g id=\"edge65\" class=\"edge\">\n<title>changes_in_stru53&#45;&gt;normal56</title>\n<path fill=\"none\" stroke=\"#000000\" d=\"M3972.6514,-348.8116C3992.143,-334.7969 4019.7521,-314.9458 4040.5495,-299.9923\"/>\n<polygon fill=\"#000000\" stroke=\"#000000\" points=\"4042.6428,-302.798 4048.7188,-294.1185 4038.5564,-297.1146 4042.6428,-302.798\"/>\n<text text-anchor=\"middle\" x=\"4024.7457\" y=\"-318.8\" font-family=\"Times,serif\" font-size=\"14.00\" fill=\"#000000\">no</text>\n</g>\n<!-- metastases57 -->\n<g id=\"node67\" class=\"node\">\n<title>metastases57</title>\n<ellipse fill=\"none\" stroke=\"#000000\" cx=\"4173.7457\" cy=\"-279\" rx=\"48.9926\" ry=\"18\"/>\n<text text-anchor=\"middle\" x=\"4173.7457\" y=\"-275.3\" font-family=\"Times,serif\" font-size=\"14.00\" fill=\"#000000\">metastases</text>\n</g>\n<!-- changes_in_stru53&#45;&gt;metastases57 -->\n<g id=\"edge66\" class=\"edge\">\n<title>changes_in_stru53&#45;&gt;metastases57</title>\n<path fill=\"none\" stroke=\"#000000\" d=\"M3987.9377,-350.8458C4027.6852,-335.4767 4089.0572,-311.7462 4130.2759,-295.8083\"/>\n<polygon fill=\"#000000\" stroke=\"#000000\" points=\"4131.7144,-299.0047 4139.7792,-292.1337 4129.1898,-292.4758 4131.7144,-299.0047\"/>\n<text text-anchor=\"middle\" x=\"4102.7457\" y=\"-318.8\" font-family=\"Times,serif\" font-size=\"14.00\" fill=\"#000000\">drop_like</text>\n</g>\n</g>\n</svg>\n"
          },
          "metadata": {},
          "execution_count": 152
        }
      ]
    },
    {
      "cell_type": "code",
      "source": [
        "y_train_pred=d.predict(df)\n",
        "print(accuracy_score(df[target_name].tolist(),y_train_pred))"
      ],
      "metadata": {
        "colab": {
          "base_uri": "https://localhost:8080/"
        },
        "id": "wezEMJKSaPGk",
        "outputId": "aaf4fd85-72a6-4643-b21a-381e4e4733a5"
      },
      "execution_count": 153,
      "outputs": [
        {
          "output_type": "stream",
          "name": "stdout",
          "text": [
            "100.0\n"
          ]
        }
      ]
    },
    {
      "cell_type": "code",
      "source": [
        "y_test_pred=d.predict(test_df)\n",
        "accuracy_score(test_df[target_name].tolist(),y_test_pred)"
      ],
      "metadata": {
        "colab": {
          "base_uri": "https://localhost:8080/"
        },
        "id": "RSOE1rffadSx",
        "outputId": "4009eb88-5192-4700-a919-a9a3b45a8a6c"
      },
      "execution_count": 154,
      "outputs": [
        {
          "output_type": "execute_result",
          "data": {
            "text/plain": [
              "86.36363636363636"
            ]
          },
          "metadata": {},
          "execution_count": 154
        }
      ]
    }
  ]
}